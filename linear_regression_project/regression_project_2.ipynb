{
 "cells": [
  {
   "cell_type": "code",
   "execution_count": 1,
   "metadata": {},
   "outputs": [],
   "source": [
    "pd.options.display.max_rows = 9999\n",
    "pd.options.display.max_columns = 9999\n",
    "\n",
    "import re\n",
    "import sys\n",
    "import missingno as msno\n",
    "import matplotlib.pyplot as plt\n",
    "from matplotlib import rc\n",
    "import seaborn as sns\n",
    "from PIL import Image\n",
    "from functools import reduce\n",
    "from sklearn.linear_model import LogisticRegression\n",
    "from sklearn.model_selection import train_test_split\n",
    "from sklearn.tree import DecisionTreeClassifier\n",
    "from sklearn.preprocessing import RobustScaler\n",
    "from sklearn.metrics import confusion_matrix\n",
    "from sklearn.metrics import precision_score\n",
    "import statsmodels.api as sm\n",
    "\n",
    "mod = sys.modules[__name__]\n",
    "%matplotlib inline\n",
    "rc('font', family='AppleGothic')\n",
    "plt.rcParams['axes.unicode_minus'] = False"
   ]
  },
  {
   "cell_type": "markdown",
   "metadata": {},
   "source": [
    "배경지식 ESG\n",
    "\n",
    "E-환경\n",
    "S-사회\n",
    "G-지배구조\n",
    "\n",
    "ESG이란 원래 사회적인 책임을 지는 기업들의 환경과 사회, 지배구조 등 공공이익을 강조한 특수한 목적을 띄는 요소으로, \n",
    "기업이 공공의 이익에 기여함을 강조하는 유럽에서의 장기적인 성장에 중요한 요소로 생각하고 있으며, \n",
    "이를 활성화 시키기 장기투자펀드(ELTIF) 확대 및 사회적 기업 활성화 방안 모색을 통해 기업의 ESG 투자 활성화를 꾀함\n"
   ]
  },
  {
   "cell_type": "markdown",
   "metadata": {},
   "source": [
    "유럽 공기업을 대상으로한 연구 결과\n",
    "\n",
    "'Our findings suggest that ESG performance, especially concerning social and governance metrics, \n",
    " meaningfully affects credit ratings.' (Devalle, Alain & Fiandrino, Simona & Cantino Valter, 2017, Conclusion.)\n",
    " \n",
    "재무지표와 ESG 지표를 사용해 분석을 하였고 ESG가 신용평가에 유의미한 영향을 준다는 것으로 결론을 내림\n",
    "\n",
    "Logistics regression 모델 사용 \n",
    "   (환경)Env_Innov_Sc - 0.021 \n",
    "\n",
    "   (사회)Community_Sc - 0.001\n",
    "\n",
    "   (지배구조)Product_Resp_Sc - 0.037\n",
    "   (지배구조)Shareholder_Sc - 0.001\n",
    " "
   ]
  },
  {
   "cell_type": "markdown",
   "metadata": {},
   "source": [
    "한국에서의 ESG\n",
    "\n",
    "신평사들은 ESG를 기업 신용등급에 영향을 주는 주요한 평가 요소로 별도 반영하는 것에는 조심스러운 반응이다\n",
    "\n",
    "국내 신용평가사는 ESG 일부 요소가 이미 신용등급에 반영돼 있다는 입장이다. \n",
    "실제로 지배구조(G)가 취약한 기업의 경우 신용등급 산정 시 해당 요소가 부정적으로 작용한다.\n",
    "\n",
    "'08~14년까지의 데이터를 보아 E는 음의 관계, S는 관계성이 낮고, G는 양의 관계를 가짐'\n",
    "(Han et al. Asian Journal of Sustainability and Social Responsibility, 2016)\n",
    "\n",
    "\n",
    "'연구 결과로는 ESG가 신용평가에 영향을 미치며 기업의 규모에 따라 조금 다르게 영향을 미칠 수 있음'\n",
    "(ESG Scores and the Credit Market, 25 March 2020)\n",
    "\n",
    "방향성으로는 ESG가 관계가 있다고 생각을 하고 현재까지의 데이터를 가지고 영향력의 유무를 분석하려고 하기위함"
   ]
  },
  {
   "cell_type": "markdown",
   "metadata": {},
   "source": [
    "독립변수\n",
    "\n",
    "재무지표\n",
    "\n",
    "기업의 신용을 결정 할 때는 그 기업의 자산에 부채가 얼만큼 차지하는지 그 부채를 상환 할 수 있는 능력이 어떻게 되는지를 고려\n",
    "\n",
    "    부채총계: 총 빌린돈\n",
    "    자산총계: 기업의 자본과 부채의 총합 EX) 내 진짜 재산과 부채 또는 융자  \n",
    "\n",
    "    매출액: 새전 벌어드린 금액\n",
    "    당기순이익: 기업의 당기에 벌어들인 이익금 EX) 세후 연봉 \n",
    "    \n",
    "    운전자본: 회사가 운영되는데 필요한 돈 \n",
    "        유동자산: 당기에 상환해야 될 빌린돈과 현금화가 빠른 자산의 총계\n",
    "        재고자산: 아직 상품화하지 못한 자산 EX)아직 팔지 못한 물건들 또는 재료 \n",
    "        \n",
    "    유보액 :기업 활동을 하고 남은 처분 가능한 금액 EX) 다쓰고 남은돈 \n",
    "        \n",
    "선정기준: 분식회계 기업들의 더 좋은 신용평가를 받기위해 주로 조정하는 계정과목 \n",
    "\n",
    "    Using Financial Statement Data to Identify Factors Associated with Fraudulent Financial reporting\n",
    "    -OS Persons 저술 - ‎1995\n",
    "\n",
    "ESG지표 \n",
    "-E,S,G,ESG의 각 점수 ( KCGS : 한국기업지배구조원)"
   ]
  },
  {
   "cell_type": "markdown",
   "metadata": {},
   "source": [
    "신용평가 등급(종속변수) \n",
    "- 11년부터 20년까지, D등급 부터 AAA까지\n",
    "\n",
    "신용평가 점수 변화= 각 재무지표 + ESG지표"
   ]
  },
  {
   "cell_type": "markdown",
   "metadata": {},
   "source": [
    "ESG 지표와 각 재무지표들을 x의 독립변수로 산정, 신용등급을 독립변수로 지정함 \n",
    "\n",
    "처음에는 단순하게 각 독립변수에 변동 비율만을 적용을 하여 분석을 하였으나 아웃라이어가 크게 나오고,\n",
    "\n",
    "편차가 매우큼, 양적인 영향력을 반영 할 수 없어 \n",
    "\n",
    "재무지표의 비율을 자산총계 분으로 백분위화 하여 일괄 적용"
   ]
  },
  {
   "cell_type": "code",
   "execution_count": 90,
   "metadata": {},
   "outputs": [
    {
     "data": {
      "text/html": [
       "<div>\n",
       "<style scoped>\n",
       "    .dataframe tbody tr th:only-of-type {\n",
       "        vertical-align: middle;\n",
       "    }\n",
       "\n",
       "    .dataframe tbody tr th {\n",
       "        vertical-align: top;\n",
       "    }\n",
       "\n",
       "    .dataframe thead th {\n",
       "        text-align: right;\n",
       "    }\n",
       "</style>\n",
       "<table border=\"1\" class=\"dataframe\">\n",
       "  <thead>\n",
       "    <tr style=\"text-align: right;\">\n",
       "      <th></th>\n",
       "      <th>Unnamed: 0</th>\n",
       "      <th>평가회사</th>\n",
       "      <th>평가대상회사</th>\n",
       "      <th>평가대상종류</th>\n",
       "      <th>공시일자</th>\n",
       "      <th>평가등급</th>\n",
       "      <th>등급감시</th>\n",
       "      <th>등급전망</th>\n",
       "    </tr>\n",
       "  </thead>\n",
       "  <tbody>\n",
       "    <tr>\n",
       "      <th>0</th>\n",
       "      <td>1</td>\n",
       "      <td>한국기업평가</td>\n",
       "      <td>삼성엔지니어링(주)</td>\n",
       "      <td>본평가</td>\n",
       "      <td>2020-01-02</td>\n",
       "      <td>A-</td>\n",
       "      <td>NaN</td>\n",
       "      <td>안정적</td>\n",
       "    </tr>\n",
       "    <tr>\n",
       "      <th>1</th>\n",
       "      <td>2</td>\n",
       "      <td>한국기업평가</td>\n",
       "      <td>삼화페인트공업(주)</td>\n",
       "      <td>수시평가</td>\n",
       "      <td>2020-01-02</td>\n",
       "      <td>BBB+</td>\n",
       "      <td>NaN</td>\n",
       "      <td>안정적</td>\n",
       "    </tr>\n",
       "    <tr>\n",
       "      <th>2</th>\n",
       "      <td>3</td>\n",
       "      <td>나이스신용평가</td>\n",
       "      <td>예금보험공사</td>\n",
       "      <td>본평가</td>\n",
       "      <td>2020-01-08</td>\n",
       "      <td>AAA</td>\n",
       "      <td>NaN</td>\n",
       "      <td>안정적</td>\n",
       "    </tr>\n",
       "    <tr>\n",
       "      <th>3</th>\n",
       "      <td>4</td>\n",
       "      <td>한국기업평가</td>\n",
       "      <td>에스케이증권(주)</td>\n",
       "      <td>본평가</td>\n",
       "      <td>2020-01-09</td>\n",
       "      <td>A</td>\n",
       "      <td>NaN</td>\n",
       "      <td>안정적</td>\n",
       "    </tr>\n",
       "    <tr>\n",
       "      <th>4</th>\n",
       "      <td>5</td>\n",
       "      <td>한국기업평가</td>\n",
       "      <td>우리종합금융(주)</td>\n",
       "      <td>본평가 (정정)</td>\n",
       "      <td>2020-01-09</td>\n",
       "      <td>A</td>\n",
       "      <td>NaN</td>\n",
       "      <td>안정적</td>\n",
       "    </tr>\n",
       "  </tbody>\n",
       "</table>\n",
       "</div>"
      ],
      "text/plain": [
       "   Unnamed: 0     평가회사      평가대상회사    평가대상종류       공시일자  평가등급 등급감시 등급전망\n",
       "0           1   한국기업평가  삼성엔지니어링(주)       본평가 2020-01-02    A-  NaN  안정적\n",
       "1           2   한국기업평가  삼화페인트공업(주)      수시평가 2020-01-02  BBB+  NaN  안정적\n",
       "2           3  나이스신용평가      예금보험공사       본평가 2020-01-08   AAA  NaN  안정적\n",
       "3           4   한국기업평가   에스케이증권(주)       본평가 2020-01-09     A  NaN  안정적\n",
       "4           5   한국기업평가   우리종합금융(주)  본평가 (정정) 2020-01-09     A  NaN  안정적"
      ]
     },
     "execution_count": 90,
     "metadata": {},
     "output_type": "execute_result"
    }
   ],
   "source": [
    "df_credit_2020 = pd.read_excel(\"2020_credit_rating.xlsx\")\n",
    "df_credit_2020.head()"
   ]
  },
  {
   "cell_type": "code",
   "execution_count": 91,
   "metadata": {},
   "outputs": [],
   "source": [
    "#기업신용평가 데이터 테이블을 전처리 및 점수 데이터를 정수화 시켜주는 함수입니다\n",
    "credit_dlist={\"D\":0,\"C-\":1,\"C\":2,\"C+\":3,\"CC-\":4,\"CC\":5,\"CC+\":6,\"CCC-\":7,\"CCC\":8,\"CCC+\":9,\n",
    "              \"B-\":10,\"B\":11,\"B+\":12,\"BB-\":13,\"BB\":14,\"BB+\":15,\"BBB-\":16,\"BBB\":17,\"BBB+\":18,\n",
    "              \"A-\":19,\"A\":20,\"A+\":21,\"AA-\":22,\"AA\":23,\"AA+\":24,\"AAA-\":25,\"AAA\":26,\"AAA+\":27}\n",
    "\n",
    "\n",
    "def screen_name(df):\n",
    "    df = df.rename(columns = {\"평가대상회사\":\"기업명\"})\n",
    "    df = df[[\"기업명\",\"공시일자\",\"평가등급\"]]\n",
    "    df[\"공시일자\"] = df[\"공시일자\"].apply(lambda x: int(str(x)[:4]))\n",
    "    df[\"평가등급\"][df[\"평가등급\"] == \"취소\"] = np.nan\n",
    "    df[\"기업명\"] = df[\"기업명\"].apply(lambda x: str(x).replace(\"(주)\",\"\"))\n",
    "    df = df.dropna()\n",
    "    df = df.drop_duplicates(['기업명'],keep=\"last\").reset_index(drop=True)\n",
    "    df['평가등급'] = df['평가등급'].apply(credit_dlist.get)\n",
    "    return df"
   ]
  },
  {
   "cell_type": "code",
   "execution_count": 92,
   "metadata": {},
   "outputs": [
    {
     "name": "stderr",
     "output_type": "stream",
     "text": [
      "/Users/yeonghwanchoi/opt/anaconda3/lib/python3.7/site-packages/ipykernel_launcher.py:11: SettingWithCopyWarning: \n",
      "A value is trying to be set on a copy of a slice from a DataFrame\n",
      "\n",
      "See the caveats in the documentation: https://pandas.pydata.org/pandas-docs/stable/user_guide/indexing.html#returning-a-view-versus-a-copy\n",
      "  # This is added back by InteractiveShellApp.init_path()\n"
     ]
    }
   ],
   "source": [
    "#기업 신용평가 점수(2017~2020) 데이터를 부르고 위 함수를 적용합니다\n",
    "credit_ls_2017_2020= [\"2017_credit_rating.xlsx\",\"2018_credit_rating.xlsx\",\n",
    "            \"2019_credit_rating.xlsx\",\"2020_credit_rating.xlsx\"]\n",
    "    \n",
    "for a in credit_ls_2017_2020:\n",
    "    regex = re.compile(r'\\d\\d\\d\\d')\n",
    "    b = regex.search(a).group() \n",
    "    setattr(mod, 'df_credit_{}'.format(b), screen_name(pd.read_excel(a)))\n",
    "\n",
    "# df_credit_2017,df_credit_2018,df_credit_2019,df_credit_2020"
   ]
  },
  {
   "cell_type": "markdown",
   "metadata": {},
   "source": []
  },
  {
   "cell_type": "code",
   "execution_count": 95,
   "metadata": {},
   "outputs": [],
   "source": [
    "df_2013_2016_credit = pd.read_excel(\"2013-2016_credit_rating.xlsx\")"
   ]
  },
  {
   "cell_type": "code",
   "execution_count": 134,
   "metadata": {},
   "outputs": [
    {
     "name": "stderr",
     "output_type": "stream",
     "text": [
      "/Users/yeonghwanchoi/opt/anaconda3/lib/python3.7/site-packages/ipykernel_launcher.py:11: SettingWithCopyWarning: \n",
      "A value is trying to be set on a copy of a slice from a DataFrame\n",
      "\n",
      "See the caveats in the documentation: https://pandas.pydata.org/pandas-docs/stable/user_guide/indexing.html#returning-a-view-versus-a-copy\n",
      "  # This is added back by InteractiveShellApp.init_path()\n"
     ]
    }
   ],
   "source": [
    "#2013년 부터 2016년까지 신용평가 점수 데이터를 불러오고 각 년도에 맞게 데이터프레임을 분활합니다\n",
    "# def credit_2013_2016(a=\"2013-2016_credit_rating.xlsx\"):\n",
    "df_2013_2016_credit = pd.read_excel(\"2013-2016_credit_rating.xlsx\")\n",
    "df_2013_2016_credit.columns = [\"Unnamed\", \"평가회사\",\"기업명\",\"평가\",\"평가대상종류\",\"공시일자\",\"평가등급\",\"등급감시\",\"등급전망\"]\n",
    "df_2013_2016_credit[\"공시일자\"] = df_2013_2016_credit[\"공시일자\"].apply(lambda x: int(str(x)[:4]))\n",
    "\n",
    "for i in range(2013,2017):\n",
    "    setattr(mod, 'df_credit_{}'.format(i),screen_name(df_2013_2016_credit[df_2013_2016_credit[\"공시일자\"] == i]))\n",
    "\n",
    "            \n",
    "# df_credit_2013 = screen_name(df_2013_2016_credit[df_2013_2016_credit[\"공시일자\"] == 2013])\n",
    "# df_credit_2014 = screen_name(df_2013_2016_credit[df_2013_2016_credit[\"공시일자\"] == 2014])\n",
    "# df_credit_2015 = screen_name(df_2013_2016_credit[df_2013_2016_credit[\"공시일자\"] == 2015])\n",
    "# df_credit_2016 = screen_name(df_2013_2016_credit[df_2013_2016_credit[\"공시일자\"] == 2016])\n",
    "    \n",
    "#     return df_credit_2013,df_credit_2014,df_credit_2015,df_credit_2016\n",
    "    "
   ]
  },
  {
   "cell_type": "code",
   "execution_count": 135,
   "metadata": {},
   "outputs": [
    {
     "ename": "SyntaxError",
     "evalue": "invalid syntax (<ipython-input-135-b86c274f9498>, line 6)",
     "output_type": "error",
     "traceback": [
      "\u001b[0;36m  File \u001b[0;32m\"<ipython-input-135-b86c274f9498>\"\u001b[0;36m, line \u001b[0;32m6\u001b[0m\n\u001b[0;31m    return df_n[[\"기업명\",\"Point\"]]\u001b[0m\n\u001b[0m         ^\u001b[0m\n\u001b[0;31mSyntaxError\u001b[0m\u001b[0;31m:\u001b[0m invalid syntax\n"
     ]
    }
   ],
   "source": [
    "def give_point(df1, df2): \n",
    "    df_n = pd.merge(df1, df2, on = \"기업명\", how = \"inner\").dropna()\n",
    "    df_n[\"Point\"] = df_n[\"평가등급_x\"] - df_n[\"평가등급_y\"]\n",
    "    df_n[\"Point\"][df_n[\"Point\"].values != 0] =1\n",
    "    df_n = pd.merge(df_n, df_credit_2014, on = \"기업명\", how=\"inner\"\n",
    "    return df_n[[\"기업명\",\"Point\"]]"
   ]
  },
  {
   "cell_type": "code",
   "execution_count": 107,
   "metadata": {},
   "outputs": [
    {
     "name": "stderr",
     "output_type": "stream",
     "text": [
      "/Users/yeonghwanchoi/opt/anaconda3/lib/python3.7/site-packages/ipykernel_launcher.py:4: SettingWithCopyWarning: \n",
      "A value is trying to be set on a copy of a slice from a DataFrame\n",
      "\n",
      "See the caveats in the documentation: https://pandas.pydata.org/pandas-docs/stable/user_guide/indexing.html#returning-a-view-versus-a-copy\n",
      "  after removing the cwd from sys.path.\n"
     ]
    }
   ],
   "source": [
    "\n",
    "df_2014 = give_point(df_credit_2013,df_credit_2014)\n",
    "df_2015 = give_point(df_credit_2014,df_credit_2015)\n",
    "df_2016 = give_point(df_credit_2015,df_credit_2016)\n",
    "df_2017 = give_point(df_credit_2016,df_credit_2017)\n",
    "df_2018 = give_point(df_credit_2017,df_credit_2018)\n",
    "df_2019 = give_point(df_credit_2018,df_credit_2019)\n",
    "df_2020 = give_point(df_credit_2019,df_credit_2020)"
   ]
  },
  {
   "cell_type": "code",
   "execution_count": 108,
   "metadata": {},
   "outputs": [],
   "source": [
    "df_credit_2014 = df_2014\n",
    "df_credit_2015 = df_2015\n",
    "df_credit_2016 = df_2016\n",
    "df_credit_2017 = df_2017\n",
    "df_credit_2018 = df_2018\n",
    "df_credit_2019 = df_2019\n",
    "df_credit_2020 = df_2020"
   ]
  },
  {
   "cell_type": "code",
   "execution_count": 110,
   "metadata": {},
   "outputs": [
    {
     "data": {
      "text/html": [
       "<div>\n",
       "<style scoped>\n",
       "    .dataframe tbody tr th:only-of-type {\n",
       "        vertical-align: middle;\n",
       "    }\n",
       "\n",
       "    .dataframe tbody tr th {\n",
       "        vertical-align: top;\n",
       "    }\n",
       "\n",
       "    .dataframe thead th {\n",
       "        text-align: right;\n",
       "    }\n",
       "</style>\n",
       "<table border=\"1\" class=\"dataframe\">\n",
       "  <thead>\n",
       "    <tr style=\"text-align: right;\">\n",
       "      <th></th>\n",
       "      <th>NO</th>\n",
       "      <th>기업명</th>\n",
       "      <th>기업코드</th>\n",
       "      <th>ESG등급</th>\n",
       "      <th>지배구조</th>\n",
       "      <th>사회</th>\n",
       "      <th>환경</th>\n",
       "      <th>평가년도</th>\n",
       "      <th>비고</th>\n",
       "    </tr>\n",
       "  </thead>\n",
       "  <tbody>\n",
       "    <tr>\n",
       "      <th>0</th>\n",
       "      <td>6567</td>\n",
       "      <td>AJ네트웍스</td>\n",
       "      <td>95570</td>\n",
       "      <td>B</td>\n",
       "      <td>B</td>\n",
       "      <td>B</td>\n",
       "      <td>C이하</td>\n",
       "      <td>2019</td>\n",
       "      <td>NaN</td>\n",
       "    </tr>\n",
       "    <tr>\n",
       "      <th>1</th>\n",
       "      <td>6566</td>\n",
       "      <td>AJ렌터카</td>\n",
       "      <td>68400</td>\n",
       "      <td>C이하</td>\n",
       "      <td>C</td>\n",
       "      <td>B</td>\n",
       "      <td>B</td>\n",
       "      <td>2019</td>\n",
       "      <td>NaN</td>\n",
       "    </tr>\n",
       "    <tr>\n",
       "      <th>2</th>\n",
       "      <td>6565</td>\n",
       "      <td>AK홀딩스</td>\n",
       "      <td>6840</td>\n",
       "      <td>B</td>\n",
       "      <td>B</td>\n",
       "      <td>B</td>\n",
       "      <td>C이하</td>\n",
       "      <td>2019</td>\n",
       "      <td>NaN</td>\n",
       "    </tr>\n",
       "    <tr>\n",
       "      <th>3</th>\n",
       "      <td>6564</td>\n",
       "      <td>AP시스템</td>\n",
       "      <td>265520</td>\n",
       "      <td>C이하</td>\n",
       "      <td>B</td>\n",
       "      <td>C이하</td>\n",
       "      <td>C이하</td>\n",
       "      <td>2019</td>\n",
       "      <td>NaN</td>\n",
       "    </tr>\n",
       "    <tr>\n",
       "      <th>4</th>\n",
       "      <td>6563</td>\n",
       "      <td>BGF</td>\n",
       "      <td>27410</td>\n",
       "      <td>B</td>\n",
       "      <td>B</td>\n",
       "      <td>A</td>\n",
       "      <td>C이하</td>\n",
       "      <td>2019</td>\n",
       "      <td>NaN</td>\n",
       "    </tr>\n",
       "  </tbody>\n",
       "</table>\n",
       "</div>"
      ],
      "text/plain": [
       "     NO     기업명    기업코드 ESG등급 지배구조   사회   환경  평가년도   비고\n",
       "0  6567  AJ네트웍스   95570     B    B    B  C이하  2019  NaN\n",
       "1  6566   AJ렌터카   68400   C이하    C    B    B  2019  NaN\n",
       "2  6565   AK홀딩스    6840     B    B    B  C이하  2019  NaN\n",
       "3  6564   AP시스템  265520   C이하    B  C이하  C이하  2019  NaN\n",
       "4  6563     BGF   27410     B    B    A  C이하  2019  NaN"
      ]
     },
     "execution_count": 110,
     "metadata": {},
     "output_type": "execute_result"
    }
   ],
   "source": [
    "df_esg = pd.read_csv(\"2011-2019-ESG.tsv\", sep='\\t')\n",
    "df_esg.head()"
   ]
  },
  {
   "cell_type": "code",
   "execution_count": 111,
   "metadata": {},
   "outputs": [],
   "source": [
    "#기업코드 6자리로 앞자리 \"0\"부여하고 ESG등급 숫자 치환\n",
    "\n",
    "df_esg = df_esg.drop(['NO', '비고'], axis=1).dropna()\n",
    "df_esg[\"기업코드\"] = df_esg[\"기업코드\"].astype(str)\n",
    "df_esg.기업코드 = df_esg.기업코드.apply(lambda x: x.zfill(6))\n",
    "di = {\"S\":70.0,\"A+\":60.0,\"A\":50.0,\"B+\":40.0,\"B\":30.0,\"B이하\":30.0,\"C\":20.0,\"C이하\":20.0,\"D\":10.0}\n",
    "esg = map(di.get, df_esg.ESG등급)\n",
    "e = map(di.get, df_esg.지배구조)\n",
    "s = map(di.get, df_esg.ESG등급)\n",
    "g = map(di.get, df_esg.ESG등급)\n",
    "df_esg.ESG등급 = list(esg)\n",
    "df_esg.지배구조 = list(e)\n",
    "df_esg.사회 = list(s)\n",
    "df_esg.환경 = list(g)"
   ]
  },
  {
   "cell_type": "code",
   "execution_count": 112,
   "metadata": {},
   "outputs": [],
   "source": [
    "#esg 평가데이터를 평가년도에 맞게 각 데이터 프레임으로 분활해 줍니다\n",
    "for i in range(2011,2020):\n",
    "    setattr(mod, 'df_esg_{}'.format(i),df_esg[df_esg[\"평가년도\"]==i])"
   ]
  },
  {
   "cell_type": "code",
   "execution_count": 26,
   "metadata": {},
   "outputs": [
    {
     "data": {
      "text/plain": [
       "<seaborn.axisgrid.FacetGrid at 0x7f87303ae2d0>"
      ]
     },
     "execution_count": 26,
     "metadata": {},
     "output_type": "execute_result"
    },
    {
     "data": {
      "text/plain": [
       "<Figure size 7200x7200 with 0 Axes>"
      ]
     },
     "metadata": {},
     "output_type": "display_data"
    },
    {
     "data": {
      "image/png": "[encoded data removed]",
      "text/plain": [
       "<Figure size 423.5x360 with 1 Axes>"
      ]
     },
     "metadata": {
      "needs_background": "light"
     },
     "output_type": "display_data"
    }
   ],
   "source": [
    "import seaborn as sns\n",
    "plt.figure(figsize=(100,100))\n",
    "sns.catplot(x=\"기업명\", y=\"ESG등급\",\n",
    "                hue=\"평가년도\",\n",
    "                data=df_esg.tail(50), kind=\"bar\")"
   ]
  },
  {
   "cell_type": "code",
   "execution_count": 115,
   "metadata": {},
   "outputs": [],
   "source": [
    "#기업들의 년도별 각 계정과목들을 변수로 만들어줍니다\n",
    "df_f = [\"당기순이익.xlsx\",\"자산총계.xlsx\",\"매출액.xlsx\",\"재고자산.xlsx\",\"유보액_총자산.xlsx\",\"비유동부채.xlsx\",\"유동부채.xlsx\",\"유동자산.xlsx\"]\n",
    "\n",
    "def change_columns(df):\n",
    "    columns = [\"종목코드\",\"기업명\",\"결산월\",\"단위\",\"2019\",\"2018\",\"2017\",\"2016\",\"2015\",\"2014\",\"2013\",\"2012\",\"2011\",\"2010\",\"2009\",\"2008\"]\n",
    "    df.columns = columns\n",
    "    df = df.rename(columns = {\"종목코드\":\"기업코드\"})\n",
    "    return df\n",
    "\n",
    "for i in range(1,9):\n",
    "    setattr(mod, 'df_balance_{}'.format(i), change_columns(pd.read_excel(df_f[i-1])[9:]))\n",
    "    "
   ]
  },
  {
   "cell_type": "code",
   "execution_count": 116,
   "metadata": {},
   "outputs": [
    {
     "data": {
      "text/plain": [
       "<seaborn.axisgrid.FacetGrid at 0x7f8731e451d0>"
      ]
     },
     "execution_count": 116,
     "metadata": {},
     "output_type": "execute_result"
    },
    {
     "data": {
      "text/plain": [
       "<Figure size 3600x5040 with 0 Axes>"
      ]
     },
     "metadata": {},
     "output_type": "display_data"
    },
    {
     "data": {
      "image/png": "[encoded data removed]",
      "text/plain": [
       "<Figure size 476x360 with 1 Axes>"
      ]
     },
     "metadata": {
      "needs_background": "light"
     },
     "output_type": "display_data"
    }
   ],
   "source": [
    "plt.figure(figsize=(50,70))\n",
    "sns.catplot(x=\"2018\", y=\"2019\",\n",
    "                hue=\"기업명\",\n",
    "                data=df_balance_1.head(10), kind=\"bar\")"
   ]
  },
  {
   "cell_type": "code",
   "execution_count": 117,
   "metadata": {},
   "outputs": [],
   "source": [
    "#각 년도별 기업들의 신용평가 점수, esg점수, 계정과목을 리스트에 담아놓았습니다 \n",
    "list_credit = [df_credit_2013,df_credit_2014,df_credit_2015,df_credit_2016,df_credit_2017,\n",
    "             df_credit_2018,df_credit_2019]\n",
    "\n",
    "list_esg = [df_esg_2011,df_esg_2012,df_esg_2013,df_esg_2014,df_esg_2015,df_esg_2016,\n",
    "            df_esg_2017,df_esg_2018,df_esg_2019]\n",
    "\n",
    "# 순서대로 당기순이익,자산총계,매출액,재고자산,유보액총자산\",\"비유동부채\",유동부채,유동자산\n",
    "list_balance = [df_balance_1,df_balance_2,df_balance_3,df_balance_4,df_balance_5,\n",
    "               df_balance_6,df_balance_7,df_balance_8,]"
   ]
  },
  {
   "cell_type": "code",
   "execution_count": 119,
   "metadata": {},
   "outputs": [],
   "source": [
    "#기업명만 있는 신용평가 데이터를 ESG데이터에 기업명이 같은 데이터로만 병합를 시킵니다\n",
    "def merge_code(dfa,dfb):\n",
    "    dfb = dfb[[\"기업코드\",\"기업명\"]][dfb[\"기업명\"].isin(dfa[\"기업명\"])]\n",
    "    dfa = pd.merge(dfa,dfb, on=\"기업명\",how=\"inner\")\n",
    "    return dfa\n",
    "\n",
    "for i in range(2013,2020):\n",
    "    setattr(mod, 'df_rating_{}'.format(i), merge_code(list_credit[i-2013],list_esg[i-2013]))\n",
    "\n",
    "# 그 후 각 년도별 계정 데이터프레임에 있는 기업들 중 신용평가 점수와 esg점수가 있는 기업별로 묶어줍니다\n",
    "for k in range(2011, 2020):\n",
    "    for i in range(1,9):\n",
    "        setattr(mod, 'df_{}_{}'.format(k,i), pd.DataFrame(list_balance[i-1].iloc[:,[0,2023-k]]))\n"
   ]
  },
  {
   "cell_type": "code",
   "execution_count": 126,
   "metadata": {},
   "outputs": [],
   "source": [
    "#각 재무재표 계정명들을 기업코드를 기준으로 합병 시켜줍니다\n",
    "df_columns = [\"기업코드\",\"당기순이익\",\"자산총계\",\"매출액\",\"재고자산\",\"유보액_총자산\",\"비유동부채\",\"유동부채\",\"유동자산\"]\n",
    "\n",
    "data_frames_2011 = [df_2011_1,df_2011_2,df_2011_3,df_2011_4,df_2011_5,df_2011_6,df_2011_7,df_2011_8,]#df_2011_9,df_2011_10,df_2011_11,]\n",
    "data_frames_2012 = [df_2012_1,df_2012_2,df_2012_3,df_2012_4,df_2012_5,df_2012_6,df_2012_7,df_2012_8,]#df_2012_9,df_2012_10,df_2012_11,]\n",
    "data_frames_2013 = [df_2013_1,df_2013_2,df_2013_3,df_2013_4,df_2013_5,df_2013_6,df_2013_7,df_2013_8,]#df_2013_9,df_2013_10,df_2013_11,]\n",
    "data_frames_2014 = [df_2014_1,df_2014_2,df_2014_3,df_2014_4,df_2014_5,df_2014_6,df_2014_7,df_2014_8,]#df_2014_9,df_2014_10,df_2014_11,]\n",
    "data_frames_2015 = [df_2015_1,df_2015_2,df_2015_3,df_2015_4,df_2015_5,df_2015_6,df_2015_7,df_2015_8,]#df_2015_9,df_2015_10,df_2015_11,]\n",
    "data_frames_2016 = [df_2016_1,df_2016_2,df_2016_3,df_2016_4,df_2016_5,df_2016_6,df_2016_7,df_2016_8,]#df_2016_9,df_2016_10,df_2016_11,]\n",
    "data_frames_2017 = [df_2017_1,df_2017_2,df_2017_3,df_2017_4,df_2017_5,df_2017_6,df_2017_7,df_2017_8,]#df_2017_9,df_2017_10,df_2017_11,]\n",
    "data_frames_2018 = [df_2018_1,df_2018_2,df_2018_3,df_2018_4,df_2018_5,df_2018_6,df_2018_7,df_2018_8,]#df_2018_9,df_2018_10,df_2018_11,]\n",
    "data_frames_2019 = [df_2019_1,df_2019_2,df_2019_3,df_2019_4,df_2019_5,df_2019_6,df_2019_7,df_2019_8,]#df_2019_9,df_2019_10,df_2019_11,]\n",
    "\n",
    "\n",
    "def merge(a):\n",
    "    a=reduce(lambda left,right: pd.merge(left,right,on=['기업코드'], how='inner'), data_frames_2012).dropna()\n",
    "    a=df_columns\n",
    "merge_list=[data_frames_2011,data_frames_2012,data_frames_2013,data_frames_2014,data_frames_2015,\n",
    "        data_frames_2016,data_frames_2017,data_frames_2018,data_frames_2019]\n",
    "def merge_apply(a):\n",
    "    for i in merge_list\n",
    "        merge(i)\n",
    "# merge(data_frames_2011)\n",
    "# merge(data_frames_2012)\n",
    "# merge(data_frames_2013)\n",
    "# merge(data_frames_2014)\n",
    "# merge(data_frames_2015)\n",
    "# merge(data_frames_2016)\n",
    "# merge(data_frames_2017)\n",
    "# merge(data_frames_2018)\n",
    "# merge(data_frames_2019)\n"
   ]
  },
  {
   "cell_type": "code",
   "execution_count": 57,
   "metadata": {},
   "outputs": [
    {
     "data": {
      "text/html": [
       "<div>\n",
       "<style scoped>\n",
       "    .dataframe tbody tr th:only-of-type {\n",
       "        vertical-align: middle;\n",
       "    }\n",
       "\n",
       "    .dataframe tbody tr th {\n",
       "        vertical-align: top;\n",
       "    }\n",
       "\n",
       "    .dataframe thead th {\n",
       "        text-align: right;\n",
       "    }\n",
       "</style>\n",
       "<table border=\"1\" class=\"dataframe\">\n",
       "  <thead>\n",
       "    <tr style=\"text-align: right;\">\n",
       "      <th></th>\n",
       "      <th>Unnamed: 0</th>\n",
       "      <th>기업명</th>\n",
       "      <th>DATE</th>\n",
       "      <th>매출채권회전율</th>\n",
       "    </tr>\n",
       "  </thead>\n",
       "  <tbody>\n",
       "    <tr>\n",
       "      <th>9</th>\n",
       "      <td>0</td>\n",
       "      <td>강남제비스코</td>\n",
       "      <td>2011</td>\n",
       "      <td>0.202332</td>\n",
       "    </tr>\n",
       "    <tr>\n",
       "      <th>18</th>\n",
       "      <td>0</td>\n",
       "      <td>강원랜드</td>\n",
       "      <td>2011</td>\n",
       "      <td>0.003415</td>\n",
       "    </tr>\n",
       "    <tr>\n",
       "      <th>45</th>\n",
       "      <td>0</td>\n",
       "      <td>경동나비엔</td>\n",
       "      <td>2011</td>\n",
       "      <td>0.091347</td>\n",
       "    </tr>\n",
       "    <tr>\n",
       "      <th>58</th>\n",
       "      <td>0</td>\n",
       "      <td>경동인베스트</td>\n",
       "      <td>2011</td>\n",
       "      <td>0.156648</td>\n",
       "    </tr>\n",
       "    <tr>\n",
       "      <th>67</th>\n",
       "      <td>0</td>\n",
       "      <td>경방</td>\n",
       "      <td>2011</td>\n",
       "      <td>0.091764</td>\n",
       "    </tr>\n",
       "  </tbody>\n",
       "</table>\n",
       "</div>"
      ],
      "text/plain": [
       "    Unnamed: 0     기업명  DATE   매출채권회전율\n",
       "9            0  강남제비스코  2011  0.202332\n",
       "18           0    강원랜드  2011  0.003415\n",
       "45           0   경동나비엔  2011  0.091347\n",
       "58           0  경동인베스트  2011  0.156648\n",
       "67           0      경방  2011  0.091764"
      ]
     },
     "execution_count": 57,
     "metadata": {},
     "output_type": "execute_result"
    }
   ],
   "source": [
    "# df_m = pd.read_excel(\"매출채권회전율.xlsx\").rename(columns={\"name\":\"기업명\"})\n",
    "# df_m[\"매출채권회전율\"] = df_m[\"매출채권회전율\"].apply(lambda x : np.reciprocal(x))\n",
    "# for i in range(2011,2020):\n",
    "#         setattr(mod, 'df_m_{}'.format(i), df_m[df_m[\"DATE\"]==i].replace(\"(주)\",\"\").dropna())\n",
    "# df_m_2011.head()"
   ]
  },
  {
   "cell_type": "code",
   "execution_count": 58,
   "metadata": {},
   "outputs": [],
   "source": [
    "# m_list = [df_m_2011, df_m_2012, df_m_2013, df_m_2014, df_m_2015, df_m_2016, df_m_2017, df_m_2018, df_m_2019,]"
   ]
  },
  {
   "cell_type": "code",
   "execution_count": 59,
   "metadata": {},
   "outputs": [],
   "source": [
    "#  for i in range(2011,2020):\n",
    "#         setattr(mod, 'df_m_{}'.format(i), pd.merge(m_list[i-2011], df_balance_2, on=\"기업명\", how=\"inner\").drop_duplicates(['기업명'],keep=\"last\").reset_index(drop=True).iloc[:,3:5] )"
   ]
  },
  {
   "cell_type": "code",
   "execution_count": 60,
   "metadata": {},
   "outputs": [],
   "source": [
    "# merged_list = [df_merged_2011,df_merged_2012,df_merged_2013,df_merged_2014,df_merged_2015,df_merged_2016,df_merged_2017,df_merged_2018,df_merged_2019]"
   ]
  },
  {
   "cell_type": "code",
   "execution_count": 61,
   "metadata": {},
   "outputs": [],
   "source": [
    "# m_list = [df_m_2011, df_m_2012, df_m_2013, df_m_2014, df_m_2015, df_m_2016, df_m_2017, df_m_2018, df_m_2019,]"
   ]
  },
  {
   "cell_type": "code",
   "execution_count": 62,
   "metadata": {},
   "outputs": [],
   "source": [
    "# for i in range(2011,2020):\n",
    "#          setattr(mod, 'df_merged_{}'.format(i), pd.merge(m_list[i-2011], merged_list[i-2011], on='기업코드', how='inner'))"
   ]
  },
  {
   "cell_type": "code",
   "execution_count": 128,
   "metadata": {},
   "outputs": [],
   "source": [
    "df_ls = [df_merged_2011, df_merged_2012, df_merged_2013, df_merged_2014,\\\n",
    "        df_merged_2015, df_merged_2016, df_merged_2017, df_merged_2018,\\\n",
    "        df_merged_2019]"
   ]
  },
  {
   "cell_type": "code",
   "execution_count": 131,
   "metadata": {},
   "outputs": [],
   "source": [
    "def test(df):\n",
    "    df[\"부채총계\"] = df[\"유동부채\"] + df[\"비유동부채\"]\n",
    "    df[\"운전자본\"] = df_merged_2011[\"유동자산\"] - df[\"유동부채\"]\n",
    "    df[\"당기순이익_총자산\"] = df[\"당기순이익\"] / df[\"자산총계\"]\n",
    "    df[\"부채총계_총자산\"] = df[\"부채총계\"] / df[\"자산총계\"]\n",
    "    df[\"운전자본_총자산\"] = df[\"운전자본\"] / df[\"자산총계\"]\n",
    "    df[\"유동자산_총자산\"] = df[\"유동자산\"] / df[\"자산총계\"]\n",
    "    df[\"매출액_총자산\"] = df[\"매출액\"] / df[\"자산총계\"]\n",
    "    df[\"재고자산_총자산\"] = df[\"재고자산\"] / df[\"자산총계\"]\n",
    "    df[\"매출채권_총자산\"] = (df[\"매출채권회전율\"] * df[\"매출액\"])/ df[\"자산총계\"]\n",
    "    return df\n",
    "\n",
    "def test2 ():\n",
    "    for df in df_ls:\n",
    "        test(df)"
   ]
  },
  {
   "cell_type": "code",
   "execution_count": 130,
   "metadata": {},
   "outputs": [],
   "source": []
  },
  {
   "cell_type": "code",
   "execution_count": null,
   "metadata": {},
   "outputs": [],
   "source": [
    "# df_merged_2011[\"부채총계\"] = df_merged_2011[\"유동부채\"] + df_merged_2011[\"비유동부채\"]\n",
    "# df_merged_2011[\"운전자본\"] = df_merged_2011[\"유동자산\"] - df_merged_2011[\"유동부채\"]\n",
    "# df_merged_2011[\"당기순이익_총자산\"] = df_merged_2011[\"당기순이익\"] / df_merged_2011[\"자산총계\"]\n",
    "# df_merged_2011[\"부채총계_총자산\"] = df_merged_2011[\"부채총계\"] / df_merged_2011[\"자산총계\"]\n",
    "# df_merged_2011[\"운전자본_총자산\"] = df_merged_2011[\"운전자본\"] / df_merged_2011[\"자산총계\"]\n",
    "# df_merged_2011[\"유동자산_총자산\"] = df_merged_2011[\"유동자산\"] / df_merged_2011[\"자산총계\"]\n",
    "# df_merged_2011[\"매출액_총자산\"] = df_merged_2011[\"매출액\"] / df_merged_2011[\"자산총계\"]\n",
    "# df_merged_2011[\"재고자산_총자산\"] = df_merged_2011[\"재고자산\"] / df_merged_2011[\"자산총계\"]\n",
    "# df_merged_2011[\"매출채권_총자산\"] = (df_merged_2011[\"매출채권회전율\"] * df_merged_2011[\"매출액\"])/ df_merged_2011[\"자산총계\"]\n",
    "\n",
    "# df_merged_2012[\"부채총계\"] = df_merged_2012[\"유동부채\"] + df_merged_2012[\"비유동부채\"]\n",
    "# df_merged_2012[\"운전자본\"] = df_merged_2012[\"유동자산\"] - df_merged_2012[\"유동부채\"]\n",
    "# df_merged_2012[\"당기순이익_총자산\"] = df_merged_2012[\"당기순이익\"] / df_merged_2012[\"자산총계\"]\n",
    "# df_merged_2012[\"부채총계_총자산\"] = df_merged_2012[\"부채총계\"] / df_merged_2012[\"자산총계\"]\n",
    "# df_merged_2012[\"운전자본_총자산\"] = df_merged_2012[\"운전자본\"] / df_merged_2012[\"자산총계\"]\n",
    "# df_merged_2012[\"유동자산_총자산\"] = df_merged_2012[\"유동자산\"] / df_merged_2012[\"자산총계\"]\n",
    "# df_merged_2012[\"매출액_총자산\"] = df_merged_2012[\"매출액\"] / df_merged_2012[\"자산총계\"]\n",
    "# df_merged_2012[\"재고자산_총자산\"] = df_merged_2012[\"재고자산\"] / df_merged_2012[\"자산총계\"]\n",
    "# df_merged_2012[\"매출채권_총자산\"] = (df_merged_2012[\"매출채권회전율\"] * df_merged_2012[\"매출액\"])/ df_merged_2012[\"자산총계\"]\n",
    "\n",
    "# df_merged_2013[\"부채총계\"] = df_merged_2013[\"유동부채\"] + df_merged_2013[\"비유동부채\"]\n",
    "# df_merged_2013[\"운전자본\"] = df_merged_2013[\"유동자산\"] - df_merged_2013[\"유동부채\"]\n",
    "# df_merged_2013[\"당기순이익_총자산\"] = df_merged_2013[\"당기순이익\"] / df_merged_2013[\"자산총계\"]\n",
    "# df_merged_2013[\"부채총계_총자산\"] = df_merged_2013[\"부채총계\"] / df_merged_2013[\"자산총계\"]\n",
    "# df_merged_2013[\"운전자본_총자산\"] = df_merged_2013[\"운전자본\"] / df_merged_2013[\"자산총계\"]\n",
    "# df_merged_2013[\"유동자산_총자산\"] = df_merged_2013[\"유동자산\"] / df_merged_2013[\"자산총계\"]\n",
    "# df_merged_2013[\"매출액_총자산\"] = df_merged_2013[\"매출액\"] / df_merged_2013[\"자산총계\"]\n",
    "# df_merged_2013[\"재고자산_총자산\"] = df_merged_2013[\"재고자산\"] / df_merged_2013[\"자산총계\"]\n",
    "# df_merged_2013[\"매출채권_총자산\"] = (df_merged_2013[\"매출채권회전율\"] * df_merged_2013[\"매출액\"])/ df_merged_2013[\"자산총계\"]\n",
    "\n",
    "# df_merged_2014[\"부채총계\"] = df_merged_2014[\"유동부채\"] + df_merged_2014[\"비유동부채\"]\n",
    "# df_merged_2014[\"운전자본\"] = df_merged_2014[\"유동자산\"] - df_merged_2014[\"유동부채\"]\n",
    "# df_merged_2014[\"당기순이익_총자산\"] = df_merged_2014[\"당기순이익\"] / df_merged_2014[\"자산총계\"]\n",
    "# df_merged_2014[\"부채총계_총자산\"] = df_merged_2014[\"부채총계\"] / df_merged_2014[\"자산총계\"]\n",
    "# df_merged_2014[\"운전자본_총자산\"] = df_merged_2014[\"운전자본\"] / df_merged_2014[\"자산총계\"]\n",
    "# df_merged_2014[\"유동자산_총자산\"] = df_merged_2014[\"유동자산\"] / df_merged_2014[\"자산총계\"]\n",
    "# df_merged_2014[\"매출액_총자산\"] = df_merged_2014[\"매출액\"] / df_merged_2014[\"자산총계\"]\n",
    "# df_merged_2014[\"재고자산_총자산\"] = df_merged_2014[\"재고자산\"] / df_merged_2014[\"자산총계\"]\n",
    "# df_merged_2014[\"매출채권_총자산\"] = (df_merged_2014[\"매출채권회전율\"] * df_merged_2014[\"매출액\"])/ df_merged_2014[\"자산총계\"]\n",
    "\n",
    "# df_merged_2015[\"부채총계\"] = df_merged_2015[\"유동부채\"] + df_merged_2015[\"비유동부채\"]\n",
    "# df_merged_2015[\"운전자본\"] = df_merged_2015[\"유동자산\"] - df_merged_2015[\"유동부채\"]\n",
    "# df_merged_2015[\"당기순이익_총자산\"] = df_merged_2015[\"당기순이익\"] / df_merged_2015[\"자산총계\"]\n",
    "# df_merged_2015[\"부채총계_총자산\"] = df_merged_2015[\"부채총계\"] / df_merged_2015[\"자산총계\"]\n",
    "# df_merged_2015[\"운전자본_총자산\"] = df_merged_2015[\"운전자본\"] / df_merged_2015[\"자산총계\"]\n",
    "# df_merged_2015[\"유동자산_총자산\"] = df_merged_2015[\"유동자산\"] / df_merged_2015[\"자산총계\"]\n",
    "# df_merged_2015[\"매출액_총자산\"] = df_merged_2015[\"매출액\"] / df_merged_2015[\"자산총계\"]\n",
    "# df_merged_2015[\"재고자산_총자산\"] = df_merged_2015[\"재고자산\"] / df_merged_2015[\"자산총계\"]\n",
    "# df_merged_2015[\"매출채권_총자산\"] = (df_merged_2015[\"매출채권회전율\"] * df_merged_2015[\"매출액\"])/ df_merged_2015[\"자산총계\"]\n",
    "\n",
    "# df_merged_2016[\"부채총계\"] = df_merged_2016[\"유동부채\"] + df_merged_2016[\"비유동부채\"]\n",
    "# df_merged_2016[\"운전자본\"] = df_merged_2016[\"유동자산\"] - df_merged_2016[\"유동부채\"]\n",
    "# df_merged_2016[\"당기순이익_총자산\"] = df_merged_2016[\"당기순이익\"] / df_merged_2016[\"자산총계\"]\n",
    "# df_merged_2016[\"부채총계_총자산\"] = df_merged_2016[\"부채총계\"] / df_merged_2016[\"자산총계\"]\n",
    "# df_merged_2016[\"운전자본_총자산\"] = df_merged_2016[\"운전자본\"] / df_merged_2016[\"자산총계\"]\n",
    "# df_merged_2016[\"유동자산_총자산\"] = df_merged_2016[\"유동자산\"] / df_merged_2016[\"자산총계\"]\n",
    "# df_merged_2016[\"매출액_총자산\"] = df_merged_2016[\"매출액\"] / df_merged_2016[\"자산총계\"]\n",
    "# df_merged_2016[\"재고자산_총자산\"] = df_merged_2016[\"재고자산\"] / df_merged_2016[\"자산총계\"]\n",
    "# df_merged_2016[\"매출채권_총자산\"] = (df_merged_2016[\"매출채권회전율\"] * df_merged_2016[\"매출액\"])/ df_merged_2016[\"자산총계\"]\n",
    "\n",
    "# df_merged_2017[\"부채총계\"] = df_merged_2017[\"유동부채\"] + df_merged_2017[\"비유동부채\"]\n",
    "# df_merged_2017[\"운전자본\"] = df_merged_2017[\"유동자산\"] - df_merged_2017[\"유동부채\"]\n",
    "# df_merged_2017[\"당기순이익_총자산\"] = df_merged_2017[\"당기순이익\"] / df_merged_2017[\"자산총계\"]\n",
    "# df_merged_2017[\"부채총계_총자산\"] = df_merged_2017[\"부채총계\"] / df_merged_2017[\"자산총계\"]\n",
    "# df_merged_2017[\"운전자본_총자산\"] = df_merged_2017[\"운전자본\"] / df_merged_2017[\"자산총계\"]\n",
    "# df_merged_2017[\"유동자산_총자산\"] = df_merged_2017[\"유동자산\"] / df_merged_2017[\"자산총계\"]\n",
    "# df_merged_2017[\"매출액_총자산\"] = df_merged_2017[\"매출액\"] / df_merged_2017[\"자산총계\"]\n",
    "# df_merged_2017[\"재고자산_총자산\"] = df_merged_2017[\"재고자산\"] / df_merged_2017[\"자산총계\"]\n",
    "# df_merged_2017[\"매출채권_총자산\"] = (df_merged_2017[\"매출채권회전율\"] * df_merged_2017[\"매출액\"])/ df_merged_2017[\"자산총계\"]\n",
    "\n",
    "# df_merged_2018[\"부채총계\"] = df_merged_2018[\"유동부채\"] + df_merged_2018[\"비유동부채\"]\n",
    "# df_merged_2018[\"운전자본\"] = df_merged_2018[\"유동자산\"] - df_merged_2018[\"유동부채\"]\n",
    "# df_merged_2018[\"당기순이익_총자산\"] = df_merged_2018[\"당기순이익\"] / df_merged_2018[\"자산총계\"]\n",
    "# df_merged_2018[\"부채총계_총자산\"] = df_merged_2018[\"부채총계\"] / df_merged_2018[\"자산총계\"]\n",
    "# df_merged_2018[\"운전자본_총자산\"] = df_merged_2018[\"운전자본\"] / df_merged_2018[\"자산총계\"]\n",
    "# df_merged_2018[\"유동자산_총자산\"] = df_merged_2018[\"유동자산\"] / df_merged_2018[\"자산총계\"]\n",
    "# df_merged_2018[\"매출액_총자산\"] = df_merged_2018[\"매출액\"] / df_merged_2018[\"자산총계\"]\n",
    "# df_merged_2018[\"재고자산_총자산\"] = df_merged_2018[\"재고자산\"] / df_merged_2018[\"자산총계\"]\n",
    "# df_merged_2018[\"매출채권_총자산\"] = (df_merged_2018[\"매출채권회전율\"] * df_merged_2018[\"매출액\"])/ df_merged_2018[\"자산총계\"]\n",
    "\n",
    "# df_merged_2019[\"부채총계\"] = df_merged_2019[\"유동부채\"] + df_merged_2019[\"비유동부채\"]\n",
    "# df_merged_2019[\"운전자본\"] = df_merged_2019[\"유동자산\"] - df_merged_2019[\"유동부채\"]\n",
    "# df_merged_2019[\"당기순이익_총자산\"] = df_merged_2019[\"당기순이익\"] / df_merged_2019[\"자산총계\"]\n",
    "# df_merged_2019[\"부채총계_총자산\"] = df_merged_2019[\"부채총계\"] / df_merged_2019[\"자산총계\"]\n",
    "# df_merged_2019[\"운전자본_총자산\"] = df_merged_2019[\"운전자본\"] / df_merged_2019[\"자산총계\"]\n",
    "# df_merged_2019[\"유동자산_총자산\"] = df_merged_2019[\"유동자산\"] / df_merged_2019[\"자산총계\"]\n",
    "# df_merged_2019[\"매출액_총자산\"] = df_merged_2019[\"매출액\"] / df_merged_2019[\"자산총계\"]\n",
    "# df_merged_2019[\"재고자산_총자산\"] = df_merged_2019[\"재고자산\"] / df_merged_2019[\"자산총계\"]\n",
    "# df_merged_2019[\"매출채권_총자산\"] = (df_merged_2019[\"매출채권회전율\"] * df_merged_2019[\"매출액\"])/ df_merged_2019[\"자산총계\"]"
   ]
  },
  {
   "cell_type": "code",
   "execution_count": 140,
   "metadata": {},
   "outputs": [],
   "source": [
    "\n",
    "    \n",
    "data_frames_a_2011 = [df_merged_2011,df_esg_2011]\n",
    "df_merged_b_2011 = reduce(lambda left,right: pd.merge(left,right,on=['기업코드'], how='inner'), data_frames_a_2011).dropna()\n",
    "\n",
    "data_frames_a_2012 = [df_merged_2012,df_esg_2012]\n",
    "df_merged_b_2012 = reduce(lambda left,right: pd.merge(left,right,on=['기업코드'], how='inner'), data_frames_a_2012).dropna()\n",
    "\n",
    "data_frames_a_2013 = [df_merged_2013,df_esg_2013]\n",
    "df_merged_b_2013 = reduce(lambda left,right: pd.merge(left,right,on=['기업코드'], how='inner'), data_frames_a_2013).dropna()\n",
    "\n",
    "data_frames_a_2014 = [df_merged_2014,df_esg_2014]\n",
    "df_merged_b_2014 = reduce(lambda left,right: pd.merge(left,right,on=['기업코드'], how='inner'), data_frames_a_2014).dropna()\n",
    "\n",
    "data_frames_a_2015 = [df_merged_2015,df_esg_2015]\n",
    "df_merged_b_2015 = reduce(lambda left,right: pd.merge(left,right,on=['기업코드'], how='inner'), data_frames_a_2015).dropna()\n",
    "\n",
    "data_frames_a_2016 = [df_merged_2016,df_esg_2016]\n",
    "df_merged_b_2016 = reduce(lambda left,right: pd.merge(left,right,on=['기업코드'], how='inner'), data_frames_a_2016).dropna()\n",
    "\n",
    "data_frames_a_2017 = [df_merged_2017,df_esg_2017]\n",
    "df_merged_b_2017 = reduce(lambda left,right: pd.merge(left,right,on=['기업코드'], how='inner'), data_frames_a_2017).dropna()\n",
    "\n",
    "data_frames_a_2018 = [df_merged_2018,df_esg_2018]\n",
    "df_merged_b_2018 = reduce(lambda left,right: pd.merge(left,right,on=['기업코드'], how='inner'), data_frames_a_2018).dropna()\n",
    "\n",
    "data_frames_a_2019 = [df_merged_2019,df_esg_2019]\n",
    "df_merged_b_2019 = reduce(lambda left,right: pd.merge(left,right,on=['기업코드'], how='inner'), data_frames_a_2019).dropna()"
   ]
  },
  {
   "cell_type": "code",
   "execution_count": 141,
   "metadata": {},
   "outputs": [],
   "source": [
    "df_merged_list=[df_merged_b_2011,df_merged_b_2012,df_merged_b_2013,df_merged_b_2014,\n",
    "                df_merged_b_2015,df_merged_b_2016,df_merged_b_2017,df_merged_b_2018,df_merged_b_2019]\n",
    "def df_merged_iloc(a):\n",
    "    a=a.iloc[:,[1,6,12,13,14,15,16,17,18,20,21,22,23]]\n",
    "def apply_iloc(a):\n",
    "    for a in df_merged_list:\n",
    "        df_merge_iloc(a)\n",
    "\n",
    "\n",
    "# df_merged_b_2011 = df_merged_b_2011.iloc[:,[1,6,12,13,14,15,16,17,18,20,21,22,23]]#.rename(columns={\"자산총계\":\"자산총계\"})\n",
    "# df_merged_b_2012 = df_merged_b_2012.iloc[:,[1,6,12,13,14,15,16,17,18,20,21,22,23]]#.rename(columns={\"자산총계\":\"자산총계\"})\n",
    "# df_merged_b_2013 = df_merged_b_2013.iloc[:,[1,6,12,13,14,15,16,17,18,20,21,22,23]]#.rename(columns={\"자산총계\":\"자산총계\"})\n",
    "# df_merged_b_2014 = df_merged_b_2014.iloc[:,[1,6,12,13,14,15,16,17,18,20,21,22,23]]#.rename(columns={\"자산총계\":\"자산총계\"})\n",
    "# df_merged_b_2015 = df_merged_b_2015.iloc[:,[1,6,12,13,14,15,16,17,18,20,21,22,23]]#.rename(columns={\"자산총계\":\"자산총계\"})\n",
    "# df_merged_b_2016 = df_merged_b_2016.iloc[:,[1,6,12,13,14,15,16,17,18,20,21,22,23]]#.rename(columns={\"자산총계\":\"자산총계\"})\n",
    "# df_merged_b_2017 = df_merged_b_2017.iloc[:,[1,6,12,13,14,15,16,17,18,20,21,22,23]]#.rename(columns={\"자산총계\":\"자산총계\"})\n",
    "# df_merged_b_2018 = df_merged_b_2018.iloc[:,[1,6,12,13,14,15,16,17,18,20,21,22,23]]#.rename(columns={\"자산총계\":\"자산총계\"})\n",
    "# df_merged_b_2019 = df_merged_b_2019.iloc[:,[1,6,12,13,14,15,16,17,18,20,21,22,23]]#.rename(columns={\"자산총계\":\"자산총계\"})\n",
    "# df_merged_z_2013 = df_merged_b_2013[df_merged_b_2013[\"기업코드\"].isin(list(set(df_merged_b_2011[\"기업코드\"])&set(df_merged_b_2013[\"기업코드\"])&set(df_merged_b_2012[\"기업코드\"])))].reset_index(drop=True)\n",
    "# df_merged_z_2012 = df_merged_b_2012[df_merged_b_2012[\"기업코드\"].isin(list(set(df_merged_b_2011[\"기업코드\"])&set(df_merged_b_2013[\"기업코드\"])&set(df_merged_b_2012[\"기업코드\"])))].reset_index(drop=True)\n",
    "# df_merged_z_2011 = df_merged_b_2011[df_merged_b_2011[\"기업코드\"].isin(list(set(df_merged_b_2011[\"기업코드\"])&set(df_merged_b_2013[\"기업코드\"])&set(df_merged_b_2012[\"기업코드\"])))].reset_index(drop=True)\n",
    "# df_merged_z_2014 = df_merged_b_2014[df_merged_b_2014[\"기업코드\"].isin(list(set(df_merged_b_2014[\"기업코드\"])&set(df_merged_b_2013[\"기업코드\"])&set(df_merged_b_2012[\"기업코드\"])))].reset_index(drop=True)"
   ]
  },
  {
   "cell_type": "code",
   "execution_count": 142,
   "metadata": {},
   "outputs": [
    {
     "data": {
      "text/plain": [
       "9"
      ]
     },
     "execution_count": 142,
     "metadata": {},
     "output_type": "execute_result"
    }
   ],
   "source": [
    "len(df_merged_list)"
   ]
  },
  {
   "cell_type": "code",
   "execution_count": null,
   "metadata": {},
   "outputs": [],
   "source": []
  },
  {
   "cell_type": "code",
   "execution_count": null,
   "metadata": {},
   "outputs": [],
   "source": [
    "def df_merged_z(a=df_merged_list):\n",
    "    for i in df_merged_list\n",
    "        if i == 7:\n",
    "            break\n",
    "        df_merged_list[i+2]=a[a[]]\n",
    "         = df_merged_b_2013[df_merged_b_2013[\"기업코드\"].isin(list(set(df_merged_b_2011[\"기업코드\"])&set(df_merged_b_2013[\"기업코드\"])&set(df_merged_b_2012[\"기업코드\"])))].reset_index(drop=True)\n"
   ]
  },
  {
   "cell_type": "code",
   "execution_count": null,
   "metadata": {},
   "outputs": [],
   "source": []
  },
  {
   "cell_type": "code",
   "execution_count": null,
   "metadata": {
    "scrolled": true
   },
   "outputs": [],
   "source": [
    "print(len(df_merged_z_2014))\n",
    "print(len(df_merged_z_2013))\n",
    "print(len(df_merged_z_2012))"
   ]
  },
  {
   "cell_type": "code",
   "execution_count": null,
   "metadata": {},
   "outputs": [],
   "source": [
    "df_merged_b_2014.columns"
   ]
  },
  {
   "cell_type": "code",
   "execution_count": null,
   "metadata": {},
   "outputs": [],
   "source": [
    "df_merged_c_2014 = pd.DataFrame(columns=df_merged_b_2014.columns)\n",
    "df_merged_c_2014[\"기업코드\"] = df_merged_z_2014[\"기업코드\"]\n",
    "# df_merged_c_2014['자산총계'] = ((df_merged_z_2014['자산총계'] + df_merged_z_2013['자산총계'])/2 -(df_merged_z_2013['자산총계'] + df_merged_z_2012['자산총계'])/2)\\\n",
    "#                                     / np.abs((df_merged_z_2013['자산총계'] + df_merged_z_2012['자산총계'])/2)\n",
    "df_merged_c_2014['유보액_총자산'] = ((df_merged_z_2014['유보액_총자산'] + df_merged_z_2013['유보액_총자산'])/2 -(df_merged_z_2013['유보액_총자산'] + df_merged_z_2012['유보액_총자산'])/2)\\\n",
    "                                    / np.abs((df_merged_z_2013['유보액_총자산'] + df_merged_z_2012['유보액_총자산'])/2)\n",
    "df_merged_c_2014['당기순이익_총자산'] = ((df_merged_z_2014['당기순이익_총자산'] + df_merged_z_2013['당기순이익_총자산'])/2 -(df_merged_z_2013['당기순이익_총자산'] + df_merged_z_2012['당기순이익_총자산'])/2)\\\n",
    "                                    / np.abs((df_merged_z_2013['당기순이익_총자산'] + df_merged_z_2012['당기순이익_총자산'])/2)\n",
    "df_merged_c_2014['부채총계_총자산'] = ((df_merged_z_2014['부채총계_총자산'] + df_merged_z_2013['부채총계_총자산'])/2 -(df_merged_z_2013['부채총계_총자산'] + df_merged_z_2012['부채총계_총자산'])/2)\\\n",
    "                                    / np.abs((df_merged_z_2013['부채총계_총자산'] + df_merged_z_2012['부채총계_총자산'])/2)\n",
    "df_merged_c_2014['운전자본_총자산'] = ((df_merged_z_2014['운전자본_총자산'] + df_merged_z_2013['운전자본_총자산'])/2 -(df_merged_z_2013['운전자본_총자산'] + df_merged_z_2012['운전자본_총자산'])/2)\\\n",
    "                                    / np.abs((df_merged_z_2013['운전자본_총자산'] + df_merged_z_2012['운전자본_총자산'])/2)\n",
    "df_merged_c_2014['매출액_총자산'] = ((df_merged_z_2014['매출액_총자산'] + df_merged_z_2013['매출액_총자산'])/2 -(df_merged_z_2013['매출액_총자산'] + df_merged_z_2012['매출액_총자산'])/2)\\\n",
    "                                    / np.abs((df_merged_z_2013['매출액_총자산'] + df_merged_z_2012['매출액_총자산'])/2)\n",
    "df_merged_c_2014['재고자산_총자산'] = ((df_merged_z_2014['재고자산_총자산'] + df_merged_z_2013['재고자산_총자산'])/2 -(df_merged_z_2013['재고자산_총자산'] + df_merged_z_2012['재고자산_총자산'])/2)\\\n",
    "                                    / np.abs((df_merged_z_2013['재고자산_총자산'] + df_merged_z_2012['재고자산_총자산'])/2)\n",
    "df_merged_c_2014['유동자산_총자산'] = ((df_merged_z_2014['유동자산_총자산'] + df_merged_z_2013['유동자산_총자산'])/2 -(df_merged_z_2013['유동자산_총자산'] + df_merged_z_2012['유동자산_총자산'])/2)\\\n",
    "                                    / np.abs((df_merged_z_2013['유동자산_총자산'] + df_merged_z_2012['유동자산_총자산'])/2)\n",
    "df_merged_c_2014['매출채권_총자산'] = ((df_merged_z_2014['매출채권_총자산'] + df_merged_z_2013['매출채권_총자산'])/2 -(df_merged_z_2013['매출채권_총자산'] + df_merged_z_2012['매출채권_총자산'])/2)\\\n",
    "                                    / np.abs((df_merged_z_2013['매출채권_총자산'] + df_merged_z_2012['매출채권_총자산'])/2)\n",
    "df_merged_c_2014['ESG등급'] = (df_merged_z_2014['ESG등급'] + df_merged_z_2013['ESG등급'])/2 -  (df_merged_z_2013['ESG등급'] + df_merged_z_2012['ESG등급'])/2\n",
    "df_merged_c_2014['지배구조'] = (df_merged_z_2014['지배구조'] + df_merged_z_2013['지배구조'])/2 - (df_merged_z_2013['지배구조'] + df_merged_z_2012['지배구조'])/2\n",
    "df_merged_c_2014['사회'] = (df_merged_z_2014['사회'] + df_merged_z_2013['사회'])/2 - (df_merged_z_2013['사회'] + df_merged_z_2012['사회'])/2\n",
    "df_merged_c_2014['환경'] = (df_merged_z_2014['환경'] + df_merged_z_2013['환경'])/2 - (df_merged_z_2013['환경'] +df_merged_z_2012['환경'])/2"
   ]
  },
  {
   "cell_type": "code",
   "execution_count": null,
   "metadata": {},
   "outputs": [],
   "source": [
    "df_total_2015 = pd.merge(df_rating_2015,df_merged_c_2014.dropna(), on=\"기업코드\", how=\"inner\")"
   ]
  },
  {
   "cell_type": "code",
   "execution_count": null,
   "metadata": {},
   "outputs": [],
   "source": [
    "df_total_2015.describe()"
   ]
  },
  {
   "cell_type": "code",
   "execution_count": null,
   "metadata": {},
   "outputs": [],
   "source": [
    "# df_kospi_2015 = df_total_2015[df_total_2015[\"기업코드\"].isin(kospi_2015)]"
   ]
  },
  {
   "cell_type": "code",
   "execution_count": null,
   "metadata": {},
   "outputs": [],
   "source": [
    "import seaborn as sns\n",
    "plt.figure(figsize=(20,5))\n",
    "sns.boxplot(\n",
    "    data=df_total_2015,\n",
    "    x='평가등급',\n",
    "    y='ESG등급',\n",
    "    color='red')"
   ]
  },
  {
   "cell_type": "code",
   "execution_count": null,
   "metadata": {},
   "outputs": [],
   "source": []
  },
  {
   "cell_type": "code",
   "execution_count": null,
   "metadata": {},
   "outputs": [],
   "source": [
    "df_merged_c_2015 = pd.DataFrame(columns=df_merged_b_2014.columns)\n",
    "df_merged_c_2015[\"기업코드\"] = df_merged_z_2015[\"기업코드\"]\n",
    "# df_merged_c_2015['자산총계'] = ((df_merged_z_2015['자산총계'] + df_merged_z_2014['자산총계'])/2 -(df_merged_z_2014['자산총계'] + df_merged_z_2013['자산총계'])/2)\\\n",
    "#                                     / np.abs((df_merged_z_2014['자산총계'] + df_merged_z_2013['자산총계'])/2)\n",
    "df_merged_c_2015['유보액_총자산'] = ((df_merged_z_2015['유보액_총자산'] + df_merged_z_2014['유보액_총자산'])/2 -(df_merged_z_2014['유보액_총자산'] + df_merged_z_2013['유보액_총자산'])/2)\\\n",
    "                                    / np.abs((df_merged_z_2014['유보액_총자산'] + df_merged_z_2013['유보액_총자산'])/2)\n",
    "df_merged_c_2015['당기순이익_총자산'] = ((df_merged_z_2015['당기순이익_총자산'] + df_merged_z_2014['당기순이익_총자산'])/2 -(df_merged_z_2014['당기순이익_총자산'] + df_merged_z_2013['당기순이익_총자산'])/2)\\\n",
    "                                    / np.abs((df_merged_z_2014['당기순이익_총자산'] + df_merged_z_2013['당기순이익_총자산'])/2)\n",
    "df_merged_c_2015['부채총계_총자산'] = ((df_merged_z_2015['부채총계_총자산'] + df_merged_z_2014['부채총계_총자산'])/2 -(df_merged_z_2014['부채총계_총자산'] + df_merged_z_2013['부채총계_총자산'])/2)\\\n",
    "                                    / np.abs((df_merged_z_2014['부채총계_총자산'] + df_merged_z_2013['부채총계_총자산'])/2)\n",
    "df_merged_c_2015['운전자본_총자산'] = ((df_merged_z_2014['운전자본_총자산'] + df_merged_z_2013['운전자본_총자산'])/2 -(df_merged_z_2014['운전자본_총자산'] + df_merged_z_2013['운전자본_총자산'])/2)\\\n",
    "                                    / np.abs((df_merged_z_2014['운전자본_총자산'] + df_merged_z_2013['운전자본_총자산'])/2)\n",
    "df_merged_c_2015['매출액_총자산'] = ((df_merged_z_2015['매출액_총자산'] + df_merged_z_2014['매출액_총자산'])/2 -(df_merged_z_2014['매출액_총자산'] + df_merged_z_2013['매출액_총자산'])/2)\\\n",
    "                                    / np.abs((df_merged_z_2014['매출액_총자산'] + df_merged_z_2013['매출액_총자산'])/2)\n",
    "df_merged_c_2015['재고자산_총자산'] = ((df_merged_z_2015['재고자산_총자산'] + df_merged_z_2014['재고자산_총자산'])/2 -(df_merged_z_2014['재고자산_총자산'] + df_merged_z_2013['재고자산_총자산'])/2)\\\n",
    "                                    / np.abs((df_merged_z_2014['재고자산_총자산'] + df_merged_z_2013['재고자산_총자산'])/2)\n",
    "df_merged_c_2015['유동자산_총자산'] = ((df_merged_z_2015['유동자산_총자산'] + df_merged_z_2014['유동자산_총자산'])/2 -(df_merged_z_2014['유동자산_총자산'] + df_merged_z_2013['유동자산_총자산'])/2)\\\n",
    "                                    / np.abs((df_merged_z_2014['유동자산_총자산'] + df_merged_z_2013['유동자산_총자산'])/2)\n",
    "df_merged_c_2015['매출채권_총자산'] = ((df_merged_z_2015['매출채권_총자산'] + df_merged_z_2014['매출채권_총자산'])/2 -(df_merged_z_2014['매출채권_총자산'] + df_merged_z_2013['매출채권_총자산'])/2)\\\n",
    "                                    / np.abs((df_merged_z_2014['매출채권_총자산'] + df_merged_z_2013['매출채권_총자산'])/2)\n",
    "df_merged_c_2015['ESG등급'] = (df_merged_z_2015['ESG등급'] + df_merged_z_2014['ESG등급'])/2 -  (df_merged_z_2014['ESG등급'] + df_merged_z_2013['ESG등급'])/2\n",
    "df_merged_c_2015['지배구조'] = (df_merged_z_2015['지배구조'] + df_merged_z_2014['지배구조'])/2 - (df_merged_z_2014['지배구조'] + df_merged_z_2013['지배구조'])/2\n",
    "df_merged_c_2015['사회'] = (df_merged_z_2015['사회'] + df_merged_z_2014['사회'])/2 - (df_merged_z_2014['사회'] + df_merged_z_2013['사회'])/2\n",
    "df_merged_c_2015['환경'] = (df_merged_z_2015['환경'] + df_merged_z_2014['환경'])/2 - (df_merged_z_2014['환경'] +df_merged_z_2013['환경'])/2"
   ]
  },
  {
   "cell_type": "code",
   "execution_count": null,
   "metadata": {},
   "outputs": [],
   "source": [
    "df_total_2016 = pd.merge(df_rating_2016,df_merged_c_2015.dropna(), on=\"기업코드\", how=\"inner\")"
   ]
  },
  {
   "cell_type": "code",
   "execution_count": null,
   "metadata": {},
   "outputs": [],
   "source": [
    "df_total_2016.describe()"
   ]
  },
  {
   "cell_type": "code",
   "execution_count": null,
   "metadata": {},
   "outputs": [],
   "source": [
    "# df_kospi_2016 = df_total_2016[df_total_2016[\"기업코드\"].isin(kospi_2016)]"
   ]
  },
  {
   "cell_type": "code",
   "execution_count": null,
   "metadata": {},
   "outputs": [],
   "source": [
    "import seaborn as sns\n",
    "plt.figure(figsize=(20,5))\n",
    "sns.boxplot(\n",
    "    data=df_total_2016,\n",
    "    x='평가등급',\n",
    "    y='ESG등급',\n",
    "    color='red')"
   ]
  },
  {
   "cell_type": "code",
   "execution_count": null,
   "metadata": {},
   "outputs": [],
   "source": [
    "df_merged_z_2016 = df_merged_b_2016[df_merged_b_2016[\"기업코드\"].isin(list(set(df_merged_b_2014[\"기업코드\"])&set(df_merged_b_2016[\"기업코드\"])&set(df_merged_b_2015[\"기업코드\"])))].reset_index(drop=True)\n",
    "df_merged_z_2015 = df_merged_b_2015[df_merged_b_2015[\"기업코드\"].isin(list(set(df_merged_b_2014[\"기업코드\"])&set(df_merged_b_2016[\"기업코드\"])&set(df_merged_b_2015[\"기업코드\"])))].reset_index(drop=True)\n",
    "df_merged_z_2014 = df_merged_b_2014[df_merged_b_2014[\"기업코드\"].isin(list(set(df_merged_b_2014[\"기업코드\"])&set(df_merged_b_2016[\"기업코드\"])&set(df_merged_b_2015[\"기업코드\"])))].reset_index(drop=True)"
   ]
  },
  {
   "cell_type": "code",
   "execution_count": null,
   "metadata": {},
   "outputs": [],
   "source": [
    "df_merged_c_2016 = pd.DataFrame(columns=df_merged_b_2014.columns)\n",
    "df_merged_c_2016[\"기업코드\"] = df_merged_z_2016[\"기업코드\"]\n",
    "# df_merged_c_2016['자산총계'] = ((df_merged_z_2016['자산총계'] + df_merged_z_2015['자산총계'])/2 -(df_merged_z_2015['자산총계'] + df_merged_z_2014['자산총계'])/2)\\\n",
    "#                                     / np.abs((df_merged_z_2015['자산총계'] + df_merged_z_2014['자산총계'])/2)\n",
    "df_merged_c_2016['유보액_총자산'] = ((df_merged_z_2016['유보액_총자산'] + df_merged_z_2015['유보액_총자산'])/2 -(df_merged_z_2015['유보액_총자산'] + df_merged_z_2014['유보액_총자산'])/2)\\\n",
    "                                    / np.abs((df_merged_z_2015['유보액_총자산'] + df_merged_z_2014['유보액_총자산'])/2)\n",
    "df_merged_c_2016['당기순이익_총자산'] = ((df_merged_z_2016['당기순이익_총자산'] + df_merged_z_2015['당기순이익_총자산'])/2 -(df_merged_z_2015['당기순이익_총자산'] + df_merged_z_2014['당기순이익_총자산'])/2)\\\n",
    "                                    / np.abs((df_merged_z_2015['당기순이익_총자산'] + df_merged_z_2014['당기순이익_총자산'])/2)\n",
    "df_merged_c_2016['부채총계_총자산'] = ((df_merged_z_2016['부채총계_총자산'] + df_merged_z_2015['부채총계_총자산'])/2 -(df_merged_z_2015['부채총계_총자산'] + df_merged_z_2014['부채총계_총자산'])/2)\\\n",
    "                                    / np.abs((df_merged_z_2015['부채총계_총자산'] + df_merged_z_2014['부채총계_총자산'])/2)\n",
    "df_merged_c_2016['운전자본_총자산'] = ((df_merged_z_2016['운전자본_총자산'] + df_merged_z_2015['운전자본_총자산'])/2 -(df_merged_z_2015['운전자본_총자산'] + df_merged_z_2014['운전자본_총자산'])/2)\\\n",
    "                                    / np.abs((df_merged_z_2015['운전자본_총자산'] + df_merged_z_2014['운전자본_총자산'])/2)\n",
    "df_merged_c_2016['매출액_총자산'] = ((df_merged_z_2016['매출액_총자산'] + df_merged_z_2015['매출액_총자산'])/2 -(df_merged_z_2015['매출액_총자산'] + df_merged_z_2014['매출액_총자산'])/2)\\\n",
    "                                    / np.abs((df_merged_z_2015['매출액_총자산'] + df_merged_z_2014['매출액_총자산'])/2)\n",
    "df_merged_c_2016['재고자산_총자산'] = ((df_merged_z_2016['재고자산_총자산'] + df_merged_z_2015['재고자산_총자산'])/2 -(df_merged_z_2015['재고자산_총자산'] + df_merged_z_2014['재고자산_총자산'])/2)\\\n",
    "                                    / np.abs((df_merged_z_2015['재고자산_총자산'] + df_merged_z_2014['재고자산_총자산'])/2)\n",
    "df_merged_c_2016['유동자산_총자산'] = ((df_merged_z_2016['유동자산_총자산'] + df_merged_z_2015['유동자산_총자산'])/2 -(df_merged_z_2015['유동자산_총자산'] + df_merged_z_2014['유동자산_총자산'])/2)\\\n",
    "                                    / np.abs((df_merged_z_2015['유동자산_총자산'] + df_merged_z_2014['유동자산_총자산'])/2)\n",
    "df_merged_c_2016['매출채권_총자산'] = ((df_merged_z_2016['매출채권_총자산'] + df_merged_z_2015['매출채권_총자산'])/2 -(df_merged_z_2015['매출채권_총자산'] + df_merged_z_2014['매출채권_총자산'])/2)\\\n",
    "                                    / np.abs((df_merged_z_2015['매출채권_총자산'] + df_merged_z_2014['매출채권_총자산'])/2)\n",
    "df_merged_c_2016['ESG등급'] = (df_merged_z_2016['ESG등급'] + df_merged_z_2015['ESG등급'])/2 -  (df_merged_z_2015['ESG등급'] + df_merged_z_2014['ESG등급'])/2\n",
    "df_merged_c_2016['지배구조'] = (df_merged_z_2016['지배구조'] + df_merged_z_2015['지배구조'])/2 - (df_merged_z_2015['지배구조'] + df_merged_z_2014['지배구조'])/2\n",
    "df_merged_c_2016['사회'] = (df_merged_z_2016['사회'] + df_merged_z_2015['사회'])/2 - (df_merged_z_2015['사회'] + df_merged_z_2014['사회'])/2\n",
    "df_merged_c_2016['환경'] = (df_merged_z_2016['환경'] + df_merged_z_2015['환경'])/2 - (df_merged_z_2015['환경'] +df_merged_z_2014['환경'])/2"
   ]
  },
  {
   "cell_type": "code",
   "execution_count": null,
   "metadata": {},
   "outputs": [],
   "source": [
    "df_total_2017 = pd.merge(df_rating_2017,df_merged_c_2016.dropna(), on=\"기업코드\", how=\"inner\")"
   ]
  },
  {
   "cell_type": "code",
   "execution_count": null,
   "metadata": {},
   "outputs": [],
   "source": [
    "df_total_2017.describe()"
   ]
  },
  {
   "cell_type": "code",
   "execution_count": null,
   "metadata": {},
   "outputs": [],
   "source": [
    "# df_kospi_2017 = df_total_2017[df_total_2017[\"기업코드\"].isin(kospi_2017)]"
   ]
  },
  {
   "cell_type": "code",
   "execution_count": null,
   "metadata": {},
   "outputs": [],
   "source": [
    "df_merged_z_2017 = df_merged_b_2017[df_merged_b_2017[\"기업코드\"].isin(list(set(df_merged_b_2017[\"기업코드\"])&set(df_merged_b_2016[\"기업코드\"])&set(df_merged_b_2015[\"기업코드\"])))].reset_index(drop=True)\n",
    "df_merged_z_2016 = df_merged_b_2016[df_merged_b_2016[\"기업코드\"].isin(list(set(df_merged_b_2017[\"기업코드\"])&set(df_merged_b_2016[\"기업코드\"])&set(df_merged_b_2015[\"기업코드\"])))].reset_index(drop=True)\n",
    "df_merged_z_2015 = df_merged_b_2015[df_merged_b_2015[\"기업코드\"].isin(list(set(df_merged_b_2017[\"기업코드\"])&set(df_merged_b_2016[\"기업코드\"])&set(df_merged_b_2015[\"기업코드\"])))].reset_index(drop=True)"
   ]
  },
  {
   "cell_type": "code",
   "execution_count": null,
   "metadata": {},
   "outputs": [],
   "source": [
    "df_merged_c_2017 = pd.DataFrame(columns=df_merged_b_2014.columns)\n",
    "df_merged_c_2017[\"기업코드\"] = df_merged_z_2017[\"기업코드\"]\n",
    "# df_merged_c_2017['자산총계'] = ((df_merged_z_2017['자산총계'] + df_merged_z_2016['자산총계'])/2 -(df_merged_z_2016['자산총계'] + df_merged_z_2015['자산총계'])/2)\\\n",
    "#                                     / np.abs((df_merged_z_2016['자산총계'] + df_merged_z_2015['자산총계'])/2)\n",
    "df_merged_c_2017['유보액_총자산'] = ((df_merged_z_2017['유보액_총자산'] + df_merged_z_2016['유보액_총자산'])/2 -(df_merged_z_2016['유보액_총자산'] + df_merged_z_2015['유보액_총자산'])/2)\\\n",
    "                                    / np.abs((df_merged_z_2016['유보액_총자산'] + df_merged_z_2015['유보액_총자산'])/2)\n",
    "df_merged_c_2017['당기순이익_총자산'] = ((df_merged_z_2017['당기순이익_총자산'] + df_merged_z_2016['당기순이익_총자산'])/2 -(df_merged_z_2016['당기순이익_총자산'] + df_merged_z_2015['당기순이익_총자산'])/2)\\\n",
    "                                    / np.abs((df_merged_z_2016['당기순이익_총자산'] + df_merged_z_2015['당기순이익_총자산'])/2)\n",
    "df_merged_c_2017['부채총계_총자산'] = ((df_merged_z_2017['부채총계_총자산'] + df_merged_z_2016['부채총계_총자산'])/2 -(df_merged_z_2016['부채총계_총자산'] + df_merged_z_2015['부채총계_총자산'])/2)\\\n",
    "                                    / np.abs((df_merged_z_2016['부채총계_총자산'] + df_merged_z_2015['부채총계_총자산'])/2)\n",
    "df_merged_c_2017['운전자본_총자산'] = ((df_merged_z_2017['운전자본_총자산'] + df_merged_z_2016['운전자본_총자산'])/2 -(df_merged_z_2016['운전자본_총자산'] + df_merged_z_2015['운전자본_총자산'])/2)\\\n",
    "                                    / np.abs((df_merged_z_2016['운전자본_총자산'] + df_merged_z_2015['운전자본_총자산'])/2)\n",
    "df_merged_c_2017['매출액_총자산'] = ((df_merged_z_2017['매출액_총자산'] + df_merged_z_2016['매출액_총자산'])/2 -(df_merged_z_2016['매출액_총자산'] + df_merged_z_2015['매출액_총자산'])/2)\\\n",
    "                                    / np.abs((df_merged_z_2016['매출액_총자산'] + df_merged_z_2015['매출액_총자산'])/2)\n",
    "df_merged_c_2017['재고자산_총자산'] = ((df_merged_z_2017['재고자산_총자산'] + df_merged_z_2016['재고자산_총자산'])/2 -(df_merged_z_2016['재고자산_총자산'] + df_merged_z_2015['재고자산_총자산'])/2)\\\n",
    "                                    / np.abs((df_merged_z_2016['재고자산_총자산'] + df_merged_z_2015['재고자산_총자산'])/2)\n",
    "df_merged_c_2017['유동자산_총자산'] = ((df_merged_z_2017['유동자산_총자산'] + df_merged_z_2016['유동자산_총자산'])/2 -(df_merged_z_2016['유동자산_총자산'] + df_merged_z_2015['유동자산_총자산'])/2)\\\n",
    "                                    / np.abs((df_merged_z_2016['유동자산_총자산'] + df_merged_z_2015['유동자산_총자산'])/2)\n",
    "df_merged_c_2017['매출채권_총자산'] = ((df_merged_z_2017['매출채권_총자산'] + df_merged_z_2016['매출채권_총자산'])/2 -(df_merged_z_2016['매출채권_총자산'] + df_merged_z_2015['매출채권_총자산'])/2)\\\n",
    "                                    / np.abs((df_merged_z_2016['매출채권_총자산'] + df_merged_z_2015['매출채권_총자산'])/2)\n",
    "df_merged_c_2017['ESG등급'] = (df_merged_z_2017['ESG등급'] + df_merged_z_2016['ESG등급'])/2 -  (df_merged_z_2016['ESG등급'] + df_merged_z_2015['ESG등급'])/2\n",
    "df_merged_c_2017['지배구조'] = (df_merged_z_2017['지배구조'] + df_merged_z_2016['지배구조'])/2 - (df_merged_z_2016['지배구조'] + df_merged_z_2015['지배구조'])/2\n",
    "df_merged_c_2017['사회'] = (df_merged_z_2017['사회'] + df_merged_z_2016['사회'])/2 - (df_merged_z_2016['사회'] + df_merged_z_2015['사회'])/2\n",
    "df_merged_c_2017['환경'] = (df_merged_z_2017['환경'] + df_merged_z_2016['환경'])/2 - (df_merged_z_2016['환경'] +df_merged_z_2015['환경'])/2"
   ]
  },
  {
   "cell_type": "code",
   "execution_count": null,
   "metadata": {},
   "outputs": [],
   "source": [
    "df_total_2018 = pd.merge(df_rating_2018,df_merged_c_2017.dropna(), on=\"기업코드\", how=\"inner\")"
   ]
  },
  {
   "cell_type": "code",
   "execution_count": null,
   "metadata": {},
   "outputs": [],
   "source": [
    "df_total_2018.describe()"
   ]
  },
  {
   "cell_type": "code",
   "execution_count": null,
   "metadata": {},
   "outputs": [],
   "source": [
    "# df_kospi_2018 = df_total_2018[df_total_2018[\"기업코드\"].isin(kospi_2018)]"
   ]
  },
  {
   "cell_type": "code",
   "execution_count": null,
   "metadata": {},
   "outputs": [],
   "source": [
    "df_merged_z_2018 = df_merged_b_2018[df_merged_b_2018[\"기업코드\"].isin(list(set(df_merged_b_2017[\"기업코드\"])&set(df_merged_b_2016[\"기업코드\"])&set(df_merged_b_2018[\"기업코드\"])))].reset_index(drop=True)\n",
    "df_merged_z_2017 = df_merged_b_2017[df_merged_b_2017[\"기업코드\"].isin(list(set(df_merged_b_2017[\"기업코드\"])&set(df_merged_b_2016[\"기업코드\"])&set(df_merged_b_2018[\"기업코드\"])))].reset_index(drop=True)\n",
    "df_merged_z_2016 = df_merged_b_2016[df_merged_b_2016[\"기업코드\"].isin(list(set(df_merged_b_2017[\"기업코드\"])&set(df_merged_b_2016[\"기업코드\"])&set(df_merged_b_2018[\"기업코드\"])))].reset_index(drop=True)"
   ]
  },
  {
   "cell_type": "code",
   "execution_count": null,
   "metadata": {},
   "outputs": [],
   "source": [
    "df_merged_c_2018 = pd.DataFrame(columns=df_merged_b_2014.columns)\n",
    "df_merged_c_2018[\"기업코드\"] = df_merged_z_2018[\"기업코드\"]\n",
    "# df_merged_c_2018['자산총계'] = ((df_merged_z_2018['자산총계'] + df_merged_z_2017['자산총계'])/2 -(df_merged_z_2017['자산총계'] + df_merged_z_2016['자산총계'])/2)\\\n",
    "#                                     / np.abs((df_merged_z_2017['자산총계'] + df_merged_z_2016['자산총계'])/2)\n",
    "df_merged_c_2018['유보액_총자산'] = ((df_merged_z_2018['유보액_총자산'] + df_merged_z_2017['유보액_총자산'])/2 -(df_merged_z_2017['유보액_총자산'] + df_merged_z_2016['유보액_총자산'])/2)\\\n",
    "                                    / np.abs((df_merged_z_2017['유보액_총자산'] + df_merged_z_2016['유보액_총자산'])/2)\n",
    "df_merged_c_2018['당기순이익_총자산'] = ((df_merged_z_2018['당기순이익_총자산'] + df_merged_z_2017['당기순이익_총자산'])/2 -(df_merged_z_2017['당기순이익_총자산'] + df_merged_z_2016['당기순이익_총자산'])/2)\\\n",
    "                                    / np.abs((df_merged_z_2017['당기순이익_총자산'] + df_merged_z_2016['당기순이익_총자산'])/2)\n",
    "df_merged_c_2018['부채총계_총자산'] = ((df_merged_z_2018['부채총계_총자산'] + df_merged_z_2017['부채총계_총자산'])/2 -(df_merged_z_2017['부채총계_총자산'] + df_merged_z_2016['부채총계_총자산'])/2)\\\n",
    "                                    / np.abs((df_merged_z_2017['부채총계_총자산'] + df_merged_z_2016['부채총계_총자산'])/2)\n",
    "df_merged_c_2018['운전자본_총자산'] = ((df_merged_z_2018['운전자본_총자산'] + df_merged_z_2017['운전자본_총자산'])/2 -(df_merged_z_2017['운전자본_총자산'] + df_merged_z_2016['운전자본_총자산'])/2)\\\n",
    "                                    / np.abs((df_merged_z_2017['운전자본_총자산'] + df_merged_z_2016['운전자본_총자산'])/2)\n",
    "df_merged_c_2018['매출액_총자산'] = ((df_merged_z_2018['매출액_총자산'] + df_merged_z_2017['매출액_총자산'])/2 -(df_merged_z_2017['매출액_총자산'] + df_merged_z_2016['매출액_총자산'])/2)\\\n",
    "                                    / np.abs((df_merged_z_2017['매출액_총자산'] + df_merged_z_2016['매출액_총자산'])/2)\n",
    "df_merged_c_2018['재고자산_총자산'] = ((df_merged_z_2018['재고자산_총자산'] + df_merged_z_2017['재고자산_총자산'])/2 -(df_merged_z_2017['재고자산_총자산'] + df_merged_z_2016['재고자산_총자산'])/2)\\\n",
    "                                    / np.abs((df_merged_z_2017['재고자산_총자산'] + df_merged_z_2016['재고자산_총자산'])/2)\n",
    "df_merged_c_2018['유동자산_총자산'] = ((df_merged_z_2018['유동자산_총자산'] + df_merged_z_2017['유동자산_총자산'])/2 -(df_merged_z_2017['유동자산_총자산'] + df_merged_z_2016['유동자산_총자산'])/2)\\\n",
    "                                    / np.abs((df_merged_z_2017['유동자산_총자산'] + df_merged_z_2016['유동자산_총자산'])/2)\n",
    "df_merged_c_2018['매출채권_총자산'] = ((df_merged_z_2018['매출채권_총자산'] + df_merged_z_2017['매출채권_총자산'])/2 -(df_merged_z_2017['매출채권_총자산'] + df_merged_z_2016['매출채권_총자산'])/2)\\\n",
    "                                    / np.abs((df_merged_z_2017['매출채권_총자산'] + df_merged_z_2016['매출채권_총자산'])/2)\n",
    "df_merged_c_2018['ESG등급'] = (df_merged_z_2018['ESG등급'] + df_merged_z_2017['ESG등급'])/2 -  (df_merged_z_2017['ESG등급'] + df_merged_z_2016['ESG등급'])/2\n",
    "df_merged_c_2018['지배구조'] = (df_merged_z_2018['지배구조'] + df_merged_z_2017['지배구조'])/2 - (df_merged_z_2017['지배구조'] + df_merged_z_2016['지배구조'])/2\n",
    "df_merged_c_2018['사회'] = (df_merged_z_2018['사회'] + df_merged_z_2017['사회'])/2 - (df_merged_z_2017['사회'] + df_merged_z_2016['사회'])/2\n",
    "df_merged_c_2018['환경'] = (df_merged_z_2018['환경'] + df_merged_z_2017['환경'])/2 - (df_merged_z_2017['환경'] +df_merged_z_2016['환경'])/2"
   ]
  },
  {
   "cell_type": "code",
   "execution_count": null,
   "metadata": {},
   "outputs": [],
   "source": [
    "df_total_2019 = pd.merge(df_rating_2019,df_merged_c_2018.dropna(), on=\"기업코드\", how=\"inner\")"
   ]
  },
  {
   "cell_type": "code",
   "execution_count": null,
   "metadata": {},
   "outputs": [],
   "source": [
    "# df_kospi_2019 = df_total_2019[df_total_2019[\"기업코드\"].isin(kospi_2019)]"
   ]
  },
  {
   "cell_type": "code",
   "execution_count": null,
   "metadata": {},
   "outputs": [],
   "source": [
    "df_merged_z_2019 = df_merged_b_2019[df_merged_b_2019[\"기업코드\"].isin(list(set(df_merged_b_2017[\"기업코드\"])&set(df_merged_b_2019[\"기업코드\"])&set(df_merged_b_2018[\"기업코드\"])))].reset_index(drop=True)\n",
    "df_merged_z_2018 = df_merged_b_2018[df_merged_b_2018[\"기업코드\"].isin(list(set(df_merged_b_2017[\"기업코드\"])&set(df_merged_b_2019[\"기업코드\"])&set(df_merged_b_2018[\"기업코드\"])))].reset_index(drop=True)\n",
    "df_merged_z_2017 = df_merged_b_2017[df_merged_b_2017[\"기업코드\"].isin(list(set(df_merged_b_2017[\"기업코드\"])&set(df_merged_b_2019[\"기업코드\"])&set(df_merged_b_2018[\"기업코드\"])))].reset_index(drop=True)"
   ]
  },
  {
   "cell_type": "code",
   "execution_count": null,
   "metadata": {},
   "outputs": [],
   "source": [
    "df_merged_c_2019 = pd.DataFrame(columns=df_merged_b_2014.columns)\n",
    "df_merged_c_2019[\"기업코드\"] = df_merged_z_2019[\"기업코드\"]\n",
    "# df_merged_c_2019['자산총계'] = ((df_merged_z_2019['자산총계'] + df_merged_z_2018['자산총계'])/2 -(df_merged_z_2018['자산총계'] + df_merged_z_2017['자산총계'])/2)\\\n",
    "#                                     / np.abs((df_merged_z_2018['자산총계'] + df_merged_z_2017['자산총계'])/2)\n",
    "df_merged_c_2019['유보액_총자산'] = ((df_merged_z_2019['유보액_총자산'] + df_merged_z_2018['유보액_총자산'])/2 -(df_merged_z_2018['유보액_총자산'] + df_merged_z_2017['유보액_총자산'])/2)\\\n",
    "                                    / np.abs((df_merged_z_2018['유보액_총자산'] + df_merged_z_2017['유보액_총자산'])/2)\n",
    "df_merged_c_2019['당기순이익_총자산'] = ((df_merged_z_2019['당기순이익_총자산'] + df_merged_z_2018['당기순이익_총자산'])/2 -(df_merged_z_2018['당기순이익_총자산'] + df_merged_z_2017['당기순이익_총자산'])/2)\\\n",
    "                                    / np.abs((df_merged_z_2018['당기순이익_총자산'] + df_merged_z_2017['당기순이익_총자산'])/2)\n",
    "df_merged_c_2019['부채총계_총자산'] = ((df_merged_z_2019['부채총계_총자산'] + df_merged_z_2018['부채총계_총자산'])/2 -(df_merged_z_2018['부채총계_총자산'] + df_merged_z_2017['부채총계_총자산'])/2)\\\n",
    "                                    / np.abs((df_merged_z_2018['부채총계_총자산'] + df_merged_z_2017['부채총계_총자산'])/2)\n",
    "df_merged_c_2019['운전자본_총자산'] = ((df_merged_z_2019['운전자본_총자산'] + df_merged_z_2018['운전자본_총자산'])/2 -(df_merged_z_2018['운전자본_총자산'] + df_merged_z_2017['운전자본_총자산'])/2)\\\n",
    "                                    / np.abs((df_merged_z_2018['운전자본_총자산'] + df_merged_z_2017['운전자본_총자산'])/2)\n",
    "df_merged_c_2019['매출액_총자산'] = ((df_merged_z_2019['매출액_총자산'] + df_merged_z_2018['매출액_총자산'])/2 -(df_merged_z_2018['매출액_총자산'] + df_merged_z_2017['매출액_총자산'])/2)\\\n",
    "                                    / np.abs((df_merged_z_2018['매출액_총자산'] + df_merged_z_2017['매출액_총자산'])/2)\n",
    "df_merged_c_2019['재고자산_총자산'] = ((df_merged_z_2019['재고자산_총자산'] + df_merged_z_2018['재고자산_총자산'])/2 -(df_merged_z_2018['재고자산_총자산'] + df_merged_z_2017['재고자산_총자산'])/2)\\\n",
    "                                    / np.abs((df_merged_z_2018['재고자산_총자산'] + df_merged_z_2017['재고자산_총자산'])/2)\n",
    "df_merged_c_2019['유동자산_총자산'] = ((df_merged_z_2019['유동자산_총자산'] + df_merged_z_2018['유동자산_총자산'])/2 -(df_merged_z_2018['유동자산_총자산'] + df_merged_z_2017['유동자산_총자산'])/2)\\\n",
    "                                    / np.abs((df_merged_z_2018['유동자산_총자산'] + df_merged_z_2017['유동자산_총자산'])/2)\n",
    "df_merged_c_2019['매출채권_총자산'] = ((df_merged_z_2019['매출채권_총자산'] + df_merged_z_2018['매출채권_총자산'])/2 -(df_merged_z_2018['매출채권_총자산'] + df_merged_z_2017['매출채권_총자산'])/2)\\\n",
    "                                    / np.abs((df_merged_z_2018['매출채권_총자산'] + df_merged_z_2017['매출채권_총자산'])/2)\n",
    "df_merged_c_2019['ESG등급'] = (df_merged_z_2019['ESG등급'] + df_merged_z_2018['ESG등급'])/2 -  (df_merged_z_2018['ESG등급'] + df_merged_z_2017['ESG등급'])/2\n",
    "df_merged_c_2019['지배구조'] = (df_merged_z_2019['지배구조'] + df_merged_z_2018['지배구조'])/2 - (df_merged_z_2018['지배구조'] + df_merged_z_2017['지배구조'])/2\n",
    "df_merged_c_2019['사회'] = (df_merged_z_2019['사회'] + df_merged_z_2018['사회'])/2 - (df_merged_z_2018['사회'] + df_merged_z_2017['사회'])/2\n",
    "df_merged_c_2019['환경'] = (df_merged_z_2019['환경'] + df_merged_z_2018['환경'])/2 - (df_merged_z_2018['환경'] +df_merged_z_2017['환경'])/2"
   ]
  },
  {
   "cell_type": "code",
   "execution_count": null,
   "metadata": {},
   "outputs": [],
   "source": [
    "df_rating_2020 = merge_code(df_credit_2020, df_esg_2019)"
   ]
  },
  {
   "cell_type": "code",
   "execution_count": null,
   "metadata": {},
   "outputs": [],
   "source": [
    "df_total_2020 = pd.merge(df_rating_2020,df_merged_c_2019.dropna(), on=\"기업코드\", how=\"inner\")"
   ]
  },
  {
   "cell_type": "code",
   "execution_count": null,
   "metadata": {},
   "outputs": [],
   "source": [
    "df_total_2020.describe()"
   ]
  },
  {
   "cell_type": "code",
   "execution_count": null,
   "metadata": {},
   "outputs": [],
   "source": [
    "# df_kospi_2020 = df_total_2020[df_total_2020[\"기업코드\"].isin(kospi_2020)]"
   ]
  },
  {
   "cell_type": "code",
   "execution_count": null,
   "metadata": {},
   "outputs": [],
   "source": [
    "df_sum_2015_2020 = pd.concat([df_total_2015,df_total_2016,df_total_2017,df_total_2018,df_total_2019,df_total_2020]).replace(np.inf,np.nan).dropna()\n",
    "df_sum_2015_2020 = df_sum_2015_2020.rename(columns={\"유보액_총자산\":\"유보액_총자산\"})[:]"
   ]
  },
  {
   "cell_type": "code",
   "execution_count": null,
   "metadata": {},
   "outputs": [],
   "source": [
    "plt.figure(figsize=(15,15))\n",
    "sns.heatmap(data = df_sum_2015_2020.corr(), annot=True, \n",
    "fmt = '.2f', linewidths=.5, cmap='Blues')"
   ]
  },
  {
   "cell_type": "code",
   "execution_count": null,
   "metadata": {},
   "outputs": [],
   "source": [
    "# sns.pairplot(df_sum_2015_2020)\n",
    "# plt.show()"
   ]
  },
  {
   "cell_type": "code",
   "execution_count": null,
   "metadata": {},
   "outputs": [],
   "source": [
    "df_x = df_sum_2015_2020.iloc[:,5:]\n",
    "df_y = df_sum_2015_2020.iloc[:,1]"
   ]
  },
  {
   "cell_type": "code",
   "execution_count": null,
   "metadata": {},
   "outputs": [],
   "source": [
    "robust_scaler = RobustScaler()\n",
    "rb = robust_scaler.fit(df_x)\n",
    "output = robust_scaler.transform(df_x)\n",
    "output = pd.DataFrame(output, columns=df_x.columns, index=list(df_x.index.values))\n",
    "output[\"Y\"] = df_y"
   ]
  },
  {
   "cell_type": "code",
   "execution_count": null,
   "metadata": {},
   "outputs": [],
   "source": [
    "from sklearn.linear_model import LinearRegression\n",
    "model = sm.OLS.from_formula(\"Y ~유보액_총자산+매출채권_총자산+당기순이익_총자산+부채총계_총자산+운전자본_총자산+유동자산_총자산+매출액_총자산+재고자산_총자산+지배구조+사회+환경+0\", data=output)\n",
    "result = model.fit()\n",
    "print(result.summary())"
   ]
  },
  {
   "cell_type": "code",
   "execution_count": null,
   "metadata": {},
   "outputs": [],
   "source": [
    "fig = plt.figure(figsize=(12,8))\n",
    "fig = sm.graphics.plot_partregress_grid(result, fig=fig)"
   ]
  },
  {
   "cell_type": "code",
   "execution_count": null,
   "metadata": {},
   "outputs": [],
   "source": [
    "model = sm.Logit.from_formula(\"Y ~유보액_총자산+매출채권_총자산+당기순이익_총자산+부채총계_총자산+운전자본_총자산+유동자산_총자산+매출액_총자산+재고자산_총자산+지배구조+사회+환경+0\", data=output)\n",
    "result1 = model.fit()\n",
    "print(result1.summary())"
   ]
  },
  {
   "cell_type": "code",
   "execution_count": null,
   "metadata": {},
   "outputs": [],
   "source": [
    "fig = plt.figure(figsize=(12,8))\n",
    "fig = sm.graphics.plot_partregress_grid(result1, fig=fig)"
   ]
  },
  {
   "cell_type": "markdown",
   "metadata": {},
   "source": [
    "## DecisionTreeClass"
   ]
  },
  {
   "cell_type": "markdown",
   "metadata": {},
   "source": [
    "###  ESG통합 +E + S + G"
   ]
  },
  {
   "cell_type": "code",
   "execution_count": null,
   "metadata": {},
   "outputs": [],
   "source": [
    "X_train, X_test, y_train, y_test = train_test_split(df_x, df_y,test_size=0.3)"
   ]
  },
  {
   "cell_type": "code",
   "execution_count": null,
   "metadata": {},
   "outputs": [],
   "source": [
    "rb = robust_scaler.fit(X_train)\n",
    "X_train = robust_scaler.transform(X_train)\n",
    "X_test = robust_scaler.transform(X_test)"
   ]
  },
  {
   "cell_type": "code",
   "execution_count": null,
   "metadata": {},
   "outputs": [],
   "source": [
    "model = DecisionTreeClassifier()\n",
    "model.fit(X_train, y_train)"
   ]
  },
  {
   "cell_type": "code",
   "execution_count": null,
   "metadata": {},
   "outputs": [],
   "source": [
    "y_pred = list(model.predict(X_test))\n",
    "y_true = list(np.array(y_test))"
   ]
  },
  {
   "cell_type": "code",
   "execution_count": null,
   "metadata": {},
   "outputs": [],
   "source": [
    "print(model.predict(X_test).shape)\n",
    "print(y_test.shape)"
   ]
  },
  {
   "cell_type": "code",
   "execution_count": null,
   "metadata": {},
   "outputs": [],
   "source": [
    "print(len(y_test[y_test==1].dropna()))"
   ]
  },
  {
   "cell_type": "code",
   "execution_count": null,
   "metadata": {},
   "outputs": [],
   "source": [
    "precision_score(y_true, y_pred, average='weighted')"
   ]
  },
  {
   "cell_type": "code",
   "execution_count": null,
   "metadata": {},
   "outputs": [],
   "source": [
    "confusion_matrix(y_true, y_pred, labels=[1,0])"
   ]
  },
  {
   "cell_type": "markdown",
   "metadata": {},
   "source": [
    "### 사회"
   ]
  },
  {
   "cell_type": "code",
   "execution_count": null,
   "metadata": {},
   "outputs": [],
   "source": [
    "df_x2 = df_x.drop(columns =[\"ESG등급\",\"지배구조\",\"환경\"])\n",
    "X_train, X_test, y_train, y_test = train_test_split(df_x2, df_y,test_size=0.3)\n",
    "model = DecisionTreeClassifier()\n",
    "model.fit(X_train, y_train)\n",
    "print(len(y_test[y_test==1].dropna()))\n",
    "y_pred = list(model.predict(X_test))\n",
    "y_true = list(np.array(y_test))"
   ]
  },
  {
   "cell_type": "code",
   "execution_count": null,
   "metadata": {},
   "outputs": [],
   "source": [
    "precision_score(y_true, y_pred, average='weighted')"
   ]
  },
  {
   "cell_type": "code",
   "execution_count": null,
   "metadata": {},
   "outputs": [],
   "source": [
    "confusion_matrix(y_true, y_pred, labels=[1,0])"
   ]
  },
  {
   "cell_type": "code",
   "execution_count": null,
   "metadata": {},
   "outputs": [],
   "source": [
    "df_x2 = df_x.drop(columns =[\"ESG등급\",\"지배구조\",\"환경\"])\n",
    "X_train, X_test, y_train, y_test = train_test_split(df_x2, df_y,test_size=0.3)\n",
    "model = DecisionTreeClassifier()\n",
    "model.fit(X_train, y_train)\n",
    "print(len(y_test[y_test==1].dropna()))\n",
    "y_pred = list(model.predict(X_test))\n",
    "y_true = list(np.array(y_test))"
   ]
  },
  {
   "cell_type": "markdown",
   "metadata": {},
   "source": [
    "### ESG 전체 제거"
   ]
  },
  {
   "cell_type": "code",
   "execution_count": null,
   "metadata": {},
   "outputs": [],
   "source": [
    "df_x5 = df_x.drop(columns =[\"ESG등급\",\"지배구조\",\"환경\",\"사회\"])\n",
    "X_train, X_test, y_train, y_test = train_test_split(df_x5, df_y,test_size=0.3)\n",
    "model = DecisionTreeClassifier()\n",
    "model.fit(X_train, y_train)\n",
    "y_pred = list(model.predict(X_test))\n",
    "y_true = list(np.array(y_test))\n",
    "print(len(y_test[y_test==1].dropna()))"
   ]
  },
  {
   "cell_type": "code",
   "execution_count": null,
   "metadata": {},
   "outputs": [],
   "source": [
    "precision_score(y_true, y_pred, average='weighted')"
   ]
  },
  {
   "cell_type": "code",
   "execution_count": null,
   "metadata": {},
   "outputs": [],
   "source": [
    "confusion_matrix(y_true, y_pred, labels=[1,0])"
   ]
  },
  {
   "cell_type": "code",
   "execution_count": null,
   "metadata": {},
   "outputs": [],
   "source": []
  },
  {
   "cell_type": "code",
   "execution_count": null,
   "metadata": {},
   "outputs": [],
   "source": []
  },
  {
   "cell_type": "code",
   "execution_count": null,
   "metadata": {},
   "outputs": [],
   "source": []
  },
  {
   "cell_type": "code",
   "execution_count": null,
   "metadata": {},
   "outputs": [],
   "source": []
  },
  {
   "cell_type": "code",
   "execution_count": null,
   "metadata": {},
   "outputs": [],
   "source": []
  },
  {
   "cell_type": "code",
   "execution_count": null,
   "metadata": {},
   "outputs": [],
   "source": []
  },
  {
   "cell_type": "code",
   "execution_count": null,
   "metadata": {},
   "outputs": [],
   "source": []
  },
  {
   "cell_type": "code",
   "execution_count": null,
   "metadata": {},
   "outputs": [],
   "source": []
  }
 ],
 "metadata": {
  "kernelspec": {
   "display_name": "Python 3",
   "language": "python",
   "name": "python3"
  },
  "language_info": {
   "codemirror_mode": {
    "name": "ipython",
    "version": 3
   },
   "file_extension": ".py",
   "mimetype": "text/x-python",
   "name": "python",
   "nbconvert_exporter": "python",
   "pygments_lexer": "ipython3",
   "version": "3.7.6"
  }
 },
 "nbformat": 4,
 "nbformat_minor": 4
}
