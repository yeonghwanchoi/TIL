{
 "cells": [
  {
   "cell_type": "code",
   "execution_count": null,
   "metadata": {},
   "outputs": [],
   "source": [
    "#selenium on ubuntu\n",
    "# - 크롬 브라우져 설치\n",
    "    - sudo apt-get install -y chromium-browser\n",
    "    https://chromedriver.storage.googleapis.com/index.html?path=83.0.4103.39/\n",
    "\n",
    "    https://chromedriver.storage.googleapis.com/83.0.4103.39/chromedriver_linux64.zip\n",
    "        \n",
    "    sudo apt install unzip cromdriver\n",
    "# - 크롬 드라이버 환경변수 설정\n",
    "# - 폰트 설치\n"
   ]
  },
  {
   "cell_type": "code",
   "execution_count": 24,
   "metadata": {},
   "outputs": [],
   "source": [
    "from selenium import webdriver\n",
    "from PIL import Image as pil"
   ]
  },
  {
   "cell_type": "code",
   "execution_count": 32,
   "metadata": {},
   "outputs": [],
   "source": [
    "options = webdriver.ChromeOptions()\n",
    "options.add_argument(\"headless\")\n",
    "options.add_argument(\"window-size=1920x1080\")\n"
   ]
  },
  {
   "cell_type": "code",
   "execution_count": 33,
   "metadata": {},
   "outputs": [
    {
     "ename": "SyntaxError",
     "evalue": "invalid syntax (<ipython-input-33-6973a6d5330e>, line 2)",
     "output_type": "error",
     "traceback": [
      "\u001b[0;36m  File \u001b[0;32m\"<ipython-input-33-6973a6d5330e>\"\u001b[0;36m, line \u001b[0;32m2\u001b[0m\n\u001b[0;31m    driver.get(http://naver.com)\u001b[0m\n\u001b[0m                   ^\u001b[0m\n\u001b[0;31mSyntaxError\u001b[0m\u001b[0;31m:\u001b[0m invalid syntax\n"
     ]
    }
   ],
   "source": [
    "driver = webdriver.Chrome(options=options)\n",
    "driver.get(http://naver.com)\n"
   ]
  },
  {
   "cell_type": "code",
   "execution_count": 34,
   "metadata": {},
   "outputs": [],
   "source": [
    "import scrapy\n",
    "import requests\n",
    "from scrapy.http import TextResponse"
   ]
  },
  {
   "cell_type": "code",
   "execution_count": 35,
   "metadata": {},
   "outputs": [
    {
     "name": "stdout",
     "output_type": "stream",
     "text": [
      "Error: scrapy.cfg already exists in /Users/yeonghwanchoi/Documents/dev/TIL/linear_regression_project/article\r\n"
     ]
    }
   ],
   "source": [
    "!scrapy startproject article"
   ]
  },
  {
   "cell_type": "code",
   "execution_count": 36,
   "metadata": {},
   "outputs": [
    {
     "name": "stdout",
     "output_type": "stream",
     "text": [
      "\u001b[01;34marticle/\u001b[00m\r\n",
      "├── \u001b[01;34marticle\u001b[00m\r\n",
      "│   ├── __init__.py\r\n",
      "│   ├── \u001b[01;34m__pycache__\u001b[00m\r\n",
      "│   ├── items.py\r\n",
      "│   ├── middlewares.py\r\n",
      "│   ├── pipelines.py\r\n",
      "│   ├── settings.py\r\n",
      "│   └── \u001b[01;34mspiders\u001b[00m\r\n",
      "│       ├── __init__.py\r\n",
      "│       └── \u001b[01;34m__pycache__\u001b[00m\r\n",
      "└── scrapy.cfg\r\n",
      "\r\n",
      "4 directories, 7 files\r\n"
     ]
    }
   ],
   "source": [
    "!tree article/"
   ]
  },
  {
   "cell_type": "code",
   "execution_count": 37,
   "metadata": {},
   "outputs": [
    {
     "name": "stderr",
     "output_type": "stream",
     "text": [
      "UsageError: Missing filename, URL, input history range, macro, or element in the user namespace.\n"
     ]
    }
   ],
   "source": [
    "%load"
   ]
  },
  {
   "cell_type": "code",
   "execution_count": null,
   "metadata": {},
   "outputs": [],
   "source": [
    "%%writefile article/article/items.py\n",
    "\n",
    "import scrapy\n",
    "\n",
    "\n",
    "class ArticleItem(scrapy.Item):\n",
    "    title = scrapy.Field()\n",
    "    name = scrapy.Field()\n",
    "    name = scrapy.Field()\n",
    "    link = scrapy.Field()\n"
   ]
  },
  {
   "cell_type": "code",
   "execution_count": null,
   "metadata": {},
   "outputs": [],
   "source": []
  },
  {
   "cell_type": "code",
   "execution_count": null,
   "metadata": {},
   "outputs": [],
   "source": []
  },
  {
   "cell_type": "code",
   "execution_count": null,
   "metadata": {},
   "outputs": [],
   "source": []
  }
 ],
 "metadata": {
  "kernelspec": {
   "display_name": "Python 3",
   "language": "python",
   "name": "python3"
  },
  "language_info": {
   "codemirror_mode": {
    "name": "ipython",
    "version": 3
   },
   "file_extension": ".py",
   "mimetype": "text/x-python",
   "name": "python",
   "nbconvert_exporter": "python",
   "pygments_lexer": "ipython3",
   "version": "3.7.6"
  }
 },
 "nbformat": 4,
 "nbformat_minor": 4
}
