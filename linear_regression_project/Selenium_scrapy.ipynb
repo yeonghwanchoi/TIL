{
 "cells": [
  {
   "cell_type": "code",
   "execution_count": null,
   "metadata": {},
   "outputs": [],
   "source": []
  },
  {
   "cell_type": "markdown",
   "metadata": {},
   "source": [
    "### misit 과학기술 정보 통신부\n",
    "-http://msit.go.kr\n",
    "- 보도자료를 크롤링\n",
    "- json으로 데이터 수집\n",
    "- json 데이터 안에 gtml 코드가 들어있습니다"
   ]
  },
  {
   "cell_type": "markdown",
   "metadata": {},
   "source": [
    "### 이터레이터, 재너레이터\n",
    "- iterable : 순서가 있는 데이터의 집합\n",
    "- iterator : next 함수를 이용하여 값을 생성하는 값 생성기\n",
    "- geverator : iterator를 간결하게 만든 문법 "
   ]
  },
  {
   "cell_type": "markdown",
   "metadata": {},
   "source": [
    "# 1. 간단한 이터레이터 만들기\n",
    "data=[1,2,3]\n",
    "iterator = iter(data)\n",
    "type(iterator), iterator\n"
   ]
  },
  {
   "cell_type": "code",
   "execution_count": null,
   "metadata": {},
   "outputs": [],
   "source": [
    "next(iterator)"
   ]
  },
  {
   "cell_type": "code",
   "execution_count": null,
   "metadata": {},
   "outputs": [],
   "source": [
    "#2. 피보나치수열 itorator 로 구현\n",
    "class Fib:\n",
    "    def __init__(self):\n",
    "        self.prev = 0\n",
    "        self.curr = 1\n",
    "    def __iter__(self):\n",
    "        return self\n",
    "    def __next__(self):\n",
    "        value = self.curr\n",
    "        self.curr += self.prev\n",
    "        self.prev = value\n",
    "        return value"
   ]
  },
  {
   "cell_type": "code",
   "execution_count": null,
   "metadata": {},
   "outputs": [],
   "source": [
    "fib = Fib()"
   ]
  },
  {
   "cell_type": "code",
   "execution_count": 2,
   "metadata": {},
   "outputs": [
    {
     "ename": "NameError",
     "evalue": "name 'fib' is not defined",
     "output_type": "error",
     "traceback": [
      "\u001b[0;31m---------------------------------------------------------------------------\u001b[0m",
      "\u001b[0;31mNameError\u001b[0m                                 Traceback (most recent call last)",
      "\u001b[0;32m<ipython-input-2-4da7b70fa964>\u001b[0m in \u001b[0;36m<module>\u001b[0;34m\u001b[0m\n\u001b[0;32m----> 1\u001b[0;31m \u001b[0mnext\u001b[0m\u001b[0;34m(\u001b[0m\u001b[0mfib\u001b[0m\u001b[0;34m)\u001b[0m\u001b[0;34m\u001b[0m\u001b[0;34m\u001b[0m\u001b[0m\n\u001b[0m",
      "\u001b[0;31mNameError\u001b[0m: name 'fib' is not defined"
     ]
    }
   ],
   "source": [
    "next(fib)"
   ]
  },
  {
   "cell_type": "code",
   "execution_count": null,
   "metadata": {},
   "outputs": [],
   "source": [
    "### 3. 제너레이터 \n",
    "#이터레이터를 간결하게 구현할 수 있는 문법\n",
    "#클래스로 만드는 대신 함수로 생성할 수 있다\n",
    "#yifeld 예약어 사용"
   ]
  },
  {
   "cell_type": "code",
   "execution_count": null,
   "metadata": {},
   "outputs": [],
   "source": [
    "def fib():\n",
    "    prev, curr = 0,1\n",
    "    while True:\n",
    "        yield curr#값은 리턴하고 코드실행이 중단\n",
    "        prev, curr = curr, prev + curr\n",
    "            \n"
   ]
  },
  {
   "cell_type": "code",
   "execution_count": null,
   "metadata": {},
   "outputs": [],
   "source": [
    "f=fib()"
   ]
  },
  {
   "cell_type": "code",
   "execution_count": null,
   "metadata": {},
   "outputs": [],
   "source": [
    "next(f)"
   ]
  },
  {
   "cell_type": "code",
   "execution_count": null,
   "metadata": {},
   "outputs": [],
   "source": [
    "def test():\n",
    "    yield 1\n",
    "    yield 2\n",
    "    yield 3"
   ]
  },
  {
   "cell_type": "code",
   "execution_count": null,
   "metadata": {},
   "outputs": [],
   "source": [
    "t = test()\n",
    "type(t)"
   ]
  },
  {
   "cell_type": "code",
   "execution_count": null,
   "metadata": {},
   "outputs": [],
   "source": [
    "next(t)"
   ]
  },
  {
   "cell_type": "code",
   "execution_count": null,
   "metadata": {},
   "outputs": [],
   "source": [
    "#리스트 컴프리헨션 : 제너레이터의 한 종류"
   ]
  },
  {
   "cell_type": "code",
   "execution_count": null,
   "metadata": {},
   "outputs": [],
   "source": [
    "data = [1,2,3]\n",
    "[data*data for data in data]\n"
   ]
  },
  {
   "cell_type": "code",
   "execution_count": null,
   "metadata": {},
   "outputs": [],
   "source": [
    "result= {data:data**2 for data in data}\n",
    "type(result), result"
   ]
  },
  {
   "cell_type": "code",
   "execution_count": null,
   "metadata": {},
   "outputs": [],
   "source": [
    "#tuple 컴프리헨션으로 제너레이터 만들기"
   ]
  },
  {
   "cell_type": "code",
   "execution_count": null,
   "metadata": {},
   "outputs": [],
   "source": [
    "#튜플로 하면 제너레이터가된다\n",
    "gen = (data**2 for data in data)\n",
    "type(gen), gen"
   ]
  },
  {
   "cell_type": "code",
   "execution_count": null,
   "metadata": {},
   "outputs": [],
   "source": [
    "next(gen)"
   ]
  },
  {
   "cell_type": "code",
   "execution_count": null,
   "metadata": {},
   "outputs": [],
   "source": []
  },
  {
   "cell_type": "code",
   "execution_count": null,
   "metadata": {},
   "outputs": [],
   "source": []
  },
  {
   "cell_type": "code",
   "execution_count": null,
   "metadata": {},
   "outputs": [],
   "source": []
  },
  {
   "cell_type": "code",
   "execution_count": null,
   "metadata": {},
   "outputs": [],
   "source": []
  },
  {
   "cell_type": "code",
   "execution_count": null,
   "metadata": {},
   "outputs": [],
   "source": []
  },
  {
   "cell_type": "code",
   "execution_count": null,
   "metadata": {},
   "outputs": [],
   "source": [
    "# ### scrapy\n",
    "# -scraoy 프로젝트 만들기\n",
    "# - scrapy 기본구조\n",
    "# - scrapy 코드작성\n",
    "# - scrapy 실행\n",
    "!pip install scrapy"
   ]
  },
  {
   "cell_type": "code",
   "execution_count": null,
   "metadata": {},
   "outputs": [],
   "source": [
    "# 1. 스크레피 프로젝트 생성\n",
    "!scrapy startproject crawler"
   ]
  },
  {
   "cell_type": "code",
   "execution_count": null,
   "metadata": {},
   "outputs": [],
   "source": [
    "!ls"
   ]
  },
  {
   "cell_type": "code",
   "execution_count": null,
   "metadata": {},
   "outputs": [],
   "source": [
    "!tree crawler"
   ]
  },
  {
   "cell_type": "code",
   "execution_count": null,
   "metadata": {},
   "outputs": [],
   "source": [
    "#2. scrapy 의 기본구조 "
   ]
  },
  {
   "cell_type": "code",
   "execution_count": null,
   "metadata": {},
   "outputs": [],
   "source": [
    "- spiders 디렉토리\n",
    "    -어떤 사이트를 어떤 절차로 크롤링할 것인지를 코드로 명시하는 디렉토리\n",
    "    -여러개의 spider를 모듈로 생성할 수 있다\n",
    "-items.py\n",
    "    -웹페이지에서 원하는 데이터를 저장할 때 사용되는 자료구조 클래스\n",
    "-pipelines.py\n",
    "    - 크롤링한 데이터를 처리하는 코드를 작성 \n",
    "-settings.py\n",
    "    - 스크래피 프로젝트에 대한 설정값 : rebots.txt를 따를지 안따를지 설정 ... "
   ]
  },
  {
   "cell_type": "code",
   "execution_count": 27,
   "metadata": {},
   "outputs": [
    {
     "data": {
      "text/plain": [
       "<200 http://corners.gmarket.co.kr/Bestsellers>"
      ]
     },
     "execution_count": 27,
     "metadata": {},
     "output_type": "execute_result"
    }
   ],
   "source": [
    "###3. scrapy 코드 작성\n",
    "# 상품 링크 크롤링 > 상세페이지에서 제목,판매가,원가 크롤링\n",
    "from scrapy.http import TextResponse\n",
    "req = requests.get(\"http://corners.gmarket.co.kr/Bestsellers\")\n",
    "response = TextResponse(req.url, body=req.text, encoding=\"utf-8\")\n",
    "response"
   ]
  },
  {
   "cell_type": "code",
   "execution_count": 28,
   "metadata": {},
   "outputs": [
    {
     "data": {
      "text/plain": [
       "['http://item.gmarket.co.kr/Item?goodscode=1825372757&ver=637293895192749189',\n",
       " 'http://item.gmarket.co.kr/Item?goodscode=373058782&ver=637293895192749189',\n",
       " 'http://item.gmarket.co.kr/Item?goodscode=1114973997&ver=637293895192749189']"
      ]
     },
     "execution_count": 28,
     "metadata": {},
     "output_type": "execute_result"
    }
   ],
   "source": [
    "links = response.xpath(\n",
    "    '//*[@id=\"gBestWrap\"]/div/div[3]/div[2]/ul/li/div[1]/a/@href').extract()\n",
    "links[-3:]"
   ]
  },
  {
   "cell_type": "code",
   "execution_count": 29,
   "metadata": {},
   "outputs": [],
   "source": [
    "# 절차\n",
    "#1. 웹페이지 분석 및 selector(xpath) 찾기 \n",
    "#2. scrapy 프로젝트 생성 및 코드 작성(items> spider > pipeline)\n",
    "#3. scrapy 실행(크롤링)\n",
    "link=links[2]\n"
   ]
  },
  {
   "cell_type": "code",
   "execution_count": 30,
   "metadata": {},
   "outputs": [
    {
     "data": {
      "text/plain": [
       "<200 http://item.gmarket.co.kr/Item?goodscode=1835382457&ver=637293895192593185>"
      ]
     },
     "execution_count": 30,
     "metadata": {},
     "output_type": "execute_result"
    }
   ],
   "source": [
    "# 베스트 셀러 상품 200개 링크 selector \n",
    "req=requests.get(link)\n",
    "response = TextResponse(req.url, body=req.text, encoding=\"utf-8\")\n",
    "response"
   ]
  },
  {
   "cell_type": "code",
   "execution_count": 31,
   "metadata": {},
   "outputs": [
    {
     "data": {
      "text/plain": [
       "('블랑슈 센시티브 아기물티슈 캡형 100매x10팩', '9,900', '27,500')"
      ]
     },
     "execution_count": 31,
     "metadata": {},
     "output_type": "execute_result"
    }
   ],
   "source": [
    "# 상세페이지에서 제목, 판매가, 원가 수집\n",
    "title = response.xpath('//*[@id=\"itemcase_basic\"]/h1/text()')[0].extract().strip()\n",
    "s_price = response.xpath('//*[@id=\"itemcase_basic\"]/p/span/strong/text()')[0].extract().strip()\n",
    "\n",
    "try: \n",
    "    o_price = response.xpath('//*[@id=\"itemcase_basic\"]/p/span/span/text()')[0].extract().strip()\n",
    "except:\n",
    "    o_price = s_price\n",
    "#o_price\n",
    "#s_price\n",
    "title, s_price, o_price"
   ]
  },
  {
   "cell_type": "code",
   "execution_count": 32,
   "metadata": {},
   "outputs": [
    {
     "name": "stdout",
     "output_type": "stream",
     "text": [
      "Error: scrapy.cfg already exists in /Users/yeonghwanchoi/Documents/dev/TIL/linear_regression_project/gmarket\r\n"
     ]
    }
   ],
   "source": [
    "#프로젝트 만들기\n",
    "! scrapy startproject gmarket \n"
   ]
  },
  {
   "cell_type": "code",
   "execution_count": 33,
   "metadata": {},
   "outputs": [],
   "source": [
    "#1.item.py 코드작성: 제목 상품링크,원가 판매가\n"
   ]
  },
  {
   "cell_type": "code",
   "execution_count": 54,
   "metadata": {},
   "outputs": [],
   "source": [
    "# %load gmarket/gmarket/items.py\n",
    "# Define here the models for your scraped items\n",
    "#\n",
    "# See documentation in:\n",
    "# https://docs.scrapy.org/en/latest/topics/items.html\n",
    "\n",
    "import scrapy\n",
    "\n",
    "\n",
    "class GmarketItem(scrapy.Item):\n",
    "    \n",
    "    title = scrapy.Field()\n",
    "    link = scrapy.Field()\n",
    "    o_price = scrapy.Field()\n",
    "    s_price = scrapy.Field()\n",
    "    # define the fields for your item here like:\n",
    "    # name = scrapy.Field()\n",
    "    pass\n"
   ]
  },
  {
   "cell_type": "code",
   "execution_count": 55,
   "metadata": {},
   "outputs": [],
   "source": [
    "#2. spider.py 코드작성"
   ]
  },
  {
   "cell_type": "code",
   "execution_count": 64,
   "metadata": {},
   "outputs": [
    {
     "name": "stdout",
     "output_type": "stream",
     "text": [
      "Overwriting gmarket/gmarket/spiders/spiders.py\n"
     ]
    }
   ],
   "source": [
    "%%writefile gmarket/gmarket/spiders/spiders.py\n",
    "import scrapy\n",
    "from gmarket.items import GmarketItem\n",
    "\n",
    "class Spider(scrapy.Spider):#여러게 크롤링하고 싶다면 스파이더 추가\n",
    "    \n",
    "    name = \"GmarketBestSellers\"\n",
    "    allow_domain=[\"gmarket.co.kr\"]\n",
    "    start_urls= [\"http://corners.gmarket.co.kr/Bestsellers\"] #처음 시작하는 url\n",
    "    \n",
    "    def parse(self, response):\n",
    "        links = response.xpath(\n",
    "            \"//*[@id='gBestWrap']/div/div[3]/div[2]/ul/li[1]/div[1]/a/@href\").extract()\n",
    "        for link in links: \n",
    "            yield scrapy.Request(link, callback=self.parse_content)#yield \n",
    "    def parse_content(self, response):\n",
    "        item = GmarketItem()\n",
    "        item[\"title\"] = response.xpath('//*[@id=\"itemcase_basic\"]/h1/text()')[0].extract().strip()\n",
    "        item[\"s_price\"]=response.xpath('//*[@id=\"itemcase_basic\"]/h1/text()')[0].extract().strip()\n",
    "        \n",
    "        try:\n",
    "            item[\"o_price\"]=response.xpath('//*[@id=\"itemcase_basic\"]/p/span/span/text()')[0].extract().strip()\n",
    "        except:\n",
    "            item[\"o_price\"]=item[\"s_price\"]\n",
    "        item[\"link\"]= response.url\n",
    "        yield item"
   ]
  },
  {
   "cell_type": "code",
   "execution_count": 65,
   "metadata": {},
   "outputs": [],
   "source": [
    "# title = response.xpath('//*[@id=\"itemcase_basic\"]/h1/text()')[0].extract().strip()\n",
    "# s_price = response.xpath('//*[@id=\"itemcase_basic\"]/p/span/strong/text()')[0].extract().strip()\n",
    "\n",
    "# try: \n",
    "#     o_price = response.xpath('//*[@id=\"itemcase_basic\"]/p/span/span/text()')[0].extract().strip()\n",
    "# except:\n",
    "#     o_price = s_price\n",
    "# #o_price\n",
    "# #s_price\n",
    "# title, s_price, o_price"
   ]
  },
  {
   "cell_type": "code",
   "execution_count": 66,
   "metadata": {},
   "outputs": [],
   "source": [
    "#3. scrapy 실행\n",
    "# scrapy.cfg 파일이 있는 디렉토리에서 $scrapy crawl <project name><spider name> 으로 실행\n",
    "#$cd gmarket\n",
    "#$scrapy gmarket GmarketBestsellers\n"
   ]
  },
  {
   "cell_type": "code",
   "execution_count": 67,
   "metadata": {},
   "outputs": [
    {
     "name": "stdout",
     "output_type": "stream",
     "text": [
      "Overwriting run.sh\n"
     ]
    }
   ],
   "source": [
    "%%writefile run.sh\n",
    "cd gmarket\n",
    "scrapy crawl GmarketBestSellers"
   ]
  },
  {
   "cell_type": "code",
   "execution_count": 68,
   "metadata": {},
   "outputs": [],
   "source": [
    "#windows : git bash에서 직접실행\n",
    "#mac :!source run.sh\n",
    "#ubuntu: ./run.sh"
   ]
  },
  {
   "cell_type": "code",
   "execution_count": 69,
   "metadata": {},
   "outputs": [],
   "source": [
    "!chmod 777 run.sh"
   ]
  },
  {
   "cell_type": "code",
   "execution_count": 70,
   "metadata": {},
   "outputs": [
    {
     "name": "stdout",
     "output_type": "stream",
     "text": [
      "2020-07-03 16:20:15 [scrapy.utils.log] INFO: Scrapy 2.2.0 started (bot: gmarket)\n",
      "2020-07-03 16:20:15 [scrapy.utils.log] INFO: Versions: lxml 4.5.0.0, libxml2 2.9.9, cssselect 1.1.0, parsel 1.6.0, w3lib 1.22.0, Twisted 20.3.0, Python 3.7.6 (default, Jan  8 2020, 13:42:34) - [Clang 4.0.1 (tags/RELEASE_401/final)], pyOpenSSL 19.1.0 (OpenSSL 1.1.1d  10 Sep 2019), cryptography 2.8, Platform Darwin-19.5.0-x86_64-i386-64bit\n",
      "2020-07-03 16:20:15 [scrapy.utils.log] DEBUG: Using reactor: twisted.internet.selectreactor.SelectReactor\n",
      "2020-07-03 16:20:15 [scrapy.crawler] INFO: Overridden settings:\n",
      "{'BOT_NAME': 'gmarket',\n",
      " 'NEWSPIDER_MODULE': 'gmarket.spiders',\n",
      " 'ROBOTSTXT_OBEY': True,\n",
      " 'SPIDER_MODULES': ['gmarket.spiders']}\n",
      "2020-07-03 16:20:15 [scrapy.extensions.telnet] INFO: Telnet Password: abf9abfc3ab3b9a5\n",
      "2020-07-03 16:20:15 [scrapy.middleware] INFO: Enabled extensions:\n",
      "['scrapy.extensions.corestats.CoreStats',\n",
      " 'scrapy.extensions.telnet.TelnetConsole',\n",
      " 'scrapy.extensions.memusage.MemoryUsage',\n",
      " 'scrapy.extensions.logstats.LogStats']\n",
      "2020-07-03 16:20:15 [scrapy.middleware] INFO: Enabled downloader middlewares:\n",
      "['scrapy.downloadermiddlewares.robotstxt.RobotsTxtMiddleware',\n",
      " 'scrapy.downloadermiddlewares.httpauth.HttpAuthMiddleware',\n",
      " 'scrapy.downloadermiddlewares.downloadtimeout.DownloadTimeoutMiddleware',\n",
      " 'scrapy.downloadermiddlewares.defaultheaders.DefaultHeadersMiddleware',\n",
      " 'scrapy.downloadermiddlewares.useragent.UserAgentMiddleware',\n",
      " 'scrapy.downloadermiddlewares.retry.RetryMiddleware',\n",
      " 'scrapy.downloadermiddlewares.redirect.MetaRefreshMiddleware',\n",
      " 'scrapy.downloadermiddlewares.httpcompression.HttpCompressionMiddleware',\n",
      " 'scrapy.downloadermiddlewares.redirect.RedirectMiddleware',\n",
      " 'scrapy.downloadermiddlewares.cookies.CookiesMiddleware',\n",
      " 'scrapy.downloadermiddlewares.httpproxy.HttpProxyMiddleware',\n",
      " 'scrapy.downloadermiddlewares.stats.DownloaderStats']\n",
      "2020-07-03 16:20:15 [scrapy.middleware] INFO: Enabled spider middlewares:\n",
      "['scrapy.spidermiddlewares.httperror.HttpErrorMiddleware',\n",
      " 'scrapy.spidermiddlewares.offsite.OffsiteMiddleware',\n",
      " 'scrapy.spidermiddlewares.referer.RefererMiddleware',\n",
      " 'scrapy.spidermiddlewares.urllength.UrlLengthMiddleware',\n",
      " 'scrapy.spidermiddlewares.depth.DepthMiddleware']\n",
      "2020-07-03 16:20:15 [scrapy.middleware] INFO: Enabled item pipelines:\n",
      "[]\n",
      "2020-07-03 16:20:15 [scrapy.core.engine] INFO: Spider opened\n",
      "2020-07-03 16:20:15 [scrapy.extensions.logstats] INFO: Crawled 0 pages (at 0 pages/min), scraped 0 items (at 0 items/min)\n",
      "2020-07-03 16:20:15 [scrapy.extensions.telnet] INFO: Telnet console listening on 127.0.0.1:6023\n",
      "2020-07-03 16:20:16 [scrapy.core.engine] DEBUG: Crawled (200) <GET http://corners.gmarket.co.kr/robots.txt> (referer: None)\n",
      "2020-07-03 16:20:16 [protego] DEBUG: Rule at line 3 without any user agent to enforce it on.\n",
      "2020-07-03 16:20:19 [scrapy.core.engine] DEBUG: Crawled (200) <GET http://corners.gmarket.co.kr/Bestsellers> (referer: None)\n",
      "2020-07-03 16:20:20 [scrapy.core.engine] DEBUG: Crawled (200) <GET http://item.gmarket.co.kr/robots.txt> (referer: None)\n",
      "2020-07-03 16:20:20 [protego] DEBUG: Rule at line 1 without any user agent to enforce it on.\n",
      "2020-07-03 16:20:20 [protego] DEBUG: Rule at line 2 without any user agent to enforce it on.\n",
      "2020-07-03 16:20:24 [scrapy.core.engine] DEBUG: Crawled (200) <GET http://item.gmarket.co.kr/Item?goodscode=1837751815&ver=637293900170991464> (referer: http://corners.gmarket.co.kr/Bestsellers)\n",
      "2020-07-03 16:20:24 [scrapy.core.scraper] ERROR: Spider error processing <GET http://item.gmarket.co.kr/Item?goodscode=1837751815&ver=637293900170991464> (referer: http://corners.gmarket.co.kr/Bestsellers)\n",
      "Traceback (most recent call last):\n",
      "  File \"/Users/yeonghwanchoi/opt/anaconda3/lib/python3.7/site-packages/scrapy/utils/defer.py\", line 120, in iter_errback\n",
      "    yield next(it)\n",
      "  File \"/Users/yeonghwanchoi/opt/anaconda3/lib/python3.7/site-packages/scrapy/utils/python.py\", line 346, in __next__\n",
      "    return next(self.data)\n",
      "  File \"/Users/yeonghwanchoi/opt/anaconda3/lib/python3.7/site-packages/scrapy/utils/python.py\", line 346, in __next__\n",
      "    return next(self.data)\n",
      "  File \"/Users/yeonghwanchoi/opt/anaconda3/lib/python3.7/site-packages/scrapy/core/spidermw.py\", line 64, in _evaluate_iterable\n",
      "    for r in iterable:\n",
      "  File \"/Users/yeonghwanchoi/opt/anaconda3/lib/python3.7/site-packages/scrapy/spidermiddlewares/offsite.py\", line 29, in process_spider_output\n",
      "    for x in result:\n",
      "  File \"/Users/yeonghwanchoi/opt/anaconda3/lib/python3.7/site-packages/scrapy/core/spidermw.py\", line 64, in _evaluate_iterable\n",
      "    for r in iterable:\n",
      "  File \"/Users/yeonghwanchoi/opt/anaconda3/lib/python3.7/site-packages/scrapy/spidermiddlewares/referer.py\", line 340, in <genexpr>\n",
      "    return (_set_referer(r) for r in result or ())\n",
      "  File \"/Users/yeonghwanchoi/opt/anaconda3/lib/python3.7/site-packages/scrapy/core/spidermw.py\", line 64, in _evaluate_iterable\n",
      "    for r in iterable:\n",
      "  File \"/Users/yeonghwanchoi/opt/anaconda3/lib/python3.7/site-packages/scrapy/spidermiddlewares/urllength.py\", line 37, in <genexpr>\n",
      "    return (r for r in result or () if _filter(r))\n",
      "  File \"/Users/yeonghwanchoi/opt/anaconda3/lib/python3.7/site-packages/scrapy/core/spidermw.py\", line 64, in _evaluate_iterable\n",
      "    for r in iterable:\n",
      "  File \"/Users/yeonghwanchoi/opt/anaconda3/lib/python3.7/site-packages/scrapy/spidermiddlewares/depth.py\", line 58, in <genexpr>\n",
      "    return (r for r in result or () if _filter(r))\n",
      "  File \"/Users/yeonghwanchoi/opt/anaconda3/lib/python3.7/site-packages/scrapy/core/spidermw.py\", line 64, in _evaluate_iterable\n",
      "    for r in iterable:\n",
      "  File \"/Users/yeonghwanchoi/Documents/dev/TIL/linear_regression_project/gmarket/gmarket/spiders/spiders.py\", line 17, in parse_content\n",
      "    item[\"title\"] = response.xpath('//*[@id=\"itemcase_basic\"]/h1/text()')[0].extract().strip()\n",
      "  File \"/Users/yeonghwanchoi/opt/anaconda3/lib/python3.7/site-packages/scrapy/item.py\", line 99, in __setitem__\n",
      "    raise KeyError(\"%s does not support field: %s\" % (self.__class__.__name__, key))\n",
      "KeyError: 'GmarketItem does not support field: title'\n",
      "2020-07-03 16:20:24 [scrapy.core.engine] INFO: Closing spider (finished)\n",
      "2020-07-03 16:20:24 [scrapy.statscollectors] INFO: Dumping Scrapy stats:\n",
      "{'downloader/request_bytes': 1082,\n",
      " 'downloader/request_count': 4,\n",
      " 'downloader/request_method_count/GET': 4,\n",
      " 'downloader/response_bytes': 64179,\n",
      " 'downloader/response_count': 4,\n",
      " 'downloader/response_status_count/200': 4,\n",
      " 'elapsed_time_seconds': 8.921127,\n",
      " 'finish_reason': 'finished',\n",
      " 'finish_time': datetime.datetime(2020, 7, 3, 7, 20, 24, 136875),\n",
      " 'log_count/DEBUG': 7,\n",
      " 'log_count/ERROR': 1,\n",
      " 'log_count/INFO': 10,\n",
      " 'memusage/max': 50851840,\n",
      " 'memusage/startup': 50851840,\n",
      " 'request_depth_max': 1,\n",
      " 'response_received_count': 4,\n",
      " 'robotstxt/request_count': 2,\n",
      " 'robotstxt/response_count': 2,\n",
      " 'robotstxt/response_status_count/200': 2,\n",
      " 'scheduler/dequeued': 2,\n",
      " 'scheduler/dequeued/memory': 2,\n",
      " 'scheduler/enqueued': 2,\n",
      " 'scheduler/enqueued/memory': 2,\n",
      " 'spider_exceptions/KeyError': 1,\n",
      " 'start_time': datetime.datetime(2020, 7, 3, 7, 20, 15, 215748)}\n",
      "2020-07-03 16:20:24 [scrapy.core.engine] INFO: Spider closed (finished)\n"
     ]
    }
   ],
   "source": [
    "!source run.sh"
   ]
  },
  {
   "cell_type": "code",
   "execution_count": 19,
   "metadata": {},
   "outputs": [],
   "source": [
    "#결과 csv로 저장\n",
    "    "
   ]
  },
  {
   "cell_type": "code",
   "execution_count": 20,
   "metadata": {},
   "outputs": [
    {
     "name": "stdout",
     "output_type": "stream",
     "text": [
      "Overwriting run.sh\n"
     ]
    }
   ],
   "source": [
    "%%writefile run.sh\n",
    "cd gmarket\n",
    "scrapy crawl GmarketBestsellers -o gmarket200.csv"
   ]
  },
  {
   "cell_type": "code",
   "execution_count": 21,
   "metadata": {},
   "outputs": [
    {
     "name": "stdout",
     "output_type": "stream",
     "text": [
      "Traceback (most recent call last):\r\n",
      "  File \"/Users/yeonghwanchoi/opt/anaconda3/bin/scrapy\", line 8, in <module>\r\n",
      "    sys.exit(execute())\r\n",
      "  File \"/Users/yeonghwanchoi/opt/anaconda3/lib/python3.7/site-packages/scrapy/cmdline.py\", line 142, in execute\r\n",
      "    cmd.crawler_process = CrawlerProcess(settings)\r\n",
      "  File \"/Users/yeonghwanchoi/opt/anaconda3/lib/python3.7/site-packages/scrapy/crawler.py\", line 280, in __init__\r\n",
      "    super(CrawlerProcess, self).__init__(settings)\r\n",
      "  File \"/Users/yeonghwanchoi/opt/anaconda3/lib/python3.7/site-packages/scrapy/crawler.py\", line 152, in __init__\r\n",
      "    self.spider_loader = self._get_spider_loader(settings)\r\n",
      "  File \"/Users/yeonghwanchoi/opt/anaconda3/lib/python3.7/site-packages/scrapy/crawler.py\", line 146, in _get_spider_loader\r\n",
      "    return loader_cls.from_settings(settings.frozencopy())\r\n",
      "  File \"/Users/yeonghwanchoi/opt/anaconda3/lib/python3.7/site-packages/scrapy/spiderloader.py\", line 68, in from_settings\r\n",
      "    return cls(settings)\r\n",
      "  File \"/Users/yeonghwanchoi/opt/anaconda3/lib/python3.7/site-packages/scrapy/spiderloader.py\", line 24, in __init__\r\n",
      "    self._load_all_spiders()\r\n",
      "  File \"/Users/yeonghwanchoi/opt/anaconda3/lib/python3.7/site-packages/scrapy/spiderloader.py\", line 51, in _load_all_spiders\r\n",
      "    for module in walk_modules(name):\r\n",
      "  File \"/Users/yeonghwanchoi/opt/anaconda3/lib/python3.7/site-packages/scrapy/utils/misc.py\", line 77, in walk_modules\r\n",
      "    submod = import_module(fullpath)\r\n",
      "  File \"/Users/yeonghwanchoi/opt/anaconda3/lib/python3.7/importlib/__init__.py\", line 127, in import_module\r\n",
      "    return _bootstrap._gcd_import(name[level:], package, level)\r\n",
      "  File \"<frozen importlib._bootstrap>\", line 1006, in _gcd_import\r\n",
      "  File \"<frozen importlib._bootstrap>\", line 983, in _find_and_load\r\n",
      "  File \"<frozen importlib._bootstrap>\", line 967, in _find_and_load_unlocked\r\n",
      "  File \"<frozen importlib._bootstrap>\", line 677, in _load_unlocked\r\n",
      "  File \"<frozen importlib._bootstrap_external>\", line 724, in exec_module\r\n",
      "  File \"<frozen importlib._bootstrap_external>\", line 860, in get_code\r\n",
      "  File \"<frozen importlib._bootstrap_external>\", line 791, in source_to_code\r\n",
      "  File \"<frozen importlib._bootstrap>\", line 219, in _call_with_frames_removed\r\n",
      "  File \"/Users/yeonghwanchoi/Documents/dev/TIL/linear_regression_project/gmarket/gmarket/spiders/spiders.py\", line 12\r\n",
      "    \"//*[@id=\"gBestWrap\"]/div/div[3]/div[2]/ul/li[1]/div[1]/a/@href\").extract()\r\n",
      "                      ^\r\n",
      "SyntaxError: invalid syntax\r\n"
     ]
    }
   ],
   "source": [
    "!source run.sh"
   ]
  },
  {
   "cell_type": "code",
   "execution_count": 22,
   "metadata": {},
   "outputs": [
    {
     "name": "stdout",
     "output_type": "stream",
     "text": [
      "\u001b[34mgmarket\u001b[m\u001b[m    scrapy.cfg\r\n"
     ]
    }
   ],
   "source": [
    "!ls gmarket/"
   ]
  },
  {
   "cell_type": "code",
   "execution_count": 24,
   "metadata": {},
   "outputs": [
    {
     "ename": "FileNotFoundError",
     "evalue": "[Errno 2] File gmarket/gmarket200.csv does not exist: 'gmarket/gmarket200.csv'",
     "output_type": "error",
     "traceback": [
      "\u001b[0;31m---------------------------------------------------------------------------\u001b[0m",
      "\u001b[0;31mFileNotFoundError\u001b[0m                         Traceback (most recent call last)",
      "\u001b[0;32m<ipython-input-24-a16b5e7b00a1>\u001b[0m in \u001b[0;36m<module>\u001b[0;34m\u001b[0m\n\u001b[0;32m----> 1\u001b[0;31m \u001b[0mpd\u001b[0m\u001b[0;34m.\u001b[0m\u001b[0mread_csv\u001b[0m\u001b[0;34m(\u001b[0m\u001b[0;34m\"gmarket/gmarket200.csv\"\u001b[0m\u001b[0;34m)\u001b[0m\u001b[0;34m\u001b[0m\u001b[0;34m\u001b[0m\u001b[0m\n\u001b[0m",
      "\u001b[0;32m~/opt/anaconda3/lib/python3.7/site-packages/pandas/io/parsers.py\u001b[0m in \u001b[0;36mparser_f\u001b[0;34m(filepath_or_buffer, sep, delimiter, header, names, index_col, usecols, squeeze, prefix, mangle_dupe_cols, dtype, engine, converters, true_values, false_values, skipinitialspace, skiprows, skipfooter, nrows, na_values, keep_default_na, na_filter, verbose, skip_blank_lines, parse_dates, infer_datetime_format, keep_date_col, date_parser, dayfirst, cache_dates, iterator, chunksize, compression, thousands, decimal, lineterminator, quotechar, quoting, doublequote, escapechar, comment, encoding, dialect, error_bad_lines, warn_bad_lines, delim_whitespace, low_memory, memory_map, float_precision)\u001b[0m\n\u001b[1;32m    674\u001b[0m         )\n\u001b[1;32m    675\u001b[0m \u001b[0;34m\u001b[0m\u001b[0m\n\u001b[0;32m--> 676\u001b[0;31m         \u001b[0;32mreturn\u001b[0m \u001b[0m_read\u001b[0m\u001b[0;34m(\u001b[0m\u001b[0mfilepath_or_buffer\u001b[0m\u001b[0;34m,\u001b[0m \u001b[0mkwds\u001b[0m\u001b[0;34m)\u001b[0m\u001b[0;34m\u001b[0m\u001b[0;34m\u001b[0m\u001b[0m\n\u001b[0m\u001b[1;32m    677\u001b[0m \u001b[0;34m\u001b[0m\u001b[0m\n\u001b[1;32m    678\u001b[0m     \u001b[0mparser_f\u001b[0m\u001b[0;34m.\u001b[0m\u001b[0m__name__\u001b[0m \u001b[0;34m=\u001b[0m \u001b[0mname\u001b[0m\u001b[0;34m\u001b[0m\u001b[0;34m\u001b[0m\u001b[0m\n",
      "\u001b[0;32m~/opt/anaconda3/lib/python3.7/site-packages/pandas/io/parsers.py\u001b[0m in \u001b[0;36m_read\u001b[0;34m(filepath_or_buffer, kwds)\u001b[0m\n\u001b[1;32m    446\u001b[0m \u001b[0;34m\u001b[0m\u001b[0m\n\u001b[1;32m    447\u001b[0m     \u001b[0;31m# Create the parser.\u001b[0m\u001b[0;34m\u001b[0m\u001b[0;34m\u001b[0m\u001b[0;34m\u001b[0m\u001b[0m\n\u001b[0;32m--> 448\u001b[0;31m     \u001b[0mparser\u001b[0m \u001b[0;34m=\u001b[0m \u001b[0mTextFileReader\u001b[0m\u001b[0;34m(\u001b[0m\u001b[0mfp_or_buf\u001b[0m\u001b[0;34m,\u001b[0m \u001b[0;34m**\u001b[0m\u001b[0mkwds\u001b[0m\u001b[0;34m)\u001b[0m\u001b[0;34m\u001b[0m\u001b[0;34m\u001b[0m\u001b[0m\n\u001b[0m\u001b[1;32m    449\u001b[0m \u001b[0;34m\u001b[0m\u001b[0m\n\u001b[1;32m    450\u001b[0m     \u001b[0;32mif\u001b[0m \u001b[0mchunksize\u001b[0m \u001b[0;32mor\u001b[0m \u001b[0miterator\u001b[0m\u001b[0;34m:\u001b[0m\u001b[0;34m\u001b[0m\u001b[0;34m\u001b[0m\u001b[0m\n",
      "\u001b[0;32m~/opt/anaconda3/lib/python3.7/site-packages/pandas/io/parsers.py\u001b[0m in \u001b[0;36m__init__\u001b[0;34m(self, f, engine, **kwds)\u001b[0m\n\u001b[1;32m    878\u001b[0m             \u001b[0mself\u001b[0m\u001b[0;34m.\u001b[0m\u001b[0moptions\u001b[0m\u001b[0;34m[\u001b[0m\u001b[0;34m\"has_index_names\"\u001b[0m\u001b[0;34m]\u001b[0m \u001b[0;34m=\u001b[0m \u001b[0mkwds\u001b[0m\u001b[0;34m[\u001b[0m\u001b[0;34m\"has_index_names\"\u001b[0m\u001b[0;34m]\u001b[0m\u001b[0;34m\u001b[0m\u001b[0;34m\u001b[0m\u001b[0m\n\u001b[1;32m    879\u001b[0m \u001b[0;34m\u001b[0m\u001b[0m\n\u001b[0;32m--> 880\u001b[0;31m         \u001b[0mself\u001b[0m\u001b[0;34m.\u001b[0m\u001b[0m_make_engine\u001b[0m\u001b[0;34m(\u001b[0m\u001b[0mself\u001b[0m\u001b[0;34m.\u001b[0m\u001b[0mengine\u001b[0m\u001b[0;34m)\u001b[0m\u001b[0;34m\u001b[0m\u001b[0;34m\u001b[0m\u001b[0m\n\u001b[0m\u001b[1;32m    881\u001b[0m \u001b[0;34m\u001b[0m\u001b[0m\n\u001b[1;32m    882\u001b[0m     \u001b[0;32mdef\u001b[0m \u001b[0mclose\u001b[0m\u001b[0;34m(\u001b[0m\u001b[0mself\u001b[0m\u001b[0;34m)\u001b[0m\u001b[0;34m:\u001b[0m\u001b[0;34m\u001b[0m\u001b[0;34m\u001b[0m\u001b[0m\n",
      "\u001b[0;32m~/opt/anaconda3/lib/python3.7/site-packages/pandas/io/parsers.py\u001b[0m in \u001b[0;36m_make_engine\u001b[0;34m(self, engine)\u001b[0m\n\u001b[1;32m   1112\u001b[0m     \u001b[0;32mdef\u001b[0m \u001b[0m_make_engine\u001b[0m\u001b[0;34m(\u001b[0m\u001b[0mself\u001b[0m\u001b[0;34m,\u001b[0m \u001b[0mengine\u001b[0m\u001b[0;34m=\u001b[0m\u001b[0;34m\"c\"\u001b[0m\u001b[0;34m)\u001b[0m\u001b[0;34m:\u001b[0m\u001b[0;34m\u001b[0m\u001b[0;34m\u001b[0m\u001b[0m\n\u001b[1;32m   1113\u001b[0m         \u001b[0;32mif\u001b[0m \u001b[0mengine\u001b[0m \u001b[0;34m==\u001b[0m \u001b[0;34m\"c\"\u001b[0m\u001b[0;34m:\u001b[0m\u001b[0;34m\u001b[0m\u001b[0;34m\u001b[0m\u001b[0m\n\u001b[0;32m-> 1114\u001b[0;31m             \u001b[0mself\u001b[0m\u001b[0;34m.\u001b[0m\u001b[0m_engine\u001b[0m \u001b[0;34m=\u001b[0m \u001b[0mCParserWrapper\u001b[0m\u001b[0;34m(\u001b[0m\u001b[0mself\u001b[0m\u001b[0;34m.\u001b[0m\u001b[0mf\u001b[0m\u001b[0;34m,\u001b[0m \u001b[0;34m**\u001b[0m\u001b[0mself\u001b[0m\u001b[0;34m.\u001b[0m\u001b[0moptions\u001b[0m\u001b[0;34m)\u001b[0m\u001b[0;34m\u001b[0m\u001b[0;34m\u001b[0m\u001b[0m\n\u001b[0m\u001b[1;32m   1115\u001b[0m         \u001b[0;32melse\u001b[0m\u001b[0;34m:\u001b[0m\u001b[0;34m\u001b[0m\u001b[0;34m\u001b[0m\u001b[0m\n\u001b[1;32m   1116\u001b[0m             \u001b[0;32mif\u001b[0m \u001b[0mengine\u001b[0m \u001b[0;34m==\u001b[0m \u001b[0;34m\"python\"\u001b[0m\u001b[0;34m:\u001b[0m\u001b[0;34m\u001b[0m\u001b[0;34m\u001b[0m\u001b[0m\n",
      "\u001b[0;32m~/opt/anaconda3/lib/python3.7/site-packages/pandas/io/parsers.py\u001b[0m in \u001b[0;36m__init__\u001b[0;34m(self, src, **kwds)\u001b[0m\n\u001b[1;32m   1889\u001b[0m         \u001b[0mkwds\u001b[0m\u001b[0;34m[\u001b[0m\u001b[0;34m\"usecols\"\u001b[0m\u001b[0;34m]\u001b[0m \u001b[0;34m=\u001b[0m \u001b[0mself\u001b[0m\u001b[0;34m.\u001b[0m\u001b[0musecols\u001b[0m\u001b[0;34m\u001b[0m\u001b[0;34m\u001b[0m\u001b[0m\n\u001b[1;32m   1890\u001b[0m \u001b[0;34m\u001b[0m\u001b[0m\n\u001b[0;32m-> 1891\u001b[0;31m         \u001b[0mself\u001b[0m\u001b[0;34m.\u001b[0m\u001b[0m_reader\u001b[0m \u001b[0;34m=\u001b[0m \u001b[0mparsers\u001b[0m\u001b[0;34m.\u001b[0m\u001b[0mTextReader\u001b[0m\u001b[0;34m(\u001b[0m\u001b[0msrc\u001b[0m\u001b[0;34m,\u001b[0m \u001b[0;34m**\u001b[0m\u001b[0mkwds\u001b[0m\u001b[0;34m)\u001b[0m\u001b[0;34m\u001b[0m\u001b[0;34m\u001b[0m\u001b[0m\n\u001b[0m\u001b[1;32m   1892\u001b[0m         \u001b[0mself\u001b[0m\u001b[0;34m.\u001b[0m\u001b[0munnamed_cols\u001b[0m \u001b[0;34m=\u001b[0m \u001b[0mself\u001b[0m\u001b[0;34m.\u001b[0m\u001b[0m_reader\u001b[0m\u001b[0;34m.\u001b[0m\u001b[0munnamed_cols\u001b[0m\u001b[0;34m\u001b[0m\u001b[0;34m\u001b[0m\u001b[0m\n\u001b[1;32m   1893\u001b[0m \u001b[0;34m\u001b[0m\u001b[0m\n",
      "\u001b[0;32mpandas/_libs/parsers.pyx\u001b[0m in \u001b[0;36mpandas._libs.parsers.TextReader.__cinit__\u001b[0;34m()\u001b[0m\n",
      "\u001b[0;32mpandas/_libs/parsers.pyx\u001b[0m in \u001b[0;36mpandas._libs.parsers.TextReader._setup_parser_source\u001b[0;34m()\u001b[0m\n",
      "\u001b[0;31mFileNotFoundError\u001b[0m: [Errno 2] File gmarket/gmarket200.csv does not exist: 'gmarket/gmarket200.csv'"
     ]
    }
   ],
   "source": [
    "pd.read_csv(\"gmarket/gmarket200.csv\")"
   ]
  },
  {
   "cell_type": "code",
   "execution_count": null,
   "metadata": {},
   "outputs": [],
   "source": []
  },
  {
   "cell_type": "code",
   "execution_count": null,
   "metadata": {},
   "outputs": [],
   "source": []
  },
  {
   "cell_type": "code",
   "execution_count": null,
   "metadata": {},
   "outputs": [],
   "source": []
  },
  {
   "cell_type": "code",
   "execution_count": null,
   "metadata": {},
   "outputs": [],
   "source": []
  },
  {
   "cell_type": "code",
   "execution_count": null,
   "metadata": {},
   "outputs": [],
   "source": []
  }
 ],
 "metadata": {
  "kernelspec": {
   "display_name": "Python 3",
   "language": "python",
   "name": "python3"
  },
  "language_info": {
   "codemirror_mode": {
    "name": "ipython",
    "version": 3
   },
   "file_extension": ".py",
   "mimetype": "text/x-python",
   "name": "python",
   "nbconvert_exporter": "python",
   "pygments_lexer": "ipython3",
   "version": "3.7.6"
  }
 },
 "nbformat": 4,
 "nbformat_minor": 4
}
