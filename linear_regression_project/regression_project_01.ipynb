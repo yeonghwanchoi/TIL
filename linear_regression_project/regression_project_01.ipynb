{
 "cells": [
  {
   "cell_type": "code",
   "execution_count": 51,
   "metadata": {},
   "outputs": [],
   "source": [
    "import re\n",
    "import sys\n",
    "import missingno as msno\n",
    "import matplotlib.pyplot as plt\n",
    "from matplotlib import rc\n",
    "import seaborn as sns\n",
    "from PIL import Image\n",
    "import statsmodels.api as sm\n",
    "# from pandas_profiling import ProfileReport\n",
    "from functools import reduce\n",
    "\n",
    "%matplotlib inline\n",
    "rc('font', family='AppleGothic')\n",
    "plt.rcParams['axes.unicode_minus'] = False\n",
    "\n",
    "mod = sys.modules[__name__]\n",
    "\n",
    "from sklearn.model_selection import train_test_split\n",
    "from sklearn.preprocessing import RobustScaler, StandardScaler, MinMaxScaler\n",
    "from sklearn.tree import DecisionTreeClassifier\n",
    "from sklearn.linear_model import LogisticRegression\n",
    "from sklearn.metrics import confusion_matrix,classification_report,accuracy_score\n",
    "from sklearn.model_selection import cross_val_score"
   ]
  },
  {
   "cell_type": "markdown",
   "metadata": {},
   "source": [
    "배경지식 ESG\n",
    "\n",
    "E-환경\n",
    "S-사회\n",
    "G-지배구조\n",
    "\n",
    "ESG이란 원래 사회적인 책임을 지는 기업들의 환경과 사회, 지배구조 등 공공이익을 강조한 특수한 목적을 띄는 요소으로, \n",
    "기업이 공공의 이익에 기여함을 강조하는 유럽에서의 장기적인 성장에 중요한 요소로 생각하고 있으며, \n",
    "이를 활성화 시키기 장기투자펀드(ELTIF) 확대 및 사회적 기업 활성화 방안 모색을 통해 기업의 ESG 투자 활성화를 꾀함\n"
   ]
  },
  {
   "cell_type": "markdown",
   "metadata": {},
   "source": [
    "유럽 공기업을 대상으로한 연구 결과\n",
    "\n",
    "'Our findings suggest that ESG performance, especially concerning social and governance metrics, \n",
    " meaningfully affects credit ratings.' (Devalle, Alain & Fiandrino, Simona & Cantino Valter, 2017, Conclusion.)\n",
    " \n",
    "재무지표와 ESG 지표를 사용해 분석을 하였고 ESG가 신용평가에 유의미한 영향을 준다는 것으로 결론을 내림\n",
    "\n",
    "Logistics regression 모델 사용 \n",
    "   (환경)Env_Innov_Sc - 0.021 \n",
    "\n",
    "   (사회)Community_Sc - 0.001\n",
    "\n",
    "   (지배구조)Product_Resp_Sc - 0.037\n",
    "   (지배구조)Shareholder_Sc - 0.001\n",
    " "
   ]
  },
  {
   "cell_type": "markdown",
   "metadata": {},
   "source": [
    "한국에서의 ESG\n",
    "\n",
    "신평사들은 ESG를 기업 신용등급에 영향을 주는 주요한 평가 요소로 별도 반영하는 것에는 조심스러운 반응이다\n",
    "\n",
    "국내 신용평가사는 ESG 일부 요소가 이미 신용등급에 반영돼 있다는 입장이다. \n",
    "실제로 지배구조(G)가 취약한 기업의 경우 신용등급 산정 시 해당 요소가 부정적으로 작용한다.\n",
    "\n",
    "'08~14년까지의 데이터를 보아 E는 음의 관계, S는 관계성이 낮고, G는 양의 관계를 가짐'\n",
    "(Han et al. Asian Journal of Sustainability and Social Responsibility, 2016)\n",
    "\n",
    "\n",
    "'연구 결과로는 ESG가 신용평가에 영향을 미치며 기업의 규모에 따라 조금 다르게 영향을 미칠 수 있음'\n",
    "(ESG Scores and the Credit Market, 25 March 2020)\n",
    "\n",
    "방향성으로는 ESG가 관계가 있다고 생각을 하고 현재까지의 데이터를 가지고 영향력의 유무를 분석하려고 하기위함"
   ]
  },
  {
   "cell_type": "markdown",
   "metadata": {},
   "source": [
    "독립변수\n",
    "\n",
    "재무지표\n",
    "\n",
    "기업의 신용을 결정 할 때는 그 기업의 자산에 부채가 얼만큼 차지하는지 그 부채를 상환 할 수 있는 능력이 어떻게 되는지를 고려\n",
    "\n",
    "    부채총계: 총 빌린돈\n",
    "    자산총계: 기업의 자본과 부채의 총합 EX) 내 진짜 재산과 부채 또는 융자  \n",
    "\n",
    "    매출액: 새전 벌어드린 금액\n",
    "    당기순이익: 기업의 당기에 벌어들인 이익금 EX) 세후 연봉 \n",
    "    \n",
    "    운전자본: 회사가 운영되는데 필요한 돈 \n",
    "        유동자산: 당기에 상환해야 될 빌린돈과 현금화가 빠른 자산의 총계\n",
    "        재고자산: 아직 상품화하지 못한 자산 EX)아직 팔지 못한 물건들 또는 재료 \n",
    "        \n",
    "    유보액 :기업 활동을 하고 남은 처분 가능한 금액 EX) 다쓰고 남은돈 \n",
    "        \n",
    "선정기준: 분식회계 기업들의 더 좋은 신용평가를 받기위해 주로 조정하는 계정과목 \n",
    "\n",
    "    Using Financial Statement Data to Identify Factors Associated with Fraudulent Financial reporting\n",
    "    -OS Persons 저술 - ‎1995\n",
    "\n",
    "ESG지표 \n",
    "-E,S,G,ESG의 각 점수 ( KCGS : 한국기업지배구조원)"
   ]
  },
  {
   "cell_type": "markdown",
   "metadata": {},
   "source": [
    "신용평가 등급(종속변수) \n",
    "- 11년부터 20년까지, D등급 부터 AAA까지\n",
    "\n",
    "신용평가 점수 변화= 각 재무지표 + ESG지표"
   ]
  },
  {
   "cell_type": "markdown",
   "metadata": {},
   "source": [
    "ESG 지표와 각 재무지표들을 x의 독립변수로 산정, 신용등급을 독립변수로 지정함 \n",
    "\n",
    "처음에는 단순하게 각 독립변수에 변동 비율만을 적용을 하여 분석을 하였으나 아웃라이어가 크게 나오고,\n",
    "\n",
    "편차가 매우큼, 양적인 영향력을 반영 할 수 없어 \n",
    "\n",
    "재무지표의 비율을 자산총계 분으로 백분위화 하여 일괄 적용"
   ]
  },
  {
   "cell_type": "markdown",
   "metadata": {},
   "source": [
    "## Credit Rating"
   ]
  },
  {
   "cell_type": "code",
   "execution_count": 52,
   "metadata": {},
   "outputs": [],
   "source": [
    "def screen_name(df):\n",
    "    df = df.rename(columns = {\"평가대상회사\":\"기업명\"})\n",
    "    df = df[[\"기업명\",\"공시일자\",\"평가등급\"]]\n",
    "    df[\"공시일자\"] = df[\"공시일자\"].apply(lambda x: int(str(x)[:4]))\n",
    "    df[\"평가등급\"][df[\"평가등급\"] == \"취소\"] = np.nan\n",
    "    df[\"기업명\"] = df[\"기업명\"].apply(lambda x: str(x).replace(\"(주)\",\"\"))\n",
    "    df = df.dropna()\n",
    "    df = df.drop_duplicates(['기업명'],keep=\"last\").reset_index(drop=True)\n",
    "    df['평가등급'] = df['평가등급'].apply(credit_dlist.get)\n",
    "    return df\n",
    "\n",
    "def file_read():    \n",
    "    for a in credit_ls_2017_2020:\n",
    "        regex = re.compile(r'\\d\\d\\d\\d')\n",
    "        b = regex.search(a).group() \n",
    "        setattr(mod, 'df_credit_{}'.format(b), screen_name(pd.read_excel(a)))\n",
    "\n",
    "\n",
    "def give_point(df1, df2): \n",
    "    df_n = pd.merge(df1, df2, on = \"기업명\", how = \"inner\").dropna()\n",
    "    df_n[\"Point\"] = df_n[\"평가등급_x\"] - df_n[\"평가등급_y\"]\n",
    "    df_n[\"Point\"][df_n[\"Point\"].values != 0] =1\n",
    "    return df_n[[\"기업명\",\"Point\"]]\n",
    "\n",
    "\n",
    "def change_columns(df):\n",
    "    columns = [\"종목코드\",\"기업명\",\"결산월\",\"단위\",\"2019\",\"2018\",\"2017\",\"2016\",\"2015\",\"2014\"\n",
    "               ,\"2013\",\"2012\",\"2011\",\"2010\",\"2009\",\"2008\"]\n",
    "    df.columns = columns\n",
    "    df = df.rename(columns = {\"종목코드\":\"기업코드\"})\n",
    "    return df\n",
    "\n",
    "\n",
    "def merge_code(dfa,dfb):\n",
    "    dfb = dfb[[\"기업코드\",\"기업명\"]][dfb[\"기업명\"].isin(dfa[\"기업명\"])]\n",
    "    dfa = pd.merge(dfa,dfb, on=\"기업명\",how=\"inner\")\n",
    "    return dfa\n",
    "\n",
    "\n",
    "def calculate_df(df1, df2, df3, df4):    \n",
    "    df4.iloc[:,0] = df1.iloc[:,0]    \n",
    "    for i in range(1,11):\n",
    "        if i <=7:            \n",
    "            df4.iloc[:,i] = ((df1.iloc[:,i] - df3.iloc[:,i])/2)/(np.abs(df2.iloc[:,i]+df3.iloc[:,i])/2)\n",
    "        else:\n",
    "            df4.iloc[:,i] = (df1.iloc[:,i] - df3.iloc[:,i])/2            \n",
    "    return df4.rename(columns={'자산총계':\"TA\",'이자보상배율':'INTCOV','ROA':'ROA','ROE':'ROE',\n",
    "                            '총자산_총자본':'EQTA','유동비율':'CURR','비유동부채_자산':'LTDTA',\n",
    "                              '사회':'S','환경':'E','지배구조':'G'})"
   ]
  },
  {
   "cell_type": "code",
   "execution_count": 53,
   "metadata": {},
   "outputs": [
    {
     "data": {
      "text/html": [
       "<div>\n",
       "<style scoped>\n",
       "    .dataframe tbody tr th:only-of-type {\n",
       "        vertical-align: middle;\n",
       "    }\n",
       "\n",
       "    .dataframe tbody tr th {\n",
       "        vertical-align: top;\n",
       "    }\n",
       "\n",
       "    .dataframe thead th {\n",
       "        text-align: right;\n",
       "    }\n",
       "</style>\n",
       "<table border=\"1\" class=\"dataframe\">\n",
       "  <thead>\n",
       "    <tr style=\"text-align: right;\">\n",
       "      <th></th>\n",
       "      <th>Unnamed: 0</th>\n",
       "      <th>평가회사</th>\n",
       "      <th>평가대상회사</th>\n",
       "      <th>평가대상종류</th>\n",
       "      <th>공시일자</th>\n",
       "      <th>평가등급</th>\n",
       "      <th>등급감시</th>\n",
       "      <th>등급전망</th>\n",
       "    </tr>\n",
       "  </thead>\n",
       "  <tbody>\n",
       "    <tr>\n",
       "      <th>0</th>\n",
       "      <td>1</td>\n",
       "      <td>한국기업평가</td>\n",
       "      <td>삼성엔지니어링(주)</td>\n",
       "      <td>본평가</td>\n",
       "      <td>2020-01-02</td>\n",
       "      <td>A-</td>\n",
       "      <td>NaN</td>\n",
       "      <td>안정적</td>\n",
       "    </tr>\n",
       "    <tr>\n",
       "      <th>1</th>\n",
       "      <td>2</td>\n",
       "      <td>한국기업평가</td>\n",
       "      <td>삼화페인트공업(주)</td>\n",
       "      <td>수시평가</td>\n",
       "      <td>2020-01-02</td>\n",
       "      <td>BBB+</td>\n",
       "      <td>NaN</td>\n",
       "      <td>안정적</td>\n",
       "    </tr>\n",
       "    <tr>\n",
       "      <th>2</th>\n",
       "      <td>3</td>\n",
       "      <td>나이스신용평가</td>\n",
       "      <td>예금보험공사</td>\n",
       "      <td>본평가</td>\n",
       "      <td>2020-01-08</td>\n",
       "      <td>AAA</td>\n",
       "      <td>NaN</td>\n",
       "      <td>안정적</td>\n",
       "    </tr>\n",
       "    <tr>\n",
       "      <th>3</th>\n",
       "      <td>4</td>\n",
       "      <td>한국기업평가</td>\n",
       "      <td>에스케이증권(주)</td>\n",
       "      <td>본평가</td>\n",
       "      <td>2020-01-09</td>\n",
       "      <td>A</td>\n",
       "      <td>NaN</td>\n",
       "      <td>안정적</td>\n",
       "    </tr>\n",
       "    <tr>\n",
       "      <th>4</th>\n",
       "      <td>5</td>\n",
       "      <td>한국기업평가</td>\n",
       "      <td>우리종합금융(주)</td>\n",
       "      <td>본평가 (정정)</td>\n",
       "      <td>2020-01-09</td>\n",
       "      <td>A</td>\n",
       "      <td>NaN</td>\n",
       "      <td>안정적</td>\n",
       "    </tr>\n",
       "  </tbody>\n",
       "</table>\n",
       "</div>"
      ],
      "text/plain": [
       "   Unnamed: 0     평가회사      평가대상회사    평가대상종류       공시일자  평가등급 등급감시 등급전망\n",
       "0           1   한국기업평가  삼성엔지니어링(주)       본평가 2020-01-02    A-  NaN  안정적\n",
       "1           2   한국기업평가  삼화페인트공업(주)      수시평가 2020-01-02  BBB+  NaN  안정적\n",
       "2           3  나이스신용평가      예금보험공사       본평가 2020-01-08   AAA  NaN  안정적\n",
       "3           4   한국기업평가   에스케이증권(주)       본평가 2020-01-09     A  NaN  안정적\n",
       "4           5   한국기업평가   우리종합금융(주)  본평가 (정정) 2020-01-09     A  NaN  안정적"
      ]
     },
     "execution_count": 53,
     "metadata": {},
     "output_type": "execute_result"
    }
   ],
   "source": [
    "df_credit_2020 = pd.read_excel(\"2020_credit_rating.xlsx\")\n",
    "df_credit_2020.head()"
   ]
  },
  {
   "cell_type": "code",
   "execution_count": 54,
   "metadata": {},
   "outputs": [
    {
     "name": "stderr",
     "output_type": "stream",
     "text": [
      "/Users/yeonghwanchoi/opt/anaconda3/lib/python3.7/site-packages/ipykernel_launcher.py:5: SettingWithCopyWarning: \n",
      "A value is trying to be set on a copy of a slice from a DataFrame\n",
      "\n",
      "See the caveats in the documentation: https://pandas.pydata.org/pandas-docs/stable/user_guide/indexing.html#returning-a-view-versus-a-copy\n",
      "  \"\"\"\n",
      "/Users/yeonghwanchoi/opt/anaconda3/lib/python3.7/site-packages/ipykernel_launcher.py:22: SettingWithCopyWarning: \n",
      "A value is trying to be set on a copy of a slice from a DataFrame\n",
      "\n",
      "See the caveats in the documentation: https://pandas.pydata.org/pandas-docs/stable/user_guide/indexing.html#returning-a-view-versus-a-copy\n"
     ]
    },
    {
     "data": {
      "text/html": [
       "<div>\n",
       "<style scoped>\n",
       "    .dataframe tbody tr th:only-of-type {\n",
       "        vertical-align: middle;\n",
       "    }\n",
       "\n",
       "    .dataframe tbody tr th {\n",
       "        vertical-align: top;\n",
       "    }\n",
       "\n",
       "    .dataframe thead th {\n",
       "        text-align: right;\n",
       "    }\n",
       "</style>\n",
       "<table border=\"1\" class=\"dataframe\">\n",
       "  <thead>\n",
       "    <tr style=\"text-align: right;\">\n",
       "      <th></th>\n",
       "      <th>기업명</th>\n",
       "      <th>Point</th>\n",
       "    </tr>\n",
       "  </thead>\n",
       "  <tbody>\n",
       "    <tr>\n",
       "      <th>0</th>\n",
       "      <td>에이치에스디엔진</td>\n",
       "      <td>0</td>\n",
       "    </tr>\n",
       "    <tr>\n",
       "      <th>1</th>\n",
       "      <td>엘지이노텍</td>\n",
       "      <td>0</td>\n",
       "    </tr>\n",
       "    <tr>\n",
       "      <th>2</th>\n",
       "      <td>송원산업</td>\n",
       "      <td>0</td>\n",
       "    </tr>\n",
       "    <tr>\n",
       "      <th>3</th>\n",
       "      <td>엘아이지넥스원</td>\n",
       "      <td>0</td>\n",
       "    </tr>\n",
       "    <tr>\n",
       "      <th>4</th>\n",
       "      <td>한국수자원공사</td>\n",
       "      <td>0</td>\n",
       "    </tr>\n",
       "  </tbody>\n",
       "</table>\n",
       "</div>"
      ],
      "text/plain": [
       "        기업명  Point\n",
       "0  에이치에스디엔진      0\n",
       "1     엘지이노텍      0\n",
       "2      송원산업      0\n",
       "3   엘아이지넥스원      0\n",
       "4   한국수자원공사      0"
      ]
     },
     "execution_count": 54,
     "metadata": {},
     "output_type": "execute_result"
    }
   ],
   "source": [
    "credit_dlist={\"D\":0,\"C-\":1,\"C\":2,\"C+\":3,\"CC-\":4,\"CC\":5,\"CC+\":6,\"CCC-\":7,\"CCC\":8,\"CCC+\":9,\n",
    "              \"B-\":10,\"B\":11,\"B+\":12,\"BB-\":13,\"BB\":14,\"BB+\":15,\"BBB-\":16,\"BBB\":17,\"BBB+\":18,\n",
    "              \"A-\":19,\"A\":20,\"A+\":21,\"AA-\":22,\"AA\":23,\"AA+\":24,\"AAA-\":25,\"AAA\":26,\"AAA+\":27}\n",
    "\n",
    "credit_ls_2017_2020= [\"2017_credit_rating.xlsx\",\"2018_credit_rating.xlsx\",\"2019_credit_rating.xlsx\",\"2020_credit_rating.xlsx\"]\n",
    "\n",
    "file_read()\n",
    "\n",
    "df_2013_2016_credit = pd.read_excel(\"2013-2016_credit_rating.xlsx\")\n",
    "df_2013_2016_credit.columns = [\"nnamed\", \"평가회사\",\"기업명\",\"평가\",\"평가대상종류\",\"공시일자\",\"평가등급\",\"등급감시\",\"등급전망\"]\n",
    "df_2013_2016_credit[\"공시일자\"] = df_2013_2016_credit[\"공시일자\"].apply(lambda x: int(str(x)[:4]))\n",
    "\n",
    "for i in range(2013,2017):\n",
    "    setattr(mod, 'df_credit_{}'.format(i),screen_name(df_2013_2016_credit[df_2013_2016_credit[\"공시일자\"] == i]))\n",
    "\n",
    "\n",
    "list_credit = [df_credit_2013,df_credit_2014,df_credit_2015,df_credit_2016,df_credit_2017,df_credit_2018,df_credit_2019,df_credit_2020]\n",
    "\n",
    "\n",
    "for i in range(2014,2021):\n",
    "    setattr(mod, 'df_credit_{}'.format(i), give_point(list_credit[i-2014],list_credit[i-2013]))\n",
    "    \n",
    "df_credit_2020.head()\n"
   ]
  },
  {
   "cell_type": "markdown",
   "metadata": {},
   "source": [
    "## ESG"
   ]
  },
  {
   "cell_type": "code",
   "execution_count": 55,
   "metadata": {},
   "outputs": [
    {
     "data": {
      "text/html": [
       "<div>\n",
       "<style scoped>\n",
       "    .dataframe tbody tr th:only-of-type {\n",
       "        vertical-align: middle;\n",
       "    }\n",
       "\n",
       "    .dataframe tbody tr th {\n",
       "        vertical-align: top;\n",
       "    }\n",
       "\n",
       "    .dataframe thead th {\n",
       "        text-align: right;\n",
       "    }\n",
       "</style>\n",
       "<table border=\"1\" class=\"dataframe\">\n",
       "  <thead>\n",
       "    <tr style=\"text-align: right;\">\n",
       "      <th></th>\n",
       "      <th>NO</th>\n",
       "      <th>기업명</th>\n",
       "      <th>기업코드</th>\n",
       "      <th>ESG등급</th>\n",
       "      <th>지배구조</th>\n",
       "      <th>사회</th>\n",
       "      <th>환경</th>\n",
       "      <th>평가년도</th>\n",
       "      <th>비고</th>\n",
       "    </tr>\n",
       "  </thead>\n",
       "  <tbody>\n",
       "    <tr>\n",
       "      <th>0</th>\n",
       "      <td>6567</td>\n",
       "      <td>AJ네트웍스</td>\n",
       "      <td>95570</td>\n",
       "      <td>B</td>\n",
       "      <td>B</td>\n",
       "      <td>B</td>\n",
       "      <td>C이하</td>\n",
       "      <td>2019</td>\n",
       "      <td>NaN</td>\n",
       "    </tr>\n",
       "    <tr>\n",
       "      <th>1</th>\n",
       "      <td>6566</td>\n",
       "      <td>AJ렌터카</td>\n",
       "      <td>68400</td>\n",
       "      <td>C이하</td>\n",
       "      <td>C</td>\n",
       "      <td>B</td>\n",
       "      <td>B</td>\n",
       "      <td>2019</td>\n",
       "      <td>NaN</td>\n",
       "    </tr>\n",
       "    <tr>\n",
       "      <th>2</th>\n",
       "      <td>6565</td>\n",
       "      <td>AK홀딩스</td>\n",
       "      <td>6840</td>\n",
       "      <td>B</td>\n",
       "      <td>B</td>\n",
       "      <td>B</td>\n",
       "      <td>C이하</td>\n",
       "      <td>2019</td>\n",
       "      <td>NaN</td>\n",
       "    </tr>\n",
       "    <tr>\n",
       "      <th>3</th>\n",
       "      <td>6564</td>\n",
       "      <td>AP시스템</td>\n",
       "      <td>265520</td>\n",
       "      <td>C이하</td>\n",
       "      <td>B</td>\n",
       "      <td>C이하</td>\n",
       "      <td>C이하</td>\n",
       "      <td>2019</td>\n",
       "      <td>NaN</td>\n",
       "    </tr>\n",
       "    <tr>\n",
       "      <th>4</th>\n",
       "      <td>6563</td>\n",
       "      <td>BGF</td>\n",
       "      <td>27410</td>\n",
       "      <td>B</td>\n",
       "      <td>B</td>\n",
       "      <td>A</td>\n",
       "      <td>C이하</td>\n",
       "      <td>2019</td>\n",
       "      <td>NaN</td>\n",
       "    </tr>\n",
       "  </tbody>\n",
       "</table>\n",
       "</div>"
      ],
      "text/plain": [
       "     NO     기업명    기업코드 ESG등급 지배구조   사회   환경  평가년도   비고\n",
       "0  6567  AJ네트웍스   95570     B    B    B  C이하  2019  NaN\n",
       "1  6566   AJ렌터카   68400   C이하    C    B    B  2019  NaN\n",
       "2  6565   AK홀딩스    6840     B    B    B  C이하  2019  NaN\n",
       "3  6564   AP시스템  265520   C이하    B  C이하  C이하  2019  NaN\n",
       "4  6563     BGF   27410     B    B    A  C이하  2019  NaN"
      ]
     },
     "execution_count": 55,
     "metadata": {},
     "output_type": "execute_result"
    }
   ],
   "source": [
    "df_esg = pd.read_csv(\"2011-2019-ESG.tsv\", sep='\\t')\n",
    "df_esg.head()"
   ]
  },
  {
   "cell_type": "code",
   "execution_count": 56,
   "metadata": {},
   "outputs": [
    {
     "data": {
      "text/html": [
       "<div>\n",
       "<style scoped>\n",
       "    .dataframe tbody tr th:only-of-type {\n",
       "        vertical-align: middle;\n",
       "    }\n",
       "\n",
       "    .dataframe tbody tr th {\n",
       "        vertical-align: top;\n",
       "    }\n",
       "\n",
       "    .dataframe thead th {\n",
       "        text-align: right;\n",
       "    }\n",
       "</style>\n",
       "<table border=\"1\" class=\"dataframe\">\n",
       "  <thead>\n",
       "    <tr style=\"text-align: right;\">\n",
       "      <th></th>\n",
       "      <th>기업명</th>\n",
       "      <th>기업코드</th>\n",
       "      <th>ESG등급</th>\n",
       "      <th>지배구조</th>\n",
       "      <th>사회</th>\n",
       "      <th>환경</th>\n",
       "      <th>평가년도</th>\n",
       "    </tr>\n",
       "  </thead>\n",
       "  <tbody>\n",
       "    <tr>\n",
       "      <th>5904</th>\n",
       "      <td>AK홀딩스</td>\n",
       "      <td>006840</td>\n",
       "      <td>30.0</td>\n",
       "      <td>30.0</td>\n",
       "      <td>30.0</td>\n",
       "      <td>30.0</td>\n",
       "      <td>2011</td>\n",
       "    </tr>\n",
       "    <tr>\n",
       "      <th>5905</th>\n",
       "      <td>BYC</td>\n",
       "      <td>001460</td>\n",
       "      <td>30.0</td>\n",
       "      <td>30.0</td>\n",
       "      <td>30.0</td>\n",
       "      <td>30.0</td>\n",
       "      <td>2011</td>\n",
       "    </tr>\n",
       "    <tr>\n",
       "      <th>5908</th>\n",
       "      <td>CJ대한통운</td>\n",
       "      <td>000120</td>\n",
       "      <td>40.0</td>\n",
       "      <td>30.0</td>\n",
       "      <td>40.0</td>\n",
       "      <td>30.0</td>\n",
       "      <td>2011</td>\n",
       "    </tr>\n",
       "    <tr>\n",
       "      <th>5910</th>\n",
       "      <td>CJ제일제당</td>\n",
       "      <td>097950</td>\n",
       "      <td>40.0</td>\n",
       "      <td>40.0</td>\n",
       "      <td>40.0</td>\n",
       "      <td>50.0</td>\n",
       "      <td>2011</td>\n",
       "    </tr>\n",
       "    <tr>\n",
       "      <th>5914</th>\n",
       "      <td>DB손해보험</td>\n",
       "      <td>005830</td>\n",
       "      <td>50.0</td>\n",
       "      <td>50.0</td>\n",
       "      <td>50.0</td>\n",
       "      <td>40.0</td>\n",
       "      <td>2011</td>\n",
       "    </tr>\n",
       "  </tbody>\n",
       "</table>\n",
       "</div>"
      ],
      "text/plain": [
       "         기업명    기업코드  ESG등급  지배구조    사회    환경  평가년도\n",
       "5904   AK홀딩스  006840   30.0  30.0  30.0  30.0  2011\n",
       "5905     BYC  001460   30.0  30.0  30.0  30.0  2011\n",
       "5908  CJ대한통운  000120   40.0  30.0  40.0  30.0  2011\n",
       "5910  CJ제일제당  097950   40.0  40.0  40.0  50.0  2011\n",
       "5914  DB손해보험  005830   50.0  50.0  50.0  40.0  2011"
      ]
     },
     "execution_count": 56,
     "metadata": {},
     "output_type": "execute_result"
    }
   ],
   "source": [
    "df_esg = df_esg.drop(columns = ['NO', '비고']).dropna()\n",
    "df_esg.기업코드 = df_esg.기업코드.apply(lambda x: str(x).zfill(6))\n",
    "\n",
    "di = {\"S\":70.0,\"A+\":60.0,\"A\":50.0,\"B+\":40.0,\"B\":30.0,\"B이하\":30.0,\"C\":20.0,\"C이하\":20.0,\"D\":10.0}\n",
    "\n",
    "df_esg.ESG등급 = list(map(di.get, df_esg.ESG등급))\n",
    "df_esg.환경 = list(map(di.get, df_esg.환경))\n",
    "df_esg.사회= list(map(di.get, df_esg.사회))\n",
    "df_esg.지배구조= list(map(di.get, df_esg.지배구조))\n",
    "\n",
    "\n",
    "\n",
    "for i in range(2011,2020):\n",
    "    setattr(mod, 'df_esg_{}'.format(i),df_esg[df_esg[\"평가년도\"]==i])\n",
    "    \n",
    "df_esg_2011.head()"
   ]
  },
  {
   "cell_type": "code",
   "execution_count": 57,
   "metadata": {},
   "outputs": [
    {
     "data": {
      "text/plain": [
       "<seaborn.axisgrid.FacetGrid at 0x7fdbed345750>"
      ]
     },
     "execution_count": 57,
     "metadata": {},
     "output_type": "execute_result"
    },
    {
     "data": {
      "text/plain": [
       "<Figure size 7200x7200 with 0 Axes>"
      ]
     },
     "metadata": {},
     "output_type": "display_data"
    },
    {
     "data": {
      "image/png": "[encoded data removed]",
      "text/plain": [
       "<Figure size 423.5x360 with 1 Axes>"
      ]
     },
     "metadata": {
      "needs_background": "light"
     },
     "output_type": "display_data"
    }
   ],
   "source": [
    "plt.figure(figsize=(100,100))\n",
    "sns.catplot(x=\"기업명\", y=\"ESG등급\",hue=\"평가년도\",data=df_esg.tail(50), kind=\"bar\")"
   ]
  },
  {
   "cell_type": "markdown",
   "metadata": {},
   "source": [
    "## Balance Sheet"
   ]
  },
  {
   "cell_type": "code",
   "execution_count": 58,
   "metadata": {},
   "outputs": [
    {
     "data": {
      "text/plain": [
       "<seaborn.axisgrid.FacetGrid at 0x7fdbef0f4350>"
      ]
     },
     "execution_count": 58,
     "metadata": {},
     "output_type": "execute_result"
    },
    {
     "data": {
      "text/plain": [
       "<Figure size 3600x5040 with 0 Axes>"
      ]
     },
     "metadata": {},
     "output_type": "display_data"
    },
    {
     "data": {
      "image/png": "[encoded data removed]",
      "text/plain": [
       "<Figure size 476x360 with 1 Axes>"
      ]
     },
     "metadata": {
      "needs_background": "light"
     },
     "output_type": "display_data"
    }
   ],
   "source": [
    "df_f = [\"비유동부채.xlsx\",\"자산총계.xlsx\",\"이자보상배율.xlsx\",\"ROA(당기순이익).xlsx\",\n",
    "        \"ROE(당기순이익).xlsx\",\"총자산_총자본.xlsx\",\"유동비율.xlsx\"]\n",
    "\n",
    "for i in range(1,8):\n",
    "    setattr(mod, 'df_balance_{}'.format(i), change_columns(pd.read_excel(df_f[i-1])[9:]))\n",
    "\n",
    "balance_list = [df_balance_3, df_balance_4, df_balance_5, df_balance_6]\n",
    "\n",
    "for i in range(4): \n",
    "    balance_list[i][ (balance_list[i].values == \"N/A(IFRS)\") | (balance_list[i].values== '완전잠식')] = np.nan\n",
    "    for k in range(4,15): \n",
    "        balance_list[i].iloc[:,k] = balance_list[i].iloc[:,k].apply(lambda x: float(str(x)))\n",
    "        \n",
    "        \n",
    "plt.figure(figsize=(50,70))\n",
    "sns.catplot(x=\"2018\", y=\"2019\",hue=\"기업명\", data=df_balance_1.head(10), kind=\"bar\")"
   ]
  },
  {
   "cell_type": "code",
   "execution_count": 59,
   "metadata": {},
   "outputs": [],
   "source": [
    "list_credit = [df_credit_2013,df_credit_2014,df_credit_2015,df_credit_2016,df_credit_2017,\n",
    "             df_credit_2018,df_credit_2019]\n",
    "\n",
    "list_esg = [df_esg_2011,df_esg_2012,df_esg_2013,df_esg_2014,df_esg_2015,df_esg_2016,\n",
    "            df_esg_2017,df_esg_2018,df_esg_2019]\n",
    "\n",
    "list_balance = [df_balance_1,df_balance_2,df_balance_3,df_balance_4,df_balance_5,\n",
    "               df_balance_6,df_balance_7]\n",
    "\n",
    "df_columns = [\"기업코드\",\"비유동부채\",\"자산총계\",\"이자보상배율\",\"ROA\",\"ROE\",\"총자산_총자본\",\"유동비율\"]\n",
    "\n",
    "\n",
    "for i in range(2013,2020):\n",
    "    setattr(mod, 'df_rating_{}'.format(i), merge_code(list_credit[i-2013],list_esg[i-2013]))\n",
    "\n",
    "for k in range(2011, 2020):\n",
    "    for i in range(1,8):\n",
    "        setattr(mod, 'df_{}_{}'.format(k,i), (pd.DataFrame(list_balance[i-1].iloc[:,[0,2023-k]]))) "
   ]
  },
  {
   "cell_type": "code",
   "execution_count": 60,
   "metadata": {},
   "outputs": [
    {
     "data": {
      "text/html": [
       "<div>\n",
       "<style scoped>\n",
       "    .dataframe tbody tr th:only-of-type {\n",
       "        vertical-align: middle;\n",
       "    }\n",
       "\n",
       "    .dataframe tbody tr th {\n",
       "        vertical-align: top;\n",
       "    }\n",
       "\n",
       "    .dataframe thead th {\n",
       "        text-align: right;\n",
       "    }\n",
       "</style>\n",
       "<table border=\"1\" class=\"dataframe\">\n",
       "  <thead>\n",
       "    <tr style=\"text-align: right;\">\n",
       "      <th></th>\n",
       "      <th>기업코드</th>\n",
       "      <th>비유동부채</th>\n",
       "      <th>자산총계</th>\n",
       "      <th>이자보상배율</th>\n",
       "      <th>ROA</th>\n",
       "      <th>ROE</th>\n",
       "      <th>총자산_총자본</th>\n",
       "      <th>유동비율</th>\n",
       "    </tr>\n",
       "  </thead>\n",
       "  <tbody>\n",
       "    <tr>\n",
       "      <th>2174</th>\n",
       "      <td>327260</td>\n",
       "      <td>781308.0</td>\n",
       "      <td>29750495.0</td>\n",
       "      <td>6.07</td>\n",
       "      <td>5.04</td>\n",
       "      <td>6.17</td>\n",
       "      <td>115.79</td>\n",
       "      <td>681.44</td>\n",
       "    </tr>\n",
       "    <tr>\n",
       "      <th>2176</th>\n",
       "      <td>327970</td>\n",
       "      <td>1136973.0</td>\n",
       "      <td>6349688.0</td>\n",
       "      <td>10.35</td>\n",
       "      <td>13.09</td>\n",
       "      <td>35.34</td>\n",
       "      <td>226.10</td>\n",
       "      <td>214.08</td>\n",
       "    </tr>\n",
       "    <tr>\n",
       "      <th>2177</th>\n",
       "      <td>329020</td>\n",
       "      <td>3093895.0</td>\n",
       "      <td>4314290.0</td>\n",
       "      <td>4.04</td>\n",
       "      <td>9.58</td>\n",
       "      <td>78.81</td>\n",
       "      <td>622.99</td>\n",
       "      <td>118.29</td>\n",
       "    </tr>\n",
       "    <tr>\n",
       "      <th>2182</th>\n",
       "      <td>341310</td>\n",
       "      <td>4433591.0</td>\n",
       "      <td>20800586.0</td>\n",
       "      <td>7.56</td>\n",
       "      <td>-17.55</td>\n",
       "      <td>-22.80</td>\n",
       "      <td>148.18</td>\n",
       "      <td>260.69</td>\n",
       "    </tr>\n",
       "    <tr>\n",
       "      <th>2187</th>\n",
       "      <td>950140</td>\n",
       "      <td>15721100.0</td>\n",
       "      <td>115343361.0</td>\n",
       "      <td>6.83</td>\n",
       "      <td>2.06</td>\n",
       "      <td>3.85</td>\n",
       "      <td>150.34</td>\n",
       "      <td>183.20</td>\n",
       "    </tr>\n",
       "  </tbody>\n",
       "</table>\n",
       "</div>"
      ],
      "text/plain": [
       "        기업코드  비유동부채   자산총계  이자보상배율    ROA    ROE  \\\n",
       "2174  327260     781308.0   29750495.0            6.07   5.04   6.17   \n",
       "2176  327970    1136973.0    6349688.0           10.35  13.09  35.34   \n",
       "2177  329020    3093895.0    4314290.0            4.04   9.58  78.81   \n",
       "2182  341310    4433591.0   20800586.0            7.56 -17.55 -22.80   \n",
       "2187  950140   15721100.0  115343361.0            6.83   2.06   3.85   \n",
       "\n",
       "      총자산_총자본  유동비율  \n",
       "2174             115.79      681.44  \n",
       "2176             226.10      214.08  \n",
       "2177             622.99      118.29  \n",
       "2182             148.18      260.69  \n",
       "2187             150.34      183.20  "
      ]
     },
     "execution_count": 60,
     "metadata": {},
     "output_type": "execute_result"
    }
   ],
   "source": [
    "data_frames_2011 = [df_2011_1,df_2011_2,df_2011_3,df_2011_4,df_2011_5,df_2011_6,df_2011_7]\n",
    "df_merged_2011 = reduce(lambda left,right: pd.merge(left,right,on=['기업코드'], how='inner'), data_frames_2011).dropna()\n",
    "df_merged_2011.columns = df_columns\n",
    "\n",
    "data_frames_2012 = [df_2012_1,df_2012_2,df_2012_3,df_2012_4,df_2012_5,df_2012_6,df_2012_7]\n",
    "df_merged_2012 = reduce(lambda left,right: pd.merge(left,right,on=['기업코드'], how='inner'), data_frames_2012).dropna()\n",
    "df_merged_2012.columns = df_columns\n",
    "\n",
    "data_frames_2013 = [df_2013_1,df_2013_2,df_2013_3,df_2013_4,df_2013_5,df_2013_6,df_2013_7]\n",
    "df_merged_2013 = reduce(lambda left,right: pd.merge(left,right,on=['기업코드'], how='inner'), data_frames_2013).dropna()\n",
    "df_merged_2013.columns = df_columns\n",
    "\n",
    "data_frames_2014 = [df_2014_1,df_2014_2,df_2014_3,df_2014_4,df_2014_5,df_2014_6,df_2014_7]\n",
    "df_merged_2014 = reduce(lambda left,right: pd.merge(left,right,on=['기업코드'], how='inner'), data_frames_2014).dropna()\n",
    "df_merged_2014.columns = df_columns\n",
    "\n",
    "data_frames_2015 = [df_2015_1,df_2015_2,df_2015_3,df_2015_4,df_2015_5,df_2015_6,df_2015_7]\n",
    "df_merged_2015 = reduce(lambda left,right: pd.merge(left,right,on=['기업코드'], how='inner'), data_frames_2015).dropna()\n",
    "df_merged_2015.columns = df_columns\n",
    "\n",
    "data_frames_2016 = [df_2016_1,df_2016_2,df_2016_3,df_2016_4,df_2016_5,df_2016_6,df_2016_7]\n",
    "df_merged_2016 = reduce(lambda left,right: pd.merge(left,right,on=['기업코드'], how='inner'), data_frames_2016).dropna()\n",
    "df_merged_2016.columns = df_columns\n",
    "\n",
    "data_frames_2017 = [df_2017_1,df_2017_2,df_2017_3,df_2017_4,df_2017_5,df_2017_6,df_2017_7]\n",
    "df_merged_2017 = reduce(lambda left,right: pd.merge(left,right,on=['기업코드'], how='inner'), data_frames_2017).dropna()\n",
    "df_merged_2017.columns = df_columns\n",
    "\n",
    "data_frames_2018 = [df_2018_1,df_2018_2,df_2018_3,df_2018_4,df_2018_5,df_2018_6,df_2018_7]\n",
    "df_merged_2018 = reduce(lambda left,right: pd.merge(left,right,on=['기업코드'], how='inner'), data_frames_2018).dropna()\n",
    "df_merged_2018.columns = df_columns\n",
    "\n",
    "data_frames_2019 = [df_2019_1,df_2019_2,df_2019_3,df_2019_4,df_2019_5,df_2019_6,df_2019_7]\n",
    "df_merged_2019 = reduce(lambda left,right: pd.merge(left,right,on=['기업코드'], how='inner'), data_frames_2019).dropna()\n",
    "df_merged_2019.columns = df_columns\n",
    "\n",
    "df_merged_2019.tail()"
   ]
  },
  {
   "cell_type": "code",
   "execution_count": 61,
   "metadata": {},
   "outputs": [],
   "source": [
    "list_merge = [df_merged_2011,df_merged_2012,df_merged_2013,df_merged_2014,df_merged_2015,df_merged_2016,df_merged_2017,\n",
    "             df_merged_2018,df_merged_2019]\n",
    "\n",
    "for i in range(2011,2020):\n",
    "    list_merge[i-2011][\"비유동부채_자산\"] = list_merge[i-2011]['비유동부채']/list_merge[i-2011]['자산총계']\n",
    "    \n",
    "    setattr(mod, 'df_merged_b_{}'.format(i), pd.merge(list_merge[i-2011], \\\n",
    "                                                list_esg[i-2011],on=['기업코드'], how='inner').iloc[:,[0,2,3,4,5,6,7,8,13,12,11]])"
   ]
  },
  {
   "cell_type": "markdown",
   "metadata": {},
   "source": [
    "## DataFrame Merge"
   ]
  },
  {
   "cell_type": "code",
   "execution_count": 62,
   "metadata": {},
   "outputs": [],
   "source": [
    "df_merged_z_2014 = df_merged_b_2014[df_merged_b_2014[\"기업코드\"].isin\\\n",
    "(list(set(df_merged_b_2014[\"기업코드\"])&set(df_merged_b_2013[\"기업코드\"])&set(df_merged_b_2012[\"기업코드\"])))].reset_index(drop=True)\n",
    "\n",
    "df_merged_z_2013 = df_merged_b_2013[df_merged_b_2013[\"기업코드\"].isin\\\n",
    "(list(set(df_merged_b_2014[\"기업코드\"])&set(df_merged_b_2013[\"기업코드\"])&set(df_merged_b_2012[\"기업코드\"])))].reset_index(drop=True)\n",
    "\n",
    "df_merged_z_2012 = df_merged_b_2012[df_merged_b_2012[\"기업코드\"].isin\\\n",
    "(list(set(df_merged_b_2014[\"기업코드\"])&set(df_merged_b_2013[\"기업코드\"])&set(df_merged_b_2012[\"기업코드\"])))].reset_index(drop=True)\n",
    "\n",
    "df_merged_c_2014 = pd.DataFrame(columns=df_merged_b_2014.columns)\n",
    "df_total_2015 = pd.merge(df_rating_2015, calculate_df(df_merged_z_2014,df_merged_z_2013,df_merged_z_2012,df_merged_c_2014),on=\"기업코드\", how=\"inner\")"
   ]
  },
  {
   "cell_type": "code",
   "execution_count": 63,
   "metadata": {},
   "outputs": [
    {
     "data": {
      "image/png": "[encoded data removed]",
      "text/plain": [
       "<Figure size 720x360 with 1 Axes>"
      ]
     },
     "metadata": {
      "needs_background": "light"
     },
     "output_type": "display_data"
    }
   ],
   "source": [
    "plt.figure(figsize=(10,5))\n",
    "sns.boxplot(data=df_total_2015.iloc[:,5:], palette = \"RdBu\")\n",
    "plt.show()"
   ]
  },
  {
   "cell_type": "code",
   "execution_count": 64,
   "metadata": {},
   "outputs": [],
   "source": [
    "df_merged_z_2015 = df_merged_b_2015[df_merged_b_2015[\"기업코드\"].isin\\\n",
    "(list(set(df_merged_b_2014[\"기업코드\"])&set(df_merged_b_2013[\"기업코드\"])&set(df_merged_b_2015[\"기업코드\"])))].reset_index(drop=True)\n",
    "\n",
    "df_merged_z_2014 = df_merged_b_2014[df_merged_b_2014[\"기업코드\"].isin\\\n",
    "(list(set(df_merged_b_2014[\"기업코드\"])&set(df_merged_b_2013[\"기업코드\"])&set(df_merged_b_2015[\"기업코드\"])))].reset_index(drop=True)\n",
    "\n",
    "df_merged_z_2013 = df_merged_b_2013[df_merged_b_2013[\"기업코드\"].isin\\\n",
    "(list(set(df_merged_b_2014[\"기업코드\"])&set(df_merged_b_2013[\"기업코드\"])&set(df_merged_b_2015[\"기업코드\"])))].reset_index(drop=True)\n",
    "\n",
    "df_merged_c_2015 = pd.DataFrame(columns=df_merged_b_2014.columns)\n",
    "df_merged_c_2015 = calculate_df(df_merged_z_2015,df_merged_z_2014,df_merged_z_2013,df_merged_c_2015)\n",
    "df_total_2016 = pd.merge(df_rating_2016,df_merged_c_2015.dropna(), on=\"기업코드\", how=\"inner\")"
   ]
  },
  {
   "cell_type": "code",
   "execution_count": 65,
   "metadata": {},
   "outputs": [
    {
     "data": {
      "image/png": "[encoded data removed]",
      "text/plain": [
       "<Figure size 720x360 with 1 Axes>"
      ]
     },
     "metadata": {
      "needs_background": "light"
     },
     "output_type": "display_data"
    }
   ],
   "source": [
    "plt.figure(figsize=(10,5))\n",
    "sns.boxplot(data=df_total_2016.iloc[:,5:], palette = \"RdBu\")\n",
    "plt.show()"
   ]
  },
  {
   "cell_type": "code",
   "execution_count": 66,
   "metadata": {},
   "outputs": [],
   "source": [
    "df_merged_z_2016 = df_merged_b_2016[df_merged_b_2016[\"기업코드\"].isin\\\n",
    "(list(set(df_merged_b_2014[\"기업코드\"])&set(df_merged_b_2016[\"기업코드\"])&set(df_merged_b_2015[\"기업코드\"])))].reset_index(drop=True)\n",
    "\n",
    "df_merged_z_2015 = df_merged_b_2015[df_merged_b_2015[\"기업코드\"].isin\\\n",
    "(list(set(df_merged_b_2014[\"기업코드\"])&set(df_merged_b_2016[\"기업코드\"])&set(df_merged_b_2015[\"기업코드\"])))].reset_index(drop=True)\n",
    "\n",
    "df_merged_z_2014 = df_merged_b_2014[df_merged_b_2014[\"기업코드\"].isin\\\n",
    "(list(set(df_merged_b_2014[\"기업코드\"])&set(df_merged_b_2016[\"기업코드\"])&set(df_merged_b_2015[\"기업코드\"])))].reset_index(drop=True)\n",
    "\n",
    "df_merged_c_2016 = pd.DataFrame(columns=df_merged_b_2014.columns)\n",
    "df_merged_c_2016 = calculate_df(df_merged_z_2016,df_merged_z_2015,df_merged_z_2014,df_merged_c_2016)\n",
    "df_total_2017 = pd.merge(df_rating_2017,df_merged_c_2016.dropna(), on=\"기업코드\", how=\"inner\")"
   ]
  },
  {
   "cell_type": "code",
   "execution_count": 67,
   "metadata": {},
   "outputs": [
    {
     "data": {
      "image/png": "[encoded data removed]",
      "text/plain": [
       "<Figure size 720x360 with 1 Axes>"
      ]
     },
     "metadata": {
      "needs_background": "light"
     },
     "output_type": "display_data"
    }
   ],
   "source": [
    "plt.figure(figsize=(10,5))\n",
    "sns.boxplot(data=df_total_2017.iloc[:,5:], palette = \"RdBu\")\n",
    "plt.show()"
   ]
  },
  {
   "cell_type": "code",
   "execution_count": 68,
   "metadata": {},
   "outputs": [],
   "source": [
    "df_merged_z_2017 = df_merged_b_2017[df_merged_b_2017[\"기업코드\"].isin\\\n",
    "(list(set(df_merged_b_2017[\"기업코드\"])&set(df_merged_b_2016[\"기업코드\"])&set(df_merged_b_2015[\"기업코드\"])))].reset_index(drop=True)\n",
    "\n",
    "df_merged_z_2016 = df_merged_b_2016[df_merged_b_2016[\"기업코드\"].isin\\\n",
    "(list(set(df_merged_b_2017[\"기업코드\"])&set(df_merged_b_2016[\"기업코드\"])&set(df_merged_b_2015[\"기업코드\"])))].reset_index(drop=True)\n",
    "\n",
    "df_merged_z_2015 = df_merged_b_2015[df_merged_b_2015[\"기업코드\"].isin\\\n",
    "(list(set(df_merged_b_2017[\"기업코드\"])&set(df_merged_b_2016[\"기업코드\"])&set(df_merged_b_2015[\"기업코드\"])))].reset_index(drop=True)\n",
    "\n",
    "df_merged_c_2017 = pd.DataFrame(columns=df_merged_b_2014.columns)\n",
    "df_merged_c_2017 = calculate_df(df_merged_z_2017,df_merged_z_2016,df_merged_z_2015,df_merged_c_2017)\n",
    "df_total_2018 = pd.merge(df_rating_2018,df_merged_c_2017.dropna(), on=\"기업코드\", how=\"inner\")"
   ]
  },
  {
   "cell_type": "code",
   "execution_count": 69,
   "metadata": {},
   "outputs": [
    {
     "data": {
      "image/png": "[encoded data removed]",
      "text/plain": [
       "<Figure size 720x360 with 1 Axes>"
      ]
     },
     "metadata": {
      "needs_background": "light"
     },
     "output_type": "display_data"
    }
   ],
   "source": [
    "plt.figure(figsize=(10,5))\n",
    "sns.boxplot(data=df_total_2018.iloc[:,5:], palette = \"RdBu\")\n",
    "plt.show()"
   ]
  },
  {
   "cell_type": "code",
   "execution_count": 70,
   "metadata": {},
   "outputs": [],
   "source": [
    "df_merged_z_2018 = df_merged_b_2018[df_merged_b_2018[\"기업코드\"].isin\\\n",
    "(list(set(df_merged_b_2017[\"기업코드\"])&set(df_merged_b_2016[\"기업코드\"])&set(df_merged_b_2018[\"기업코드\"])))].reset_index(drop=True)\n",
    "\n",
    "df_merged_z_2017 = df_merged_b_2017[df_merged_b_2017[\"기업코드\"].isin\\\n",
    "(list(set(df_merged_b_2017[\"기업코드\"])&set(df_merged_b_2016[\"기업코드\"])&set(df_merged_b_2018[\"기업코드\"])))].reset_index(drop=True)\n",
    "\n",
    "df_merged_z_2016 = df_merged_b_2016[df_merged_b_2016[\"기업코드\"].isin\\\n",
    "(list(set(df_merged_b_2017[\"기업코드\"])&set(df_merged_b_2016[\"기업코드\"])&set(df_merged_b_2018[\"기업코드\"])))].reset_index(drop=True)\n",
    "\n",
    "df_merged_c_2018 = pd.DataFrame(columns=df_merged_b_2014.columns)\n",
    "df_merged_c_2018 = calculate_df(df_merged_z_2018,df_merged_z_2017,df_merged_z_2016,df_merged_c_2018)\n",
    "df_total_2019 = pd.merge(df_rating_2019,df_merged_c_2018.dropna(), on=\"기업코드\", how=\"inner\")"
   ]
  },
  {
   "cell_type": "code",
   "execution_count": 71,
   "metadata": {},
   "outputs": [
    {
     "data": {
      "image/png": "[encoded data removed]",
      "text/plain": [
       "<Figure size 720x576 with 1 Axes>"
      ]
     },
     "metadata": {
      "needs_background": "light"
     },
     "output_type": "display_data"
    }
   ],
   "source": [
    "plt.figure(figsize=(10,8))\n",
    "sns.boxplot(data=df_total_2019.iloc[:,5:], palette = \"RdBu\")\n",
    "plt.show()"
   ]
  },
  {
   "cell_type": "code",
   "execution_count": 72,
   "metadata": {},
   "outputs": [],
   "source": [
    "df_merged_z_2019 = df_merged_b_2019[df_merged_b_2019[\"기업코드\"].isin\\\n",
    "(list(set(df_merged_b_2017[\"기업코드\"])&set(df_merged_b_2019[\"기업코드\"])&set(df_merged_b_2018[\"기업코드\"])))].reset_index(drop=True)\n",
    "\n",
    "df_merged_z_2018 = df_merged_b_2018[df_merged_b_2018[\"기업코드\"].isin\\\n",
    "(list(set(df_merged_b_2017[\"기업코드\"])&set(df_merged_b_2019[\"기업코드\"])&set(df_merged_b_2018[\"기업코드\"])))].reset_index(drop=True)\n",
    "\n",
    "df_merged_z_2017 = df_merged_b_2017[df_merged_b_2017[\"기업코드\"].isin\\\n",
    "(list(set(df_merged_b_2017[\"기업코드\"])&set(df_merged_b_2019[\"기업코드\"])&set(df_merged_b_2018[\"기업코드\"])))].reset_index(drop=True)\n",
    "\n",
    "df_merged_c_2019 = pd.DataFrame(columns=df_merged_b_2014.columns)\n",
    "df_merged_c_2019 = calculate_df(df_merged_z_2019,df_merged_z_2018,df_merged_z_2017,df_merged_c_2019)\n",
    "df_rating_2020 = merge_code(df_credit_2020, df_esg_2019)\n",
    "df_total_2020 = pd.merge(df_rating_2020,df_merged_c_2019.dropna(), on=\"기업코드\", how=\"inner\")"
   ]
  },
  {
   "cell_type": "code",
   "execution_count": 73,
   "metadata": {},
   "outputs": [
    {
     "data": {
      "image/png": "[encoded data removed]",
      "text/plain": [
       "<Figure size 720x360 with 1 Axes>"
      ]
     },
     "metadata": {
      "needs_background": "light"
     },
     "output_type": "display_data"
    }
   ],
   "source": [
    "plt.figure(figsize=(10,5))\n",
    "sns.boxplot(data=df_total_2020.iloc[:,5:], palette = \"RdBu\")\n",
    "plt.show()b"
   ]
  },
  {
   "cell_type": "code",
   "execution_count": 74,
   "metadata": {},
   "outputs": [
    {
     "data": {
      "text/html": [
       "<div>\n",
       "<style scoped>\n",
       "    .dataframe tbody tr th:only-of-type {\n",
       "        vertical-align: middle;\n",
       "    }\n",
       "\n",
       "    .dataframe tbody tr th {\n",
       "        vertical-align: top;\n",
       "    }\n",
       "\n",
       "    .dataframe thead th {\n",
       "        text-align: right;\n",
       "    }\n",
       "</style>\n",
       "<table border=\"1\" class=\"dataframe\">\n",
       "  <thead>\n",
       "    <tr style=\"text-align: right;\">\n",
       "      <th></th>\n",
       "      <th>기업명</th>\n",
       "      <th>Point</th>\n",
       "      <th>기업코드</th>\n",
       "      <th>TA</th>\n",
       "      <th>INTCOV</th>\n",
       "      <th>ROA</th>\n",
       "      <th>ROE</th>\n",
       "      <th>EQTA</th>\n",
       "      <th>CURR</th>\n",
       "      <th>LTDTA</th>\n",
       "      <th>E</th>\n",
       "      <th>S</th>\n",
       "      <th>G</th>\n",
       "    </tr>\n",
       "  </thead>\n",
       "  <tbody>\n",
       "    <tr>\n",
       "      <th>0</th>\n",
       "      <td>두산인프라코어</td>\n",
       "      <td>0.0</td>\n",
       "      <td>042670</td>\n",
       "      <td>0.017911</td>\n",
       "      <td>0.281690</td>\n",
       "      <td>-1.272000</td>\n",
       "      <td>-1.202037</td>\n",
       "      <td>-0.059315</td>\n",
       "      <td>0.052891</td>\n",
       "      <td>0.018828</td>\n",
       "      <td>-5.0</td>\n",
       "      <td>0.0</td>\n",
       "      <td>-5.0</td>\n",
       "    </tr>\n",
       "    <tr>\n",
       "      <th>1</th>\n",
       "      <td>화승알앤에이</td>\n",
       "      <td>1.0</td>\n",
       "      <td>013520</td>\n",
       "      <td>0.097128</td>\n",
       "      <td>0.214286</td>\n",
       "      <td>-0.162791</td>\n",
       "      <td>0.012346</td>\n",
       "      <td>0.105218</td>\n",
       "      <td>0.019592</td>\n",
       "      <td>0.221203</td>\n",
       "      <td>0.0</td>\n",
       "      <td>0.0</td>\n",
       "      <td>-5.0</td>\n",
       "    </tr>\n",
       "    <tr>\n",
       "      <th>2</th>\n",
       "      <td>화신</td>\n",
       "      <td>0.0</td>\n",
       "      <td>010690</td>\n",
       "      <td>0.045211</td>\n",
       "      <td>-0.541823</td>\n",
       "      <td>0.768212</td>\n",
       "      <td>0.778860</td>\n",
       "      <td>0.070765</td>\n",
       "      <td>-0.012984</td>\n",
       "      <td>0.095652</td>\n",
       "      <td>0.0</td>\n",
       "      <td>0.0</td>\n",
       "      <td>5.0</td>\n",
       "    </tr>\n",
       "    <tr>\n",
       "      <th>3</th>\n",
       "      <td>현대글로비스</td>\n",
       "      <td>0.0</td>\n",
       "      <td>086280</td>\n",
       "      <td>0.207827</td>\n",
       "      <td>-0.086907</td>\n",
       "      <td>-0.123288</td>\n",
       "      <td>-0.157692</td>\n",
       "      <td>0.024478</td>\n",
       "      <td>0.030419</td>\n",
       "      <td>0.409186</td>\n",
       "      <td>0.0</td>\n",
       "      <td>-5.0</td>\n",
       "      <td>5.0</td>\n",
       "    </tr>\n",
       "    <tr>\n",
       "      <th>4</th>\n",
       "      <td>금호타이어</td>\n",
       "      <td>1.0</td>\n",
       "      <td>073240</td>\n",
       "      <td>0.002485</td>\n",
       "      <td>0.114078</td>\n",
       "      <td>0.014553</td>\n",
       "      <td>-0.247976</td>\n",
       "      <td>-0.130652</td>\n",
       "      <td>0.162967</td>\n",
       "      <td>0.099137</td>\n",
       "      <td>5.0</td>\n",
       "      <td>5.0</td>\n",
       "      <td>10.0</td>\n",
       "    </tr>\n",
       "  </tbody>\n",
       "</table>\n",
       "</div>"
      ],
      "text/plain": [
       "       기업명  Point    기업코드        TA    INTCOV       ROA       ROE      EQTA  \\\n",
       "0  두산인프라코어    0.0  042670  0.017911  0.281690 -1.272000 -1.202037 -0.059315   \n",
       "1   화승알앤에이    1.0  013520  0.097128  0.214286 -0.162791  0.012346  0.105218   \n",
       "2       화신    0.0  010690  0.045211 -0.541823  0.768212  0.778860  0.070765   \n",
       "3   현대글로비스    0.0  086280  0.207827 -0.086907 -0.123288 -0.157692  0.024478   \n",
       "4    금호타이어    1.0  073240  0.002485  0.114078  0.014553 -0.247976 -0.130652   \n",
       "\n",
       "       CURR     LTDTA    E    S     G  \n",
       "0  0.052891  0.018828 -5.0  0.0  -5.0  \n",
       "1  0.019592  0.221203  0.0  0.0  -5.0  \n",
       "2 -0.012984  0.095652  0.0  0.0   5.0  \n",
       "3  0.030419  0.409186  0.0 -5.0   5.0  \n",
       "4  0.162967  0.099137  5.0  5.0  10.0  "
      ]
     },
     "execution_count": 74,
     "metadata": {},
     "output_type": "execute_result"
    }
   ],
   "source": [
    "df_sum_2015_2020 = pd.concat([df_total_2015,df_total_2016,df_total_2017,\\\n",
    "                              df_total_2018,df_total_2019,df_total_2020]).replace(np.inf,np.nan).dropna()\n",
    "df_sum_2015_2020.head()"
   ]
  },
  {
   "cell_type": "code",
   "execution_count": 75,
   "metadata": {
    "scrolled": true
   },
   "outputs": [
    {
     "data": {
      "image/png": "[encoded data removed]",
      "text/plain": [
       "<Figure size 720x720 with 2 Axes>"
      ]
     },
     "metadata": {
      "needs_background": "light"
     },
     "output_type": "display_data"
    }
   ],
   "source": [
    "plt.figure(figsize=(10,10))\n",
    "sns.heatmap(data = df_sum_2015_2020.iloc[:,4:].corr(), annot=True, fmt = '.2f', linewidths=.5, cmap='Blues')\n",
    "plt.show()"
   ]
  },
  {
   "cell_type": "code",
   "execution_count": 76,
   "metadata": {},
   "outputs": [],
   "source": [
    "# sns.pairplot(df_sum_2015_2020.iloc[:,4:])\n",
    "# plt.show()"
   ]
  },
  {
   "cell_type": "markdown",
   "metadata": {},
   "source": [
    "## Regression"
   ]
  },
  {
   "cell_type": "code",
   "execution_count": 77,
   "metadata": {},
   "outputs": [],
   "source": [
    "X = df_sum_2015_2020.iloc[:,3:]\n",
    "Y = df_sum_2015_2020.iloc[:,1]"
   ]
  },
  {
   "cell_type": "code",
   "execution_count": 78,
   "metadata": {},
   "outputs": [],
   "source": [
    "robust_scaler = RobustScaler()\n",
    "rb = robust_scaler.fit(X)\n",
    "output = robust_scaler.transform(X)\n",
    "output = pd.DataFrame(output, columns=X.columns, index=list(X.index.values))\n",
    "output[\"Y\"] = Y\n",
    "output[(output.values >40) | (output.values < -40)]= np.nan\n",
    "output = output.dropna()"
   ]
  },
  {
   "cell_type": "code",
   "execution_count": 79,
   "metadata": {},
   "outputs": [
    {
     "data": {
      "text/html": [
       "<div>\n",
       "<style scoped>\n",
       "    .dataframe tbody tr th:only-of-type {\n",
       "        vertical-align: middle;\n",
       "    }\n",
       "\n",
       "    .dataframe tbody tr th {\n",
       "        vertical-align: top;\n",
       "    }\n",
       "\n",
       "    .dataframe thead th {\n",
       "        text-align: right;\n",
       "    }\n",
       "</style>\n",
       "<table border=\"1\" class=\"dataframe\">\n",
       "  <thead>\n",
       "    <tr style=\"text-align: right;\">\n",
       "      <th></th>\n",
       "      <th>TA</th>\n",
       "      <th>INTCOV</th>\n",
       "      <th>ROA</th>\n",
       "      <th>ROE</th>\n",
       "      <th>EQTA</th>\n",
       "      <th>CURR</th>\n",
       "      <th>LTDTA</th>\n",
       "      <th>E</th>\n",
       "      <th>S</th>\n",
       "      <th>G</th>\n",
       "      <th>Y</th>\n",
       "    </tr>\n",
       "  </thead>\n",
       "  <tbody>\n",
       "    <tr>\n",
       "      <th>count</th>\n",
       "      <td>373.000000</td>\n",
       "      <td>373.000000</td>\n",
       "      <td>373.000000</td>\n",
       "      <td>373.000000</td>\n",
       "      <td>373.000000</td>\n",
       "      <td>373.000000</td>\n",
       "      <td>373.000000</td>\n",
       "      <td>373.000000</td>\n",
       "      <td>373.000000</td>\n",
       "      <td>373.000000</td>\n",
       "      <td>373.000000</td>\n",
       "    </tr>\n",
       "    <tr>\n",
       "      <th>mean</th>\n",
       "      <td>0.238764</td>\n",
       "      <td>0.333710</td>\n",
       "      <td>0.197148</td>\n",
       "      <td>0.271311</td>\n",
       "      <td>-0.109223</td>\n",
       "      <td>-0.009859</td>\n",
       "      <td>0.208653</td>\n",
       "      <td>-0.013405</td>\n",
       "      <td>0.171582</td>\n",
       "      <td>0.010724</td>\n",
       "      <td>0.134048</td>\n",
       "    </tr>\n",
       "    <tr>\n",
       "      <th>std</th>\n",
       "      <td>1.612127</td>\n",
       "      <td>2.159287</td>\n",
       "      <td>5.115865</td>\n",
       "      <td>5.586201</td>\n",
       "      <td>1.297531</td>\n",
       "      <td>0.969334</td>\n",
       "      <td>1.406233</td>\n",
       "      <td>3.309701</td>\n",
       "      <td>0.847226</td>\n",
       "      <td>0.505234</td>\n",
       "      <td>0.341162</td>\n",
       "    </tr>\n",
       "    <tr>\n",
       "      <th>min</th>\n",
       "      <td>-7.521897</td>\n",
       "      <td>-2.279414</td>\n",
       "      <td>-34.451361</td>\n",
       "      <td>-36.649151</td>\n",
       "      <td>-12.332727</td>\n",
       "      <td>-3.172068</td>\n",
       "      <td>-1.986410</td>\n",
       "      <td>-10.000000</td>\n",
       "      <td>-2.000000</td>\n",
       "      <td>-1.500000</td>\n",
       "      <td>0.000000</td>\n",
       "    </tr>\n",
       "    <tr>\n",
       "      <th>25%</th>\n",
       "      <td>-0.447022</td>\n",
       "      <td>-0.484830</td>\n",
       "      <td>-0.421690</td>\n",
       "      <td>-0.408059</td>\n",
       "      <td>-0.528402</td>\n",
       "      <td>-0.558344</td>\n",
       "      <td>-0.458468</td>\n",
       "      <td>0.000000</td>\n",
       "      <td>0.000000</td>\n",
       "      <td>-0.500000</td>\n",
       "      <td>0.000000</td>\n",
       "    </tr>\n",
       "    <tr>\n",
       "      <th>50%</th>\n",
       "      <td>-0.003150</td>\n",
       "      <td>-0.000015</td>\n",
       "      <td>-0.011921</td>\n",
       "      <td>-0.002051</td>\n",
       "      <td>-0.016841</td>\n",
       "      <td>0.000175</td>\n",
       "      <td>0.000000</td>\n",
       "      <td>0.000000</td>\n",
       "      <td>0.000000</td>\n",
       "      <td>0.000000</td>\n",
       "      <td>0.000000</td>\n",
       "    </tr>\n",
       "    <tr>\n",
       "      <th>75%</th>\n",
       "      <td>0.539358</td>\n",
       "      <td>0.510602</td>\n",
       "      <td>0.570952</td>\n",
       "      <td>0.576152</td>\n",
       "      <td>0.469484</td>\n",
       "      <td>0.440177</td>\n",
       "      <td>0.541532</td>\n",
       "      <td>0.000000</td>\n",
       "      <td>1.000000</td>\n",
       "      <td>0.500000</td>\n",
       "      <td>0.000000</td>\n",
       "    </tr>\n",
       "    <tr>\n",
       "      <th>max</th>\n",
       "      <td>19.621072</td>\n",
       "      <td>26.329819</td>\n",
       "      <td>32.182881</td>\n",
       "      <td>37.340417</td>\n",
       "      <td>3.734496</td>\n",
       "      <td>4.188046</td>\n",
       "      <td>17.154481</td>\n",
       "      <td>10.000000</td>\n",
       "      <td>3.000000</td>\n",
       "      <td>2.000000</td>\n",
       "      <td>1.000000</td>\n",
       "    </tr>\n",
       "  </tbody>\n",
       "</table>\n",
       "</div>"
      ],
      "text/plain": [
       "               TA      INTCOV         ROA         ROE        EQTA        CURR  \\\n",
       "count  373.000000  373.000000  373.000000  373.000000  373.000000  373.000000   \n",
       "mean     0.238764    0.333710    0.197148    0.271311   -0.109223   -0.009859   \n",
       "std      1.612127    2.159287    5.115865    5.586201    1.297531    0.969334   \n",
       "min     -7.521897   -2.279414  -34.451361  -36.649151  -12.332727   -3.172068   \n",
       "25%     -0.447022   -0.484830   -0.421690   -0.408059   -0.528402   -0.558344   \n",
       "50%     -0.003150   -0.000015   -0.011921   -0.002051   -0.016841    0.000175   \n",
       "75%      0.539358    0.510602    0.570952    0.576152    0.469484    0.440177   \n",
       "max     19.621072   26.329819   32.182881   37.340417    3.734496    4.188046   \n",
       "\n",
       "            LTDTA           E           S           G           Y  \n",
       "count  373.000000  373.000000  373.000000  373.000000  373.000000  \n",
       "mean     0.208653   -0.013405    0.171582    0.010724    0.134048  \n",
       "std      1.406233    3.309701    0.847226    0.505234    0.341162  \n",
       "min     -1.986410  -10.000000   -2.000000   -1.500000    0.000000  \n",
       "25%     -0.458468    0.000000    0.000000   -0.500000    0.000000  \n",
       "50%      0.000000    0.000000    0.000000    0.000000    0.000000  \n",
       "75%      0.541532    0.000000    1.000000    0.500000    0.000000  \n",
       "max     17.154481   10.000000    3.000000    2.000000    1.000000  "
      ]
     },
     "execution_count": 79,
     "metadata": {},
     "output_type": "execute_result"
    }
   ],
   "source": [
    "output.describe()"
   ]
  },
  {
   "cell_type": "code",
   "execution_count": 80,
   "metadata": {},
   "outputs": [
    {
     "name": "stdout",
     "output_type": "stream",
     "text": [
      "                                 OLS Regression Results                                \n",
      "=======================================================================================\n",
      "Dep. Variable:                      Y   R-squared (uncentered):                   0.071\n",
      "Model:                            OLS   Adj. R-squared (uncentered):              0.045\n",
      "Method:                 Least Squares   F-statistic:                              2.774\n",
      "Date:                Tue, 30 Jun 2020   Prob (F-statistic):                     0.00258\n",
      "Time:                        18:52:26   Log-Likelihood:                         -140.75\n",
      "No. Observations:                 373   AIC:                                      301.5\n",
      "Df Residuals:                     363   BIC:                                      340.7\n",
      "Df Model:                          10                                                  \n",
      "Covariance Type:            nonrobust                                                  \n",
      "==============================================================================\n",
      "                 coef    std err          t      P>|t|      [0.025      0.975]\n",
      "------------------------------------------------------------------------------\n",
      "TA            -0.0129      0.013     -0.960      0.338      -0.039       0.014\n",
      "LTDTA          0.0456      0.016      2.902      0.004       0.015       0.076\n",
      "EQTA          -0.0383      0.016     -2.338      0.020      -0.070      -0.006\n",
      "CURR          -0.0313      0.022     -1.411      0.159      -0.075       0.012\n",
      "INTCOV         0.0247      0.009      2.720      0.007       0.007       0.043\n",
      "ROA           -0.0029      0.023     -0.127      0.899      -0.048       0.042\n",
      "ROE           -0.0039      0.021     -0.187      0.852      -0.045       0.037\n",
      "E             -0.0025      0.006     -0.439      0.661      -0.014       0.009\n",
      "S              0.0409      0.023      1.810      0.071      -0.004       0.085\n",
      "G              0.0014      0.038      0.037      0.971      -0.073       0.076\n",
      "==============================================================================\n",
      "Omnibus:                      140.822   Durbin-Watson:                   1.774\n",
      "Prob(Omnibus):                  0.000   Jarque-Bera (JB):              339.809\n",
      "Skew:                           1.951   Prob(JB):                     1.63e-74\n",
      "Kurtosis:                       5.578   Cond. No.                         15.9\n",
      "==============================================================================\n",
      "\n",
      "Warnings:\n",
      "[1] Standard Errors assume that the covariance matrix of the errors is correctly specified.\n"
     ]
    }
   ],
   "source": [
    "from sklearn.linear_model import LinearRegression\n",
    "model = sm.OLS.from_formula(\"Y ~TA+LTDTA+EQTA+CURR+INTCOV+ROA+ROE+E+S+G+0\", data=output)\n",
    "result = model.fit()\n",
    "print(result.summary())"
   ]
  },
  {
   "cell_type": "code",
   "execution_count": 81,
   "metadata": {
    "scrolled": true
   },
   "outputs": [
    {
     "name": "stdout",
     "output_type": "stream",
     "text": [
      "Optimization terminated successfully.\n",
      "         Current function value: 0.662612\n",
      "         Iterations 6\n"
     ]
    }
   ],
   "source": [
    "model = sm.Logit.from_formula(\"Y ~TA+LTDTA+EQTA+CURR+INTCOV+ROA+ROE+E+S+G+0\", data=output)\n",
    "result1 = model.fit()"
   ]
  },
  {
   "cell_type": "code",
   "execution_count": 82,
   "metadata": {},
   "outputs": [
    {
     "name": "stdout",
     "output_type": "stream",
     "text": [
      "                           Logit Regression Results                           \n",
      "==============================================================================\n",
      "Dep. Variable:                      Y   No. Observations:                  373\n",
      "Model:                          Logit   Df Residuals:                      363\n",
      "Method:                           MLE   Df Model:                            9\n",
      "Date:                Tue, 30 Jun 2020   Pseudo R-squ.:                 -0.6817\n",
      "Time:                        18:52:27   Log-Likelihood:                -247.15\n",
      "converged:                       True   LL-Null:                       -146.97\n",
      "Covariance Type:            nonrobust   LLR p-value:                     1.000\n",
      "==============================================================================\n",
      "                 coef    std err          z      P>|z|      [0.025      0.975]\n",
      "------------------------------------------------------------------------------\n",
      "TA            -0.2752      0.101     -2.727      0.006      -0.473      -0.077\n",
      "LTDTA         -0.0459      0.105     -0.439      0.660      -0.251       0.159\n",
      "EQTA           0.0853      0.097      0.880      0.379      -0.105       0.275\n",
      "CURR           0.0271      0.130      0.209      0.834      -0.227       0.281\n",
      "INTCOV        -0.0186      0.053     -0.353      0.724      -0.122       0.085\n",
      "ROA            0.1490      0.149      0.997      0.319      -0.144       0.442\n",
      "ROE           -0.1653      0.139     -1.191      0.234      -0.438       0.107\n",
      "E              0.0239      0.033      0.723      0.470      -0.041       0.089\n",
      "S             -0.3206      0.133     -2.412      0.016      -0.581      -0.060\n",
      "G              0.0652      0.220      0.297      0.767      -0.366       0.496\n",
      "==============================================================================\n"
     ]
    }
   ],
   "source": [
    "print(result1.summary())"
   ]
  },
  {
   "cell_type": "markdown",
   "metadata": {},
   "source": [
    "## Logistic Regression"
   ]
  },
  {
   "cell_type": "code",
   "execution_count": 83,
   "metadata": {},
   "outputs": [],
   "source": [
    "df_x = output.iloc[:,:-1]\n",
    "df_y = output.iloc[:,-1]"
   ]
  },
  {
   "cell_type": "code",
   "execution_count": 84,
   "metadata": {},
   "outputs": [],
   "source": [
    "X_train, X_test, y_train, y_test = train_test_split(df_x, df_y,test_size=0.3, random_state=10)"
   ]
  },
  {
   "cell_type": "code",
   "execution_count": 85,
   "metadata": {},
   "outputs": [
    {
     "data": {
      "text/plain": [
       "0.8318181818181818"
      ]
     },
     "execution_count": 85,
     "metadata": {},
     "output_type": "execute_result"
    }
   ],
   "source": [
    "log_clf = LogisticRegression() \n",
    "log_clf.fit(X_train,y_train) \n",
    "cross_val_score(log_clf, X_test, y_test, scoring='accuracy', cv=10).mean()"
   ]
  },
  {
   "cell_type": "markdown",
   "metadata": {},
   "source": [
    "## DecisionTree"
   ]
  },
  {
   "cell_type": "markdown",
   "metadata": {},
   "source": [
    "###  E + S + G"
   ]
  },
  {
   "cell_type": "code",
   "execution_count": 86,
   "metadata": {},
   "outputs": [
    {
     "data": {
      "text/plain": [
       "0.8227272727272726"
      ]
     },
     "execution_count": 86,
     "metadata": {},
     "output_type": "execute_result"
    }
   ],
   "source": [
    "model = DecisionTreeClassifier(criterion = 'entropy',min_samples_split=3,random_state=10)\n",
    "model.fit(X_train, y_train)\n",
    "cross_val_score(model, X_test, y_test, scoring='accuracy', cv=10).mean()"
   ]
  },
  {
   "cell_type": "code",
   "execution_count": 87,
   "metadata": {},
   "outputs": [
    {
     "name": "stdout",
     "output_type": "stream",
     "text": [
      "17\n"
     ]
    }
   ],
   "source": [
    "y_pred = list(model.predict(X_test))\n",
    "y_true = list(np.array(y_test))\n",
    "print(len(y_test[y_test==1].dropna()))"
   ]
  },
  {
   "cell_type": "code",
   "execution_count": 88,
   "metadata": {},
   "outputs": [
    {
     "data": {
      "text/plain": [
       "array([[ 7, 10],\n",
       "       [14, 81]])"
      ]
     },
     "execution_count": 88,
     "metadata": {},
     "output_type": "execute_result"
    }
   ],
   "source": [
    "confusion_matrix(y_true, y_pred, labels=[1,0])"
   ]
  },
  {
   "cell_type": "code",
   "execution_count": 89,
   "metadata": {},
   "outputs": [
    {
     "name": "stdout",
     "output_type": "stream",
     "text": [
      "              precision    recall  f1-score   support\n",
      "\n",
      "         0.0       0.89      0.85      0.87        95\n",
      "         1.0       0.33      0.41      0.37        17\n",
      "\n",
      "    accuracy                           0.79       112\n",
      "   macro avg       0.61      0.63      0.62       112\n",
      "weighted avg       0.81      0.79      0.79       112\n",
      "\n"
     ]
    }
   ],
   "source": [
    "print(classification_report(y_test, y_pred))"
   ]
  },
  {
   "cell_type": "code",
   "execution_count": 90,
   "metadata": {},
   "outputs": [
    {
     "data": {
      "text/html": [
       "<div>\n",
       "<style scoped>\n",
       "    .dataframe tbody tr th:only-of-type {\n",
       "        vertical-align: middle;\n",
       "    }\n",
       "\n",
       "    .dataframe tbody tr th {\n",
       "        vertical-align: top;\n",
       "    }\n",
       "\n",
       "    .dataframe thead th {\n",
       "        text-align: right;\n",
       "    }\n",
       "</style>\n",
       "<table border=\"1\" class=\"dataframe\">\n",
       "  <thead>\n",
       "    <tr style=\"text-align: right;\">\n",
       "      <th></th>\n",
       "      <th>Feature_importance</th>\n",
       "    </tr>\n",
       "  </thead>\n",
       "  <tbody>\n",
       "    <tr>\n",
       "      <th>EQTA</th>\n",
       "      <td>0.247599</td>\n",
       "    </tr>\n",
       "    <tr>\n",
       "      <th>INTCOV</th>\n",
       "      <td>0.204288</td>\n",
       "    </tr>\n",
       "    <tr>\n",
       "      <th>ROA</th>\n",
       "      <td>0.193175</td>\n",
       "    </tr>\n",
       "    <tr>\n",
       "      <th>ROE</th>\n",
       "      <td>0.081676</td>\n",
       "    </tr>\n",
       "    <tr>\n",
       "      <th>CURR</th>\n",
       "      <td>0.079968</td>\n",
       "    </tr>\n",
       "    <tr>\n",
       "      <th>LTDTA</th>\n",
       "      <td>0.062356</td>\n",
       "    </tr>\n",
       "    <tr>\n",
       "      <th>S</th>\n",
       "      <td>0.056061</td>\n",
       "    </tr>\n",
       "    <tr>\n",
       "      <th>TA</th>\n",
       "      <td>0.050863</td>\n",
       "    </tr>\n",
       "    <tr>\n",
       "      <th>E</th>\n",
       "      <td>0.024013</td>\n",
       "    </tr>\n",
       "    <tr>\n",
       "      <th>G</th>\n",
       "      <td>0.000000</td>\n",
       "    </tr>\n",
       "  </tbody>\n",
       "</table>\n",
       "</div>"
      ],
      "text/plain": [
       "        Feature_importance\n",
       "EQTA              0.247599\n",
       "INTCOV            0.204288\n",
       "ROA               0.193175\n",
       "ROE               0.081676\n",
       "CURR              0.079968\n",
       "LTDTA             0.062356\n",
       "S                 0.056061\n",
       "TA                0.050863\n",
       "E                 0.024013\n",
       "G                 0.000000"
      ]
     },
     "execution_count": 90,
     "metadata": {},
     "output_type": "execute_result"
    }
   ],
   "source": [
    "importance = model.feature_importances_\n",
    "idx = X_train.columns\n",
    "pd.DataFrame(importance, index =X_train.columns, columns=[\"Feature_importance\"]).sort_values([\"Feature_importance\"], ascending = False)"
   ]
  },
  {
   "cell_type": "code",
   "execution_count": 91,
   "metadata": {},
   "outputs": [
    {
     "data": {
      "image/png": "[encoded data removed]",
      "text/plain": [
       "<Figure size 432x288 with 1 Axes>"
      ]
     },
     "metadata": {
      "needs_background": "light"
     },
     "output_type": "display_data"
    }
   ],
   "source": [
    "plt.barh(idx,importance, height = 0.8,align='center',alpha=0.8)\n",
    "plt.show()"
   ]
  },
  {
   "cell_type": "markdown",
   "metadata": {},
   "source": [
    "### ESG 제거"
   ]
  },
  {
   "cell_type": "code",
   "execution_count": 92,
   "metadata": {},
   "outputs": [],
   "source": [
    "X_train1 = X_train.iloc[:,:7]\n",
    "X_test1 =  X_test.iloc[:,:7]"
   ]
  },
  {
   "cell_type": "code",
   "execution_count": 93,
   "metadata": {},
   "outputs": [
    {
     "data": {
      "text/plain": [
       "DecisionTreeClassifier(ccp_alpha=0.0, class_weight=None, criterion='entropy',\n",
       "                       max_depth=None, max_features=None, max_leaf_nodes=None,\n",
       "                       min_impurity_decrease=0.0, min_impurity_split=None,\n",
       "                       min_samples_leaf=1, min_samples_split=3,\n",
       "                       min_weight_fraction_leaf=0.0, presort='deprecated',\n",
       "                       random_state=10, splitter='best')"
      ]
     },
     "execution_count": 93,
     "metadata": {},
     "output_type": "execute_result"
    }
   ],
   "source": [
    "model = DecisionTreeClassifier(criterion='entropy',min_samples_split=3,random_state=10)\n",
    "model.fit(X_train1, y_train)"
   ]
  },
  {
   "cell_type": "code",
   "execution_count": 94,
   "metadata": {},
   "outputs": [
    {
     "data": {
      "text/plain": [
       "0.8219696969696969"
      ]
     },
     "execution_count": 94,
     "metadata": {},
     "output_type": "execute_result"
    }
   ],
   "source": [
    "from sklearn.model_selection import cross_val_score\n",
    "cross_val_score(model, X_test1, y_test, scoring='accuracy', cv=10).mean()"
   ]
  },
  {
   "cell_type": "code",
   "execution_count": 95,
   "metadata": {},
   "outputs": [],
   "source": [
    "y_pred = list(model.predict(X_test1))\n",
    "y_true = list(np.array(y_test))"
   ]
  },
  {
   "cell_type": "code",
   "execution_count": 96,
   "metadata": {},
   "outputs": [
    {
     "name": "stdout",
     "output_type": "stream",
     "text": [
      "17\n"
     ]
    }
   ],
   "source": [
    "print(len(y_test[y_test==1].dropna()))"
   ]
  },
  {
   "cell_type": "code",
   "execution_count": 97,
   "metadata": {},
   "outputs": [
    {
     "data": {
      "text/plain": [
       "array([[ 5, 12],\n",
       "       [14, 81]])"
      ]
     },
     "execution_count": 97,
     "metadata": {},
     "output_type": "execute_result"
    }
   ],
   "source": [
    "confusion_matrix(y_true, y_pred, labels=[1,0])"
   ]
  },
  {
   "cell_type": "code",
   "execution_count": 98,
   "metadata": {},
   "outputs": [
    {
     "name": "stdout",
     "output_type": "stream",
     "text": [
      "              precision    recall  f1-score   support\n",
      "\n",
      "         0.0       0.87      0.85      0.86        95\n",
      "         1.0       0.26      0.29      0.28        17\n",
      "\n",
      "    accuracy                           0.77       112\n",
      "   macro avg       0.57      0.57      0.57       112\n",
      "weighted avg       0.78      0.77      0.77       112\n",
      "\n"
     ]
    }
   ],
   "source": [
    "print(classification_report(y_test, y_pred))"
   ]
  },
  {
   "cell_type": "code",
   "execution_count": 99,
   "metadata": {},
   "outputs": [
    {
     "data": {
      "text/html": [
       "<div>\n",
       "<style scoped>\n",
       "    .dataframe tbody tr th:only-of-type {\n",
       "        vertical-align: middle;\n",
       "    }\n",
       "\n",
       "    .dataframe tbody tr th {\n",
       "        vertical-align: top;\n",
       "    }\n",
       "\n",
       "    .dataframe thead th {\n",
       "        text-align: right;\n",
       "    }\n",
       "</style>\n",
       "<table border=\"1\" class=\"dataframe\">\n",
       "  <thead>\n",
       "    <tr style=\"text-align: right;\">\n",
       "      <th></th>\n",
       "      <th>Feature_importance</th>\n",
       "    </tr>\n",
       "  </thead>\n",
       "  <tbody>\n",
       "    <tr>\n",
       "      <th>INTCOV</th>\n",
       "      <td>0.229646</td>\n",
       "    </tr>\n",
       "    <tr>\n",
       "      <th>EQTA</th>\n",
       "      <td>0.224951</td>\n",
       "    </tr>\n",
       "    <tr>\n",
       "      <th>ROA</th>\n",
       "      <td>0.182153</td>\n",
       "    </tr>\n",
       "    <tr>\n",
       "      <th>CURR</th>\n",
       "      <td>0.118953</td>\n",
       "    </tr>\n",
       "    <tr>\n",
       "      <th>TA</th>\n",
       "      <td>0.088544</td>\n",
       "    </tr>\n",
       "    <tr>\n",
       "      <th>ROE</th>\n",
       "      <td>0.084560</td>\n",
       "    </tr>\n",
       "    <tr>\n",
       "      <th>LTDTA</th>\n",
       "      <td>0.071192</td>\n",
       "    </tr>\n",
       "  </tbody>\n",
       "</table>\n",
       "</div>"
      ],
      "text/plain": [
       "        Feature_importance\n",
       "INTCOV            0.229646\n",
       "EQTA              0.224951\n",
       "ROA               0.182153\n",
       "CURR              0.118953\n",
       "TA                0.088544\n",
       "ROE               0.084560\n",
       "LTDTA             0.071192"
      ]
     },
     "execution_count": 99,
     "metadata": {},
     "output_type": "execute_result"
    }
   ],
   "source": [
    "importance = model.feature_importances_\n",
    "idx = X_train1.columns\n",
    "pd.DataFrame(importance, index =X_train1.columns, columns=[\"Feature_importance\"]).sort_values([\"Feature_importance\"], ascending = False)"
   ]
  },
  {
   "cell_type": "code",
   "execution_count": 100,
   "metadata": {},
   "outputs": [
    {
     "data": {
      "image/png": "[encoded data removed]",
      "text/plain": [
       "<Figure size 432x288 with 1 Axes>"
      ]
     },
     "metadata": {
      "needs_background": "light"
     },
     "output_type": "display_data"
    }
   ],
   "source": [
    "plt.barh(idx,importance, height = 0.8,align='center',alpha=0.8)\n",
    "plt.show()"
   ]
  },
  {
   "cell_type": "markdown",
   "metadata": {},
   "source": [
    "# Conclusion"
   ]
  },
  {
   "cell_type": "code",
   "execution_count": null,
   "metadata": {},
   "outputs": [],
   "source": []
  },
  {
   "cell_type": "code",
   "execution_count": null,
   "metadata": {},
   "outputs": [],
   "source": []
  },
  {
   "cell_type": "code",
   "execution_count": null,
   "metadata": {},
   "outputs": [],
   "source": []
  },
  {
   "cell_type": "code",
   "execution_count": null,
   "metadata": {},
   "outputs": [],
   "source": []
  },
  {
   "cell_type": "code",
   "execution_count": null,
   "metadata": {},
   "outputs": [],
   "source": []
  },
  {
   "cell_type": "code",
   "execution_count": null,
   "metadata": {},
   "outputs": [],
   "source": []
  },
  {
   "cell_type": "code",
   "execution_count": null,
   "metadata": {},
   "outputs": [],
   "source": []
  },
  {
   "cell_type": "code",
   "execution_count": null,
   "metadata": {},
   "outputs": [],
   "source": []
  },
  {
   "cell_type": "code",
   "execution_count": null,
   "metadata": {},
   "outputs": [],
   "source": []
  },
  {
   "cell_type": "code",
   "execution_count": null,
   "metadata": {},
   "outputs": [],
   "source": []
  },
  {
   "cell_type": "code",
   "execution_count": null,
   "metadata": {},
   "outputs": [],
   "source": []
  }
 ],
 "metadata": {
  "kernelspec": {
   "display_name": "Python 3",
   "language": "python",
   "name": "python3"
  },
  "language_info": {
   "codemirror_mode": {
    "name": "ipython",
    "version": 3
   },
   "file_extension": ".py",
   "mimetype": "text/x-python",
   "name": "python",
   "nbconvert_exporter": "python",
   "pygments_lexer": "ipython3",
   "version": "3.7.6"
  }
 },
 "nbformat": 4,
 "nbformat_minor": 4
}
