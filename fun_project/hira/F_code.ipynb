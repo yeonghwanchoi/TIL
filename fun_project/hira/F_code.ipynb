{
 "cells": [
  {
   "cell_type": "code",
   "execution_count": 52,
   "id": "dependent-departure",
   "metadata": {},
   "outputs": [
    {
     "data": {
      "text/html": [
       "<div>\n",
       "<style scoped>\n",
       "    .dataframe tbody tr th:only-of-type {\n",
       "        vertical-align: middle;\n",
       "    }\n",
       "\n",
       "    .dataframe tbody tr th {\n",
       "        vertical-align: top;\n",
       "    }\n",
       "\n",
       "    .dataframe thead th {\n",
       "        text-align: right;\n",
       "    }\n",
       "</style>\n",
       "<table border=\"1\" class=\"dataframe\">\n",
       "  <thead>\n",
       "    <tr style=\"text-align: right;\">\n",
       "      <th></th>\n",
       "      <th>mid</th>\n",
       "      <th>sick_sno</th>\n",
       "      <th>dmd_dgsbjt_cd</th>\n",
       "      <th>sick_cd</th>\n",
       "    </tr>\n",
       "  </thead>\n",
       "  <tbody>\n",
       "  </tbody>\n",
       "</table>\n",
       "</div>"
      ],
      "text/plain": [
       "Empty DataFrame\n",
       "Columns: [mid, sick_sno, dmd_dgsbjt_cd, sick_cd]\n",
       "Index: []"
      ]
     },
     "execution_count": 52,
     "metadata": {},
     "output_type": "execute_result"
    }
   ],
   "source": [
    "df[df['sick_cd']=='*****']"
   ]
  },
  {
   "cell_type": "code",
   "execution_count": 61,
   "id": "center-chinese",
   "metadata": {},
   "outputs": [],
   "source": [
    "df=pd.read_csv('data/df_40_f.csv')\n",
    "df.drop(df.columns[0],axis=1,inplace=True)"
   ]
  },
  {
   "cell_type": "code",
   "execution_count": 94,
   "id": "significant-intention",
   "metadata": {},
   "outputs": [],
   "source": [
    "df['cd']=df['sick_cd'].apply(lambda x : x[0])\n",
    "df['cdn']=df['sick_cd'].apply(lambda x : x[1:])\n",
    "df['count']=1"
   ]
  },
  {
   "cell_type": "code",
   "execution_count": 95,
   "id": "unknown-situation",
   "metadata": {},
   "outputs": [],
   "source": [
    "df.drop(df[df[\"cdn\"]=='***'].index,inplace=True)"
   ]
  },
  {
   "cell_type": "code",
   "execution_count": 100,
   "id": "inside-jason",
   "metadata": {},
   "outputs": [
    {
     "data": {
      "text/html": [
       "<div>\n",
       "<style scoped>\n",
       "    .dataframe tbody tr th:only-of-type {\n",
       "        vertical-align: middle;\n",
       "    }\n",
       "\n",
       "    .dataframe tbody tr th {\n",
       "        vertical-align: top;\n",
       "    }\n",
       "\n",
       "    .dataframe thead th {\n",
       "        text-align: right;\n",
       "    }\n",
       "</style>\n",
       "<table border=\"1\" class=\"dataframe\">\n",
       "  <thead>\n",
       "    <tr style=\"text-align: right;\">\n",
       "      <th></th>\n",
       "      <th>mid</th>\n",
       "      <th>sick_sno</th>\n",
       "      <th>dmd_dgsbjt_cd</th>\n",
       "      <th>sick_cd</th>\n",
       "      <th>cd</th>\n",
       "      <th>cdn</th>\n",
       "      <th>count</th>\n",
       "    </tr>\n",
       "  </thead>\n",
       "  <tbody>\n",
       "    <tr>\n",
       "      <th>0</th>\n",
       "      <td>15502800</td>\n",
       "      <td>1</td>\n",
       "      <td>6</td>\n",
       "      <td>R51</td>\n",
       "      <td>R</td>\n",
       "      <td>51</td>\n",
       "      <td>1</td>\n",
       "    </tr>\n",
       "    <tr>\n",
       "      <th>1</th>\n",
       "      <td>11530802</td>\n",
       "      <td>1</td>\n",
       "      <td>3</td>\n",
       "      <td>F34</td>\n",
       "      <td>F</td>\n",
       "      <td>34</td>\n",
       "      <td>1</td>\n",
       "    </tr>\n",
       "    <tr>\n",
       "      <th>2</th>\n",
       "      <td>4171554</td>\n",
       "      <td>1</td>\n",
       "      <td>3</td>\n",
       "      <td>F41</td>\n",
       "      <td>F</td>\n",
       "      <td>41</td>\n",
       "      <td>1</td>\n",
       "    </tr>\n",
       "    <tr>\n",
       "      <th>3</th>\n",
       "      <td>9042145</td>\n",
       "      <td>1</td>\n",
       "      <td>3</td>\n",
       "      <td>F95</td>\n",
       "      <td>F</td>\n",
       "      <td>95</td>\n",
       "      <td>1</td>\n",
       "    </tr>\n",
       "    <tr>\n",
       "      <th>4</th>\n",
       "      <td>12360034</td>\n",
       "      <td>1</td>\n",
       "      <td>1</td>\n",
       "      <td>R51</td>\n",
       "      <td>R</td>\n",
       "      <td>51</td>\n",
       "      <td>1</td>\n",
       "    </tr>\n",
       "    <tr>\n",
       "      <th>...</th>\n",
       "      <td>...</td>\n",
       "      <td>...</td>\n",
       "      <td>...</td>\n",
       "      <td>...</td>\n",
       "      <td>...</td>\n",
       "      <td>...</td>\n",
       "      <td>...</td>\n",
       "    </tr>\n",
       "    <tr>\n",
       "      <th>521758</th>\n",
       "      <td>8947110</td>\n",
       "      <td>9</td>\n",
       "      <td>11</td>\n",
       "      <td>A099</td>\n",
       "      <td>A</td>\n",
       "      <td>099</td>\n",
       "      <td>1</td>\n",
       "    </tr>\n",
       "    <tr>\n",
       "      <th>521759</th>\n",
       "      <td>6088266</td>\n",
       "      <td>9</td>\n",
       "      <td>1</td>\n",
       "      <td>K30</td>\n",
       "      <td>K</td>\n",
       "      <td>30</td>\n",
       "      <td>1</td>\n",
       "    </tr>\n",
       "    <tr>\n",
       "      <th>521760</th>\n",
       "      <td>13730856</td>\n",
       "      <td>9</td>\n",
       "      <td>6</td>\n",
       "      <td>K590</td>\n",
       "      <td>K</td>\n",
       "      <td>590</td>\n",
       "      <td>1</td>\n",
       "    </tr>\n",
       "    <tr>\n",
       "      <th>521761</th>\n",
       "      <td>13803723</td>\n",
       "      <td>9</td>\n",
       "      <td>50</td>\n",
       "      <td>F31</td>\n",
       "      <td>F</td>\n",
       "      <td>31</td>\n",
       "      <td>1</td>\n",
       "    </tr>\n",
       "    <tr>\n",
       "      <th>521762</th>\n",
       "      <td>10610519</td>\n",
       "      <td>9</td>\n",
       "      <td>3</td>\n",
       "      <td>Z719</td>\n",
       "      <td>Z</td>\n",
       "      <td>719</td>\n",
       "      <td>1</td>\n",
       "    </tr>\n",
       "  </tbody>\n",
       "</table>\n",
       "<p>519587 rows × 7 columns</p>\n",
       "</div>"
      ],
      "text/plain": [
       "             mid  sick_sno  dmd_dgsbjt_cd sick_cd cd  cdn  count\n",
       "0       15502800         1              6     R51  R   51      1\n",
       "1       11530802         1              3     F34  F   34      1\n",
       "2        4171554         1              3     F41  F   41      1\n",
       "3        9042145         1              3     F95  F   95      1\n",
       "4       12360034         1              1     R51  R   51      1\n",
       "...          ...       ...            ...     ... ..  ...    ...\n",
       "521758   8947110         9             11    A099  A  099      1\n",
       "521759   6088266         9              1     K30  K   30      1\n",
       "521760  13730856         9              6    K590  K  590      1\n",
       "521761  13803723         9             50     F31  F   31      1\n",
       "521762  10610519         9              3    Z719  Z  719      1\n",
       "\n",
       "[519587 rows x 7 columns]"
      ]
     },
     "execution_count": 100,
     "metadata": {},
     "output_type": "execute_result"
    }
   ],
   "source": [
    "df"
   ]
  },
  {
   "cell_type": "code",
   "execution_count": 115,
   "id": "boring-borough",
   "metadata": {},
   "outputs": [],
   "source": [
    "def mid_list_get(df):\n",
    "    tmp_list ={ }\n",
    "    for x in df['cd'].unique():\n",
    "        tmp_list[x]=df['mid'][df['cd']==x] \n",
    "    return tmp_list "
   ]
  },
  {
   "cell_type": "code",
   "execution_count": 118,
   "id": "optical-anime",
   "metadata": {},
   "outputs": [
    {
     "data": {
      "text/plain": [
       "0         15502800\n",
       "4         12360034\n",
       "6         14852332\n",
       "46          386302\n",
       "151        2019936\n",
       "            ...   \n",
       "521740      783931\n",
       "521742     9304381\n",
       "521749     2007873\n",
       "521751     2540970\n",
       "521754     5937642\n",
       "Name: mid, Length: 22726, dtype: int64"
      ]
     },
     "execution_count": 118,
     "metadata": {},
     "output_type": "execute_result"
    }
   ],
   "source": [
    "mid_list=mid_list_get(df)"
   ]
  },
  {
   "cell_type": "code",
   "execution_count": 130,
   "id": "entertaining-civilian",
   "metadata": {},
   "outputs": [],
   "source": [
    "key=list(mid_list.keys())\n",
    "value=['감염성&기생충','감염성&기생충(피부)','종양','조혈기관&면역성','내분비&영양대사','정신질환','신경계','눈,귀','순환계','호흡기','소화기'\n",
    "      ,'피부&피하조직','근골격&결합조직','비뇨기','산후기','출생전특정병','유전성기형변형','분류불가이상','손상중독외인','교통사고','의학보건서비스접촉']"
   ]
  },
  {
   "cell_type": "code",
   "execution_count": 132,
   "id": "horizontal-prime",
   "metadata": {},
   "outputs": [
    {
     "data": {
      "text/plain": [
       "{'R': '감염성&기생충',\n",
       " 'F': '감염성&기생충(피부)',\n",
       " 'K': '종양',\n",
       " 'G': '조혈기관&면역성',\n",
       " 'S': '내분비&영양대사',\n",
       " 'J': '정신질환',\n",
       " 'I': '신경계',\n",
       " 'N': '눈,귀',\n",
       " 'A': '순환계',\n",
       " 'Z': '호흡기',\n",
       " 'M': '소화기',\n",
       " 'E': '피부&피하조직',\n",
       " 'D': '근골격&결합조직',\n",
       " 'L': '비뇨기',\n",
       " 'H': '산후기',\n",
       " 'C': '출생전특정병',\n",
       " 'P': '유전성기형변형',\n",
       " 'Q': '분류불가이상',\n",
       " 'B': '손상중독외인',\n",
       " 'O': '교통사고',\n",
       " 'V': '의학보건서비스접촉'}"
      ]
     },
     "execution_count": 132,
     "metadata": {},
     "output_type": "execute_result"
    }
   ],
   "source": [
    "mid_list=mid_list_get(df)\n",
    "document=dict(zip(key,value))\n",
    "document"
   ]
  },
  {
   "cell_type": "code",
   "execution_count": 148,
   "id": "western-frontier",
   "metadata": {},
   "outputs": [
    {
     "data": {
      "text/plain": [
       "(796,\n",
       " dict_keys(['R', 'F', 'K', 'G', 'S', 'J', 'I', 'N', 'A', 'Z', 'M', 'E', 'D', 'L', 'H', 'C', 'P', 'Q', 'B', 'O', 'V']))"
      ]
     },
     "execution_count": 148,
     "metadata": {},
     "output_type": "execute_result"
    }
   ],
   "source": [
    "len(mid_list['D'].values), mid_list.keys()"
   ]
  },
  {
   "cell_type": "code",
   "execution_count": 164,
   "id": "dated-study",
   "metadata": {},
   "outputs": [],
   "source": [
    "data={'number' : [len(mid_list[x].values) for x in mid_list.keys()],'sick_tp':mid_list.keys()}"
   ]
  },
  {
   "cell_type": "code",
   "execution_count": 177,
   "id": "better-penguin",
   "metadata": {},
   "outputs": [],
   "source": [
    "tmp=pd.DataFrame(data).drop(1).sort_values('number',ascending=False)"
   ]
  },
  {
   "cell_type": "code",
   "execution_count": 180,
   "id": "abstract-milan",
   "metadata": {},
   "outputs": [
    {
     "data": {
      "image/png": "[encoded data removed]",
      "text/plain": [
       "<Figure size 432x288 with 1 Axes>"
      ]
     },
     "metadata": {},
     "output_type": "display_data"
    }
   ],
   "source": [
    "sns.set_theme(style=\"whitegrid\")\n",
    "ax = sns.barplot(x=\"sick_tp\", y=\"number\", data=tmp)"
   ]
  },
  {
   "cell_type": "code",
   "execution_count": 183,
   "id": "rational-belle",
   "metadata": {},
   "outputs": [
    {
     "data": {
      "text/plain": [
       "'종양'"
      ]
     },
     "execution_count": 183,
     "metadata": {},
     "output_type": "execute_result"
    }
   ],
   "source": [
    "document['K']"
   ]
  },
  {
   "cell_type": "code",
   "execution_count": null,
   "id": "spatial-processing",
   "metadata": {},
   "outputs": [],
   "source": []
  }
 ],
 "metadata": {
  "kernelspec": {
   "display_name": "Python 3",
   "language": "python",
   "name": "python3"
  },
  "language_info": {
   "codemirror_mode": {
    "name": "ipython",
    "version": 3
   },
   "file_extension": ".py",
   "mimetype": "text/x-python",
   "name": "python",
   "nbconvert_exporter": "python",
   "pygments_lexer": "ipython3",
   "version": "3.8.5"
  },
  "toc": {
   "base_numbering": 1,
   "nav_menu": {},
   "number_sections": true,
   "sideBar": true,
   "skip_h1_title": false,
   "title_cell": "Table of Contents",
   "title_sidebar": "Contents",
   "toc_cell": false,
   "toc_position": {},
   "toc_section_display": true,
   "toc_window_display": false
  },
  "varInspector": {
   "cols": {
    "lenName": 16,
    "lenType": 16,
    "lenVar": 40
   },
   "kernels_config": {
    "python": {
     "delete_cmd_postfix": "",
     "delete_cmd_prefix": "del ",
     "library": "var_list.py",
     "varRefreshCmd": "print(var_dic_list())"
    },
    "r": {
     "delete_cmd_postfix": ") ",
     "delete_cmd_prefix": "rm(",
     "library": "var_list.r",
     "varRefreshCmd": "cat(var_dic_list()) "
    }
   },
   "types_to_exclude": [
    "module",
    "function",
    "builtin_function_or_method",
    "instance",
    "_Feature"
   ],
   "window_display": false
  }
 },
 "nbformat": 4,
 "nbformat_minor": 5
}
