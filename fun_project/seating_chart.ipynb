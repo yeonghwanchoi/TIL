{
 "cells": [
  {
   "cell_type": "code",
   "execution_count": 11,
   "metadata": {},
   "outputs": [
    {
     "data": {
      "text/plain": [
       "20"
      ]
     },
     "execution_count": 11,
     "metadata": {},
     "output_type": "execute_result"
    }
   ],
   "source": [
    "import random\n",
    "names=[\"김도겸\",\"김도현\",\"김석찬\",\"류승환\",\"박서정\",\"박하윤\",\\\n",
    "\"송주한\",\"유재웅\",\"이경무\",\"이유정\",\"이주영\",\"이지구\"\\\n",
    ",\"이지홍\",\"임현수\",\"장지혜\",\"장혜임\",\"정다은\",\"정민주\",\"최민권\",\"고원진\"]\n",
    "len(names)"
   ]
  },
  {
   "cell_type": "code",
   "execution_count": 27,
   "metadata": {},
   "outputs": [],
   "source": [
    "random_list=[]\n",
    "\n",
    "while True:\n",
    "    a=random.choice(names)\n",
    "    if a in random_list:\n",
    "        continue\n",
    "    elif a not in random_list:\n",
    "        random_list.append(a)\n",
    "    if len(names) == len(random_list):\n",
    "        break"
   ]
  },
  {
   "cell_type": "code",
   "execution_count": 30,
   "metadata": {},
   "outputs": [
    {
     "data": {
      "text/plain": [
       "['송주한',\n",
       " '유재웅',\n",
       " '이유정',\n",
       " '임현수',\n",
       " '김도겸',\n",
       " '장혜임',\n",
       " '이경무',\n",
       " '정민주',\n",
       " '김도현',\n",
       " '고원진',\n",
       " '최민권',\n",
       " '이지구',\n",
       " '류승환',\n",
       " '장지혜',\n",
       " '이지홍',\n",
       " '박하윤',\n",
       " '김석찬',\n",
       " '박서정',\n",
       " '정다은',\n",
       " '이주영']"
      ]
     },
     "execution_count": 30,
     "metadata": {},
     "output_type": "execute_result"
    }
   ],
   "source": [
    "random_list"
   ]
  },
  {
   "cell_type": "code",
   "execution_count": 35,
   "metadata": {},
   "outputs": [
    {
     "name": "stdout",
     "output_type": "stream",
     "text": [
      "number:1, 이름:송주한\n",
      "number:2, 이름:유재웅\n",
      "number:3, 이름:이유정\n",
      "number:4, 이름:임현수\n",
      "number:5, 이름:김도겸\n",
      "number:6, 이름:장혜임\n",
      "number:7, 이름:이경무\n",
      "number:8, 이름:정민주\n",
      "number:9, 이름:김도현\n",
      "number:10, 이름:고원진\n",
      "number:11, 이름:최민권\n",
      "number:12, 이름:이지구\n",
      "number:13, 이름:류승환\n",
      "number:14, 이름:장지혜\n",
      "number:15, 이름:이지홍\n",
      "number:16, 이름:박하윤\n",
      "number:17, 이름:김석찬\n",
      "number:18, 이름:박서정\n",
      "number:19, 이름:정다은\n",
      "number:20, 이름:이주영\n"
     ]
    }
   ],
   "source": [
    "for i,name in enumerate(random_list):\n",
    "    print('number:{}, 이름:{}'.format(i+1,name))"
   ]
  },
  {
   "cell_type": "code",
   "execution_count": null,
   "metadata": {},
   "outputs": [],
   "source": []
  }
 ],
 "metadata": {
  "kernelspec": {
   "display_name": "Python 3",
   "language": "python",
   "name": "python3"
  },
  "language_info": {
   "codemirror_mode": {
    "name": "ipython",
    "version": 3
   },
   "file_extension": ".py",
   "mimetype": "text/x-python",
   "name": "python",
   "nbconvert_exporter": "python",
   "pygments_lexer": "ipython3",
   "version": "3.7.6"
  }
 },
 "nbformat": 4,
 "nbformat_minor": 4
}
