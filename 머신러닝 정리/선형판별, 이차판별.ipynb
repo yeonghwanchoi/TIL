{
 "cells": [
  {
   "cell_type": "code",
   "execution_count": null,
   "metadata": {},
   "outputs": [],
   "source": [
    "선형판별 분석법 이차판별 분석법\n",
    "\n",
    "선형판별LDA과 이차판별분석법 QDA은 확률론적 생성모형\n",
    "\n",
    "가능도 즉, y의 클래스값에 따른 x의 분포에 대한 정보를 먼저 알아낸 후, \n",
    "베이즈 정리를 사용하여 주어진 x에 대한 y의 확률분포를 찾아낸다."
   ]
  },
  {
   "cell_type": "code",
   "execution_count": null,
   "metadata": {},
   "outputs": [],
   "source": [
    "생성모형 - 생성모형에서는 베이즈 정리를 사용하여 조건부확률  𝑝(𝑦=𝑘∣𝑥)  을 계산한다.\n",
    "\n",
    "분류문제를 풀기 위해서는 각 클래스  𝑘 에 대한 확률을 비교하여 가장 큰 값을 선택한다. \n",
    "따라서 모든 클래스에 대해 값이 같은 분모  𝑃(𝑥) 은 굳이 계산하지 않아도 괜찮다.\n",
    "만약 다른 지식이나 정보로 알고 있는 사전확률값이 있다면 그 값을 사용하면 된다.\n",
    "\n",
    "𝑃(𝑥∣𝑦=𝑘)가 특정한 확률분포 모형을 따른다고 가정한다. 즉, 확률밀도함수의 형태를 가정한다.\n",
    "𝑘 번째 클래스에 속하는 학습 데이터  {𝑥1,⋯,𝑥𝑁} 을 사용하여 이 모형의 모수값을 구한다.\n",
    "모수값을 알고 있으므로  𝑃(𝑥∣𝑦=𝑘) 의 확률 밀도 함수를 구한 것이다. \n",
    "즉, 새로운 독립변수 값 𝑥 이 어떤 값이 되더라도  𝑃(𝑥∣𝑦=𝑘) 의 값을 계산할 수 있다.\n",
    "\n",
    "이차판별분석법\n",
    "\n",
    "이차판별분석법에서는 독립변수  𝑥 가 실수이고 확률분포가 다변수 정규분포라고 가정한다.\n",
    "\n",
    "분포들을 알고 있으면 독립변수  𝑥 에 대한  𝑦  클래스의 조건부확률분포는 \n",
    "다음과 같이 베이즈 정리와 전체 확률의 법칙으로 구할 수 있다\n",
    "𝑃(𝑦=𝑘∣𝑥)=𝑝(𝑥∣𝑦=𝑘)𝑃(𝑦=𝑘)𝑝(𝑥)=𝑝(𝑥∣𝑦=𝑘)𝑃(𝑦=𝑘)∑𝑙𝑝(𝑥∣𝑦=𝑙)𝑃(𝑦=𝑙)"
   ]
  },
  {
   "cell_type": "code",
   "execution_count": null,
   "metadata": {},
   "outputs": [],
   "source": [
    "선형판별분석법\n",
    "\n",
    "Y 클래스에 대한 독립변수 X의 조건부확률분포가 공통된 공분산 행렬을 가지는 \n",
    "다변수 정규분포(multivariate Gaussian normal distribution)이라고 가정한다.\n",
    "    "
   ]
  }
 ],
 "metadata": {
  "kernelspec": {
   "display_name": "Python 3",
   "language": "python",
   "name": "python3"
  },
  "language_info": {
   "codemirror_mode": {
    "name": "ipython",
    "version": 3
   },
   "file_extension": ".py",
   "mimetype": "text/x-python",
   "name": "python",
   "nbconvert_exporter": "python",
   "pygments_lexer": "ipython3",
   "version": "3.7.6"
  }
 },
 "nbformat": 4,
 "nbformat_minor": 4
}
