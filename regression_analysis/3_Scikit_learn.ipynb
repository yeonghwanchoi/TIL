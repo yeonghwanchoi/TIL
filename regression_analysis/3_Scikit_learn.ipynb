{
 "cells": [
  {
   "cell_type": "code",
   "execution_count": 11,
   "metadata": {},
   "outputs": [],
   "source": [
    "import scipy as sp\n",
    "import seaborn as sns #통계\n",
    "from bs4 import BeautifulSoup\n",
    "\n",
    "import matplotlib.pyplot as pls\n",
    "import seaborn as sns\n",
    "import requests\n",
    "import re\n",
    "pd.options.display.max_rows=999\n",
    "pd.options.display.max_columns=999\n",
    "\n",
    "import missingno as msno\n",
    "import missingno as msno\n",
    "from sklearn.impute import SimpleImputer\n",
    "from patsy import *"
   ]
  },
  {
   "cell_type": "markdown",
   "metadata": {
    "school_cell_uuid": "ed41dfb18902424dbb5ae13c70fa13ab"
   },
   "source": [
    "## 3.3 scikit-learn의 전처리 기능"
   ]
  },
  {
   "cell_type": "markdown",
   "metadata": {
    "school_cell_uuid": "56ef1e1a37904abeb1e4b306361859ee"
   },
   "source": [
    "scikit-learn 패키지도 preprocessing 서브패키지에서 다양한 전처리 기능을 제공한다. 여기에서는 회귀분석과 관련된 기능만을 살펴본다."
   ]
  },
  {
   "cell_type": "markdown",
   "metadata": {
    "school_cell_uuid": "ed562603343a45e88c6fdb20ecba0f63"
   },
   "source": [
    "### 스케일링"
   ]
  },
  {
   "cell_type": "markdown",
   "metadata": {
    "school_cell_uuid": "a2c9041559c8471490002d309e2e39d3"
   },
   "source": [
    "스케일링은 자료 집합에 적용되는 전처리 과정으로 모든 자료에 선형 변환을 적용하여 전체 자료의 분포를 평균 0, 분산 1이 되도록 만드는 과정이다.스케일링은 자료의 오버플로우(overflow)나 언더플로우(underflow)를 방지하고 독립 변수의 공분산 행렬의 조건수(condition number)를 감소시켜 최적화 과정에서의 안정성 및 수렴 속도를 향상시킨다."
   ]
  },
  {
   "cell_type": "markdown",
   "metadata": {
    "school_cell_uuid": "bb9cea7e29084cf39b84c9afa991fa4b"
   },
   "source": [
    "scikit-learn에서는 다음과 같은 스케일링 클래스를 제공한다. \n",
    "\n",
    "* `StandardScaler(X)`: 평균이 0과 표준편차가 1이 되도록 변환.\n",
    "* `RobustScaler(X)`: 중앙값(median)이 0, IQR(interquartile range)이 1이 되도록 변환.\n",
    "* `MinMaxScaler(X)`: 최대값이 각각 1, 최소값이 0이 되도록 변환\n",
    "* `MaxAbsScaler(X)`: 0을 기준으로 절대값이 가장 큰 수가 1또는 -1이 되도록 변환"
   ]
  },
  {
   "cell_type": "markdown",
   "metadata": {
    "school_cell_uuid": "4ef44807c4ac49edbfab3bb83b28fe21"
   },
   "source": [
    "사용방법은 다음과 같다.\n",
    "\n",
    "(1) 학습용 데이터의 분포 추정: 학습용 데이터를 입력으로 하여 `fit` 메서드를 실행하면 분포 모수를 객체내에 저장\n",
    "(2) 학습용 데이터 변환: 학습용 데이터를 입력으로 하여 `transform` 메서드를 실행하면 학습용 데이터를 변환\n",
    "(3) 검증용 데이터 변환: 검증용 데이터를 입력으로 하여 `transform` 메서드를 실행하면 검증용 데이터를 변환\n",
    "\n",
    "(1)번과 (2)번 과정을 합쳐서 `fit_transform` 메서드를 사용할 수도 있다."
   ]
  },
  {
   "cell_type": "code",
   "execution_count": 11,
   "metadata": {},
   "outputs": [
    {
     "data": {
      "text/html": [
       "<div>\n",
       "<style scoped>\n",
       "    .dataframe tbody tr th:only-of-type {\n",
       "        vertical-align: middle;\n",
       "    }\n",
       "\n",
       "    .dataframe tbody tr th {\n",
       "        vertical-align: top;\n",
       "    }\n",
       "\n",
       "    .dataframe thead th {\n",
       "        text-align: right;\n",
       "    }\n",
       "</style>\n",
       "<table border=\"1\" class=\"dataframe\">\n",
       "  <thead>\n",
       "    <tr style=\"text-align: right;\">\n",
       "      <th></th>\n",
       "      <th>0</th>\n",
       "    </tr>\n",
       "  </thead>\n",
       "  <tbody>\n",
       "    <tr>\n",
       "      <th>count</th>\n",
       "      <td>10.000000</td>\n",
       "    </tr>\n",
       "    <tr>\n",
       "      <th>mean</th>\n",
       "      <td>10.900000</td>\n",
       "    </tr>\n",
       "    <tr>\n",
       "      <th>std</th>\n",
       "      <td>31.412842</td>\n",
       "    </tr>\n",
       "    <tr>\n",
       "      <th>min</th>\n",
       "      <td>-3.000000</td>\n",
       "    </tr>\n",
       "    <tr>\n",
       "      <th>25%</th>\n",
       "      <td>-0.750000</td>\n",
       "    </tr>\n",
       "    <tr>\n",
       "      <th>50%</th>\n",
       "      <td>1.500000</td>\n",
       "    </tr>\n",
       "    <tr>\n",
       "      <th>75%</th>\n",
       "      <td>3.750000</td>\n",
       "    </tr>\n",
       "    <tr>\n",
       "      <th>max</th>\n",
       "      <td>100.000000</td>\n",
       "    </tr>\n",
       "  </tbody>\n",
       "</table>\n",
       "</div>"
      ],
      "text/plain": [
       "                0\n",
       "count   10.000000\n",
       "mean    10.900000\n",
       "std     31.412842\n",
       "min     -3.000000\n",
       "25%     -0.750000\n",
       "50%      1.500000\n",
       "75%      3.750000\n",
       "max    100.000000"
      ]
     },
     "execution_count": 11,
     "metadata": {},
     "output_type": "execute_result"
    }
   ],
   "source": [
    "X = (np.arange(9, dtype=np.float)-3).reshape(-1,1)\n",
    "X = np.vstack([X,[100]])\n",
    "pd.DataFrame(X).describe()"
   ]
  },
  {
   "cell_type": "code",
   "execution_count": 7,
   "metadata": {
    "school_cell_uuid": "ff03a0bc180340609ef2b9571a083bd3"
   },
   "outputs": [
    {
     "data": {
      "text/html": [
       "<div>\n",
       "<style scoped>\n",
       "    .dataframe tbody tr th:only-of-type {\n",
       "        vertical-align: middle;\n",
       "    }\n",
       "\n",
       "    .dataframe tbody tr th {\n",
       "        vertical-align: top;\n",
       "    }\n",
       "\n",
       "    .dataframe thead th {\n",
       "        text-align: right;\n",
       "    }\n",
       "</style>\n",
       "<table border=\"1\" class=\"dataframe\">\n",
       "  <thead>\n",
       "    <tr style=\"text-align: right;\">\n",
       "      <th></th>\n",
       "      <th>0</th>\n",
       "    </tr>\n",
       "  </thead>\n",
       "  <tbody>\n",
       "    <tr>\n",
       "      <th>count</th>\n",
       "      <td>10.000000</td>\n",
       "    </tr>\n",
       "    <tr>\n",
       "      <th>mean</th>\n",
       "      <td>10.900000</td>\n",
       "    </tr>\n",
       "    <tr>\n",
       "      <th>std</th>\n",
       "      <td>31.412842</td>\n",
       "    </tr>\n",
       "    <tr>\n",
       "      <th>min</th>\n",
       "      <td>-3.000000</td>\n",
       "    </tr>\n",
       "    <tr>\n",
       "      <th>25%</th>\n",
       "      <td>-0.750000</td>\n",
       "    </tr>\n",
       "    <tr>\n",
       "      <th>50%</th>\n",
       "      <td>1.500000</td>\n",
       "    </tr>\n",
       "    <tr>\n",
       "      <th>75%</th>\n",
       "      <td>3.750000</td>\n",
       "    </tr>\n",
       "    <tr>\n",
       "      <th>max</th>\n",
       "      <td>100.000000</td>\n",
       "    </tr>\n",
       "  </tbody>\n",
       "</table>\n",
       "</div>"
      ],
      "text/plain": [
       "                0\n",
       "count   10.000000\n",
       "mean    10.900000\n",
       "std     31.412842\n",
       "min     -3.000000\n",
       "25%     -0.750000\n",
       "50%      1.500000\n",
       "75%      3.750000\n",
       "max    100.000000"
      ]
     },
     "execution_count": 7,
     "metadata": {},
     "output_type": "execute_result"
    }
   ],
   "source": [
    "X = (np.arange(9, dtype=np.float) - 3).reshape(-1, 1)  # -3부터 5까지의 분포\n",
    "X = np.vstack([X, [100]])  # 아웃라이어(outlier) 값을 추가\n",
    "pd.DataFrame(X).describe()"
   ]
  },
  {
   "cell_type": "code",
   "execution_count": 12,
   "metadata": {
    "school_cell_uuid": "936d0deaa59843ea81f48f8fd8127be1"
   },
   "outputs": [
    {
     "data": {
      "text/plain": [
       "(0.0, 1.0)"
      ]
     },
     "execution_count": 12,
     "metadata": {},
     "output_type": "execute_result"
    }
   ],
   "source": [
    "from sklearn.preprocessing import StandardScaler\n",
    "\n",
    "scaler = StandardScaler()\n",
    "scaler.fit(X)\n",
    "X_scaled = scaler.transform(X)\n",
    "np.mean(X_scaled), np.std(X_scaled)"
   ]
  },
  {
   "cell_type": "code",
   "execution_count": 13,
   "metadata": {},
   "outputs": [
    {
     "data": {
      "text/plain": [
       "(0.0, 1.0)"
      ]
     },
     "execution_count": 13,
     "metadata": {},
     "output_type": "execute_result"
    }
   ],
   "source": [
    "from sklearn.preprocessing import StandardScaler\n",
    "\n",
    "scaler = StandardScaler()\n",
    "scaler.fit(X)\n",
    "X_scaled = scaler.transform(X)\n",
    "np.mean(X_scaled), np.std(X_scaled)"
   ]
  },
  {
   "cell_type": "code",
   "execution_count": 14,
   "metadata": {
    "school_cell_uuid": "cf4e842072bb44e2b2ff6184609c81ae"
   },
   "outputs": [
    {
     "data": {
      "text/plain": [
       "(2.088888888888889, 6.622408647636923)"
      ]
     },
     "execution_count": 14,
     "metadata": {},
     "output_type": "execute_result"
    }
   ],
   "source": [
    "from sklearn.preprocessing import RobustScaler\n",
    "\n",
    "robust_scaler = RobustScaler()\n",
    "robust_scaler.fit(X)\n",
    "X_robust_scaled = robust_scaler.transform(X)\n",
    "np.mean(X_robust_scaled), np.std(X_robust_scaled)"
   ]
  },
  {
   "cell_type": "code",
   "execution_count": 15,
   "metadata": {},
   "outputs": [
    {
     "data": {
      "text/plain": [
       "(2.088888888888889, 6.622408647636923)"
      ]
     },
     "execution_count": 15,
     "metadata": {},
     "output_type": "execute_result"
    }
   ],
   "source": [
    "from sklearn.preprocessing import RobustScaler\n",
    "\n",
    "robust_scaler = RobustScaler()\n",
    "robust_scaler.fit(X)\n",
    "X_robust_scaled = robust_scaler.transform(X)\n",
    "np.mean(X_robust_scaled), np.std(X_robust_scaled)"
   ]
  },
  {
   "cell_type": "markdown",
   "metadata": {
    "school_cell_uuid": "f98698691af54d38bca75997580393e7"
   },
   "source": [
    "전체 스케일링 결과는 비슷하지만 아웃라이어를 제거한 나머지 데이터의 분포는 로버스트 스케일링을 사용했을 때가 더 좋다."
   ]
  },
  {
   "cell_type": "code",
   "execution_count": 4,
   "metadata": {
    "school_cell_uuid": "54110854d9a74410955162604ba7423a"
   },
   "outputs": [
    {
     "data": {
      "text/html": [
       "<div>\n",
       "<style scoped>\n",
       "    .dataframe tbody tr th:only-of-type {\n",
       "        vertical-align: middle;\n",
       "    }\n",
       "\n",
       "    .dataframe tbody tr th {\n",
       "        vertical-align: top;\n",
       "    }\n",
       "\n",
       "    .dataframe thead th {\n",
       "        text-align: right;\n",
       "    }\n",
       "</style>\n",
       "<table border=\"1\" class=\"dataframe\">\n",
       "  <thead>\n",
       "    <tr style=\"text-align: right;\">\n",
       "      <th></th>\n",
       "      <th>Standard Scaler</th>\n",
       "      <th>Robust Scaler</th>\n",
       "    </tr>\n",
       "  </thead>\n",
       "  <tbody>\n",
       "    <tr>\n",
       "      <th>min</th>\n",
       "      <td>-0.466430</td>\n",
       "      <td>-1.000000</td>\n",
       "    </tr>\n",
       "    <tr>\n",
       "      <th>25%</th>\n",
       "      <td>-0.407707</td>\n",
       "      <td>-0.611111</td>\n",
       "    </tr>\n",
       "    <tr>\n",
       "      <th>50%</th>\n",
       "      <td>-0.348983</td>\n",
       "      <td>-0.222222</td>\n",
       "    </tr>\n",
       "    <tr>\n",
       "      <th>75%</th>\n",
       "      <td>-0.290260</td>\n",
       "      <td>0.166667</td>\n",
       "    </tr>\n",
       "    <tr>\n",
       "      <th>max</th>\n",
       "      <td>-0.231537</td>\n",
       "      <td>0.555556</td>\n",
       "    </tr>\n",
       "  </tbody>\n",
       "</table>\n",
       "</div>"
      ],
      "text/plain": [
       "     Standard Scaler  Robust Scaler\n",
       "min        -0.466430      -1.000000\n",
       "25%        -0.407707      -0.611111\n",
       "50%        -0.348983      -0.222222\n",
       "75%        -0.290260       0.166667\n",
       "max        -0.231537       0.555556"
      ]
     },
     "execution_count": 4,
     "metadata": {},
     "output_type": "execute_result"
    }
   ],
   "source": [
    "pd.DataFrame(\n",
    "    np.hstack([X_scaled[:-2], X_robust_scaled[:-2]]),\n",
    "    columns=[\"Standard Scaler\", \"Robust Scaler\"]\n",
    ").describe()[3:]"
   ]
  },
  {
   "cell_type": "code",
   "execution_count": 31,
   "metadata": {},
   "outputs": [
    {
     "data": {
      "text/html": [
       "<div>\n",
       "<style scoped>\n",
       "    .dataframe tbody tr th:only-of-type {\n",
       "        vertical-align: middle;\n",
       "    }\n",
       "\n",
       "    .dataframe tbody tr th {\n",
       "        vertical-align: top;\n",
       "    }\n",
       "\n",
       "    .dataframe thead th {\n",
       "        text-align: right;\n",
       "    }\n",
       "</style>\n",
       "<table border=\"1\" class=\"dataframe\">\n",
       "  <thead>\n",
       "    <tr style=\"text-align: right;\">\n",
       "      <th></th>\n",
       "      <th>Standard Scaler</th>\n",
       "      <th>Robust Scaler</th>\n",
       "    </tr>\n",
       "  </thead>\n",
       "  <tbody>\n",
       "    <tr>\n",
       "      <th>min</th>\n",
       "      <td>-0.466430</td>\n",
       "      <td>-1.000000</td>\n",
       "    </tr>\n",
       "    <tr>\n",
       "      <th>25%</th>\n",
       "      <td>-0.407707</td>\n",
       "      <td>-0.611111</td>\n",
       "    </tr>\n",
       "    <tr>\n",
       "      <th>50%</th>\n",
       "      <td>-0.348983</td>\n",
       "      <td>-0.222222</td>\n",
       "    </tr>\n",
       "    <tr>\n",
       "      <th>75%</th>\n",
       "      <td>-0.290260</td>\n",
       "      <td>0.166667</td>\n",
       "    </tr>\n",
       "    <tr>\n",
       "      <th>max</th>\n",
       "      <td>-0.231537</td>\n",
       "      <td>0.555556</td>\n",
       "    </tr>\n",
       "  </tbody>\n",
       "</table>\n",
       "</div>"
      ],
      "text/plain": [
       "     Standard Scaler  Robust Scaler\n",
       "min        -0.466430      -1.000000\n",
       "25%        -0.407707      -0.611111\n",
       "50%        -0.348983      -0.222222\n",
       "75%        -0.290260       0.166667\n",
       "max        -0.231537       0.555556"
      ]
     },
     "execution_count": 31,
     "metadata": {},
     "output_type": "execute_result"
    }
   ],
   "source": [
    "pd.DataFrame(\n",
    "    np.hstack([X_scaled[:-2], X_robust_scaled[:-2]]),\n",
    "    columns=[\"Standard Scaler\", \"Robust Scaler\"]\n",
    ").describe()[3:]"
   ]
  },
  {
   "cell_type": "markdown",
   "metadata": {
    "school_cell_uuid": "0cfdf6f9cc9d45ca80d470681176a8dd"
   },
   "source": [
    "### 파이프라인"
   ]
  },
  {
   "cell_type": "markdown",
   "metadata": {
    "school_cell_uuid": "25fdde3560284c38b02f3881a9e8dfa7"
   },
   "source": [
    "전처리용 객체는 scikit-learn의 파이프라인(pipeline) 기능을 이용하여 분류 모형과 합칠 수 있다. 예를 들어 스케일러와 선형회귀모형은 다음처럼 합친다."
   ]
  },
  {
   "cell_type": "code",
   "execution_count": 16,
   "metadata": {
    "school_cell_uuid": "8ad9e839e5454411bf882f538ab66529"
   },
   "outputs": [],
   "source": [
    "from sklearn.pipeline import Pipeline\n",
    "from sklearn.linear_model import LinearRegression\n",
    "\n",
    "model = Pipeline([\n",
    "    ('scaler', StandardScaler()),\n",
    "    ('regressor', LinearRegression()),\n",
    "])"
   ]
  },
  {
   "cell_type": "markdown",
   "metadata": {
    "school_cell_uuid": "7ed1ce15d4e447d5a5f7bc67a49dedab"
   },
   "source": [
    "파이프라인으로 결합된 모형은 원래의 모형이 가지는 `fit`, `predict` 메서드를 가지며 각 메서드가 호출되면 그에 따른 적절한 메서드를 파이프라인의 각 객체에 대해서 호출한다. 예를 들어 파이프라인에 대해 `fit` 메서드를 호출하면 전처리 객체에는 `fit_transform`이 내부적으로 호출되고 분류 모형에서는 `fit` 메서드가 호출된다. 파이프라인에 대해 `predict` 메서드를 호출하면 전처리 객체에는 `transform`이 내부적으로 호출되고 분류 모형에서는 `predict` 메서드가 호출된다."
   ]
  },
  {
   "cell_type": "markdown",
   "metadata": {
    "school_cell_uuid": "8187ca5504b840c78fff7a4e4b8bae33"
   },
   "source": [
    "### 다항 변환"
   ]
  },
  {
   "cell_type": "markdown",
   "metadata": {
    "school_cell_uuid": "e6c3aaebe13c4af8abe0b6650d0218e5"
   },
   "source": [
    "PolynomialFeatures 입력값 $x$를 다항식으로 변환한다.\n",
    "\n",
    "$$ x \\;\\; \\rightarrow \\;\\; [ 1, x, x^2, x^3, \\cdots ] $$\n",
    "\n",
    "만약 열의 갯수가 두 개이고 2차 다항식으로 변환하는 경우에는 다음처럼 변환한다.\n",
    "\n",
    "$$ [x_1, x_2] \\;\\; \\rightarrow \\;\\; [ 1, x_1, x_2, x_1^2, x_2^2, x_1x_2 ] $$\n",
    "\n",
    "다음과 같은 입력 인수를 가진다.\n",
    "\n",
    "* `degree` : 차수\n",
    "* `interaction_only`: True면 2차항에서 상호작용항만 출력\n",
    "* `include_bias` : 상수항 생성 여부\n"
   ]
  },
  {
   "cell_type": "code",
   "execution_count": 19,
   "metadata": {
    "school_cell_uuid": "8fd2107493484eee81282ba952ba11c7"
   },
   "outputs": [
    {
     "data": {
      "text/plain": [
       "array([[0, 1],\n",
       "       [2, 3],\n",
       "       [4, 5]])"
      ]
     },
     "execution_count": 19,
     "metadata": {},
     "output_type": "execute_result"
    }
   ],
   "source": [
    "from sklearn.preprocessing import PolynomialFeatures\n",
    "X = np.arange(6).reshape(3, 2)\n",
    "X"
   ]
  },
  {
   "cell_type": "code",
   "execution_count": 20,
   "metadata": {},
   "outputs": [
    {
     "data": {
      "text/plain": [
       "array([[0, 1],\n",
       "       [2, 3],\n",
       "       [4, 5]])"
      ]
     },
     "execution_count": 20,
     "metadata": {},
     "output_type": "execute_result"
    }
   ],
   "source": [
    "from sklearn.preprocessing import PolynomialFeatures\n",
    "X = np.arange(6).reshape(3,2)\n",
    "X"
   ]
  },
  {
   "cell_type": "code",
   "execution_count": 28,
   "metadata": {
    "school_cell_uuid": "647a8c3c1aa248338143d0a6ce56a4cd"
   },
   "outputs": [
    {
     "data": {
      "text/plain": [
       "array([[ 1.,  0.,  1.,  0.,  0.,  1.],\n",
       "       [ 1.,  2.,  3.,  4.,  6.,  9.],\n",
       "       [ 1.,  4.,  5., 16., 20., 25.]])"
      ]
     },
     "execution_count": 28,
     "metadata": {},
     "output_type": "execute_result"
    }
   ],
   "source": [
    "poly = PolynomialFeatures(2)\n",
    "poly.fit_transform(X)"
   ]
  },
  {
   "cell_type": "code",
   "execution_count": 23,
   "metadata": {},
   "outputs": [
    {
     "ename": "AttributeError",
     "evalue": "'PolynomialFeatures' object has no attribute 'fit_tansform'",
     "output_type": "error",
     "traceback": [
      "\u001b[0;31m---------------------------------------------------------------------------\u001b[0m",
      "\u001b[0;31mAttributeError\u001b[0m                            Traceback (most recent call last)",
      "\u001b[0;32m<ipython-input-23-a00e623b3874>\u001b[0m in \u001b[0;36m<module>\u001b[0;34m\u001b[0m\n\u001b[1;32m      1\u001b[0m \u001b[0mploy\u001b[0m \u001b[0;34m=\u001b[0m \u001b[0mPolynomialFeatures\u001b[0m\u001b[0;34m(\u001b[0m\u001b[0;36m2\u001b[0m\u001b[0;34m)\u001b[0m\u001b[0;34m\u001b[0m\u001b[0;34m\u001b[0m\u001b[0m\n\u001b[0;32m----> 2\u001b[0;31m \u001b[0mpoly\u001b[0m\u001b[0;34m.\u001b[0m\u001b[0mfit_tansform\u001b[0m\u001b[0;34m(\u001b[0m\u001b[0mX\u001b[0m\u001b[0;34m)\u001b[0m\u001b[0;34m\u001b[0m\u001b[0;34m\u001b[0m\u001b[0m\n\u001b[0m",
      "\u001b[0;31mAttributeError\u001b[0m: 'PolynomialFeatures' object has no attribute 'fit_tansform'"
     ]
    }
   ],
   "source": [
    "ploy = PolynomialFeatures(2)\n",
    "poly.fit_tansform(X)"
   ]
  },
  {
   "cell_type": "code",
   "execution_count": 24,
   "metadata": {
    "school_cell_uuid": "652af60d75694e19b0ca181954b1c20a"
   },
   "outputs": [
    {
     "data": {
      "text/plain": [
       "array([[ 1.,  0.,  1.,  0.],\n",
       "       [ 1.,  2.,  3.,  6.],\n",
       "       [ 1.,  4.,  5., 20.]])"
      ]
     },
     "execution_count": 24,
     "metadata": {},
     "output_type": "execute_result"
    }
   ],
   "source": [
    "poly = PolynomialFeatures(interaction_only=True)\n",
    "poly.fit_transform(X)"
   ]
  },
  {
   "cell_type": "markdown",
   "metadata": {
    "school_cell_uuid": "63b9b324b5b343e18a8d25e8ebff9e7b"
   },
   "source": [
    "### 일반 수학 변환"
   ]
  },
  {
   "cell_type": "markdown",
   "metadata": {
    "school_cell_uuid": "4e17c42713dd4f1fb5c264f303fac3a4"
   },
   "source": [
    "FunctionTransformer 입력값 $x$를 다항식이 아닌 사용자가 원하는 함수를 사용하여 변환한다.\n",
    "\n",
    "$$ x \\;\\; \\rightarrow \\;\\; [ f_1(x),  f_2(x),  f_3(x),  \\cdots ] $$"
   ]
  },
  {
   "cell_type": "code",
   "execution_count": 9,
   "metadata": {
    "school_cell_uuid": "f870d22f390c428098133134944f773c"
   },
   "outputs": [],
   "source": [
    "from sklearn.preprocessing import FunctionTransformer\n",
    "\n",
    "\n",
    "def kernel(X):\n",
    "    x0 = X[:, :1]\n",
    "    x1 = X[:, 1:2]\n",
    "    x2 = X[:, 2:3]\n",
    "    X_new = np.hstack([x0, 2 * x1, x2 ** 2, np.log(x1)])\n",
    "    return X_new"
   ]
  },
  {
   "cell_type": "code",
   "execution_count": 10,
   "metadata": {
    "school_cell_uuid": "7a5dc45676884e139692779af20779b6"
   },
   "outputs": [
    {
     "data": {
      "text/plain": [
       "array([[ 0,  1,  2],\n",
       "       [ 3,  4,  5],\n",
       "       [ 6,  7,  8],\n",
       "       [ 9, 10, 11]])"
      ]
     },
     "execution_count": 10,
     "metadata": {},
     "output_type": "execute_result"
    }
   ],
   "source": [
    "X = np.arange(12).reshape(4, 3)\n",
    "X"
   ]
  },
  {
   "cell_type": "code",
   "execution_count": 11,
   "metadata": {
    "school_cell_uuid": "eb2aad6b95164c4db7d08b3ee7ca0125"
   },
   "outputs": [
    {
     "data": {
      "text/plain": [
       "array([[  0.        ,   2.        ,   4.        ,   0.        ],\n",
       "       [  3.        ,   8.        ,  25.        ,   1.38629436],\n",
       "       [  6.        ,  14.        ,  64.        ,   1.94591015],\n",
       "       [  9.        ,  20.        , 121.        ,   2.30258509]])"
      ]
     },
     "execution_count": 11,
     "metadata": {},
     "output_type": "execute_result"
    }
   ],
   "source": [
    "kernel(X)"
   ]
  },
  {
   "cell_type": "code",
   "execution_count": 12,
   "metadata": {
    "school_cell_uuid": "94eab37e6bb1468a990796fc6c1dafd7"
   },
   "outputs": [
    {
     "data": {
      "text/plain": [
       "array([[  0.        ,   2.        ,   4.        ,   0.        ],\n",
       "       [  3.        ,   8.        ,  25.        ,   1.38629436],\n",
       "       [  6.        ,  14.        ,  64.        ,   1.94591015],\n",
       "       [  9.        ,  20.        , 121.        ,   2.30258509]])"
      ]
     },
     "execution_count": 12,
     "metadata": {},
     "output_type": "execute_result"
    }
   ],
   "source": [
    "FunctionTransformer(kernel).fit_transform(X)"
   ]
  }
 ],
 "metadata": {
  "celltoolbar": "Edit Metadata",
  "kernelspec": {
   "display_name": "Python 3",
   "language": "python",
   "name": "python3"
  },
  "language_info": {
   "codemirror_mode": {
    "name": "ipython",
    "version": 3
   },
   "file_extension": ".py",
   "mimetype": "text/x-python",
   "name": "python",
   "nbconvert_exporter": "python",
   "pygments_lexer": "ipython3",
   "version": "3.7.6"
  }
 },
 "nbformat": 4,
 "nbformat_minor": 1
}
