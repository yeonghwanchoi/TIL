{
 "cells": [
  {
   "cell_type": "markdown",
   "metadata": {
    "school_cell_uuid": "662aeb8f73654e8a988efaa9cf914ca1"
   },
   "source": [
    "## 3.2 statsmodels의 전처리 기능"
   ]
  },
  {
   "cell_type": "markdown",
   "metadata": {
    "school_cell_uuid": "d85b8967760640f89ffefa9b6ce95972"
   },
   "source": [
    "StatsModels 패키지는 통계분석과 관련된 R의 기능을 파이썬으로 옮겨오기 위한 패키지이다. R에는 데이터프레임과 문자열 기호를 이용하여 회귀모형을 정의하는 방법이 존재한다. StatsModels 패키지도 이러한 R 스타일 모형 정의 방법을 지원한다. 이러한 지원을 가능하게 하는 것은 patsy라는 패키지 덕분이다. 여기에서는 patsy 패키지의 간단한 사용법과 이를 이용하여 StatsModels에서 회귀모형을 정의하는 방법을 설명한다."
   ]
  },
  {
   "cell_type": "markdown",
   "metadata": {
    "school_cell_uuid": "a3d08bc02a134cf4ad49c465708685d9"
   },
   "source": [
    "### patsy 패키지 소개"
   ]
  },
  {
   "cell_type": "markdown",
   "metadata": {
    "collapsed": true,
    "school_cell_uuid": "bf2ccf16ec82487db9d39cdd7570388b"
   },
   "source": [
    "patsy 패키지는 회귀분석 전처리를 위한 패키지로 데이터프레임을 가공하여 인코딩, 변환 등을 쉽게 해주는 기능을 제공한다."
   ]
  },
  {
   "cell_type": "code",
   "execution_count": 44,
   "metadata": {
    "school_cell_uuid": "90950da80df14919a1a3061df334f89a"
   },
   "outputs": [],
   "source": [
    "from patsy import *\n",
    "import statsmodels.api as sm"
   ]
  },
  {
   "cell_type": "code",
   "execution_count": 2,
   "metadata": {},
   "outputs": [],
   "source": [
    "from patsy import *"
   ]
  },
  {
   "cell_type": "markdown",
   "metadata": {
    "school_cell_uuid": "e56309cd6d06403f921d8bfc042f5d09"
   },
   "source": [
    "patsy 패키지의 `dmatrix`라는 명령을 사용하면 실험 설계 행렬(experiment design matrix)을 간단히 만들수 있다. `dmatrix`에 다음과 같이 모형 정의 문자열 `formula`와 원 데이터를 담은 데이터프레임 `data`을 입력하면 `formula`에서 지정한 대로 변환된 데이터 `data_transformed`를 출력한다. \n",
    "\n",
    "```\n",
    "data_transformed = dmatrix(formula, data)\n",
    "```"
   ]
  },
  {
   "cell_type": "markdown",
   "metadata": {
    "school_cell_uuid": "897b1e96424b492aad02fc3ccb92c81b"
   },
   "source": [
    "patsy 패키지가 제공하는 `demo_data` 명령으로 다음과 같이 예제 데이터 `x1`, `x2`, `y`를 만들자."
   ]
  },
  {
   "cell_type": "markdown",
   "metadata": {
    "school_cell_uuid": "26134e17db4c4f94a7b6354a8fb1d596"
   },
   "source": [
    "`dmatrix`의 첫번째 기능은 자동 상수항 결합 기능이다. 대상이 되는 데이터에 자동으로 Intecept라는 이름의 데이터 열을 추가한다. \n",
    "\n",
    "다음 예제에서 스타일 문자열은 단순히 `\"x1\"`이다. 스타일 문자열은 데이터와 연산자로 이루어지는데 데이터는 변수명 혹은 데이터프레임 열 이름으로 지정한다. 변수명으로 지정하는 경우에는 현재의 이름 공간(name space)에서 변수를 찾고 데이터프레임 열 이름을 지정하는 경우에는 `data`라는 인수에 데이터프레임을 넣어주어야 한다."
   ]
  },
  {
   "cell_type": "code",
   "execution_count": 3,
   "metadata": {},
   "outputs": [
    {
     "data": {
      "text/html": [
       "<div>\n",
       "<style scoped>\n",
       "    .dataframe tbody tr th:only-of-type {\n",
       "        vertical-align: middle;\n",
       "    }\n",
       "\n",
       "    .dataframe tbody tr th {\n",
       "        vertical-align: top;\n",
       "    }\n",
       "\n",
       "    .dataframe thead th {\n",
       "        text-align: right;\n",
       "    }\n",
       "</style>\n",
       "<table border=\"1\" class=\"dataframe\">\n",
       "  <thead>\n",
       "    <tr style=\"text-align: right;\">\n",
       "      <th></th>\n",
       "      <th>x1</th>\n",
       "      <th>x2</th>\n",
       "      <th>y</th>\n",
       "    </tr>\n",
       "  </thead>\n",
       "  <tbody>\n",
       "    <tr>\n",
       "      <th>0</th>\n",
       "      <td>1.764052</td>\n",
       "      <td>-0.977278</td>\n",
       "      <td>0.144044</td>\n",
       "    </tr>\n",
       "    <tr>\n",
       "      <th>1</th>\n",
       "      <td>0.400157</td>\n",
       "      <td>0.950088</td>\n",
       "      <td>1.454274</td>\n",
       "    </tr>\n",
       "    <tr>\n",
       "      <th>2</th>\n",
       "      <td>0.978738</td>\n",
       "      <td>-0.151357</td>\n",
       "      <td>0.761038</td>\n",
       "    </tr>\n",
       "    <tr>\n",
       "      <th>3</th>\n",
       "      <td>2.240893</td>\n",
       "      <td>-0.103219</td>\n",
       "      <td>0.121675</td>\n",
       "    </tr>\n",
       "    <tr>\n",
       "      <th>4</th>\n",
       "      <td>1.867558</td>\n",
       "      <td>0.410599</td>\n",
       "      <td>0.443863</td>\n",
       "    </tr>\n",
       "  </tbody>\n",
       "</table>\n",
       "</div>"
      ],
      "text/plain": [
       "         x1        x2         y\n",
       "0  1.764052 -0.977278  0.144044\n",
       "1  0.400157  0.950088  1.454274\n",
       "2  0.978738 -0.151357  0.761038\n",
       "3  2.240893 -0.103219  0.121675\n",
       "4  1.867558  0.410599  0.443863"
      ]
     },
     "execution_count": 3,
     "metadata": {},
     "output_type": "execute_result"
    }
   ],
   "source": [
    "df = pd.DataFrame(demo_data(\"x1\", \"x2\", \"y\"))\n",
    "df"
   ]
  },
  {
   "cell_type": "code",
   "execution_count": 4,
   "metadata": {},
   "outputs": [
    {
     "data": {
      "text/html": [
       "<div>\n",
       "<style scoped>\n",
       "    .dataframe tbody tr th:only-of-type {\n",
       "        vertical-align: middle;\n",
       "    }\n",
       "\n",
       "    .dataframe tbody tr th {\n",
       "        vertical-align: top;\n",
       "    }\n",
       "\n",
       "    .dataframe thead th {\n",
       "        text-align: right;\n",
       "    }\n",
       "</style>\n",
       "<table border=\"1\" class=\"dataframe\">\n",
       "  <thead>\n",
       "    <tr style=\"text-align: right;\">\n",
       "      <th></th>\n",
       "      <th>x1</th>\n",
       "      <th>x2</th>\n",
       "      <th>y</th>\n",
       "    </tr>\n",
       "  </thead>\n",
       "  <tbody>\n",
       "    <tr>\n",
       "      <th>0</th>\n",
       "      <td>1.764052</td>\n",
       "      <td>-0.977278</td>\n",
       "      <td>0.144044</td>\n",
       "    </tr>\n",
       "    <tr>\n",
       "      <th>1</th>\n",
       "      <td>0.400157</td>\n",
       "      <td>0.950088</td>\n",
       "      <td>1.454274</td>\n",
       "    </tr>\n",
       "    <tr>\n",
       "      <th>2</th>\n",
       "      <td>0.978738</td>\n",
       "      <td>-0.151357</td>\n",
       "      <td>0.761038</td>\n",
       "    </tr>\n",
       "    <tr>\n",
       "      <th>3</th>\n",
       "      <td>2.240893</td>\n",
       "      <td>-0.103219</td>\n",
       "      <td>0.121675</td>\n",
       "    </tr>\n",
       "    <tr>\n",
       "      <th>4</th>\n",
       "      <td>1.867558</td>\n",
       "      <td>0.410599</td>\n",
       "      <td>0.443863</td>\n",
       "    </tr>\n",
       "  </tbody>\n",
       "</table>\n",
       "</div>"
      ],
      "text/plain": [
       "         x1        x2         y\n",
       "0  1.764052 -0.977278  0.144044\n",
       "1  0.400157  0.950088  1.454274\n",
       "2  0.978738 -0.151357  0.761038\n",
       "3  2.240893 -0.103219  0.121675\n",
       "4  1.867558  0.410599  0.443863"
      ]
     },
     "execution_count": 4,
     "metadata": {},
     "output_type": "execute_result"
    }
   ],
   "source": [
    "df = pd.DataFrame(demo_data(\"x1\", \"x2\", \"y\"))\n",
    "df"
   ]
  },
  {
   "cell_type": "code",
   "execution_count": 11,
   "metadata": {
    "school_cell_uuid": "116a9fc80f0043fd80e9306b54ccbf31"
   },
   "outputs": [
    {
     "data": {
      "text/plain": [
       "DesignMatrix with shape (5, 2)\n",
       "  Intercept       x1\n",
       "          1  1.76405\n",
       "          1  0.40016\n",
       "          1  0.97874\n",
       "          1  2.24089\n",
       "          1  1.86756\n",
       "  Terms:\n",
       "    'Intercept' (column 0)\n",
       "    'x1' (column 1)"
      ]
     },
     "execution_count": 11,
     "metadata": {},
     "output_type": "execute_result"
    }
   ],
   "source": [
    "dmatrix(\"x1\", df)"
   ]
  },
  {
   "cell_type": "code",
   "execution_count": 12,
   "metadata": {},
   "outputs": [
    {
     "data": {
      "text/plain": [
       "DesignMatrix with shape (5, 2)\n",
       "  Intercept       x1\n",
       "          1  1.76405\n",
       "          1  0.40016\n",
       "          1  0.97874\n",
       "          1  2.24089\n",
       "          1  1.86756\n",
       "  Terms:\n",
       "    'Intercept' (column 0)\n",
       "    'x1' (column 1)"
      ]
     },
     "execution_count": 12,
     "metadata": {},
     "output_type": "execute_result"
    }
   ],
   "source": [
    "dmatrix(\"x1\",df)"
   ]
  },
  {
   "cell_type": "markdown",
   "metadata": {
    "school_cell_uuid": "de5e1d4c7fa64196b7cab4f755c4a6ad"
   },
   "source": [
    "### R-style formula 연산자\n",
    "\n",
    "모형정의 연산자 `formula`에 복수의 데이터를 지정하는 경우에는 다음과 같은 연산자를 포함해야 한다.\n",
    "\n",
    "| 기호 | 설명 |\n",
    "|-|-|\n",
    "|1, 0| 바이어스(bias, intercept) 추가 및 제거 |\n",
    "|`+`| 설명 변수 추가 |\n",
    "|`-`| 설명 변수 제거 |\n",
    "|`:`| 상호작용(interaction) |\n",
    "|`*`| `a*b = a + b + a:b` |\n",
    "|`/`| `a/b = a + a:b` |"
   ]
  },
  {
   "cell_type": "markdown",
   "metadata": {
    "school_cell_uuid": "75c01215fbaa408995da15f2553461de"
   },
   "source": [
    "상수항을 제외하고자 하는 경우에는 `- 1` 또는 `+ 0`을 써주어야 한다."
   ]
  },
  {
   "cell_type": "code",
   "execution_count": 13,
   "metadata": {},
   "outputs": [
    {
     "data": {
      "text/plain": [
       "DesignMatrix with shape (5, 1)\n",
       "       x1\n",
       "  1.76405\n",
       "  0.40016\n",
       "  0.97874\n",
       "  2.24089\n",
       "  1.86756\n",
       "  Terms:\n",
       "    'x1' (column 0)"
      ]
     },
     "execution_count": 13,
     "metadata": {},
     "output_type": "execute_result"
    }
   ],
   "source": [
    "dmatrix(\"x1 - 1\", df)"
   ]
  },
  {
   "cell_type": "code",
   "execution_count": 8,
   "metadata": {
    "school_cell_uuid": "b93567e5164b443d97a78c027c71bf8c"
   },
   "outputs": [
    {
     "data": {
      "text/plain": [
       "DesignMatrix with shape (5, 1)\n",
       "       x1\n",
       "  1.76405\n",
       "  0.40016\n",
       "  0.97874\n",
       "  2.24089\n",
       "  1.86756\n",
       "  Terms:\n",
       "    'x1' (column 0)"
      ]
     },
     "execution_count": 8,
     "metadata": {},
     "output_type": "execute_result"
    }
   ],
   "source": [
    "dmatrix(\"x1 - 1\", df)"
   ]
  },
  {
   "cell_type": "code",
   "execution_count": 9,
   "metadata": {
    "school_cell_uuid": "57796e713ccc49afbae78cb642563ac9"
   },
   "outputs": [
    {
     "data": {
      "text/plain": [
       "DesignMatrix with shape (5, 1)\n",
       "       x1\n",
       "  1.76405\n",
       "  0.40016\n",
       "  0.97874\n",
       "  2.24089\n",
       "  1.86756\n",
       "  Terms:\n",
       "    'x1' (column 0)"
      ]
     },
     "execution_count": 9,
     "metadata": {},
     "output_type": "execute_result"
    }
   ],
   "source": [
    "dmatrix(\"x1 + 0\", df)"
   ]
  },
  {
   "cell_type": "markdown",
   "metadata": {
    "school_cell_uuid": "e21238e948344462ab1edb4268e14cda"
   },
   "source": [
    "데이터를 추가하는 경우에는 `+` 연산자를 사용한다."
   ]
  },
  {
   "cell_type": "code",
   "execution_count": 10,
   "metadata": {},
   "outputs": [
    {
     "data": {
      "text/plain": [
       "DesignMatrix with shape (5, 3)\n",
       "  Intercept       x1        x2\n",
       "          1  1.76405  -0.97728\n",
       "          1  0.40016   0.95009\n",
       "          1  0.97874  -0.15136\n",
       "          1  2.24089  -0.10322\n",
       "          1  1.86756   0.41060\n",
       "  Terms:\n",
       "    'Intercept' (column 0)\n",
       "    'x1' (column 1)\n",
       "    'x2' (column 2)"
      ]
     },
     "execution_count": 10,
     "metadata": {},
     "output_type": "execute_result"
    }
   ],
   "source": [
    "dmatrix(\"x1+x2\",df)"
   ]
  },
  {
   "cell_type": "code",
   "execution_count": 6,
   "metadata": {
    "school_cell_uuid": "c8e6c90b5c3d476db725c9c23bfb5618"
   },
   "outputs": [
    {
     "data": {
      "text/plain": [
       "DesignMatrix with shape (5, 3)\n",
       "  Intercept       x1        x2\n",
       "          1  1.76405  -0.97728\n",
       "          1  0.40016   0.95009\n",
       "          1  0.97874  -0.15136\n",
       "          1  2.24089  -0.10322\n",
       "          1  1.86756   0.41060\n",
       "  Terms:\n",
       "    'Intercept' (column 0)\n",
       "    'x1' (column 1)\n",
       "    'x2' (column 2)"
      ]
     },
     "execution_count": 6,
     "metadata": {},
     "output_type": "execute_result"
    }
   ],
   "source": [
    "dmatrix(\"x1 + x2\", df)"
   ]
  },
  {
   "cell_type": "markdown",
   "metadata": {
    "school_cell_uuid": "55dd11366f864e1aa67ec6664190a019"
   },
   "source": [
    "마찬가지로 `-1` 또는 `+0`이 있으면 상수항이 없어진다."
   ]
  },
  {
   "cell_type": "code",
   "execution_count": 7,
   "metadata": {
    "school_cell_uuid": "a4f94c96033d4b41931b3fcea209c0a6"
   },
   "outputs": [
    {
     "data": {
      "text/plain": [
       "DesignMatrix with shape (5, 2)\n",
       "       x1        x2\n",
       "  1.76405  -0.97728\n",
       "  0.40016   0.95009\n",
       "  0.97874  -0.15136\n",
       "  2.24089  -0.10322\n",
       "  1.86756   0.41060\n",
       "  Terms:\n",
       "    'x1' (column 0)\n",
       "    'x2' (column 1)"
      ]
     },
     "execution_count": 7,
     "metadata": {},
     "output_type": "execute_result"
    }
   ],
   "source": [
    "dmatrix(\"x1 + x2 - 1\", df)"
   ]
  },
  {
   "cell_type": "markdown",
   "metadata": {
    "school_cell_uuid": "b14478f1ecaf4e9fb40d2223cf08877b"
   },
   "source": [
    "두 변수의 곱을 새로운 변수로 추가하려면 상호작용(interaction) 연산자 `:`를 사용한다."
   ]
  },
  {
   "cell_type": "code",
   "execution_count": 8,
   "metadata": {
    "school_cell_uuid": "9b412011542a4f969dd9f1e5fa6cc230"
   },
   "outputs": [
    {
     "data": {
      "text/plain": [
       "DesignMatrix with shape (5, 4)\n",
       "  Intercept       x1        x2     x1:x2\n",
       "          1  1.76405  -0.97728  -1.72397\n",
       "          1  0.40016   0.95009   0.38018\n",
       "          1  0.97874  -0.15136  -0.14814\n",
       "          1  2.24089  -0.10322  -0.23130\n",
       "          1  1.86756   0.41060   0.76682\n",
       "  Terms:\n",
       "    'Intercept' (column 0)\n",
       "    'x1' (column 1)\n",
       "    'x2' (column 2)\n",
       "    'x1:x2' (column 3)"
      ]
     },
     "execution_count": 8,
     "metadata": {},
     "output_type": "execute_result"
    }
   ],
   "source": [
    "dmatrix(\"x1 + x2 + x1:x2\", df)"
   ]
  },
  {
   "cell_type": "code",
   "execution_count": 6,
   "metadata": {},
   "outputs": [
    {
     "data": {
      "text/plain": [
       "DesignMatrix with shape (5, 4)\n",
       "  Intercept       x1        x2     x1:x2\n",
       "          1  1.76405  -0.97728  -1.72397\n",
       "          1  0.40016   0.95009   0.38018\n",
       "          1  0.97874  -0.15136  -0.14814\n",
       "          1  2.24089  -0.10322  -0.23130\n",
       "          1  1.86756   0.41060   0.76682\n",
       "  Terms:\n",
       "    'Intercept' (column 0)\n",
       "    'x1' (column 1)\n",
       "    'x2' (column 2)\n",
       "    'x1:x2' (column 3)"
      ]
     },
     "execution_count": 6,
     "metadata": {},
     "output_type": "execute_result"
    }
   ],
   "source": [
    "dmatrix(\"x1+x2+x1:x2\",df)"
   ]
  },
  {
   "cell_type": "markdown",
   "metadata": {
    "school_cell_uuid": "e028df50fdc94367a1f33e54fdc3a2fd"
   },
   "source": [
    "위 식은 다음과 같이 `*` 연산자로 간단하게 나타낼 수도 있다."
   ]
  },
  {
   "cell_type": "code",
   "execution_count": 9,
   "metadata": {
    "school_cell_uuid": "78a45b8e0c824084b4e6541715cbc6fa"
   },
   "outputs": [
    {
     "data": {
      "text/plain": [
       "DesignMatrix with shape (5, 4)\n",
       "  Intercept       x1        x2     x1:x2\n",
       "          1  1.76405  -0.97728  -1.72397\n",
       "          1  0.40016   0.95009   0.38018\n",
       "          1  0.97874  -0.15136  -0.14814\n",
       "          1  2.24089  -0.10322  -0.23130\n",
       "          1  1.86756   0.41060   0.76682\n",
       "  Terms:\n",
       "    'Intercept' (column 0)\n",
       "    'x1' (column 1)\n",
       "    'x2' (column 2)\n",
       "    'x1:x2' (column 3)"
      ]
     },
     "execution_count": 9,
     "metadata": {},
     "output_type": "execute_result"
    }
   ],
   "source": [
    "dmatrix(\"x1 * x2\", df)"
   ]
  },
  {
   "cell_type": "code",
   "execution_count": 10,
   "metadata": {},
   "outputs": [
    {
     "data": {
      "text/plain": [
       "DesignMatrix with shape (5, 4)\n",
       "  Intercept       x1        x2     x1:x2\n",
       "          1  1.76405  -0.97728  -1.72397\n",
       "          1  0.40016   0.95009   0.38018\n",
       "          1  0.97874  -0.15136  -0.14814\n",
       "          1  2.24089  -0.10322  -0.23130\n",
       "          1  1.86756   0.41060   0.76682\n",
       "  Terms:\n",
       "    'Intercept' (column 0)\n",
       "    'x1' (column 1)\n",
       "    'x2' (column 2)\n",
       "    'x1:x2' (column 3)"
      ]
     },
     "execution_count": 10,
     "metadata": {},
     "output_type": "execute_result"
    }
   ],
   "source": [
    "dmatrix(\"x1 * x2\", df)"
   ]
  },
  {
   "cell_type": "markdown",
   "metadata": {
    "school_cell_uuid": "9e348a446d2b4b65bd87e72ed010a866"
   },
   "source": [
    "`/` 연산자는 두번째 데이터를 빼고 출력한다. "
   ]
  },
  {
   "cell_type": "code",
   "execution_count": 7,
   "metadata": {},
   "outputs": [
    {
     "data": {
      "text/plain": [
       "DesignMatrix with shape (5, 3)\n",
       "  Intercept       x1     x1:x2\n",
       "          1  1.76405  -1.72397\n",
       "          1  0.40016   0.38018\n",
       "          1  0.97874  -0.14814\n",
       "          1  2.24089  -0.23130\n",
       "          1  1.86756   0.76682\n",
       "  Terms:\n",
       "    'Intercept' (column 0)\n",
       "    'x1' (column 1)\n",
       "    'x1:x2' (column 2)"
      ]
     },
     "execution_count": 7,
     "metadata": {},
     "output_type": "execute_result"
    }
   ],
   "source": [
    "dmatrix(\"x1/x2\",df)"
   ]
  },
  {
   "cell_type": "code",
   "execution_count": 10,
   "metadata": {
    "school_cell_uuid": "c97f08a690c7403ab52566291f195dd2"
   },
   "outputs": [
    {
     "data": {
      "text/plain": [
       "DesignMatrix with shape (5, 3)\n",
       "  Intercept       x1     x1:x2\n",
       "          1  1.76405  -1.72397\n",
       "          1  0.40016   0.38018\n",
       "          1  0.97874  -0.14814\n",
       "          1  2.24089  -0.23130\n",
       "          1  1.86756   0.76682\n",
       "  Terms:\n",
       "    'Intercept' (column 0)\n",
       "    'x1' (column 1)\n",
       "    'x1:x2' (column 2)"
      ]
     },
     "execution_count": 10,
     "metadata": {},
     "output_type": "execute_result"
    }
   ],
   "source": [
    "dmatrix(\"x1 / x2\", df)"
   ]
  },
  {
   "cell_type": "markdown",
   "metadata": {
    "school_cell_uuid": "faa8a776438048e7a2ea1a427a7c9711"
   },
   "source": [
    "### 수학 변환"
   ]
  },
  {
   "cell_type": "markdown",
   "metadata": {
    "school_cell_uuid": "4411d7e141284d6aa79bd10362fe5b01"
   },
   "source": [
    "`dmatrix`에서는 일반적인 수학 변환(transform)도 가능하다. numpy 함수 뿐 아니라 사용자 정의 함수도 사용할 수 있다. "
   ]
  },
  {
   "cell_type": "code",
   "execution_count": 8,
   "metadata": {},
   "outputs": [
    {
     "data": {
      "text/plain": [
       "DesignMatrix with shape (5, 3)\n",
       "  Intercept       x1  np.log(np.abs(x2))\n",
       "          1  1.76405            -0.02298\n",
       "          1  0.40016            -0.05120\n",
       "          1  0.97874            -1.88811\n",
       "          1  2.24089            -2.27090\n",
       "          1  1.86756            -0.89014\n",
       "  Terms:\n",
       "    'Intercept' (column 0)\n",
       "    'x1' (column 1)\n",
       "    'np.log(np.abs(x2))' (column 2)"
      ]
     },
     "execution_count": 8,
     "metadata": {},
     "output_type": "execute_result"
    }
   ],
   "source": [
    "dmatrix(\"x1+np.log(np.abs(x2))\",df)"
   ]
  },
  {
   "cell_type": "code",
   "execution_count": 15,
   "metadata": {},
   "outputs": [
    {
     "data": {
      "text/plain": [
       "DesignMatrix with shape (5, 3)\n",
       "  Intercept       x1  np.log(np.abs(x2))\n",
       "          1  1.76405            -0.02298\n",
       "          1  0.40016            -0.05120\n",
       "          1  0.97874            -1.88811\n",
       "          1  2.24089            -2.27090\n",
       "          1  1.86756            -0.89014\n",
       "  Terms:\n",
       "    'Intercept' (column 0)\n",
       "    'x1' (column 1)\n",
       "    'np.log(np.abs(x2))' (column 2)"
      ]
     },
     "execution_count": 15,
     "metadata": {},
     "output_type": "execute_result"
    }
   ],
   "source": [
    "dmatrix(\"x1+np.log(np.abs(x2))\",df)"
   ]
  },
  {
   "cell_type": "code",
   "execution_count": 16,
   "metadata": {},
   "outputs": [
    {
     "data": {
      "text/plain": [
       "DesignMatrix with shape (5, 2)\n",
       "  Intercept  doubleit(x1)\n",
       "          1       3.52810\n",
       "          1       0.80031\n",
       "          1       1.95748\n",
       "          1       4.48179\n",
       "          1       3.73512\n",
       "  Terms:\n",
       "    'Intercept' (column 0)\n",
       "    'doubleit(x1)' (column 1)"
      ]
     },
     "execution_count": 16,
     "metadata": {},
     "output_type": "execute_result"
    }
   ],
   "source": [
    "def doubleit(x):\n",
    "    return 2*x\n",
    "\n",
    "dmatrix(\"doubleit(x1)\",df)"
   ]
  },
  {
   "cell_type": "code",
   "execution_count": 17,
   "metadata": {
    "school_cell_uuid": "6515372b96f64822bc2503ab2d6015e8"
   },
   "outputs": [
    {
     "data": {
      "text/plain": [
       "DesignMatrix with shape (5, 2)\n",
       "  Intercept  doubleit(x1)\n",
       "          1       3.52810\n",
       "          1       0.80031\n",
       "          1       1.95748\n",
       "          1       4.48179\n",
       "          1       3.73512\n",
       "  Terms:\n",
       "    'Intercept' (column 0)\n",
       "    'doubleit(x1)' (column 1)"
      ]
     },
     "execution_count": 17,
     "metadata": {},
     "output_type": "execute_result"
    }
   ],
   "source": [
    "def doubleit(x):\n",
    "    return 2 * x\n",
    "\n",
    "dmatrix(\"doubleit(x1)\", df)"
   ]
  },
  {
   "cell_type": "markdown",
   "metadata": {
    "school_cell_uuid": "cc67ad62fe324fe1a4ac00164a6a9099"
   },
   "source": [
    "### 상태 보존 변환"
   ]
  },
  {
   "cell_type": "markdown",
   "metadata": {
    "school_cell_uuid": "8fd2345a2da644aab41d38af2236b2db"
   },
   "source": [
    "patsy의 가장 강력한 기능 중의 하나는 상태 보존 변환(stateful trasform)이 가능하다는 점이다. 예를 들어 다음 변환 함수는 평균을 계산하여 빼주거나 및 표준편차를 계산하여 나누어주는데 이 때 계산한 평균과 표준편차를 내부에 상태변수로 저장한다.\n",
    "\n",
    "* `center(x)`: 평균 제거\n",
    "* `standardize(x)`: 평균 제거 및 표준편차로 스케일링\n",
    "* `scale(x)`: `standardize(x)` 과 같음 "
   ]
  },
  {
   "cell_type": "markdown",
   "metadata": {
    "school_cell_uuid": "224c94e987554e089a403dcbbbd80b25"
   },
   "source": [
    "예를 들어 x1 데이터의 평균을 제거하는 변환은 다음과 같다."
   ]
  },
  {
   "cell_type": "code",
   "execution_count": 17,
   "metadata": {
    "school_cell_uuid": "bedccf8fe24a435aaf2c21697aa32c90",
    "scrolled": true
   },
   "outputs": [
    {
     "data": {
      "text/plain": [
       "DesignMatrix with shape (5, 2)\n",
       "  Intercept  center(x1)\n",
       "          1     0.31377\n",
       "          1    -1.05012\n",
       "          1    -0.47154\n",
       "          1     0.79061\n",
       "          1     0.41728\n",
       "  Terms:\n",
       "    'Intercept' (column 0)\n",
       "    'center(x1)' (column 1)"
      ]
     },
     "execution_count": 17,
     "metadata": {},
     "output_type": "execute_result"
    }
   ],
   "source": [
    "dm = dmatrix(\"center(x1)\", df)\n",
    "dm"
   ]
  },
  {
   "cell_type": "code",
   "execution_count": 21,
   "metadata": {},
   "outputs": [
    {
     "data": {
      "text/plain": [
       "DesignMatrix with shape (5, 2)\n",
       "  Intercept  center(x1)\n",
       "          1     0.31377\n",
       "          1    -1.05012\n",
       "          1    -0.47154\n",
       "          1     0.79061\n",
       "          1     0.41728\n",
       "  Terms:\n",
       "    'Intercept' (column 0)\n",
       "    'center(x1)' (column 1)"
      ]
     },
     "execution_count": 21,
     "metadata": {},
     "output_type": "execute_result"
    }
   ],
   "source": [
    "dm = dmatrix(\"center(x1)\",df)\n",
    "dm\n"
   ]
  },
  {
   "cell_type": "markdown",
   "metadata": {
    "school_cell_uuid": "3f780a551438485ca4609f8f708f10c1"
   },
   "source": [
    "이 변환 연산은 다음과 같이 x1 데이터에서 x1의 평균을 빼는 것이다."
   ]
  },
  {
   "cell_type": "code",
   "execution_count": 18,
   "metadata": {
    "school_cell_uuid": "8ad4c65855554104b64e2c610ec35a0a"
   },
   "outputs": [
    {
     "data": {
      "text/plain": [
       "0    0.313773\n",
       "1   -1.050123\n",
       "2   -0.471542\n",
       "3    0.790613\n",
       "4    0.417278\n",
       "Name: x1, dtype: float64"
      ]
     },
     "execution_count": 18,
     "metadata": {},
     "output_type": "execute_result"
    }
   ],
   "source": [
    "df.x1 - np.mean(df.x1)"
   ]
  },
  {
   "cell_type": "code",
   "execution_count": 22,
   "metadata": {},
   "outputs": [
    {
     "data": {
      "text/plain": [
       "0    0.313773\n",
       "1   -1.050123\n",
       "2   -0.471542\n",
       "3    0.790613\n",
       "4    0.417278\n",
       "Name: x1, dtype: float64"
      ]
     },
     "execution_count": 22,
     "metadata": {},
     "output_type": "execute_result"
    }
   ],
   "source": [
    "df.x1 - np.mean(df.x1)"
   ]
  },
  {
   "cell_type": "markdown",
   "metadata": {
    "school_cell_uuid": "bacd5fb520e949d48f9429b8ab161e7c"
   },
   "source": [
    "그런데 이 때 사용한 평균값은 `design_info`라는 속성에 상태변수(state variable)로서 저장된다."
   ]
  },
  {
   "cell_type": "code",
   "execution_count": 24,
   "metadata": {
    "school_cell_uuid": "f28b1f22fb554b6e8a595ff8e7847b64"
   },
   "outputs": [
    {
     "data": {
      "text/plain": [
       "DesignMatrix with shape (5, 2)\n",
       "  Intercept  center(x1)\n",
       "          1     0.31377\n",
       "          1    -1.05012\n",
       "          1    -0.47154\n",
       "          1     0.79061\n",
       "          1     0.41728\n",
       "  Terms:\n",
       "    'Intercept' (column 0)\n",
       "    'center(x1)' (column 1)"
      ]
     },
     "execution_count": 24,
     "metadata": {},
     "output_type": "execute_result"
    }
   ],
   "source": [
    "dm"
   ]
  },
  {
   "cell_type": "code",
   "execution_count": 23,
   "metadata": {},
   "outputs": [
    {
     "data": {
      "text/plain": [
       "patsy.design_info.DesignInfo"
      ]
     },
     "execution_count": 23,
     "metadata": {},
     "output_type": "execute_result"
    }
   ],
   "source": [
    "type(dm.design_info)"
   ]
  },
  {
   "cell_type": "markdown",
   "metadata": {
    "school_cell_uuid": "0c943011262f424686139736430cdb60"
   },
   "source": [
    "이 값을 상태변수로 저장하는 이유는 다음과 같다.\n",
    "\n",
    "어떤 데이터 $X_{train}$을 학습용 데이터로 사용하여 예측모형으로 만든다고 하자. 이 때 학습성능을 좋게 하기 위해 $X_{train}$에서 $X_{train}$의 평균 $\\bar{X}_{train}$(예를 들어 100)을 뺀 평균 제거 데이터 $X_{train} - 100$를 원래의 데이터 대신 학습용 데이터로 사용하여 모형을 만드는 경우가 있다. 이를 전처리 단계라고 한다.\n",
    "\n",
    "학습이 끝난 후 이 모형을 사용하여 실제 예측을 하자. 새로운 검증용 데이터 $X_{test}$를 이 모형에 넣으려면 모형을 학습할 때 사용한 것과 같은 전처리를 해야 한다. 즉, $X_{test}$에서 $X_{train}$의 평균인 $100$을 뺀 $X_{test}-100$을 입력으로 넣어서 출력을 계산해야 한다. 이 때 $X_{test}$의 평균이 아니라 $X_{train}$의 평균을 사용한다는 점에 주의한다. 이렇게 하기 위해서는 전처리 과정에서 계산한 $X_{train}$의 평균값 $100$을 기억하고 있어야 한다."
   ]
  },
  {
   "cell_type": "markdown",
   "metadata": {
    "school_cell_uuid": "0b8d36460a364cf6a1b94767713a45f8"
   },
   "source": [
    "patsy 패키지에서는 `center` 변환을 했을 때 사용한 평균값을 내부에 저장하고 있기 때문에 이러한 일을 할 수 있다. 예를 들어 다음처럼 검증용의 새로운 데이터가 있을 때,"
   ]
  },
  {
   "cell_type": "code",
   "execution_count": 20,
   "metadata": {
    "school_cell_uuid": "312af96dc96c493d96e2d3c151a2ac5a"
   },
   "outputs": [
    {
     "data": {
      "text/html": [
       "<div>\n",
       "<style scoped>\n",
       "    .dataframe tbody tr th:only-of-type {\n",
       "        vertical-align: middle;\n",
       "    }\n",
       "\n",
       "    .dataframe tbody tr th {\n",
       "        vertical-align: top;\n",
       "    }\n",
       "\n",
       "    .dataframe thead th {\n",
       "        text-align: right;\n",
       "    }\n",
       "</style>\n",
       "<table border=\"1\" class=\"dataframe\">\n",
       "  <thead>\n",
       "    <tr style=\"text-align: right;\">\n",
       "      <th></th>\n",
       "      <th>x1</th>\n",
       "      <th>x2</th>\n",
       "      <th>y</th>\n",
       "    </tr>\n",
       "  </thead>\n",
       "  <tbody>\n",
       "    <tr>\n",
       "      <th>0</th>\n",
       "      <td>17.640523</td>\n",
       "      <td>-0.977278</td>\n",
       "      <td>0.144044</td>\n",
       "    </tr>\n",
       "    <tr>\n",
       "      <th>1</th>\n",
       "      <td>4.001572</td>\n",
       "      <td>0.950088</td>\n",
       "      <td>1.454274</td>\n",
       "    </tr>\n",
       "    <tr>\n",
       "      <th>2</th>\n",
       "      <td>9.787380</td>\n",
       "      <td>-0.151357</td>\n",
       "      <td>0.761038</td>\n",
       "    </tr>\n",
       "    <tr>\n",
       "      <th>3</th>\n",
       "      <td>22.408932</td>\n",
       "      <td>-0.103219</td>\n",
       "      <td>0.121675</td>\n",
       "    </tr>\n",
       "    <tr>\n",
       "      <th>4</th>\n",
       "      <td>18.675580</td>\n",
       "      <td>0.410599</td>\n",
       "      <td>0.443863</td>\n",
       "    </tr>\n",
       "  </tbody>\n",
       "</table>\n",
       "</div>"
      ],
      "text/plain": [
       "          x1        x2         y\n",
       "0  17.640523 -0.977278  0.144044\n",
       "1   4.001572  0.950088  1.454274\n",
       "2   9.787380 -0.151357  0.761038\n",
       "3  22.408932 -0.103219  0.121675\n",
       "4  18.675580  0.410599  0.443863"
      ]
     },
     "execution_count": 20,
     "metadata": {},
     "output_type": "execute_result"
    }
   ],
   "source": [
    "df_new = df.copy()\n",
    "df_new[\"x1\"] = df_new[\"x1\"] * 10\n",
    "df_new"
   ]
  },
  {
   "cell_type": "code",
   "execution_count": 26,
   "metadata": {},
   "outputs": [
    {
     "data": {
      "text/html": [
       "<div>\n",
       "<style scoped>\n",
       "    .dataframe tbody tr th:only-of-type {\n",
       "        vertical-align: middle;\n",
       "    }\n",
       "\n",
       "    .dataframe tbody tr th {\n",
       "        vertical-align: top;\n",
       "    }\n",
       "\n",
       "    .dataframe thead th {\n",
       "        text-align: right;\n",
       "    }\n",
       "</style>\n",
       "<table border=\"1\" class=\"dataframe\">\n",
       "  <thead>\n",
       "    <tr style=\"text-align: right;\">\n",
       "      <th></th>\n",
       "      <th>x1</th>\n",
       "      <th>x2</th>\n",
       "      <th>y</th>\n",
       "    </tr>\n",
       "  </thead>\n",
       "  <tbody>\n",
       "    <tr>\n",
       "      <th>0</th>\n",
       "      <td>17.640523</td>\n",
       "      <td>-0.977278</td>\n",
       "      <td>0.144044</td>\n",
       "    </tr>\n",
       "    <tr>\n",
       "      <th>1</th>\n",
       "      <td>4.001572</td>\n",
       "      <td>0.950088</td>\n",
       "      <td>1.454274</td>\n",
       "    </tr>\n",
       "    <tr>\n",
       "      <th>2</th>\n",
       "      <td>9.787380</td>\n",
       "      <td>-0.151357</td>\n",
       "      <td>0.761038</td>\n",
       "    </tr>\n",
       "    <tr>\n",
       "      <th>3</th>\n",
       "      <td>22.408932</td>\n",
       "      <td>-0.103219</td>\n",
       "      <td>0.121675</td>\n",
       "    </tr>\n",
       "    <tr>\n",
       "      <th>4</th>\n",
       "      <td>18.675580</td>\n",
       "      <td>0.410599</td>\n",
       "      <td>0.443863</td>\n",
       "    </tr>\n",
       "  </tbody>\n",
       "</table>\n",
       "</div>"
      ],
      "text/plain": [
       "          x1        x2         y\n",
       "0  17.640523 -0.977278  0.144044\n",
       "1   4.001572  0.950088  1.454274\n",
       "2   9.787380 -0.151357  0.761038\n",
       "3  22.408932 -0.103219  0.121675\n",
       "4  18.675580  0.410599  0.443863"
      ]
     },
     "execution_count": 26,
     "metadata": {},
     "output_type": "execute_result"
    }
   ],
   "source": [
    "df_new=df.copy()\n",
    "df_new[\"x1\"]=df_new[\"x1\"]*10\n",
    "df_new"
   ]
  },
  {
   "cell_type": "markdown",
   "metadata": {
    "school_cell_uuid": "ed53303501d841a782dae066f634e132"
   },
   "source": [
    "`build_design_matrices` 명령을 사용하면 이미 저장된 x1의 평균을 이용하여 같은 변환을 한다. "
   ]
  },
  {
   "cell_type": "code",
   "execution_count": 22,
   "metadata": {
    "school_cell_uuid": "96e33f0abb7a4ef6bf0d220b6f1a22e3"
   },
   "outputs": [
    {
     "data": {
      "text/plain": [
       "[DesignMatrix with shape (5, 2)\n",
       "   Intercept  center(x1)\n",
       "           1    16.19024\n",
       "           1     2.55129\n",
       "           1     8.33710\n",
       "           1    20.95865\n",
       "           1    17.22530\n",
       "   Terms:\n",
       "     'Intercept' (column 0)\n",
       "     'center(x1)' (column 1)]"
      ]
     },
     "execution_count": 22,
     "metadata": {},
     "output_type": "execute_result"
    }
   ],
   "source": [
    "build_design_matrices([dm.design_info], df_new)"
   ]
  },
  {
   "cell_type": "markdown",
   "metadata": {
    "school_cell_uuid": "af728e541ce5454aba8eed6e9c38598c"
   },
   "source": [
    "이 값은 다음 계산 결과와 같다."
   ]
  },
  {
   "cell_type": "code",
   "execution_count": 23,
   "metadata": {
    "school_cell_uuid": "506bb7e2c43b4f58a2dfadd80922ccf9"
   },
   "outputs": [
    {
     "data": {
      "text/plain": [
       "0    16.190244\n",
       "1     2.551292\n",
       "2     8.337100\n",
       "3    20.958652\n",
       "4    17.225300\n",
       "Name: x1, dtype: float64"
      ]
     },
     "execution_count": 23,
     "metadata": {},
     "output_type": "execute_result"
    }
   ],
   "source": [
    "df_new.x1 - np.mean(df.x1)"
   ]
  },
  {
   "cell_type": "markdown",
   "metadata": {
    "school_cell_uuid": "897913969c05469e86b51e60f8eb2ff5"
   },
   "source": [
    "평균값을 다시 새롭게 구해서 계산한 것과 다르다는 것을 알 수있다."
   ]
  },
  {
   "cell_type": "code",
   "execution_count": 24,
   "metadata": {},
   "outputs": [
    {
     "data": {
      "text/plain": [
       "DesignMatrix with shape (5, 2)\n",
       "  Intercept  center(x1)\n",
       "          1     3.13773\n",
       "          1   -10.50123\n",
       "          1    -4.71542\n",
       "          1     7.90613\n",
       "          1     4.17278\n",
       "  Terms:\n",
       "    'Intercept' (column 0)\n",
       "    'center(x1)' (column 1)"
      ]
     },
     "execution_count": 24,
     "metadata": {},
     "output_type": "execute_result"
    }
   ],
   "source": [
    "dmatrix('center(x1)',df_new)"
   ]
  },
  {
   "cell_type": "code",
   "execution_count": 25,
   "metadata": {
    "school_cell_uuid": "89be0a0e18d648e1838bf7f4bb254e5f"
   },
   "outputs": [
    {
     "data": {
      "text/plain": [
       "DesignMatrix with shape (5, 2)\n",
       "  Intercept  center(x1)\n",
       "          1     3.13773\n",
       "          1   -10.50123\n",
       "          1    -4.71542\n",
       "          1     7.90613\n",
       "          1     4.17278\n",
       "  Terms:\n",
       "    'Intercept' (column 0)\n",
       "    'center(x1)' (column 1)"
      ]
     },
     "execution_count": 25,
     "metadata": {},
     "output_type": "execute_result"
    }
   ],
   "source": [
    "dmatrix(\"center(x1)\", df_new)"
   ]
  },
  {
   "cell_type": "code",
   "execution_count": 20,
   "metadata": {
    "school_cell_uuid": "708d71839ad7484ca6681e2175990ba2"
   },
   "outputs": [
    {
     "data": {
      "text/plain": [
       "0     3.137726\n",
       "1   -10.501225\n",
       "2    -4.715418\n",
       "3     7.906135\n",
       "4     4.172782\n",
       "Name: x1, dtype: float64"
      ]
     },
     "execution_count": 20,
     "metadata": {},
     "output_type": "execute_result"
    }
   ],
   "source": [
    "df_new.x1 - np.mean(df_new.x1)"
   ]
  },
  {
   "cell_type": "markdown",
   "metadata": {
    "school_cell_uuid": "2cd7d03c3c08437cbc19abc04c9af466"
   },
   "source": [
    "### 변수 보호"
   ]
  },
  {
   "cell_type": "markdown",
   "metadata": {
    "school_cell_uuid": "d09bb5797b4f408fb8dcb19169efa112"
   },
   "source": [
    "함수를 사용한 변수 변환 이외에도 모형 정의 문자열 자체내에 연산기호를 넣어 연산한 값을 만드는 것도 가능하다. 이 때에는 모형정의 연산자와 혼동되지 않도록  `I()` 연산자를 추가해야 한다."
   ]
  },
  {
   "cell_type": "code",
   "execution_count": 21,
   "metadata": {
    "school_cell_uuid": "98611d7dbfa14ee4bd9fe999e35d3dc7"
   },
   "outputs": [
    {
     "data": {
      "text/plain": [
       "DesignMatrix with shape (5, 2)\n",
       "  Intercept  I(x1 + x2)\n",
       "          1     0.78677\n",
       "          1     1.35025\n",
       "          1     0.82738\n",
       "          1     2.13767\n",
       "          1     2.27816\n",
       "  Terms:\n",
       "    'Intercept' (column 0)\n",
       "    'I(x1 + x2)' (column 1)"
      ]
     },
     "execution_count": 21,
     "metadata": {},
     "output_type": "execute_result"
    }
   ],
   "source": [
    "dmatrix(\"I(x1 + x2)\", df)"
   ]
  },
  {
   "cell_type": "code",
   "execution_count": 28,
   "metadata": {},
   "outputs": [
    {
     "data": {
      "text/plain": [
       "DesignMatrix with shape (5, 2)\n",
       "  Intercept  I(x1 + x2)\n",
       "          1     0.78677\n",
       "          1     1.35025\n",
       "          1     0.82738\n",
       "          1     2.13767\n",
       "          1     2.27816\n",
       "  Terms:\n",
       "    'Intercept' (column 0)\n",
       "    'I(x1 + x2)' (column 1)"
      ]
     },
     "execution_count": 28,
     "metadata": {},
     "output_type": "execute_result"
    }
   ],
   "source": [
    "dmatrix(\"I(x1+x2)\",df)"
   ]
  },
  {
   "cell_type": "markdown",
   "metadata": {
    "school_cell_uuid": "9e5d2959e056469689093fd7c24bf72f"
   },
   "source": [
    "이 값을 다음 식과 비교하면  `I()`의 기능을 확실히 알 수 있다."
   ]
  },
  {
   "cell_type": "code",
   "execution_count": 22,
   "metadata": {
    "school_cell_uuid": "92316b8fd09b440cae6ea88300821b23"
   },
   "outputs": [
    {
     "data": {
      "text/plain": [
       "DesignMatrix with shape (5, 3)\n",
       "  Intercept       x1        x2\n",
       "          1  1.76405  -0.97728\n",
       "          1  0.40016   0.95009\n",
       "          1  0.97874  -0.15136\n",
       "          1  2.24089  -0.10322\n",
       "          1  1.86756   0.41060\n",
       "  Terms:\n",
       "    'Intercept' (column 0)\n",
       "    'x1' (column 1)\n",
       "    'x2' (column 2)"
      ]
     },
     "execution_count": 22,
     "metadata": {},
     "output_type": "execute_result"
    }
   ],
   "source": [
    "dmatrix(\"x1 + x2\", df)"
   ]
  },
  {
   "cell_type": "code",
   "execution_count": 29,
   "metadata": {},
   "outputs": [
    {
     "data": {
      "text/plain": [
       "DesignMatrix with shape (5, 3)\n",
       "  Intercept       x1        x2\n",
       "          1  1.76405  -0.97728\n",
       "          1  0.40016   0.95009\n",
       "          1  0.97874  -0.15136\n",
       "          1  2.24089  -0.10322\n",
       "          1  1.86756   0.41060\n",
       "  Terms:\n",
       "    'Intercept' (column 0)\n",
       "    'x1' (column 1)\n",
       "    'x2' (column 2)"
      ]
     },
     "execution_count": 29,
     "metadata": {},
     "output_type": "execute_result"
    }
   ],
   "source": [
    "dmatrix(\"x1+x2\",df)"
   ]
  },
  {
   "cell_type": "markdown",
   "metadata": {
    "school_cell_uuid": "a7c3fe88f4ad41b793b4a17ecab17d27"
   },
   "source": [
    "### 다항회귀 "
   ]
  },
  {
   "cell_type": "markdown",
   "metadata": {
    "school_cell_uuid": "fa998ebcec324d3eb40217c7f4de8788"
   },
   "source": [
    "`I()` 연산자를 활용하면 다항회귀(polynomial regression)도 할 수 있다."
   ]
  },
  {
   "cell_type": "code",
   "execution_count": 26,
   "metadata": {},
   "outputs": [
    {
     "data": {
      "text/plain": [
       "DesignMatrix with shape (5, 5)\n",
       "  Intercept       x1  I(x1 * x1)  I(x1 ** 3)  I(x1 ** 4)\n",
       "          1  1.76405     3.11188     5.48952     9.68380\n",
       "          1  0.40016     0.16013     0.06408     0.02564\n",
       "          1  0.97874     0.95793     0.93756     0.91763\n",
       "          1  2.24089     5.02160    11.25287    25.21649\n",
       "          1  1.86756     3.48777     6.51362    12.16456\n",
       "  Terms:\n",
       "    'Intercept' (column 0)\n",
       "    'x1' (column 1)\n",
       "    'I(x1 * x1)' (column 2)\n",
       "    'I(x1 ** 3)' (column 3)\n",
       "    'I(x1 ** 4)' (column 4)"
      ]
     },
     "execution_count": 26,
     "metadata": {},
     "output_type": "execute_result"
    }
   ],
   "source": [
    "dmatrix(\"x1+I(x1*x1)+I(x1**3)+I(x1**4)\",df)"
   ]
  },
  {
   "cell_type": "code",
   "execution_count": 30,
   "metadata": {},
   "outputs": [
    {
     "data": {
      "text/plain": [
       "DesignMatrix with shape (5, 5)\n",
       "  Intercept       x1  I(x1 * x1)  I(x1 ** 3)  I(x1 ** 4)\n",
       "          1  1.76405     3.11188     5.48952     9.68380\n",
       "          1  0.40016     0.16013     0.06408     0.02564\n",
       "          1  0.97874     0.95793     0.93756     0.91763\n",
       "          1  2.24089     5.02160    11.25287    25.21649\n",
       "          1  1.86756     3.48777     6.51362    12.16456\n",
       "  Terms:\n",
       "    'Intercept' (column 0)\n",
       "    'x1' (column 1)\n",
       "    'I(x1 * x1)' (column 2)\n",
       "    'I(x1 ** 3)' (column 3)\n",
       "    'I(x1 ** 4)' (column 4)"
      ]
     },
     "execution_count": 30,
     "metadata": {},
     "output_type": "execute_result"
    }
   ],
   "source": [
    "dmatrix(\"x1+I(x1*x1)+I(x1**3)+I(x1**4)\",df)"
   ]
  },
  {
   "cell_type": "code",
   "execution_count": 23,
   "metadata": {
    "school_cell_uuid": "61ddb88fffd84c0d9bf19c27fc08d4bf"
   },
   "outputs": [
    {
     "data": {
      "text/plain": [
       "DesignMatrix with shape (5, 5)\n",
       "  Intercept       x1  I(x1 * x1)  I(x1 ** 3)  I(x1 ** 4)\n",
       "          1  1.76405     3.11188     5.48952     9.68380\n",
       "          1  0.40016     0.16013     0.06408     0.02564\n",
       "          1  0.97874     0.95793     0.93756     0.91763\n",
       "          1  2.24089     5.02160    11.25287    25.21649\n",
       "          1  1.86756     3.48777     6.51362    12.16456\n",
       "  Terms:\n",
       "    'Intercept' (column 0)\n",
       "    'x1' (column 1)\n",
       "    'I(x1 * x1)' (column 2)\n",
       "    'I(x1 ** 3)' (column 3)\n",
       "    'I(x1 ** 4)' (column 4)"
      ]
     },
     "execution_count": 23,
     "metadata": {},
     "output_type": "execute_result"
    }
   ],
   "source": [
    "dmatrix(\"x1 + I(x1*x1) + I(x1**3) + I(x1**4)\", df)"
   ]
  },
  {
   "cell_type": "markdown",
   "metadata": {
    "school_cell_uuid": "befec6bfa22e468b997e13696cf58954"
   },
   "source": [
    "### `OLS.from_formula` 메서드"
   ]
  },
  {
   "cell_type": "markdown",
   "metadata": {
    "school_cell_uuid": "77ae9a2015bf44e2bf6a6e87813b23f8"
   },
   "source": [
    "선형회귀분석을 위한 `OLS` 클래스에는 모형 정의 문자열을 사용할 수 있는 `from_formula`라는 클래스 메서드가 있다. 이 메서드를 쓰면 사용자가 데이터 행렬을 직접 정의하지 않고 모형 정의 문자열만으로 선형회귀모형을 만드는 것이 가능하다."
   ]
  },
  {
   "cell_type": "markdown",
   "metadata": {
    "school_cell_uuid": "9776fe09e84b4a15bb8d0ff21ae8a220"
   },
   "source": [
    "선형 회귀모형을 formula로 정의할 때는 `~` 연산자를 사용한다. `~` 연산자의 왼쪽에는 종속 변수, 오른쪽에는 독립 변수를 넣어서 정의한다. 예를 들어 다음과 같은 데이터가 있을 때,"
   ]
  },
  {
   "cell_type": "code",
   "execution_count": 35,
   "metadata": {
    "school_cell_uuid": "857507d654d346c39a98796d71712a8a"
   },
   "outputs": [],
   "source": [
    "np.random.seed(0)\n",
    "x1 = np.random.rand(20) + 10\n",
    "x2 = np.random.rand(20) * 10\n",
    "y = x1 + 2 * x2 + np.random.randn(20)\n",
    "df4 = pd.DataFrame(np.array([x1, x2, y]).T, columns=[\"x1\", \"x2\", \"y\"])"
   ]
  },
  {
   "cell_type": "code",
   "execution_count": 36,
   "metadata": {},
   "outputs": [],
   "source": [
    "np.random.seed(0)\n",
    "x1 = np.random.rand(20) + 10\n",
    "x2 = np.random.rand(20) * 10\n",
    "y = x1 + 2 * x2 + np.random.randn(20)\n",
    "df4 = pd.DataFrame(np.array([x1, x2, y]).T, columns=[\"x1\", \"x2\", \"y\"])"
   ]
  },
  {
   "cell_type": "markdown",
   "metadata": {
    "school_cell_uuid": "bfb5fa186c55427ab015b95481f99e21"
   },
   "source": [
    "다음 두가지 방법으로 만든 모형은 동일하다."
   ]
  },
  {
   "cell_type": "code",
   "execution_count": 45,
   "metadata": {
    "school_cell_uuid": "de4955155e114311acdeb20b118e5ae5"
   },
   "outputs": [
    {
     "name": "stdout",
     "output_type": "stream",
     "text": [
      "                            OLS Regression Results                            \n",
      "==============================================================================\n",
      "Dep. Variable:                      y   R-squared:                       0.967\n",
      "Model:                            OLS   Adj. R-squared:                  0.963\n",
      "Method:                 Least Squares   F-statistic:                     246.8\n",
      "Date:                Mon, 18 May 2020   Prob (F-statistic):           2.75e-13\n",
      "Time:                        13:53:40   Log-Likelihood:                -29.000\n",
      "No. Observations:                  20   AIC:                             64.00\n",
      "Df Residuals:                      17   BIC:                             66.99\n",
      "Df Model:                           2                                         \n",
      "Covariance Type:            nonrobust                                         \n",
      "==============================================================================\n",
      "                 coef    std err          t      P>|t|      [0.025      0.975]\n",
      "------------------------------------------------------------------------------\n",
      "const          1.4226     10.140      0.140      0.890     -19.971      22.816\n",
      "x1             0.8114      0.977      0.831      0.418      -1.249       2.872\n",
      "x2             2.0367      0.100     20.305      0.000       1.825       2.248\n",
      "==============================================================================\n",
      "Omnibus:                        1.081   Durbin-Watson:                   1.896\n",
      "Prob(Omnibus):                  0.583   Jarque-Bera (JB):                0.949\n",
      "Skew:                           0.470   Prob(JB):                        0.622\n",
      "Kurtosis:                       2.494   Cond. No.                         494.\n",
      "==============================================================================\n",
      "\n",
      "Warnings:\n",
      "[1] Standard Errors assume that the covariance matrix of the errors is correctly specified.\n"
     ]
    }
   ],
   "source": [
    "# 직접 데이터 행렬을 만드는 경우\n",
    "dfy = df4.iloc[:, -1]\n",
    "dfX = sm.add_constant(df4.iloc[:, :-1])\n",
    "model1 = sm.OLS(dfy, dfX)\n",
    "\n",
    "print(model1.fit().summary())"
   ]
  },
  {
   "cell_type": "code",
   "execution_count": 46,
   "metadata": {},
   "outputs": [
    {
     "name": "stdout",
     "output_type": "stream",
     "text": [
      "                            OLS Regression Results                            \n",
      "==============================================================================\n",
      "Dep. Variable:                      y   R-squared:                       0.967\n",
      "Model:                            OLS   Adj. R-squared:                  0.963\n",
      "Method:                 Least Squares   F-statistic:                     246.8\n",
      "Date:                Mon, 18 May 2020   Prob (F-statistic):           2.75e-13\n",
      "Time:                        13:53:41   Log-Likelihood:                -29.000\n",
      "No. Observations:                  20   AIC:                             64.00\n",
      "Df Residuals:                      17   BIC:                             66.99\n",
      "Df Model:                           2                                         \n",
      "Covariance Type:            nonrobust                                         \n",
      "==============================================================================\n",
      "                 coef    std err          t      P>|t|      [0.025      0.975]\n",
      "------------------------------------------------------------------------------\n",
      "const          1.4226     10.140      0.140      0.890     -19.971      22.816\n",
      "x1             0.8114      0.977      0.831      0.418      -1.249       2.872\n",
      "x2             2.0367      0.100     20.305      0.000       1.825       2.248\n",
      "==============================================================================\n",
      "Omnibus:                        1.081   Durbin-Watson:                   1.896\n",
      "Prob(Omnibus):                  0.583   Jarque-Bera (JB):                0.949\n",
      "Skew:                           0.470   Prob(JB):                        0.622\n",
      "Kurtosis:                       2.494   Cond. No.                         494.\n",
      "==============================================================================\n",
      "\n",
      "Warnings:\n",
      "[1] Standard Errors assume that the covariance matrix of the errors is correctly specified.\n"
     ]
    }
   ],
   "source": [
    "# 직접 데이터 행렬을 만드는 경우\n",
    "dfy = df4.iloc[:, -1]\n",
    "dfX = sm.add_constant(df4.iloc[:, :-1])\n",
    "model1 = sm.OLS(dfy, dfX)\n",
    "\n",
    "print(model1.fit().summary())"
   ]
  },
  {
   "cell_type": "code",
   "execution_count": 26,
   "metadata": {
    "school_cell_uuid": "8ca2856bf5184c4796b8dbc644cff7f6"
   },
   "outputs": [
    {
     "name": "stdout",
     "output_type": "stream",
     "text": [
      "                            OLS Regression Results                            \n",
      "==============================================================================\n",
      "Dep. Variable:                      y   R-squared:                       0.967\n",
      "Model:                            OLS   Adj. R-squared:                  0.963\n",
      "Method:                 Least Squares   F-statistic:                     246.8\n",
      "Date:                Mon, 17 Jun 2019   Prob (F-statistic):           2.75e-13\n",
      "Time:                        15:59:58   Log-Likelihood:                -29.000\n",
      "No. Observations:                  20   AIC:                             64.00\n",
      "Df Residuals:                      17   BIC:                             66.99\n",
      "Df Model:                           2                                         \n",
      "Covariance Type:            nonrobust                                         \n",
      "==============================================================================\n",
      "                 coef    std err          t      P>|t|      [0.025      0.975]\n",
      "------------------------------------------------------------------------------\n",
      "Intercept      1.4226     10.140      0.140      0.890     -19.971      22.816\n",
      "x1             0.8114      0.977      0.831      0.418      -1.249       2.872\n",
      "x2             2.0367      0.100     20.305      0.000       1.825       2.248\n",
      "==============================================================================\n",
      "Omnibus:                        1.081   Durbin-Watson:                   1.896\n",
      "Prob(Omnibus):                  0.583   Jarque-Bera (JB):                0.949\n",
      "Skew:                           0.470   Prob(JB):                        0.622\n",
      "Kurtosis:                       2.494   Cond. No.                         494.\n",
      "==============================================================================\n",
      "\n",
      "Warnings:\n",
      "[1] Standard Errors assume that the covariance matrix of the errors is correctly specified.\n"
     ]
    }
   ],
   "source": [
    "# 모형 정의 문자열을 사용하는 경우\n",
    "model2 = sm.OLS.from_formula(\"y ~ x1 + x2\", data=df4)\n",
    "\n",
    "print(model2.fit().summary())"
   ]
  }
 ],
 "metadata": {
  "kernelspec": {
   "display_name": "Python 3",
   "language": "python",
   "name": "python3"
  },
  "language_info": {
   "codemirror_mode": {
    "name": "ipython",
    "version": 3
   },
   "file_extension": ".py",
   "mimetype": "text/x-python",
   "name": "python",
   "nbconvert_exporter": "python",
   "pygments_lexer": "ipython3",
   "version": "3.7.6"
  },
  "toc": {
   "base_numbering": 1,
   "nav_menu": {},
   "number_sections": false,
   "sideBar": true,
   "skip_h1_title": false,
   "title_cell": "Table of Contents",
   "title_sidebar": "Contents",
   "toc_cell": false,
   "toc_position": {},
   "toc_section_display": true,
   "toc_window_display": false
  }
 },
 "nbformat": 4,
 "nbformat_minor": 1
}
