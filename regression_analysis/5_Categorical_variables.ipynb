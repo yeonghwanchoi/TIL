{
 "cells": [
  {
   "cell_type": "markdown",
   "metadata": {
    "school_cell_uuid": "0dd01f089c2b4600b4f1638299c30ca0"
   },
   "source": [
    "## 3.5 범주형 독립변수"
   ]
  },
  {
   "cell_type": "code",
   "execution_count": 27,
   "metadata": {},
   "outputs": [],
   "source": [
    "import statsmodels.api as sm\n"
   ]
  },
  {
   "cell_type": "markdown",
   "metadata": {
    "school_cell_uuid": "28348fff2a004523a99f7859728a0681"
   },
   "source": [
    "범주형 값은 여러개의 다른 상태를 나타내는 값이다. 범주형 값을 'A', 'B', 'C'라는 문자로 표현하는 경우도 있고 '1', '2', '3'과 같이 숫자로 표현하는 경우도 있지만 이 경우는 'A'라는 글자대신 '1'이라는 글자를 이용한 것 뿐이지 숫자로서의 의미는 없다. 즉, '2'라는 값이 '1'이라는 값보다 2배 더 크다는 뜻이 아니다. \n",
    "\n",
    "회귀분석을 할 때는 숫자가 아닌 독립변수 값은 쓸 수 없기 때문에 어떤 방식으로든 범주형 독립변수의 값을 사용할 수 있는 방법을 찾아야 한다. 범주형 독립변수를 처리하는 가장 일반적인 방법은 더미변수(dummy variable)로 변환하는 것이다. "
   ]
  },
  {
   "cell_type": "markdown",
   "metadata": {
    "school_cell_uuid": "25838c73639c4fa8832f1379fe833868"
   },
   "source": [
    "### 더미변수"
   ]
  },
  {
   "cell_type": "markdown",
   "metadata": {
    "school_cell_uuid": "56164df74f8d48ffaa4f53b488eeb89b"
   },
   "source": [
    "**더미변수(dummy variable)는 0 또는 1만으로 표현되는 값으로 어떤 특징이 존재하는가 존재하지 않는가를 표시하는 독립변수다.** 다음과 같은 명칭으로도 불린다.\n",
    "\n",
    "* Boolean indicator\n",
    "* binary variable\n",
    "* indicator variable\n",
    "* design variable\n",
    "* treatment\n",
    "\n",
    "\n",
    "patsy 패키지의 `dmatrix` 명령과 `OLS` 클래스의 `from_formula` 메서드는 포뮬러 문자열을 이용하여 범주형 변수의 값을 더미변수로 인코딩하는 기능을 제공한다."
   ]
  },
  {
   "cell_type": "code",
   "execution_count": 5,
   "metadata": {
    "school_cell_uuid": "2a361cde625f4904ab342b8655d4773f"
   },
   "outputs": [],
   "source": [
    "from patsy import *_"
   ]
  },
  {
   "cell_type": "code",
   "execution_count": 6,
   "metadata": {},
   "outputs": [],
   "source": [
    "from patsy import *"
   ]
  },
  {
   "cell_type": "markdown",
   "metadata": {
    "school_cell_uuid": "c7cc9d79059b4d7e914f67ebefaa8309"
   },
   "source": [
    "### 범주형 변수가 하나인 경우"
   ]
  },
  {
   "cell_type": "markdown",
   "metadata": {
    "school_cell_uuid": "35a59e2de2394a46a97e87ebeb99b085"
   },
   "source": [
    "$x_1, x_2, \\ldots, x_D$라는 $D$개의 독립변수를 가지는 선형회귀모형을 생각하자.\n",
    "\n",
    "$$ \\hat{y} = w_0 + w_1x_1 + w_2x_2 + \\cdots + w_Dx_D $$\n",
    "\n",
    "여기에서 $x_1$이라는 독립변수만 범주형 변수이고 'A'과 'B'라는 두 가지의 범주값을 가질 수 있다고 하자. \n",
    "\n",
    "가장 간단한 방법은 전체 데이터를 $x_1=A$인 데이터와 $x_2=B$인 데이터 두 그룹으로 나누어 각각의 데이터에 대한 선형회귀모형을 만드는 것이다. 즉 다음과 같은 2개의 선형회귀모형을 만든다.\n",
    "\n",
    "\n",
    "$$ \n",
    "\\text{model A}:\\;\\; \\hat{y} = w_{A,0} \\; + w_{A,2}x_2 + \\cdots + w_{A,D}x_D \\;\\; (\\text{if } x_1 = A) \n",
    "$$\n",
    "\n",
    "$$ \n",
    "\\text{model B}:\\;\\; \\hat{y} = w_{B,0} \\; + w_{B,2}x_2 + \\cdots + w_{B,D}x_D \\;\\; (\\text{if } x_1 = B) \n",
    "$$\n",
    "\n",
    "\n",
    "그런데 올바른 선형회귀모형에서는 $x_1$이 아닌 다른 변수 예를 들어 $x_2$의 값이 변할 때 $y$값이 변화하는 정도, 즉 가중치 $w_2$는 $x_1$의 값이 A이든 B든 같아야 한다. 하지만 위와 같은 두 개의 선형회귀모형을 만들면 $w_2$의 값이 $w_{A,2}$와 $w_{B,2}$라는 두 가지의 다른 값이 나오므로 위 모형은 적당하지 않다."
   ]
  },
  {
   "cell_type": "markdown",
   "metadata": {
    "school_cell_uuid": "54656339a224494e9432f7e833a067b4"
   },
   "source": [
    "더미변수 방법은 범주형 변수 $x_1$을 $d_{1A}, d_{1B}$라는 두 개의 더미변수로 바꾸는 것이다. 더미변수로 변환하면 상수항은 없어진다. 그 이유는 나중에 설명한다.\n",
    "\n",
    "$$\n",
    "\\begin{aligned}\n",
    "\\hat{y} &= w_0 && + && \\hspace{1cm} w_1 x_1          & +  w_2 x_2  + \\cdots  + w_D x_D \\\\\n",
    "        &      &&   && \\hspace{1.2cm} \\downarrow       &     \\\\\n",
    "\\hat{y} &=     &&   && w_{1A} d_{1A} + w_{1B} d_{1B} & +  w_2 x_2  + \\cdots  + w_D x_D \\\\\n",
    "\\end{aligned}\n",
    "$$\n",
    "\n",
    "더미변수가 2개인 이유는 더미변수가 가질 수 있는 범주값이 2개이기 때문이다. 범주값이 $K$개이면 범주형 변수 $x_1$을 $d_{11}, \\ldots, d_{1K}$라는 $K$개의 더미변수로 바꾸어야 한다.\n",
    "\n",
    "더미변수의 값은 항상 0또는 1이어야하는데 더미변수의 값을 지정하는 방법에는 축소랭크(reduced-rank) 방식과 풀랭크(full-rank) 방식 두가지가 있다."
   ]
  },
  {
   "cell_type": "markdown",
   "metadata": {
    "school_cell_uuid": "10875564668b4ac8a62083d0974df908"
   },
   "source": [
    "### 풀랭크 방식"
   ]
  },
  {
   "cell_type": "markdown",
   "metadata": {
    "school_cell_uuid": "273cbaaee1e84ebc83f57ede1c01bd79"
   },
   "source": [
    "**풀랭크(full-rank) 방식에서는 더미변수의 값을 원핫인코딩(one-hot-encoding) 방식으로 지정한다.** 즉 범주값이 2가지인 경우에는 \n",
    "\n",
    "$$\n",
    "\\begin{aligned}\n",
    "x_1=A \\;\\;&\\rightarrow\\;\\;  d_{1A}=1,\\, d_{1B} = 0 \\\\\n",
    "x_1=B \\;\\;&\\rightarrow\\;\\;  d_{1A}=0,\\, d_{1B} = 1 \\\\\n",
    "\\end{aligned}\n",
    "$$\n",
    "\n",
    "이 된다. 이 값을 대입하면 더미변수의 가중치는 상수항이 된다.\n",
    "\n",
    "$$\n",
    "\\begin{aligned}\n",
    "x_1=A \\;\\;&\\rightarrow\\;\\;  \\hat{y} = w_{1A} + w_2 x_2  + \\cdots  + w_D x_D \\\\\n",
    "x_1=B \\;\\;&\\rightarrow\\;\\;  \\hat{y} = w_{1B} + w_2 x_2  + \\cdots  + w_D x_D \\\\\n",
    "\\end{aligned}\n",
    "$$\n",
    "\n",
    "다시 말해 범주값이 달라지면 상수항만 달라지고 다른 독립변수의 가중치(영향)는 같은 모형이 되는 것이다.\n"
   ]
  },
  {
   "cell_type": "markdown",
   "metadata": {
    "school_cell_uuid": "e94d021970e8482e8034a7f0342b7509"
   },
   "source": [
    "<img src=\"https://datascienceschool.net/upfiles/cc2b959c098f4e3ebf82743eca24b326.png\" width=\"100%\"/>"
   ]
  },
  {
   "cell_type": "markdown",
   "metadata": {
    "school_cell_uuid": "a5ad3a5a8e6246dba63771218c6adb8c",
    "sidetitle": true
   },
   "source": [
    "그림 3.5.1 : 풀랭크 방식 더미변수 가중치의 의미"
   ]
  },
  {
   "cell_type": "markdown",
   "metadata": {
    "school_cell_uuid": "3bc861145c4a4c1e86b8e0e2ffdd4bfd"
   },
   "source": [
    "선형회귀모형에 범주형 독립변수가 있으면 더미변수의 가중치 이외에 별도의 상수항이 있으면 안된다. 만약 위의 모형에서 별도의 상수항 $w_0$이 존재한다면 모형은 다음처럼 될 것이다.\n",
    "\n",
    "$$\n",
    "\\begin{aligned}\n",
    "x_1=A \\;\\;&\\rightarrow\\;\\;  \\hat{y} = (w_0 + w_{1A}) + w_2 x_2  + \\cdots  + w_D x_D \\\\\n",
    "x_1=B \\;\\;&\\rightarrow\\;\\;  \\hat{y} = (w_0 + w_{1B}) + w_2 x_2  + \\cdots  + w_D x_D \\\\\n",
    "\\end{aligned}\n",
    "$$\n",
    "\n",
    "이 경우에는 $w_0 + w_{1A}$나 $w_0 + w_{1B}$의 값은 구할 수 있어도  $w_0$ 값과 $w_{1A}$ 값을 분리할 수는 없다. **범주형 독립변수가 있으면 상수항은 포함시키지 않는다.**"
   ]
  },
  {
   "cell_type": "markdown",
   "metadata": {
    "school_cell_uuid": "49e6db73335f4eb2b70fdf9d1e227863"
   },
   "source": [
    "patsy 패키지는 변수의 값이 문자이면 자동으로 범주형 독립변수로 인식한다. 풀랭크 모형을 사용하려면 포뮬러 문자열에 ``+0`` 또는 ``-1``을 붙여야 한다. 더미변수의 이름은 자동으로 ``원래변수의 이름 + [범주값]``으로 정해진다."
   ]
  },
  {
   "cell_type": "code",
   "execution_count": 7,
   "metadata": {
    "school_cell_uuid": "2b5945e3214f47138f4725a901c6566c"
   },
   "outputs": [
    {
     "data": {
      "text/html": [
       "<div>\n",
       "<style scoped>\n",
       "    .dataframe tbody tr th:only-of-type {\n",
       "        vertical-align: middle;\n",
       "    }\n",
       "\n",
       "    .dataframe tbody tr th {\n",
       "        vertical-align: top;\n",
       "    }\n",
       "\n",
       "    .dataframe thead th {\n",
       "        text-align: right;\n",
       "    }\n",
       "</style>\n",
       "<table border=\"1\" class=\"dataframe\">\n",
       "  <thead>\n",
       "    <tr style=\"text-align: right;\">\n",
       "      <th></th>\n",
       "      <th>x1</th>\n",
       "    </tr>\n",
       "  </thead>\n",
       "  <tbody>\n",
       "    <tr>\n",
       "      <th>0</th>\n",
       "      <td>A</td>\n",
       "    </tr>\n",
       "    <tr>\n",
       "      <th>1</th>\n",
       "      <td>A</td>\n",
       "    </tr>\n",
       "    <tr>\n",
       "      <th>2</th>\n",
       "      <td>B</td>\n",
       "    </tr>\n",
       "    <tr>\n",
       "      <th>3</th>\n",
       "      <td>B</td>\n",
       "    </tr>\n",
       "  </tbody>\n",
       "</table>\n",
       "</div>"
      ],
      "text/plain": [
       "  x1\n",
       "0  A\n",
       "1  A\n",
       "2  B\n",
       "3  B"
      ]
     },
     "execution_count": 7,
     "metadata": {},
     "output_type": "execute_result"
    }
   ],
   "source": [
    "df1 = pd.DataFrame([\"A\", \"A\", \"B\", \"B\"], columns=[\"x1\"])\n",
    "df1"
   ]
  },
  {
   "cell_type": "code",
   "execution_count": 18,
   "metadata": {
    "school_cell_uuid": "37fd4a7c4b3c4d878f6cd98a73338b1f"
   },
   "outputs": [
    {
     "data": {
      "text/plain": [
       "DesignMatrix with shape (4, 2)\n",
       "  x1[A]  x1[B]\n",
       "      1      0\n",
       "      1      0\n",
       "      0      1\n",
       "      0      1\n",
       "  Terms:\n",
       "    'x1' (columns 0:2)"
      ]
     },
     "execution_count": 18,
     "metadata": {},
     "output_type": "execute_result"
    }
   ],
   "source": [
    "dmatrix(\"x1+0\", df1)"
   ]
  },
  {
   "cell_type": "code",
   "execution_count": 13,
   "metadata": {},
   "outputs": [
    {
     "data": {
      "text/plain": [
       "DesignMatrix with shape (4, 2)\n",
       "  x1[A]  x1[B]\n",
       "      1      0\n",
       "      1      0\n",
       "      0      1\n",
       "      0      1\n",
       "  Terms:\n",
       "    'x1' (columns 0:2)"
      ]
     },
     "execution_count": 13,
     "metadata": {},
     "output_type": "execute_result"
    }
   ],
   "source": [
    "dmatrix(\"x1+0\",df1)"
   ]
  },
  {
   "cell_type": "markdown",
   "metadata": {
    "school_cell_uuid": "47135eda99c142a4a9cfdb16245fbbb7"
   },
   "source": [
    "데이터가 범주형 값이지만 정수로 표시된 경우에는 `C()` 연산자를 이용하여 범주형 값임을 명시적으로 지정할 수 있다."
   ]
  },
  {
   "cell_type": "code",
   "execution_count": 11,
   "metadata": {
    "school_cell_uuid": "b1eb21331def49a9a9d736765a0e3914"
   },
   "outputs": [
    {
     "data": {
      "text/html": [
       "<div>\n",
       "<style scoped>\n",
       "    .dataframe tbody tr th:only-of-type {\n",
       "        vertical-align: middle;\n",
       "    }\n",
       "\n",
       "    .dataframe tbody tr th {\n",
       "        vertical-align: top;\n",
       "    }\n",
       "\n",
       "    .dataframe thead th {\n",
       "        text-align: right;\n",
       "    }\n",
       "</style>\n",
       "<table border=\"1\" class=\"dataframe\">\n",
       "  <thead>\n",
       "    <tr style=\"text-align: right;\">\n",
       "      <th></th>\n",
       "      <th>x1</th>\n",
       "    </tr>\n",
       "  </thead>\n",
       "  <tbody>\n",
       "    <tr>\n",
       "      <th>0</th>\n",
       "      <td>1</td>\n",
       "    </tr>\n",
       "    <tr>\n",
       "      <th>1</th>\n",
       "      <td>2</td>\n",
       "    </tr>\n",
       "    <tr>\n",
       "      <th>2</th>\n",
       "      <td>3</td>\n",
       "    </tr>\n",
       "    <tr>\n",
       "      <th>3</th>\n",
       "      <td>4</td>\n",
       "    </tr>\n",
       "  </tbody>\n",
       "</table>\n",
       "</div>"
      ],
      "text/plain": [
       "   x1\n",
       "0   1\n",
       "1   2\n",
       "2   3\n",
       "3   4"
      ]
     },
     "execution_count": 11,
     "metadata": {},
     "output_type": "execute_result"
    }
   ],
   "source": [
    "df2 = pd.DataFrame([1, 2, 3, 4], columns=[\"x1\"])\n",
    "df2"
   ]
  },
  {
   "cell_type": "code",
   "execution_count": 14,
   "metadata": {},
   "outputs": [
    {
     "data": {
      "text/plain": [
       "DesignMatrix with shape (4, 4)\n",
       "  C(x1)[1]  C(x1)[2]  C(x1)[3]  C(x1)[4]\n",
       "         1         0         0         0\n",
       "         0         1         0         0\n",
       "         0         0         1         0\n",
       "         0         0         0         1\n",
       "  Terms:\n",
       "    'C(x1)' (columns 0:4)"
      ]
     },
     "execution_count": 14,
     "metadata": {},
     "output_type": "execute_result"
    }
   ],
   "source": [
    "dmatrix(\"C(x1)-1\",df2)"
   ]
  },
  {
   "cell_type": "code",
   "execution_count": 12,
   "metadata": {
    "school_cell_uuid": "fd9128e6b2324c98a9a3127092d7f8c0"
   },
   "outputs": [
    {
     "data": {
      "text/plain": [
       "DesignMatrix with shape (4, 4)\n",
       "  C(x1)[1]  C(x1)[2]  C(x1)[3]  C(x1)[4]\n",
       "         1         0         0         0\n",
       "         0         1         0         0\n",
       "         0         0         1         0\n",
       "         0         0         0         1\n",
       "  Terms:\n",
       "    'C(x1)' (columns 0:4)"
      ]
     },
     "execution_count": 12,
     "metadata": {},
     "output_type": "execute_result"
    }
   ],
   "source": [
    "dmatrix(\"C(x1) - 1\", df2)"
   ]
  },
  {
   "cell_type": "markdown",
   "metadata": {
    "school_cell_uuid": "f5be99643e14498fba792f3395b68b59"
   },
   "source": [
    "### 축소랭크 방식"
   ]
  },
  {
   "cell_type": "markdown",
   "metadata": {
    "school_cell_uuid": "f3d862f356ad4e8d95a80417a19620c5"
   },
   "source": [
    "**축소랭크(reducec-rank) 방식에서는 특정한 하나의 범주값을 기준값(reference, baseline)으로 하고 기준값에 대응하는 더미변수의 가중치는 항상 1으로 놓는다.** 다른 범주형 값을 가지는 경우는 기준값에 추가적인 특성이 있는 것으로 간주한다. 예를 들어 다음 축소랭크 방식은 $x_1=A$를 기준값으로 하는 경우이다.\n",
    "\n",
    "$$\n",
    "\\begin{aligned}\n",
    "x_1=A \\;\\;&\\rightarrow\\;\\;  d_{1A}=1,\\, d_{1B} = 0 \\\\\n",
    "x_1=B \\;\\;&\\rightarrow\\;\\;  d_{1A}=1,\\, d_{1B} = 1 \\\\\n",
    "\\end{aligned}\n",
    "$$\n",
    "\n",
    "반대로 $x_1=B$를 기준값으로 하면 다음과 같아진다.\n",
    "\n",
    "$$\n",
    "\\begin{aligned}\n",
    "x_1=A \\;\\;&\\rightarrow\\;\\;  d_{1A}=1,\\, d_{1B} = 1 \\\\\n",
    "x_1=B \\;\\;&\\rightarrow\\;\\;  d_{1A}=0,\\, d_{1B} = 1 \\\\\n",
    "\\end{aligned}\n",
    "$$\n",
    "\n",
    "이 값을 대입하면 기준값인 더미변수의 가중치는 상수항이 되고 나머지 더미변수의 가중치는 그 상수항에 추가적으로 더해지는 상수항이 된다. $x_1=A$를 기준값으로 하는 경우에는 다음과 같다.\n",
    "\n",
    "$$\n",
    "\\begin{aligned}\n",
    "x_1=A \\;\\;&\\rightarrow\\;\\;  \\hat{y} = w_{1A}          &+ w_2 x_2  + \\cdots  + w_D x_D \\\\\n",
    "x_1=B \\;\\;&\\rightarrow\\;\\;  \\hat{y} = w_{1A} + w_{1B} &+ w_2 x_2  + \\cdots  + w_D x_D \\\\\n",
    "\\end{aligned}\n",
    "$$\n"
   ]
  },
  {
   "cell_type": "markdown",
   "metadata": {
    "school_cell_uuid": "0d57b965c84942d6b50e36e163bf67f5"
   },
   "source": [
    "<img src=\"https://datascienceschool.net/upfiles/5cdba8a462f44c1c9f91446b6af3122b.png\" width=\"100%\"/>"
   ]
  },
  {
   "cell_type": "markdown",
   "metadata": {
    "school_cell_uuid": "a5ad3a5a8e6246dba63771218c6adb8c",
    "sidetitle": true
   },
   "source": [
    "그림 3.5.2 : 축소랭크 방식 더미변수 가중치의 의미"
   ]
  },
  {
   "cell_type": "markdown",
   "metadata": {
    "school_cell_uuid": "5a91fe1eae8f4f3884306f422e0fbd80"
   },
   "source": [
    "patsy에서 포뮬러 문자열에 ``+0`` 또는 ``-1``이 없으면 축소랭크 방식으로 간주한다. 별도로 지정하지 않으면 알파벳 순서로 가장 빠른 범주값이 기준값이 된다. 축소랭크 방식에서는 범주값 이름 앞에 Treatment를 뜻하는 `T.` 기호가 붙는다."
   ]
  },
  {
   "cell_type": "code",
   "execution_count": 20,
   "metadata": {
    "school_cell_uuid": "2b5945e3214f47138f4725a901c6566c"
   },
   "outputs": [
    {
     "data": {
      "text/html": [
       "<div>\n",
       "<style scoped>\n",
       "    .dataframe tbody tr th:only-of-type {\n",
       "        vertical-align: middle;\n",
       "    }\n",
       "\n",
       "    .dataframe tbody tr th {\n",
       "        vertical-align: top;\n",
       "    }\n",
       "\n",
       "    .dataframe thead th {\n",
       "        text-align: right;\n",
       "    }\n",
       "</style>\n",
       "<table border=\"1\" class=\"dataframe\">\n",
       "  <thead>\n",
       "    <tr style=\"text-align: right;\">\n",
       "      <th></th>\n",
       "      <th>x1</th>\n",
       "    </tr>\n",
       "  </thead>\n",
       "  <tbody>\n",
       "    <tr>\n",
       "      <th>0</th>\n",
       "      <td>A</td>\n",
       "    </tr>\n",
       "    <tr>\n",
       "      <th>1</th>\n",
       "      <td>B</td>\n",
       "    </tr>\n",
       "    <tr>\n",
       "      <th>2</th>\n",
       "      <td>C</td>\n",
       "    </tr>\n",
       "  </tbody>\n",
       "</table>\n",
       "</div>"
      ],
      "text/plain": [
       "  x1\n",
       "0  A\n",
       "1  B\n",
       "2  C"
      ]
     },
     "execution_count": 20,
     "metadata": {},
     "output_type": "execute_result"
    }
   ],
   "source": [
    "df3 = pd.DataFrame([\"A\", \"B\", \"C\"], columns=[\"x1\"])\n",
    "df3"
   ]
  },
  {
   "cell_type": "code",
   "execution_count": null,
   "metadata": {},
   "outputs": [],
   "source": [
    "df3=pd.DataFrame(`)"
   ]
  },
  {
   "cell_type": "code",
   "execution_count": 21,
   "metadata": {},
   "outputs": [
    {
     "data": {
      "text/plain": [
       "DesignMatrix with shape (3, 3)\n",
       "  Intercept  x1[T.B]  x1[T.C]\n",
       "          1        0        0\n",
       "          1        1        0\n",
       "          1        0        1\n",
       "  Terms:\n",
       "    'Intercept' (column 0)\n",
       "    'x1' (columns 1:3)"
      ]
     },
     "execution_count": 21,
     "metadata": {},
     "output_type": "execute_result"
    }
   ],
   "source": [
    "dmatrix(\"x1\",df3)"
   ]
  },
  {
   "cell_type": "code",
   "execution_count": 7,
   "metadata": {
    "school_cell_uuid": "37fd4a7c4b3c4d878f6cd98a73338b1f"
   },
   "outputs": [
    {
     "data": {
      "text/plain": [
       "DesignMatrix with shape (3, 3)\n",
       "  Intercept  x1[T.B]  x1[T.C]\n",
       "          1        0        0\n",
       "          1        1        0\n",
       "          1        0        1\n",
       "  Terms:\n",
       "    'Intercept' (column 0)\n",
       "    'x1' (columns 1:3)"
      ]
     },
     "execution_count": 7,
     "metadata": {},
     "output_type": "execute_result"
    }
   ],
   "source": [
    "dmatrix(\"x1\", df3)"
   ]
  },
  {
   "cell_type": "markdown",
   "metadata": {
    "school_cell_uuid": "aa420825a53e46df87e11b1c15dda689"
   },
   "source": [
    "만약 기준값을 다른 값으로 바꾸고 싶으면 `Treatment` 연산자를 사용한다. 다음 코드에서는 B를 기준값으로 사용하였다."
   ]
  },
  {
   "cell_type": "code",
   "execution_count": 25,
   "metadata": {},
   "outputs": [
    {
     "data": {
      "text/plain": [
       "DesignMatrix with shape (3, 3)\n",
       "  Intercept  C(x1, Treatment('B'))[T.A]  C(x1, Treatment('B'))[T.C]\n",
       "          1                           1                           0\n",
       "          1                           0                           0\n",
       "          1                           0                           1\n",
       "  Terms:\n",
       "    'Intercept' (column 0)\n",
       "    \"C(x1, Treatment('B'))\" (columns 1:3)"
      ]
     },
     "execution_count": 25,
     "metadata": {},
     "output_type": "execute_result"
    }
   ],
   "source": [
    "dmatrix(\"C(x1, Treatment('B'))\",df3)"
   ]
  },
  {
   "cell_type": "code",
   "execution_count": 8,
   "metadata": {
    "school_cell_uuid": "a6d20f75e43e44e9804cd573849cb498"
   },
   "outputs": [
    {
     "data": {
      "text/plain": [
       "DesignMatrix with shape (3, 3)\n",
       "  Intercept  C(x1, Treatment('B'))[T.A]  C(x1, Treatment('B'))[T.C]\n",
       "          1                           1                           0\n",
       "          1                           0                           0\n",
       "          1                           0                           1\n",
       "  Terms:\n",
       "    'Intercept' (column 0)\n",
       "    \"C(x1, Treatment('B'))\" (columns 1:3)"
      ]
     },
     "execution_count": 8,
     "metadata": {},
     "output_type": "execute_result"
    }
   ],
   "source": [
    "dmatrix(\"C(x1, Treatment('B'))\", df3)"
   ]
  },
  {
   "cell_type": "markdown",
   "metadata": {
    "school_cell_uuid": "cb07d171b0ca4771a7748fea21fdd570"
   },
   "source": [
    "### 하나의 범주형 독립변수가 있는 회귀분석"
   ]
  },
  {
   "cell_type": "markdown",
   "metadata": {
    "school_cell_uuid": "73214ac6257b46f1a070b6ea2698bef6"
   },
   "source": [
    "#### 예제\n",
    "\n",
    "월(month)을 독립변수로 하여 해당 월의 기온을 예측하는 회귀분석을 해보자. 데이터는 다음과 같다."
   ]
  },
  {
   "cell_type": "code",
   "execution_count": 9,
   "metadata": {
    "school_cell_uuid": "4f321f3c4fae469e999338ed2e97c758"
   },
   "outputs": [],
   "source": [
    "df_nottem = sm.datasets.get_rdataset(\"nottem\").data"
   ]
  },
  {
   "cell_type": "code",
   "execution_count": 52,
   "metadata": {},
   "outputs": [],
   "source": [
    "df_nottem = sm.datasets.get_rdataset(\"nottem\").data"
   ]
  },
  {
   "cell_type": "markdown",
   "metadata": {
    "school_cell_uuid": "8ae08fb4a3d241c8a0dc5cd305ca8cd6"
   },
   "source": [
    "일단 다음 코드를 사용하여 연단위(year fraction) 데이터에서 월을 추출해낸다."
   ]
  },
  {
   "cell_type": "code",
   "execution_count": 53,
   "metadata": {
    "school_cell_uuid": "9e7705d3755c495ab2ee06ecd4af9409"
   },
   "outputs": [
    {
     "data": {
      "text/html": [
       "<div>\n",
       "<style scoped>\n",
       "    .dataframe tbody tr th:only-of-type {\n",
       "        vertical-align: middle;\n",
       "    }\n",
       "\n",
       "    .dataframe tbody tr th {\n",
       "        vertical-align: top;\n",
       "    }\n",
       "\n",
       "    .dataframe thead th {\n",
       "        text-align: right;\n",
       "    }\n",
       "</style>\n",
       "<table border=\"1\" class=\"dataframe\">\n",
       "  <thead>\n",
       "    <tr style=\"text-align: right;\">\n",
       "      <th></th>\n",
       "      <th>time</th>\n",
       "      <th>value</th>\n",
       "      <th>month</th>\n",
       "    </tr>\n",
       "  </thead>\n",
       "  <tbody>\n",
       "    <tr>\n",
       "      <th>235</th>\n",
       "      <td>1939.583333</td>\n",
       "      <td>61.8</td>\n",
       "      <td>08</td>\n",
       "    </tr>\n",
       "    <tr>\n",
       "      <th>236</th>\n",
       "      <td>1939.666667</td>\n",
       "      <td>58.2</td>\n",
       "      <td>09</td>\n",
       "    </tr>\n",
       "    <tr>\n",
       "      <th>237</th>\n",
       "      <td>1939.750000</td>\n",
       "      <td>46.7</td>\n",
       "      <td>10</td>\n",
       "    </tr>\n",
       "    <tr>\n",
       "      <th>238</th>\n",
       "      <td>1939.833333</td>\n",
       "      <td>46.6</td>\n",
       "      <td>11</td>\n",
       "    </tr>\n",
       "    <tr>\n",
       "      <th>239</th>\n",
       "      <td>1939.916667</td>\n",
       "      <td>37.8</td>\n",
       "      <td>12</td>\n",
       "    </tr>\n",
       "  </tbody>\n",
       "</table>\n",
       "</div>"
      ],
      "text/plain": [
       "            time  value month\n",
       "235  1939.583333   61.8    08\n",
       "236  1939.666667   58.2    09\n",
       "237  1939.750000   46.7    10\n",
       "238  1939.833333   46.6    11\n",
       "239  1939.916667   37.8    12"
      ]
     },
     "execution_count": 53,
     "metadata": {},
     "output_type": "execute_result"
    }
   ],
   "source": [
    "import datetime\n",
    "from calendar import isleap\n",
    "\n",
    "def convert_partial_year(number):\n",
    "    year = int(number)\n",
    "    d = datetime.timedelta(days=(number - year) * (365 + isleap(year)))#year는 1970년 기준\n",
    "    day_one = datetime.datetime(year, 1, 1)\n",
    "    date = d + day_one\n",
    "    return date\n",
    "\n",
    "\n",
    "df_nottem[\"date0\"] = df_nottem[[\"time\"]].applymap(convert_partial_year)\n",
    "df_nottem[\"date\"] = pd.DatetimeIndex(df_nottem[\"date0\"]).round('60min') + datetime.timedelta(seconds=3600*24)\n",
    "df_nottem[\"month\"] = df_nottem[\"date\"].dt.strftime(\"%m\").astype('category')\n",
    "del df_nottem[\"date0\"], df_nottem[\"date\"]\n",
    "df_nottem.tail()"
   ]
  },
  {
   "cell_type": "markdown",
   "metadata": {
    "school_cell_uuid": "9c92a2a3417545e2b76b93ee9b68ffe3"
   },
   "source": [
    "이 데이터를 박스플롯으로 시각화한다."
   ]
  },
  {
   "cell_type": "code",
   "execution_count": 54,
   "metadata": {
    "school_cell_uuid": "d5caab609c054bc8a054558ae661decc"
   },
   "outputs": [
    {
     "ename": "NameError",
     "evalue": "name 'plt' is not defined",
     "output_type": "error",
     "traceback": [
      "\u001b[0;31m---------------------------------------------------------------------------\u001b[0m",
      "\u001b[0;31mNameError\u001b[0m                                 Traceback (most recent call last)",
      "\u001b[0;32m<ipython-input-54-c4f2f2e94d5c>\u001b[0m in \u001b[0;36m<module>\u001b[0;34m\u001b[0m\n\u001b[1;32m      1\u001b[0m \u001b[0mdf_nottem\u001b[0m\u001b[0;34m.\u001b[0m\u001b[0mboxplot\u001b[0m\u001b[0;34m(\u001b[0m\u001b[0;34m\"value\"\u001b[0m\u001b[0;34m,\u001b[0m \u001b[0;34m\"month\"\u001b[0m\u001b[0;34m)\u001b[0m\u001b[0;34m\u001b[0m\u001b[0;34m\u001b[0m\u001b[0m\n\u001b[0;32m----> 2\u001b[0;31m \u001b[0mplt\u001b[0m\u001b[0;34m.\u001b[0m\u001b[0mshow\u001b[0m\u001b[0;34m(\u001b[0m\u001b[0;34m)\u001b[0m\u001b[0;34m\u001b[0m\u001b[0;34m\u001b[0m\u001b[0m\n\u001b[0m",
      "\u001b[0;31mNameError\u001b[0m: name 'plt' is not defined"
     ]
    },
    {
     "data": {
      "image/png": "[encoded data removed]",
      "text/plain": [
       "<Figure size 432x288 with 1 Axes>"
      ]
     },
     "metadata": {
      "needs_background": "light"
     },
     "output_type": "display_data"
    }
   ],
   "source": [
    "df_nottem.boxplot(\"value\", \"month\")\n",
    "plt.show()"
   ]
  },
  {
   "cell_type": "markdown",
   "metadata": {
    "school_cell_uuid": "ae5c887ac7ed4d80ba81f516b6f0bad6"
   },
   "source": [
    "풀랭크 방식으로 더미변수를 만들어 회귀분석을 하면 각 월의 평균 기온을 구할 수 있다. 월 데이터가 숫자이므로 연속값으로 인식하지 않도록 `C()` 연산자를 사용하였다."
   ]
  },
  {
   "cell_type": "code",
   "execution_count": 55,
   "metadata": {},
   "outputs": [
    {
     "data": {
      "text/html": [
       "<div>\n",
       "<style scoped>\n",
       "    .dataframe tbody tr th:only-of-type {\n",
       "        vertical-align: middle;\n",
       "    }\n",
       "\n",
       "    .dataframe tbody tr th {\n",
       "        vertical-align: top;\n",
       "    }\n",
       "\n",
       "    .dataframe thead th {\n",
       "        text-align: right;\n",
       "    }\n",
       "</style>\n",
       "<table border=\"1\" class=\"dataframe\">\n",
       "  <thead>\n",
       "    <tr style=\"text-align: right;\">\n",
       "      <th></th>\n",
       "      <th>time</th>\n",
       "      <th>value</th>\n",
       "      <th>month</th>\n",
       "    </tr>\n",
       "  </thead>\n",
       "  <tbody>\n",
       "    <tr>\n",
       "      <th>0</th>\n",
       "      <td>1920.000000</td>\n",
       "      <td>40.6</td>\n",
       "      <td>01</td>\n",
       "    </tr>\n",
       "    <tr>\n",
       "      <th>1</th>\n",
       "      <td>1920.083333</td>\n",
       "      <td>40.8</td>\n",
       "      <td>02</td>\n",
       "    </tr>\n",
       "    <tr>\n",
       "      <th>2</th>\n",
       "      <td>1920.166667</td>\n",
       "      <td>44.4</td>\n",
       "      <td>03</td>\n",
       "    </tr>\n",
       "    <tr>\n",
       "      <th>3</th>\n",
       "      <td>1920.250000</td>\n",
       "      <td>46.7</td>\n",
       "      <td>04</td>\n",
       "    </tr>\n",
       "    <tr>\n",
       "      <th>4</th>\n",
       "      <td>1920.333333</td>\n",
       "      <td>54.1</td>\n",
       "      <td>05</td>\n",
       "    </tr>\n",
       "    <tr>\n",
       "      <th>...</th>\n",
       "      <td>...</td>\n",
       "      <td>...</td>\n",
       "      <td>...</td>\n",
       "    </tr>\n",
       "    <tr>\n",
       "      <th>235</th>\n",
       "      <td>1939.583333</td>\n",
       "      <td>61.8</td>\n",
       "      <td>08</td>\n",
       "    </tr>\n",
       "    <tr>\n",
       "      <th>236</th>\n",
       "      <td>1939.666667</td>\n",
       "      <td>58.2</td>\n",
       "      <td>09</td>\n",
       "    </tr>\n",
       "    <tr>\n",
       "      <th>237</th>\n",
       "      <td>1939.750000</td>\n",
       "      <td>46.7</td>\n",
       "      <td>10</td>\n",
       "    </tr>\n",
       "    <tr>\n",
       "      <th>238</th>\n",
       "      <td>1939.833333</td>\n",
       "      <td>46.6</td>\n",
       "      <td>11</td>\n",
       "    </tr>\n",
       "    <tr>\n",
       "      <th>239</th>\n",
       "      <td>1939.916667</td>\n",
       "      <td>37.8</td>\n",
       "      <td>12</td>\n",
       "    </tr>\n",
       "  </tbody>\n",
       "</table>\n",
       "<p>240 rows × 3 columns</p>\n",
       "</div>"
      ],
      "text/plain": [
       "            time  value month\n",
       "0    1920.000000   40.6    01\n",
       "1    1920.083333   40.8    02\n",
       "2    1920.166667   44.4    03\n",
       "3    1920.250000   46.7    04\n",
       "4    1920.333333   54.1    05\n",
       "..           ...    ...   ...\n",
       "235  1939.583333   61.8    08\n",
       "236  1939.666667   58.2    09\n",
       "237  1939.750000   46.7    10\n",
       "238  1939.833333   46.6    11\n",
       "239  1939.916667   37.8    12\n",
       "\n",
       "[240 rows x 3 columns]"
      ]
     },
     "execution_count": 55,
     "metadata": {},
     "output_type": "execute_result"
    }
   ],
   "source": [
    "df_nottem"
   ]
  },
  {
   "cell_type": "code",
   "execution_count": 56,
   "metadata": {
    "school_cell_uuid": "a52fa8461c0340628bda54796512f25a"
   },
   "outputs": [
    {
     "name": "stdout",
     "output_type": "stream",
     "text": [
      "                            OLS Regression Results                            \n",
      "==============================================================================\n",
      "Dep. Variable:                  value   R-squared:                       0.930\n",
      "Model:                            OLS   Adj. R-squared:                  0.927\n",
      "Method:                 Least Squares   F-statistic:                     277.3\n",
      "Date:                Mon, 18 May 2020   Prob (F-statistic):          2.96e-125\n",
      "Time:                        16:38:44   Log-Likelihood:                -535.82\n",
      "No. Observations:                 240   AIC:                             1096.\n",
      "Df Residuals:                     228   BIC:                             1137.\n",
      "Df Model:                          11                                         \n",
      "Covariance Type:            nonrobust                                         \n",
      "================================================================================\n",
      "                   coef    std err          t      P>|t|      [0.025      0.975]\n",
      "--------------------------------------------------------------------------------\n",
      "C(month)[01]    39.6950      0.518     76.691      0.000      38.675      40.715\n",
      "C(month)[02]    39.1900      0.518     75.716      0.000      38.170      40.210\n",
      "C(month)[03]    42.1950      0.518     81.521      0.000      41.175      43.215\n",
      "C(month)[04]    46.2900      0.518     89.433      0.000      45.270      47.310\n",
      "C(month)[05]    52.5600      0.518    101.547      0.000      51.540      53.580\n",
      "C(month)[06]    58.0400      0.518    112.134      0.000      57.020      59.060\n",
      "C(month)[07]    61.9000      0.518    119.592      0.000      60.880      62.920\n",
      "C(month)[08]    60.5200      0.518    116.926      0.000      59.500      61.540\n",
      "C(month)[09]    56.4800      0.518    109.120      0.000      55.460      57.500\n",
      "C(month)[10]    49.4950      0.518     95.625      0.000      48.475      50.515\n",
      "C(month)[11]    42.5800      0.518     82.265      0.000      41.560      43.600\n",
      "C(month)[12]    39.5300      0.518     76.373      0.000      38.510      40.550\n",
      "==============================================================================\n",
      "Omnibus:                        5.430   Durbin-Watson:                   1.529\n",
      "Prob(Omnibus):                  0.066   Jarque-Bera (JB):                5.299\n",
      "Skew:                          -0.281   Prob(JB):                       0.0707\n",
      "Kurtosis:                       3.463   Cond. No.                         1.00\n",
      "==============================================================================\n",
      "\n",
      "Warnings:\n",
      "[1] Standard Errors assume that the covariance matrix of the errors is correctly specified.\n"
     ]
    }
   ],
   "source": [
    "model = sm.OLS.from_formula(\"value ~ C(month) + 0\", df_nottem)\n",
    "result = model.fit()\n",
    "print(result.summary())"
   ]
  },
  {
   "cell_type": "markdown",
   "metadata": {
    "school_cell_uuid": "89b2ddede74f4dc89fed39307b4ae52f"
   },
   "source": [
    "포뮬러 문자열에서 `+0`을 제외하면 축소랭크 방식을 사용한다. 이 때는 1월의 평균 기온을 기준으로 각 월의 평균 기온이 얼마나 더 높은지를 나타내는 값이 회귀모형의 계수가 된다."
   ]
  },
  {
   "cell_type": "code",
   "execution_count": 57,
   "metadata": {
    "school_cell_uuid": "a52fa8461c0340628bda54796512f25a"
   },
   "outputs": [
    {
     "name": "stdout",
     "output_type": "stream",
     "text": [
      "                            OLS Regression Results                            \n",
      "==============================================================================\n",
      "Dep. Variable:                  value   R-squared:                       0.930\n",
      "Model:                            OLS   Adj. R-squared:                  0.927\n",
      "Method:                 Least Squares   F-statistic:                     277.3\n",
      "Date:                Mon, 18 May 2020   Prob (F-statistic):          2.96e-125\n",
      "Time:                        16:38:46   Log-Likelihood:                -535.82\n",
      "No. Observations:                 240   AIC:                             1096.\n",
      "Df Residuals:                     228   BIC:                             1137.\n",
      "Df Model:                          11                                         \n",
      "Covariance Type:            nonrobust                                         \n",
      "==================================================================================\n",
      "                     coef    std err          t      P>|t|      [0.025      0.975]\n",
      "----------------------------------------------------------------------------------\n",
      "Intercept         39.6950      0.518     76.691      0.000      38.675      40.715\n",
      "C(month)[T.02]    -0.5050      0.732     -0.690      0.491      -1.947       0.937\n",
      "C(month)[T.03]     2.5000      0.732      3.415      0.001       1.058       3.942\n",
      "C(month)[T.04]     6.5950      0.732      9.010      0.000       5.153       8.037\n",
      "C(month)[T.05]    12.8650      0.732     17.575      0.000      11.423      14.307\n",
      "C(month)[T.06]    18.3450      0.732     25.062      0.000      16.903      19.787\n",
      "C(month)[T.07]    22.2050      0.732     30.335      0.000      20.763      23.647\n",
      "C(month)[T.08]    20.8250      0.732     28.450      0.000      19.383      22.267\n",
      "C(month)[T.09]    16.7850      0.732     22.931      0.000      15.343      18.227\n",
      "C(month)[T.10]     9.8000      0.732     13.388      0.000       8.358      11.242\n",
      "C(month)[T.11]     2.8850      0.732      3.941      0.000       1.443       4.327\n",
      "C(month)[T.12]    -0.1650      0.732     -0.225      0.822      -1.607       1.277\n",
      "==============================================================================\n",
      "Omnibus:                        5.430   Durbin-Watson:                   1.529\n",
      "Prob(Omnibus):                  0.066   Jarque-Bera (JB):                5.299\n",
      "Skew:                          -0.281   Prob(JB):                       0.0707\n",
      "Kurtosis:                       3.463   Cond. No.                         12.9\n",
      "==============================================================================\n",
      "\n",
      "Warnings:\n",
      "[1] Standard Errors assume that the covariance matrix of the errors is correctly specified.\n"
     ]
    }
   ],
   "source": [
    "model = sm.OLS.from_formula(\"value ~ C(month)\", df_nottem)\n",
    "result = model.fit()\n",
    "print(result.summary())"
   ]
  },
  {
   "cell_type": "markdown",
   "metadata": {
    "school_cell_uuid": "921533ff58c747bb954ddf504f50e290"
   },
   "source": [
    "### 보스턴 집값 데이터의 범주형 변수"
   ]
  },
  {
   "cell_type": "markdown",
   "metadata": {
    "school_cell_uuid": "0a196fa2cbdd4fb38a7e77bfc754b50d"
   },
   "source": [
    "보스턴 집값 데이터는 `CHAS`라는 범주형 변수를 가지고 있다. 이 변수는 0과 1 두 개의 값(클래스)를 가지므로 이미 full rank 더미변수로 변환되어 있는 것과 비슷하다. 즉 다음과 같은 두 개의 모형을 각각 회귀분석하는 경우라고 볼 수 있다. \n",
    "\n",
    "* `CHAS` = 1 인 경우,\n",
    "$$ y = (w_0 + w_{\\text{CHAS}}) + w_{\\text{CRIM}} \\text{CRIM} + w_{\\text{ZN}} \\text{ZN} + \\cdots $$\n",
    "\n",
    "* `CHAS` = 0 인 경우,\n",
    "$$ y = w_0 + w_{\\text{CRIM}} \\text{CRIM} + w_{\\text{ZN}} \\text{ZN} + \\cdots $$\n"
   ]
  },
  {
   "cell_type": "code",
   "execution_count": 1,
   "metadata": {},
   "outputs": [
    {
     "ename": "NameError",
     "evalue": "name 'sm' is not defined",
     "output_type": "error",
     "traceback": [
      "\u001b[0;31m---------------------------------------------------------------------------\u001b[0m",
      "\u001b[0;31mNameError\u001b[0m                                 Traceback (most recent call last)",
      "\u001b[0;32m<ipython-input-1-2f339802e795>\u001b[0m in \u001b[0;36m<module>\u001b[0;34m\u001b[0m\n\u001b[1;32m      2\u001b[0m \u001b[0mboston\u001b[0m \u001b[0;34m=\u001b[0m \u001b[0mload_boston\u001b[0m\u001b[0;34m(\u001b[0m\u001b[0;34m)\u001b[0m\u001b[0;34m\u001b[0m\u001b[0;34m\u001b[0m\u001b[0m\n\u001b[1;32m      3\u001b[0m \u001b[0mdfX0_boston\u001b[0m \u001b[0;34m=\u001b[0m \u001b[0mpd\u001b[0m\u001b[0;34m.\u001b[0m\u001b[0mDataFrame\u001b[0m\u001b[0;34m(\u001b[0m\u001b[0mboston\u001b[0m\u001b[0;34m.\u001b[0m\u001b[0mdata\u001b[0m\u001b[0;34m,\u001b[0m \u001b[0mcolumns\u001b[0m\u001b[0;34m=\u001b[0m\u001b[0mboston\u001b[0m\u001b[0;34m.\u001b[0m\u001b[0mfeature_names\u001b[0m\u001b[0;34m)\u001b[0m\u001b[0;34m\u001b[0m\u001b[0;34m\u001b[0m\u001b[0m\n\u001b[0;32m----> 4\u001b[0;31m \u001b[0mdfX_boston\u001b[0m \u001b[0;34m=\u001b[0m \u001b[0msm\u001b[0m\u001b[0;34m.\u001b[0m\u001b[0madd_constant\u001b[0m\u001b[0;34m(\u001b[0m\u001b[0mdfX0_boston\u001b[0m\u001b[0;34m)\u001b[0m\u001b[0;34m\u001b[0m\u001b[0;34m\u001b[0m\u001b[0m\n\u001b[0m\u001b[1;32m      5\u001b[0m \u001b[0mdfy_boston\u001b[0m \u001b[0;34m=\u001b[0m \u001b[0mpd\u001b[0m\u001b[0;34m.\u001b[0m\u001b[0mDataFrame\u001b[0m\u001b[0;34m(\u001b[0m\u001b[0mboston\u001b[0m\u001b[0;34m.\u001b[0m\u001b[0mtarget\u001b[0m\u001b[0;34m,\u001b[0m \u001b[0mcolumns\u001b[0m\u001b[0;34m=\u001b[0m\u001b[0;34m[\u001b[0m\u001b[0;34m\"MEDV\"\u001b[0m\u001b[0;34m]\u001b[0m\u001b[0;34m)\u001b[0m\u001b[0;34m\u001b[0m\u001b[0;34m\u001b[0m\u001b[0m\n\u001b[1;32m      6\u001b[0m \u001b[0mdf_boston\u001b[0m \u001b[0;34m=\u001b[0m \u001b[0mpd\u001b[0m\u001b[0;34m.\u001b[0m\u001b[0mconcat\u001b[0m\u001b[0;34m(\u001b[0m\u001b[0;34m[\u001b[0m\u001b[0mdfX_boston\u001b[0m\u001b[0;34m,\u001b[0m \u001b[0mdfy_boston\u001b[0m\u001b[0;34m]\u001b[0m\u001b[0;34m,\u001b[0m \u001b[0maxis\u001b[0m\u001b[0;34m=\u001b[0m\u001b[0;36m1\u001b[0m\u001b[0;34m)\u001b[0m\u001b[0;34m\u001b[0m\u001b[0;34m\u001b[0m\u001b[0m\n",
      "\u001b[0;31mNameError\u001b[0m: name 'sm' is not defined"
     ]
    }
   ],
   "source": [
    "from sklearn.datasets import load_boston\n",
    "boston = load_boston()\n",
    "dfX0_boston = pd.DataFrame(boston.data, columns=boston.feature_names)\n",
    "dfX_boston = sm.add_constant(dfX0_boston)\n",
    "dfy_boston = pd.DataFrame(boston.target, columns=[\"MEDV\"])\n",
    "df_boston = pd.concat([dfX_boston, dfy_boston], axis=1)\n",
    "\n",
    "model = sm.OLS(dfy_boston, dfX_boston)\n",
    "result = model.fit()\n",
    "print(result.summary())"
   ]
  },
  {
   "cell_type": "code",
   "execution_count": 14,
   "metadata": {
    "school_cell_uuid": "5c12c5d101824506abf5f6a2f45de1be"
   },
   "outputs": [
    {
     "name": "stdout",
     "output_type": "stream",
     "text": [
      "                            OLS Regression Results                            \n",
      "==============================================================================\n",
      "Dep. Variable:                   MEDV   R-squared:                       0.741\n",
      "Model:                            OLS   Adj. R-squared:                  0.734\n",
      "Method:                 Least Squares   F-statistic:                     108.1\n",
      "Date:                Mon, 17 Jun 2019   Prob (F-statistic):          6.72e-135\n",
      "Time:                        12:38:49   Log-Likelihood:                -1498.8\n",
      "No. Observations:                 506   AIC:                             3026.\n",
      "Df Residuals:                     492   BIC:                             3085.\n",
      "Df Model:                          13                                         \n",
      "Covariance Type:            nonrobust                                         \n",
      "==============================================================================\n",
      "                 coef    std err          t      P>|t|      [0.025      0.975]\n",
      "------------------------------------------------------------------------------\n",
      "const         36.4595      5.103      7.144      0.000      26.432      46.487\n",
      "CRIM          -0.1080      0.033     -3.287      0.001      -0.173      -0.043\n",
      "ZN             0.0464      0.014      3.382      0.001       0.019       0.073\n",
      "INDUS          0.0206      0.061      0.334      0.738      -0.100       0.141\n",
      "CHAS           2.6867      0.862      3.118      0.002       0.994       4.380\n",
      "NOX          -17.7666      3.820     -4.651      0.000     -25.272     -10.262\n",
      "RM             3.8099      0.418      9.116      0.000       2.989       4.631\n",
      "AGE            0.0007      0.013      0.052      0.958      -0.025       0.027\n",
      "DIS           -1.4756      0.199     -7.398      0.000      -1.867      -1.084\n",
      "RAD            0.3060      0.066      4.613      0.000       0.176       0.436\n",
      "TAX           -0.0123      0.004     -3.280      0.001      -0.020      -0.005\n",
      "PTRATIO       -0.9527      0.131     -7.283      0.000      -1.210      -0.696\n",
      "B              0.0093      0.003      3.467      0.001       0.004       0.015\n",
      "LSTAT         -0.5248      0.051    -10.347      0.000      -0.624      -0.425\n",
      "==============================================================================\n",
      "Omnibus:                      178.041   Durbin-Watson:                   1.078\n",
      "Prob(Omnibus):                  0.000   Jarque-Bera (JB):              783.126\n",
      "Skew:                           1.521   Prob(JB):                    8.84e-171\n",
      "Kurtosis:                       8.281   Cond. No.                     1.51e+04\n",
      "==============================================================================\n",
      "\n",
      "Warnings:\n",
      "[1] Standard Errors assume that the covariance matrix of the errors is correctly specified.\n",
      "[2] The condition number is large, 1.51e+04. This might indicate that there are\n",
      "strong multicollinearity or other numerical problems.\n"
     ]
    }
   ],
   "source": [
    "from sklearn.datasets import load_boston\n",
    "\n",
    "boston = load_boston()\n",
    "dfX0_boston = pd.DataFrame(boston.data, columns=boston.feature_names)\n",
    "dfX_boston = sm.add_constant(dfX0_boston)\n",
    "dfy_boston = pd.DataFrame(boston.target, columns=[\"MEDV\"])\n",
    "df_boston = pd.concat([dfX_boston, dfy_boston], axis=1)\n",
    "\n",
    "model = sm.OLS(dfy_boston, dfX_boston)\n",
    "result = model.fit()\n",
    "print(result.summary())"
   ]
  },
  {
   "cell_type": "markdown",
   "metadata": {
    "school_cell_uuid": "63222b63755a4b39941fbd42c5c4b601"
   },
   "source": [
    "위 분석에서 두 데이터 그룹은 찰스강에 인접하지 않은 집의 가격 모형은 상수항이 $36.4911$이지만 찰스강에 인접한 집의 가격 모형은 상수항이 $36.4911 + 2.6886 = 39.1797$이라는 것을 알 수 있다."
   ]
  },
  {
   "cell_type": "markdown",
   "metadata": {
    "bootstrap": {
     "panel": {
      "class": "panel-default"
     }
    },
    "school_cell_uuid": "8e38e969c74e44869bd598e152efe969"
   },
   "source": [
    "#### 연습 문제 2.4.1\n",
    "\n",
    "1. `from_formula` 메서드를 사용하여 보스턴 집값 예측 문제를 다시 풀어라. `C()`를 사용하여 범주형값임을 명시적으로 지정하는 것을 잊으면 안된다.\n",
    "2. 모형 문자열에서 상수항을 없애지 말고 다시 푼다. 이때 `CHAS` 변수의 가중치는 무엇을 뜻하는가."
   ]
  },
  {
   "cell_type": "code",
   "execution_count": 73,
   "metadata": {},
   "outputs": [
    {
     "name": "stdout",
     "output_type": "stream",
     "text": [
      "                            OLS Regression Results                            \n",
      "==============================================================================\n",
      "Dep. Variable:                   MEDV   R-squared:                       0.031\n",
      "Model:                            OLS   Adj. R-squared:                  0.029\n",
      "Method:                 Least Squares   F-statistic:                     15.97\n",
      "Date:                Mon, 18 May 2020   Prob (F-statistic):           7.39e-05\n",
      "Time:                        16:51:58   Log-Likelihood:                -1832.3\n",
      "No. Observations:                 506   AIC:                             3669.\n",
      "Df Residuals:                     504   BIC:                             3677.\n",
      "Df Model:                           1                                         \n",
      "Covariance Type:            nonrobust                                         \n",
      "================================================================================\n",
      "                   coef    std err          t      P>|t|      [0.025      0.975]\n",
      "--------------------------------------------------------------------------------\n",
      "C(CHAS)[0.0]    22.0938      0.418     52.902      0.000      21.273      22.914\n",
      "C(CHAS)[1.0]    28.4400      1.532     18.563      0.000      25.430      31.450\n",
      "==============================================================================\n",
      "Omnibus:                       81.923   Durbin-Watson:                   0.579\n",
      "Prob(Omnibus):                  0.000   Jarque-Bera (JB):              125.534\n",
      "Skew:                           1.043   Prob(JB):                     5.50e-28\n",
      "Kurtosis:                       4.267   Cond. No.                         3.67\n",
      "==============================================================================\n",
      "\n",
      "Warnings:\n",
      "[1] Standard Errors assume that the covariance matrix of the errors is correctly specified.\n"
     ]
    }
   ],
   "source": [
    "from sklearn.datasets import load_boston\n",
    "boston = load_boston()\n",
    "dfX0_boston = pd.DataFrame(boston.data, columns=boston.feature_names)\n",
    "dfX_boston = sm.add_constant(dfX0_boston)\n",
    "dfy_boston = pd.DataFrame(boston.target, columns=[\"MEDV\"])\n",
    "df_boston = pd.concat([dfX_boston, dfy_boston], axis=1)\n",
    "\n",
    "model = sm.OLS.from_formula(\"MEDV ~ C(CHAS)+0\",df_boston)\n",
    "result = model.fit()\n",
    "print(result.summary())"
   ]
  },
  {
   "cell_type": "code",
   "execution_count": 70,
   "metadata": {},
   "outputs": [
    {
     "name": "stdout",
     "output_type": "stream",
     "text": [
      "                            OLS Regression Results                            \n",
      "==============================================================================\n",
      "Dep. Variable:                   MEDV   R-squared:                       0.031\n",
      "Model:                            OLS   Adj. R-squared:                  0.029\n",
      "Method:                 Least Squares   F-statistic:                     15.97\n",
      "Date:                Mon, 18 May 2020   Prob (F-statistic):           7.39e-05\n",
      "Time:                        16:51:10   Log-Likelihood:                -1832.3\n",
      "No. Observations:                 506   AIC:                             3669.\n",
      "Df Residuals:                     504   BIC:                             3677.\n",
      "Df Model:                           1                                         \n",
      "Covariance Type:            nonrobust                                         \n",
      "==================================================================================\n",
      "                     coef    std err          t      P>|t|      [0.025      0.975]\n",
      "----------------------------------------------------------------------------------\n",
      "Intercept         22.0938      0.418     52.902      0.000      21.273      22.914\n",
      "C(CHAS)[T.1.0]     6.3462      1.588      3.996      0.000       3.226       9.466\n",
      "==============================================================================\n",
      "Omnibus:                       81.923   Durbin-Watson:                   0.579\n",
      "Prob(Omnibus):                  0.000   Jarque-Bera (JB):              125.534\n",
      "Skew:                           1.043   Prob(JB):                     5.50e-28\n",
      "Kurtosis:                       4.267   Cond. No.                         3.96\n",
      "==============================================================================\n",
      "\n",
      "Warnings:\n",
      "[1] Standard Errors assume that the covariance matrix of the errors is correctly specified.\n"
     ]
    }
   ],
   "source": [
    "from sklearn.datasets import load_boston\n",
    "boston = load_boston()\n",
    "dfX0_boston = pd.DataFrame(boston.data, columns=boston.feature_names)\n",
    "dfX_boston = sm.add_constant(dfX0_boston)\n",
    "dfy_boston = pd.DataFrame(boston.target, columns=[\"MEDV\"])\n",
    "df_boston = pd.concat([dfX_boston, dfy_boston], axis=1)\n",
    "\n",
    "model = sm.OLS.from_formula(\"MEDV ~ C(CHAS)\",df_boston)\n",
    "result = model.fit()\n",
    "print(result.summary())"
   ]
  },
  {
   "cell_type": "markdown",
   "metadata": {
    "school_cell_uuid": "9800f4eafb0946fca29c751bc98adc58"
   },
   "source": [
    "### `ContrastMatrix`"
   ]
  },
  {
   "cell_type": "markdown",
   "metadata": {
    "school_cell_uuid": "fe8764c0641d4b7cafcd3698419d7bd5"
   },
   "source": [
    "사용자가 원하는 특정한 더미변수 값을 지정하고 싶다면 `ContrastMatrix` 클래스를 사용한다. `ContrastMatrix` 행렬은 각 클래스가 인코딩될 벡터값 목록을 미리 정의한 행렬이다."
   ]
  },
  {
   "cell_type": "code",
   "execution_count": 15,
   "metadata": {
    "school_cell_uuid": "86d2c58a0dc44047807ff05bc583f965"
   },
   "outputs": [
    {
     "data": {
      "text/html": [
       "<div>\n",
       "<style scoped>\n",
       "    .dataframe tbody tr th:only-of-type {\n",
       "        vertical-align: middle;\n",
       "    }\n",
       "\n",
       "    .dataframe tbody tr th {\n",
       "        vertical-align: top;\n",
       "    }\n",
       "\n",
       "    .dataframe thead th {\n",
       "        text-align: right;\n",
       "    }\n",
       "</style>\n",
       "<table border=\"1\" class=\"dataframe\">\n",
       "  <thead>\n",
       "    <tr style=\"text-align: right;\">\n",
       "      <th></th>\n",
       "      <th>x1</th>\n",
       "    </tr>\n",
       "  </thead>\n",
       "  <tbody>\n",
       "    <tr>\n",
       "      <th>0</th>\n",
       "      <td>A</td>\n",
       "    </tr>\n",
       "    <tr>\n",
       "      <th>1</th>\n",
       "      <td>B</td>\n",
       "    </tr>\n",
       "    <tr>\n",
       "      <th>2</th>\n",
       "      <td>C</td>\n",
       "    </tr>\n",
       "    <tr>\n",
       "      <th>3</th>\n",
       "      <td>A</td>\n",
       "    </tr>\n",
       "    <tr>\n",
       "      <th>4</th>\n",
       "      <td>B</td>\n",
       "    </tr>\n",
       "  </tbody>\n",
       "</table>\n",
       "</div>"
      ],
      "text/plain": [
       "  x1\n",
       "0  A\n",
       "1  B\n",
       "2  C\n",
       "3  A\n",
       "4  B"
      ]
     },
     "execution_count": 15,
     "metadata": {},
     "output_type": "execute_result"
    }
   ],
   "source": [
    "df4 = pd.DataFrame([\"A\", \"B\", \"C\", \"A\", \"B\"], columns=[\"x1\"])\n",
    "df4"
   ]
  },
  {
   "cell_type": "markdown",
   "metadata": {
    "school_cell_uuid": "933ec857cbd74650a5d4577b670fffe9"
   },
   "source": [
    "예를 들어 위 데이터에서 B와 C 카테고리를 하나의 카테고리로 묶어서 인코딩하고 싶다면 다음처럼 코딩한다."
   ]
  },
  {
   "cell_type": "code",
   "execution_count": 16,
   "metadata": {
    "school_cell_uuid": "90c276d7a7c743bf8a732489b72b52ee",
    "scrolled": false
   },
   "outputs": [
    {
     "data": {
      "text/plain": [
       "DesignMatrix with shape (5, 2)\n",
       "  C(x1, contrast):A  C(x1, contrast):BC\n",
       "                  1                   0\n",
       "                  0                   1\n",
       "                  0                   1\n",
       "                  1                   0\n",
       "                  0                   1\n",
       "  Terms:\n",
       "    'C(x1, contrast)' (columns 0:2)"
      ]
     },
     "execution_count": 16,
     "metadata": {},
     "output_type": "execute_result"
    }
   ],
   "source": [
    "encoding_vectors = [[1, 0], [0, 1], [0, 1]]\n",
    "label_postfix = [\":A\", \":BC\"]\n",
    "contrast = ContrastMatrix(encoding_vectors, label_postfix)\n",
    "dmatrix(\"C(x1, contrast) + 0\", df4)"
   ]
  },
  {
   "cell_type": "markdown",
   "metadata": {
    "school_cell_uuid": "ae0860d662084fc8b4d50703c8e09819"
   },
   "source": [
    "### 두 개 이상의 범주형 변수가 있는 경우"
   ]
  },
  {
   "cell_type": "markdown",
   "metadata": {
    "school_cell_uuid": "b96837f844ec4836a8532d94842ccac3"
   },
   "source": [
    "두 개 이상의 범주형 변수가 있는 경우에는 축소형 방식을 사용한다. 이 때 주의할 점은 모든 범주형 범수의 가중치는 기준값 상수항에 더해지는 상수항으로 취급된다. 예들 들어  $x_1$은 A, B 의 두가지 값을 가지고 $x_2$은 X, Y의 두가지 값을 가지고 값을 가지는 경우 상수항과 각 더미변수의 가중치의 의미는 다음과 같아진다.\n",
    "\n",
    "$$\n",
    "\\begin{aligned}\n",
    "\\hat{y} &= w_0    && + && w_1 x_1                 && + && w_2 x_2                 &+ \\cdots  + w_D x_D \\\\\n",
    "        &         &&   && \\hspace{5pt} \\downarrow &&   && \\hspace{5pt} \\downarrow & \\\\\n",
    "\\hat{y} &= w_{AX} && + && w_{1B} d_{1B}           && + && w_{2Y} d_{2Y}           &+ \\cdots  + w_D x_D \\\\\n",
    "\\end{aligned}\n",
    "$$\n",
    "\n",
    "\n",
    "\n",
    "* $w_{AX} $: 기준값 $x_1=A, x_2=X$인 경우의 상수항\n",
    "* $w_{1,B}$: 기준값 $x_1=B, x_2=X$인 경우에 추가되는 상수항\n",
    "* $w_{1,Y}$: 기준값 $x_1=A, x_2=Y$인 경우에 추가되는 상수항\n",
    "* $w_{1,B} + w_{1,Y}$: 기준값 $x_1=B, x_2=Y$인 경우에 추가되는 상수항\n"
   ]
  },
  {
   "cell_type": "code",
   "execution_count": 17,
   "metadata": {
    "school_cell_uuid": "e94995b0096045ccb9a970768e3aa099"
   },
   "outputs": [
    {
     "data": {
      "text/html": [
       "<div>\n",
       "<style scoped>\n",
       "    .dataframe tbody tr th:only-of-type {\n",
       "        vertical-align: middle;\n",
       "    }\n",
       "\n",
       "    .dataframe tbody tr th {\n",
       "        vertical-align: top;\n",
       "    }\n",
       "\n",
       "    .dataframe thead th {\n",
       "        text-align: right;\n",
       "    }\n",
       "</style>\n",
       "<table border=\"1\" class=\"dataframe\">\n",
       "  <thead>\n",
       "    <tr style=\"text-align: right;\">\n",
       "      <th></th>\n",
       "      <th>x1</th>\n",
       "      <th>x2</th>\n",
       "    </tr>\n",
       "  </thead>\n",
       "  <tbody>\n",
       "    <tr>\n",
       "      <th>0</th>\n",
       "      <td>A</td>\n",
       "      <td>X</td>\n",
       "    </tr>\n",
       "    <tr>\n",
       "      <th>1</th>\n",
       "      <td>B</td>\n",
       "      <td>X</td>\n",
       "    </tr>\n",
       "    <tr>\n",
       "      <th>2</th>\n",
       "      <td>A</td>\n",
       "      <td>Y</td>\n",
       "    </tr>\n",
       "    <tr>\n",
       "      <th>3</th>\n",
       "      <td>B</td>\n",
       "      <td>Y</td>\n",
       "    </tr>\n",
       "  </tbody>\n",
       "</table>\n",
       "</div>"
      ],
      "text/plain": [
       "  x1 x2\n",
       "0  A  X\n",
       "1  B  X\n",
       "2  A  Y\n",
       "3  B  Y"
      ]
     },
     "execution_count": 17,
     "metadata": {},
     "output_type": "execute_result"
    }
   ],
   "source": [
    "df5 = pd.DataFrame([[\"A\", \"X\"], [\"B\", \"X\"], [\"A\", \"Y\"], [\"B\", \"Y\"]], columns=[\"x1\", \"x2\"])\n",
    "df5"
   ]
  },
  {
   "cell_type": "code",
   "execution_count": 18,
   "metadata": {
    "school_cell_uuid": "aa488864e6d64394b94f766b8d1c6d85"
   },
   "outputs": [
    {
     "data": {
      "text/plain": [
       "DesignMatrix with shape (4, 3)\n",
       "  Intercept  x1[T.B]  x2[T.Y]\n",
       "          1        0        0\n",
       "          1        1        0\n",
       "          1        0        1\n",
       "          1        1        1\n",
       "  Terms:\n",
       "    'Intercept' (column 0)\n",
       "    'x1' (column 1)\n",
       "    'x2' (column 2)"
      ]
     },
     "execution_count": 18,
     "metadata": {},
     "output_type": "execute_result"
    }
   ],
   "source": [
    "dmatrix(\"x1 + x2\", df5)"
   ]
  },
  {
   "cell_type": "markdown",
   "metadata": {
    "school_cell_uuid": "780070d62e2243e79973d6eb2bf5ae40"
   },
   "source": [
    "<img src=\"https://datascienceschool.net/upfiles/69c177d3e0434a8b8c0790c657f10993.png\" width=\"100%\"/>"
   ]
  },
  {
   "cell_type": "markdown",
   "metadata": {
    "school_cell_uuid": "a5ad3a5a8e6246dba63771218c6adb8c",
    "sidetitle": true
   },
   "source": [
    "그림 2.5.3 : 두 개의 범주형 독립변수가 있는 경우"
   ]
  },
  {
   "cell_type": "markdown",
   "metadata": {
    "school_cell_uuid": "cf6455c2c8084d80890027006a9b1c89"
   },
   "source": [
    "### 범주형 독립변수와 실수 독립변수의 상호작용"
   ]
  },
  {
   "cell_type": "markdown",
   "metadata": {
    "school_cell_uuid": "0601b3e5cafc43f09b4e32474c588b42"
   },
   "source": [
    "만약 범주형 변수의 값이 달라질 때 상수항만 달라지는 것이 아니라 다른 독립변수들이 미치는 영향도 달라지는 모형을 원한다면 상호작용(interaction)을 쓰면 된다. 예를 들어 범주형 독립변수 $x_1$과 실수 독립변수 $x_2$를 가지는 회귀모형에서 연속값 독립변수 $x_2$가 미치는 영향 즉 가중치가 범주형 독립변수 $x_1$의 값에 따라 달라진다면 범주형 독립변수를 더미변수 $d_1$으로 인코딩하고 연속값 독립변수 $x_2$는 $d_1$과의 상호작용 항 `d_1:x_2` 를 추가하여 사용한다.\n",
    "\n",
    "\n",
    "이 때 모형은 다음과 같아진다.\n",
    "\n",
    "$$ \n",
    "\\begin{aligned}\n",
    "\\hat{y} \n",
    "&= w_0 + w_{1} x_1 \\cdot w_2 x_2 \\\\\n",
    "&= w_0 + (w_{1A}d_A + w_{1B}d_B) \\cdot (w_2x_2) \\\\\n",
    "&= w_0 + w_{2A} d_A x_2 + w_{2B} d_B  x_2 \\\\\n",
    "\\end{aligned}\n",
    "$$\n",
    "\n",
    "$x_1=A$일 때는 $d_A=1,d_B=0$에서\n",
    "\n",
    "$$ \\hat{y} = w_0 + w_{2A}x_2 $$\n",
    "\n",
    "$x_1=B$일 때는  $d_A=0,d_B=1$에서\n",
    "\n",
    "$$ \\hat{y} = w_0 + w_{2B}x_2 $$\n",
    "\n",
    "이므로 $x_1$ 범주값에 따라 $x_2$의 기울기가 달라지는 모형이 된다."
   ]
  },
  {
   "cell_type": "code",
   "execution_count": 19,
   "metadata": {
    "school_cell_uuid": "2330d955f98344f688bb65a53f2fd184"
   },
   "outputs": [
    {
     "data": {
      "text/html": [
       "<div>\n",
       "<style scoped>\n",
       "    .dataframe tbody tr th:only-of-type {\n",
       "        vertical-align: middle;\n",
       "    }\n",
       "\n",
       "    .dataframe tbody tr th {\n",
       "        vertical-align: top;\n",
       "    }\n",
       "\n",
       "    .dataframe thead th {\n",
       "        text-align: right;\n",
       "    }\n",
       "</style>\n",
       "<table border=\"1\" class=\"dataframe\">\n",
       "  <thead>\n",
       "    <tr style=\"text-align: right;\">\n",
       "      <th></th>\n",
       "      <th>x1</th>\n",
       "      <th>x2</th>\n",
       "    </tr>\n",
       "  </thead>\n",
       "  <tbody>\n",
       "    <tr>\n",
       "      <th>0</th>\n",
       "      <td>A</td>\n",
       "      <td>1</td>\n",
       "    </tr>\n",
       "    <tr>\n",
       "      <th>1</th>\n",
       "      <td>B</td>\n",
       "      <td>2</td>\n",
       "    </tr>\n",
       "    <tr>\n",
       "      <th>2</th>\n",
       "      <td>A</td>\n",
       "      <td>4</td>\n",
       "    </tr>\n",
       "    <tr>\n",
       "      <th>3</th>\n",
       "      <td>B</td>\n",
       "      <td>5</td>\n",
       "    </tr>\n",
       "  </tbody>\n",
       "</table>\n",
       "</div>"
      ],
      "text/plain": [
       "  x1  x2\n",
       "0  A   1\n",
       "1  B   2\n",
       "2  A   4\n",
       "3  B   5"
      ]
     },
     "execution_count": 19,
     "metadata": {},
     "output_type": "execute_result"
    }
   ],
   "source": [
    "df6 = pd.DataFrame([[\"A\", 1], [\"B\", 2], [\"A\", 4], [\"B\", 5]], columns=[\"x1\", \"x2\"])\n",
    "df6"
   ]
  },
  {
   "cell_type": "code",
   "execution_count": 20,
   "metadata": {
    "school_cell_uuid": "9d998339f3ec4cf790080d9f0f7d53cf"
   },
   "outputs": [
    {
     "data": {
      "text/plain": [
       "DesignMatrix with shape (4, 3)\n",
       "  Intercept  C(x1)[A]:x2  C(x1)[B]:x2\n",
       "          1            1            0\n",
       "          1            0            2\n",
       "          1            4            0\n",
       "          1            0            5\n",
       "  Terms:\n",
       "    'Intercept' (column 0)\n",
       "    'C(x1):x2' (columns 1:3)"
      ]
     },
     "execution_count": 20,
     "metadata": {},
     "output_type": "execute_result"
    }
   ],
   "source": [
    "dmatrix(\"C(x1):x2\", df6)"
   ]
  },
  {
   "cell_type": "markdown",
   "metadata": {
    "school_cell_uuid": "f2ed98c5638c49cab4596cb1ac1305f7"
   },
   "source": [
    "<img src=\"https://datascienceschool.net/upfiles/2ff6692d3de949db9a37f0765b6baaab.png\" width=\"100%\"/>"
   ]
  },
  {
   "cell_type": "markdown",
   "metadata": {
    "school_cell_uuid": "a5ad3a5a8e6246dba63771218c6adb8c",
    "sidetitle": true
   },
   "source": [
    "그림 2.5.4 : 범주형 독립변수와 실수 독립변수의 상호작용이 있는 경우"
   ]
  },
  {
   "cell_type": "markdown",
   "metadata": {
    "school_cell_uuid": "9a737c7e05674bbeb0d31b9d433f7722"
   },
   "source": [
    "만약 범주형 독립변수도 종속변수에 영향을 미치고 범주형 독립변수와 실수 독립변수의 상호작용도 종속변수에 영향을 미친다면 모형은 다음과 같아진다.\n",
    "\n",
    "$$ \n",
    "\\begin{aligned}\n",
    "\\hat{y} \n",
    "&= w_{1} x_1 + w_{12} x_1 \\cdot w_2 x_2 \\\\\n",
    "&= (w_{1A}d_A + w_{1B}d_B) + (w_{1A}d_A + w_{1B}d_B)\\cdot (w_2x_2) \\\\\n",
    "&= (w_{1A}d_A + w_{1B}d_B) + (w_{2A}d_A + w_{2B}d_B)x_2 \\\\\n",
    "&= (w_{1A} + w_{2A} x_2)d_A + (w_{2B} + w_{2B}x_2)d_B \\\\\n",
    "\\end{aligned}\n",
    "$$\n",
    "\n",
    "$x_1=A$일 때는 $d_A=1,d_B=0$에서\n",
    "\n",
    "$$ \\hat{y} =w_{1A} + w_{2A}x_2 $$\n",
    "\n",
    "$x_1=B$일 때는  $d_A=0,d_B=1$에서\n",
    "\n",
    "$$ \\hat{y} = w_{1B} + w_{2B}x_2 $$\n",
    "\n",
    "이므로 $x_1$ 범주값에 따라 상수항과 $x_2$의 기울기가 모두 달라지는 모형이 된다."
   ]
  },
  {
   "cell_type": "code",
   "execution_count": 21,
   "metadata": {
    "school_cell_uuid": "0117f44e63c4498b8821d082a4db28e7"
   },
   "outputs": [
    {
     "data": {
      "text/plain": [
       "DesignMatrix with shape (4, 4)\n",
       "  Intercept  C(x1)[T.B]  C(x1)[A]:x2  C(x1)[B]:x2\n",
       "          1           0            1            0\n",
       "          1           1            0            2\n",
       "          1           0            4            0\n",
       "          1           1            0            5\n",
       "  Terms:\n",
       "    'Intercept' (column 0)\n",
       "    'C(x1)' (column 1)\n",
       "    'C(x1):x2' (columns 2:4)"
      ]
     },
     "execution_count": 21,
     "metadata": {},
     "output_type": "execute_result"
    }
   ],
   "source": [
    "dmatrix(\"C(x1) + C(x1):x2\", df6)"
   ]
  },
  {
   "cell_type": "markdown",
   "metadata": {
    "school_cell_uuid": "b65787eb6a7848d4a96b9cb68d611a52"
   },
   "source": [
    "<img src=\"https://datascienceschool.net/upfiles/f093b73d4e964688aab5d86cd54e932f.png\" width=\"100%\"/>"
   ]
  },
  {
   "cell_type": "markdown",
   "metadata": {
    "school_cell_uuid": "a5ad3a5a8e6246dba63771218c6adb8c",
    "sidetitle": true
   },
   "source": [
    "그림 3.5.5 : 범주형 독립변수, 범주형 독립변수와 실수 독립변수의 상호작용 모두 있는 경우"
   ]
  },
  {
   "cell_type": "markdown",
   "metadata": {
    "school_cell_uuid": "9ece6f01709940edb6f02a3c0f542638"
   },
   "source": [
    "또는"
   ]
  },
  {
   "cell_type": "code",
   "execution_count": 22,
   "metadata": {
    "school_cell_uuid": "649112c6cf5e4c9594d0165210965f03"
   },
   "outputs": [
    {
     "data": {
      "text/plain": [
       "DesignMatrix with shape (4, 4)\n",
       "  Intercept  C(x1)[T.B]  x2  C(x1)[T.B]:x2\n",
       "          1           0   1              0\n",
       "          1           1   2              2\n",
       "          1           0   4              0\n",
       "          1           1   5              5\n",
       "  Terms:\n",
       "    'Intercept' (column 0)\n",
       "    'C(x1)' (column 1)\n",
       "    'x2' (column 2)\n",
       "    'C(x1):x2' (column 3)"
      ]
     },
     "execution_count": 22,
     "metadata": {},
     "output_type": "execute_result"
    }
   ],
   "source": [
    "dmatrix(\"C(x1)*x2\", df6)"
   ]
  },
  {
   "cell_type": "markdown",
   "metadata": {
    "school_cell_uuid": "1fdbfde219294a49863f1dadfb9a3696"
   },
   "source": [
    "### 범주형 독립변수의 상호작용"
   ]
  },
  {
   "cell_type": "markdown",
   "metadata": {
    "school_cell_uuid": "b7a5547d4632472b80be3776647d2b84"
   },
   "source": [
    "두 개의 범주형 독립변수가 있고 서로 상호작용이 존재한다면 다음과 같은 모형이 된다. \n",
    "\n",
    "$$ \n",
    "\\begin{aligned}\n",
    "\\hat{y} \n",
    "&= w_1 x_1 \\cdot w_2 x_2 \\\\\n",
    "&= (w_{1A}d_A + w_{1B}d_B) \\cdot (w_{2X}d_X + w_{2Y}d_Y) \\\\\n",
    "&= w_{AX}d_Ad_Y + w_{BX}d_Bd_X + w_{AY}d_Ad_Y + w_{BY}d_Bd_Y \\\\\n",
    "\\end{aligned}\n",
    "$$\n",
    "\n",
    "즉 범주형 독립변수는 하나가 되고 대신 범주형 값이 두 독립변수의 범주형 값들의 조합인 $AX, BX, AY, BY$의 네가지가 된다."
   ]
  },
  {
   "cell_type": "code",
   "execution_count": 23,
   "metadata": {
    "school_cell_uuid": "fb5c6f733d27425f8bef394d7c908bad"
   },
   "outputs": [
    {
     "data": {
      "text/plain": [
       "DesignMatrix with shape (4, 4)\n",
       "  x1[A]:x2[X]  x1[B]:x2[X]  x1[A]:x2[Y]  x1[B]:x2[Y]\n",
       "            1            0            0            0\n",
       "            0            1            0            0\n",
       "            0            0            1            0\n",
       "            0            0            0            1\n",
       "  Terms:\n",
       "    'x1:x2' (columns 0:4)"
      ]
     },
     "execution_count": 23,
     "metadata": {},
     "output_type": "execute_result"
    }
   ],
   "source": [
    "dmatrix(\"x1:x2 + 0\", df5)"
   ]
  },
  {
   "cell_type": "markdown",
   "metadata": {
    "school_cell_uuid": "72865330b4394588b6cc97f2b40d6675"
   },
   "source": [
    "위 모형은 풀랭크 모형이고 축소랭크의 경우는 다음과 같다."
   ]
  },
  {
   "cell_type": "code",
   "execution_count": 24,
   "metadata": {
    "school_cell_uuid": "b223db7ae67040c9851d99e9054e44a8"
   },
   "outputs": [
    {
     "data": {
      "text/plain": [
       "DesignMatrix with shape (4, 4)\n",
       "  Intercept  x2[T.Y]  x1[T.B]:x2[X]  x1[T.B]:x2[Y]\n",
       "          1        0              0              0\n",
       "          1        0              1              0\n",
       "          1        1              0              0\n",
       "          1        1              0              1\n",
       "  Terms:\n",
       "    'Intercept' (column 0)\n",
       "    'x1:x2' (columns 1:4)"
      ]
     },
     "execution_count": 24,
     "metadata": {},
     "output_type": "execute_result"
    }
   ],
   "source": [
    "dmatrix(\"x1:x2\", df5)"
   ]
  }
 ],
 "metadata": {
  "celltoolbar": "Edit Metadata",
  "kernelspec": {
   "display_name": "Python 3",
   "language": "python",
   "name": "python3"
  },
  "language_info": {
   "codemirror_mode": {
    "name": "ipython",
    "version": 3
   },
   "file_extension": ".py",
   "mimetype": "text/x-python",
   "name": "python",
   "nbconvert_exporter": "python",
   "pygments_lexer": "ipython3",
   "version": "3.7.6"
  },
  "toc": {
   "base_numbering": 1,
   "nav_menu": {},
   "number_sections": false,
   "sideBar": true,
   "skip_h1_title": false,
   "title_cell": "Table of Contents",
   "title_sidebar": "Contents",
   "toc_cell": false,
   "toc_position": {},
   "toc_section_display": true,
   "toc_window_display": false
  }
 },
 "nbformat": 4,
 "nbformat_minor": 1
}
