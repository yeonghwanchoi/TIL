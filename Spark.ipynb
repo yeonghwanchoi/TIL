{
 "cells": [
  {
   "cell_type": "code",
   "execution_count": null,
   "metadata": {},
   "outputs": [],
   "source": [
    "hadoop(자바 기반 오픈소스 프레임워크)\n",
    "      \n",
    "MR-MapReduce-HDFS에서 데이터를 mp로 코딩했으나 지금은 spark을 사용\n",
    "YARN-리소스 메니저\n",
    "\n",
    "HDFS-대용량 파일을 분산된 서버에 저장하고, 그 저장된 데이터를 빠르게 처리할 수 있게 하는 파일시스템\n",
    "\n",
    "MapReduce란? : 대용량 데이터를 처리를 위한 분산 프로그래밍 모델 타고난 병행성(병렬 처리 지원)을 내포, \n",
    "        누구든지 임의로 활용할 수 있는 충분한 서버를 이용하여 대규모 데이터 분석 가능 - 흩어져 있는 데이터를 수직화하여, \n",
    "        그 데이터를 각각의 종류 별로 모으고(Map), Filtering과 Sorting을 거쳐 데이터를 뽑아내는(Reduce) 하는 분산처리 기술과 관련 프레임워크를 의미\n",
    "                    "
   ]
  },
  {
   "cell_type": "code",
   "execution_count": null,
   "metadata": {},
   "outputs": [],
   "source": [
    "배울것\n",
    "batch-일괄처리\n",
    "stream-지속적인 데이터 \n"
   ]
  },
  {
   "cell_type": "code",
   "execution_count": null,
   "metadata": {},
   "outputs": [],
   "source": [
    "- HDFS 설치방식 : Mode 3가지\n",
    "-------------------------------------------------------------------------------\n",
    "- Stand alone (독립실행모드) : 기본 실행모드.... 분산저장 안함.... 코딩은 가능....\n",
    "- Pseudo-distributed (가상분산모드) : 하나의 컴퓨터에 설치해 여러 클러스터가 하나의 서버에서 돌아가는 것 \n",
    "- Fully distributed (완전분산모드) : 여러 대의 컴퓨터에 설치....\n"
   ]
  },
  {
   "cell_type": "code",
   "execution_count": null,
   "metadata": {},
   "outputs": [],
   "source": [
    "hadoop-env.sh(환경)설정\n",
    "vi /kikang/hadoop3/etc/hadoop/hadoop-env.sh\n",
    "master namenode = 각 분산한 데이터들의 디렉토리를 관리하는 마스터 네임노드\n",
    "    resource manager = 네임노드의 디렉토리를 관리\n",
    "slave(worker) datanode = 각 분산된 데이터들이 저장되어 있는 곳 \n",
    "nodemanager= 각 데이터 노드의 데이터만 관리\n",
    "\n",
    "seonderdary namen node= 백업용\n"
   ]
  },
  {
   "cell_type": "code",
   "execution_count": null,
   "metadata": {},
   "outputs": [],
   "source": [
    "설정파일들\n",
    "\n",
    "hadoop: core-site.xml(설정파일) ha\n",
    "hadoop:env.sh(환경설정,실행파일): 실행을 하면 env에 설정되어 있는 설정이 구성되고 hadoop 실행됨\n",
    "\n",
    "hdfs(store)\n",
    "hdfs-site.xml\n",
    "namenode, datanode, secondary namenode\n",
    "\n",
    "mr(mapreduce)=>spark\n",
    "narored-site\n",
    ":"
   ]
  },
  {
   "cell_type": "code",
   "execution_count": null,
   "metadata": {},
   "outputs": [],
   "source": [
    "리눅스 : bin 명령어들 모임 "
   ]
  },
  {
   "cell_type": "code",
   "execution_count": null,
   "metadata": {},
   "outputs": [],
   "source": []
  }
 ],
 "metadata": {
  "kernelspec": {
   "display_name": "Python 3",
   "language": "python",
   "name": "python3"
  },
  "language_info": {
   "codemirror_mode": {
    "name": "ipython",
    "version": 3
   },
   "file_extension": ".py",
   "mimetype": "text/x-python",
   "name": "python",
   "nbconvert_exporter": "python",
   "pygments_lexer": "ipython3",
   "version": "3.7.6"
  }
 },
 "nbformat": 4,
 "nbformat_minor": 4
}
