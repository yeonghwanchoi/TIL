{
 "cells": [
  {
   "cell_type": "code",
   "execution_count": null,
   "metadata": {},
   "outputs": [],
   "source": [
    "hadoop \n",
    "      \n",
    "HDFS-하둡분산파일시스템-오픈소스 파일을 여러 서버에 조각 내어 저장 \n",
    "MR-MapReduce-HDFS에서 데이터를 mp로 코딩했으나 지금은 spark을 사용\n",
    "YARN-리소스 메니저\n",
    "배울것\n",
    "batch-일괄처리\n",
    "stream-지속적인 데이터 "
   ]
  },
  {
   "cell_type": "code",
   "execution_count": null,
   "metadata": {},
   "outputs": [],
   "source": [
    "- HDFS 설치방식 : Mode 3가지\n",
    "-------------------------------------------------------------------------------\n",
    "- Stand alone (독립실행모드) : 기본 실행모드.... 분산저장 안함.... 코딩은 가능....\n",
    "- Pseudo-distributed (가상분산모드) : 하나의 컴퓨터에 설치해 여러 클러스터가 하나의 서버에서 돌아가는 것 \n",
    "- Fully distributed (완전분산모드) : 여러 대의 컴퓨터에 설치....\n"
   ]
  },
  {
   "cell_type": "code",
   "execution_count": null,
   "metadata": {},
   "outputs": [],
   "source": [
    "hadoop-env.sh(환경)설정\n",
    "vi /kikang/hadoop3/etc/hadoop/hadoop-env.sh\n",
    "master namenode = 각 분산한 데이터들의 디렉토리를 관리하는 마스터 네임노드\n",
    "resource manager = 네임노드의 디렉토리를 관리\n",
    "slave(worker) datanode = 각 분산된 데이터들이 저장되어 있는 곳 \n",
    "nodemanager= 각 데이터 노드의 데이터만 관리\n",
    "\n",
    "seonderdary namen node= 백업용\n"
   ]
  },
  {
   "cell_type": "code",
   "execution_count": null,
   "metadata": {},
   "outputs": [],
   "source": [
    "리눅스 : bin 명령어들 모임 "
   ]
  },
  {
   "cell_type": "code",
   "execution_count": null,
   "metadata": {},
   "outputs": [],
   "source": []
  }
 ],
 "metadata": {
  "kernelspec": {
   "display_name": "Python 3",
   "language": "python",
   "name": "python3"
  },
  "language_info": {
   "codemirror_mode": {
    "name": "ipython",
    "version": 3
   },
   "file_extension": ".py",
   "mimetype": "text/x-python",
   "name": "python",
   "nbconvert_exporter": "python",
   "pygments_lexer": "ipython3",
   "version": "3.7.6"
  }
 },
 "nbformat": 4,
 "nbformat_minor": 4
}
