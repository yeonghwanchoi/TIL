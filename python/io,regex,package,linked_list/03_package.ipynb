{
 "cells": [
  {
   "cell_type": "markdown",
   "metadata": {
    "slideshow": {
     "slide_type": "slide"
    }
   },
   "source": [
    "## 패키지 - package\n",
    "\n",
    "- 패키지는 디렉토리와 모듈로 구성되어 있습니다.\n",
    "- 패키지에서 디렉토리에는 `__init__.py` 파일이 있어야 합니다. (python3.3 버전 이후에는 없어도 됩니다.)\n",
    "    - 하지만 호환성을 위해서 반드시 파일을 추가해 주세요."
   ]
  },
  {
   "cell_type": "markdown",
   "metadata": {
    "slideshow": {
     "slide_type": "-"
    }
   },
   "source": [
    "1. 디렉토리 만들기\n",
    "2. __init__ 파일 추가\n",
    "3. 모듈 작성\n",
    "4. import\n",
    "5. alias\n",
    "6. from import\n",
    "7. __init__.py\n",
    "8. default import package path\n",
    "9. setuptools : 패키지 만들어 설치하기"
   ]
  },
  {
   "cell_type": "markdown",
   "metadata": {
    "slideshow": {
     "slide_type": "slide"
    }
   },
   "source": [
    "### 1. 디렉토리 만들기"
   ]
  },
  {
   "cell_type": "markdown",
   "metadata": {},
   "source": [
    "윈도우는 디렉토리 구분을 `\\`로 해주세요."
   ]
  },
  {
   "cell_type": "markdown",
   "metadata": {},
   "source": [
    "윈도우는 아래의 명령으로 생성해주세요\n",
    "```\n",
    "!mkdir calc\n",
    "!mkdir calc\\pm # plus, minus\n",
    "!mkdir calc\\md # multiply, division\n",
    "```"
   ]
  },
  {
   "cell_type": "code",
   "execution_count": 1,
   "metadata": {},
   "outputs": [],
   "source": [
    "!rm -rf calc\n",
    "!mkdir -p calc/pm\n",
    "!mkdir -p calc/md"
   ]
  },
  {
   "cell_type": "markdown",
   "metadata": {
    "slideshow": {
     "slide_type": "slide"
    }
   },
   "source": [
    "tree 가 설치되어 있지 않으면 아래의 명령이 실행되지 않습니다.\n",
    "- mac 설치방법 : brew install tree"
   ]
  },
  {
   "cell_type": "code",
   "execution_count": 2,
   "metadata": {},
   "outputs": [
    {
     "name": "stdout",
     "output_type": "stream",
     "text": [
      "\u001b[01;34mcalc\u001b[00m\r\n",
      "├── \u001b[01;34mmd\u001b[00m\r\n",
      "└── \u001b[01;34mpm\u001b[00m\r\n",
      "\r\n",
      "2 directories, 0 files\r\n"
     ]
    }
   ],
   "source": [
    "!tree calc"
   ]
  },
  {
   "cell_type": "markdown",
   "metadata": {
    "slideshow": {
     "slide_type": "slide"
    }
   },
   "source": [
    "### 2. \\_\\_init\\_\\_ 파일 추가"
   ]
  },
  {
   "cell_type": "code",
   "execution_count": 3,
   "metadata": {},
   "outputs": [],
   "source": [
    "!touch calc/__init__.py\n",
    "!touch calc/pm/__init__.py\n",
    "!touch calc/md/__init__.py"
   ]
  },
  {
   "cell_type": "code",
   "execution_count": 4,
   "metadata": {},
   "outputs": [
    {
     "name": "stdout",
     "output_type": "stream",
     "text": [
      "\u001b[01;34mcalc\u001b[00m\r\n",
      "├── __init__.py\r\n",
      "├── \u001b[01;34mmd\u001b[00m\r\n",
      "│   └── __init__.py\r\n",
      "└── \u001b[01;34mpm\u001b[00m\r\n",
      "    └── __init__.py\r\n",
      "\r\n",
      "2 directories, 3 files\r\n"
     ]
    }
   ],
   "source": [
    "!tree calc"
   ]
  },
  {
   "cell_type": "markdown",
   "metadata": {
    "slideshow": {
     "slide_type": "slide"
    }
   },
   "source": [
    "### 3. 모듈 작성"
   ]
  },
  {
   "cell_type": "code",
   "execution_count": 5,
   "metadata": {},
   "outputs": [
    {
     "name": "stdout",
     "output_type": "stream",
     "text": [
      "Writing calc/pm/plus.py\n"
     ]
    }
   ],
   "source": [
    "%%writefile calc/pm/plus.py\n",
    "\n",
    "def plus_func(*args):\n",
    "    print(\"plus\")\n",
    "    return sum(args)"
   ]
  },
  {
   "cell_type": "code",
   "execution_count": 6,
   "metadata": {},
   "outputs": [
    {
     "name": "stdout",
     "output_type": "stream",
     "text": [
      "Writing calc/pm/minus.py\n"
     ]
    }
   ],
   "source": [
    "%%writefile calc/pm/minus.py\n",
    "\n",
    "def minus_func(num1, num2):\n",
    "    print(\"minus\")\n",
    "    return num1 - num2"
   ]
  },
  {
   "cell_type": "code",
   "execution_count": 7,
   "metadata": {
    "slideshow": {
     "slide_type": "slide"
    }
   },
   "outputs": [
    {
     "data": {
      "text/plain": [
       "15"
      ]
     },
     "execution_count": 7,
     "metadata": {},
     "output_type": "execute_result"
    }
   ],
   "source": [
    "from functools import reduce\n",
    "ls = [3, 1, 5, 2, 4]\n",
    "\n",
    "reduce(lambda x, y: x + y, ls)"
   ]
  },
  {
   "cell_type": "code",
   "execution_count": 8,
   "metadata": {},
   "outputs": [
    {
     "data": {
      "text/plain": [
       "120"
      ]
     },
     "execution_count": 8,
     "metadata": {},
     "output_type": "execute_result"
    }
   ],
   "source": [
    "from functools import reduce\n",
    "\n",
    "def multiply_func(*args):\n",
    "    return reduce(lambda x, y: x * y, args)\n",
    "\n",
    "multiply_func(1, 2, 3, 4, 5)"
   ]
  },
  {
   "cell_type": "code",
   "execution_count": 9,
   "metadata": {},
   "outputs": [
    {
     "name": "stdout",
     "output_type": "stream",
     "text": [
      "Writing calc/md/multiply.py\n"
     ]
    }
   ],
   "source": [
    "%%writefile calc/md/multiply.py\n",
    "from functools import reduce\n",
    "\n",
    "def multiply_func(*args):\n",
    "    print(\"multiply\")\n",
    "    return reduce(lambda x, y: x * y, args)"
   ]
  },
  {
   "cell_type": "code",
   "execution_count": 10,
   "metadata": {},
   "outputs": [
    {
     "name": "stdout",
     "output_type": "stream",
     "text": [
      "Writing calc/md/division.py\n"
     ]
    }
   ],
   "source": [
    "%%writefile calc/md/division.py\n",
    "\n",
    "def division_func(num1, num2):\n",
    "    print(\"division\")\n",
    "    return num1 / num2"
   ]
  },
  {
   "cell_type": "code",
   "execution_count": 11,
   "metadata": {
    "slideshow": {
     "slide_type": "slide"
    }
   },
   "outputs": [
    {
     "name": "stdout",
     "output_type": "stream",
     "text": [
      "\u001b[01;34mcalc\u001b[00m\r\n",
      "├── __init__.py\r\n",
      "├── \u001b[01;34mmd\u001b[00m\r\n",
      "│   ├── __init__.py\r\n",
      "│   ├── division.py\r\n",
      "│   └── multiply.py\r\n",
      "└── \u001b[01;34mpm\u001b[00m\r\n",
      "    ├── __init__.py\r\n",
      "    ├── minus.py\r\n",
      "    └── plus.py\r\n",
      "\r\n",
      "2 directories, 7 files\r\n"
     ]
    }
   ],
   "source": [
    "!tree calc"
   ]
  },
  {
   "cell_type": "code",
   "execution_count": 12,
   "metadata": {},
   "outputs": [
    {
     "name": "stdout",
     "output_type": "stream",
     "text": [
      "Once deleted, variables cannot be recovered. Proceed (y/[n])? y\n"
     ]
    }
   ],
   "source": [
    "%reset"
   ]
  },
  {
   "cell_type": "markdown",
   "metadata": {
    "slideshow": {
     "slide_type": "slide"
    }
   },
   "source": [
    "### 4. import 모듈, 패키지\n",
    "import에서 가장 마지막은 모듈이어야 합니다."
   ]
  },
  {
   "cell_type": "code",
   "execution_count": 13,
   "metadata": {},
   "outputs": [],
   "source": [
    "import calc.pm.plus"
   ]
  },
  {
   "cell_type": "code",
   "execution_count": 14,
   "metadata": {},
   "outputs": [
    {
     "name": "stdout",
     "output_type": "stream",
     "text": [
      "Variable   Type      Data/Info\n",
      "------------------------------\n",
      "calc       module    <module 'calc' from '/Use<...>n/test/calc/__init__.py'>\n"
     ]
    }
   ],
   "source": [
    "%whos"
   ]
  },
  {
   "cell_type": "code",
   "execution_count": 15,
   "metadata": {},
   "outputs": [
    {
     "name": "stdout",
     "output_type": "stream",
     "text": [
      "plus\n"
     ]
    },
    {
     "data": {
      "text/plain": [
       "6"
      ]
     },
     "execution_count": 15,
     "metadata": {},
     "output_type": "execute_result"
    }
   ],
   "source": [
    "calc.pm.plus.plus_func(1, 2, 3)"
   ]
  },
  {
   "cell_type": "markdown",
   "metadata": {
    "slideshow": {
     "slide_type": "slide"
    }
   },
   "source": [
    "### 5. alias\n",
    "`as` 예약어로 alias를 사용하면 길이가 긴 모듈이름을 줄일수 있습니다. "
   ]
  },
  {
   "cell_type": "code",
   "execution_count": 16,
   "metadata": {},
   "outputs": [],
   "source": [
    "import calc.pm.plus as alias"
   ]
  },
  {
   "cell_type": "code",
   "execution_count": 17,
   "metadata": {},
   "outputs": [
    {
     "name": "stdout",
     "output_type": "stream",
     "text": [
      "plus\n"
     ]
    },
    {
     "data": {
      "text/plain": [
       "6"
      ]
     },
     "execution_count": 17,
     "metadata": {},
     "output_type": "execute_result"
    }
   ],
   "source": [
    "alias.plus_func(1, 2, 3)"
   ]
  },
  {
   "cell_type": "code",
   "execution_count": 18,
   "metadata": {},
   "outputs": [],
   "source": [
    "import calc.md.division as div"
   ]
  },
  {
   "cell_type": "code",
   "execution_count": 19,
   "metadata": {},
   "outputs": [
    {
     "name": "stdout",
     "output_type": "stream",
     "text": [
      "division\n"
     ]
    },
    {
     "data": {
      "text/plain": [
       "5.0"
      ]
     },
     "execution_count": 19,
     "metadata": {},
     "output_type": "execute_result"
    }
   ],
   "source": [
    "div.division_func(10, 2)"
   ]
  },
  {
   "cell_type": "code",
   "execution_count": 20,
   "metadata": {},
   "outputs": [
    {
     "name": "stdout",
     "output_type": "stream",
     "text": [
      "Once deleted, variables cannot be recovered. Proceed (y/[n])? \n",
      "Nothing done.\n"
     ]
    }
   ],
   "source": [
    "%reset"
   ]
  },
  {
   "cell_type": "markdown",
   "metadata": {
    "slideshow": {
     "slide_type": "slide"
    }
   },
   "source": [
    "### 6. from을 이용하여 모듈을 import\n",
    "`from`을 이용하여 모듈을 import\n",
    "```    \n",
    "from (패키지) import (모듈)\n",
    "```"
   ]
  },
  {
   "cell_type": "code",
   "execution_count": 21,
   "metadata": {},
   "outputs": [],
   "source": [
    "from calc.md import multiply"
   ]
  },
  {
   "cell_type": "code",
   "execution_count": 22,
   "metadata": {},
   "outputs": [
    {
     "name": "stdout",
     "output_type": "stream",
     "text": [
      "multiply\n"
     ]
    },
    {
     "data": {
      "text/plain": [
       "24"
      ]
     },
     "execution_count": 22,
     "metadata": {},
     "output_type": "execute_result"
    }
   ],
   "source": [
    "multiply.multiply_func(2, 3, 4)"
   ]
  },
  {
   "cell_type": "markdown",
   "metadata": {
    "slideshow": {
     "slide_type": "slide"
    }
   },
   "source": [
    "### 7. \\_\\_init\\_\\_.py\n",
    "`__all__` 변수에 리스트로 import할 모듈의 이름을 나열하면 모듈의 import를 `import *`로 import할때 나열된 모듈만 import 됩니다."
   ]
  },
  {
   "cell_type": "markdown",
   "metadata": {},
   "source": [
    "calc.md의 multiply, division 모듈을 import"
   ]
  },
  {
   "cell_type": "code",
   "execution_count": 23,
   "metadata": {},
   "outputs": [
    {
     "name": "stdout",
     "output_type": "stream",
     "text": [
      "Overwriting calc/md/__init__.py\n"
     ]
    }
   ],
   "source": [
    "%%writefile calc/md/__init__.py\n",
    "\n",
    "__all__ = [\"multiply\", \"division\"]"
   ]
  },
  {
   "cell_type": "code",
   "execution_count": 24,
   "metadata": {},
   "outputs": [],
   "source": [
    "# __all__ 파일을 변경후에는 kernel restart를 해줘야 정상적으로 적용됩니다.\n",
    "from calc.md import *"
   ]
  },
  {
   "cell_type": "code",
   "execution_count": 25,
   "metadata": {},
   "outputs": [
    {
     "name": "stdout",
     "output_type": "stream",
     "text": [
      "Variable   Type      Data/Info\n",
      "------------------------------\n",
      "alias      module    <module 'calc.pm.plus' fr<...>on/test/calc/pm/plus.py'>\n",
      "calc       module    <module 'calc' from '/Use<...>n/test/calc/__init__.py'>\n",
      "div        module    <module 'calc.md.division<...>est/calc/md/division.py'>\n",
      "division   module    <module 'calc.md.division<...>est/calc/md/division.py'>\n",
      "multiply   module    <module 'calc.md.multiply<...>est/calc/md/multiply.py'>\n"
     ]
    }
   ],
   "source": [
    "%whos"
   ]
  },
  {
   "cell_type": "markdown",
   "metadata": {
    "slideshow": {
     "slide_type": "slide"
    }
   },
   "source": [
    "python의 data2 모듈을 import"
   ]
  },
  {
   "cell_type": "code",
   "execution_count": 26,
   "metadata": {},
   "outputs": [
    {
     "name": "stdout",
     "output_type": "stream",
     "text": [
      "Overwriting calc/md/__init__.py\n"
     ]
    }
   ],
   "source": [
    "%%writefile calc/md/__init__.py\n",
    "\n",
    "__all__ = [\"division\"]"
   ]
  },
  {
   "cell_type": "code",
   "execution_count": 27,
   "metadata": {},
   "outputs": [],
   "source": [
    "# __all__ 파일을 변경후에는 kernel restart를 해줘야 정상적으로 적용됩니다.\n",
    "from calc.md import *"
   ]
  },
  {
   "cell_type": "code",
   "execution_count": 28,
   "metadata": {},
   "outputs": [
    {
     "name": "stdout",
     "output_type": "stream",
     "text": [
      "Variable   Type      Data/Info\n",
      "------------------------------\n",
      "alias      module    <module 'calc.pm.plus' fr<...>on/test/calc/pm/plus.py'>\n",
      "calc       module    <module 'calc' from '/Use<...>n/test/calc/__init__.py'>\n",
      "div        module    <module 'calc.md.division<...>est/calc/md/division.py'>\n",
      "division   module    <module 'calc.md.division<...>est/calc/md/division.py'>\n",
      "multiply   module    <module 'calc.md.multiply<...>est/calc/md/multiply.py'>\n"
     ]
    }
   ],
   "source": [
    "%whos"
   ]
  },
  {
   "cell_type": "markdown",
   "metadata": {
    "slideshow": {
     "slide_type": "slide"
    }
   },
   "source": [
    "### 8. default import package path\n",
    "- 기본적으로 python에 있는 패키지의 경로와 어떤 default 패키지들이 있는지 확인합니다."
   ]
  },
  {
   "cell_type": "code",
   "execution_count": 29,
   "metadata": {},
   "outputs": [
    {
     "name": "stdout",
     "output_type": "stream",
     "text": [
      "/Users/rada/Documents/lecture/dss/dss_15/01_python/test\n",
      "/usr/local/anaconda3/lib/python37.zip\n",
      "/usr/local/anaconda3/lib/python3.7\n",
      "/usr/local/anaconda3/lib/python3.7/lib-dynload\n",
      "\n",
      "/usr/local/anaconda3/lib/python3.7/site-packages\n",
      "/Users/rada/Documents/lecture/dss/dss_14/test/mypack\n",
      "/usr/local/anaconda3/lib/python3.7/site-packages/IPython/extensions\n",
      "/Users/rada/.ipython\n"
     ]
    }
   ],
   "source": [
    "import sys\n",
    "\n",
    "for path in sys.path:\n",
    "    print(path)"
   ]
  },
  {
   "cell_type": "code",
   "execution_count": 30,
   "metadata": {},
   "outputs": [
    {
     "data": {
      "text/plain": [
       "211"
      ]
     },
     "execution_count": 30,
     "metadata": {},
     "output_type": "execute_result"
    }
   ],
   "source": [
    "# 패키지 확인\n",
    "packages = !ls /usr/local/anaconda3/lib/python3.7\n",
    "len(packages)"
   ]
  },
  {
   "cell_type": "code",
   "execution_count": 31,
   "metadata": {
    "slideshow": {
     "slide_type": "skip"
    }
   },
   "outputs": [
    {
     "name": "stdout",
     "output_type": "stream",
     "text": [
      "['warnings.py', 'wave.py', 'weakref.py', 'webbrowser.py', 'wsgiref', 'xdrlib.py', 'xml', 'xmlrpc', 'zipapp.py', 'zipfile.py']\n"
     ]
    }
   ],
   "source": [
    "print(packages[-10:])"
   ]
  },
  {
   "cell_type": "markdown",
   "metadata": {
    "slideshow": {
     "slide_type": "slide"
    }
   },
   "source": [
    ".py가 들어가고 가장 앞이 _가 없는 패키지를 필터링"
   ]
  },
  {
   "cell_type": "code",
   "execution_count": 32,
   "metadata": {},
   "outputs": [
    {
     "data": {
      "text/plain": [
       "155"
      ]
     },
     "execution_count": 32,
     "metadata": {},
     "output_type": "execute_result"
    }
   ],
   "source": [
    "packages = [\n",
    "    package\n",
    "    for package in packages\n",
    "    if package.endswith(\".py\") and package[0] != \"_\"\n",
    "]\n",
    "len(packages)"
   ]
  },
  {
   "cell_type": "code",
   "execution_count": 33,
   "metadata": {},
   "outputs": [
    {
     "data": {
      "text/plain": [
       "True"
      ]
     },
     "execution_count": 33,
     "metadata": {},
     "output_type": "execute_result"
    }
   ],
   "source": [
    "# random.py 가 있는지 확인\n",
    "\"random.py\" in packages"
   ]
  },
  {
   "cell_type": "markdown",
   "metadata": {
    "slideshow": {
     "slide_type": "slide"
    }
   },
   "source": [
    "### 9. 패키지 만들어 설치하기 - setuptools\n",
    "\n",
    "- setuptools 모듈을 이용하여 내가 만든 패키지를 설치할수 있습니다.\n",
    "    - `https://pypi.org/project/setuptools/`\n",
    "- 실제 pip에 업로드를 하려면 `https://pypi.org/` 에 계정을 만들어 테스트를 통과 한후에 업로드를 해야 합니다."
   ]
  },
  {
   "cell_type": "markdown",
   "metadata": {},
   "source": [
    "1. mypack 패키지 생성\n",
    "2. setup.py 설정\n",
    "3. mypack 모듈 만들기\n",
    "4. 패키지 구조확인\n",
    "5. 패키지 설치\n",
    "6. 패키지 설치 확인\n",
    "7. 다른 경로에서 아래와 같이 코드 실행해도 코드 동작 확인\n",
    "8. 패키지 언인스톨"
   ]
  },
  {
   "cell_type": "markdown",
   "metadata": {
    "slideshow": {
     "slide_type": "slide"
    }
   },
   "source": [
    "#### 1. mypack 패키지 생성"
   ]
  },
  {
   "cell_type": "code",
   "execution_count": 34,
   "metadata": {},
   "outputs": [],
   "source": [
    "!rm -rf mypack\n",
    "!mkdir -p mypack/mypack\n",
    "!mkdir -p mypack/mypack/mypack1\n",
    "!mkdir -p mypack/mypack/mypack2\n",
    "!touch mypack/setup.py"
   ]
  },
  {
   "cell_type": "markdown",
   "metadata": {
    "slideshow": {
     "slide_type": "-"
    }
   },
   "source": [
    "#### 2. setup.py 설정"
   ]
  },
  {
   "cell_type": "code",
   "execution_count": 35,
   "metadata": {},
   "outputs": [
    {
     "name": "stdout",
     "output_type": "stream",
     "text": [
      "Overwriting mypack/setup.py\n"
     ]
    }
   ],
   "source": [
    "%%writefile mypack/setup.py\n",
    "\n",
    "from setuptools import setup, find_packages\n",
    "\n",
    "setup(\n",
    "    name='mypack',\n",
    "    version='0.0.1',\n",
    "    author='DoojinPark',\n",
    "    author_email='pdj1224@gmail.com',\n",
    "    packages=find_packages(),\n",
    "    include_package_data=True,\n",
    ")"
   ]
  },
  {
   "cell_type": "markdown",
   "metadata": {
    "slideshow": {
     "slide_type": "slide"
    }
   },
   "source": [
    "#### 3. mypack 모듈 만들기"
   ]
  },
  {
   "cell_type": "code",
   "execution_count": 36,
   "metadata": {},
   "outputs": [
    {
     "name": "stdout",
     "output_type": "stream",
     "text": [
      "Writing mypack/mypack/mypack1/calc1.py\n"
     ]
    }
   ],
   "source": [
    "%%writefile mypack/mypack/mypack1/calc1.py\n",
    "\n",
    "def plus(num1, num2):\n",
    "    print(\"mypack1 plus\")\n",
    "    return num1 + num2"
   ]
  },
  {
   "cell_type": "code",
   "execution_count": 37,
   "metadata": {},
   "outputs": [
    {
     "name": "stdout",
     "output_type": "stream",
     "text": [
      "Writing mypack/mypack/mypack2/calc2.py\n"
     ]
    }
   ],
   "source": [
    "%%writefile mypack/mypack/mypack2/calc2.py\n",
    "\n",
    "def minus(num1, num2):\n",
    "    print(\"mypack2 minus\")\n",
    "    return num1 + num2"
   ]
  },
  {
   "cell_type": "code",
   "execution_count": 38,
   "metadata": {},
   "outputs": [
    {
     "name": "stdout",
     "output_type": "stream",
     "text": [
      "Writing mypack/mypack/__init__.py\n"
     ]
    }
   ],
   "source": [
    "%%writefile mypack/mypack/__init__.py\n",
    "\n",
    "from .mypack1.calc1 import plus\n",
    "from .mypack2.calc2 import minus"
   ]
  },
  {
   "cell_type": "markdown",
   "metadata": {
    "slideshow": {
     "slide_type": "slide"
    }
   },
   "source": [
    "#### 4. 패키지 구조확인"
   ]
  },
  {
   "cell_type": "code",
   "execution_count": 39,
   "metadata": {},
   "outputs": [
    {
     "name": "stdout",
     "output_type": "stream",
     "text": [
      "\u001b[01;34mmypack\u001b[00m\r\n",
      "├── \u001b[01;34mmypack\u001b[00m\r\n",
      "│   ├── __init__.py\r\n",
      "│   ├── \u001b[01;34mmypack1\u001b[00m\r\n",
      "│   │   └── calc1.py\r\n",
      "│   └── \u001b[01;34mmypack2\u001b[00m\r\n",
      "│       └── calc2.py\r\n",
      "└── setup.py\r\n",
      "\r\n",
      "3 directories, 4 files\r\n"
     ]
    }
   ],
   "source": [
    "!tree mypack"
   ]
  },
  {
   "cell_type": "markdown",
   "metadata": {
    "slideshow": {
     "slide_type": "slide"
    }
   },
   "source": [
    "#### 5. 패키지 설치"
   ]
  },
  {
   "cell_type": "code",
   "execution_count": 40,
   "metadata": {},
   "outputs": [
    {
     "name": "stdout",
     "output_type": "stream",
     "text": [
      "Obtaining file:///Users/rada/Documents/lecture/dss/dss_15/01_python/test/mypack\n",
      "Installing collected packages: mypack\n",
      "  Attempting uninstall: mypack\n",
      "    Found existing installation: mypack 0.0.1\n",
      "    Uninstalling mypack-0.0.1:\n",
      "      Successfully uninstalled mypack-0.0.1\n",
      "  Running setup.py develop for mypack\n",
      "Successfully installed mypack\n"
     ]
    }
   ],
   "source": [
    "!pip install -e mypack/"
   ]
  },
  {
   "cell_type": "markdown",
   "metadata": {
    "slideshow": {
     "slide_type": "slide"
    }
   },
   "source": [
    "#### 6. 패키지 설치 확인"
   ]
  },
  {
   "cell_type": "code",
   "execution_count": 41,
   "metadata": {},
   "outputs": [
    {
     "name": "stdout",
     "output_type": "stream",
     "text": [
      "mypack                            0.0.1               /Users/rada/Documents/lecture/dss/dss_15/01_python/test/mypack\r\n"
     ]
    }
   ],
   "source": [
    "!pip list | grep mypack"
   ]
  },
  {
   "cell_type": "markdown",
   "metadata": {},
   "source": [
    "#### 7. 다른 경로에서 아래와 같이 코드 실행해도 코드 동작 확인"
   ]
  },
  {
   "cell_type": "markdown",
   "metadata": {},
   "source": [
    "```\n",
    "import mypack\n",
    "\n",
    "result = mypack.plus(1, 2)\n",
    "print(result)\n",
    "```"
   ]
  },
  {
   "cell_type": "markdown",
   "metadata": {
    "slideshow": {
     "slide_type": "-"
    }
   },
   "source": [
    "#### 8. 패키지 언인스톨"
   ]
  },
  {
   "cell_type": "code",
   "execution_count": 42,
   "metadata": {},
   "outputs": [
    {
     "name": "stdout",
     "output_type": "stream",
     "text": [
      "Found existing installation: mypack 0.0.1\n",
      "Uninstalling mypack-0.0.1:\n",
      "  Successfully uninstalled mypack-0.0.1\n"
     ]
    }
   ],
   "source": [
    "!pip uninstall -y mypack"
   ]
  },
  {
   "cell_type": "code",
   "execution_count": 43,
   "metadata": {},
   "outputs": [],
   "source": [
    "!pip list | grep mypack"
   ]
  }
 ],
 "metadata": {
  "kernelspec": {
   "display_name": "Python 3",
   "language": "python",
   "name": "python3"
  },
  "language_info": {
   "codemirror_mode": {
    "name": "ipython",
    "version": 3
   },
   "file_extension": ".py",
   "mimetype": "text/x-python",
   "name": "python",
   "nbconvert_exporter": "python",
   "pygments_lexer": "ipython3",
   "version": "3.7.6"
  }
 },
 "nbformat": 4,
 "nbformat_minor": 4
}
