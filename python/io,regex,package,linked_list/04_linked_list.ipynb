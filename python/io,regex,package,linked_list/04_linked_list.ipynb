{
 "cells": [
  {
   "cell_type": "markdown",
   "metadata": {},
   "source": [
    "#### 얕은복사와 깊은복사\n",
    "- 객체 타입 종류 : mutable, immutable\n",
    "- immutable \n",
    "    - int, float, str, bool\n",
    "    - = 연산자를 쓰고 다른 값을 대입하면 새로운 메모리 생성\n",
    "- mutable\n",
    "    - list, tuple, dict, set\n",
    "    - = 연산자를 쓰면 주소값이 복사"
   ]
  },
  {
   "cell_type": "code",
   "execution_count": 1,
   "metadata": {},
   "outputs": [],
   "source": [
    "# immutable\n",
    "data1 = 1\n",
    "data2 = data1\n",
    "data3 = 1\n",
    "data4 = 2"
   ]
  },
  {
   "cell_type": "code",
   "execution_count": 2,
   "metadata": {},
   "outputs": [
    {
     "data": {
      "text/plain": [
       "(4392830080, 4392830080, 4392830080, 4392830112)"
      ]
     },
     "execution_count": 2,
     "metadata": {},
     "output_type": "execute_result"
    }
   ],
   "source": [
    "id(data1), id(data2), id(data3), id(data4)"
   ]
  },
  {
   "cell_type": "code",
   "execution_count": 1,
   "metadata": {},
   "outputs": [],
   "source": [
    "#[1](96) <- data1, data2,data3\n",
    "#[2](28) <- data4\n",
    "#[1](96)<-[96](data1)"
   ]
  },
  {
   "cell_type": "code",
   "execution_count": 3,
   "metadata": {},
   "outputs": [],
   "source": [
    "# mutable\n",
    "data1 = [1, 2, 3]\n",
    "data2 = data1 # 얕은 복사 : 주소 복사 : call by reference\n",
    "data3 = [1, 2, 3]\n",
    "data4 = data1.copy() # 깊은 복사 : 값 복사 : call by value"
   ]
  },
  {
   "cell_type": "code",
   "execution_count": 4,
   "metadata": {},
   "outputs": [
    {
     "data": {
      "text/plain": [
       "(140647945900592, 140647945900592, 140647994873968, 140647995591248)"
      ]
     },
     "execution_count": 4,
     "metadata": {},
     "output_type": "execute_result"
    }
   ],
   "source": [
    "id(data1), id(data2), id(data3), id(data4)"
   ]
  },
  {
   "cell_type": "markdown",
   "metadata": {},
   "source": [
    "#### 클래스\n",
    "- 코드의 규모가 커져서 변수, 함수를 묶어서 사용\n",
    "- 코드의 규모가 커져서 여러명이 효율적으로 개발하는 방법인 객체지향을 구현\n",
    "- 객체지향 : 실제세계를 모델링해서 개발하는 방법\n",
    "- 객체에는 변수와 메서드가 있다.\n",
    "- 클래스로 만들어진 객체 > mutable"
   ]
  },
  {
   "cell_type": "code",
   "execution_count": 40,
   "metadata": {},
   "outputs": [],
   "source": [
    "# 생성자, 상속, super, getter-setter, private, spacial method"
   ]
  },
  {
   "cell_type": "markdown",
   "metadata": {},
   "source": [
    "#### 링크드 리스트\n",
    "- RAM 영역의 자료구조에서 객체의 데이터와 주소값에 대한 이해하는데 좋은 알고리즘\n",
    "- RAM 영역의 자료구조를 잘 알아야 RAM을 효율적으로 사용할수 있는 코드를 작성할수 있다.\n",
    "- 코딩 테스트에 잘 나오는 기본적인 문제\n",
    "- 단방향 링크드 리스트(Singly Linked List)\n",
    "- 양방향 링크드 리스트(Doubly Linked List)"
   ]
  },
  {
   "cell_type": "markdown",
   "metadata": {},
   "source": [
    "#### 1. 단방향 링크드 리스트"
   ]
  },
  {
   "cell_type": "markdown",
   "metadata": {},
   "source": [
    "<img src=\"./imgs/01_linked_list_01.png\" style=\"width:50%;\">"
   ]
  },
  {
   "cell_type": "code",
   "execution_count": 3,
   "metadata": {},
   "outputs": [],
   "source": [
    "class Node:\n",
    "    def __init__(self,data,next_node=None):\n",
    "        self.data=data\n",
    "        self.next_node=next_node\n",
    "    def __repr__(self):\n",
    "        return \"<Node data:{}, next_node:{}>\".format(self.data, id(self.next_node))\n"
   ]
  },
  {
   "cell_type": "code",
   "execution_count": 12,
   "metadata": {},
   "outputs": [],
   "source": [
    "n1 = Node(5) #5, None\n",
    "n2 = Node(7) #7, None\n",
    "n3 = Node(2) #2, Node\n",
    "n4 = Node(15) # 15, None\n"
   ]
  },
  {
   "cell_type": "code",
   "execution_count": 13,
   "metadata": {},
   "outputs": [
    {
     "data": {
      "text/plain": [
       "(<Node data:5, next_node:4403370744>, None)"
      ]
     },
     "execution_count": 13,
     "metadata": {},
     "output_type": "execute_result"
    }
   ],
   "source": [
    "#노드 만들기\n",
    "n1,n1.next_node"
   ]
  },
  {
   "cell_type": "code",
   "execution_count": 14,
   "metadata": {},
   "outputs": [
    {
     "data": {
      "text/plain": [
       "7"
      ]
     },
     "execution_count": 14,
     "metadata": {},
     "output_type": "execute_result"
    }
   ],
   "source": [
    "#링크연결\n",
    "n1.next_node = n2 #n2 객체의 주소값이 n1.next_node 변수에 저장\n",
    "n1.next_node.data"
   ]
  },
  {
   "cell_type": "code",
   "execution_count": 15,
   "metadata": {},
   "outputs": [
    {
     "data": {
      "text/plain": [
       "2"
      ]
     },
     "execution_count": 15,
     "metadata": {},
     "output_type": "execute_result"
    }
   ],
   "source": [
    "n2.next_node = n3\n",
    "n2.next_node.data "
   ]
  },
  {
   "cell_type": "code",
   "execution_count": 16,
   "metadata": {},
   "outputs": [
    {
     "data": {
      "text/plain": [
       "15"
      ]
     },
     "execution_count": 16,
     "metadata": {},
     "output_type": "execute_result"
    }
   ],
   "source": [
    "n3.next_node = n4\n",
    "n3.next_node.data "
   ]
  },
  {
   "cell_type": "code",
   "execution_count": 17,
   "metadata": {},
   "outputs": [
    {
     "data": {
      "text/plain": [
       "5"
      ]
     },
     "execution_count": 17,
     "metadata": {},
     "output_type": "execute_result"
    }
   ],
   "source": [
    "n4.next_node=n1\n",
    "n4.next_node.data "
   ]
  },
  {
   "cell_type": "code",
   "execution_count": 18,
   "metadata": {},
   "outputs": [
    {
     "data": {
      "text/plain": [
       "(140411348619664, 4403513824)"
      ]
     },
     "execution_count": 18,
     "metadata": {},
     "output_type": "execute_result"
    }
   ],
   "source": [
    "id(n4), id(n4.next_node.data )"
   ]
  },
  {
   "cell_type": "markdown",
   "metadata": {},
   "source": [
    "#### Quiz 1 : 링크드 리스트의 구현\n",
    "- 아래와 같은 모양을 갖는 링크드 리스트를 구현\n",
    "- [1.파이썬] -> [2.자바] -> [3.HTML] -> [4.CSS] -> [5.Pandas]"
   ]
  },
  {
   "cell_type": "code",
   "execution_count": 5,
   "metadata": {},
   "outputs": [],
   "source": [
    "# 1. Node 클래스 선언 : 생성자 함수에 data, next_node 변수 선언"
   ]
  },
  {
   "cell_type": "code",
   "execution_count": 19,
   "metadata": {},
   "outputs": [],
   "source": [
    "class Node:\n",
    "    def __init__(self,data,next_node=None):\n",
    "        self.data=data\n",
    "        self.next_node=next_node\n",
    "    def __repr__(self):\n",
    "        return \"<Node data:{}, next_node:{}>\".format(self.data, id(self.next_node))"
   ]
  },
  {
   "cell_type": "code",
   "execution_count": 7,
   "metadata": {},
   "outputs": [],
   "source": [
    "# 2. 객체 5개 생성"
   ]
  },
  {
   "cell_type": "code",
   "execution_count": 21,
   "metadata": {},
   "outputs": [],
   "source": [
    "n1=Node(\"파이선\")\n",
    "n2=Node(\"자바\")\n",
    "n3=Node(\"HTML\")\n",
    "n4=Node(\"CSS\")\n",
    "n5=Node(\"Pandas\")"
   ]
  },
  {
   "cell_type": "code",
   "execution_count": 10,
   "metadata": {},
   "outputs": [],
   "source": [
    "# 3. 링크연결"
   ]
  },
  {
   "cell_type": "code",
   "execution_count": 26,
   "metadata": {},
   "outputs": [],
   "source": [
    "n1.next_node = n2\n",
    "n2.next_node = n3\n",
    "n3.next_node = n4\n",
    "n4.next_node = n5\n",
    "n5.next_node = None\n"
   ]
  },
  {
   "cell_type": "markdown",
   "metadata": {},
   "source": [
    "#### Quiz 2 : 링크드 리스트의 데이터 출력\n",
    "- display : 출력 함수 작성\n",
    "- node 객체를 아규먼트로 함수를 호출하면 해당 노드를 포함하여 \n",
    "- 마지막 노드까지 순서대로 데이터 출력\n",
    "- obj is None, while, break, if "
   ]
  },
  {
   "cell_type": "markdown",
   "metadata": {},
   "source": [
    "```\n",
    "[1.파이썬] -> [2.자바] -> [3.HTML] -> [4.CSS] -> [5.Pandas]\n",
    "```"
   ]
  },
  {
   "cell_type": "code",
   "execution_count": 33,
   "metadata": {},
   "outputs": [],
   "source": [
    "def disp(node):\n",
    "    current_node = node\n",
    "    while True:\n",
    "        print(current_node.data)\n",
    "        if current_node==None:\n",
    "            break\n",
    "        else:\n",
    "            print(\"->\",end=\" \")\n",
    "        current_node=current_node.next_node"
   ]
  },
  {
   "cell_type": "code",
   "execution_count": 34,
   "metadata": {},
   "outputs": [
    {
     "name": "stdout",
     "output_type": "stream",
     "text": [
      "HTML\n",
      "-> CSS\n",
      "-> Pandas\n",
      "-> "
     ]
    },
    {
     "ename": "AttributeError",
     "evalue": "'NoneType' object has no attribute 'data'",
     "output_type": "error",
     "traceback": [
      "\u001b[0;31m---------------------------------------------------------------------------\u001b[0m",
      "\u001b[0;31mAttributeError\u001b[0m                            Traceback (most recent call last)",
      "\u001b[0;32m<ipython-input-34-7ccce9493c89>\u001b[0m in \u001b[0;36m<module>\u001b[0;34m\u001b[0m\n\u001b[0;32m----> 1\u001b[0;31m \u001b[0mdisp\u001b[0m\u001b[0;34m(\u001b[0m\u001b[0mn3\u001b[0m\u001b[0;34m)\u001b[0m\u001b[0;34m\u001b[0m\u001b[0;34m\u001b[0m\u001b[0m\n\u001b[0m",
      "\u001b[0;32m<ipython-input-33-1747a81c47bd>\u001b[0m in \u001b[0;36mdisp\u001b[0;34m(node)\u001b[0m\n\u001b[1;32m      2\u001b[0m     \u001b[0mcurrent_node\u001b[0m \u001b[0;34m=\u001b[0m \u001b[0mnode\u001b[0m\u001b[0;34m\u001b[0m\u001b[0;34m\u001b[0m\u001b[0m\n\u001b[1;32m      3\u001b[0m     \u001b[0;32mwhile\u001b[0m \u001b[0;32mTrue\u001b[0m\u001b[0;34m:\u001b[0m\u001b[0;34m\u001b[0m\u001b[0;34m\u001b[0m\u001b[0m\n\u001b[0;32m----> 4\u001b[0;31m         \u001b[0mprint\u001b[0m\u001b[0;34m(\u001b[0m\u001b[0mcurrent_node\u001b[0m\u001b[0;34m.\u001b[0m\u001b[0mdata\u001b[0m\u001b[0;34m)\u001b[0m\u001b[0;34m\u001b[0m\u001b[0;34m\u001b[0m\u001b[0m\n\u001b[0m\u001b[1;32m      5\u001b[0m         \u001b[0;32mif\u001b[0m \u001b[0mcurrent_node\u001b[0m\u001b[0;34m==\u001b[0m\u001b[0;32mNone\u001b[0m\u001b[0;34m:\u001b[0m\u001b[0;34m\u001b[0m\u001b[0;34m\u001b[0m\u001b[0m\n\u001b[1;32m      6\u001b[0m             \u001b[0;32mbreak\u001b[0m\u001b[0;34m\u001b[0m\u001b[0;34m\u001b[0m\u001b[0m\n",
      "\u001b[0;31mAttributeError\u001b[0m: 'NoneType' object has no attribute 'data'"
     ]
    }
   ],
   "source": [
    "disp(n3)"
   ]
  },
  {
   "cell_type": "markdown",
   "metadata": {},
   "source": [
    "#### Quiz 3\n",
    "- circle 링크드 리스트의 경우 : 마지막 노드까지 순서대로 데이터 출력"
   ]
  },
  {
   "cell_type": "code",
   "execution_count": null,
   "metadata": {},
   "outputs": [],
   "source": []
  },
  {
   "cell_type": "markdown",
   "metadata": {},
   "source": [
    "#### Quiz 4 : 링크드 리스트에 node를 추가하는 add_node 메서드 구현\n",
    "- Node 클래스에 add_node 메서드 구현"
   ]
  },
  {
   "cell_type": "code",
   "execution_count": null,
   "metadata": {},
   "outputs": [],
   "source": []
  },
  {
   "cell_type": "markdown",
   "metadata": {},
   "source": [
    "#### 2. 양방향 링크드 리스트\n",
    "<img src=\"./imgs/01_linked_list_02.png\" style=\"width:50%;\">"
   ]
  },
  {
   "cell_type": "markdown",
   "metadata": {},
   "source": [
    "#### Quiz 5 : 양방향 링크드 리스트 구현\n",
    "- [1.파이썬] <-> [2.자바] <-> [3.HTML] <-> [1.파이썬]\n",
    "- Node 클래스에 prev_node 를 추가해서 양방향 링크드 리스트 구현"
   ]
  },
  {
   "cell_type": "code",
   "execution_count": null,
   "metadata": {},
   "outputs": [],
   "source": []
  },
  {
   "cell_type": "markdown",
   "metadata": {},
   "source": [
    "- 2번 노드 뒤에 [4.CSS] 추가"
   ]
  },
  {
   "cell_type": "code",
   "execution_count": null,
   "metadata": {},
   "outputs": [],
   "source": []
  },
  {
   "cell_type": "markdown",
   "metadata": {},
   "source": [
    "#### Quiz 6 : node를 삭제하는 메서드 구현\n",
    "- - [1.파이썬] <-> [2.자바][delete] <-> [3.HTML] <-> [1.파이썬]\n",
    "- Node 클래스에 delete 메서드 구현"
   ]
  },
  {
   "cell_type": "code",
   "execution_count": null,
   "metadata": {},
   "outputs": [],
   "source": []
  }
 ],
 "metadata": {
  "kernelspec": {
   "display_name": "Python 3",
   "language": "python",
   "name": "python3"
  },
  "language_info": {
   "codemirror_mode": {
    "name": "ipython",
    "version": 3
   },
   "file_extension": ".py",
   "mimetype": "text/x-python",
   "name": "python",
   "nbconvert_exporter": "python",
   "pygments_lexer": "ipython3",
   "version": "3.8.5"
  },
  "varInspector": {
   "cols": {
    "lenName": 16,
    "lenType": 16,
    "lenVar": 40
   },
   "kernels_config": {
    "python": {
     "delete_cmd_postfix": "",
     "delete_cmd_prefix": "del ",
     "library": "var_list.py",
     "varRefreshCmd": "print(var_dic_list())"
    },
    "r": {
     "delete_cmd_postfix": ") ",
     "delete_cmd_prefix": "rm(",
     "library": "var_list.r",
     "varRefreshCmd": "cat(var_dic_list()) "
    }
   },
   "types_to_exclude": [
    "module",
    "function",
    "builtin_function_or_method",
    "instance",
    "_Feature"
   ],
   "window_display": false
  }
 },
 "nbformat": 4,
 "nbformat_minor": 4
}
