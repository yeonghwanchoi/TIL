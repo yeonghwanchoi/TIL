{
 "cells": [
  {
   "cell_type": "markdown",
   "metadata": {
    "slideshow": {
     "slide_type": "slide"
    }
   },
   "source": [
    "## File, Pickle, OS\n",
    "\n",
    "1. File\n",
    "1. Pickle\n",
    "1. OS"
   ]
  },
  {
   "cell_type": "markdown",
   "metadata": {
    "slideshow": {
     "slide_type": "slide"
    }
   },
   "source": [
    "### 1. File\n",
    "python을 이용하여 파일을 쓰고 읽기가 가능합니다. 파일 쓰고 읽기의 옵션은 아래와 같습니다.\n",
    "\n",
    "- 파일 쓰기 읽기 옵션\n",
    "    - 파일 쓰기 (w) : 파일이 존재하면 덮어씀 \n",
    "    - 파일 쓰기 (x) : 파일이 존재하지 않을때만 생성 \n",
    "    - 파일 읽기 (r) \n",
    "    - 파일 추가 (a) \n",
    "\n",
    "- 파일 타입 옵션\n",
    "    - 텍스트 타입 (t) \n",
    "    - 이진 타입 (b)"
   ]
  },
  {
   "cell_type": "markdown",
   "metadata": {
    "slideshow": {
     "slide_type": "slide"
    }
   },
   "source": [
    "#### 1.1 파일 쓰기 - write\n",
    "\n",
    "1. 텍스트 파일쓰기\n",
    "1. 바이너리(2진, binary) 파일 쓰기"
   ]
  },
  {
   "cell_type": "code",
   "execution_count": 1,
   "metadata": {},
   "outputs": [],
   "source": [
    "!mkdir file"
   ]
  },
  {
   "cell_type": "markdown",
   "metadata": {
    "slideshow": {
     "slide_type": "slide"
    }
   },
   "source": [
    "##### 1.1.1 텍스트 파일 쓰기 (옵션 : wt) - write"
   ]
  },
  {
   "cell_type": "code",
   "execution_count": 2,
   "metadata": {},
   "outputs": [],
   "source": [
    "s = \"\"\"datascicence\n",
    "jupyter notebook write\n",
    "fighting!!\n",
    "\"\"\"\n",
    "f = open(\"file/test1.txt\", 'wt')\n",
    "f.write(s)\n",
    "f.close()"
   ]
  },
  {
   "cell_type": "code",
   "execution_count": 3,
   "metadata": {},
   "outputs": [
    {
     "name": "stdout",
     "output_type": "stream",
     "text": [
      "datascicence\r\n",
      "jupyter notebook write\r\n",
      "fighting!!\r\n"
     ]
    }
   ],
   "source": [
    "!cat file/test1.txt"
   ]
  },
  {
   "cell_type": "code",
   "execution_count": 4,
   "metadata": {},
   "outputs": [
    {
     "name": "stdout",
     "output_type": "stream",
     "text": [
      "\u001b[01;34mfile\u001b[00m\r\n",
      "└── test1.txt\r\n",
      "\r\n",
      "0 directories, 1 file\r\n"
     ]
    }
   ],
   "source": [
    "!tree file"
   ]
  },
  {
   "cell_type": "markdown",
   "metadata": {
    "slideshow": {
     "slide_type": "slide"
    }
   },
   "source": [
    "print를 이용하여 파일쓰기 (옵션 : wt) - write"
   ]
  },
  {
   "cell_type": "code",
   "execution_count": 5,
   "metadata": {},
   "outputs": [],
   "source": [
    "s = \"\"\"datascicence\n",
    "jupyter notebook print\"\"\"\n",
    "\n",
    "f = open(\"file/test2.txt\", 'wt')\n",
    "print(s, file=f, end=\"\\n\")\n",
    "f.close()"
   ]
  },
  {
   "cell_type": "code",
   "execution_count": 6,
   "metadata": {},
   "outputs": [
    {
     "name": "stdout",
     "output_type": "stream",
     "text": [
      "datascicence\r\n",
      "jupyter notebook print\r\n"
     ]
    }
   ],
   "source": [
    "!cat file/test2.txt"
   ]
  },
  {
   "cell_type": "markdown",
   "metadata": {
    "slideshow": {
     "slide_type": "slide"
    }
   },
   "source": [
    "파일이 존재 하지 않을때만 파일 쓰기 (옵션 : xt) - write"
   ]
  },
  {
   "cell_type": "code",
   "execution_count": 7,
   "metadata": {},
   "outputs": [],
   "source": [
    "s = \"\"\"datascicence\n",
    "jupyter notebook write x\"\"\"\n",
    "\n",
    "# 이미 파일이 있어서 파일 작성이 안됩니다.\n",
    "# f = open(\"file/test2.txt\", 'xt') \n",
    "f = open(\"file/test3.txt\", 'xt')\n",
    "f.write(s)\n",
    "f.close()"
   ]
  },
  {
   "cell_type": "code",
   "execution_count": 8,
   "metadata": {},
   "outputs": [
    {
     "name": "stdout",
     "output_type": "stream",
     "text": [
      "datascicence\r\n",
      "jupyter notebook write x"
     ]
    }
   ],
   "source": [
    "!cat file/test3.txt"
   ]
  },
  {
   "cell_type": "markdown",
   "metadata": {
    "slideshow": {
     "slide_type": "slide"
    }
   },
   "source": [
    "##### 1.1.2 바이너리(binary) 파일 쓰기  (옵션 : wb) - write\n",
    "bytes : 2진 데이터로 형변환 시켜줌 \n",
    "\n",
    "2진 데이터로 형변환 후 저장해야 저장이 가능합니다."
   ]
  },
  {
   "cell_type": "code",
   "execution_count": 9,
   "metadata": {},
   "outputs": [
    {
     "data": {
      "text/plain": [
       "b'\\x05\\x06\\x07\\x08\\t'"
      ]
     },
     "execution_count": 9,
     "metadata": {},
     "output_type": "execute_result"
    }
   ],
   "source": [
    "data = bytes(range(5, 10))\n",
    "\n",
    "f = open(\"file/b_range.b\", 'wb')\n",
    "f.write(data)\n",
    "f.close()\n",
    "\n",
    "data"
   ]
  },
  {
   "cell_type": "code",
   "execution_count": 10,
   "metadata": {},
   "outputs": [
    {
     "name": "stdout",
     "output_type": "stream",
     "text": [
      "\u0005\u0006\u0007\b\t"
     ]
    }
   ],
   "source": [
    "!cat file/b_range.b"
   ]
  },
  {
   "cell_type": "markdown",
   "metadata": {
    "slideshow": {
     "slide_type": "slide"
    }
   },
   "source": [
    "#### 1.2 파일 읽기 - read\n",
    "\n",
    "1. 텍스트 파일 읽기\n",
    "1. 바이너리 파일 읽기"
   ]
  },
  {
   "cell_type": "markdown",
   "metadata": {
    "slideshow": {
     "slide_type": "slide"
    }
   },
   "source": [
    "##### 1.2.1 텍스트 파일 읽기"
   ]
  },
  {
   "cell_type": "markdown",
   "metadata": {},
   "source": [
    "텍스트 파일의 모두 읽어오기 (옵션 : rt) - read"
   ]
  },
  {
   "cell_type": "code",
   "execution_count": 11,
   "metadata": {},
   "outputs": [
    {
     "name": "stdout",
     "output_type": "stream",
     "text": [
      "datascicence\n",
      "jupyter notebook write\n",
      "fighting!!\n",
      "\n"
     ]
    }
   ],
   "source": [
    "f = open(\"file/test1.txt\", 'rt')\n",
    "s = f.read()\n",
    "f.close()\n",
    "print(s)"
   ]
  },
  {
   "cell_type": "markdown",
   "metadata": {
    "slideshow": {
     "slide_type": "-"
    }
   },
   "source": [
    "텍스트 파일의 모두 읽어오기 (옵션 : rt) - read"
   ]
  },
  {
   "cell_type": "code",
   "execution_count": 12,
   "metadata": {},
   "outputs": [
    {
     "name": "stdout",
     "output_type": "stream",
     "text": [
      "datascicence\n",
      "jupyter notebook print\n",
      "\n"
     ]
    }
   ],
   "source": [
    "f = open(\"file/test2.txt\", 'rt')\n",
    "s = f.read()\n",
    "f.close()\n",
    "print(s)"
   ]
  },
  {
   "cell_type": "markdown",
   "metadata": {
    "slideshow": {
     "slide_type": "slide"
    }
   },
   "source": [
    "텍스트 파일의 일부만 읽어오기 (옵션 : rt) - read"
   ]
  },
  {
   "cell_type": "code",
   "execution_count": 13,
   "metadata": {},
   "outputs": [
    {
     "name": "stdout",
     "output_type": "stream",
     "text": [
      "datascicence\n",
      "ju 15\n"
     ]
    }
   ],
   "source": [
    "# 일부만 읽기\n",
    "f = open(\"file/test1.txt\", 'rt')\n",
    "s = f.read(15) # 15자만 읽어옴\n",
    "f.close()\n",
    "print(s, len(s))"
   ]
  },
  {
   "cell_type": "markdown",
   "metadata": {
    "slideshow": {
     "slide_type": "-"
    }
   },
   "source": [
    "텍스트 파일의 한줄 읽어오기 (옵션 : rt) - readline"
   ]
  },
  {
   "cell_type": "code",
   "execution_count": 14,
   "metadata": {},
   "outputs": [
    {
     "name": "stdout",
     "output_type": "stream",
     "text": [
      "datascicence\n",
      "jupyter notebook write\n",
      "\n"
     ]
    }
   ],
   "source": [
    "f = open(\"file/test1.txt\", 'rt')\n",
    "\n",
    "s = f.readline()\n",
    "print(s, end=\"\")\n",
    "\n",
    "s = f.readline()\n",
    "print(s)\n",
    "\n",
    "f.close()"
   ]
  },
  {
   "cell_type": "markdown",
   "metadata": {
    "slideshow": {
     "slide_type": "slide"
    }
   },
   "source": [
    "텍스트 파일 두줄 읽기 (옵션 : rt) - readline \n",
    "\n",
    "for문을 이용하여 f.readline을 실행하면 한줄씩 순서대로 읽어 옵니다."
   ]
  },
  {
   "cell_type": "code",
   "execution_count": 15,
   "metadata": {},
   "outputs": [
    {
     "name": "stdout",
     "output_type": "stream",
     "text": [
      "datascicence\n",
      "jupyter notebook write\n"
     ]
    }
   ],
   "source": [
    "f = open(\"file/test1.txt\", 'rt')\n",
    "for _ in range(2):\n",
    "    s = f.readline()\n",
    "    print(s, end=\"\")\n",
    "f.close()"
   ]
  },
  {
   "cell_type": "markdown",
   "metadata": {
    "slideshow": {
     "slide_type": "-"
    }
   },
   "source": [
    "텍스트 파일 끝까지 읽기 (옵션 : rt) - readline \n",
    "\n",
    "while 반복문을 사용하여 문자열이 없을때까지 읽어오는 코드입니다."
   ]
  },
  {
   "cell_type": "code",
   "execution_count": 16,
   "metadata": {},
   "outputs": [
    {
     "name": "stdout",
     "output_type": "stream",
     "text": [
      "datascicence\n",
      "jupyter notebook write\n",
      "fighting!!\n"
     ]
    }
   ],
   "source": [
    "f = open(\"file/test1.txt\", 'rt')\n",
    "while True:\n",
    "    s = f.readline()\n",
    "    if not s:\n",
    "        break\n",
    "    print(s, end=\"\")\n",
    "f.close()"
   ]
  },
  {
   "cell_type": "markdown",
   "metadata": {
    "slideshow": {
     "slide_type": "slide"
    }
   },
   "source": [
    "여러줄을 리스트로 읽어오기 - readlines\n",
    "\n",
    "readlines 함수를 사용하면 여러줄을 리스트로 읽어올수 있습니다."
   ]
  },
  {
   "cell_type": "code",
   "execution_count": 17,
   "metadata": {},
   "outputs": [
    {
     "name": "stdout",
     "output_type": "stream",
     "text": [
      "['datascicence\\n', 'jupyter notebook write\\n', 'fighting!!\\n']\n"
     ]
    }
   ],
   "source": [
    "f = open(\"file/test1.txt\", 'rt')\n",
    "\n",
    "s = f.readlines()\n",
    "print(s)\n",
    "\n",
    "f.close()"
   ]
  },
  {
   "cell_type": "markdown",
   "metadata": {
    "slideshow": {
     "slide_type": "-"
    }
   },
   "source": [
    "##### 1.2.2 바이너리(2진, binary) 파일 읽기"
   ]
  },
  {
   "cell_type": "markdown",
   "metadata": {},
   "source": [
    "open 함수에서 rb 옵션으로 이진데이터를 읽어 올수 있습니다."
   ]
  },
  {
   "cell_type": "code",
   "execution_count": 18,
   "metadata": {},
   "outputs": [
    {
     "name": "stdout",
     "output_type": "stream",
     "text": [
      "[5, 6, 7, 8, 9]\n"
     ]
    }
   ],
   "source": [
    "f = open(\"file/b_range.b\", 'rb')\n",
    "\n",
    "data = f.read()\n",
    "print(list(data))\n",
    "\n",
    "f.close()"
   ]
  },
  {
   "cell_type": "markdown",
   "metadata": {
    "slideshow": {
     "slide_type": "slide"
    }
   },
   "source": [
    "파일 추가(a) - open 함수에서 a옵션을 주면 원래 있던 파일의 내용에 추가로 문자열을 넣을수 있습니다."
   ]
  },
  {
   "cell_type": "code",
   "execution_count": 19,
   "metadata": {},
   "outputs": [],
   "source": [
    "s = \"\\npython\"\n",
    "f = open(\"file/test1.txt\", 'at')\n",
    "f.write(s)\n",
    "f.close()"
   ]
  },
  {
   "cell_type": "code",
   "execution_count": 20,
   "metadata": {},
   "outputs": [
    {
     "name": "stdout",
     "output_type": "stream",
     "text": [
      "datascicence\n",
      "jupyter notebook write\n",
      "fighting!!\n",
      "\n",
      "python\n"
     ]
    }
   ],
   "source": [
    "f = open(\"file/test1.txt\", 'rt')\n",
    "s = f.read()\n",
    "print(s)\n",
    "f.close()"
   ]
  },
  {
   "cell_type": "markdown",
   "metadata": {
    "slideshow": {
     "slide_type": "slide"
    }
   },
   "source": [
    "#### 1.3 with\n",
    "with를 사용하면 close를 안써도 자동으로 close를 하여 파일을 읽고 쓸때 조금 더 편리합니다."
   ]
  },
  {
   "cell_type": "code",
   "execution_count": 21,
   "metadata": {},
   "outputs": [
    {
     "name": "stdout",
     "output_type": "stream",
     "text": [
      "datascicence\n",
      "jupyter notebook write\n",
      "fighting!!\n",
      "\n",
      "python\n"
     ]
    }
   ],
   "source": [
    "test = open(\"file/test1.txt\", 'rt')\n",
    "with test as f: \n",
    "    s = f.read()\n",
    "    print(s)    "
   ]
  },
  {
   "cell_type": "markdown",
   "metadata": {
    "slideshow": {
     "slide_type": "skip"
    }
   },
   "source": [
    "### Quiz\n",
    "- 아래의 텍스트 데이터를 `file/grade.csv` 파일이름으로 저장하고 num이 2 ~ 4줄을 읽어와 print문으로 아래의 결과와 같이 출력되는 코드를 작성하세요.\n",
    "\n",
    "```\n",
    "num, subject, points\n",
    "1, Math, 90\n",
    "2, Korean, 80\n",
    "3, English, 100\n",
    "4, Science, 70\n",
    "5, Computer, 90\n",
    "\n",
    "결과\n",
    "num, subject, points\n",
    "2, Korean, 80\n",
    "3, English, 100\n",
    "4, Science, 70\n",
    "```"
   ]
  },
  {
   "cell_type": "code",
   "execution_count": 22,
   "metadata": {
    "slideshow": {
     "slide_type": "skip"
    }
   },
   "outputs": [],
   "source": [
    "# TODO\n",
    "grade = \"\"\"num, subject, points\n",
    "1, Math, 90\n",
    "2, Korean, 80\n",
    "3, English, 100\n",
    "4, Science, 70\n",
    "5, Computer, 90\"\"\"\n",
    "\n",
    "with open(\"file/grade.csv\", \"wt\") as f:\n",
    "    f.write(grade)"
   ]
  },
  {
   "cell_type": "code",
   "execution_count": 23,
   "metadata": {
    "slideshow": {
     "slide_type": "skip"
    }
   },
   "outputs": [],
   "source": [
    "with open(\"file/grade.csv\", \"rt\") as f:\n",
    "    csv = f.readlines()\n",
    "\n",
    "def read_csv(csv, start, end):\n",
    "    result = csv[0:1] + csv[start:end+1]\n",
    "    print(\"\".join(result)[:-1])"
   ]
  },
  {
   "cell_type": "code",
   "execution_count": 24,
   "metadata": {
    "slideshow": {
     "slide_type": "skip"
    }
   },
   "outputs": [
    {
     "name": "stdout",
     "output_type": "stream",
     "text": [
      "num, subject, points\n",
      "1, Math, 90\n",
      "2, Korean, 80\n",
      "3, English, 100\n",
      "4, Science, 70\n"
     ]
    }
   ],
   "source": [
    "read_csv(csv, 1, 4)"
   ]
  },
  {
   "cell_type": "markdown",
   "metadata": {
    "slideshow": {
     "slide_type": "slide"
    }
   },
   "source": [
    "### 2. Pickle\n",
    "- 객체를 파일로 저장하는것을 직렬화(serialization) 이라고 합니다.\n",
    "- pickle을 사용하여 객체를 직렬화 하여 저장할수 있습니다.\n",
    "- pickle은 파이썬에서 직렬화를 통해 바이너리 형태의 데이터를 저장하고 복원하는 모듈입니다."
   ]
  },
  {
   "cell_type": "code",
   "execution_count": 25,
   "metadata": {
    "slideshow": {
     "slide_type": "slide"
    }
   },
   "outputs": [
    {
     "name": "stdout",
     "output_type": "stream",
     "text": [
      "pickle test\n"
     ]
    }
   ],
   "source": [
    "import pickle\n",
    "\n",
    "class A():\n",
    "    \n",
    "    def __init__(self, data):\n",
    "        self.data = data\n",
    "        \n",
    "    def disp(self):\n",
    "        print(self.data)\n",
    "        \n",
    "a = A(\"pickle test\")\n",
    "\n",
    "a.disp()"
   ]
  },
  {
   "cell_type": "markdown",
   "metadata": {
    "slideshow": {
     "slide_type": "slide"
    }
   },
   "source": [
    "#### 2.1 객체 저장하기"
   ]
  },
  {
   "cell_type": "code",
   "execution_count": 26,
   "metadata": {},
   "outputs": [],
   "source": [
    "f = open(\"file/obj.pkl\", \"wb\")\n",
    "pickle.dump(a, f)\n",
    "f.close()"
   ]
  },
  {
   "cell_type": "code",
   "execution_count": 27,
   "metadata": {},
   "outputs": [],
   "source": [
    "with open(\"file/obj.pkl\", \"wb\") as f:\n",
    "    pickle.dump(a, f)"
   ]
  },
  {
   "cell_type": "markdown",
   "metadata": {
    "slideshow": {
     "slide_type": "-"
    }
   },
   "source": [
    "#### 2.2 객체 로드하기"
   ]
  },
  {
   "cell_type": "code",
   "execution_count": 28,
   "metadata": {},
   "outputs": [
    {
     "name": "stdout",
     "output_type": "stream",
     "text": [
      "pickle test\n"
     ]
    }
   ],
   "source": [
    "with open(\"file/obj.pkl\", \"rb\") as f:\n",
    "    a = pickle.load(f)\n",
    "    \n",
    "a.disp()"
   ]
  },
  {
   "cell_type": "markdown",
   "metadata": {
    "slideshow": {
     "slide_type": "slide"
    }
   },
   "source": [
    "### 3. OS\n",
    "파일시스템을 파이썬 코드로 컨트롤 할수 있는 패키지입니다.\n",
    "\n",
    "1. 디렉토리 만들기\n",
    "1. 파일리스트 읽기\n",
    "1. 파일 삭제\n",
    "1. 디렉토리 삭제\n",
    "1. 파일과 디렉토리를 모두 삭제\n",
    "1. 파일 존재 여부 확인\n",
    "1. 파일 타입이 디렉토리인지 확인\n",
    "1. 복사하기\n",
    "1. 파일 이름 변경하기\n",
    "1. 권한설정"
   ]
  },
  {
   "cell_type": "code",
   "execution_count": 29,
   "metadata": {},
   "outputs": [],
   "source": [
    "import os"
   ]
  },
  {
   "cell_type": "code",
   "execution_count": 30,
   "metadata": {},
   "outputs": [
    {
     "name": "stdout",
     "output_type": "stream",
     "text": [
      "\u001b[31m12_class.ipynb\u001b[m\u001b[m*           \u001b[31m15_io.ipynb\u001b[m\u001b[m*              \u001b[1m\u001b[36mfile\u001b[m\u001b[m/\r\n",
      "\u001b[31m13_package_module.ipynb\u001b[m\u001b[m*  \u001b[31m16_regex.ipynb\u001b[m\u001b[m*           quiz_day_2.ipynb\r\n",
      "\u001b[31m14_try_except.ipynb\u001b[m\u001b[m*      day_2_summary_quiz.ipynb\r\n"
     ]
    }
   ],
   "source": [
    "%ls"
   ]
  },
  {
   "cell_type": "markdown",
   "metadata": {
    "slideshow": {
     "slide_type": "slide"
    }
   },
   "source": [
    "#### 3.1 디렉토리 만들기"
   ]
  },
  {
   "cell_type": "code",
   "execution_count": 31,
   "metadata": {},
   "outputs": [],
   "source": [
    "os.makedirs(\"os_dir\")"
   ]
  },
  {
   "cell_type": "code",
   "execution_count": 32,
   "metadata": {},
   "outputs": [
    {
     "name": "stdout",
     "output_type": "stream",
     "text": [
      "\u001b[31m12_class.ipynb\u001b[m\u001b[m*           \u001b[31m15_io.ipynb\u001b[m\u001b[m*              \u001b[1m\u001b[36mfile\u001b[m\u001b[m/\r\n",
      "\u001b[31m13_package_module.ipynb\u001b[m\u001b[m*  \u001b[31m16_regex.ipynb\u001b[m\u001b[m*           \u001b[1m\u001b[36mos_dir\u001b[m\u001b[m/\r\n",
      "\u001b[31m14_try_except.ipynb\u001b[m\u001b[m*      day_2_summary_quiz.ipynb  quiz_day_2.ipynb\r\n"
     ]
    }
   ],
   "source": [
    "%ls"
   ]
  },
  {
   "cell_type": "code",
   "execution_count": 33,
   "metadata": {
    "slideshow": {
     "slide_type": "-"
    }
   },
   "outputs": [],
   "source": [
    "s = \"data science\"\n",
    "with open(\"os_dir/test.txt\", \"wt\") as f:\n",
    "    f.write(s)\n",
    "\n",
    "s2 = \"data science2\"\n",
    "with open(\"os_dir/test2.txt\", \"wt\") as f:\n",
    "    f.write(s)\n",
    "\n",
    "s3 = \"data,science2\"\n",
    "with open(\"os_dir/test3.csv\", \"wt\") as f:\n",
    "    f.write(s)"
   ]
  },
  {
   "cell_type": "code",
   "execution_count": 34,
   "metadata": {},
   "outputs": [
    {
     "name": "stdout",
     "output_type": "stream",
     "text": [
      "test.txt  test2.txt test3.csv\r\n"
     ]
    }
   ],
   "source": [
    "!ls os_dir"
   ]
  },
  {
   "cell_type": "code",
   "execution_count": 35,
   "metadata": {
    "slideshow": {
     "slide_type": "slide"
    }
   },
   "outputs": [],
   "source": [
    "def make_dir_files():\n",
    "    \n",
    "    os.makedirs(\"os_dir\")\n",
    "    \n",
    "    s = \"data science\"\n",
    "    with open(\"os_dir/test.txt\", \"wt\") as f:\n",
    "        f.write(s)\n",
    "\n",
    "    s2 = \"data science2\"\n",
    "    with open(\"os_dir/test2.txt\", \"wt\") as f:\n",
    "        f.write(s)\n",
    "\n",
    "    s3 = \"data,science2\"\n",
    "    with open(\"os_dir/test3.csv\", \"wt\") as f:\n",
    "        f.write(s)"
   ]
  },
  {
   "cell_type": "markdown",
   "metadata": {
    "slideshow": {
     "slide_type": "slide"
    }
   },
   "source": [
    "#### 3.2 디렉토리내 파일 리스트 읽기"
   ]
  },
  {
   "cell_type": "code",
   "execution_count": 36,
   "metadata": {},
   "outputs": [
    {
     "data": {
      "text/plain": [
       "['test2.txt', 'test3.csv', 'test.txt']"
      ]
     },
     "execution_count": 36,
     "metadata": {},
     "output_type": "execute_result"
    }
   ],
   "source": [
    "os.listdir(\"os_dir\")"
   ]
  },
  {
   "cell_type": "markdown",
   "metadata": {
    "slideshow": {
     "slide_type": "-"
    }
   },
   "source": [
    "#### 3.3 파일 삭제"
   ]
  },
  {
   "cell_type": "code",
   "execution_count": 37,
   "metadata": {},
   "outputs": [],
   "source": [
    "os.remove(\"os_dir/test3.csv\")"
   ]
  },
  {
   "cell_type": "code",
   "execution_count": 38,
   "metadata": {},
   "outputs": [
    {
     "data": {
      "text/plain": [
       "['test2.txt', 'test.txt']"
      ]
     },
     "execution_count": 38,
     "metadata": {},
     "output_type": "execute_result"
    }
   ],
   "source": [
    "os.listdir(\"os_dir\")"
   ]
  },
  {
   "cell_type": "markdown",
   "metadata": {
    "slideshow": {
     "slide_type": "slide"
    }
   },
   "source": [
    "#### 3.4 디렉토리 삭제\n",
    "- 디렉토리내에 파일이 있으면 삭제가 안됩니다."
   ]
  },
  {
   "cell_type": "code",
   "execution_count": 39,
   "metadata": {},
   "outputs": [
    {
     "name": "stdout",
     "output_type": "stream",
     "text": [
      "[Errno 66] Directory not empty: 'os_dir'\n"
     ]
    }
   ],
   "source": [
    "try:\n",
    "    os.removedirs(\"os_dir\")\n",
    "except Exception as e:\n",
    "    print(e)"
   ]
  },
  {
   "cell_type": "markdown",
   "metadata": {
    "slideshow": {
     "slide_type": "skip"
    }
   },
   "source": [
    "##### Quiz\n",
    "- 디렉토리 이름을 입력하면 디렉토리내에 모든 파일이 삭제되는 함수를 만드세요."
   ]
  },
  {
   "cell_type": "code",
   "execution_count": 40,
   "metadata": {
    "slideshow": {
     "slide_type": "skip"
    }
   },
   "outputs": [
    {
     "name": "stdout",
     "output_type": "stream",
     "text": [
      "test.txt  test2.txt\r\n"
     ]
    }
   ],
   "source": [
    "!ls os_dir"
   ]
  },
  {
   "cell_type": "code",
   "execution_count": 41,
   "metadata": {
    "slideshow": {
     "slide_type": "skip"
    }
   },
   "outputs": [],
   "source": [
    "def remove_files(path):\n",
    "    files = os.listdir(path)\n",
    "    for file in files:\n",
    "        os.remove(\"{}/{}\".format(path, file))"
   ]
  },
  {
   "cell_type": "code",
   "execution_count": 42,
   "metadata": {
    "slideshow": {
     "slide_type": "skip"
    }
   },
   "outputs": [],
   "source": [
    "remove_files(\"os_dir\")"
   ]
  },
  {
   "cell_type": "code",
   "execution_count": 43,
   "metadata": {
    "slideshow": {
     "slide_type": "skip"
    }
   },
   "outputs": [
    {
     "data": {
      "text/plain": [
       "[]"
      ]
     },
     "execution_count": 43,
     "metadata": {},
     "output_type": "execute_result"
    }
   ],
   "source": [
    "os.listdir(\"os_dir\")"
   ]
  },
  {
   "cell_type": "code",
   "execution_count": 44,
   "metadata": {
    "slideshow": {
     "slide_type": "skip"
    }
   },
   "outputs": [],
   "source": [
    "os.removedirs(\"os_dir\")"
   ]
  },
  {
   "cell_type": "code",
   "execution_count": 45,
   "metadata": {
    "slideshow": {
     "slide_type": "skip"
    }
   },
   "outputs": [
    {
     "name": "stdout",
     "output_type": "stream",
     "text": [
      "\u001b[31m12_class.ipynb\u001b[m\u001b[m*           \u001b[31m15_io.ipynb\u001b[m\u001b[m*              \u001b[1m\u001b[36mfile\u001b[m\u001b[m/\r\n",
      "\u001b[31m13_package_module.ipynb\u001b[m\u001b[m*  \u001b[31m16_regex.ipynb\u001b[m\u001b[m*           quiz_day_2.ipynb\r\n",
      "\u001b[31m14_try_except.ipynb\u001b[m\u001b[m*      day_2_summary_quiz.ipynb\r\n"
     ]
    }
   ],
   "source": [
    "%ls"
   ]
  },
  {
   "cell_type": "markdown",
   "metadata": {
    "slideshow": {
     "slide_type": "slide"
    }
   },
   "source": [
    "#### 3.5 파일과 디렉토리를 모두 삭제 - rmtree"
   ]
  },
  {
   "cell_type": "markdown",
   "metadata": {},
   "source": [
    "위에서 디렉토리와 파일을 다시 생성"
   ]
  },
  {
   "cell_type": "code",
   "execution_count": 46,
   "metadata": {},
   "outputs": [],
   "source": [
    "make_dir_files()"
   ]
  },
  {
   "cell_type": "code",
   "execution_count": 47,
   "metadata": {},
   "outputs": [
    {
     "name": "stdout",
     "output_type": "stream",
     "text": [
      "\u001b[01;34mos_dir\u001b[00m\r\n",
      "├── test.txt\r\n",
      "├── test2.txt\r\n",
      "└── test3.csv\r\n",
      "\r\n",
      "0 directories, 3 files\r\n"
     ]
    }
   ],
   "source": [
    "!tree os_dir"
   ]
  },
  {
   "cell_type": "code",
   "execution_count": 48,
   "metadata": {
    "slideshow": {
     "slide_type": "-"
    }
   },
   "outputs": [],
   "source": [
    "import shutil\n",
    "\n",
    "shutil.rmtree(\"os_dir\")"
   ]
  },
  {
   "cell_type": "code",
   "execution_count": 49,
   "metadata": {},
   "outputs": [
    {
     "name": "stdout",
     "output_type": "stream",
     "text": [
      "\u001b[31m12_class.ipynb\u001b[m\u001b[m*           \u001b[31m15_io.ipynb\u001b[m\u001b[m*              \u001b[1m\u001b[36mfile\u001b[m\u001b[m/\r\n",
      "\u001b[31m13_package_module.ipynb\u001b[m\u001b[m*  \u001b[31m16_regex.ipynb\u001b[m\u001b[m*           quiz_day_2.ipynb\r\n",
      "\u001b[31m14_try_except.ipynb\u001b[m\u001b[m*      day_2_summary_quiz.ipynb\r\n"
     ]
    }
   ],
   "source": [
    "%ls"
   ]
  },
  {
   "cell_type": "markdown",
   "metadata": {
    "slideshow": {
     "slide_type": "slide"
    }
   },
   "source": [
    "#### 3.6 파일의 존재 여부 확인 - exists\n",
    "- 디렉토리와 파일이 있는지 확인"
   ]
  },
  {
   "cell_type": "markdown",
   "metadata": {},
   "source": [
    "위에서 디렉토리와 파일을 다시 생성"
   ]
  },
  {
   "cell_type": "code",
   "execution_count": 50,
   "metadata": {},
   "outputs": [],
   "source": [
    "make_dir_files()"
   ]
  },
  {
   "cell_type": "code",
   "execution_count": 51,
   "metadata": {},
   "outputs": [
    {
     "data": {
      "text/plain": [
       "True"
      ]
     },
     "execution_count": 51,
     "metadata": {},
     "output_type": "execute_result"
    }
   ],
   "source": [
    "os.path.exists(\"os_dir/test.txt\")"
   ]
  },
  {
   "cell_type": "code",
   "execution_count": 52,
   "metadata": {},
   "outputs": [
    {
     "name": "stdout",
     "output_type": "stream",
     "text": [
      "test.txt   test2.txt  test3.csv\r\n"
     ]
    }
   ],
   "source": [
    "%ls os_dir"
   ]
  },
  {
   "cell_type": "code",
   "execution_count": 53,
   "metadata": {},
   "outputs": [
    {
     "data": {
      "text/plain": [
       "False"
      ]
     },
     "execution_count": 53,
     "metadata": {},
     "output_type": "execute_result"
    }
   ],
   "source": [
    "os.path.exists(\"os_dir/test3.txt\")"
   ]
  },
  {
   "cell_type": "code",
   "execution_count": 54,
   "metadata": {},
   "outputs": [
    {
     "data": {
      "text/plain": [
       "True"
      ]
     },
     "execution_count": 54,
     "metadata": {},
     "output_type": "execute_result"
    }
   ],
   "source": [
    "os.path.exists(\"os_dir\")"
   ]
  },
  {
   "cell_type": "markdown",
   "metadata": {
    "slideshow": {
     "slide_type": "slide"
    }
   },
   "source": [
    "#### 3.7 파일 타입이 디렉토리인지 확인 - isdir"
   ]
  },
  {
   "cell_type": "code",
   "execution_count": 55,
   "metadata": {},
   "outputs": [
    {
     "data": {
      "text/plain": [
       "True"
      ]
     },
     "execution_count": 55,
     "metadata": {},
     "output_type": "execute_result"
    }
   ],
   "source": [
    "os.path.isdir(\"os_dir\")"
   ]
  },
  {
   "cell_type": "code",
   "execution_count": 56,
   "metadata": {},
   "outputs": [
    {
     "data": {
      "text/plain": [
       "False"
      ]
     },
     "execution_count": 56,
     "metadata": {},
     "output_type": "execute_result"
    }
   ],
   "source": [
    "os.path.isdir(\"os_dir/test.txt\")"
   ]
  },
  {
   "cell_type": "markdown",
   "metadata": {
    "slideshow": {
     "slide_type": "-"
    }
   },
   "source": [
    "#### 3.8 복사하기"
   ]
  },
  {
   "cell_type": "code",
   "execution_count": 57,
   "metadata": {},
   "outputs": [
    {
     "name": "stdout",
     "output_type": "stream",
     "text": [
      "test.txt   test2.txt  test3.csv\r\n"
     ]
    }
   ],
   "source": [
    "%ls os_dir"
   ]
  },
  {
   "cell_type": "code",
   "execution_count": 58,
   "metadata": {},
   "outputs": [
    {
     "data": {
      "text/plain": [
       "'os_dir/copy.txt'"
      ]
     },
     "execution_count": 58,
     "metadata": {},
     "output_type": "execute_result"
    }
   ],
   "source": [
    "shutil.copy(\"os_dir/test.txt\", \"os_dir/copy.txt\")"
   ]
  },
  {
   "cell_type": "code",
   "execution_count": 59,
   "metadata": {},
   "outputs": [
    {
     "name": "stdout",
     "output_type": "stream",
     "text": [
      "copy.txt   test.txt   test2.txt  test3.csv\r\n"
     ]
    }
   ],
   "source": [
    "%ls os_dir"
   ]
  },
  {
   "cell_type": "markdown",
   "metadata": {
    "slideshow": {
     "slide_type": "slide"
    }
   },
   "source": [
    "#### 3.9 이름 바꾸기"
   ]
  },
  {
   "cell_type": "code",
   "execution_count": 60,
   "metadata": {},
   "outputs": [],
   "source": [
    "# 이름 바꾸기 (!mv)\n",
    "os.rename(\"os_dir/copy.txt\", \"os_dir/rename.txt\")"
   ]
  },
  {
   "cell_type": "code",
   "execution_count": 61,
   "metadata": {},
   "outputs": [
    {
     "name": "stdout",
     "output_type": "stream",
     "text": [
      "rename.txt  test.txt    test2.txt   test3.csv\r\n"
     ]
    }
   ],
   "source": [
    "%ls os_dir"
   ]
  },
  {
   "cell_type": "markdown",
   "metadata": {
    "slideshow": {
     "slide_type": "slide"
    }
   },
   "source": [
    "#### 3.10 권한설정\n",
    "- windows os는 리눅스 계열과 파일 시스템의 규칙이 달라서 제대로 동작되지 않습니다.\n",
    "- `-rw-r--r--` : 10개의 문자로 이루어진 권한에 관련된 정보\n",
    "    - `[:1]` : 타입\n",
    "    - `[1:4]` : 소유자에 대한 파일의 권한\n",
    "    - `[4:7]` : 그룹에 대한 파일의 권한\n",
    "    - `[7:]` : 모든 사용자에 대한 파일의 권한\n",
    "- 권한\n",
    "    - rwx : r(읽기), w(쓰기), x(실행)\n",
    "- 권한 설정 진법(2진수, 8진수)    \n",
    "    - chmod 731 os_dir/test.txt\n",
    "    - 7(8) - 111 - rwx\n",
    "    - 5(8) - 101 - r-x"
   ]
  },
  {
   "cell_type": "code",
   "execution_count": 62,
   "metadata": {
    "slideshow": {
     "slide_type": "slide"
    }
   },
   "outputs": [
    {
     "name": "stdout",
     "output_type": "stream",
     "text": [
      "total 32\r\n",
      "drwxr-xr-x   6 radajin  staff  192  3 22 15:26 \u001b[1m\u001b[36m.\u001b[m\u001b[m/\r\n",
      "drwxr-xr-x@ 13 radajin  staff  416  3 22 15:26 \u001b[1m\u001b[36m..\u001b[m\u001b[m/\r\n",
      "-rw-r--r--   1 radajin  staff   12  3 22 15:26 rename.txt\r\n",
      "-rw-r--r--   1 radajin  staff   12  3 22 15:26 test.txt\r\n",
      "-rw-r--r--   1 radajin  staff   12  3 22 15:26 test2.txt\r\n",
      "-rw-r--r--   1 radajin  staff   12  3 22 15:26 test3.csv\r\n"
     ]
    }
   ],
   "source": [
    "%ls -al os_dir"
   ]
  },
  {
   "cell_type": "code",
   "execution_count": 63,
   "metadata": {},
   "outputs": [],
   "source": [
    "import os\n",
    "os.chmod(\"os_dir/test.txt\", 0o200)"
   ]
  },
  {
   "cell_type": "code",
   "execution_count": 64,
   "metadata": {},
   "outputs": [
    {
     "name": "stdout",
     "output_type": "stream",
     "text": [
      "total 32\r\n",
      "drwxr-xr-x   6 radajin  staff  192  3 22 15:26 \u001b[1m\u001b[36m.\u001b[m\u001b[m/\r\n",
      "drwxr-xr-x@ 13 radajin  staff  416  3 22 15:26 \u001b[1m\u001b[36m..\u001b[m\u001b[m/\r\n",
      "-rw-r--r--   1 radajin  staff   12  3 22 15:26 rename.txt\r\n",
      "--w-------   1 radajin  staff   12  3 22 15:26 test.txt\r\n",
      "-rw-r--r--   1 radajin  staff   12  3 22 15:26 test2.txt\r\n",
      "-rw-r--r--   1 radajin  staff   12  3 22 15:26 test3.csv\r\n"
     ]
    }
   ],
   "source": [
    "%ls -al os_dir"
   ]
  },
  {
   "cell_type": "code",
   "execution_count": 65,
   "metadata": {},
   "outputs": [
    {
     "name": "stdout",
     "output_type": "stream",
     "text": [
      "cat: os_dir/test.txt: Permission denied\r\n"
     ]
    }
   ],
   "source": [
    "%cat os_dir/test.txt"
   ]
  },
  {
   "cell_type": "code",
   "execution_count": 66,
   "metadata": {
    "slideshow": {
     "slide_type": "slide"
    }
   },
   "outputs": [],
   "source": [
    "os.chmod(\"os_dir/test.txt\", 0o400)"
   ]
  },
  {
   "cell_type": "code",
   "execution_count": 67,
   "metadata": {},
   "outputs": [
    {
     "name": "stdout",
     "output_type": "stream",
     "text": [
      "total 32\r\n",
      "drwxr-xr-x   6 radajin  staff  192  3 22 15:26 \u001b[1m\u001b[36m.\u001b[m\u001b[m/\r\n",
      "drwxr-xr-x@ 13 radajin  staff  416  3 22 15:26 \u001b[1m\u001b[36m..\u001b[m\u001b[m/\r\n",
      "-rw-r--r--   1 radajin  staff   12  3 22 15:26 rename.txt\r\n",
      "-r--------   1 radajin  staff   12  3 22 15:26 test.txt\r\n",
      "-rw-r--r--   1 radajin  staff   12  3 22 15:26 test2.txt\r\n",
      "-rw-r--r--   1 radajin  staff   12  3 22 15:26 test3.csv\r\n"
     ]
    }
   ],
   "source": [
    "%ls -al os_dir"
   ]
  },
  {
   "cell_type": "code",
   "execution_count": 68,
   "metadata": {},
   "outputs": [
    {
     "name": "stdout",
     "output_type": "stream",
     "text": [
      "data science"
     ]
    }
   ],
   "source": [
    "%cat os_dir/test.txt"
   ]
  },
  {
   "cell_type": "code",
   "execution_count": 69,
   "metadata": {
    "slideshow": {
     "slide_type": "slide"
    }
   },
   "outputs": [],
   "source": [
    "# - rwx rx- -x-\n",
    "os.chmod(\"os_dir/test.txt\", 0o762)"
   ]
  },
  {
   "cell_type": "code",
   "execution_count": 70,
   "metadata": {},
   "outputs": [
    {
     "name": "stdout",
     "output_type": "stream",
     "text": [
      "-rwxrw--w-  1 radajin  staff  12  3 22 15:26 \u001b[31mos_dir/test.txt\u001b[m\u001b[m*\r\n"
     ]
    }
   ],
   "source": [
    "%ls -al os_dir/test.txt"
   ]
  },
  {
   "cell_type": "code",
   "execution_count": 71,
   "metadata": {},
   "outputs": [],
   "source": [
    "# - -wx r-x --x\n",
    "# 351"
   ]
  },
  {
   "cell_type": "markdown",
   "metadata": {
    "slideshow": {
     "slide_type": "-"
    }
   },
   "source": [
    "테스트 디렉토리 제거"
   ]
  },
  {
   "cell_type": "code",
   "execution_count": 72,
   "metadata": {},
   "outputs": [],
   "source": [
    "!rm -rf file"
   ]
  },
  {
   "cell_type": "code",
   "execution_count": 73,
   "metadata": {},
   "outputs": [],
   "source": [
    "!rm -rf os_dir"
   ]
  },
  {
   "cell_type": "code",
   "execution_count": null,
   "metadata": {},
   "outputs": [],
   "source": []
  },
  {
   "cell_type": "markdown",
   "metadata": {},
   "source": [
    "#### 카테고리 분류기로 문서 분류하기"
   ]
  },
  {
   "cell_type": "code",
   "execution_count": 3,
   "metadata": {},
   "outputs": [],
   "source": [
    "import os"
   ]
  },
  {
   "cell_type": "code",
   "execution_count": 18,
   "metadata": {},
   "outputs": [],
   "source": [
    "# 1. 디렉토리생성"
   ]
  },
  {
   "cell_type": "code",
   "execution_count": 19,
   "metadata": {},
   "outputs": [
    {
     "data": {
      "text/plain": [
       "dict_keys([100, 101, 102, 103, 104, 105])"
      ]
     },
     "execution_count": 19,
     "metadata": {},
     "output_type": "execute_result"
    }
   ],
   "source": [
    "categories = {100:\"정치\", 101:\"경제\", 102:\"사회\", 103:\"생활/문화\", 104:\"세계\", 105:\"IT/과학\"}\n",
    "categories.keys()"
   ]
  },
  {
   "cell_type": "code",
   "execution_count": 20,
   "metadata": {
    "collapsed": true
   },
   "outputs": [
    {
     "ename": "FileExistsError",
     "evalue": "[Errno 17] File exists: 'articles/100'",
     "output_type": "error",
     "traceback": [
      "\u001b[0;31m---------------------------------------------------------------------------\u001b[0m",
      "\u001b[0;31mFileExistsError\u001b[0m                           Traceback (most recent call last)",
      "\u001b[0;32m<ipython-input-20-546c8a513537>\u001b[0m in \u001b[0;36m<module>\u001b[0;34m\u001b[0m\n\u001b[1;32m      1\u001b[0m \u001b[0;32mfor\u001b[0m \u001b[0mdname\u001b[0m \u001b[0;32min\u001b[0m \u001b[0mcategories\u001b[0m\u001b[0;34m.\u001b[0m\u001b[0mkeys\u001b[0m\u001b[0;34m(\u001b[0m\u001b[0;34m)\u001b[0m\u001b[0;34m:\u001b[0m\u001b[0;34m\u001b[0m\u001b[0;34m\u001b[0m\u001b[0m\n\u001b[0;32m----> 2\u001b[0;31m     \u001b[0mos\u001b[0m\u001b[0;34m.\u001b[0m\u001b[0mmakedirs\u001b[0m\u001b[0;34m(\u001b[0m\u001b[0;34m\"articles/{}\"\u001b[0m\u001b[0;34m.\u001b[0m\u001b[0mformat\u001b[0m\u001b[0;34m(\u001b[0m\u001b[0mdname\u001b[0m\u001b[0;34m)\u001b[0m\u001b[0;34m)\u001b[0m\u001b[0;34m\u001b[0m\u001b[0;34m\u001b[0m\u001b[0m\n\u001b[0m",
      "\u001b[0;32m/usr/local/anaconda3/lib/python3.7/os.py\u001b[0m in \u001b[0;36mmakedirs\u001b[0;34m(name, mode, exist_ok)\u001b[0m\n\u001b[1;32m    219\u001b[0m             \u001b[0;32mreturn\u001b[0m\u001b[0;34m\u001b[0m\u001b[0;34m\u001b[0m\u001b[0m\n\u001b[1;32m    220\u001b[0m     \u001b[0;32mtry\u001b[0m\u001b[0;34m:\u001b[0m\u001b[0;34m\u001b[0m\u001b[0;34m\u001b[0m\u001b[0m\n\u001b[0;32m--> 221\u001b[0;31m         \u001b[0mmkdir\u001b[0m\u001b[0;34m(\u001b[0m\u001b[0mname\u001b[0m\u001b[0;34m,\u001b[0m \u001b[0mmode\u001b[0m\u001b[0;34m)\u001b[0m\u001b[0;34m\u001b[0m\u001b[0;34m\u001b[0m\u001b[0m\n\u001b[0m\u001b[1;32m    222\u001b[0m     \u001b[0;32mexcept\u001b[0m \u001b[0mOSError\u001b[0m\u001b[0;34m:\u001b[0m\u001b[0;34m\u001b[0m\u001b[0;34m\u001b[0m\u001b[0m\n\u001b[1;32m    223\u001b[0m         \u001b[0;31m# Cannot rely on checking for EEXIST, since the operating system\u001b[0m\u001b[0;34m\u001b[0m\u001b[0;34m\u001b[0m\u001b[0;34m\u001b[0m\u001b[0m\n",
      "\u001b[0;31mFileExistsError\u001b[0m: [Errno 17] File exists: 'articles/100'"
     ]
    }
   ],
   "source": [
    "for dname in categories.keys():\n",
    "    os.makedirs(\"articles/{}\".format(dname))"
   ]
  },
  {
   "cell_type": "code",
   "execution_count": 21,
   "metadata": {},
   "outputs": [
    {
     "name": "stdout",
     "output_type": "stream",
     "text": [
      "\u001b[1m\u001b[36m100\u001b[m\u001b[m       \u001b[1m\u001b[36m101\u001b[m\u001b[m       \u001b[1m\u001b[36m102\u001b[m\u001b[m       \u001b[1m\u001b[36m103\u001b[m\u001b[m       \u001b[1m\u001b[36m104\u001b[m\u001b[m       \u001b[1m\u001b[36m105\u001b[m\u001b[m       model.pkl \u001b[1m\u001b[36mtexts\u001b[m\u001b[m\r\n"
     ]
    }
   ],
   "source": [
    "!ls articles"
   ]
  },
  {
   "cell_type": "code",
   "execution_count": 14,
   "metadata": {},
   "outputs": [],
   "source": [
    "# 2. 텍스트 리스트 가져오기"
   ]
  },
  {
   "cell_type": "code",
   "execution_count": 23,
   "metadata": {},
   "outputs": [
    {
     "data": {
      "text/plain": [
       "(237, ['101_일본차3만대수입할때한국차는고작32대수출.txt', '105_상반기후후앱스팸신고1048만건전년比29%↑.txt'])"
      ]
     },
     "execution_count": 23,
     "metadata": {},
     "output_type": "execute_result"
    }
   ],
   "source": [
    "articles = os.listdir(\"articles/texts\")\n",
    "len(articles), articles[:2]"
   ]
  },
  {
   "cell_type": "code",
   "execution_count": 17,
   "metadata": {},
   "outputs": [
    {
     "data": {
      "text/plain": [
       "237"
      ]
     },
     "execution_count": 17,
     "metadata": {},
     "output_type": "execute_result"
    }
   ],
   "source": [
    "articles = !ls articles/texts\n",
    "len(articles)"
   ]
  },
  {
   "cell_type": "code",
   "execution_count": null,
   "metadata": {},
   "outputs": [],
   "source": [
    "# 3. 모델 불러오기"
   ]
  },
  {
   "cell_type": "code",
   "execution_count": 26,
   "metadata": {},
   "outputs": [],
   "source": [
    "import pickle\n",
    "\n",
    "# 모델 불러오기\n",
    "with open(\"articles/model.pkl\", \"rb\") as f:\n",
    "    model = pickle.load(f)"
   ]
  },
  {
   "cell_type": "code",
   "execution_count": 32,
   "metadata": {},
   "outputs": [
    {
     "data": {
      "text/plain": [
       "'그동안 일본 수입차는 국내에서 승승장구해왔습니다. 올해 상반기에만 3만대가 팔렸습니다.  '"
      ]
     },
     "execution_count": 32,
     "metadata": {},
     "output_type": "execute_result"
    }
   ],
   "source": [
    "# 텍스트 불러오기\n",
    "with open(\"articles/texts/{}\".format(articles[0]), \"rt\") as f:\n",
    "    article_txt = f.read()\n",
    "\n",
    "article_txt[:50]"
   ]
  },
  {
   "cell_type": "code",
   "execution_count": 35,
   "metadata": {},
   "outputs": [
    {
     "data": {
      "text/plain": [
       "(101, '경제')"
      ]
     },
     "execution_count": 35,
     "metadata": {},
     "output_type": "execute_result"
    }
   ],
   "source": [
    "# 모델로 예측하기\n",
    "category = model.predict([article_txt])[0]\n",
    "category, categories[category]"
   ]
  },
  {
   "cell_type": "code",
   "execution_count": 36,
   "metadata": {},
   "outputs": [],
   "source": [
    "# 4. 파일 이동하기"
   ]
  },
  {
   "cell_type": "code",
   "execution_count": 37,
   "metadata": {},
   "outputs": [
    {
     "data": {
      "text/plain": [
       "'101_일본차3만대수입할때한국차는고작32대수출.txt'"
      ]
     },
     "execution_count": 37,
     "metadata": {},
     "output_type": "execute_result"
    }
   ],
   "source": [
    "articles[0]"
   ]
  },
  {
   "cell_type": "code",
   "execution_count": 38,
   "metadata": {},
   "outputs": [],
   "source": [
    "os.rename(\"articles/texts/{}\".format(articles[0]), \"articles/{}/{}\".format(category, articles[0]))"
   ]
  },
  {
   "cell_type": "code",
   "execution_count": 41,
   "metadata": {},
   "outputs": [
    {
     "name": "stdout",
     "output_type": "stream",
     "text": [
      "101_일본차3만대수입할때한국차는고작32대수출.txt\r\n"
     ]
    }
   ],
   "source": [
    "!ls articles/101"
   ]
  },
  {
   "cell_type": "code",
   "execution_count": 42,
   "metadata": {},
   "outputs": [
    {
     "data": {
      "text/plain": [
       "'그동안 일본 수입차는 국내에서 승승장구해왔습니다. 올해 상반기에만 3만대가 팔렸습니다.  '"
      ]
     },
     "execution_count": 42,
     "metadata": {},
     "output_type": "execute_result"
    }
   ],
   "source": [
    "with open(\"articles/101/{}\".format(articles[0]), \"rt\") as f:\n",
    "    article_txt = f.read()\n",
    "article_txt[:50]"
   ]
  },
  {
   "cell_type": "code",
   "execution_count": 43,
   "metadata": {},
   "outputs": [],
   "source": [
    "# 5. 반복문으로 만들기"
   ]
  },
  {
   "cell_type": "code",
   "execution_count": 46,
   "metadata": {},
   "outputs": [
    {
     "name": "stdout",
     "output_type": "stream",
     "text": [
      "0 1 2 3 4 5 6 7 8 9 10 11 12 13 14 15 16 17 18 19 20 21 22 23 24 25 26 27 28 29 30 31 32 33 34 35 36 37 38 39 40 41 42 43 44 45 46 47 48 49 50 51 52 53 54 55 56 57 58 59 60 61 62 63 64 65 66 67 68 69 70 71 72 73 74 75 76 77 78 79 80 81 82 83 84 85 86 87 88 89 90 91 92 93 94 95 96 97 98 99 100 101 102 103 104 105 106 107 108 109 110 111 112 113 114 115 116 117 118 119 120 121 122 123 124 125 126 127 128 129 130 131 132 133 134 135 136 137 138 139 140 141 142 143 144 145 146 147 148 149 150 151 152 153 154 155 156 157 158 159 160 161 162 163 164 165 166 167 168 169 170 171 172 173 174 175 176 177 178 179 180 181 182 183 184 185 186 187 188 189 190 191 192 193 194 195 196 197 198 199 200 201 202 203 204 205 206 207 208 209 210 211 212 213 214 215 216 217 218 219 220 221 222 223 224 225 226 227 228 229 230 231 232 233 234 235 "
     ]
    }
   ],
   "source": [
    "for idx, filename in enumerate(articles[1:]):\n",
    "\n",
    "    # 1. 텍스트 불러오기\n",
    "    with open(\"articles/texts/{}\".format(filename), \"rt\") as f:\n",
    "        article_txt = f.read()\n",
    "        \n",
    "    # 2. 모델로 카테고리 예측하기\n",
    "    category = model.predict([article_txt])[0]\n",
    "    \n",
    "    # 3. 파일 이동하기\n",
    "    os.rename(\"articles/texts/{}\".format(filename), \"articles/{}/{}\".format(category, filename))\n",
    "    \n",
    "    print(idx, end=\" \")"
   ]
  }
 ],
 "metadata": {
  "kernelspec": {
   "display_name": "Python 3",
   "language": "python",
   "name": "python3"
  },
  "language_info": {
   "codemirror_mode": {
    "name": "ipython",
    "version": 3
   },
   "file_extension": ".py",
   "mimetype": "text/x-python",
   "name": "python",
   "nbconvert_exporter": "python",
   "pygments_lexer": "ipython3",
   "version": "3.7.6"
  }
 },
 "nbformat": 4,
 "nbformat_minor": 2
}
