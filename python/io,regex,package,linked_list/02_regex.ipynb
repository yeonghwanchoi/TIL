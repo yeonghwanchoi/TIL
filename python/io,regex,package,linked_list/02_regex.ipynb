{
 "cells": [
  {
   "cell_type": "markdown",
   "metadata": {
    "slideshow": {
     "slide_type": "slide"
    }
   },
   "source": [
    "## 정규표현식 - regex"
   ]
  },
  {
   "cell_type": "markdown",
   "metadata": {
    "slideshow": {
     "slide_type": "-"
    }
   },
   "source": [
    "### 1. 정규표현식이란?"
   ]
  },
  {
   "cell_type": "markdown",
   "metadata": {},
   "source": [
    "- 문자열을 처리할때 특정 패턴으로 문자열을 처리하는 방법입니다.\n",
    "\n",
    "- 정규표현식 함수\n",
    "    - match : 문자열의 가장 앞에서 일치하는 패턴 찾기\n",
    "    - search : 문자열에서 가장 첫번째로 일치하는 패턴 찾기\n",
    "    - findall : 일치하는 패턴을 모두 찾기\n",
    "    - split : 문자열을 특정 패턴으로 나누기\n",
    "    - sub : 특정 패턴에 맞는 문자열을 대체 하기\n",
    "- pattern\n",
    "\n",
    "- 중고나라\n",
    "    - 01o일이삼3구칠82 -> (정규표현식 패턴 + sub) -> 01012339782"
   ]
  },
  {
   "cell_type": "markdown",
   "metadata": {
    "slideshow": {
     "slide_type": "slide"
    }
   },
   "source": [
    "### 2. 정규표현식 함수"
   ]
  },
  {
   "cell_type": "code",
   "execution_count": 1,
   "metadata": {},
   "outputs": [],
   "source": [
    "import re\n",
    "s = \"python jupyter notebook fighting. datascience fighting. jupyter notebook fighting.\""
   ]
  },
  {
   "cell_type": "markdown",
   "metadata": {
    "slideshow": {
     "slide_type": "-"
    }
   },
   "source": [
    "##### match"
   ]
  },
  {
   "cell_type": "code",
   "execution_count": 2,
   "metadata": {},
   "outputs": [
    {
     "name": "stdout",
     "output_type": "stream",
     "text": [
      "<re.Match object; span=(0, 6), match='python'>\n",
      "None\n"
     ]
    }
   ],
   "source": [
    "# 가장 앞에서 부터 일치하는 패턴 찾기\n",
    "result1 = re.match(\"python\", s) # (패턴, 문자열)\n",
    "result2 = re.match(\"jupyter\", s) # (패턴, 문자열)\n",
    "print(result1)\n",
    "print(result2)"
   ]
  },
  {
   "cell_type": "markdown",
   "metadata": {
    "slideshow": {
     "slide_type": "-"
    }
   },
   "source": [
    "##### search"
   ]
  },
  {
   "cell_type": "code",
   "execution_count": 3,
   "metadata": {},
   "outputs": [
    {
     "name": "stdout",
     "output_type": "stream",
     "text": [
      "<re.Match object; span=(0, 6), match='python'>\n",
      "<re.Match object; span=(7, 14), match='jupyter'>\n"
     ]
    }
   ],
   "source": [
    "# 문자열에서 가장 첫번째로 일치하는 패턴을 찾기는것 입니다.\n",
    "result1 = re.search(\"python\", s) # (패턴, 문자열)\n",
    "result2 = re.search(\"jupyter\", s) # (패턴, 문자열)\n",
    "print(result1)\n",
    "print(result2)"
   ]
  },
  {
   "cell_type": "markdown",
   "metadata": {
    "slideshow": {
     "slide_type": "slide"
    }
   },
   "source": [
    "##### findall"
   ]
  },
  {
   "cell_type": "code",
   "execution_count": 4,
   "metadata": {},
   "outputs": [
    {
     "name": "stdout",
     "output_type": "stream",
     "text": [
      "['python']\n",
      "['jupyter', 'jupyter']\n"
     ]
    }
   ],
   "source": [
    "# 일치하는 패턴을 모두 찾습니다.\n",
    "result1 = re.findall(\"python\", s) # (패턴, 문자열)\n",
    "result2 = re.findall(\"jupyter\", s) # (패턴, 문자열)\n",
    "print(result1)\n",
    "print(result2)"
   ]
  },
  {
   "cell_type": "markdown",
   "metadata": {
    "slideshow": {
     "slide_type": "-"
    }
   },
   "source": [
    "##### split"
   ]
  },
  {
   "cell_type": "code",
   "execution_count": 5,
   "metadata": {},
   "outputs": [
    {
     "data": {
      "text/plain": [
       "['python jupyter notebook f', 'ght', 'ng!']"
      ]
     },
     "execution_count": 5,
     "metadata": {},
     "output_type": "execute_result"
    }
   ],
   "source": [
    "# 패턴으로 문자열을 나누서 리스트로 만들어 줍니다. \n",
    "# 여러가지 문자로 나누고 싶을때, string.split(\",\" \"%\") 체이닝을 이용해서 여러번 함수를 호출해야 합니다.\n",
    "# 패턴을 이용하여 한번만 함수를 호출해도 됩니다.\n",
    "s1 = \"python jupyter notebook fighting!\"\n",
    "result = re.split(\"i\", s1)\n",
    "result"
   ]
  },
  {
   "cell_type": "markdown",
   "metadata": {
    "slideshow": {
     "slide_type": "slide"
    }
   },
   "source": [
    "##### sub"
   ]
  },
  {
   "cell_type": "code",
   "execution_count": 6,
   "metadata": {},
   "outputs": [
    {
     "name": "stdout",
     "output_type": "stream",
     "text": [
      "python jupyter notebook fighting. datascience fighting. jupyter notebook fighting.\n"
     ]
    },
    {
     "data": {
      "text/plain": [
       "'java jupyter notebook fighting. datascience fighting. jupyter notebook fighting.'"
      ]
     },
     "execution_count": 6,
     "metadata": {},
     "output_type": "execute_result"
    }
   ],
   "source": [
    "# 일치하는 패턴을 대체\n",
    "print(s)\n",
    "re.sub(\"python\", \"java\", s) # (\"패턴\", \"해당되는 패턴을 바꿀문자열\", 전체 문자열)"
   ]
  },
  {
   "cell_type": "markdown",
   "metadata": {
    "slideshow": {
     "slide_type": "slide"
    }
   },
   "source": [
    "### 3. 패턴 - pattern\n",
    "- 문자\n",
    "    - 숫자인지 문자인지 특수문자인지등을 구분\n",
    "    - `\\d` : 숫자\n",
    "    - `\\D` : 비숫자\n",
    "    - `\\w` : 숫자, 문자, _\n",
    "    - `\\W` : 숫자, 문자, _ 제외\n",
    "    - `\\s` : 공백문자\n",
    "    - `\\S` : 비공백문자\n",
    "- 지정자\n",
    "    - 범위가 몇회 반복과 같은 패턴을 구분"
   ]
  },
  {
   "cell_type": "code",
   "execution_count": 7,
   "metadata": {},
   "outputs": [
    {
     "data": {
      "text/plain": [
       "(100,\n",
       " '0123456789abcdefghijklmnopqrstuvwxyzABCDEFGHIJKLMNOPQRSTUVWXYZ!\"#$%&\\'()*+,-./:;<=>?@[\\\\]^_`{|}~ \\t\\n\\r\\x0b\\x0c')"
      ]
     },
     "execution_count": 7,
     "metadata": {},
     "output_type": "execute_result"
    }
   ],
   "source": [
    "import string\n",
    "pt = string.printable\n",
    "len(pt), pt"
   ]
  },
  {
   "cell_type": "code",
   "execution_count": 8,
   "metadata": {
    "slideshow": {
     "slide_type": "slide"
    }
   },
   "outputs": [
    {
     "data": {
      "text/plain": [
       "'0123456789'"
      ]
     },
     "execution_count": 8,
     "metadata": {},
     "output_type": "execute_result"
    }
   ],
   "source": [
    "# \\d, \\D - 숫자와 비숫자를 찾는 패턴\n",
    "result = re.findall(\"\\d\", pt)\n",
    "# result = re.findall(\"[0-9]\", pt)\n",
    "''.join(result)"
   ]
  },
  {
   "cell_type": "code",
   "execution_count": 9,
   "metadata": {},
   "outputs": [
    {
     "data": {
      "text/plain": [
       "'abcdefghijklmnopqrstuvwxyzABCDEFGHIJKLMNOPQRSTUVWXYZ!\"#$%&\\'()*+,-./:;<=>?@[\\\\]^_`{|}~ \\t\\n\\r\\x0b\\x0c'"
      ]
     },
     "execution_count": 9,
     "metadata": {},
     "output_type": "execute_result"
    }
   ],
   "source": [
    "result = re.findall(\"\\D\", pt)\n",
    "''.join(result)"
   ]
  },
  {
   "cell_type": "code",
   "execution_count": 10,
   "metadata": {
    "slideshow": {
     "slide_type": "-"
    }
   },
   "outputs": [
    {
     "name": "stdout",
     "output_type": "stream",
     "text": [
      "0123456789abcdefghijklmnopqrstuvwxyzABCDEFGHIJKLMNOPQRSTUVWXYZ_\n"
     ]
    },
    {
     "data": {
      "text/plain": [
       "'!\"#$%&\\'()*+,-./:;<=>?@[\\\\]^`{|}~ \\t\\n\\r\\x0b\\x0c'"
      ]
     },
     "execution_count": 10,
     "metadata": {},
     "output_type": "execute_result"
    }
   ],
   "source": [
    "# 문자\n",
    "result = re.findall(\"\\w\", pt)\n",
    "print(''.join(result))\n",
    "result = re.findall(\"\\W\", pt)\n",
    "''.join(result)"
   ]
  },
  {
   "cell_type": "code",
   "execution_count": 11,
   "metadata": {
    "slideshow": {
     "slide_type": "-"
    }
   },
   "outputs": [
    {
     "name": "stdout",
     "output_type": "stream",
     "text": [
      "0123456789abcdefghijklmnopqrstuvwxyzABCDEFGHIJKLMNOPQRSTUVWXYZ!\"#$%&'()*+,-./:;<=>?@[\\]^_`{|}~\n"
     ]
    },
    {
     "data": {
      "text/plain": [
       "' \\t\\n\\r\\x0b\\x0c'"
      ]
     },
     "execution_count": 11,
     "metadata": {},
     "output_type": "execute_result"
    }
   ],
   "source": [
    "# 공백문자\n",
    "result = re.findall(\"\\S\", pt)\n",
    "print(''.join(result))\n",
    "result = re.findall(\"\\s\", pt)\n",
    "''.join(result)"
   ]
  },
  {
   "cell_type": "markdown",
   "metadata": {
    "slideshow": {
     "slide_type": "slide"
    }
   },
   "source": [
    "### 4. 지정자\n",
    "- `[]`: 문자\n",
    "- `-` : 범위\n",
    "- `.` : 하나의 문자\n",
    "- `?` : 0회 또는 1회 반복\n",
    "- `*` : 0회 이상 반복\n",
    "- `+` : 1회 이상 반복\n",
    "- `{m,n}` : m~n회 반복\n",
    "- `()` : 그룹핑"
   ]
  },
  {
   "cell_type": "code",
   "execution_count": 12,
   "metadata": {},
   "outputs": [
    {
     "data": {
      "text/plain": [
       "'0123456789abcdefghijklmnopqrstuvwxyzABCDEFGHIJKLMNOPQRSTUVWXYZ!\"#$%&\\'()*+,-./:;<=>?@[\\\\]^_`{|}~ \\t\\n\\r\\x0b\\x0c'"
      ]
     },
     "execution_count": 12,
     "metadata": {},
     "output_type": "execute_result"
    }
   ],
   "source": [
    "pt"
   ]
  },
  {
   "cell_type": "code",
   "execution_count": 13,
   "metadata": {
    "slideshow": {
     "slide_type": "-"
    }
   },
   "outputs": [
    {
     "data": {
      "text/plain": [
       "['1', 'a', 'b', 'c']"
      ]
     },
     "execution_count": 13,
     "metadata": {},
     "output_type": "execute_result"
    }
   ],
   "source": [
    "# [] : 문자\n",
    "re.findall(\"[abc1]\", pt)"
   ]
  },
  {
   "cell_type": "code",
   "execution_count": 14,
   "metadata": {
    "slideshow": {
     "slide_type": "slide"
    }
   },
   "outputs": [
    {
     "data": {
      "text/plain": [
       "['0', '1', '2', '3', '4', '5', '6', '7']"
      ]
     },
     "execution_count": 14,
     "metadata": {},
     "output_type": "execute_result"
    }
   ],
   "source": [
    "# - : 범위\n",
    "re.findall(\"[01234567]\", pt)"
   ]
  },
  {
   "cell_type": "code",
   "execution_count": 15,
   "metadata": {},
   "outputs": [
    {
     "data": {
      "text/plain": [
       "['0', '1', '2', '3', '4', '5', '6', '7']"
      ]
     },
     "execution_count": 15,
     "metadata": {},
     "output_type": "execute_result"
    }
   ],
   "source": [
    "re.findall(\"[0-7]\", pt)"
   ]
  },
  {
   "cell_type": "code",
   "execution_count": 16,
   "metadata": {},
   "outputs": [
    {
     "data": {
      "text/plain": [
       "['a', 'b', 'c', 'd', 'e', 'f']"
      ]
     },
     "execution_count": 16,
     "metadata": {},
     "output_type": "execute_result"
    }
   ],
   "source": [
    "re.findall(\"[a-f]\", pt)"
   ]
  },
  {
   "cell_type": "code",
   "execution_count": 17,
   "metadata": {},
   "outputs": [
    {
     "data": {
      "text/plain": [
       "['a', 'b', 'c', 'd', 'e', 'f', 'A', 'B', 'C', 'D', 'E', 'F']"
      ]
     },
     "execution_count": 17,
     "metadata": {},
     "output_type": "execute_result"
    }
   ],
   "source": [
    "re.findall(\"[a-fA-F]\", pt)"
   ]
  },
  {
   "cell_type": "code",
   "execution_count": 18,
   "metadata": {
    "slideshow": {
     "slide_type": "slide"
    }
   },
   "outputs": [
    {
     "name": "stdout",
     "output_type": "stream",
     "text": [
      "123aab123 ['aab']\n",
      "a0b ['a0b']\n",
      "abc []\n"
     ]
    }
   ],
   "source": [
    "# . : 문자하나\n",
    "ls = [\"123aab123\", \"a0b\", \"abc\"]\n",
    "for s in ls:\n",
    "    result = re.findall(\"a.b\", s)\n",
    "    print(s, result)"
   ]
  },
  {
   "cell_type": "code",
   "execution_count": 19,
   "metadata": {
    "slideshow": {
     "slide_type": "-"
    }
   },
   "outputs": [
    {
     "name": "stdout",
     "output_type": "stream",
     "text": [
      "aab ['aab']\n",
      "a3b ['a3b']\n",
      "abc ['ab']\n",
      "accb []\n"
     ]
    }
   ],
   "source": [
    "# ? : ? 앞에 있는 패턴을 0회 또는 1회 반복\n",
    "ls = [\"aab\", \"a3b\", \"abc\", \"accb\"]\n",
    "for s in ls:\n",
    "    # a + 어떤문자0개 또는 1개 + b\n",
    "    result = re.findall(\"a.?b\", s) \n",
    "    print(s, result)"
   ]
  },
  {
   "cell_type": "code",
   "execution_count": 20,
   "metadata": {
    "slideshow": {
     "slide_type": "slide"
    }
   },
   "outputs": [
    {
     "name": "stdout",
     "output_type": "stream",
     "text": [
      "ac ['ac']\n",
      "abc ['abc']\n",
      "abbbbc ['abbbbc']\n",
      "a3bec []\n"
     ]
    }
   ],
   "source": [
    "# * : 0회이상 반복\n",
    "ls = [\"ac\", \"abc\", \"abbbbc\", \"a3bec\"]\n",
    "for s in ls:\n",
    "    # a + b가 0회 이상 반복 + c\n",
    "    result = re.findall(\"ab*c\", s) \n",
    "    print(s, result)"
   ]
  },
  {
   "cell_type": "code",
   "execution_count": 21,
   "metadata": {
    "slideshow": {
     "slide_type": "-"
    }
   },
   "outputs": [
    {
     "name": "stdout",
     "output_type": "stream",
     "text": [
      "ac []\n",
      "abc ['abc']\n",
      "abbbbc ['abbbbc']\n",
      "a3bec []\n"
     ]
    }
   ],
   "source": [
    "# + : 1회이상 반복\n",
    "ls = [\"ac\", \"abc\", \"abbbbc\", \"a3bec\"]\n",
    "for s in ls:\n",
    "    # a + b가 1회 이상 반복 + c\n",
    "    result = re.findall(\"ab+c\", s) \n",
    "    print(s, result)"
   ]
  },
  {
   "cell_type": "code",
   "execution_count": 22,
   "metadata": {
    "slideshow": {
     "slide_type": "slide"
    }
   },
   "outputs": [
    {
     "name": "stdout",
     "output_type": "stream",
     "text": [
      "ac []\n",
      "abc ['abc']\n",
      "abbbbbc ['abbbbbc']\n",
      "abbbbbbbbbbc []\n"
     ]
    }
   ],
   "source": [
    "# {m} m회 반복\n",
    "# {m, n} m에서 n회 반복\n",
    "# + : 1회이상 반복\n",
    "ls = [\"ac\", \"abc\", \"abbbbbc\", \"abbbbbbbbbbc\"] # 5회, 10회\n",
    "for s in ls:\n",
    "    # a + b가 m회 ~ n회 반복 + c\n",
    "    result = re.findall(\"ab{1,8}c\", s) \n",
    "    print(s, result)"
   ]
  },
  {
   "cell_type": "code",
   "execution_count": 23,
   "metadata": {
    "slideshow": {
     "slide_type": "-"
    }
   },
   "outputs": [
    {
     "name": "stdout",
     "output_type": "stream",
     "text": [
      "aaa5.djfi [('5', 'dj')]\n",
      "abdddc5 []\n",
      "1abbbbc []\n",
      "a3.bec [('3', 'be')]\n"
     ]
    }
   ],
   "source": [
    "# () : 그룹핑\n",
    "ls = [\"aaa5.djfi\",\"abdddc5\",\"1abbbbc\",\"a3.bec\"]\n",
    "for s in ls:\n",
    "    # 그룹1(0~9의 숫자가 1회이상반복) + [.문자] + 그룹2(a ~ z가 2글자)\n",
    "    result = re.findall(\"([0-9]+)[.]([a-z]{2})\", s) \n",
    "    print(s, result)"
   ]
  },
  {
   "cell_type": "markdown",
   "metadata": {
    "slideshow": {
     "slide_type": "slide"
    }
   },
   "source": [
    "### 5. 예시 - example"
   ]
  },
  {
   "cell_type": "code",
   "execution_count": 24,
   "metadata": {
    "slideshow": {
     "slide_type": "-"
    }
   },
   "outputs": [
    {
     "data": {
      "text/plain": [
       "['pdj1224@gmail.com', 'radajin1224@gmail.com']"
      ]
     },
     "execution_count": 24,
     "metadata": {},
     "output_type": "execute_result"
    }
   ],
   "source": [
    "# 이메일 주소 찾기\n",
    "s = \"저의 이메일 주소는 pdj1224@gmail.com 입니다. 또한 radajin1224@gmail.com 도 가지고 있습니다.\"\n",
    "p = \"[0-9a-zA-Z]+@[0-9a-z]+\\.[0-9a-z]+\"\n",
    "re.findall(p, s)"
   ]
  },
  {
   "cell_type": "code",
   "execution_count": 25,
   "metadata": {
    "slideshow": {
     "slide_type": "-"
    }
   },
   "outputs": [
    {
     "name": "stdout",
     "output_type": "stream",
     "text": [
      "[('761211', '1023334')]\n"
     ]
    },
    {
     "data": {
      "text/plain": [
       "'저의 주민번호는 761211-******* 입니다.'"
      ]
     },
     "execution_count": 25,
     "metadata": {},
     "output_type": "execute_result"
    }
   ],
   "source": [
    "# 주민등록번호 : group 나눠서 변경 : 761211-1023334 -> 761211-*******\n",
    "# () 그룹핑을 사용\n",
    "s = \"저의 주민번호는 761211-1023334 입니다.\"\n",
    "p = \"([0-9]{6})[-]?([0-9]{7})\"\n",
    "print(re.findall(p, s))\n",
    "re.sub(p, \"\\g<1>-*******\", s)"
   ]
  },
  {
   "cell_type": "markdown",
   "metadata": {
    "slideshow": {
     "slide_type": "skip"
    }
   },
   "source": [
    "##### Quiz 1\n",
    "- `1234-5678-2345-6789` `1234 5678 2345-6789` 와 같은 카드 번호가 입력되면 가장 마지막 4자리를 `*`로 변경하는 코드를 작성하세요.\n",
    "```\n",
    "comment = \"저의 카드 번호는 1234-2331-1123-9485와 7384 1234 5432 1222와 73841234-5432 1222 입니다.\"\n",
    "```"
   ]
  },
  {
   "cell_type": "markdown",
   "metadata": {
    "slideshow": {
     "slide_type": "slide"
    }
   },
   "source": [
    "- 문자열에서 전화번호를 추출해서 바꾸기\n",
    "- 01o일이삼3구칠82 -> (정규표현식 패턴 + sub) -> 01012339782"
   ]
  },
  {
   "cell_type": "code",
   "execution_count": 26,
   "metadata": {},
   "outputs": [
    {
     "data": {
      "text/plain": [
       "['영일공-48구삼삼7이사', '010사팔구삼삼구삼일']"
      ]
     },
     "execution_count": 26,
     "metadata": {},
     "output_type": "execute_result"
    }
   ],
   "source": [
    "s = \"안녕하세요, 저의 전화번호는 영일공-48구삼삼7이사 그리고 010사팔구삼삼구삼일 입니다. 둘중에 하나로 연락하세요\"\n",
    "\n",
    "# 전화번호 패턴\n",
    "p = \"[0-9영공일이둘삼사오육칠팔구빵oO]{3}[-]?[0-9영공일이둘삼사오육칠팔구빵oO]{3,4}[-]?\\\n",
    "[0-9영공일이둘삼사오육칠팔구빵oO]{4}\"\n",
    "\n",
    "# 패턴 찾기\n",
    "numbers = re.findall(p, s)\n",
    "numbers"
   ]
  },
  {
   "cell_type": "code",
   "execution_count": 27,
   "metadata": {
    "slideshow": {
     "slide_type": "slide"
    }
   },
   "outputs": [],
   "source": [
    "# 숫자로 바꿔주기\n",
    "dic = {\n",
    "    \"영\":0, \"공\":0, \"일\":1, \"이\":2, \"둘\":2, \"삼\":3, \"사\":4,\n",
    "    \"오\":5, \"육\":6, \"칠\":7, \"팔\":8, \"구\":9, \"빵\":0, \"o\":0, \"O\":0,\n",
    "}"
   ]
  },
  {
   "cell_type": "code",
   "execution_count": 28,
   "metadata": {
    "slideshow": {
     "slide_type": "-"
    }
   },
   "outputs": [
    {
     "name": "stdout",
     "output_type": "stream",
     "text": [
      "01048933724\n",
      "01048933931\n"
     ]
    },
    {
     "data": {
      "text/plain": [
       "['01048933724', '01048933931']"
      ]
     },
     "execution_count": 28,
     "metadata": {},
     "output_type": "execute_result"
    }
   ],
   "source": [
    "result = []\n",
    "for number in numbers:\n",
    "    # number 영일공-48구삼삼7이사\n",
    "    #\"영\":0,\"공\":0,\"일\":1,\n",
    "    for key, value in dic.items():\n",
    "        number = number.replace(key, str(value))\n",
    "    number = number.replace(\"-\", \"\")\n",
    "    print(number)\n",
    "    result.append(number)\n",
    "result"
   ]
  },
  {
   "cell_type": "code",
   "execution_count": 29,
   "metadata": {
    "slideshow": {
     "slide_type": "slide"
    }
   },
   "outputs": [],
   "source": [
    "import re"
   ]
  },
  {
   "cell_type": "code",
   "execution_count": 30,
   "metadata": {},
   "outputs": [],
   "source": [
    "def find_tel(s):\n",
    "    \n",
    "    # 전화번호 패턴\n",
    "    p = \"[0-9영공일이둘삼사오육칠팔구빵oO]{3}[-]?[0-9영공일이둘삼사오육칠팔구빵oO]{3,4}[-]?[0-9영공일이둘삼사오육칠팔구빵oO]{4}\"\n",
    "\n",
    "    # 패턴 찾기\n",
    "    numbers = re.findall(p, s)\n",
    "    \n",
    "    # 숫자로 바꿔주기\n",
    "    dic = {\n",
    "        \"영\":0, \"공\":0, \"일\":1, \"이\":2, \"둘\":2, \"삼\":3, \"사\":4,\n",
    "        \"오\":5, \"육\":6, \"칠\":7, \"팔\":8, \"구\":9, \"빵\":0, \"o\":0, \"O\":0,\n",
    "    }\n",
    "    \n",
    "    result = []\n",
    "    for number in numbers:\n",
    "        # number 영일공-48구삼삼7이사\n",
    "        #\"영\":0,\"공\":0,\"일\":1,\n",
    "        for key, value in dic.items():\n",
    "            number = number.replace(key, str(value))\n",
    "        number = number.replace(\"-\", \"\")\n",
    "        result.append(number)\n",
    "    \n",
    "    return result"
   ]
  },
  {
   "cell_type": "code",
   "execution_count": 31,
   "metadata": {
    "slideshow": {
     "slide_type": "slide"
    }
   },
   "outputs": [],
   "source": [
    "import re"
   ]
  },
  {
   "cell_type": "code",
   "execution_count": 32,
   "metadata": {},
   "outputs": [],
   "source": [
    "s = \"안녕하세요, 저의 전화번호는 영일공-48구삼삼7이사 그리고 010사팔구삼삼구삼일 입니다. 둘중에 하나로 연락하세요\""
   ]
  },
  {
   "cell_type": "code",
   "execution_count": 33,
   "metadata": {},
   "outputs": [
    {
     "data": {
      "text/plain": [
       "['01048933724', '01048933931']"
      ]
     },
     "execution_count": 33,
     "metadata": {},
     "output_type": "execute_result"
    }
   ],
   "source": [
    "find_tel(s)"
   ]
  },
  {
   "cell_type": "code",
   "execution_count": null,
   "metadata": {},
   "outputs": [],
   "source": []
  },
  {
   "cell_type": "code",
   "execution_count": null,
   "metadata": {},
   "outputs": [],
   "source": []
  },
  {
   "cell_type": "code",
   "execution_count": null,
   "metadata": {},
   "outputs": [],
   "source": []
  },
  {
   "cell_type": "code",
   "execution_count": null,
   "metadata": {},
   "outputs": [],
   "source": [
    "#findall"
   ]
  },
  {
   "cell_type": "code",
   "execution_count": 2,
   "metadata": {},
   "outputs": [],
   "source": [
    "data = \"python jupyter notebook notedata test python macbook\""
   ]
  },
  {
   "cell_type": "code",
   "execution_count": 5,
   "metadata": {},
   "outputs": [
    {
     "data": {
      "text/plain": [
       "['notebook', 'macbook']"
      ]
     },
     "execution_count": 5,
     "metadata": {},
     "output_type": "execute_result"
    }
   ],
   "source": [
    "result = re.findall(\"[a-z]+book\", data)\n",
    "result"
   ]
  },
  {
   "cell_type": "code",
   "execution_count": null,
   "metadata": {},
   "outputs": [],
   "source": [
    "#sub"
   ]
  },
  {
   "cell_type": "code",
   "execution_count": 9,
   "metadata": {},
   "outputs": [
    {
     "data": {
      "text/plain": [
       "'python jupyter nottestbook notedata test python matestbook'"
      ]
     },
     "execution_count": 9,
     "metadata": {},
     "output_type": "execute_result"
    }
   ],
   "source": [
    "result_1=re.sub(\"[a-z+]book\", \"testbook\", data)\n",
    "result_1"
   ]
  },
  {
   "cell_type": "markdown",
   "metadata": {},
   "source": [
    "2, 정규 표현식 패턴"
   ]
  },
  {
   "cell_type": "code",
   "execution_count": 10,
   "metadata": {},
   "outputs": [],
   "source": [
    "import string"
   ]
  },
  {
   "cell_type": "code",
   "execution_count": 11,
   "metadata": {},
   "outputs": [
    {
     "data": {
      "text/plain": [
       "(100,\n",
       " '0123456789abcdefghijklmnopqrstuvwxyzABCDEFGHIJKLMNOPQRSTUVWXYZ!\"#$%&\\'()*+,-./:;<=>?@[\\\\]^_`{|}~ \\t\\n\\r\\x0b\\x0c')"
      ]
     },
     "execution_count": 11,
     "metadata": {},
     "output_type": "execute_result"
    }
   ],
   "source": [
    "data = string.printable\n",
    "len(data), data"
   ]
  },
  {
   "cell_type": "code",
   "execution_count": null,
   "metadata": {},
   "outputs": [],
   "source": [
    "#문자 "
   ]
  },
  {
   "cell_type": "code",
   "execution_count": 14,
   "metadata": {},
   "outputs": [
    {
     "data": {
      "text/plain": [
       "(['0', '1', '2', '3', '4', '5', '6', '7', '8', '9'],\n",
       " 'abcdefghijklmnopqrstuvwxyzABCDEFGHIJKLMNOPQRSTUVWXYZ!\"#$%&\\'()*+,-./:;<=>?@[\\\\]^_`{|}~ \\t\\n\\r\\x0b\\x0c')"
      ]
     },
     "execution_count": 14,
     "metadata": {},
     "output_type": "execute_result"
    }
   ],
   "source": [
    "#숫자 비숫자\n",
    "result_2=re.findall(\"\\d\",data)#\\d 숫자만 찾기\n",
    "result_3=re.findall(\"\\D\",data)#\\d 숫자가 아닌 문자\n",
    "result_2, \"\".join(result_3)"
   ]
  },
  {
   "cell_type": "code",
   "execution_count": 18,
   "metadata": {},
   "outputs": [
    {
     "data": {
      "text/plain": [
       "('0123456789abcdefghijklmnopqrstuvwxyzABCDEFGHIJKLMNOPQRSTUVWXYZ_',\n",
       " '!\"#$%&\\'()*+,-./:;<=>?@[\\\\]^`{|}~ \\t\\n\\r\\x0b\\x0c')"
      ]
     },
     "execution_count": 18,
     "metadata": {},
     "output_type": "execute_result"
    }
   ],
   "source": [
    "#숫자, 문자, _\n",
    "result_4=re.findall(\"\\w\",data)#숫자, 문자, _\n",
    "result_5=re.findall(\"\\W\",data)#이것 외\n",
    "\"\".join(result_4), \"\".join(result_5)"
   ]
  },
  {
   "cell_type": "code",
   "execution_count": 19,
   "metadata": {},
   "outputs": [
    {
     "data": {
      "text/plain": [
       "(' \\t\\n\\r\\x0b\\x0c',\n",
       " '0123456789abcdefghijklmnopqrstuvwxyzABCDEFGHIJKLMNOPQRSTUVWXYZ!\"#$%&\\'()*+,-./:;<=>?@[\\\\]^_`{|}~')"
      ]
     },
     "execution_count": 19,
     "metadata": {},
     "output_type": "execute_result"
    }
   ],
   "source": [
    "#공백문자\n",
    "result_6=re.findall(\"\\s\",data)\n",
    "result_7=re.findall(\"\\S\",data)\n",
    "\"\".join(result_6), \"\".join(result_7)"
   ]
  },
  {
   "cell_type": "code",
   "execution_count": 22,
   "metadata": {},
   "outputs": [
    {
     "data": {
      "text/plain": [
       "['a', 'b', 'c', 'd']"
      ]
     },
     "execution_count": 22,
     "metadata": {},
     "output_type": "execute_result"
    }
   ],
   "source": [
    "re.findall(\"[abdc]\",data)"
   ]
  },
  {
   "cell_type": "code",
   "execution_count": 23,
   "metadata": {},
   "outputs": [
    {
     "data": {
      "text/plain": [
       "['abcd']"
      ]
     },
     "execution_count": 23,
     "metadata": {},
     "output_type": "execute_result"
    }
   ],
   "source": [
    "re.findall(\"abcd\",data)"
   ]
  },
  {
   "cell_type": "code",
   "execution_count": 24,
   "metadata": {},
   "outputs": [
    {
     "data": {
      "text/plain": [
       "[]"
      ]
     },
     "execution_count": 24,
     "metadata": {},
     "output_type": "execute_result"
    }
   ],
   "source": [
    "re.findall(\"abdc\",data)"
   ]
  },
  {
   "cell_type": "code",
   "execution_count": 27,
   "metadata": {},
   "outputs": [
    {
     "data": {
      "text/plain": [
       "['0', '1', '2', '3', '4', '5', '6', '7', '8', '9', 'e', 'f', 'g', 'h']"
      ]
     },
     "execution_count": 27,
     "metadata": {},
     "output_type": "execute_result"
    }
   ],
   "source": [
    "result=re.findall(\"[0-9e-h]\",data)\n",
    "result"
   ]
  },
  {
   "cell_type": "code",
   "execution_count": 28,
   "metadata": {},
   "outputs": [
    {
     "data": {
      "text/plain": [
       "'0123456789abcdefghijklmnopqrstuvwxyzABCDEFGHIJKLMNOPQRSTUVWXYZ!\"#$%&\\'()*+,-./:;<=>?@[\\\\]^_`{|}~ \\t\\n\\r\\x0b\\x0c'"
      ]
     },
     "execution_count": 28,
     "metadata": {},
     "output_type": "execute_result"
    }
   ],
   "source": [
    "data"
   ]
  },
  {
   "cell_type": "code",
   "execution_count": 29,
   "metadata": {},
   "outputs": [],
   "source": [
    "data = \"jupyternotebook notebook testnotebook macnote\""
   ]
  },
  {
   "cell_type": "code",
   "execution_count": 30,
   "metadata": {},
   "outputs": [
    {
     "data": {
      "text/plain": [
       "['jupyternote', 'testnote', 'macnote']"
      ]
     },
     "execution_count": 30,
     "metadata": {},
     "output_type": "execute_result"
    }
   ],
   "source": [
    "re.findall(\"[a-z]+note\",data)"
   ]
  },
  {
   "cell_type": "code",
   "execution_count": 31,
   "metadata": {},
   "outputs": [
    {
     "data": {
      "text/plain": [
       "['jupyter', 'test', 'mac']"
      ]
     },
     "execution_count": 31,
     "metadata": {},
     "output_type": "execute_result"
    }
   ],
   "source": [
    "re.findall(\"([a-z]+)note\",data) #특정 패턴으로 찾고 그룹핑한 문자열만 출력"
   ]
  },
  {
   "cell_type": "code",
   "execution_count": 40,
   "metadata": {},
   "outputs": [],
   "source": [
    "new_data = \"저의 이메일 주소는 pdj1224@gmail.com 입니다. 또한 radajin1224@naver.co.kr 도 가지고 있습니다.\""
   ]
  },
  {
   "cell_type": "code",
   "execution_count": 41,
   "metadata": {},
   "outputs": [
    {
     "data": {
      "text/plain": [
       "['pdj1224@gmail.com', 'radajin1224@naver.co.kr']"
      ]
     },
     "execution_count": 41,
     "metadata": {},
     "output_type": "execute_result"
    }
   ],
   "source": [
    "#p = \"[0-9a-zA-Z]+@[0-9a-z]+\\.[0-9a-z]+\"\n",
    "re.findall(\"([a-z1-9]+@[a-z1-9.]+)\",new_data)"
   ]
  },
  {
   "cell_type": "code",
   "execution_count": 42,
   "metadata": {},
   "outputs": [
    {
     "data": {
      "text/plain": [
       "['gmail.', 'naver.']"
      ]
     },
     "execution_count": 42,
     "metadata": {},
     "output_type": "execute_result"
    }
   ],
   "source": [
    "re.findall(\"@([a-z1-9]+.).\",new_data)"
   ]
  },
  {
   "cell_type": "code",
   "execution_count": 49,
   "metadata": {},
   "outputs": [
    {
     "data": {
      "text/plain": [
       "['881222-1077890']"
      ]
     },
     "execution_count": 49,
     "metadata": {},
     "output_type": "execute_result"
    }
   ],
   "source": [
    "data = \"저의 주민등록번호는 881222-1077890 과 021222-3011890 또한 021222-5011890 입니다. 마음것 도용하세요!!!\"\n",
    "re.findall(\"([0-9]{6}[-]?[0-1][0-9]{6})\",data)"
   ]
  },
  {
   "cell_type": "code",
   "execution_count": null,
   "metadata": {},
   "outputs": [],
   "source": [
    "data = \"안녕하세요 저의 전화 번호는 영일공-사사37구삼99 또는 O1o-11칠사-팔오30 입니다 연락주세요.\"\n",
    "\n"
   ]
  },
  {
   "cell_type": "code",
   "execution_count": null,
   "metadata": {},
   "outputs": [],
   "source": []
  }
 ],
 "metadata": {
  "kernelspec": {
   "display_name": "Python 3",
   "language": "python",
   "name": "python3"
  },
  "language_info": {
   "codemirror_mode": {
    "name": "ipython",
    "version": 3
   },
   "file_extension": ".py",
   "mimetype": "text/x-python",
   "name": "python",
   "nbconvert_exporter": "python",
   "pygments_lexer": "ipython3",
   "version": "3.8.5"
  }
 },
 "nbformat": 4,
 "nbformat_minor": 2
}
