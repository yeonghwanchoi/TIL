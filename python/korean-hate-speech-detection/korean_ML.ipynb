{
 "cells": [
  {
   "cell_type": "code",
   "execution_count": 26,
   "metadata": {},
   "outputs": [],
   "source": [
    "from konlpy.tag import *"
   ]
  },
  {
   "cell_type": "markdown",
   "metadata": {},
   "source": [
    "train.hate.csv: the training set\n",
    "dev.hate.csv: the validation set\n",
    "test.hate.no_label.csv: the test set (w/o label)\n",
    "\n",
    "-----------------------------\n",
    "\n",
    "\n",
    "train.news_title.txt: article titles of comments in the training set\n",
    "dev.news_title.txt: article titles of comments in the validation set\n",
    "test.news_title.txt: article titles of comments in the test set\n",
    "unlabeled_comments.txt: comments without the label\n",
    "unlabeled_comments.news_title.txt: article titles of comments without the label"
   ]
  },
  {
   "cell_type": "code",
   "execution_count": 236,
   "metadata": {},
   "outputs": [],
   "source": [
    "df_train1=pd.read_csv(\"train.hate.csv\")\n",
    "df_val=pd.read_csv(\"dev.hate.csv\")\n",
    "df_test=pd.read_csv(\"test.hate.no_label.csv\")\n",
    "\n",
    "df_train_title1=pd.read_csv(\"train.news_title.txt\")\n",
    "df_train_title1"
   ]
  },
  {
   "cell_type": "code",
   "execution_count": 237,
   "metadata": {},
   "outputs": [
    {
     "data": {
      "text/html": [
       "<div>\n",
       "<style scoped>\n",
       "    .dataframe tbody tr th:only-of-type {\n",
       "        vertical-align: middle;\n",
       "    }\n",
       "\n",
       "    .dataframe tbody tr th {\n",
       "        vertical-align: top;\n",
       "    }\n",
       "\n",
       "    .dataframe thead th {\n",
       "        text-align: right;\n",
       "    }\n",
       "</style>\n",
       "<table border=\"1\" class=\"dataframe\">\n",
       "  <thead>\n",
       "    <tr style=\"text-align: right;\">\n",
       "      <th></th>\n",
       "      <th>title</th>\n",
       "    </tr>\n",
       "  </thead>\n",
       "  <tbody>\n",
       "    <tr>\n",
       "      <th>0</th>\n",
       "      <td>밤새 조문 행렬…故 전미선, 동료들이 그리워하는 따뜻한 배우 [종합]</td>\n",
       "    </tr>\n",
       "    <tr>\n",
       "      <th>1</th>\n",
       "      <td>'연중' 故 전미선, 생전 마지막 미공개 인터뷰…환하게 웃는 모습 '먹먹'[종합]</td>\n",
       "    </tr>\n",
       "    <tr>\n",
       "      <th>2</th>\n",
       "      <td>[단독] 잔나비, 라디오 출연 취소→'한밤' 방송 연기..비판 여론 ing(종합)</td>\n",
       "    </tr>\n",
       "    <tr>\n",
       "      <th>3</th>\n",
       "      <td>'아스달 연대기' 장동건-김옥빈, 들끓는 '욕망커플'→눈물범벅 '칼끝 대립'</td>\n",
       "    </tr>\n",
       "    <tr>\n",
       "      <th>4</th>\n",
       "      <td>[DA:이슈] ‘구하라 비보’ 최종범 항소심에 영향?…법조계 “‘공소권 없음’ 아냐”</td>\n",
       "    </tr>\n",
       "    <tr>\n",
       "      <th>...</th>\n",
       "      <td>...</td>\n",
       "    </tr>\n",
       "    <tr>\n",
       "      <th>7891</th>\n",
       "      <td>허지웅, 허투루 넘길 말 없었다…솔직하게 드러냈던 속사정</td>\n",
       "    </tr>\n",
       "    <tr>\n",
       "      <th>7892</th>\n",
       "      <td>이혜경, ‘오! 캐롤’ 공연 중 남편 오정욱 부고…오열 속 발인 [종합]</td>\n",
       "    </tr>\n",
       "    <tr>\n",
       "      <th>7893</th>\n",
       "      <td>'설경구♥' 송윤아, 아들과 즐거운 하루 \"전 엄마니까요\"</td>\n",
       "    </tr>\n",
       "    <tr>\n",
       "      <th>7894</th>\n",
       "      <td>[SC현장]\"연예인 인생 협박 유감\"…미소잃은 최민수, '보복운전 혐의' 2차 공판...</td>\n",
       "    </tr>\n",
       "    <tr>\n",
       "      <th>7895</th>\n",
       "      <td>[단독]스태프 사망사고 '서른이지만', 결국 오늘 촬영 취소</td>\n",
       "    </tr>\n",
       "  </tbody>\n",
       "</table>\n",
       "<p>7896 rows × 1 columns</p>\n",
       "</div>"
      ],
      "text/plain": [
       "                                                  title\n",
       "0                밤새 조문 행렬…故 전미선, 동료들이 그리워하는 따뜻한 배우 [종합]\n",
       "1         '연중' 故 전미선, 생전 마지막 미공개 인터뷰…환하게 웃는 모습 '먹먹'[종합]\n",
       "2         [단독] 잔나비, 라디오 출연 취소→'한밤' 방송 연기..비판 여론 ing(종합)\n",
       "3            '아스달 연대기' 장동건-김옥빈, 들끓는 '욕망커플'→눈물범벅 '칼끝 대립'\n",
       "4       [DA:이슈] ‘구하라 비보’ 최종범 항소심에 영향?…법조계 “‘공소권 없음’ 아냐”\n",
       "...                                                 ...\n",
       "7891                    허지웅, 허투루 넘길 말 없었다…솔직하게 드러냈던 속사정\n",
       "7892           이혜경, ‘오! 캐롤’ 공연 중 남편 오정욱 부고…오열 속 발인 [종합]\n",
       "7893                   '설경구♥' 송윤아, 아들과 즐거운 하루 \"전 엄마니까요\"\n",
       "7894  [SC현장]\"연예인 인생 협박 유감\"…미소잃은 최민수, '보복운전 혐의' 2차 공판...\n",
       "7895                  [단독]스태프 사망사고 '서른이지만', 결국 오늘 촬영 취소\n",
       "\n",
       "[7896 rows x 1 columns]"
      ]
     },
     "execution_count": 237,
     "metadata": {},
     "output_type": "execute_result"
    }
   ],
   "source": [
    "df_train_title=pd.DataFrame(df_train_title1.values, columns=[\"title\"])\n",
    "df_train_title.loc[7895]=0\n",
    "df_train_title.loc[1:7895]=df_train_title.loc[0:7894].values\n",
    "df_train_title.loc[0]=list(df_train_title1.columns)\n",
    "df_train_title"
   ]
  },
  {
   "cell_type": "code",
   "execution_count": 243,
   "metadata": {},
   "outputs": [],
   "source": [
    "result=pd.concat([df_train_title,df_train],axis=1)"
   ]
  },
  {
   "cell_type": "code",
   "execution_count": 245,
   "metadata": {},
   "outputs": [],
   "source": [
    "result[\"comments\"]=result[\"comments\"].apply(lambda x: re.sub('[!:\"#$%&\\*+,-/:;<=>@\\\\^_`{|}~]+','',x))"
   ]
  },
  {
   "cell_type": "code",
   "execution_count": 249,
   "metadata": {},
   "outputs": [
    {
     "data": {
      "text/html": [
       "<div>\n",
       "<style scoped>\n",
       "    .dataframe tbody tr th:only-of-type {\n",
       "        vertical-align: middle;\n",
       "    }\n",
       "\n",
       "    .dataframe tbody tr th {\n",
       "        vertical-align: top;\n",
       "    }\n",
       "\n",
       "    .dataframe thead th {\n",
       "        text-align: right;\n",
       "    }\n",
       "</style>\n",
       "<table border=\"1\" class=\"dataframe\">\n",
       "  <thead>\n",
       "    <tr style=\"text-align: right;\">\n",
       "      <th></th>\n",
       "      <th>title</th>\n",
       "      <th>comments</th>\n",
       "      <th>label</th>\n",
       "    </tr>\n",
       "  </thead>\n",
       "  <tbody>\n",
       "    <tr>\n",
       "      <th>1</th>\n",
       "      <td>'연중' 故 전미선, 생전 마지막 미공개 인터뷰…환하게 웃는 모습 '먹먹'[종합]</td>\n",
       "      <td>한국적인 미인의 대표적인 분너무나 곱고아름다운모습그모습뒤의 슬픔을 미처 알지못했네요ㅠ</td>\n",
       "      <td>none</td>\n",
       "    </tr>\n",
       "    <tr>\n",
       "      <th>3</th>\n",
       "      <td>'아스달 연대기' 장동건-김옥빈, 들끓는 '욕망커플'→눈물범벅 '칼끝 대립'</td>\n",
       "      <td>12화 어설펐는데 34화 지나서부터는 갈수록 너무 재밌던데</td>\n",
       "      <td>none</td>\n",
       "    </tr>\n",
       "    <tr>\n",
       "      <th>5</th>\n",
       "      <td>[공식입장] '1박2일' 측 \"정준영 출연 중단 결정…심각성 고려\"</td>\n",
       "      <td>108 진짜 이승기랑 비교된다</td>\n",
       "      <td>none</td>\n",
       "    </tr>\n",
       "    <tr>\n",
       "      <th>7</th>\n",
       "      <td>[Oh!쎈 초점] \"정우성 공개 저격\" 윤서인, 이쯤 되면 정우성 안티?</td>\n",
       "      <td>10년뒤 윤서인은 분명히 재평가될것임 말하나하나가 틀린게없음</td>\n",
       "      <td>none</td>\n",
       "    </tr>\n",
       "    <tr>\n",
       "      <th>10</th>\n",
       "      <td>이지훈, '99억의 여자' 출연…오나라와 부부 호흡[공식]</td>\n",
       "      <td>10살 차이가 넘을텐데 부부라고? 무슨 내용인지 긍금하네</td>\n",
       "      <td>none</td>\n",
       "    </tr>\n",
       "    <tr>\n",
       "      <th>...</th>\n",
       "      <td>...</td>\n",
       "      <td>...</td>\n",
       "      <td>...</td>\n",
       "    </tr>\n",
       "    <tr>\n",
       "      <th>7891</th>\n",
       "      <td>허지웅, 허투루 넘길 말 없었다…솔직하게 드러냈던 속사정</td>\n",
       "      <td>힘내세요 응원합니다</td>\n",
       "      <td>none</td>\n",
       "    </tr>\n",
       "    <tr>\n",
       "      <th>7892</th>\n",
       "      <td>이혜경, ‘오! 캐롤’ 공연 중 남편 오정욱 부고…오열 속 발인 [종합]</td>\n",
       "      <td>힘내세요삼가 고인의 명복을 빕니다</td>\n",
       "      <td>none</td>\n",
       "    </tr>\n",
       "    <tr>\n",
       "      <th>7893</th>\n",
       "      <td>'설경구♥' 송윤아, 아들과 즐거운 하루 \"전 엄마니까요\"</td>\n",
       "      <td>힘내세용  항상 응원합니닷</td>\n",
       "      <td>none</td>\n",
       "    </tr>\n",
       "    <tr>\n",
       "      <th>7894</th>\n",
       "      <td>[SC현장]\"연예인 인생 협박 유감\"…미소잃은 최민수, '보복운전 혐의' 2차 공판...</td>\n",
       "      <td>힘내소연기로 답해요나도 53살 인데 이런일 저런일 다 있더라구요인격을 믿습니다홨팅</td>\n",
       "      <td>none</td>\n",
       "    </tr>\n",
       "    <tr>\n",
       "      <th>7895</th>\n",
       "      <td>[단독]스태프 사망사고 '서른이지만', 결국 오늘 촬영 취소</td>\n",
       "      <td>힘들면 관뒀어야지 그게 현명한거다</td>\n",
       "      <td>none</td>\n",
       "    </tr>\n",
       "  </tbody>\n",
       "</table>\n",
       "<p>3486 rows × 3 columns</p>\n",
       "</div>"
      ],
      "text/plain": [
       "                                                  title  \\\n",
       "1         '연중' 故 전미선, 생전 마지막 미공개 인터뷰…환하게 웃는 모습 '먹먹'[종합]   \n",
       "3            '아스달 연대기' 장동건-김옥빈, 들끓는 '욕망커플'→눈물범벅 '칼끝 대립'   \n",
       "5                 [공식입장] '1박2일' 측 \"정준영 출연 중단 결정…심각성 고려\"   \n",
       "7              [Oh!쎈 초점] \"정우성 공개 저격\" 윤서인, 이쯤 되면 정우성 안티?   \n",
       "10                     이지훈, '99억의 여자' 출연…오나라와 부부 호흡[공식]   \n",
       "...                                                 ...   \n",
       "7891                    허지웅, 허투루 넘길 말 없었다…솔직하게 드러냈던 속사정   \n",
       "7892           이혜경, ‘오! 캐롤’ 공연 중 남편 오정욱 부고…오열 속 발인 [종합]   \n",
       "7893                   '설경구♥' 송윤아, 아들과 즐거운 하루 \"전 엄마니까요\"   \n",
       "7894  [SC현장]\"연예인 인생 협박 유감\"…미소잃은 최민수, '보복운전 혐의' 2차 공판...   \n",
       "7895                  [단독]스태프 사망사고 '서른이지만', 결국 오늘 촬영 취소   \n",
       "\n",
       "                                             comments label  \n",
       "1     한국적인 미인의 대표적인 분너무나 곱고아름다운모습그모습뒤의 슬픔을 미처 알지못했네요ㅠ  none  \n",
       "3                    12화 어설펐는데 34화 지나서부터는 갈수록 너무 재밌던데  none  \n",
       "5                                    108 진짜 이승기랑 비교된다  none  \n",
       "7                   10년뒤 윤서인은 분명히 재평가될것임 말하나하나가 틀린게없음  none  \n",
       "10                    10살 차이가 넘을텐데 부부라고? 무슨 내용인지 긍금하네  none  \n",
       "...                                               ...   ...  \n",
       "7891                                       힘내세요 응원합니다  none  \n",
       "7892                               힘내세요삼가 고인의 명복을 빕니다  none  \n",
       "7893                                 힘내세용  항상 응원합니닷    none  \n",
       "7894    힘내소연기로 답해요나도 53살 인데 이런일 저런일 다 있더라구요인격을 믿습니다홨팅  none  \n",
       "7895                               힘들면 관뒀어야지 그게 현명한거다  none  \n",
       "\n",
       "[3486 rows x 3 columns]"
      ]
     },
     "execution_count": 249,
     "metadata": {},
     "output_type": "execute_result"
    }
   ],
   "source": [
    "(result[result[\"label\"]==\"none\"])"
   ]
  },
  {
   "cell_type": "code",
   "execution_count": 14,
   "metadata": {},
   "outputs": [
    {
     "data": {
      "text/plain": [
       "'성룡딸우 컷트머리입니다ㅡ 금발이여친'"
      ]
     },
     "execution_count": 14,
     "metadata": {},
     "output_type": "execute_result"
    }
   ],
   "source": [
    "re.sub('[!:\"#$%&\\*+,-/:;<=>@\\\\^_`{|}~]+','',)"
   ]
  },
  {
   "cell_type": "code",
   "execution_count": null,
   "metadata": {},
   "outputs": [],
   "source": [
    "def preprocess(text):\n",
    "\n",
    "    text=text.lower()\n",
    "    # remove hyperlinks\n",
    "    text = re.sub(r'https?:\\/\\/.*[\\r\\n]*', '', text)\n",
    "    text = re.sub(r'http?:\\/\\/.*[\\r\\n]*', '', text)\n",
    "    #Replace &amp, &lt, &gt with &,<,> respectively\n",
    "    text=text.replace(r'&amp;?',r'and')\n",
    "    text=text.replace(r'&lt;',r'<')\n",
    "    text=text.replace(r'&gt;',r'>')\n",
    "    #remove hashtag sign\n",
    "    #text=re.sub(r\"#\",\"\",text)   \n",
    "    #remove mentions\n",
    "    text = re.sub(r\"(?:\\@)\\w+\", '', text)\n",
    "    #text=re.sub(r\"@\",\"\",text)\n",
    "    #remove non ascii chars\n",
    "    text=text.encode(\"ascii\",errors=\"ignore\").decode()\n",
    "    #remove some puncts (except . ! ?)\n",
    "    text=re.sub(r'[:\"#$%&\\*+,-/:;<=>@\\\\^_`{|}~]+','',text)\n",
    "    text=re.sub(r'[!]+','!',text)\n",
    "    text=re.sub(r'[?]+','?',text)\n",
    "    text=re.sub(r'[.]+','.',text)\n",
    "    text=re.sub(r\"'\",\"\",text)\n",
    "    text=re.sub(r\"\\(\",\"\",text)\n",
    "    text=re.sub(r\"\\)\",\"\",text)\n",
    "    \n",
    "    text=\" \".join(text.split())\n",
    "    return text"
   ]
  },
  {
   "cell_type": "code",
   "execution_count": null,
   "metadata": {},
   "outputs": [],
   "source": []
  }
 ],
 "metadata": {
  "kernelspec": {
   "display_name": "Python 3",
   "language": "python",
   "name": "python3"
  },
  "language_info": {
   "codemirror_mode": {
    "name": "ipython",
    "version": 3
   },
   "file_extension": ".py",
   "mimetype": "text/x-python",
   "name": "python",
   "nbconvert_exporter": "python",
   "pygments_lexer": "ipython3",
   "version": "3.8.5"
  }
 },
 "nbformat": 4,
 "nbformat_minor": 4
}
