{
 "cells": [
  {
   "cell_type": "code",
   "execution_count": null,
   "metadata": {},
   "outputs": [],
   "source": [
    "#python is the best Language -> Python is the best language.\n"
   ]
  },
  {
   "cell_type": "code",
   "execution_count": 5,
   "metadata": {},
   "outputs": [
    {
     "name": "stdout",
     "output_type": "stream",
     "text": [
      "input sentance :python is the best Language\n"
     ]
    },
    {
     "data": {
      "text/plain": [
       "'Python is the best language.'"
      ]
     },
     "execution_count": 5,
     "metadata": {},
     "output_type": "execute_result"
    }
   ],
   "source": [
    "sentence = input(\"input sentance :\")\n",
    "result = sentence.lower()\n",
    "result = result[0].upper() + result[1:]\n",
    "if result[-1] !=\".\":\n",
    "    result +=\".\"\n",
    "result\n"
   ]
  },
  {
   "cell_type": "code",
   "execution_count": 83,
   "metadata": {
    "scrolled": true
   },
   "outputs": [
    {
     "data": {
      "text/plain": [
       "[8, 10, 14, 15, 23, 26]"
      ]
     },
     "execution_count": 83,
     "metadata": {},
     "output_type": "execute_result"
    }
   ],
   "source": [
    "#lottery code\n",
    "# while, not in, in, list.append()\n",
    "import random \n",
    "a=[]\n",
    "while True:\n",
    "    if len(a) > 5:\n",
    "        a.sort()\n",
    "        break\n",
    "    if a not in a:\n",
    "        a.append(random.randint(1,45))\n",
    "    elif a in a :\n",
    "        continue\n",
    "    \n",
    "a\n"
   ]
  },
  {
   "cell_type": "code",
   "execution_count": 90,
   "metadata": {},
   "outputs": [],
   "source": [
    "#Docstring\n",
    "def echo(msg):\n",
    "    'echo pirnt msg'\n",
    "    print(msg)"
   ]
  },
  {
   "cell_type": "code",
   "execution_count": 94,
   "metadata": {},
   "outputs": [],
   "source": [
    "def haha(msg):\n",
    "    \"\"\"\n",
    "    hahahahahahah\n",
    "    hohohoohohohoho\n",
    "        the operation is:\n",
    "        1. speak hahahah \n",
    "        2. and laugh hohohoho\n",
    "    \"\"\""
   ]
  },
  {
   "cell_type": "code",
   "execution_count": 95,
   "metadata": {},
   "outputs": [],
   "source": [
    "haha?"
   ]
  },
  {
   "cell_type": "code",
   "execution_count": 98,
   "metadata": {},
   "outputs": [
    {
     "name": "stdout",
     "output_type": "stream",
     "text": [
      "Help on function haha in module __main__:\n",
      "\n",
      "haha(msg)\n",
      "    hahahahahahah\n",
      "    hohohoohohohoho\n",
      "        the operation is:\n",
      "        1. speak hahahah \n",
      "        2. and laugh hohohoho\n",
      "\n"
     ]
    }
   ],
   "source": [
    "help(haha)"
   ]
  },
  {
   "cell_type": "code",
   "execution_count": 99,
   "metadata": {},
   "outputs": [
    {
     "name": "stdout",
     "output_type": "stream",
     "text": [
      "\n",
      "    hahahahahahah\n",
      "    hohohoohohohoho\n",
      "        the operation is:\n",
      "        1. speak hahahah \n",
      "        2. and laugh hohohoho\n",
      "    \n"
     ]
    }
   ],
   "source": [
    "print(haha.__doc__)"
   ]
  },
  {
   "cell_type": "code",
   "execution_count": 100,
   "metadata": {},
   "outputs": [],
   "source": [
    "df?"
   ]
  },
  {
   "cell_type": "code",
   "execution_count": null,
   "metadata": {},
   "outputs": [],
   "source": []
  }
 ],
 "metadata": {
  "kernelspec": {
   "display_name": "Python 3",
   "language": "python",
   "name": "python3"
  },
  "language_info": {
   "codemirror_mode": {
    "name": "ipython",
    "version": 3
   },
   "file_extension": ".py",
   "mimetype": "text/x-python",
   "name": "python",
   "nbconvert_exporter": "python",
   "pygments_lexer": "ipython3",
   "version": "3.7.6"
  }
 },
 "nbformat": 4,
 "nbformat_minor": 4
}
