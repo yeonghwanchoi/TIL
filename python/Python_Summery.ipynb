{
 "cells": [
  {
   "cell_type": "code",
   "execution_count": 1,
   "metadata": {},
   "outputs": [],
   "source": [
    "#python is the best Language -> Python is the best language.\n"
   ]
  },
  {
   "cell_type": "code",
   "execution_count": 2,
   "metadata": {},
   "outputs": [],
   "source": [
    "# sentence = input(\"input sentance :\")\n",
    "# result = sentence.lower()\n",
    "# result = result[0].upper() + result[1:]\n",
    "# if result[-1] !=\".\":\n",
    "#     result +=\".\"\n",
    "# result\n"
   ]
  },
  {
   "cell_type": "code",
   "execution_count": 3,
   "metadata": {
    "scrolled": true
   },
   "outputs": [
    {
     "data": {
      "text/plain": [
       "[8, 11, 29, 32, 36, 39]"
      ]
     },
     "execution_count": 3,
     "metadata": {},
     "output_type": "execute_result"
    }
   ],
   "source": [
    "#lottery code\n",
    "# while, not in, in, list.append()\n",
    "import random \n",
    "a=[]\n",
    "while True:\n",
    "    if len(a) > 5:\n",
    "        a.sort()\n",
    "        break\n",
    "    if a not in a:\n",
    "        a.append(random.randint(1,45))\n",
    "    elif a in a :\n",
    "        continue\n",
    "    \n",
    "a\n"
   ]
  },
  {
   "cell_type": "code",
   "execution_count": 4,
   "metadata": {},
   "outputs": [],
   "source": [
    "#Docstring\n",
    "def echo(msg):\n",
    "    'echo pirnt msg'\n",
    "    print(msg)"
   ]
  },
  {
   "cell_type": "code",
   "execution_count": 5,
   "metadata": {},
   "outputs": [],
   "source": [
    "def haha(msg):\n",
    "    \"\"\"\n",
    "    hahahahahahah\n",
    "    hohohoohohohoho\n",
    "        the operation is:\n",
    "        1. speak hahahah \n",
    "        2. and laugh hohohoho\n",
    "    \"\"\""
   ]
  },
  {
   "cell_type": "code",
   "execution_count": 6,
   "metadata": {},
   "outputs": [],
   "source": [
    "haha?"
   ]
  },
  {
   "cell_type": "code",
   "execution_count": 7,
   "metadata": {},
   "outputs": [
    {
     "name": "stdout",
     "output_type": "stream",
     "text": [
      "Help on function haha in module __main__:\n",
      "\n",
      "haha(msg)\n",
      "    hahahahahahah\n",
      "    hohohoohohohoho\n",
      "        the operation is:\n",
      "        1. speak hahahah \n",
      "        2. and laugh hohohoho\n",
      "\n"
     ]
    }
   ],
   "source": [
    "help(haha)"
   ]
  },
  {
   "cell_type": "code",
   "execution_count": 8,
   "metadata": {},
   "outputs": [
    {
     "name": "stdout",
     "output_type": "stream",
     "text": [
      "\n",
      "    hahahahahahah\n",
      "    hohohoohohohoho\n",
      "        the operation is:\n",
      "        1. speak hahahah \n",
      "        2. and laugh hohohoho\n",
      "    \n"
     ]
    }
   ],
   "source": [
    "print(haha.__doc__)"
   ]
  },
  {
   "cell_type": "code",
   "execution_count": 9,
   "metadata": {},
   "outputs": [
    {
     "name": "stdout",
     "output_type": "stream",
     "text": [
      "Object `df` not found.\n"
     ]
    }
   ],
   "source": [
    "df?"
   ]
  },
  {
   "cell_type": "code",
   "execution_count": 10,
   "metadata": {},
   "outputs": [
    {
     "data": {
      "text/plain": [
       "3"
      ]
     },
     "execution_count": 10,
     "metadata": {},
     "output_type": "execute_result"
    }
   ],
   "source": [
    "#inner function \n",
    "def out(a,b):\n",
    "    def inner(c,d):\n",
    "        return c+d\n",
    "    return a+b\n",
    "out(1,2)\n"
   ]
  },
  {
   "cell_type": "code",
   "execution_count": 11,
   "metadata": {},
   "outputs": [],
   "source": [
    "# inner(1,2)"
   ]
  },
  {
   "cell_type": "code",
   "execution_count": 12,
   "metadata": {},
   "outputs": [
    {
     "data": {
      "text/plain": [
       "'cs'"
      ]
     },
     "execution_count": 12,
     "metadata": {},
     "output_type": "execute_result"
    }
   ],
   "source": [
    "def out(a,b):\n",
    "    def inner(c,d):\n",
    "        return c+d\n",
    "    return inner\n",
    "out(1,2)(\"c\",\"s\")"
   ]
  },
  {
   "cell_type": "code",
   "execution_count": 13,
   "metadata": {},
   "outputs": [],
   "source": [
    "#call back \n",
    "def calc(func,a,b):\n",
    "    return func(a,b)"
   ]
  },
  {
   "cell_type": "code",
   "execution_count": 14,
   "metadata": {},
   "outputs": [],
   "source": [
    "def plus(a,b):\n",
    "    return a + b"
   ]
  },
  {
   "cell_type": "code",
   "execution_count": 15,
   "metadata": {},
   "outputs": [],
   "source": [
    "def minus(a,b):\n",
    "    return a-b"
   ]
  },
  {
   "cell_type": "code",
   "execution_count": 16,
   "metadata": {},
   "outputs": [
    {
     "data": {
      "text/plain": [
       "3"
      ]
     },
     "execution_count": 16,
     "metadata": {},
     "output_type": "execute_result"
    }
   ],
   "source": [
    "calc(plus,1,2)"
   ]
  },
  {
   "cell_type": "code",
   "execution_count": 17,
   "metadata": {},
   "outputs": [
    {
     "data": {
      "text/plain": [
       "-1"
      ]
     },
     "execution_count": 17,
     "metadata": {},
     "output_type": "execute_result"
    }
   ],
   "source": [
    "calc(minus,1,2)"
   ]
  },
  {
   "cell_type": "code",
   "execution_count": 18,
   "metadata": {},
   "outputs": [
    {
     "data": {
      "text/plain": [
       "5"
      ]
     },
     "execution_count": 18,
     "metadata": {},
     "output_type": "execute_result"
    }
   ],
   "source": [
    "def calc(func,a,b):\n",
    "    a **=2\n",
    "    b **=2\n",
    "    return func(a,b)\n",
    "calc(plus,1,2)"
   ]
  },
  {
   "cell_type": "code",
   "execution_count": 19,
   "metadata": {},
   "outputs": [
    {
     "data": {
      "text/plain": [
       "5"
      ]
     },
     "execution_count": 19,
     "metadata": {},
     "output_type": "execute_result"
    }
   ],
   "source": [
    "#lambda \n",
    "def plus(a,b):\n",
    "    return a+b\n",
    "plus(2,3)"
   ]
  },
  {
   "cell_type": "code",
   "execution_count": 20,
   "metadata": {},
   "outputs": [
    {
     "data": {
      "text/plain": [
       "400"
      ]
     },
     "execution_count": 20,
     "metadata": {},
     "output_type": "execute_result"
    }
   ],
   "source": [
    "#lambda \n",
    "calc(lambda a,b:a*b, 4,5)"
   ]
  },
  {
   "cell_type": "code",
   "execution_count": 21,
   "metadata": {},
   "outputs": [],
   "source": [
    "### 5. map, fillter, reduce\n"
   ]
  },
  {
   "cell_type": "code",
   "execution_count": 22,
   "metadata": {},
   "outputs": [
    {
     "data": {
      "text/plain": [
       "('odd', 'even')"
      ]
     },
     "execution_count": 22,
     "metadata": {},
     "output_type": "execute_result"
    }
   ],
   "source": [
    "ls = [1,2,3,4]\n",
    "def odd_even(num):\n",
    "    return \"odd\" if num %2 else \"even\"\n",
    "odd_even(3), odd_even(4)"
   ]
  },
  {
   "cell_type": "code",
   "execution_count": 23,
   "metadata": {},
   "outputs": [
    {
     "data": {
      "text/plain": [
       "['odd', 'even', 'odd', 'even']"
      ]
     },
     "execution_count": 23,
     "metadata": {},
     "output_type": "execute_result"
    }
   ],
   "source": [
    "list(map(odd_even, ls))"
   ]
  },
  {
   "cell_type": "code",
   "execution_count": 24,
   "metadata": {},
   "outputs": [
    {
     "data": {
      "text/plain": [
       "('odd', 'even', 'odd', 'even')"
      ]
     },
     "execution_count": 24,
     "metadata": {},
     "output_type": "execute_result"
    }
   ],
   "source": [
    "tuple(map(odd_even, ls))"
   ]
  },
  {
   "cell_type": "code",
   "execution_count": 25,
   "metadata": {},
   "outputs": [],
   "source": [
    "# datas=input(\"insult numbers :\")"
   ]
  },
  {
   "cell_type": "code",
   "execution_count": 26,
   "metadata": {},
   "outputs": [],
   "source": [
    "# result = datas.split(\" \")\n",
    "# result"
   ]
  },
  {
   "cell_type": "code",
   "execution_count": 27,
   "metadata": {},
   "outputs": [],
   "source": [
    "# result = list(map(int,result))\n",
    "# result"
   ]
  },
  {
   "cell_type": "code",
   "execution_count": 28,
   "metadata": {},
   "outputs": [
    {
     "data": {
      "text/plain": [
       "[1, 3, 5, 7, 9]"
      ]
     },
     "execution_count": 28,
     "metadata": {},
     "output_type": "execute_result"
    }
   ],
   "source": [
    "#Filter 리스트 데이터에서 특정 조건에 맞는 value만 남기는 함수\n",
    "ls1=range(10)\n",
    "result=list(filter(lambda data: True if data %2 else False, ls1))\n",
    "result"
   ]
  },
  {
   "cell_type": "code",
   "execution_count": 29,
   "metadata": {},
   "outputs": [],
   "source": [
    "from functools import reduce"
   ]
  },
  {
   "cell_type": "code",
   "execution_count": 30,
   "metadata": {},
   "outputs": [
    {
     "data": {
      "text/plain": [
       "10"
      ]
     },
     "execution_count": 30,
     "metadata": {},
     "output_type": "execute_result"
    }
   ],
   "source": [
    "ls2=range(5)\n",
    "reduce(lambda x,y:x+y,ls2)"
   ]
  },
  {
   "cell_type": "code",
   "execution_count": 31,
   "metadata": {},
   "outputs": [
    {
     "data": {
      "text/plain": [
       "'cba'"
      ]
     },
     "execution_count": 31,
     "metadata": {},
     "output_type": "execute_result"
    }
   ],
   "source": [
    "reduce(lambda x, y: y + x, ['a','b','c'])"
   ]
  },
  {
   "cell_type": "code",
   "execution_count": 32,
   "metadata": {},
   "outputs": [],
   "source": [
    "#decorator\n",
    "def c(func):\n",
    "    def wrapper(*args,**kwargs):\n",
    "        code_1\n",
    "        result = func(*arg,**kwargs) \n",
    "        code_3 \n",
    "        return result\n",
    "    return wrapper\n",
    "@c\n",
    "def a():\n",
    "    code_2\n",
    "@c\n",
    "def b():\n",
    "    code_4"
   ]
  },
  {
   "cell_type": "code",
   "execution_count": 33,
   "metadata": {},
   "outputs": [],
   "source": [
    "#a\n",
    "def plus(a,b):\n",
    "    print(\"start\")\n",
    "    result = a + b\n",
    "    print(\"result:{}\".format(result))\n",
    "    return result\n"
   ]
  },
  {
   "cell_type": "code",
   "execution_count": 34,
   "metadata": {},
   "outputs": [
    {
     "name": "stdout",
     "output_type": "stream",
     "text": [
      "start\n",
      "result:7\n"
     ]
    },
    {
     "data": {
      "text/plain": [
       "7"
      ]
     },
     "execution_count": 34,
     "metadata": {},
     "output_type": "execute_result"
    }
   ],
   "source": [
    "plus(3,4)"
   ]
  },
  {
   "cell_type": "code",
   "execution_count": 35,
   "metadata": {},
   "outputs": [],
   "source": [
    "#b\n",
    "def minus(a,b):\n",
    "    print(\"start\")\n",
    "    result = a - b\n",
    "    print(\"result:{}\".format(result))\n",
    "    return result\n"
   ]
  },
  {
   "cell_type": "code",
   "execution_count": 36,
   "metadata": {},
   "outputs": [
    {
     "name": "stdout",
     "output_type": "stream",
     "text": [
      "start\n",
      "result:1\n"
     ]
    },
    {
     "data": {
      "text/plain": [
       "1"
      ]
     },
     "execution_count": 36,
     "metadata": {},
     "output_type": "execute_result"
    }
   ],
   "source": [
    "minus(4,3)"
   ]
  },
  {
   "cell_type": "markdown",
   "metadata": {},
   "source": [
    "<h1>Decorator</h1>\n",
    "\n",
    "    Object that is used to modify a function or a class. A reference to a function \"func\" or a class \"C\" is passed to a decorator and the decorator returns a modified function or class."
   ]
  },
  {
   "cell_type": "code",
   "execution_count": 37,
   "metadata": {},
   "outputs": [],
   "source": [
    "#decorator \n",
    "def decorator(func):\n",
    "    def wrapper(*args,**kwargs):\n",
    "        print(\"start\")\n",
    "        result = func(*args,**kwargs)\n",
    "        print(\"result:{}\".format(result))\n",
    "    return wrapper\n"
   ]
  },
  {
   "cell_type": "code",
   "execution_count": 38,
   "metadata": {},
   "outputs": [],
   "source": [
    "@decorator \n",
    "def plus(a,b):\n",
    "    result = a + b\n",
    "    return result"
   ]
  },
  {
   "cell_type": "code",
   "execution_count": 39,
   "metadata": {},
   "outputs": [
    {
     "name": "stdout",
     "output_type": "stream",
     "text": [
      "start\n",
      "result:7\n"
     ]
    }
   ],
   "source": [
    "plus(3,4)"
   ]
  },
  {
   "cell_type": "code",
   "execution_count": 40,
   "metadata": {},
   "outputs": [],
   "source": [
    "import time \n",
    "def timer(func):\n",
    "    def wrapper(*args,**kwargs):\n",
    "        start_time = time.time()\n",
    "        result = func(*args,**kwargs)\n",
    "        end_time = time.time()\n",
    "        print(\"running time: {}\".format(end_time - start_time))\n",
    "    return wrapper"
   ]
  },
  {
   "cell_type": "code",
   "execution_count": 41,
   "metadata": {},
   "outputs": [],
   "source": [
    "@timer\n",
    "def test1(num1,num2):\n",
    "    data = range(num1,num2+1)\n",
    "    return sum(data)\n",
    "    "
   ]
  },
  {
   "cell_type": "code",
   "execution_count": 42,
   "metadata": {},
   "outputs": [],
   "source": [
    "@timer\n",
    "def test2(num1,num2):\n",
    "    result =0\n",
    "    for num in range(num1, num2+1):\n",
    "        result += num\n",
    "    return result"
   ]
  },
  {
   "cell_type": "code",
   "execution_count": 43,
   "metadata": {},
   "outputs": [
    {
     "name": "stdout",
     "output_type": "stream",
     "text": [
      "running time: 1.9073486328125e-06\n"
     ]
    }
   ],
   "source": [
    "test1(123,234)"
   ]
  },
  {
   "cell_type": "code",
   "execution_count": 44,
   "metadata": {},
   "outputs": [
    {
     "name": "stdout",
     "output_type": "stream",
     "text": [
      "running time: 9.298324584960938e-06\n"
     ]
    }
   ],
   "source": [
    "test2(123,234)"
   ]
  },
  {
   "cell_type": "code",
   "execution_count": 45,
   "metadata": {},
   "outputs": [],
   "source": [
    "def check_password(func):\n",
    "    def wrapper(*args,**kwargs):\n",
    "        pw = \"dss11\"\n",
    "        input_pw = input(\"input pw: \")\n",
    "        \n",
    "        #check password\n",
    "        if input_pw == pw:\n",
    "            result = fun(*argss,**kwargs)\n",
    "        else:\n",
    "            result = \"not allow!\"\n",
    "        return result\n",
    "    return wrapper"
   ]
  },
  {
   "cell_type": "code",
   "execution_count": 46,
   "metadata": {},
   "outputs": [
    {
     "data": {
      "text/plain": [
       "<function __main__.check_password.<locals>.wrapper(*args, **kwargs)>"
      ]
     },
     "execution_count": 46,
     "metadata": {},
     "output_type": "execute_result"
    }
   ],
   "source": [
    "#login decorator\n",
    "@check_password\n",
    "def lottery():\n",
    "    lotto=[]\n",
    "    while True:\n",
    "        number = random.randint(1,45)\n",
    "        if number not in lotto:\n",
    "            lotto.append(number)\n",
    "        if len(lotto) >= 6:\n",
    "            lotto.sort()\n",
    "            break\n",
    "    return lotto        \n",
    "lottery"
   ]
  },
  {
   "cell_type": "code",
   "execution_count": 73,
   "metadata": {},
   "outputs": [
    {
     "name": "stdout",
     "output_type": "stream",
     "text": [
      "insert user id and pw:test 1234\n",
      "h\n"
     ]
    }
   ],
   "source": [
    "# def need_login(func):\n",
    "#      def wrapper(*args,**kwargs):\n",
    "datas = [{\"id\" : \"test\", \"pw\" : \"1234\"},{\"id\" : \"haha\", \"pw\" : \"123\"}]\n",
    "user_id = [a[\"id\"] for a in datas] \n",
    "user_pw = [a[\"pw\"] for a in datas]\n",
    "    \n",
    "\n",
    "input_id, input_pw    \n",
    "\n",
    "if input_id in user_id and input_pw in user_pw:"
   ]
  },
  {
   "cell_type": "code",
   "execution_count": 83,
   "metadata": {},
   "outputs": [
    {
     "name": "stdout",
     "output_type": "stream",
     "text": [
      "insert user id and pw:test 123545\n",
      "wrong id or answer\n"
     ]
    }
   ],
   "source": [
    "class Trace:\n",
    "    datas = [{\"id\" : \"test\", \"pw\" : \"1234\"},{\"id\" : \"haha\", \"pw\" : \"123\"}]\n",
    "    user_id = [a[\"id\"] for a in datas] \n",
    "    user_pw = [a[\"pw\"] for a in datas]\n",
    "    \n",
    "    def __init__(self, func):   \n",
    "        self.func = func         \n",
    "        \n",
    "    def __call__(self):\n",
    "        input_id, input_pw = tuple(input(\"insert user id and pw:\").split(\" \")) \n",
    "        if input_id in self.user_id and input_pw in self.user_pw:\n",
    "            self.func() \n",
    "        else :\n",
    "            print(\"wrong id or answer\")                 \n",
    " \n",
    "@Trace    \n",
    "def welcome():\n",
    "    print('welcome home')\n",
    " \n",
    "welcome() "
   ]
  },
  {
   "cell_type": "code",
   "execution_count": 53,
   "metadata": {},
   "outputs": [
    {
     "data": {
      "text/plain": [
       "['test', 'haha']"
      ]
     },
     "execution_count": 53,
     "metadata": {},
     "output_type": "execute_result"
    }
   ],
   "source": [
    "datas = [\n",
    "                 {\"id\" : \"test\", \"pw\" : \"1234\"},\n",
    "                 {\"id\" : \"haha\", \"pw\" : \"123\"}  \n",
    "            ]\n",
    "user_id = [a[\"id\"] for a in datas]\n",
    "user_id"
   ]
  },
  {
   "cell_type": "code",
   "execution_count": null,
   "metadata": {},
   "outputs": [],
   "source": [
    "for user in datas\n",
    "    user[\"id\"]=input_id"
   ]
  },
  {
   "cell_type": "code",
   "execution_count": null,
   "metadata": {},
   "outputs": [],
   "source": [
    "list(datas[len(datas)-1])"
   ]
  },
  {
   "cell_type": "code",
   "execution_count": null,
   "metadata": {},
   "outputs": [],
   "source": [
    "list(range(2))"
   ]
  },
  {
   "cell_type": "code",
   "execution_count": null,
   "metadata": {},
   "outputs": [],
   "source": [
    "#class"
   ]
  },
  {
   "cell_type": "code",
   "execution_count": null,
   "metadata": {},
   "outputs": [],
   "source": [
    "class Calculator:\n",
    "    num1=1\n",
    "    num2=2\n",
    "    def plus(self):\n",
    "        return self.num1 + self.num2\n",
    "    def minus(self):\n",
    "        return self.num1 - self.num2"
   ]
  },
  {
   "cell_type": "code",
   "execution_count": null,
   "metadata": {},
   "outputs": [],
   "source": [
    "calc = Calculator()\n",
    "calc"
   ]
  },
  {
   "cell_type": "code",
   "execution_count": null,
   "metadata": {},
   "outputs": [],
   "source": [
    "calc.num1"
   ]
  },
  {
   "cell_type": "code",
   "execution_count": null,
   "metadata": {},
   "outputs": [],
   "source": [
    "calc.num2"
   ]
  },
  {
   "cell_type": "code",
   "execution_count": null,
   "metadata": {},
   "outputs": [],
   "source": [
    "calc.plus(), calc.minus()"
   ]
  },
  {
   "cell_type": "code",
   "execution_count": null,
   "metadata": {},
   "outputs": [],
   "source": [
    "calc2 = Calculator()\n",
    "calc2.num1 = 10 \n",
    "calc2.num2 = 14\n",
    "calc2.plus()"
   ]
  },
  {
   "cell_type": "markdown",
   "metadata": {},
   "source": [
    "<h1>Constructor</h1> \n",
    "\n",
    "    To initialize(assign values) to the data membersof the class when an object of class is created"
   ]
  },
  {
   "cell_type": "code",
   "execution_count": null,
   "metadata": {},
   "outputs": [],
   "source": [
    "class Calculator:\n",
    "    def __init__(self,num1=2,num2=1):#Constructor\n",
    "        self.num1 = num1\n",
    "        self.num2 = num2\n",
    "    def plus(self):\n",
    "        return self.num1 + self.num2\n",
    "    def minus(self):\n",
    "        return self.num1 - self.num2"
   ]
  },
  {
   "cell_type": "code",
   "execution_count": null,
   "metadata": {},
   "outputs": [],
   "source": [
    "calc1 = Calculator(3,4)"
   ]
  },
  {
   "cell_type": "code",
   "execution_count": null,
   "metadata": {},
   "outputs": [],
   "source": [
    "calc.plus()"
   ]
  },
  {
   "cell_type": "code",
   "execution_count": null,
   "metadata": {},
   "outputs": [],
   "source": [
    "calc1 = Calculator(3)"
   ]
  },
  {
   "cell_type": "markdown",
   "metadata": {},
   "source": [
    "<h1>Join</h1>\n",
    "\n",
    "    It is a method that string method returns a string in which the elements of sequence have been joined by str separator"
   ]
  },
  {
   "cell_type": "code",
   "execution_count": null,
   "metadata": {},
   "outputs": [],
   "source": [
    "ls = [\"python\",\"is\",\"good\"]\n",
    "\" \".join(ls)\n",
    "#sep=\" \""
   ]
  },
  {
   "cell_type": "code",
   "execution_count": null,
   "metadata": {},
   "outputs": [],
   "source": [
    "df=pd.DataFrame([{\"name\":\"jin\",\"age\":20},{\"name\":\"andy\", \"age\":21}])"
   ]
  },
  {
   "cell_type": "code",
   "execution_count": null,
   "metadata": {},
   "outputs": [],
   "source": [
    "df"
   ]
  },
  {
   "cell_type": "code",
   "execution_count": null,
   "metadata": {},
   "outputs": [],
   "source": [
    "sep.join(df)"
   ]
  },
  {
   "cell_type": "code",
   "execution_count": null,
   "metadata": {},
   "outputs": [],
   "source": []
  }
 ],
 "metadata": {
  "kernelspec": {
   "display_name": "Python 3",
   "language": "python",
   "name": "python3"
  },
  "language_info": {
   "codemirror_mode": {
    "name": "ipython",
    "version": 3
   },
   "file_extension": ".py",
   "mimetype": "text/x-python",
   "name": "python",
   "nbconvert_exporter": "python",
   "pygments_lexer": "ipython3",
   "version": "3.7.6"
  }
 },
 "nbformat": 4,
 "nbformat_minor": 4
}
