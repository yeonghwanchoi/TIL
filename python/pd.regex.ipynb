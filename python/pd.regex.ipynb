{
 "cells": [
  {
   "cell_type": "code",
   "execution_count": null,
   "metadata": {},
   "outputs": [],
   "source": [
    "import re\n",
    "^ - abc : abc로 시작해야 함 (abcd, abc12 등)\n",
    "$ - 이 패턴으로 종료되어야 함 xyz$ : xyz로 종료되어야 함 (123xyz, strxyz 등)\n",
    "[문자들] - 문자들 중에 하나이어야 함. 가능한 문자들의 집합을 정의함. [Pp]ython : \"Python\" 혹은 \"python\"  \n",
    "[^문자들] - [문자들]의 반대로 피해야할 문자들의 집합을 정의함. [^aeiou] : 소문자 모음이 아닌 문자들\n",
    "| - 두 패턴 중 하나이어야 함 (OR 기능) a | b : a 또는 b 이어야 함\n",
    "? 앞 패턴이 없거나 하나이어야 함 (Optional 패턴을 정의할 때 사용) \\d? : 숫자가 하나 있거나 없어야 함\n",
    "+ 앞 패턴이 하나 이상이어야 함 \\d+ : 숫자가 하나 이상이어야 함\n",
    "* 앞 패턴이 0개 이상이어야 함 \\d* : 숫자가 없거나 하나 이상이어야 함\n",
    "패턴{n} 앞 패턴이 n번 반복해서 나타나는 경우 \\d{3} : 숫자가 3개 있어야 함\n",
    "패턴{n, m} 앞 패턴이 최소 n번, 최대 m 번 반복해서 나타나는 경우 (n 또는 m 은 생략 가능)\t\\d{3,5} : 숫자가 3개, 4개 혹은 5개 있어야 함    \n",
    "\\d 숫자 0 ~ 9 \\d\\d\\d : 0 ~ 9 범위의 숫자가 3개를 의미 (123, 000 등)\n",
    "\\w 문자를 의미 \\w\\w\\w : 문자가 3개를 의미 (xyz, ABC 등)    \n",
    "\\s 화이트 스페이스를 의미하는데, [\\t\\n\\r\\f] 와 동일 \\s\\s : 화이트 스페이스 문자 2개 의미 (\\r\\n, \\t\\t 등)    \n",
    ". 뉴라인(\\n) 을 제외한 모든 문자를 의미 .{3} : 문자 3개 (F15, 0x0 등)    \n",
    "    "
   ]
  },
  {
   "cell_type": "code",
   "execution_count": null,
   "metadata": {},
   "outputs": [],
   "source": [
    "Character\tMeaning\n",
    "\\\t이스케이핑(escaping)\n",
    "^\t범위, 시작 지점,\n",
    "$\t범위, 끝나는 지점\n",
    "*\t수량, 없거나 더 많다 == {0,}\n",
    "+\t수량, 1보다 많다. == {1,}\n",
    "?\t수량, 없거나 하나이다.\n",
    ".\t일치, 문자 하나와 일치\n",
    "(x)\t일치, x와 일치하는 것을 찾은 후에 이에 접근할수 있도록 함\n",
    "x|y\t일치. x나 y와 일치\n",
    "t{n}\t수량. t와 n번 일치하는 문자열과 일치\n",
    "t{n,}\t수량, t와 n번 이상 일치하는 문자열과 일치\n",
    "t{n,m}\t수량. t와 n번 이상 m번 이하로 일치하는 문자열과 일치\n",
    "[xyz]\t일치. xyz중에 하나라도 일치하는 문자열과 일치"
   ]
  },
  {
   "cell_type": "code",
   "execution_count": 8,
   "metadata": {},
   "outputs": [
    {
     "data": {
      "text/plain": [
       "0     True\n",
       "1     True\n",
       "2     True\n",
       "3     True\n",
       "4     True\n",
       "5    False\n",
       "6     True\n",
       "7     True\n",
       "dtype: bool"
      ]
     },
     "execution_count": 8,
     "metadata": {},
     "output_type": "execute_result"
    }
   ],
   "source": [
    "s2 = pd.Series(['40', '40.0', '41', '41.0', '35','52','1234','1234'])\n",
    "s2.str.contains('[4+,3+]', regex=True)#4를 포함하는가"
   ]
  },
  {
   "cell_type": "code",
   "execution_count": 8,
   "metadata": {},
   "outputs": [
    {
     "name": "stdout",
     "output_type": "stream",
     "text": [
      "['에러 1122', '에러 1033']\n"
     ]
    }
   ],
   "source": [
    "import re\n",
    "text = \"에러 1122 : 레퍼런스 오류\\n 에러 1033: 아규먼트 오류\"\n",
    "regex = re.compile(\"에러\\s\\d+\")\n",
    "mc = regex.findall(text)\n",
    "print(mc)\n",
    "# 출력: ['에러 1122', '에러 1033']"
   ]
  },
  {
   "cell_type": "code",
   "execution_count": 2,
   "metadata": {},
   "outputs": [
    {
     "data": {
      "text/plain": [
       "0    False\n",
       "1     True\n",
       "2     True\n",
       "3     True\n",
       "4     True\n",
       "5     True\n",
       "6     True\n",
       "7     True\n",
       "dtype: bool"
      ]
     },
     "execution_count": 2,
     "metadata": {},
     "output_type": "execute_result"
    }
   ],
   "source": [
    "#^ - abc : abc로 시작해야 함 (abcd, abc12 등)\n",
    "s2 = pd.Series(['4', '40.0', '41', '41.0', '35','52','1234','1234'])\n",
    "s2.str.contains('[^4]', regex=True)#4를 빼고\n"
   ]
  },
  {
   "cell_type": "code",
   "execution_count": 10,
   "metadata": {},
   "outputs": [
    {
     "data": {
      "text/plain": [
       "0     True\n",
       "1     True\n",
       "2    False\n",
       "3     True\n",
       "4    False\n",
       "5    False\n",
       "6    False\n",
       "7    False\n",
       "dtype: bool"
      ]
     },
     "execution_count": 10,
     "metadata": {},
     "output_type": "execute_result"
    }
   ],
   "source": [
    "#$ - 이 패턴으로 종료되어야 함 xyz$ : xyz로 종료되어야 함 (123xyz, strxyz 등)\n",
    "s2 = pd.Series(['40', '40.0', '41', '41.0', '35','52','1234','1234'])\n",
    "s2.str.contains('0$', regex=True)"
   ]
  },
  {
   "cell_type": "code",
   "execution_count": 11,
   "metadata": {},
   "outputs": [
    {
     "data": {
      "text/plain": [
       "0     True\n",
       "1     True\n",
       "2     True\n",
       "3     True\n",
       "4    False\n",
       "5    False\n",
       "6     True\n",
       "7     True\n",
       "dtype: bool"
      ]
     },
     "execution_count": 11,
     "metadata": {},
     "output_type": "execute_result"
    }
   ],
   "source": [
    "# [문자들] - 문자들 중에 하나이어야 함. 가능한 문자들의 집합을 정의함. [Pp]ython : \"Python\" 혹은 \"python\"\n",
    "s2 = pd.Series(['40', '40.0', '41', '41.0', '35','52','1234','1234'])\n",
    "s2.str.contains('[14]', regex=True)"
   ]
  },
  {
   "cell_type": "code",
   "execution_count": 10,
   "metadata": {},
   "outputs": [
    {
     "data": {
      "text/plain": [
       "0     True\n",
       "1     True\n",
       "2    False\n",
       "3    False\n",
       "4    False\n",
       "5    False\n",
       "6     True\n",
       "7     True\n",
       "dtype: bool"
      ]
     },
     "execution_count": 10,
     "metadata": {},
     "output_type": "execute_result"
    }
   ],
   "source": [
    "# [^문자들] - [문자들]의 반대로 피해야할 문자들의 집합을 정의함. [aeiou^] : 소문자 모음이 아닌 문자들\n",
    "s2 = pd.Series(['40', '40.0', 'asdfg', 'zxcv', 'asdzxc','52','1234','12346'])\n",
    "\n",
    "a=s2.str.contains('[4^]', regex=True)\n",
    "a\n"
   ]
  },
  {
   "cell_type": "code",
   "execution_count": 46,
   "metadata": {},
   "outputs": [
    {
     "data": {
      "text/plain": [
       "0     True\n",
       "1     True\n",
       "2    False\n",
       "3    False\n",
       "4    False\n",
       "5    False\n",
       "6     True\n",
       "7     True\n",
       "dtype: bool"
      ]
     },
     "execution_count": 46,
     "metadata": {},
     "output_type": "execute_result"
    }
   ],
   "source": [
    "s2.str.contains('[40.^]', regex=True)"
   ]
  },
  {
   "cell_type": "code",
   "execution_count": 63,
   "metadata": {},
   "outputs": [
    {
     "data": {
      "text/plain": [
       "0     True\n",
       "1     True\n",
       "2    False\n",
       "dtype: bool"
      ]
     },
     "execution_count": 63,
     "metadata": {},
     "output_type": "execute_result"
    }
   ],
   "source": [
    "s3 = pd.Series(['aaaaad', 'daaaaa', 'sdzxc',])\n",
    "s3.str.contains('[a^]', regex=True)"
   ]
  },
  {
   "cell_type": "code",
   "execution_count": 11,
   "metadata": {},
   "outputs": [
    {
     "data": {
      "text/plain": [
       "0     True\n",
       "1     True\n",
       "2     True\n",
       "3     True\n",
       "4     True\n",
       "5    False\n",
       "6     True\n",
       "7     True\n",
       "dtype: bool"
      ]
     },
     "execution_count": 11,
     "metadata": {},
     "output_type": "execute_result"
    }
   ],
   "source": [
    "#| - 두 패턴 중 하나이어야 함 (OR 기능) a | b : a 또는 b 이어야 함\n",
    "s2 = pd.Series(['40', '40.0', '41', '41.0', '35','52','1234','1234'])\n",
    "s2.str.contains('4|3', regex=True)\n"
   ]
  },
  {
   "cell_type": "code",
   "execution_count": 78,
   "metadata": {},
   "outputs": [
    {
     "data": {
      "text/plain": [
       "0    False\n",
       "1    False\n",
       "2    False\n",
       "3    False\n",
       "4    False\n",
       "5    False\n",
       "6    False\n",
       "7    False\n",
       "dtype: bool"
      ]
     },
     "execution_count": 78,
     "metadata": {},
     "output_type": "execute_result"
    }
   ],
   "source": [
    "#? 앞 패턴이 없거나 하나이어야 함 (Optional 패턴을 정의할 때 사용) \\d? : 숫자가 하나 있거나 없어야 함\n",
    "s2 = pd.Series(['4', '40.0', '41', '41.0', '33452','52','1234','1234'])\n",
    "s2.str.contains('', regex=True)\n"
   ]
  },
  {
   "cell_type": "code",
   "execution_count": 58,
   "metadata": {},
   "outputs": [
    {
     "data": {
      "text/plain": [
       "0    False\n",
       "1    False\n",
       "2    False\n",
       "3    False\n",
       "4    False\n",
       "5    False\n",
       "6    False\n",
       "7    False\n",
       "dtype: bool"
      ]
     },
     "execution_count": 58,
     "metadata": {},
     "output_type": "execute_result"
    }
   ],
   "source": [
    "#+ 앞 패턴이 하나 이상이어야 함 \\d+ : 숫자가 하나 이상이어야 함\n",
    "s2 = pd.Series(['40', '40.0', '41', '41.0', '35','52','1234','1234'])\n",
    "s2.str.contains('4+2', regex=True)\n"
   ]
  },
  {
   "cell_type": "code",
   "execution_count": null,
   "metadata": {},
   "outputs": [],
   "source": [
    "s2 = pd.Series(['40', '40.0', '41', '41.0', '35','52','1234','1234'])\n",
    "s2.str.contains('0$', regex=True)"
   ]
  },
  {
   "cell_type": "code",
   "execution_count": null,
   "metadata": {},
   "outputs": [],
   "source": [
    "s2 = pd.Series(['40', '40.0', '41', '41.0', '35','52','1234','1234'])\n",
    "s2.str.contains('0$', regex=True)"
   ]
  },
  {
   "cell_type": "code",
   "execution_count": null,
   "metadata": {},
   "outputs": [],
   "source": [
    "s2 = pd.Series(['40', '40.0', '41', '41.0', '35','52','1234','1234'])\n",
    "s2.str.contains('0$', regex=True)"
   ]
  },
  {
   "cell_type": "code",
   "execution_count": null,
   "metadata": {},
   "outputs": [],
   "source": []
  },
  {
   "cell_type": "code",
   "execution_count": null,
   "metadata": {},
   "outputs": [],
   "source": []
  },
  {
   "cell_type": "code",
   "execution_count": null,
   "metadata": {},
   "outputs": [],
   "source": []
  },
  {
   "cell_type": "code",
   "execution_count": null,
   "metadata": {},
   "outputs": [],
   "source": []
  },
  {
   "cell_type": "code",
   "execution_count": null,
   "metadata": {},
   "outputs": [],
   "source": []
  },
  {
   "cell_type": "code",
   "execution_count": null,
   "metadata": {},
   "outputs": [],
   "source": []
  },
  {
   "cell_type": "code",
   "execution_count": null,
   "metadata": {},
   "outputs": [],
   "source": []
  }
 ],
 "metadata": {
  "kernelspec": {
   "display_name": "Python 3",
   "language": "python",
   "name": "python3"
  },
  "language_info": {
   "codemirror_mode": {
    "name": "ipython",
    "version": 3
   },
   "file_extension": ".py",
   "mimetype": "text/x-python",
   "name": "python",
   "nbconvert_exporter": "python",
   "pygments_lexer": "ipython3",
   "version": "3.7.6"
  }
 },
 "nbformat": 4,
 "nbformat_minor": 4
}
