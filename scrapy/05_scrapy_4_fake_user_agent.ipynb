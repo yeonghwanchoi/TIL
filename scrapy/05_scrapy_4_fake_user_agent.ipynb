{
 "cells": [
  {
   "cell_type": "markdown",
   "metadata": {},
   "source": [
    "### Playnomore\n",
    "- 가방, 옷, 악세사리 판매하는 쇼핑몰\n",
    "- http://playnomore.co.kr/"
   ]
  },
  {
   "cell_type": "code",
   "execution_count": 1,
   "metadata": {},
   "outputs": [],
   "source": [
    "import scrapy\n",
    "import requests\n",
    "from scrapy.http import TextResponse\n",
    "from fake_useragent import UserAgent"
   ]
  },
  {
   "cell_type": "code",
   "execution_count": 2,
   "metadata": {},
   "outputs": [],
   "source": [
    "# 1. 프로젝트 생성"
   ]
  },
  {
   "cell_type": "code",
   "execution_count": 3,
   "metadata": {},
   "outputs": [
    {
     "name": "stdout",
     "output_type": "stream",
     "text": [
      "New Scrapy project 'playnomore', using template directory '/Users/yeonghwanchoi/opt/anaconda3/lib/python3.7/site-packages/scrapy/templates/project', created in:\r\n",
      "    /Users/yeonghwanchoi/Downloads/playnomore\r\n",
      "\r\n",
      "You can start your first spider with:\r\n",
      "    cd playnomore\r\n",
      "    scrapy genspider example example.com\r\n"
     ]
    }
   ],
   "source": [
    "!scrapy startproject playnomore"
   ]
  },
  {
   "cell_type": "code",
   "execution_count": 4,
   "metadata": {},
   "outputs": [],
   "source": [
    "# 2. items.py 코드 작성"
   ]
  },
  {
   "cell_type": "code",
   "execution_count": 5,
   "metadata": {},
   "outputs": [
    {
     "name": "stdout",
     "output_type": "stream",
     "text": [
      "Overwriting playnomore/playnomore/items.py\n"
     ]
    }
   ],
   "source": [
    "%%writefile playnomore/playnomore/items.py\n",
    "import scrapy\n",
    "\n",
    "class PlaynomoreItem(scrapy.Item):\n",
    "    title = scrapy.Field()\n",
    "    price = scrapy.Field()\n",
    "    img = scrapy.Field()\n",
    "    link = scrapy.Field()"
   ]
  },
  {
   "cell_type": "code",
   "execution_count": 6,
   "metadata": {},
   "outputs": [],
   "source": [
    "# 3. xpath 찾기 : 링크, 상품 데이터"
   ]
  },
  {
   "cell_type": "code",
   "execution_count": 7,
   "metadata": {},
   "outputs": [],
   "source": [
    "# 링크"
   ]
  },
  {
   "cell_type": "code",
   "execution_count": 8,
   "metadata": {},
   "outputs": [
    {
     "data": {
      "text/plain": [
       "<200 http://playnomore.co.kr/category/bag/24/>"
      ]
     },
     "execution_count": 8,
     "metadata": {},
     "output_type": "execute_result"
    }
   ],
   "source": [
    "url = \"http://playnomore.co.kr/category/bag/24/\"\n",
    "# headers = {\"User-Agent\": \"Mozilla/5.0 (Macintosh; Intel Mac OS X 10_15_4) AppleWebKit/537.36 (KHTML, like Gecko) Chrome/83.0.4103.116 Safari/537.36\"}\n",
    "headers = {\"User-Agent\": UserAgent().chrome}\n",
    "req = requests.get(url, headers=headers)\n",
    "response = TextResponse(req.url, body=req.text, encoding=\"utf-8\")\n",
    "response"
   ]
  },
  {
   "cell_type": "code",
   "execution_count": 9,
   "metadata": {},
   "outputs": [
    {
     "data": {
      "text/plain": [
       "['http://playnomore.co.kr/product/detail.html?product_no=573&cate_no=24&display_group=1',\n",
       " 'http://playnomore.co.kr/product/detail.html?product_no=572&cate_no=24&display_group=1',\n",
       " 'http://playnomore.co.kr/product/detail.html?product_no=550&cate_no=24&display_group=1']"
      ]
     },
     "execution_count": 9,
     "metadata": {},
     "output_type": "execute_result"
    }
   ],
   "source": [
    "links = response.xpath('//*[@id=\"contents\"]/div[2]/div/ul/li/div[1]/a/@href').extract()\n",
    "links = list(map(lambda data:response.urljoin(data), links))\n",
    "links[:3]"
   ]
  },
  {
   "cell_type": "code",
   "execution_count": 10,
   "metadata": {},
   "outputs": [],
   "source": [
    "# 상세 데이터"
   ]
  },
  {
   "cell_type": "code",
   "execution_count": 11,
   "metadata": {},
   "outputs": [
    {
     "data": {
      "text/plain": [
       "<200 http://playnomore.co.kr/product/pre-order20off-micro-baguette-yellow-180/573/?cate_no=24&display_group=1>"
      ]
     },
     "execution_count": 11,
     "metadata": {},
     "output_type": "execute_result"
    }
   ],
   "source": [
    "url = \"http://playnomore.co.kr/product/pre-order20off-micro-baguette-yellow-180/573/?cate_no=24&display_group=1\"\n",
    "headers = {\"User-Agent\": UserAgent().chrome}\n",
    "req = requests.get(url, headers=headers)\n",
    "response = TextResponse(req.url, body=req.text, encoding=\"utf-8\")\n",
    "response"
   ]
  },
  {
   "cell_type": "code",
   "execution_count": 12,
   "metadata": {},
   "outputs": [
    {
     "data": {
      "text/plain": [
       "('[Pre-Order/20%off]  MICRO BAGUETTE  yellow ',\n",
       " '$ 144',\n",
       " 'http://playnomore.co.kr/web/product/small/20200407/43ec3b61d30531a05a3d727780c9b1f3.jpg')"
      ]
     },
     "execution_count": 12,
     "metadata": {},
     "output_type": "execute_result"
    }
   ],
   "source": [
    "title1 = response.xpath(\n",
    "    '//*[@id=\"contents\"]/div[1]/div[1]/div[2]/div[1]/font/text()')[0].extract()\n",
    "title2 = response.xpath(\n",
    "    '//*[@id=\"contents\"]/div[1]/div[1]/div[2]/div[1]/text()').extract()\n",
    "title = title1 + \" \".join(title2)\n",
    "price = response.xpath(\n",
    "    '//*[@id=\"contents\"]/div[1]/div[1]/div[2]/div[2]/text()')[0].extract()\n",
    "img = \"http:\" + response.xpath(\n",
    "    '//*[@id=\"contents\"]/div[1]/div[1]/div[1]/div[2]/ul/li[1]/img/@src')[0].extract()\n",
    "\n",
    "title, price, img"
   ]
  },
  {
   "cell_type": "code",
   "execution_count": 13,
   "metadata": {},
   "outputs": [],
   "source": [
    "# 4. spider.py 코드 작성 : fake user agent 설정"
   ]
  },
  {
   "cell_type": "code",
   "execution_count": 14,
   "metadata": {},
   "outputs": [
    {
     "name": "stdout",
     "output_type": "stream",
     "text": [
      "Requirement already satisfied: scrapy-fake-useragent in /Users/yeonghwanchoi/opt/anaconda3/lib/python3.7/site-packages (1.2.0)\r\n",
      "Requirement already satisfied: fake-useragent in /Users/yeonghwanchoi/opt/anaconda3/lib/python3.7/site-packages (from scrapy-fake-useragent) (0.1.11)\r\n"
     ]
    }
   ],
   "source": [
    "!pip install scrapy-fake-useragent"
   ]
  },
  {
   "cell_type": "code",
   "execution_count": 32,
   "metadata": {},
   "outputs": [
    {
     "name": "stdout",
     "output_type": "stream",
     "text": [
      "Overwriting playnomore/playnomore/spiders/spiders.py\n"
     ]
    }
   ],
   "source": [
    "%%writefile playnomore/playnomore/spiders/spiders.py\n",
    "import scrapy\n",
    "from playnomore.items import PlaynomoreItem\n",
    "\n",
    "class PlaynomoreSpider(scrapy.Spider):\n",
    "    name = \"Playnomore\"\n",
    "    custom_settings = {\n",
    "        \"DOWNLOADER_MIDDLEWARES\": {\n",
    "            \"scrapy.downloadmiddlewares.useragent.UserAgentMiddleware\": None,\n",
    "            \"scrapy_fake_useragent.middleware.RandomUserAgentMiddleware\": 400,\n",
    "        }\n",
    "    }\n",
    "    \n",
    "    def __init__(self,category1=\"\",category2=\"\", **kwargs):\n",
    "        self.start_urls=[\"http://playnomore.co.kr/category/{}/{}/\".format(category1,category2)]\n",
    "        super().__init__(**kwargs)\n",
    "        \n",
    "    def start_requests(self):\n",
    "        urls = self.start_urls\n",
    "        for url in urls:\n",
    "            yield scrapy.Request(url, callback=self.parse)\n",
    "    \n",
    "    def parse(self, response):\n",
    "        links = response.xpath('//*[@id=\"contents\"]/div[2]/div/ul/li/div[1]/a/@href').extract()\n",
    "        links = list(map(lambda data:response.urljoin(data), links))\n",
    "        for link in links:\n",
    "            yield scrapy.Request(link, callback=self.parse_content)\n",
    "            \n",
    "    def parse_content(self, response):\n",
    "        item = PlaynomoreItem()\n",
    "        title1 = response.xpath('//*[@id=\"contents\"]/div[1]/div[1]/div[2]/div[1]/font/text()')[0].extract()\n",
    "        title2 = response.xpath('//*[@id=\"contents\"]/div[1]/div[1]/div[2]/div[1]/text()').extract()\n",
    "        item[\"title\"] = title1 + \" \".join(title2)\n",
    "        item[\"price\"] = response.xpath('//*[@id=\"contents\"]/div[1]/div[1]/div[2]/div[2]/text()')[0].extract()\n",
    "        item[\"img\"] = \"http:\" + response.xpath('//*[@id=\"contents\"]/div[1]/div[1]/div[1]/div[2]/ul/li[1]/img/@src')[0].extract()\n",
    "        item[\"link\"] = response.url\n",
    "        yield item"
   ]
  },
  {
   "cell_type": "code",
   "execution_count": 27,
   "metadata": {},
   "outputs": [],
   "source": [
    "# 5. 스크래피 실행시 아규먼트 설정"
   ]
  },
  {
   "cell_type": "code",
   "execution_count": 28,
   "metadata": {},
   "outputs": [],
   "source": [
    "#bag/24/\n",
    "#shoes/25/\n",
    "#beauty/28/"
   ]
  },
  {
   "cell_type": "code",
   "execution_count": 39,
   "metadata": {},
   "outputs": [
    {
     "name": "stdout",
     "output_type": "stream",
     "text": [
      "Overwriting run.sh\n"
     ]
    }
   ],
   "source": [
    "%%writefile run.sh\n",
    "cd playnomore\n",
    "scrapy crawl Playnomore -o playnomore.csv -a category1=shoes -a category2=25"
   ]
  },
  {
   "cell_type": "code",
   "execution_count": 30,
   "metadata": {},
   "outputs": [],
   "source": [
    "# 6. 스크레피 실행"
   ]
  },
  {
   "cell_type": "code",
   "execution_count": 36,
   "metadata": {},
   "outputs": [
    {
     "name": "stdout",
     "output_type": "stream",
     "text": [
      "Overwriting run.sh\n"
     ]
    }
   ],
   "source": [
    "%%writefile run.sh\n",
    "cd playnomore\n",
    "scrapy crawl Playnomore -o playnomore.csv"
   ]
  },
  {
   "cell_type": "code",
   "execution_count": 40,
   "metadata": {},
   "outputs": [
    {
     "name": "stdout",
     "output_type": "stream",
     "text": [
      "2020-07-10 15:16:46 [scrapy.utils.log] INFO: Scrapy 2.2.0 started (bot: playnomore)\n",
      "2020-07-10 15:16:46 [scrapy.utils.log] INFO: Versions: lxml 4.5.0.0, libxml2 2.9.9, cssselect 1.1.0, parsel 1.6.0, w3lib 1.22.0, Twisted 20.3.0, Python 3.7.6 (default, Jan  8 2020, 13:42:34) - [Clang 4.0.1 (tags/RELEASE_401/final)], pyOpenSSL 19.1.0 (OpenSSL 1.1.1d  10 Sep 2019), cryptography 2.8, Platform Darwin-19.5.0-x86_64-i386-64bit\n",
      "2020-07-10 15:16:46 [scrapy.utils.log] DEBUG: Using reactor: twisted.internet.selectreactor.SelectReactor\n",
      "2020-07-10 15:16:46 [scrapy.crawler] INFO: Overridden settings:\n",
      "{'BOT_NAME': 'playnomore',\n",
      " 'NEWSPIDER_MODULE': 'playnomore.spiders',\n",
      " 'ROBOTSTXT_OBEY': True,\n",
      " 'SPIDER_MODULES': ['playnomore.spiders']}\n",
      "2020-07-10 15:16:46 [scrapy.extensions.telnet] INFO: Telnet Password: 437d0af2bff87108\n",
      "2020-07-10 15:16:46 [scrapy.middleware] INFO: Enabled extensions:\n",
      "['scrapy.extensions.corestats.CoreStats',\n",
      " 'scrapy.extensions.telnet.TelnetConsole',\n",
      " 'scrapy.extensions.memusage.MemoryUsage',\n",
      " 'scrapy.extensions.feedexport.FeedExporter',\n",
      " 'scrapy.extensions.logstats.LogStats']\n",
      "2020-07-10 15:16:46 [scrapy.middleware] INFO: Enabled downloader middlewares:\n",
      "['scrapy.downloadermiddlewares.robotstxt.RobotsTxtMiddleware',\n",
      " 'scrapy.downloadermiddlewares.httpauth.HttpAuthMiddleware',\n",
      " 'scrapy.downloadermiddlewares.downloadtimeout.DownloadTimeoutMiddleware',\n",
      " 'scrapy.downloadermiddlewares.defaultheaders.DefaultHeadersMiddleware',\n",
      " 'scrapy_fake_useragent.middleware.RandomUserAgentMiddleware',\n",
      " 'scrapy.downloadermiddlewares.useragent.UserAgentMiddleware',\n",
      " 'scrapy.downloadermiddlewares.retry.RetryMiddleware',\n",
      " 'scrapy.downloadermiddlewares.redirect.MetaRefreshMiddleware',\n",
      " 'scrapy.downloadermiddlewares.httpcompression.HttpCompressionMiddleware',\n",
      " 'scrapy.downloadermiddlewares.redirect.RedirectMiddleware',\n",
      " 'scrapy.downloadermiddlewares.cookies.CookiesMiddleware',\n",
      " 'scrapy.downloadermiddlewares.httpproxy.HttpProxyMiddleware',\n",
      " 'scrapy.downloadermiddlewares.stats.DownloaderStats']\n",
      "2020-07-10 15:16:46 [scrapy.middleware] INFO: Enabled spider middlewares:\n",
      "['scrapy.spidermiddlewares.httperror.HttpErrorMiddleware',\n",
      " 'scrapy.spidermiddlewares.offsite.OffsiteMiddleware',\n",
      " 'scrapy.spidermiddlewares.referer.RefererMiddleware',\n",
      " 'scrapy.spidermiddlewares.urllength.UrlLengthMiddleware',\n",
      " 'scrapy.spidermiddlewares.depth.DepthMiddleware']\n",
      "2020-07-10 15:16:46 [scrapy.middleware] INFO: Enabled item pipelines:\n",
      "[]\n",
      "2020-07-10 15:16:46 [scrapy.core.engine] INFO: Spider opened\n",
      "2020-07-10 15:16:46 [scrapy.extensions.logstats] INFO: Crawled 0 pages (at 0 pages/min), scraped 0 items (at 0 items/min)\n",
      "2020-07-10 15:16:46 [scrapy.extensions.telnet] INFO: Telnet console listening on 127.0.0.1:6023\n",
      "2020-07-10 15:16:46 [scrapy.core.engine] DEBUG: Crawled (200) <GET http://playnomore.co.kr/robots.txt> (referer: None)\n",
      "2020-07-10 15:16:46 [scrapy.core.engine] DEBUG: Crawled (200) <GET http://playnomore.co.kr/category/shoes/25/> (referer: None)\n",
      "2020-07-10 15:16:47 [scrapy.downloadermiddlewares.redirect] DEBUG: Redirecting (301) to <GET http://playnomore.co.kr/product/sold-out-shygirl-oxford-silver/232/?cate_no=25&display_group=1> from <GET http://playnomore.co.kr/product/detail.html?product_no=232&cate_no=25&display_group=1>\n",
      "2020-07-10 15:16:47 [scrapy.downloadermiddlewares.redirect] DEBUG: Redirecting (301) to <GET http://playnomore.co.kr/product/sold-out-shygirl-oxford-chrome/207/?cate_no=25&display_group=1> from <GET http://playnomore.co.kr/product/detail.html?product_no=207&cate_no=25&display_group=1>\n",
      "2020-07-10 15:16:47 [scrapy.downloadermiddlewares.redirect] DEBUG: Redirecting (301) to <GET http://playnomore.co.kr/product/sold-out-winkygirl-color-blocks-5cm-multi/19/?cate_no=25&display_group=1> from <GET http://playnomore.co.kr/product/detail.html?product_no=19&cate_no=25&display_group=1>\n",
      "2020-07-10 15:16:47 [scrapy.downloadermiddlewares.redirect] DEBUG: Redirecting (301) to <GET http://playnomore.co.kr/product/sold-out-winkygirl-color-blocks-2cm-black/138/?cate_no=25&display_group=1> from <GET http://playnomore.co.kr/product/detail.html?product_no=138&cate_no=25&display_group=1>\n",
      "2020-07-10 15:16:47 [scrapy.downloadermiddlewares.redirect] DEBUG: Redirecting (301) to <GET http://playnomore.co.kr/product/sold-out-winkygirl-color-blocks-2cm-multi/140/?cate_no=25&display_group=1> from <GET http://playnomore.co.kr/product/detail.html?product_no=140&cate_no=25&display_group=1>\n",
      "2020-07-10 15:16:47 [scrapy.downloadermiddlewares.redirect] DEBUG: Redirecting (301) to <GET http://playnomore.co.kr/product/sold-out-winkygirl-color-blocks-5cm-rose-gold/18/?cate_no=25&display_group=1> from <GET http://playnomore.co.kr/product/detail.html?product_no=18&cate_no=25&display_group=1>\n",
      "2020-07-10 15:16:47 [scrapy.downloadermiddlewares.redirect] DEBUG: Redirecting (301) to <GET http://playnomore.co.kr/product/sold-out-winkygirl-color-blocks-5cm-silver/21/?cate_no=25&display_group=1> from <GET http://playnomore.co.kr/product/detail.html?product_no=21&cate_no=25&display_group=1>\n",
      "2020-07-10 15:16:47 [scrapy.downloadermiddlewares.redirect] DEBUG: Redirecting (301) to <GET http://playnomore.co.kr/product/sold-out-winkygirl-color-blocks-metallic-navy-5cm/20/?cate_no=25&display_group=1> from <GET http://playnomore.co.kr/product/detail.html?product_no=20&cate_no=25&display_group=1>\n",
      "2020-07-10 15:16:47 [scrapy.downloadermiddlewares.redirect] DEBUG: Redirecting (301) to <GET http://playnomore.co.kr/product/sold-out-shy-lip-bloafer-champagne-gold/305/?cate_no=25&display_group=1> from <GET http://playnomore.co.kr/product/detail.html?product_no=305&cate_no=25&display_group=1>\n",
      "2020-07-10 15:16:47 [scrapy.downloadermiddlewares.redirect] DEBUG: Redirecting (301) to <GET http://playnomore.co.kr/product/sold-out-winkygirl-color-blocks-5cm-metallic-pink/137/?cate_no=25&display_group=1> from <GET http://playnomore.co.kr/product/detail.html?product_no=137&cate_no=25&display_group=1>\n",
      "2020-07-10 15:16:47 [scrapy.downloadermiddlewares.redirect] DEBUG: Redirecting (301) to <GET http://playnomore.co.kr/product/sold-out-shy-lip-bloafer-chrome/304/?cate_no=25&display_group=1> from <GET http://playnomore.co.kr/product/detail.html?product_no=304&cate_no=25&display_group=1>\n",
      "2020-07-10 15:16:47 [scrapy.downloadermiddlewares.redirect] DEBUG: Redirecting (301) to <GET http://playnomore.co.kr/product/sold-out-kiss-me-pink-beige/22/?cate_no=25&display_group=1> from <GET http://playnomore.co.kr/product/detail.html?product_no=22&cate_no=25&display_group=1>\n",
      "2020-07-10 15:16:47 [scrapy.downloadermiddlewares.redirect] DEBUG: Redirecting (301) to <GET http://playnomore.co.kr/product/sold-out-shy-friends-oxford-black/181/?cate_no=25&display_group=1> from <GET http://playnomore.co.kr/product/detail.html?product_no=181&cate_no=25&display_group=1>\n",
      "2020-07-10 15:16:47 [scrapy.downloadermiddlewares.redirect] DEBUG: Redirecting (301) to <GET http://playnomore.co.kr/product/sold-out-shygirl-oxford-gold/233/?cate_no=25&display_group=1> from <GET http://playnomore.co.kr/product/detail.html?product_no=233&cate_no=25&display_group=1>\n",
      "2020-07-10 15:16:47 [scrapy.downloadermiddlewares.redirect] DEBUG: Redirecting (301) to <GET http://playnomore.co.kr/product/sold-out-kiss-me-deep-green/23/?cate_no=25&display_group=1> from <GET http://playnomore.co.kr/product/detail.html?product_no=23&cate_no=25&display_group=1>\n",
      "2020-07-10 15:16:48 [scrapy.core.engine] DEBUG: Crawled (200) <GET http://playnomore.co.kr/product/sold-out-shygirl-oxford-silver/232/?cate_no=25&display_group=1> (referer: http://playnomore.co.kr/category/shoes/25/)\n",
      "2020-07-10 15:16:48 [scrapy.core.engine] DEBUG: Crawled (200) <GET http://playnomore.co.kr/product/sold-out-winkygirl-color-blocks-5cm-rose-gold/18/?cate_no=25&display_group=1> (referer: http://playnomore.co.kr/category/shoes/25/)\n",
      "2020-07-10 15:16:48 [scrapy.core.engine] DEBUG: Crawled (200) <GET http://playnomore.co.kr/product/sold-out-shygirl-oxford-chrome/207/?cate_no=25&display_group=1> (referer: http://playnomore.co.kr/category/shoes/25/)\n",
      "2020-07-10 15:16:48 [scrapy.core.engine] DEBUG: Crawled (200) <GET http://playnomore.co.kr/product/sold-out-shy-lip-bloafer-champagne-gold/305/?cate_no=25&display_group=1> (referer: http://playnomore.co.kr/category/shoes/25/)\n",
      "2020-07-10 15:16:48 [scrapy.core.engine] DEBUG: Crawled (200) <GET http://playnomore.co.kr/product/sold-out-winkygirl-color-blocks-5cm-metallic-pink/137/?cate_no=25&display_group=1> (referer: http://playnomore.co.kr/category/shoes/25/)\n",
      "2020-07-10 15:16:48 [scrapy.core.engine] DEBUG: Crawled (200) <GET http://playnomore.co.kr/product/sold-out-winkygirl-color-blocks-2cm-black/138/?cate_no=25&display_group=1> (referer: http://playnomore.co.kr/category/shoes/25/)\n",
      "2020-07-10 15:16:48 [scrapy.core.engine] DEBUG: Crawled (200) <GET http://playnomore.co.kr/product/sold-out-winkygirl-color-blocks-2cm-multi/140/?cate_no=25&display_group=1> (referer: http://playnomore.co.kr/category/shoes/25/)\n"
     ]
    },
    {
     "name": "stdout",
     "output_type": "stream",
     "text": [
      "2020-07-10 15:16:48 [scrapy.core.engine] DEBUG: Crawled (200) <GET http://playnomore.co.kr/product/sold-out-winkygirl-color-blocks-5cm-multi/19/?cate_no=25&display_group=1> (referer: http://playnomore.co.kr/category/shoes/25/)\n",
      "2020-07-10 15:16:48 [scrapy.core.scraper] DEBUG: Scraped from <200 http://playnomore.co.kr/product/sold-out-shygirl-oxford-silver/232/?cate_no=25&display_group=1>\n",
      "{'img': 'http://playnomore.co.kr/web/product/small/201703/232_shop7_426702.jpg',\n",
      " 'link': 'http://playnomore.co.kr/product/sold-out-shygirl-oxford-silver/232/?cate_no=25&display_group=1',\n",
      " 'price': '$ 450',\n",
      " 'title': '[SOLD OUT]  SHYGIRL oxford  silver'}\n",
      "2020-07-10 15:16:48 [scrapy.core.scraper] DEBUG: Scraped from <200 http://playnomore.co.kr/product/sold-out-winkygirl-color-blocks-5cm-rose-gold/18/?cate_no=25&display_group=1>\n",
      "{'img': 'http://playnomore.co.kr/web/product/small/201702/18_shop7_183931.jpg',\n",
      " 'link': 'http://playnomore.co.kr/product/sold-out-winkygirl-color-blocks-5cm-rose-gold/18/?cate_no=25&display_group=1',\n",
      " 'price': '$ 414',\n",
      " 'title': '[SOLD OUT]  WINKYGIRL COLOR BLOCKS (5cm)  rose gold'}\n",
      "2020-07-10 15:16:48 [scrapy.core.scraper] DEBUG: Scraped from <200 http://playnomore.co.kr/product/sold-out-shygirl-oxford-chrome/207/?cate_no=25&display_group=1>\n",
      "{'img': 'http://playnomore.co.kr/web/product/small/201702/207_shop7_312513.jpg',\n",
      " 'link': 'http://playnomore.co.kr/product/sold-out-shygirl-oxford-chrome/207/?cate_no=25&display_group=1',\n",
      " 'price': '$ 450',\n",
      " 'title': '[SOLD OUT]  SHYGIRL oxford  chrome'}\n",
      "2020-07-10 15:16:48 [scrapy.core.scraper] DEBUG: Scraped from <200 http://playnomore.co.kr/product/sold-out-shy-lip-bloafer-champagne-gold/305/?cate_no=25&display_group=1>\n",
      "{'img': 'http://playnomore.co.kr/web/product/small/201706/305_shop7_443176.jpg',\n",
      " 'link': 'http://playnomore.co.kr/product/sold-out-shy-lip-bloafer-champagne-gold/305/?cate_no=25&display_group=1',\n",
      " 'price': '$ 480',\n",
      " 'title': '[SOLD OUT]  SHY LIP bloafer  champagne gold'}\n",
      "2020-07-10 15:16:48 [scrapy.core.scraper] DEBUG: Scraped from <200 http://playnomore.co.kr/product/sold-out-winkygirl-color-blocks-5cm-metallic-pink/137/?cate_no=25&display_group=1>\n",
      "{'img': 'http://playnomore.co.kr/web/product/small/201701/137_shop7_918095.jpg',\n",
      " 'link': 'http://playnomore.co.kr/product/sold-out-winkygirl-color-blocks-5cm-metallic-pink/137/?cate_no=25&display_group=1',\n",
      " 'price': '$ 414',\n",
      " 'title': '[SOLD OUT]  WINKYGIRL COLOR BLOCKS (5cm)  metallic pink'}\n",
      "2020-07-10 15:16:48 [scrapy.core.scraper] DEBUG: Scraped from <200 http://playnomore.co.kr/product/sold-out-winkygirl-color-blocks-2cm-black/138/?cate_no=25&display_group=1>\n",
      "{'img': 'http://playnomore.co.kr/web/product/small/201701/138_shop7_619644.jpg',\n",
      " 'link': 'http://playnomore.co.kr/product/sold-out-winkygirl-color-blocks-2cm-black/138/?cate_no=25&display_group=1',\n",
      " 'price': '$ 414',\n",
      " 'title': '[SOLD OUT]  WINKYGIRL COLOR BLOCKS  (2cm)  black'}\n",
      "2020-07-10 15:16:48 [scrapy.core.scraper] DEBUG: Scraped from <200 http://playnomore.co.kr/product/sold-out-winkygirl-color-blocks-2cm-multi/140/?cate_no=25&display_group=1>\n",
      "{'img': 'http://playnomore.co.kr/web/product/small/201701/140_shop7_744641.jpg',\n",
      " 'link': 'http://playnomore.co.kr/product/sold-out-winkygirl-color-blocks-2cm-multi/140/?cate_no=25&display_group=1',\n",
      " 'price': '$ 414',\n",
      " 'title': '[SOLD OUT]  WINKYGIRL COLOR BLOCKS (2cm)  multi'}\n",
      "2020-07-10 15:16:48 [scrapy.core.scraper] DEBUG: Scraped from <200 http://playnomore.co.kr/product/sold-out-winkygirl-color-blocks-5cm-multi/19/?cate_no=25&display_group=1>\n",
      "{'img': 'http://playnomore.co.kr/web/product/small/201702/19_shop7_561442.jpg',\n",
      " 'link': 'http://playnomore.co.kr/product/sold-out-winkygirl-color-blocks-5cm-multi/19/?cate_no=25&display_group=1',\n",
      " 'price': '$ 414',\n",
      " 'title': '[SOLD OUT]  WINKYGIRL COLOR BLOCKS (5cm)  multi'}\n",
      "2020-07-10 15:16:49 [scrapy.core.engine] DEBUG: Crawled (200) <GET http://playnomore.co.kr/product/sold-out-winkygirl-color-blocks-5cm-silver/21/?cate_no=25&display_group=1> (referer: http://playnomore.co.kr/category/shoes/25/)\n",
      "2020-07-10 15:16:49 [scrapy.core.engine] DEBUG: Crawled (200) <GET http://playnomore.co.kr/product/sold-out-winkygirl-color-blocks-metallic-navy-5cm/20/?cate_no=25&display_group=1> (referer: http://playnomore.co.kr/category/shoes/25/)\n",
      "2020-07-10 15:16:49 [scrapy.core.scraper] DEBUG: Scraped from <200 http://playnomore.co.kr/product/sold-out-winkygirl-color-blocks-5cm-silver/21/?cate_no=25&display_group=1>\n",
      "{'img': 'http://playnomore.co.kr/web/product/small/201609/21_shop1_572305.jpg',\n",
      " 'link': 'http://playnomore.co.kr/product/sold-out-winkygirl-color-blocks-5cm-silver/21/?cate_no=25&display_group=1',\n",
      " 'price': '$ 414',\n",
      " 'title': '[SOLD OUT]  WINKYGIRL COLOR BLOCKS (5cm)  silver'}\n",
      "2020-07-10 15:16:49 [scrapy.core.engine] DEBUG: Crawled (200) <GET http://playnomore.co.kr/product/sold-out-kiss-me-deep-green/23/?cate_no=25&display_group=1> (referer: http://playnomore.co.kr/category/shoes/25/)\n",
      "2020-07-10 15:16:49 [scrapy.core.scraper] DEBUG: Scraped from <200 http://playnomore.co.kr/product/sold-out-winkygirl-color-blocks-metallic-navy-5cm/20/?cate_no=25&display_group=1>\n",
      "{'img': 'http://playnomore.co.kr/web/product/small/201609/20_shop7_178984.jpg',\n",
      " 'link': 'http://playnomore.co.kr/product/sold-out-winkygirl-color-blocks-metallic-navy-5cm/20/?cate_no=25&display_group=1',\n",
      " 'price': '$ 414',\n",
      " 'title': '[SOLD OUT]  WINKYGIRL COLOR BLOCKS  metallic navy (5cm)'}\n",
      "2020-07-10 15:16:49 [scrapy.core.scraper] DEBUG: Scraped from <200 http://playnomore.co.kr/product/sold-out-kiss-me-deep-green/23/?cate_no=25&display_group=1>\n",
      "{'img': 'http://playnomore.co.kr/web/product/small/201702/23_shop7_151870.jpg',\n",
      " 'link': 'http://playnomore.co.kr/product/sold-out-kiss-me-deep-green/23/?cate_no=25&display_group=1',\n",
      " 'price': '$ 450',\n",
      " 'title': '[SOLD OUT]  KISS ME  deep green'}\n",
      "2020-07-10 15:16:49 [scrapy.core.engine] DEBUG: Crawled (200) <GET http://playnomore.co.kr/product/sold-out-kiss-me-pink-beige/22/?cate_no=25&display_group=1> (referer: http://playnomore.co.kr/category/shoes/25/)\n",
      "2020-07-10 15:16:49 [scrapy.core.engine] DEBUG: Crawled (200) <GET http://playnomore.co.kr/product/sold-out-shy-lip-bloafer-chrome/304/?cate_no=25&display_group=1> (referer: http://playnomore.co.kr/category/shoes/25/)\n",
      "2020-07-10 15:16:49 [scrapy.core.engine] DEBUG: Crawled (200) <GET http://playnomore.co.kr/product/sold-out-shy-friends-oxford-black/181/?cate_no=25&display_group=1> (referer: http://playnomore.co.kr/category/shoes/25/)\n",
      "2020-07-10 15:16:49 [scrapy.core.scraper] DEBUG: Scraped from <200 http://playnomore.co.kr/product/sold-out-kiss-me-pink-beige/22/?cate_no=25&display_group=1>\n",
      "{'img': 'http://playnomore.co.kr/web/product/small/201702/22_shop7_242463.jpg',\n",
      " 'link': 'http://playnomore.co.kr/product/sold-out-kiss-me-pink-beige/22/?cate_no=25&display_group=1',\n",
      " 'price': '$ 450',\n",
      " 'title': '[SOLD OUT]  KISS ME  pink beige'}\n",
      "2020-07-10 15:16:49 [scrapy.core.scraper] DEBUG: Scraped from <200 http://playnomore.co.kr/product/sold-out-shy-lip-bloafer-chrome/304/?cate_no=25&display_group=1>\n",
      "{'img': 'http://playnomore.co.kr/web/product/small/201706/304_shop7_862848.jpg',\n",
      " 'link': 'http://playnomore.co.kr/product/sold-out-shy-lip-bloafer-chrome/304/?cate_no=25&display_group=1',\n",
      " 'price': '$ 480',\n",
      " 'title': '[SOLD OUT]  SHY LIP bloafer  chrome'}\n",
      "2020-07-10 15:16:49 [scrapy.core.scraper] DEBUG: Scraped from <200 http://playnomore.co.kr/product/sold-out-shy-friends-oxford-black/181/?cate_no=25&display_group=1>\n",
      "{'img': 'http://playnomore.co.kr/web/product/small/201702/181_shop7_374071.jpg',\n",
      " 'link': 'http://playnomore.co.kr/product/sold-out-shy-friends-oxford-black/181/?cate_no=25&display_group=1',\n",
      " 'price': '$ 450',\n",
      " 'title': '[SOLD OUT]  SHY FRIENDS oxford  black'}\n",
      "2020-07-10 15:16:49 [scrapy.core.engine] DEBUG: Crawled (200) <GET http://playnomore.co.kr/product/sold-out-shygirl-oxford-gold/233/?cate_no=25&display_group=1> (referer: http://playnomore.co.kr/category/shoes/25/)\n",
      "2020-07-10 15:16:49 [scrapy.core.scraper] DEBUG: Scraped from <200 http://playnomore.co.kr/product/sold-out-shygirl-oxford-gold/233/?cate_no=25&display_group=1>\n",
      "{'img': 'http://playnomore.co.kr/web/product/small/201703/233_shop7_194677.jpg',\n",
      " 'link': 'http://playnomore.co.kr/product/sold-out-shygirl-oxford-gold/233/?cate_no=25&display_group=1',\n",
      " 'price': '$ 450',\n",
      " 'title': '[SOLD OUT]  SHYGIRL oxford  gold'}\n",
      "2020-07-10 15:16:49 [scrapy.core.engine] INFO: Closing spider (finished)\n",
      "2020-07-10 15:16:49 [scrapy.extensions.feedexport] INFO: Stored csv feed (15 items) in: playnomore.csv\n",
      "2020-07-10 15:16:49 [scrapy.statscollectors] INFO: Dumping Scrapy stats:\n",
      "{'downloader/request_bytes': 17602,\n",
      " 'downloader/request_count': 32,\n",
      " 'downloader/request_method_count/GET': 32,\n",
      " 'downloader/response_bytes': 310186,\n",
      " 'downloader/response_count': 32,\n",
      " 'downloader/response_status_count/200': 17,\n",
      " 'downloader/response_status_count/301': 15,\n",
      " 'elapsed_time_seconds': 3.463438,\n",
      " 'finish_reason': 'finished',\n",
      " 'finish_time': datetime.datetime(2020, 7, 10, 6, 16, 49, 767081),\n",
      " 'item_scraped_count': 15,\n",
      " 'log_count/DEBUG': 47,\n",
      " 'log_count/INFO': 11,\n",
      " 'memusage/max': 52658176,\n",
      " 'memusage/startup': 52658176,\n",
      " 'request_depth_max': 1,\n",
      " 'response_received_count': 17,\n",
      " 'robotstxt/request_count': 1,\n",
      " 'robotstxt/response_count': 1,\n",
      " 'robotstxt/response_status_count/200': 1,\n",
      " 'scheduler/dequeued': 31,\n",
      " 'scheduler/dequeued/memory': 31,\n",
      " 'scheduler/enqueued': 31,\n",
      " 'scheduler/enqueued/memory': 31,\n",
      " 'start_time': datetime.datetime(2020, 7, 10, 6, 16, 46, 303643)}\n",
      "2020-07-10 15:16:49 [scrapy.core.engine] INFO: Spider closed (finished)\n"
     ]
    }
   ],
   "source": [
    "!source run.sh"
   ]
  },
  {
   "cell_type": "code",
   "execution_count": 42,
   "metadata": {},
   "outputs": [
    {
     "data": {
      "text/html": [
       "<div>\n",
       "<style scoped>\n",
       "    .dataframe tbody tr th:only-of-type {\n",
       "        vertical-align: middle;\n",
       "    }\n",
       "\n",
       "    .dataframe tbody tr th {\n",
       "        vertical-align: top;\n",
       "    }\n",
       "\n",
       "    .dataframe thead th {\n",
       "        text-align: right;\n",
       "    }\n",
       "</style>\n",
       "<table border=\"1\" class=\"dataframe\">\n",
       "  <thead>\n",
       "    <tr style=\"text-align: right;\">\n",
       "      <th></th>\n",
       "      <th>img</th>\n",
       "      <th>link</th>\n",
       "      <th>price</th>\n",
       "      <th>title</th>\n",
       "    </tr>\n",
       "  </thead>\n",
       "  <tbody>\n",
       "    <tr>\n",
       "      <th>28</th>\n",
       "      <td>http://playnomore.co.kr/web/product/small/2017...</td>\n",
       "      <td>http://playnomore.co.kr/product/sold-out-shy-f...</td>\n",
       "      <td>$ 450</td>\n",
       "      <td>[SOLD OUT]  SHY FRIENDS oxford  black</td>\n",
       "    </tr>\n",
       "    <tr>\n",
       "      <th>29</th>\n",
       "      <td>http://playnomore.co.kr/web/product/small/2017...</td>\n",
       "      <td>http://playnomore.co.kr/product/sold-out-shygi...</td>\n",
       "      <td>$ 450</td>\n",
       "      <td>[SOLD OUT]  SHYGIRL oxford  gold</td>\n",
       "    </tr>\n",
       "  </tbody>\n",
       "</table>\n",
       "</div>"
      ],
      "text/plain": [
       "                                                  img  \\\n",
       "28  http://playnomore.co.kr/web/product/small/2017...   \n",
       "29  http://playnomore.co.kr/web/product/small/2017...   \n",
       "\n",
       "                                                 link  price  \\\n",
       "28  http://playnomore.co.kr/product/sold-out-shy-f...  $ 450   \n",
       "29  http://playnomore.co.kr/product/sold-out-shygi...  $ 450   \n",
       "\n",
       "                                    title  \n",
       "28  [SOLD OUT]  SHY FRIENDS oxford  black  \n",
       "29       [SOLD OUT]  SHYGIRL oxford  gold  "
      ]
     },
     "execution_count": 42,
     "metadata": {},
     "output_type": "execute_result"
    }
   ],
   "source": [
    "df = pd.read_csv(\"playnomore/playnomore.csv\")\n",
    "df.tail(2)"
   ]
  },
  {
   "cell_type": "code",
   "execution_count": null,
   "metadata": {},
   "outputs": [],
   "source": [
    "#이미지 저장\n"
   ]
  },
  {
   "cell_type": "code",
   "execution_count": 48,
   "metadata": {},
   "outputs": [],
   "source": [
    "link= df.loc[0,\"img\"]"
   ]
  },
  {
   "cell_type": "code",
   "execution_count": 50,
   "metadata": {},
   "outputs": [],
   "source": [
    "with open(\"test.png\",\"wb\") as f:\n",
    "    headers = {\"User-Agent\": UserAgent().chrome}\n",
    "    response = requests.get(link, headers=headers)\n",
    "    f.write(response.content)"
   ]
  },
  {
   "cell_type": "code",
   "execution_count": null,
   "metadata": {},
   "outputs": [],
   "source": []
  }
 ],
 "metadata": {
  "kernelspec": {
   "display_name": "Python 3",
   "language": "python",
   "name": "python3"
  },
  "language_info": {
   "codemirror_mode": {
    "name": "ipython",
    "version": 3
   },
   "file_extension": ".py",
   "mimetype": "text/x-python",
   "name": "python",
   "nbconvert_exporter": "python",
   "pygments_lexer": "ipython3",
   "version": "3.7.6"
  }
 },
 "nbformat": 4,
 "nbformat_minor": 4
}
