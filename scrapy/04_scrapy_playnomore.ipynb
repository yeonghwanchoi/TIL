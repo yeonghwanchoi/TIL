{
 "cells": [
  {
   "cell_type": "markdown",
   "metadata": {},
   "source": [
    "### playnomore\n",
    "- http://playnomore.co.kr/\n",
    "- scrapy에서 fake-useragent 사용\n",
    "- scrapy를 실행할때 아규먼트를 설정해서 실행\n",
    "- pipelines에서 데이터 베이스로 데이터를 저장"
   ]
  },
  {
   "cell_type": "code",
   "execution_count": 19,
   "metadata": {},
   "outputs": [],
   "source": [
    "import scrapy\n",
    "import requests\n",
    "from scrapy.http import TextResponse"
   ]
  },
  {
   "cell_type": "markdown",
   "metadata": {},
   "source": [
    "#### 1. 프로젝트 생성"
   ]
  },
  {
   "cell_type": "code",
   "execution_count": 20,
   "metadata": {},
   "outputs": [
    {
     "name": "stdout",
     "output_type": "stream",
     "text": [
      "New Scrapy project 'playnomore', using template directory '/Users/yeonghwanchoi/opt/anaconda3/lib/python3.7/site-packages/scrapy/templates/project', created in:\r\n",
      "    /Users/yeonghwanchoi/Documents/dev/TIL/scrapy/playnomore\r\n",
      "\r\n",
      "You can start your first spider with:\r\n",
      "    cd playnomore\r\n",
      "    scrapy genspider example example.com\r\n"
     ]
    }
   ],
   "source": [
    "!rm -rf playnomore\n",
    "!scrapy startproject playnomore"
   ]
  },
  {
   "cell_type": "markdown",
   "metadata": {},
   "source": [
    "#### 2. items.py\n",
    "- title, price, img, link"
   ]
  },
  {
   "cell_type": "code",
   "execution_count": 21,
   "metadata": {},
   "outputs": [
    {
     "name": "stdout",
     "output_type": "stream",
     "text": [
      "Overwriting playnomore/playnomore/items.py\n"
     ]
    }
   ],
   "source": [
    "%%writefile playnomore/playnomore/items.py\n",
    "import scrapy\n",
    "\n",
    "class PlaynomoreItem(scrapy.Item):\n",
    "    title = scrapy.Field()\n",
    "    price = scrapy.Field()\n",
    "    img = scrapy.Field()\n",
    "    link = scrapy.Field()"
   ]
  },
  {
   "cell_type": "markdown",
   "metadata": {},
   "source": [
    "#### 3. xpath 확인\n",
    "- 링크\n",
    "- 링크 -> 상세페이지(제목, 이미지URL, 가격)\n",
    "- fake_useragent 설치\n",
    "    - pip install fake_useragent"
   ]
  },
  {
   "cell_type": "code",
   "execution_count": 22,
   "metadata": {},
   "outputs": [
    {
     "data": {
      "text/plain": [
       "<200 http://playnomore.co.kr/category/bag/24/>"
      ]
     },
     "execution_count": 22,
     "metadata": {},
     "output_type": "execute_result"
    }
   ],
   "source": [
    "from fake_useragent import UserAgent\n",
    "url = \"http://playnomore.co.kr/category/bag/24/\"\n",
    "# headers = { \"User-Agent\": UserAgent().chrome }\n",
    "headers = { \"User-Agent\": \"Mozilla/5.0 (Macintosh; Intel Mac OS X 10_15_1) AppleWebKit/537.36 (KHTML, like Gecko) Chrome/78.0.3904.108 Safari/537.36\" }\n",
    "req = requests.get(url, headers=headers)\n",
    "response = TextResponse(req.url, body=req.text, encoding=\"utf-8\") \n",
    "response"
   ]
  },
  {
   "cell_type": "code",
   "execution_count": 23,
   "metadata": {},
   "outputs": [],
   "source": [
    "# 링크\n",
    "links = response.xpath(\n",
    "    '//*[@id=\"contents\"]/div[2]/div/ul/li/div/a/@href'\n",
    ").extract()\n",
    "links = list(map(response.urljoin, links))"
   ]
  },
  {
   "cell_type": "code",
   "execution_count": 24,
   "metadata": {},
   "outputs": [
    {
     "data": {
      "text/plain": [
       "<200 http://playnomore.co.kr/product/pre-order20off-micro-baguette-yellow-180/573/?cate_no=24&display_group=1>"
      ]
     },
     "execution_count": 24,
     "metadata": {},
     "output_type": "execute_result"
    }
   ],
   "source": [
    "# 상세페이지 : 제목, 가격, 이미지URL\n",
    "url = links[0]\n",
    "headers = { \"User-Agent\": \"Mozilla/5.0 (Macintosh; Intel Mac OS X 10_15_1) AppleWebKit/537.36 (KHTML, like Gecko) Chrome/78.0.3904.108 Safari/537.36\" }\n",
    "req = requests.get(url, headers=headers)\n",
    "response = TextResponse(req.url, body=req.text, encoding=\"utf-8\") \n",
    "response"
   ]
  },
  {
   "cell_type": "code",
   "execution_count": 25,
   "metadata": {},
   "outputs": [
    {
     "data": {
      "text/plain": [
       "('[Pre-Order/20%off] MICRO BAGUETTE yellow ',\n",
       " '$ 144',\n",
       " 'http://playnomore.co.kr/web/product/big/20200407/626de3d4081df6e1dff057623e9e4877.jpg')"
      ]
     },
     "execution_count": 25,
     "metadata": {},
     "output_type": "execute_result"
    }
   ],
   "source": [
    "title1 = response.xpath(\n",
    "        '//*[@id=\"contents\"]/div[1]/div[1]/div[2]/div[1]/font/text()'\n",
    "    ).extract()\n",
    "title2 = response.xpath(\n",
    "        '//*[@id=\"contents\"]/div[1]/div[1]/div[2]/div[1]/text()'\n",
    "    ).extract()\n",
    "title = \"\".join(title1) + \"\".join(title2)\n",
    "price = response.xpath(\n",
    "        '//*[@id=\"contents\"]/div[1]/div[1]/div[2]/div[2]/text()'\n",
    "    ).extract()[0]\n",
    "img = \"http:\" + response.xpath(\n",
    "        '//*[@id=\"contents\"]/div[1]/div[1]/div[1]/div[1]/img/@src'\n",
    "    ).extract()[0]\n",
    "title, price, img"
   ]
  },
  {
   "cell_type": "markdown",
   "metadata": {},
   "source": [
    "#### 4. spider.py\n",
    "- scrapy-fake-useragent 설치\n",
    "    - pip install scrapy-fake-useragent"
   ]
  },
  {
   "cell_type": "code",
   "execution_count": 26,
   "metadata": {},
   "outputs": [
    {
     "name": "stdout",
     "output_type": "stream",
     "text": [
      "fake-useragent                     0.1.11             \n",
      "scrapy-fake-useragent              1.2.0              \n"
     ]
    }
   ],
   "source": [
    "!pip list | grep fake"
   ]
  },
  {
   "cell_type": "code",
   "execution_count": 27,
   "metadata": {},
   "outputs": [
    {
     "name": "stdout",
     "output_type": "stream",
     "text": [
      "Writing playnomore/playnomore/spiders/spider.py\n"
     ]
    }
   ],
   "source": [
    "%%writefile playnomore/playnomore/spiders/spider.py\n",
    "import scrapy\n",
    "from playnomore.items import PlaynomoreItem\n",
    "\n",
    "class PlaynomoreSpider(scrapy.Spider):\n",
    "    name = \"Playnomore\"\n",
    "    custom_settings = {\n",
    "        'DOWNLOADER_MIDDLEWARES': {\n",
    "            'scrapy.downloadermiddlewares.useragent.UserAgentMiddleware': None,\n",
    "            'scrapy_fake_useragent.middleware.RandomUserAgentMiddleware': 400,\n",
    "        }\n",
    "    }\n",
    "    \n",
    "    def start_requests(self):\n",
    "        url = \"http://playnomore.co.kr/category/bag/24/\"\n",
    "        yield scrapy.Request(url, callback=self.parse)\n",
    "        \n",
    "    def parse(self, response):\n",
    "        links = response.xpath('//*[@id=\"contents\"]/div[2]/div/ul/li/div/a/@href').extract()\n",
    "        links = list(map(response.urljoin, links))\n",
    "        for link in links:\n",
    "            yield scrapy.Request(link, callback=self.page_parse)\n",
    "    \n",
    "    def page_parse(self, response):\n",
    "        item = PlaynomoreItem()\n",
    "        title1 = response.xpath('//*[@id=\"contents\"]/div[1]/div[1]/div[2]/div[1]/font/text()').extract()\n",
    "        title2 = response.xpath('//*[@id=\"contents\"]/div[1]/div[1]/div[2]/div[1]/text()').extract()\n",
    "        item[\"title\"] = \"\".join(title1) + \"\".join(title2)\n",
    "        item[\"price\"] = response.xpath('//*[@id=\"contents\"]/div[1]/div[1]/div[2]/div[2]/text()').extract()[0]\n",
    "        item[\"img\"] = \"http:\" + response.xpath('//*[@id=\"contents\"]/div[1]/div[1]/div[1]/div[1]/img/@src').extract()[0]\n",
    "        item[\"link\"] = response.url\n",
    "        yield item"
   ]
  },
  {
   "cell_type": "code",
   "execution_count": 28,
   "metadata": {},
   "outputs": [
    {
     "name": "stdout",
     "output_type": "stream",
     "text": [
      "Overwriting run.sh\n"
     ]
    }
   ],
   "source": [
    "%%writefile run.sh\n",
    "cd playnomore\n",
    "scrapy crawl Playnomore -o playnomore.csv"
   ]
  },
  {
   "cell_type": "code",
   "execution_count": 29,
   "metadata": {},
   "outputs": [],
   "source": [
    "!chmod +x run.sh"
   ]
  },
  {
   "cell_type": "code",
   "execution_count": 30,
   "metadata": {},
   "outputs": [
    {
     "name": "stdout",
     "output_type": "stream",
     "text": [
      "2020-07-15 15:33:25 [scrapy.utils.log] INFO: Scrapy 2.2.0 started (bot: playnomore)\n",
      "2020-07-15 15:33:25 [scrapy.utils.log] INFO: Versions: lxml 4.5.0.0, libxml2 2.9.9, cssselect 1.1.0, parsel 1.6.0, w3lib 1.22.0, Twisted 20.3.0, Python 3.7.6 (default, Jan  8 2020, 13:42:34) - [Clang 4.0.1 (tags/RELEASE_401/final)], pyOpenSSL 19.1.0 (OpenSSL 1.1.1d  10 Sep 2019), cryptography 2.8, Platform Darwin-19.5.0-x86_64-i386-64bit\n",
      "2020-07-15 15:33:25 [scrapy.utils.log] DEBUG: Using reactor: twisted.internet.selectreactor.SelectReactor\n",
      "2020-07-15 15:33:25 [scrapy.crawler] INFO: Overridden settings:\n",
      "{'BOT_NAME': 'playnomore',\n",
      " 'NEWSPIDER_MODULE': 'playnomore.spiders',\n",
      " 'ROBOTSTXT_OBEY': True,\n",
      " 'SPIDER_MODULES': ['playnomore.spiders']}\n",
      "2020-07-15 15:33:25 [scrapy.extensions.telnet] INFO: Telnet Password: bc5370526129bec8\n",
      "2020-07-15 15:33:25 [scrapy.middleware] INFO: Enabled extensions:\n",
      "['scrapy.extensions.corestats.CoreStats',\n",
      " 'scrapy.extensions.telnet.TelnetConsole',\n",
      " 'scrapy.extensions.memusage.MemoryUsage',\n",
      " 'scrapy.extensions.feedexport.FeedExporter',\n",
      " 'scrapy.extensions.logstats.LogStats']\n",
      "2020-07-15 15:33:31 [fake_useragent] DEBUG: Error occurred during fetching http://useragentstring.com/pages/useragentstring.php?name=Chrome\n",
      "Traceback (most recent call last):\n",
      "  File \"/Users/yeonghwanchoi/opt/anaconda3/lib/python3.7/urllib/request.py\", line 1319, in do_open\n",
      "    encode_chunked=req.has_header('Transfer-encoding'))\n",
      "  File \"/Users/yeonghwanchoi/opt/anaconda3/lib/python3.7/http/client.py\", line 1252, in request\n",
      "    self._send_request(method, url, body, headers, encode_chunked)\n",
      "  File \"/Users/yeonghwanchoi/opt/anaconda3/lib/python3.7/http/client.py\", line 1298, in _send_request\n",
      "    self.endheaders(body, encode_chunked=encode_chunked)\n",
      "  File \"/Users/yeonghwanchoi/opt/anaconda3/lib/python3.7/http/client.py\", line 1247, in endheaders\n",
      "    self._send_output(message_body, encode_chunked=encode_chunked)\n",
      "  File \"/Users/yeonghwanchoi/opt/anaconda3/lib/python3.7/http/client.py\", line 1026, in _send_output\n",
      "    self.send(msg)\n",
      "  File \"/Users/yeonghwanchoi/opt/anaconda3/lib/python3.7/http/client.py\", line 966, in send\n",
      "    self.connect()\n",
      "  File \"/Users/yeonghwanchoi/opt/anaconda3/lib/python3.7/http/client.py\", line 938, in connect\n",
      "    (self.host,self.port), self.timeout, self.source_address)\n",
      "  File \"/Users/yeonghwanchoi/opt/anaconda3/lib/python3.7/socket.py\", line 728, in create_connection\n",
      "    raise err\n",
      "  File \"/Users/yeonghwanchoi/opt/anaconda3/lib/python3.7/socket.py\", line 716, in create_connection\n",
      "    sock.connect(sa)\n",
      "socket.timeout: timed out\n",
      "\n",
      "During handling of the above exception, another exception occurred:\n",
      "\n",
      "Traceback (most recent call last):\n",
      "  File \"/Users/yeonghwanchoi/opt/anaconda3/lib/python3.7/site-packages/fake_useragent/utils.py\", line 67, in get\n",
      "    context=context,\n",
      "  File \"/Users/yeonghwanchoi/opt/anaconda3/lib/python3.7/urllib/request.py\", line 222, in urlopen\n",
      "    return opener.open(url, data, timeout)\n",
      "  File \"/Users/yeonghwanchoi/opt/anaconda3/lib/python3.7/urllib/request.py\", line 525, in open\n",
      "    response = self._open(req, data)\n",
      "  File \"/Users/yeonghwanchoi/opt/anaconda3/lib/python3.7/urllib/request.py\", line 543, in _open\n",
      "    '_open', req)\n",
      "  File \"/Users/yeonghwanchoi/opt/anaconda3/lib/python3.7/urllib/request.py\", line 503, in _call_chain\n",
      "    result = func(*args)\n",
      "  File \"/Users/yeonghwanchoi/opt/anaconda3/lib/python3.7/urllib/request.py\", line 1347, in http_open\n",
      "    return self.do_open(http.client.HTTPConnection, req)\n",
      "  File \"/Users/yeonghwanchoi/opt/anaconda3/lib/python3.7/urllib/request.py\", line 1321, in do_open\n",
      "    raise URLError(err)\n",
      "urllib.error.URLError: <urlopen error timed out>\n",
      "2020-07-15 15:33:31 [fake_useragent] DEBUG: Sleeping for 0.1 seconds\n",
      "2020-07-15 15:33:36 [fake_useragent] DEBUG: Error occurred during fetching http://useragentstring.com/pages/useragentstring.php?name=Chrome\n",
      "Traceback (most recent call last):\n",
      "  File \"/Users/yeonghwanchoi/opt/anaconda3/lib/python3.7/urllib/request.py\", line 1319, in do_open\n",
      "    encode_chunked=req.has_header('Transfer-encoding'))\n",
      "  File \"/Users/yeonghwanchoi/opt/anaconda3/lib/python3.7/http/client.py\", line 1252, in request\n",
      "    self._send_request(method, url, body, headers, encode_chunked)\n",
      "  File \"/Users/yeonghwanchoi/opt/anaconda3/lib/python3.7/http/client.py\", line 1298, in _send_request\n",
      "    self.endheaders(body, encode_chunked=encode_chunked)\n",
      "  File \"/Users/yeonghwanchoi/opt/anaconda3/lib/python3.7/http/client.py\", line 1247, in endheaders\n",
      "    self._send_output(message_body, encode_chunked=encode_chunked)\n",
      "  File \"/Users/yeonghwanchoi/opt/anaconda3/lib/python3.7/http/client.py\", line 1026, in _send_output\n",
      "    self.send(msg)\n",
      "  File \"/Users/yeonghwanchoi/opt/anaconda3/lib/python3.7/http/client.py\", line 966, in send\n",
      "    self.connect()\n",
      "  File \"/Users/yeonghwanchoi/opt/anaconda3/lib/python3.7/http/client.py\", line 938, in connect\n",
      "    (self.host,self.port), self.timeout, self.source_address)\n",
      "  File \"/Users/yeonghwanchoi/opt/anaconda3/lib/python3.7/socket.py\", line 728, in create_connection\n",
      "    raise err\n",
      "  File \"/Users/yeonghwanchoi/opt/anaconda3/lib/python3.7/socket.py\", line 716, in create_connection\n",
      "    sock.connect(sa)\n",
      "socket.timeout: timed out\n",
      "\n",
      "During handling of the above exception, another exception occurred:\n",
      "\n",
      "Traceback (most recent call last):\n",
      "  File \"/Users/yeonghwanchoi/opt/anaconda3/lib/python3.7/site-packages/fake_useragent/utils.py\", line 67, in get\n",
      "    context=context,\n",
      "  File \"/Users/yeonghwanchoi/opt/anaconda3/lib/python3.7/urllib/request.py\", line 222, in urlopen\n",
      "    return opener.open(url, data, timeout)\n",
      "  File \"/Users/yeonghwanchoi/opt/anaconda3/lib/python3.7/urllib/request.py\", line 525, in open\n",
      "    response = self._open(req, data)\n",
      "  File \"/Users/yeonghwanchoi/opt/anaconda3/lib/python3.7/urllib/request.py\", line 543, in _open\n",
      "    '_open', req)\n",
      "  File \"/Users/yeonghwanchoi/opt/anaconda3/lib/python3.7/urllib/request.py\", line 503, in _call_chain\n",
      "    result = func(*args)\n",
      "  File \"/Users/yeonghwanchoi/opt/anaconda3/lib/python3.7/urllib/request.py\", line 1347, in http_open\n",
      "    return self.do_open(http.client.HTTPConnection, req)\n",
      "  File \"/Users/yeonghwanchoi/opt/anaconda3/lib/python3.7/urllib/request.py\", line 1321, in do_open\n",
      "    raise URLError(err)\n",
      "urllib.error.URLError: <urlopen error timed out>\n",
      "2020-07-15 15:33:36 [fake_useragent] WARNING: Error occurred during loading data. Trying to use cache server https://fake-useragent.herokuapp.com/browsers/0.1.11\n",
      "Traceback (most recent call last):\n",
      "  File \"/Users/yeonghwanchoi/opt/anaconda3/lib/python3.7/urllib/request.py\", line 1319, in do_open\n",
      "    encode_chunked=req.has_header('Transfer-encoding'))\n",
      "  File \"/Users/yeonghwanchoi/opt/anaconda3/lib/python3.7/http/client.py\", line 1252, in request\n",
      "    self._send_request(method, url, body, headers, encode_chunked)\n",
      "  File \"/Users/yeonghwanchoi/opt/anaconda3/lib/python3.7/http/client.py\", line 1298, in _send_request\n",
      "    self.endheaders(body, encode_chunked=encode_chunked)\n",
      "  File \"/Users/yeonghwanchoi/opt/anaconda3/lib/python3.7/http/client.py\", line 1247, in endheaders\n",
      "    self._send_output(message_body, encode_chunked=encode_chunked)\n",
      "  File \"/Users/yeonghwanchoi/opt/anaconda3/lib/python3.7/http/client.py\", line 1026, in _send_output\n",
      "    self.send(msg)\n",
      "  File \"/Users/yeonghwanchoi/opt/anaconda3/lib/python3.7/http/client.py\", line 966, in send\n",
      "    self.connect()\n",
      "  File \"/Users/yeonghwanchoi/opt/anaconda3/lib/python3.7/http/client.py\", line 938, in connect\n",
      "    (self.host,self.port), self.timeout, self.source_address)\n",
      "  File \"/Users/yeonghwanchoi/opt/anaconda3/lib/python3.7/socket.py\", line 728, in create_connection\n",
      "    raise err\n",
      "  File \"/Users/yeonghwanchoi/opt/anaconda3/lib/python3.7/socket.py\", line 716, in create_connection\n",
      "    sock.connect(sa)\n",
      "socket.timeout: timed out\n",
      "\n",
      "During handling of the above exception, another exception occurred:\n",
      "\n",
      "Traceback (most recent call last):\n",
      "  File \"/Users/yeonghwanchoi/opt/anaconda3/lib/python3.7/site-packages/fake_useragent/utils.py\", line 67, in get\n",
      "    context=context,\n",
      "  File \"/Users/yeonghwanchoi/opt/anaconda3/lib/python3.7/urllib/request.py\", line 222, in urlopen\n",
      "    return opener.open(url, data, timeout)\n",
      "  File \"/Users/yeonghwanchoi/opt/anaconda3/lib/python3.7/urllib/request.py\", line 525, in open\n",
      "    response = self._open(req, data)\n",
      "  File \"/Users/yeonghwanchoi/opt/anaconda3/lib/python3.7/urllib/request.py\", line 543, in _open\n",
      "    '_open', req)\n",
      "  File \"/Users/yeonghwanchoi/opt/anaconda3/lib/python3.7/urllib/request.py\", line 503, in _call_chain\n",
      "    result = func(*args)\n",
      "  File \"/Users/yeonghwanchoi/opt/anaconda3/lib/python3.7/urllib/request.py\", line 1347, in http_open\n",
      "    return self.do_open(http.client.HTTPConnection, req)\n",
      "  File \"/Users/yeonghwanchoi/opt/anaconda3/lib/python3.7/urllib/request.py\", line 1321, in do_open\n",
      "    raise URLError(err)\n",
      "urllib.error.URLError: <urlopen error timed out>\n",
      "\n",
      "During handling of the above exception, another exception occurred:\n",
      "\n",
      "Traceback (most recent call last):\n",
      "  File \"/Users/yeonghwanchoi/opt/anaconda3/lib/python3.7/site-packages/fake_useragent/utils.py\", line 166, in load\n",
      "    verify_ssl=verify_ssl,\n",
      "  File \"/Users/yeonghwanchoi/opt/anaconda3/lib/python3.7/site-packages/fake_useragent/utils.py\", line 122, in get_browser_versions\n",
      "    verify_ssl=verify_ssl,\n",
      "  File \"/Users/yeonghwanchoi/opt/anaconda3/lib/python3.7/site-packages/fake_useragent/utils.py\", line 84, in get\n",
      "    raise FakeUserAgentError('Maximum amount of retries reached')\n",
      "fake_useragent.errors.FakeUserAgentError: Maximum amount of retries reached\n"
     ]
    },
    {
     "name": "stdout",
     "output_type": "stream",
     "text": [
      "2020-07-15 15:33:40 [scrapy.middleware] INFO: Enabled downloader middlewares:\n",
      "['scrapy.downloadermiddlewares.robotstxt.RobotsTxtMiddleware',\n",
      " 'scrapy.downloadermiddlewares.httpauth.HttpAuthMiddleware',\n",
      " 'scrapy.downloadermiddlewares.downloadtimeout.DownloadTimeoutMiddleware',\n",
      " 'scrapy.downloadermiddlewares.defaultheaders.DefaultHeadersMiddleware',\n",
      " 'scrapy_fake_useragent.middleware.RandomUserAgentMiddleware',\n",
      " 'scrapy.downloadermiddlewares.retry.RetryMiddleware',\n",
      " 'scrapy.downloadermiddlewares.redirect.MetaRefreshMiddleware',\n",
      " 'scrapy.downloadermiddlewares.httpcompression.HttpCompressionMiddleware',\n",
      " 'scrapy.downloadermiddlewares.redirect.RedirectMiddleware',\n",
      " 'scrapy.downloadermiddlewares.cookies.CookiesMiddleware',\n",
      " 'scrapy.downloadermiddlewares.httpproxy.HttpProxyMiddleware',\n",
      " 'scrapy.downloadermiddlewares.stats.DownloaderStats']\n",
      "2020-07-15 15:33:40 [scrapy.middleware] INFO: Enabled spider middlewares:\n",
      "['scrapy.spidermiddlewares.httperror.HttpErrorMiddleware',\n",
      " 'scrapy.spidermiddlewares.offsite.OffsiteMiddleware',\n",
      " 'scrapy.spidermiddlewares.referer.RefererMiddleware',\n",
      " 'scrapy.spidermiddlewares.urllength.UrlLengthMiddleware',\n",
      " 'scrapy.spidermiddlewares.depth.DepthMiddleware']\n",
      "2020-07-15 15:33:40 [scrapy.middleware] INFO: Enabled item pipelines:\n",
      "[]\n",
      "2020-07-15 15:33:40 [scrapy.core.engine] INFO: Spider opened\n",
      "2020-07-15 15:33:40 [scrapy.extensions.logstats] INFO: Crawled 0 pages (at 0 pages/min), scraped 0 items (at 0 items/min)\n",
      "2020-07-15 15:33:40 [scrapy.extensions.telnet] INFO: Telnet console listening on 127.0.0.1:6023\n",
      "2020-07-15 15:33:40 [scrapy.core.engine] DEBUG: Crawled (200) <GET http://playnomore.co.kr/robots.txt> (referer: None)\n",
      "2020-07-15 15:33:41 [scrapy.core.engine] DEBUG: Crawled (200) <GET http://playnomore.co.kr/category/bag/24/> (referer: None)\n",
      "2020-07-15 15:33:41 [scrapy.downloadermiddlewares.redirect] DEBUG: Redirecting (301) to <GET http://playnomore.co.kr/product/pre-order20off-micro-baguette-yellow-180/573/?cate_no=24&display_group=1> from <GET http://playnomore.co.kr/product/detail.html?product_no=573&cate_no=24&display_group=1>\n",
      "2020-07-15 15:33:41 [scrapy.downloadermiddlewares.redirect] DEBUG: Redirecting (301) to <GET http://playnomore.co.kr/product/new-open-event-10-rainbow-hobo-red-180/569/?cate_no=24&display_group=1> from <GET http://playnomore.co.kr/product/detail.html?product_no=569&cate_no=24&display_group=1>\n",
      "2020-07-15 15:33:41 [scrapy.downloadermiddlewares.redirect] DEBUG: Redirecting (301) to <GET http://playnomore.co.kr/product/new-open-event-10-rainbow-hobo-green-180/568/?cate_no=24&display_group=1> from <GET http://playnomore.co.kr/product/detail.html?product_no=568&cate_no=24&display_group=1>\n",
      "2020-07-15 15:33:41 [scrapy.downloadermiddlewares.redirect] DEBUG: Redirecting (301) to <GET http://playnomore.co.kr/product/new-open-event-10-rainbow-hobo-blue-180/567/?cate_no=24&display_group=1> from <GET http://playnomore.co.kr/product/detail.html?product_no=567&cate_no=24&display_group=1>\n",
      "2020-07-15 15:33:41 [scrapy.downloadermiddlewares.redirect] DEBUG: Redirecting (301) to <GET http://playnomore.co.kr/product/new-open-event-10-rainbow-hobo-whtie-180/563/?cate_no=24&display_group=1> from <GET http://playnomore.co.kr/product/detail.html?product_no=563&cate_no=24&display_group=1>\n",
      "2020-07-15 15:33:41 [scrapy.downloadermiddlewares.redirect] DEBUG: Redirecting (301) to <GET http://playnomore.co.kr/product/new-open-event-10-rainbow-hobo-ice-grey-180/565/?cate_no=24&display_group=1> from <GET http://playnomore.co.kr/product/detail.html?product_no=565&cate_no=24&display_group=1>\n",
      "2020-07-15 15:33:41 [scrapy.downloadermiddlewares.redirect] DEBUG: Redirecting (301) to <GET http://playnomore.co.kr/product/new-open-event-10-rainbow-hobo-candy-pink-180/564/?cate_no=24&display_group=1> from <GET http://playnomore.co.kr/product/detail.html?product_no=564&cate_no=24&display_group=1>\n",
      "2020-07-15 15:33:41 [scrapy.downloadermiddlewares.redirect] DEBUG: Redirecting (301) to <GET http://playnomore.co.kr/product/new-open-event-10-rainbow-hobo-mint-180/566/?cate_no=24&display_group=1> from <GET http://playnomore.co.kr/product/detail.html?product_no=566&cate_no=24&display_group=1>\n",
      "2020-07-15 15:33:41 [scrapy.downloadermiddlewares.redirect] DEBUG: Redirecting (301) to <GET http://playnomore.co.kr/product//545/?cate_no=24&display_group=1> from <GET http://playnomore.co.kr/product/detail.html?product_no=545&cate_no=24&display_group=1>\n",
      "2020-07-15 15:33:41 [scrapy.downloadermiddlewares.redirect] DEBUG: Redirecting (301) to <GET http://playnomore.co.kr/product/new-open-event-10-rainbow-hobo-black-180/562/?cate_no=24&display_group=1> from <GET http://playnomore.co.kr/product/detail.html?product_no=562&cate_no=24&display_group=1>\n",
      "2020-07-15 15:33:41 [scrapy.downloadermiddlewares.redirect] DEBUG: Redirecting (301) to <GET http://playnomore.co.kr/product/spring-sale-15-micro-candy-white-180/507/?cate_no=24&display_group=1> from <GET http://playnomore.co.kr/product/detail.html?product_no=507&cate_no=24&display_group=1>\n",
      "2020-07-15 15:33:41 [scrapy.downloadermiddlewares.redirect] DEBUG: Redirecting (301) to <GET http://playnomore.co.kr/product/15off-micro-candy-magenta-180/493/?cate_no=24&display_group=1> from <GET http://playnomore.co.kr/product/detail.html?product_no=493&cate_no=24&display_group=1>\n",
      "2020-07-15 15:33:41 [scrapy.downloadermiddlewares.redirect] DEBUG: Redirecting (301) to <GET http://playnomore.co.kr/product/pre-order20off-micro-baguette-white-180/572/?cate_no=24&display_group=1> from <GET http://playnomore.co.kr/product/detail.html?product_no=572&cate_no=24&display_group=1>\n",
      "2020-07-15 15:33:41 [scrapy.downloadermiddlewares.redirect] DEBUG: Redirecting (301) to <GET http://playnomore.co.kr/product/15off-micro-candy-dot-180/550/?cate_no=24&display_group=1> from <GET http://playnomore.co.kr/product/detail.html?product_no=550&cate_no=24&display_group=1>\n",
      "2020-07-15 15:33:41 [scrapy.downloadermiddlewares.redirect] DEBUG: Redirecting (301) to <GET http://playnomore.co.kr/product/15off-micro-candy-natural-180/532/?cate_no=24&display_group=1> from <GET http://playnomore.co.kr/product/detail.html?product_no=532&cate_no=24&display_group=1>\n",
      "2020-07-15 15:33:42 [scrapy.core.engine] DEBUG: Crawled (200) <GET http://playnomore.co.kr/product/new-open-event-10-rainbow-hobo-blue-180/567/?cate_no=24&display_group=1> (referer: http://playnomore.co.kr/category/bag/24/)\n",
      "2020-07-15 15:33:42 [scrapy.core.engine] DEBUG: Crawled (200) <GET http://playnomore.co.kr/product/pre-order20off-micro-baguette-yellow-180/573/?cate_no=24&display_group=1> (referer: http://playnomore.co.kr/category/bag/24/)\n",
      "2020-07-15 15:33:42 [scrapy.core.engine] DEBUG: Crawled (200) <GET http://playnomore.co.kr/product/new-open-event-10-rainbow-hobo-whtie-180/563/?cate_no=24&display_group=1> (referer: http://playnomore.co.kr/category/bag/24/)\n",
      "2020-07-15 15:33:42 [scrapy.core.engine] DEBUG: Crawled (200) <GET http://playnomore.co.kr/product/new-open-event-10-rainbow-hobo-ice-grey-180/565/?cate_no=24&display_group=1> (referer: http://playnomore.co.kr/category/bag/24/)\n",
      "2020-07-15 15:33:42 [scrapy.core.engine] DEBUG: Crawled (200) <GET http://playnomore.co.kr/product/new-open-event-10-rainbow-hobo-mint-180/566/?cate_no=24&display_group=1> (referer: http://playnomore.co.kr/category/bag/24/)\n",
      "2020-07-15 15:33:42 [scrapy.core.engine] DEBUG: Crawled (200) <GET http://playnomore.co.kr/product/new-open-event-10-rainbow-hobo-green-180/568/?cate_no=24&display_group=1> (referer: http://playnomore.co.kr/category/bag/24/)\n",
      "2020-07-15 15:33:42 [scrapy.core.engine] DEBUG: Crawled (404) <GET http://playnomore.co.kr/product//545/?cate_no=24&display_group=1> (referer: http://playnomore.co.kr/category/bag/24/)\n",
      "2020-07-15 15:33:42 [scrapy.core.engine] DEBUG: Crawled (200) <GET http://playnomore.co.kr/product/new-open-event-10-rainbow-hobo-red-180/569/?cate_no=24&display_group=1> (referer: http://playnomore.co.kr/category/bag/24/)\n",
      "2020-07-15 15:33:42 [scrapy.core.engine] DEBUG: Crawled (200) <GET http://playnomore.co.kr/product/new-open-event-10-rainbow-hobo-candy-pink-180/564/?cate_no=24&display_group=1> (referer: http://playnomore.co.kr/category/bag/24/)\n",
      "2020-07-15 15:33:42 [scrapy.core.scraper] DEBUG: Scraped from <200 http://playnomore.co.kr/product/new-open-event-10-rainbow-hobo-blue-180/567/?cate_no=24&display_group=1>\n",
      "{'img': 'http://playnomore.co.kr/web/product/big/20200317/a5ea014ec575f68728cc1bf360b3d127.jpg',\n",
      " 'link': 'http://playnomore.co.kr/product/new-open-event-10-rainbow-hobo-blue-180/567/?cate_no=24&display_group=1',\n",
      " 'price': '$ 162',\n",
      " 'title': '[New Open Event 10%] RAINBOW HOBO blue '}\n",
      "2020-07-15 15:33:42 [scrapy.core.scraper] DEBUG: Scraped from <200 http://playnomore.co.kr/product/pre-order20off-micro-baguette-yellow-180/573/?cate_no=24&display_group=1>\n",
      "{'img': 'http://playnomore.co.kr/web/product/big/20200407/626de3d4081df6e1dff057623e9e4877.jpg',\n",
      " 'link': 'http://playnomore.co.kr/product/pre-order20off-micro-baguette-yellow-180/573/?cate_no=24&display_group=1',\n",
      " 'price': '$ 144',\n",
      " 'title': '[Pre-Order/20%off] MICRO BAGUETTE yellow '}\n"
     ]
    },
    {
     "name": "stdout",
     "output_type": "stream",
     "text": [
      "2020-07-15 15:33:42 [scrapy.core.scraper] DEBUG: Scraped from <200 http://playnomore.co.kr/product/new-open-event-10-rainbow-hobo-whtie-180/563/?cate_no=24&display_group=1>\n",
      "{'img': 'http://playnomore.co.kr/web/product/big/20200317/924aa77ebf25941ab05dbd66f656d0c2.jpg',\n",
      " 'link': 'http://playnomore.co.kr/product/new-open-event-10-rainbow-hobo-whtie-180/563/?cate_no=24&display_group=1',\n",
      " 'price': '$ 162',\n",
      " 'title': '[New Open Event 10%] RAINBOW HOBO whtie '}\n",
      "2020-07-15 15:33:42 [scrapy.core.scraper] DEBUG: Scraped from <200 http://playnomore.co.kr/product/new-open-event-10-rainbow-hobo-ice-grey-180/565/?cate_no=24&display_group=1>\n",
      "{'img': 'http://playnomore.co.kr/web/product/big/20200317/8b360e875520ffebcfb628d0137f3273.jpg',\n",
      " 'link': 'http://playnomore.co.kr/product/new-open-event-10-rainbow-hobo-ice-grey-180/565/?cate_no=24&display_group=1',\n",
      " 'price': '$ 162',\n",
      " 'title': '[New Open Event 10%] RAINBOW HOBO ice grey '}\n",
      "2020-07-15 15:33:42 [scrapy.spidermiddlewares.httperror] INFO: Ignoring response <404 http://playnomore.co.kr/product//545/?cate_no=24&display_group=1>: HTTP status code is not handled or not allowed\n",
      "2020-07-15 15:33:42 [scrapy.core.scraper] DEBUG: Scraped from <200 http://playnomore.co.kr/product/new-open-event-10-rainbow-hobo-mint-180/566/?cate_no=24&display_group=1>\n",
      "{'img': 'http://playnomore.co.kr/web/product/big/20200317/44e1772952f01937bc481e34cc7de6f0.jpg',\n",
      " 'link': 'http://playnomore.co.kr/product/new-open-event-10-rainbow-hobo-mint-180/566/?cate_no=24&display_group=1',\n",
      " 'price': '$ 162',\n",
      " 'title': '[New Open Event 10%] RAINBOW HOBO mint '}\n",
      "2020-07-15 15:33:42 [scrapy.core.scraper] DEBUG: Scraped from <200 http://playnomore.co.kr/product/new-open-event-10-rainbow-hobo-green-180/568/?cate_no=24&display_group=1>\n",
      "{'img': 'http://playnomore.co.kr/web/product/big/20200317/31a7cc70839b4dba791673f40e20db2d.jpg',\n",
      " 'link': 'http://playnomore.co.kr/product/new-open-event-10-rainbow-hobo-green-180/568/?cate_no=24&display_group=1',\n",
      " 'price': '$ 162',\n",
      " 'title': '[New Open Event 10%] RAINBOW HOBO green '}\n",
      "2020-07-15 15:33:42 [scrapy.core.scraper] DEBUG: Scraped from <200 http://playnomore.co.kr/product/new-open-event-10-rainbow-hobo-red-180/569/?cate_no=24&display_group=1>\n",
      "{'img': 'http://playnomore.co.kr/web/product/big/20200317/0c563a8e24723b3791f888656dbe2338.jpg',\n",
      " 'link': 'http://playnomore.co.kr/product/new-open-event-10-rainbow-hobo-red-180/569/?cate_no=24&display_group=1',\n",
      " 'price': '$ 162',\n",
      " 'title': '[New Open Event 10%] RAINBOW HOBO red '}\n",
      "2020-07-15 15:33:42 [scrapy.core.scraper] DEBUG: Scraped from <200 http://playnomore.co.kr/product/new-open-event-10-rainbow-hobo-candy-pink-180/564/?cate_no=24&display_group=1>\n",
      "{'img': 'http://playnomore.co.kr/web/product/big/20200317/30f03a82a40613037ab9763f4a1fc7cd.jpg',\n",
      " 'link': 'http://playnomore.co.kr/product/new-open-event-10-rainbow-hobo-candy-pink-180/564/?cate_no=24&display_group=1',\n",
      " 'price': '$ 162',\n",
      " 'title': '[New Open Event 10%] RAINBOW HOBO candy pink '}\n",
      "2020-07-15 15:33:42 [scrapy.core.engine] DEBUG: Crawled (200) <GET http://playnomore.co.kr/product/new-open-event-10-rainbow-hobo-black-180/562/?cate_no=24&display_group=1> (referer: http://playnomore.co.kr/category/bag/24/)\n",
      "2020-07-15 15:33:42 [scrapy.core.scraper] DEBUG: Scraped from <200 http://playnomore.co.kr/product/new-open-event-10-rainbow-hobo-black-180/562/?cate_no=24&display_group=1>\n",
      "{'img': 'http://playnomore.co.kr/web/product/big/20200317/33d8cfd4ea02bc468f02dc95464109f9.jpg',\n",
      " 'link': 'http://playnomore.co.kr/product/new-open-event-10-rainbow-hobo-black-180/562/?cate_no=24&display_group=1',\n",
      " 'price': '$ 162',\n",
      " 'title': '[New Open Event 10%] RAINBOW HOBO black '}\n",
      "2020-07-15 15:33:42 [scrapy.core.engine] DEBUG: Crawled (200) <GET http://playnomore.co.kr/product/15off-micro-candy-magenta-180/493/?cate_no=24&display_group=1> (referer: http://playnomore.co.kr/category/bag/24/)\n",
      "2020-07-15 15:33:42 [scrapy.core.engine] DEBUG: Crawled (200) <GET http://playnomore.co.kr/product/15off-micro-candy-dot-180/550/?cate_no=24&display_group=1> (referer: http://playnomore.co.kr/category/bag/24/)\n",
      "2020-07-15 15:33:42 [scrapy.core.engine] DEBUG: Crawled (200) <GET http://playnomore.co.kr/product/15off-micro-candy-natural-180/532/?cate_no=24&display_group=1> (referer: http://playnomore.co.kr/category/bag/24/)\n",
      "2020-07-15 15:33:42 [scrapy.core.scraper] DEBUG: Scraped from <200 http://playnomore.co.kr/product/15off-micro-candy-magenta-180/493/?cate_no=24&display_group=1>\n",
      "{'img': 'http://playnomore.co.kr/web/product/big/20200303/4b468e41aa0114038f15b9b97702ccb8.jpg',\n",
      " 'link': 'http://playnomore.co.kr/product/15off-micro-candy-magenta-180/493/?cate_no=24&display_group=1',\n",
      " 'price': '$ 153',\n",
      " 'title': '[15%off] MICRO CANDY magenta '}\n",
      "2020-07-15 15:33:42 [scrapy.core.engine] DEBUG: Crawled (200) <GET http://playnomore.co.kr/product/spring-sale-15-micro-candy-white-180/507/?cate_no=24&display_group=1> (referer: http://playnomore.co.kr/category/bag/24/)\n",
      "2020-07-15 15:33:42 [scrapy.core.engine] DEBUG: Crawled (200) <GET http://playnomore.co.kr/product/pre-order20off-micro-baguette-white-180/572/?cate_no=24&display_group=1> (referer: http://playnomore.co.kr/category/bag/24/)\n",
      "2020-07-15 15:33:42 [scrapy.core.scraper] DEBUG: Scraped from <200 http://playnomore.co.kr/product/15off-micro-candy-dot-180/550/?cate_no=24&display_group=1>\n",
      "{'img': 'http://playnomore.co.kr/web/product/big/20200303/448ef015df082eec76b9dbd116a1c86a.jpg',\n",
      " 'link': 'http://playnomore.co.kr/product/15off-micro-candy-dot-180/550/?cate_no=24&display_group=1',\n",
      " 'price': '$ 153',\n",
      " 'title': '[15%off] MICRO CANDY dot '}\n",
      "2020-07-15 15:33:42 [scrapy.core.scraper] DEBUG: Scraped from <200 http://playnomore.co.kr/product/15off-micro-candy-natural-180/532/?cate_no=24&display_group=1>\n",
      "{'img': 'http://playnomore.co.kr/web/product/big/20200303/46c317e5bc83027b99c6a1e105adb2af.jpg',\n",
      " 'link': 'http://playnomore.co.kr/product/15off-micro-candy-natural-180/532/?cate_no=24&display_group=1',\n",
      " 'price': '$ 153',\n",
      " 'title': '[15%off] MICRO CANDY natural '}\n",
      "2020-07-15 15:33:42 [scrapy.core.scraper] DEBUG: Scraped from <200 http://playnomore.co.kr/product/spring-sale-15-micro-candy-white-180/507/?cate_no=24&display_group=1>\n",
      "{'img': 'http://playnomore.co.kr/web/product/big/20200303/75ffbe8e032a8e233f00210ac4e6e4fd.jpg',\n",
      " 'link': 'http://playnomore.co.kr/product/spring-sale-15-micro-candy-white-180/507/?cate_no=24&display_group=1',\n",
      " 'price': '$ 153',\n",
      " 'title': '[Spring SALE 15%] MICRO CANDY white '}\n",
      "2020-07-15 15:33:42 [scrapy.core.scraper] DEBUG: Scraped from <200 http://playnomore.co.kr/product/pre-order20off-micro-baguette-white-180/572/?cate_no=24&display_group=1>\n",
      "{'img': 'http://playnomore.co.kr/web/product/big/20200407/5d236db50fc74a8e435bb543137d56e2.jpg',\n",
      " 'link': 'http://playnomore.co.kr/product/pre-order20off-micro-baguette-white-180/572/?cate_no=24&display_group=1',\n",
      " 'price': '$ 144',\n",
      " 'title': '[Pre-Order/20%off] MICRO BAGUETTE white '}\n",
      "2020-07-15 15:33:42 [scrapy.core.engine] INFO: Closing spider (finished)\n",
      "2020-07-15 15:33:42 [scrapy.extensions.feedexport] INFO: Stored csv feed (14 items) in: playnomore.csv\n",
      "2020-07-15 15:33:42 [scrapy.statscollectors] INFO: Dumping Scrapy stats:\n",
      "{'downloader/request_bytes': 17193,\n",
      " 'downloader/request_count': 32,\n",
      " 'downloader/request_method_count/GET': 32,\n",
      " 'downloader/response_bytes': 294379,\n",
      " 'downloader/response_count': 32,\n",
      " 'downloader/response_status_count/200': 16,\n",
      " 'downloader/response_status_count/301': 15,\n",
      " 'downloader/response_status_count/404': 1,\n",
      " 'elapsed_time_seconds': 2.021519,\n",
      " 'finish_reason': 'finished',\n",
      " 'finish_time': datetime.datetime(2020, 7, 15, 6, 33, 42, 797617),\n",
      " 'httperror/response_ignored_count': 1,\n",
      " 'httperror/response_ignored_status_count/404': 1,\n",
      " 'item_scraped_count': 14,\n",
      " 'log_count/DEBUG': 49,\n",
      " 'log_count/INFO': 12,\n",
      " 'log_count/WARNING': 1,\n",
      " 'memusage/max': 55373824,\n",
      " 'memusage/startup': 55373824,\n",
      " 'request_depth_max': 1,\n",
      " 'response_received_count': 17,\n",
      " 'robotstxt/request_count': 1,\n",
      " 'robotstxt/response_count': 1,\n",
      " 'robotstxt/response_status_count/200': 1,\n",
      " 'scheduler/dequeued': 31,\n",
      " 'scheduler/dequeued/memory': 31,\n",
      " 'scheduler/enqueued': 31,\n",
      " 'scheduler/enqueued/memory': 31,\n",
      " 'start_time': datetime.datetime(2020, 7, 15, 6, 33, 40, 776098)}\n",
      "2020-07-15 15:33:42 [scrapy.core.engine] INFO: Spider closed (finished)\n"
     ]
    }
   ],
   "source": [
    "!./run.sh"
   ]
  },
  {
   "cell_type": "code",
   "execution_count": 31,
   "metadata": {},
   "outputs": [
    {
     "data": {
      "text/html": [
       "<div>\n",
       "<style scoped>\n",
       "    .dataframe tbody tr th:only-of-type {\n",
       "        vertical-align: middle;\n",
       "    }\n",
       "\n",
       "    .dataframe tbody tr th {\n",
       "        vertical-align: top;\n",
       "    }\n",
       "\n",
       "    .dataframe thead th {\n",
       "        text-align: right;\n",
       "    }\n",
       "</style>\n",
       "<table border=\"1\" class=\"dataframe\">\n",
       "  <thead>\n",
       "    <tr style=\"text-align: right;\">\n",
       "      <th></th>\n",
       "      <th>img</th>\n",
       "      <th>link</th>\n",
       "      <th>price</th>\n",
       "      <th>title</th>\n",
       "    </tr>\n",
       "  </thead>\n",
       "  <tbody>\n",
       "    <tr>\n",
       "      <th>13</th>\n",
       "      <td>http://playnomore.co.kr/web/product/big/202004...</td>\n",
       "      <td>http://playnomore.co.kr/product/pre-order20off...</td>\n",
       "      <td>$ 144</td>\n",
       "      <td>[Pre-Order/20%off] MICRO BAGUETTE white</td>\n",
       "    </tr>\n",
       "  </tbody>\n",
       "</table>\n",
       "</div>"
      ],
      "text/plain": [
       "                                                  img  \\\n",
       "13  http://playnomore.co.kr/web/product/big/202004...   \n",
       "\n",
       "                                                 link  price  \\\n",
       "13  http://playnomore.co.kr/product/pre-order20off...  $ 144   \n",
       "\n",
       "                                       title  \n",
       "13  [Pre-Order/20%off] MICRO BAGUETTE white   "
      ]
     },
     "execution_count": 31,
     "metadata": {},
     "output_type": "execute_result"
    }
   ],
   "source": [
    "import pandas as pd\n",
    "df = pd.read_csv(\"playnomore/playnomore.csv\")\n",
    "df.tail(1)"
   ]
  },
  {
   "cell_type": "markdown",
   "metadata": {},
   "source": [
    "#### 5. argument 설정"
   ]
  },
  {
   "cell_type": "code",
   "execution_count": 32,
   "metadata": {},
   "outputs": [
    {
     "name": "stdout",
     "output_type": "stream",
     "text": [
      "Overwriting playnomore/playnomore/spiders/spider.py\n"
     ]
    }
   ],
   "source": [
    "%%writefile playnomore/playnomore/spiders/spider.py\n",
    "import scrapy\n",
    "from playnomore.items import PlaynomoreItem\n",
    "\n",
    "class PlaynomoreSpider(scrapy.Spider):\n",
    "    name = \"Playnomore\"\n",
    "    custom_settings = {\n",
    "        'DOWNLOADER_MIDDLEWARES': {\n",
    "            'scrapy.downloadermiddlewares.useragent.UserAgentMiddleware': None,\n",
    "            'scrapy_fake_useragent.middleware.RandomUserAgentMiddleware': 400,\n",
    "        }\n",
    "    }\n",
    "    \n",
    "    def __init__(self, category1=\"bag\", category2=24, **kwargs):\n",
    "        self.start_url = \"http://playnomore.co.kr/category/{}/{}/\".format(category1, category2)\n",
    "        super().__init__(**kwargs)\n",
    "        \n",
    "    def start_requests(self):\n",
    "        url = self.start_url\n",
    "        yield scrapy.Request(url, callback=self.parse)\n",
    "        \n",
    "    def parse(self, response):\n",
    "        links = response.xpath('//*[@id=\"contents\"]/div[2]/div/ul/li/div/a/@href').extract()\n",
    "        links = list(map(response.urljoin, links))\n",
    "        for link in links:\n",
    "            yield scrapy.Request(link, callback=self.page_parse)\n",
    "    \n",
    "    def page_parse(self, response):\n",
    "        item = PlaynomoreItem()\n",
    "        title1 = response.xpath('//*[@id=\"contents\"]/div[1]/div[1]/div[2]/div[1]/font/text()').extract()\n",
    "        title2 = response.xpath('//*[@id=\"contents\"]/div[1]/div[1]/div[2]/div[1]/text()').extract()\n",
    "        item[\"title\"] = \"\".join(title1) + \"\".join(title2)\n",
    "        item[\"price\"] = response.xpath('//*[@id=\"contents\"]/div[1]/div[1]/div[2]/div[2]/text()').extract()[0]\n",
    "        item[\"img\"] = \"http:\" + response.xpath('//*[@id=\"contents\"]/div[1]/div[1]/div[1]/div[1]/img/@src').extract()[0]\n",
    "        item[\"link\"] = response.url\n",
    "        yield item"
   ]
  },
  {
   "cell_type": "code",
   "execution_count": 33,
   "metadata": {},
   "outputs": [
    {
     "name": "stdout",
     "output_type": "stream",
     "text": [
      "Overwriting run.sh\n"
     ]
    }
   ],
   "source": [
    "%%writefile run.sh\n",
    "cd playnomore\n",
    "scrapy crawl Playnomore -o playnomore.csv -a category1=shoes -a category2=25\n",
    "\n",
    "\n"
   ]
  },
  {
   "cell_type": "code",
   "execution_count": 34,
   "metadata": {},
   "outputs": [
    {
     "name": "stdout",
     "output_type": "stream",
     "text": [
      "2020-07-15 15:33:43 [scrapy.utils.log] INFO: Scrapy 2.2.0 started (bot: playnomore)\n",
      "2020-07-15 15:33:43 [scrapy.utils.log] INFO: Versions: lxml 4.5.0.0, libxml2 2.9.9, cssselect 1.1.0, parsel 1.6.0, w3lib 1.22.0, Twisted 20.3.0, Python 3.7.6 (default, Jan  8 2020, 13:42:34) - [Clang 4.0.1 (tags/RELEASE_401/final)], pyOpenSSL 19.1.0 (OpenSSL 1.1.1d  10 Sep 2019), cryptography 2.8, Platform Darwin-19.5.0-x86_64-i386-64bit\n",
      "2020-07-15 15:33:43 [scrapy.utils.log] DEBUG: Using reactor: twisted.internet.selectreactor.SelectReactor\n",
      "2020-07-15 15:33:43 [scrapy.crawler] INFO: Overridden settings:\n",
      "{'BOT_NAME': 'playnomore',\n",
      " 'NEWSPIDER_MODULE': 'playnomore.spiders',\n",
      " 'ROBOTSTXT_OBEY': True,\n",
      " 'SPIDER_MODULES': ['playnomore.spiders']}\n",
      "2020-07-15 15:33:43 [scrapy.extensions.telnet] INFO: Telnet Password: 667a6f3d6091f34a\n",
      "2020-07-15 15:33:43 [scrapy.middleware] INFO: Enabled extensions:\n",
      "['scrapy.extensions.corestats.CoreStats',\n",
      " 'scrapy.extensions.telnet.TelnetConsole',\n",
      " 'scrapy.extensions.memusage.MemoryUsage',\n",
      " 'scrapy.extensions.feedexport.FeedExporter',\n",
      " 'scrapy.extensions.logstats.LogStats']\n",
      "2020-07-15 15:33:43 [scrapy.middleware] INFO: Enabled downloader middlewares:\n",
      "['scrapy.downloadermiddlewares.robotstxt.RobotsTxtMiddleware',\n",
      " 'scrapy.downloadermiddlewares.httpauth.HttpAuthMiddleware',\n",
      " 'scrapy.downloadermiddlewares.downloadtimeout.DownloadTimeoutMiddleware',\n",
      " 'scrapy.downloadermiddlewares.defaultheaders.DefaultHeadersMiddleware',\n",
      " 'scrapy_fake_useragent.middleware.RandomUserAgentMiddleware',\n",
      " 'scrapy.downloadermiddlewares.retry.RetryMiddleware',\n",
      " 'scrapy.downloadermiddlewares.redirect.MetaRefreshMiddleware',\n",
      " 'scrapy.downloadermiddlewares.httpcompression.HttpCompressionMiddleware',\n",
      " 'scrapy.downloadermiddlewares.redirect.RedirectMiddleware',\n",
      " 'scrapy.downloadermiddlewares.cookies.CookiesMiddleware',\n",
      " 'scrapy.downloadermiddlewares.httpproxy.HttpProxyMiddleware',\n",
      " 'scrapy.downloadermiddlewares.stats.DownloaderStats']\n",
      "2020-07-15 15:33:43 [scrapy.middleware] INFO: Enabled spider middlewares:\n",
      "['scrapy.spidermiddlewares.httperror.HttpErrorMiddleware',\n",
      " 'scrapy.spidermiddlewares.offsite.OffsiteMiddleware',\n",
      " 'scrapy.spidermiddlewares.referer.RefererMiddleware',\n",
      " 'scrapy.spidermiddlewares.urllength.UrlLengthMiddleware',\n",
      " 'scrapy.spidermiddlewares.depth.DepthMiddleware']\n",
      "2020-07-15 15:33:43 [scrapy.middleware] INFO: Enabled item pipelines:\n",
      "[]\n",
      "2020-07-15 15:33:43 [scrapy.core.engine] INFO: Spider opened\n",
      "2020-07-15 15:33:43 [scrapy.extensions.logstats] INFO: Crawled 0 pages (at 0 pages/min), scraped 0 items (at 0 items/min)\n",
      "2020-07-15 15:33:43 [scrapy.extensions.telnet] INFO: Telnet console listening on 127.0.0.1:6023\n",
      "2020-07-15 15:33:43 [scrapy.core.engine] DEBUG: Crawled (200) <GET http://playnomore.co.kr/robots.txt> (referer: None)\n",
      "2020-07-15 15:33:44 [scrapy.core.engine] DEBUG: Crawled (200) <GET http://playnomore.co.kr/category/shoes/25/> (referer: None)\n",
      "2020-07-15 15:33:44 [scrapy.downloadermiddlewares.redirect] DEBUG: Redirecting (301) to <GET http://playnomore.co.kr/product/sold-out-shygirl-oxford-gold/233/?cate_no=25&display_group=1> from <GET http://playnomore.co.kr/product/detail.html?product_no=233&cate_no=25&display_group=1>\n",
      "2020-07-15 15:33:44 [scrapy.downloadermiddlewares.redirect] DEBUG: Redirecting (301) to <GET http://playnomore.co.kr/product/sold-out-shygirl-oxford-silver/232/?cate_no=25&display_group=1> from <GET http://playnomore.co.kr/product/detail.html?product_no=232&cate_no=25&display_group=1>\n",
      "2020-07-15 15:33:44 [scrapy.downloadermiddlewares.redirect] DEBUG: Redirecting (301) to <GET http://playnomore.co.kr/product/sold-out-winkygirl-color-blocks-5cm-rose-gold/18/?cate_no=25&display_group=1> from <GET http://playnomore.co.kr/product/detail.html?product_no=18&cate_no=25&display_group=1>\n",
      "2020-07-15 15:33:44 [scrapy.downloadermiddlewares.redirect] DEBUG: Redirecting (301) to <GET http://playnomore.co.kr/product/sold-out-shygirl-oxford-chrome/207/?cate_no=25&display_group=1> from <GET http://playnomore.co.kr/product/detail.html?product_no=207&cate_no=25&display_group=1>\n",
      "2020-07-15 15:33:44 [scrapy.downloadermiddlewares.redirect] DEBUG: Redirecting (301) to <GET http://playnomore.co.kr/product/sold-out-winkygirl-color-blocks-2cm-multi/140/?cate_no=25&display_group=1> from <GET http://playnomore.co.kr/product/detail.html?product_no=140&cate_no=25&display_group=1>\n",
      "2020-07-15 15:33:44 [scrapy.downloadermiddlewares.redirect] DEBUG: Redirecting (301) to <GET http://playnomore.co.kr/product/sold-out-winkygirl-color-blocks-5cm-multi/19/?cate_no=25&display_group=1> from <GET http://playnomore.co.kr/product/detail.html?product_no=19&cate_no=25&display_group=1>\n",
      "2020-07-15 15:33:44 [scrapy.downloadermiddlewares.redirect] DEBUG: Redirecting (301) to <GET http://playnomore.co.kr/product/sold-out-winkygirl-color-blocks-2cm-black/138/?cate_no=25&display_group=1> from <GET http://playnomore.co.kr/product/detail.html?product_no=138&cate_no=25&display_group=1>\n",
      "2020-07-15 15:33:44 [scrapy.downloadermiddlewares.redirect] DEBUG: Redirecting (301) to <GET http://playnomore.co.kr/product/sold-out-winkygirl-color-blocks-5cm-silver/21/?cate_no=25&display_group=1> from <GET http://playnomore.co.kr/product/detail.html?product_no=21&cate_no=25&display_group=1>\n",
      "2020-07-15 15:33:44 [scrapy.downloadermiddlewares.redirect] DEBUG: Redirecting (301) to <GET http://playnomore.co.kr/product/sold-out-winkygirl-color-blocks-5cm-metallic-pink/137/?cate_no=25&display_group=1> from <GET http://playnomore.co.kr/product/detail.html?product_no=137&cate_no=25&display_group=1>\n",
      "2020-07-15 15:33:44 [scrapy.downloadermiddlewares.redirect] DEBUG: Redirecting (301) to <GET http://playnomore.co.kr/product/sold-out-winkygirl-color-blocks-metallic-navy-5cm/20/?cate_no=25&display_group=1> from <GET http://playnomore.co.kr/product/detail.html?product_no=20&cate_no=25&display_group=1>\n",
      "2020-07-15 15:33:44 [scrapy.downloadermiddlewares.redirect] DEBUG: Redirecting (301) to <GET http://playnomore.co.kr/product/sold-out-shy-lip-bloafer-champagne-gold/305/?cate_no=25&display_group=1> from <GET http://playnomore.co.kr/product/detail.html?product_no=305&cate_no=25&display_group=1>\n",
      "2020-07-15 15:33:44 [scrapy.downloadermiddlewares.redirect] DEBUG: Redirecting (301) to <GET http://playnomore.co.kr/product/sold-out-kiss-me-deep-green/23/?cate_no=25&display_group=1> from <GET http://playnomore.co.kr/product/detail.html?product_no=23&cate_no=25&display_group=1>\n",
      "2020-07-15 15:33:44 [scrapy.downloadermiddlewares.redirect] DEBUG: Redirecting (301) to <GET http://playnomore.co.kr/product/sold-out-kiss-me-pink-beige/22/?cate_no=25&display_group=1> from <GET http://playnomore.co.kr/product/detail.html?product_no=22&cate_no=25&display_group=1>\n",
      "2020-07-15 15:33:44 [scrapy.downloadermiddlewares.redirect] DEBUG: Redirecting (301) to <GET http://playnomore.co.kr/product/sold-out-shy-friends-oxford-black/181/?cate_no=25&display_group=1> from <GET http://playnomore.co.kr/product/detail.html?product_no=181&cate_no=25&display_group=1>\n",
      "2020-07-15 15:33:44 [scrapy.downloadermiddlewares.redirect] DEBUG: Redirecting (301) to <GET http://playnomore.co.kr/product/sold-out-shy-lip-bloafer-chrome/304/?cate_no=25&display_group=1> from <GET http://playnomore.co.kr/product/detail.html?product_no=304&cate_no=25&display_group=1>\n",
      "2020-07-15 15:33:46 [scrapy.core.engine] DEBUG: Crawled (200) <GET http://playnomore.co.kr/product/sold-out-shygirl-oxford-silver/232/?cate_no=25&display_group=1> (referer: http://playnomore.co.kr/category/shoes/25/)\n",
      "2020-07-15 15:33:46 [scrapy.core.engine] DEBUG: Crawled (200) <GET http://playnomore.co.kr/product/sold-out-shygirl-oxford-gold/233/?cate_no=25&display_group=1> (referer: http://playnomore.co.kr/category/shoes/25/)\n",
      "2020-07-15 15:33:46 [scrapy.core.engine] DEBUG: Crawled (200) <GET http://playnomore.co.kr/product/sold-out-winkygirl-color-blocks-5cm-rose-gold/18/?cate_no=25&display_group=1> (referer: http://playnomore.co.kr/category/shoes/25/)\n",
      "2020-07-15 15:33:46 [scrapy.core.engine] DEBUG: Crawled (200) <GET http://playnomore.co.kr/product/sold-out-shygirl-oxford-chrome/207/?cate_no=25&display_group=1> (referer: http://playnomore.co.kr/category/shoes/25/)\n",
      "2020-07-15 15:33:46 [scrapy.core.engine] DEBUG: Crawled (200) <GET http://playnomore.co.kr/product/sold-out-winkygirl-color-blocks-2cm-black/138/?cate_no=25&display_group=1> (referer: http://playnomore.co.kr/category/shoes/25/)\n",
      "2020-07-15 15:33:46 [scrapy.core.engine] DEBUG: Crawled (200) <GET http://playnomore.co.kr/product/sold-out-winkygirl-color-blocks-5cm-multi/19/?cate_no=25&display_group=1> (referer: http://playnomore.co.kr/category/shoes/25/)\n"
     ]
    },
    {
     "name": "stdout",
     "output_type": "stream",
     "text": [
      "2020-07-15 15:33:46 [scrapy.core.scraper] DEBUG: Scraped from <200 http://playnomore.co.kr/product/sold-out-shygirl-oxford-silver/232/?cate_no=25&display_group=1>\n",
      "{'img': 'http://playnomore.co.kr/web/product/big/201703/232_shop7_426702.jpg',\n",
      " 'link': 'http://playnomore.co.kr/product/sold-out-shygirl-oxford-silver/232/?cate_no=25&display_group=1',\n",
      " 'price': '$ 450',\n",
      " 'title': '[SOLD OUT] SHYGIRL oxford silver'}\n",
      "2020-07-15 15:33:46 [scrapy.core.scraper] DEBUG: Scraped from <200 http://playnomore.co.kr/product/sold-out-shygirl-oxford-gold/233/?cate_no=25&display_group=1>\n",
      "{'img': 'http://playnomore.co.kr/web/product/big/201703/233_shop7_194677.jpg',\n",
      " 'link': 'http://playnomore.co.kr/product/sold-out-shygirl-oxford-gold/233/?cate_no=25&display_group=1',\n",
      " 'price': '$ 450',\n",
      " 'title': '[SOLD OUT] SHYGIRL oxford gold'}\n",
      "2020-07-15 15:33:46 [scrapy.core.scraper] DEBUG: Scraped from <200 http://playnomore.co.kr/product/sold-out-winkygirl-color-blocks-5cm-rose-gold/18/?cate_no=25&display_group=1>\n",
      "{'img': 'http://playnomore.co.kr/web/product/big/201702/18_shop7_183931.jpg',\n",
      " 'link': 'http://playnomore.co.kr/product/sold-out-winkygirl-color-blocks-5cm-rose-gold/18/?cate_no=25&display_group=1',\n",
      " 'price': '$ 414',\n",
      " 'title': '[SOLD OUT] WINKYGIRL COLOR BLOCKS (5cm) rose gold'}\n",
      "2020-07-15 15:33:46 [scrapy.core.scraper] DEBUG: Scraped from <200 http://playnomore.co.kr/product/sold-out-shygirl-oxford-chrome/207/?cate_no=25&display_group=1>\n",
      "{'img': 'http://playnomore.co.kr/web/product/big/201702/207_shop7_312513.jpg',\n",
      " 'link': 'http://playnomore.co.kr/product/sold-out-shygirl-oxford-chrome/207/?cate_no=25&display_group=1',\n",
      " 'price': '$ 450',\n",
      " 'title': '[SOLD OUT] SHYGIRL oxford chrome'}\n",
      "2020-07-15 15:33:46 [scrapy.core.scraper] DEBUG: Scraped from <200 http://playnomore.co.kr/product/sold-out-winkygirl-color-blocks-2cm-black/138/?cate_no=25&display_group=1>\n",
      "{'img': 'http://playnomore.co.kr/web/product/big/201701/138_shop7_619644.jpg',\n",
      " 'link': 'http://playnomore.co.kr/product/sold-out-winkygirl-color-blocks-2cm-black/138/?cate_no=25&display_group=1',\n",
      " 'price': '$ 414',\n",
      " 'title': '[SOLD OUT] WINKYGIRL COLOR BLOCKS  (2cm) black'}\n",
      "2020-07-15 15:33:46 [scrapy.core.scraper] DEBUG: Scraped from <200 http://playnomore.co.kr/product/sold-out-winkygirl-color-blocks-5cm-multi/19/?cate_no=25&display_group=1>\n",
      "{'img': 'http://playnomore.co.kr/web/product/big/201702/19_shop7_561442.jpg',\n",
      " 'link': 'http://playnomore.co.kr/product/sold-out-winkygirl-color-blocks-5cm-multi/19/?cate_no=25&display_group=1',\n",
      " 'price': '$ 414',\n",
      " 'title': '[SOLD OUT] WINKYGIRL COLOR BLOCKS (5cm) multi'}\n",
      "2020-07-15 15:33:46 [scrapy.core.engine] DEBUG: Crawled (200) <GET http://playnomore.co.kr/product/sold-out-shy-lip-bloafer-champagne-gold/305/?cate_no=25&display_group=1> (referer: http://playnomore.co.kr/category/shoes/25/)\n",
      "2020-07-15 15:33:46 [scrapy.core.engine] DEBUG: Crawled (200) <GET http://playnomore.co.kr/product/sold-out-winkygirl-color-blocks-5cm-silver/21/?cate_no=25&display_group=1> (referer: http://playnomore.co.kr/category/shoes/25/)\n",
      "2020-07-15 15:33:46 [scrapy.core.engine] DEBUG: Crawled (200) <GET http://playnomore.co.kr/product/sold-out-kiss-me-pink-beige/22/?cate_no=25&display_group=1> (referer: http://playnomore.co.kr/category/shoes/25/)\n",
      "2020-07-15 15:33:46 [scrapy.core.engine] DEBUG: Crawled (200) <GET http://playnomore.co.kr/product/sold-out-shy-friends-oxford-black/181/?cate_no=25&display_group=1> (referer: http://playnomore.co.kr/category/shoes/25/)\n",
      "2020-07-15 15:33:46 [scrapy.core.engine] DEBUG: Crawled (200) <GET http://playnomore.co.kr/product/sold-out-kiss-me-deep-green/23/?cate_no=25&display_group=1> (referer: http://playnomore.co.kr/category/shoes/25/)\n",
      "2020-07-15 15:33:46 [scrapy.core.engine] DEBUG: Crawled (200) <GET http://playnomore.co.kr/product/sold-out-winkygirl-color-blocks-metallic-navy-5cm/20/?cate_no=25&display_group=1> (referer: http://playnomore.co.kr/category/shoes/25/)\n",
      "2020-07-15 15:33:46 [scrapy.core.scraper] DEBUG: Scraped from <200 http://playnomore.co.kr/product/sold-out-shy-lip-bloafer-champagne-gold/305/?cate_no=25&display_group=1>\n",
      "{'img': 'http://playnomore.co.kr/web/product/big/201706/305_shop7_443176.jpg',\n",
      " 'link': 'http://playnomore.co.kr/product/sold-out-shy-lip-bloafer-champagne-gold/305/?cate_no=25&display_group=1',\n",
      " 'price': '$ 480',\n",
      " 'title': '[SOLD OUT] SHY LIP bloafer champagne gold'}\n",
      "2020-07-15 15:33:46 [scrapy.core.scraper] DEBUG: Scraped from <200 http://playnomore.co.kr/product/sold-out-winkygirl-color-blocks-5cm-silver/21/?cate_no=25&display_group=1>\n",
      "{'img': 'http://playnomore.co.kr/web/product/big/201609/21_shop1_572305.jpg',\n",
      " 'link': 'http://playnomore.co.kr/product/sold-out-winkygirl-color-blocks-5cm-silver/21/?cate_no=25&display_group=1',\n",
      " 'price': '$ 414',\n",
      " 'title': '[SOLD OUT] WINKYGIRL COLOR BLOCKS (5cm) silver'}\n",
      "2020-07-15 15:33:46 [scrapy.core.scraper] DEBUG: Scraped from <200 http://playnomore.co.kr/product/sold-out-kiss-me-pink-beige/22/?cate_no=25&display_group=1>\n",
      "{'img': 'http://playnomore.co.kr/web/product/big/201702/22_shop7_242463.jpg',\n",
      " 'link': 'http://playnomore.co.kr/product/sold-out-kiss-me-pink-beige/22/?cate_no=25&display_group=1',\n",
      " 'price': '$ 450',\n",
      " 'title': '[SOLD OUT] KISS ME pink beige'}\n",
      "2020-07-15 15:33:46 [scrapy.core.scraper] DEBUG: Scraped from <200 http://playnomore.co.kr/product/sold-out-shy-friends-oxford-black/181/?cate_no=25&display_group=1>\n",
      "{'img': 'http://playnomore.co.kr/web/product/big/201702/181_shop7_374071.jpg',\n",
      " 'link': 'http://playnomore.co.kr/product/sold-out-shy-friends-oxford-black/181/?cate_no=25&display_group=1',\n",
      " 'price': '$ 450',\n",
      " 'title': '[SOLD OUT] SHY FRIENDS oxford black'}\n",
      "2020-07-15 15:33:46 [scrapy.core.scraper] DEBUG: Scraped from <200 http://playnomore.co.kr/product/sold-out-kiss-me-deep-green/23/?cate_no=25&display_group=1>\n",
      "{'img': 'http://playnomore.co.kr/web/product/big/201702/23_shop7_151870.jpg',\n",
      " 'link': 'http://playnomore.co.kr/product/sold-out-kiss-me-deep-green/23/?cate_no=25&display_group=1',\n",
      " 'price': '$ 450',\n",
      " 'title': '[SOLD OUT] KISS ME deep green'}\n",
      "2020-07-15 15:33:46 [scrapy.core.scraper] DEBUG: Scraped from <200 http://playnomore.co.kr/product/sold-out-winkygirl-color-blocks-metallic-navy-5cm/20/?cate_no=25&display_group=1>\n",
      "{'img': 'http://playnomore.co.kr/web/product/big/201609/20_shop7_178984.jpg',\n",
      " 'link': 'http://playnomore.co.kr/product/sold-out-winkygirl-color-blocks-metallic-navy-5cm/20/?cate_no=25&display_group=1',\n",
      " 'price': '$ 414',\n",
      " 'title': '[SOLD OUT] WINKYGIRL COLOR BLOCKS metallic navy (5cm)'}\n",
      "2020-07-15 15:33:48 [scrapy.core.engine] DEBUG: Crawled (200) <GET http://playnomore.co.kr/product/sold-out-shy-lip-bloafer-chrome/304/?cate_no=25&display_group=1> (referer: http://playnomore.co.kr/category/shoes/25/)\n",
      "2020-07-15 15:33:48 [scrapy.core.scraper] DEBUG: Scraped from <200 http://playnomore.co.kr/product/sold-out-shy-lip-bloafer-chrome/304/?cate_no=25&display_group=1>\n",
      "{'img': 'http://playnomore.co.kr/web/product/big/201706/304_shop7_862848.jpg',\n",
      " 'link': 'http://playnomore.co.kr/product/sold-out-shy-lip-bloafer-chrome/304/?cate_no=25&display_group=1',\n",
      " 'price': '$ 480',\n",
      " 'title': '[SOLD OUT] SHY LIP bloafer chrome'}\n",
      "2020-07-15 15:33:48 [scrapy.core.engine] DEBUG: Crawled (200) <GET http://playnomore.co.kr/product/sold-out-winkygirl-color-blocks-5cm-metallic-pink/137/?cate_no=25&display_group=1> (referer: http://playnomore.co.kr/category/shoes/25/)\n",
      "2020-07-15 15:33:48 [scrapy.core.engine] DEBUG: Crawled (200) <GET http://playnomore.co.kr/product/sold-out-winkygirl-color-blocks-2cm-multi/140/?cate_no=25&display_group=1> (referer: http://playnomore.co.kr/category/shoes/25/)\n",
      "2020-07-15 15:33:48 [scrapy.core.scraper] DEBUG: Scraped from <200 http://playnomore.co.kr/product/sold-out-winkygirl-color-blocks-5cm-metallic-pink/137/?cate_no=25&display_group=1>\n",
      "{'img': 'http://playnomore.co.kr/web/product/big/201701/137_shop7_918095.jpg',\n",
      " 'link': 'http://playnomore.co.kr/product/sold-out-winkygirl-color-blocks-5cm-metallic-pink/137/?cate_no=25&display_group=1',\n",
      " 'price': '$ 414',\n",
      " 'title': '[SOLD OUT] WINKYGIRL COLOR BLOCKS (5cm) metallic pink'}\n",
      "2020-07-15 15:33:48 [scrapy.core.scraper] DEBUG: Scraped from <200 http://playnomore.co.kr/product/sold-out-winkygirl-color-blocks-2cm-multi/140/?cate_no=25&display_group=1>\n",
      "{'img': 'http://playnomore.co.kr/web/product/big/201701/140_shop7_744641.jpg',\n",
      " 'link': 'http://playnomore.co.kr/product/sold-out-winkygirl-color-blocks-2cm-multi/140/?cate_no=25&display_group=1',\n",
      " 'price': '$ 414',\n",
      " 'title': '[SOLD OUT] WINKYGIRL COLOR BLOCKS (2cm) multi'}\n",
      "2020-07-15 15:33:48 [scrapy.core.engine] INFO: Closing spider (finished)\n",
      "2020-07-15 15:33:48 [scrapy.extensions.feedexport] INFO: Stored csv feed (15 items) in: playnomore.csv\n",
      "2020-07-15 15:33:48 [scrapy.statscollectors] INFO: Dumping Scrapy stats:\n",
      "{'downloader/request_bytes': 17403,\n",
      " 'downloader/request_count': 32,\n",
      " 'downloader/request_method_count/GET': 32,\n",
      " 'downloader/response_bytes': 310431,\n",
      " 'downloader/response_count': 32,\n",
      " 'downloader/response_status_count/200': 17,\n",
      " 'downloader/response_status_count/301': 15,\n",
      " 'elapsed_time_seconds': 4.463654,\n",
      " 'finish_reason': 'finished',\n",
      " 'finish_time': datetime.datetime(2020, 7, 15, 6, 33, 48, 346911),\n",
      " 'item_scraped_count': 15,\n",
      " 'log_count/DEBUG': 47,\n",
      " 'log_count/INFO': 11,\n",
      " 'memusage/max': 52584448,\n",
      " 'memusage/startup': 52580352,\n",
      " 'request_depth_max': 1,\n",
      " 'response_received_count': 17,\n",
      " 'robotstxt/request_count': 1,\n",
      " 'robotstxt/response_count': 1,\n",
      " 'robotstxt/response_status_count/200': 1,\n",
      " 'scheduler/dequeued': 31,\n",
      " 'scheduler/dequeued/memory': 31,\n",
      " 'scheduler/enqueued': 31,\n",
      " 'scheduler/enqueued/memory': 31,\n",
      " 'start_time': datetime.datetime(2020, 7, 15, 6, 33, 43, 883257)}\n",
      "2020-07-15 15:33:48 [scrapy.core.engine] INFO: Spider closed (finished)\n"
     ]
    }
   ],
   "source": [
    "!./run.sh"
   ]
  },
  {
   "cell_type": "code",
   "execution_count": 35,
   "metadata": {},
   "outputs": [
    {
     "ename": "FileNotFoundError",
     "evalue": "[Errno 2] File playnomore/playnomore2.csv does not exist: 'playnomore/playnomore2.csv'",
     "output_type": "error",
     "traceback": [
      "\u001b[0;31m---------------------------------------------------------------------------\u001b[0m",
      "\u001b[0;31mFileNotFoundError\u001b[0m                         Traceback (most recent call last)",
      "\u001b[0;32m<ipython-input-35-cddd0a102fa9>\u001b[0m in \u001b[0;36m<module>\u001b[0;34m\u001b[0m\n\u001b[1;32m      1\u001b[0m \u001b[0;32mimport\u001b[0m \u001b[0mpandas\u001b[0m \u001b[0;32mas\u001b[0m \u001b[0mpd\u001b[0m\u001b[0;34m\u001b[0m\u001b[0;34m\u001b[0m\u001b[0m\n\u001b[0;32m----> 2\u001b[0;31m \u001b[0mdf\u001b[0m \u001b[0;34m=\u001b[0m \u001b[0mpd\u001b[0m\u001b[0;34m.\u001b[0m\u001b[0mread_csv\u001b[0m\u001b[0;34m(\u001b[0m\u001b[0;34m\"playnomore/playnomore2.csv\"\u001b[0m\u001b[0;34m)\u001b[0m\u001b[0;34m\u001b[0m\u001b[0;34m\u001b[0m\u001b[0m\n\u001b[0m\u001b[1;32m      3\u001b[0m \u001b[0mdf\u001b[0m\u001b[0;34m.\u001b[0m\u001b[0mtail\u001b[0m\u001b[0;34m(\u001b[0m\u001b[0;36m1\u001b[0m\u001b[0;34m)\u001b[0m\u001b[0;34m\u001b[0m\u001b[0;34m\u001b[0m\u001b[0m\n",
      "\u001b[0;32m~/opt/anaconda3/lib/python3.7/site-packages/pandas/io/parsers.py\u001b[0m in \u001b[0;36mparser_f\u001b[0;34m(filepath_or_buffer, sep, delimiter, header, names, index_col, usecols, squeeze, prefix, mangle_dupe_cols, dtype, engine, converters, true_values, false_values, skipinitialspace, skiprows, skipfooter, nrows, na_values, keep_default_na, na_filter, verbose, skip_blank_lines, parse_dates, infer_datetime_format, keep_date_col, date_parser, dayfirst, cache_dates, iterator, chunksize, compression, thousands, decimal, lineterminator, quotechar, quoting, doublequote, escapechar, comment, encoding, dialect, error_bad_lines, warn_bad_lines, delim_whitespace, low_memory, memory_map, float_precision)\u001b[0m\n\u001b[1;32m    674\u001b[0m         )\n\u001b[1;32m    675\u001b[0m \u001b[0;34m\u001b[0m\u001b[0m\n\u001b[0;32m--> 676\u001b[0;31m         \u001b[0;32mreturn\u001b[0m \u001b[0m_read\u001b[0m\u001b[0;34m(\u001b[0m\u001b[0mfilepath_or_buffer\u001b[0m\u001b[0;34m,\u001b[0m \u001b[0mkwds\u001b[0m\u001b[0;34m)\u001b[0m\u001b[0;34m\u001b[0m\u001b[0;34m\u001b[0m\u001b[0m\n\u001b[0m\u001b[1;32m    677\u001b[0m \u001b[0;34m\u001b[0m\u001b[0m\n\u001b[1;32m    678\u001b[0m     \u001b[0mparser_f\u001b[0m\u001b[0;34m.\u001b[0m\u001b[0m__name__\u001b[0m \u001b[0;34m=\u001b[0m \u001b[0mname\u001b[0m\u001b[0;34m\u001b[0m\u001b[0;34m\u001b[0m\u001b[0m\n",
      "\u001b[0;32m~/opt/anaconda3/lib/python3.7/site-packages/pandas/io/parsers.py\u001b[0m in \u001b[0;36m_read\u001b[0;34m(filepath_or_buffer, kwds)\u001b[0m\n\u001b[1;32m    446\u001b[0m \u001b[0;34m\u001b[0m\u001b[0m\n\u001b[1;32m    447\u001b[0m     \u001b[0;31m# Create the parser.\u001b[0m\u001b[0;34m\u001b[0m\u001b[0;34m\u001b[0m\u001b[0;34m\u001b[0m\u001b[0m\n\u001b[0;32m--> 448\u001b[0;31m     \u001b[0mparser\u001b[0m \u001b[0;34m=\u001b[0m \u001b[0mTextFileReader\u001b[0m\u001b[0;34m(\u001b[0m\u001b[0mfp_or_buf\u001b[0m\u001b[0;34m,\u001b[0m \u001b[0;34m**\u001b[0m\u001b[0mkwds\u001b[0m\u001b[0;34m)\u001b[0m\u001b[0;34m\u001b[0m\u001b[0;34m\u001b[0m\u001b[0m\n\u001b[0m\u001b[1;32m    449\u001b[0m \u001b[0;34m\u001b[0m\u001b[0m\n\u001b[1;32m    450\u001b[0m     \u001b[0;32mif\u001b[0m \u001b[0mchunksize\u001b[0m \u001b[0;32mor\u001b[0m \u001b[0miterator\u001b[0m\u001b[0;34m:\u001b[0m\u001b[0;34m\u001b[0m\u001b[0;34m\u001b[0m\u001b[0m\n",
      "\u001b[0;32m~/opt/anaconda3/lib/python3.7/site-packages/pandas/io/parsers.py\u001b[0m in \u001b[0;36m__init__\u001b[0;34m(self, f, engine, **kwds)\u001b[0m\n\u001b[1;32m    878\u001b[0m             \u001b[0mself\u001b[0m\u001b[0;34m.\u001b[0m\u001b[0moptions\u001b[0m\u001b[0;34m[\u001b[0m\u001b[0;34m\"has_index_names\"\u001b[0m\u001b[0;34m]\u001b[0m \u001b[0;34m=\u001b[0m \u001b[0mkwds\u001b[0m\u001b[0;34m[\u001b[0m\u001b[0;34m\"has_index_names\"\u001b[0m\u001b[0;34m]\u001b[0m\u001b[0;34m\u001b[0m\u001b[0;34m\u001b[0m\u001b[0m\n\u001b[1;32m    879\u001b[0m \u001b[0;34m\u001b[0m\u001b[0m\n\u001b[0;32m--> 880\u001b[0;31m         \u001b[0mself\u001b[0m\u001b[0;34m.\u001b[0m\u001b[0m_make_engine\u001b[0m\u001b[0;34m(\u001b[0m\u001b[0mself\u001b[0m\u001b[0;34m.\u001b[0m\u001b[0mengine\u001b[0m\u001b[0;34m)\u001b[0m\u001b[0;34m\u001b[0m\u001b[0;34m\u001b[0m\u001b[0m\n\u001b[0m\u001b[1;32m    881\u001b[0m \u001b[0;34m\u001b[0m\u001b[0m\n\u001b[1;32m    882\u001b[0m     \u001b[0;32mdef\u001b[0m \u001b[0mclose\u001b[0m\u001b[0;34m(\u001b[0m\u001b[0mself\u001b[0m\u001b[0;34m)\u001b[0m\u001b[0;34m:\u001b[0m\u001b[0;34m\u001b[0m\u001b[0;34m\u001b[0m\u001b[0m\n",
      "\u001b[0;32m~/opt/anaconda3/lib/python3.7/site-packages/pandas/io/parsers.py\u001b[0m in \u001b[0;36m_make_engine\u001b[0;34m(self, engine)\u001b[0m\n\u001b[1;32m   1112\u001b[0m     \u001b[0;32mdef\u001b[0m \u001b[0m_make_engine\u001b[0m\u001b[0;34m(\u001b[0m\u001b[0mself\u001b[0m\u001b[0;34m,\u001b[0m \u001b[0mengine\u001b[0m\u001b[0;34m=\u001b[0m\u001b[0;34m\"c\"\u001b[0m\u001b[0;34m)\u001b[0m\u001b[0;34m:\u001b[0m\u001b[0;34m\u001b[0m\u001b[0;34m\u001b[0m\u001b[0m\n\u001b[1;32m   1113\u001b[0m         \u001b[0;32mif\u001b[0m \u001b[0mengine\u001b[0m \u001b[0;34m==\u001b[0m \u001b[0;34m\"c\"\u001b[0m\u001b[0;34m:\u001b[0m\u001b[0;34m\u001b[0m\u001b[0;34m\u001b[0m\u001b[0m\n\u001b[0;32m-> 1114\u001b[0;31m             \u001b[0mself\u001b[0m\u001b[0;34m.\u001b[0m\u001b[0m_engine\u001b[0m \u001b[0;34m=\u001b[0m \u001b[0mCParserWrapper\u001b[0m\u001b[0;34m(\u001b[0m\u001b[0mself\u001b[0m\u001b[0;34m.\u001b[0m\u001b[0mf\u001b[0m\u001b[0;34m,\u001b[0m \u001b[0;34m**\u001b[0m\u001b[0mself\u001b[0m\u001b[0;34m.\u001b[0m\u001b[0moptions\u001b[0m\u001b[0;34m)\u001b[0m\u001b[0;34m\u001b[0m\u001b[0;34m\u001b[0m\u001b[0m\n\u001b[0m\u001b[1;32m   1115\u001b[0m         \u001b[0;32melse\u001b[0m\u001b[0;34m:\u001b[0m\u001b[0;34m\u001b[0m\u001b[0;34m\u001b[0m\u001b[0m\n\u001b[1;32m   1116\u001b[0m             \u001b[0;32mif\u001b[0m \u001b[0mengine\u001b[0m \u001b[0;34m==\u001b[0m \u001b[0;34m\"python\"\u001b[0m\u001b[0;34m:\u001b[0m\u001b[0;34m\u001b[0m\u001b[0;34m\u001b[0m\u001b[0m\n",
      "\u001b[0;32m~/opt/anaconda3/lib/python3.7/site-packages/pandas/io/parsers.py\u001b[0m in \u001b[0;36m__init__\u001b[0;34m(self, src, **kwds)\u001b[0m\n\u001b[1;32m   1889\u001b[0m         \u001b[0mkwds\u001b[0m\u001b[0;34m[\u001b[0m\u001b[0;34m\"usecols\"\u001b[0m\u001b[0;34m]\u001b[0m \u001b[0;34m=\u001b[0m \u001b[0mself\u001b[0m\u001b[0;34m.\u001b[0m\u001b[0musecols\u001b[0m\u001b[0;34m\u001b[0m\u001b[0;34m\u001b[0m\u001b[0m\n\u001b[1;32m   1890\u001b[0m \u001b[0;34m\u001b[0m\u001b[0m\n\u001b[0;32m-> 1891\u001b[0;31m         \u001b[0mself\u001b[0m\u001b[0;34m.\u001b[0m\u001b[0m_reader\u001b[0m \u001b[0;34m=\u001b[0m \u001b[0mparsers\u001b[0m\u001b[0;34m.\u001b[0m\u001b[0mTextReader\u001b[0m\u001b[0;34m(\u001b[0m\u001b[0msrc\u001b[0m\u001b[0;34m,\u001b[0m \u001b[0;34m**\u001b[0m\u001b[0mkwds\u001b[0m\u001b[0;34m)\u001b[0m\u001b[0;34m\u001b[0m\u001b[0;34m\u001b[0m\u001b[0m\n\u001b[0m\u001b[1;32m   1892\u001b[0m         \u001b[0mself\u001b[0m\u001b[0;34m.\u001b[0m\u001b[0munnamed_cols\u001b[0m \u001b[0;34m=\u001b[0m \u001b[0mself\u001b[0m\u001b[0;34m.\u001b[0m\u001b[0m_reader\u001b[0m\u001b[0;34m.\u001b[0m\u001b[0munnamed_cols\u001b[0m\u001b[0;34m\u001b[0m\u001b[0;34m\u001b[0m\u001b[0m\n\u001b[1;32m   1893\u001b[0m \u001b[0;34m\u001b[0m\u001b[0m\n",
      "\u001b[0;32mpandas/_libs/parsers.pyx\u001b[0m in \u001b[0;36mpandas._libs.parsers.TextReader.__cinit__\u001b[0;34m()\u001b[0m\n",
      "\u001b[0;32mpandas/_libs/parsers.pyx\u001b[0m in \u001b[0;36mpandas._libs.parsers.TextReader._setup_parser_source\u001b[0;34m()\u001b[0m\n",
      "\u001b[0;31mFileNotFoundError\u001b[0m: [Errno 2] File playnomore/playnomore2.csv does not exist: 'playnomore/playnomore2.csv'"
     ]
    }
   ],
   "source": [
    "import pandas as pd\n",
    "df = pd.read_csv(\"playnomore/playnomore2.csv\")\n",
    "df.tail(1)"
   ]
  },
  {
   "cell_type": "markdown",
   "metadata": {},
   "source": [
    "#### 6. Mongodb에 저장\n",
    "- pymongo를 pipelines.py에 적용\n",
    "- pip install pymongo==2.8.1"
   ]
  },
  {
   "cell_type": "code",
   "execution_count": 43,
   "metadata": {},
   "outputs": [
    {
     "name": "stdout",
     "output_type": "stream",
     "text": [
      "pymongo                            3.10.1             \r\n"
     ]
    }
   ],
   "source": [
    "!pip list | grep pymongo"
   ]
  },
  {
   "cell_type": "code",
   "execution_count": 44,
   "metadata": {},
   "outputs": [],
   "source": [
    "import pymongo"
   ]
  },
  {
   "cell_type": "code",
   "execution_count": 45,
   "metadata": {},
   "outputs": [
    {
     "data": {
      "text/plain": [
       "MongoClient(host=['13.125.153.195:27017'], document_class=dict, tz_aware=False, connect=True)"
      ]
     },
     "execution_count": 45,
     "metadata": {},
     "output_type": "execute_result"
    }
   ],
   "source": [
    "client = pymongo.MongoClient('mongodb://13.125.153.195:27017/')\n",
    "client"
   ]
  },
  {
   "cell_type": "code",
   "execution_count": 46,
   "metadata": {},
   "outputs": [
    {
     "data": {
      "text/plain": [
       "Collection(Database(MongoClient(host=['13.125.153.195:27017'], document_class=dict, tz_aware=False, connect=True), 'playnomore'), 'shoes')"
      ]
     },
     "execution_count": 46,
     "metadata": {},
     "output_type": "execute_result"
    }
   ],
   "source": [
    "db = client.playnomore\n",
    "collection = db.shoes\n",
    "collection"
   ]
  },
  {
   "cell_type": "code",
   "execution_count": 47,
   "metadata": {},
   "outputs": [
    {
     "name": "stderr",
     "output_type": "stream",
     "text": [
      "/Users/yeonghwanchoi/opt/anaconda3/lib/python3.7/site-packages/ipykernel_launcher.py:2: DeprecationWarning: insert is deprecated. Use insert_one or insert_many instead.\n",
      "  \n"
     ]
    },
    {
     "ename": "ServerSelectionTimeoutError",
     "evalue": "13.125.153.195:27017: timed out",
     "output_type": "error",
     "traceback": [
      "\u001b[0;31m---------------------------------------------------------------------------\u001b[0m",
      "\u001b[0;31mServerSelectionTimeoutError\u001b[0m               Traceback (most recent call last)",
      "\u001b[0;32m<ipython-input-47-263c6f274aaf>\u001b[0m in \u001b[0;36m<module>\u001b[0;34m\u001b[0m\n\u001b[1;32m      1\u001b[0m \u001b[0mdata\u001b[0m \u001b[0;34m=\u001b[0m \u001b[0;34m{\u001b[0m\u001b[0;34m\"title\"\u001b[0m\u001b[0;34m:\u001b[0m\u001b[0;34m\"신발\"\u001b[0m\u001b[0;34m}\u001b[0m\u001b[0;34m\u001b[0m\u001b[0;34m\u001b[0m\u001b[0m\n\u001b[0;32m----> 2\u001b[0;31m \u001b[0mcollection\u001b[0m\u001b[0;34m.\u001b[0m\u001b[0minsert\u001b[0m\u001b[0;34m(\u001b[0m\u001b[0mdata\u001b[0m\u001b[0;34m)\u001b[0m\u001b[0;34m\u001b[0m\u001b[0;34m\u001b[0m\u001b[0m\n\u001b[0m",
      "\u001b[0;32m~/opt/anaconda3/lib/python3.7/site-packages/pymongo/collection.py\u001b[0m in \u001b[0;36minsert\u001b[0;34m(self, doc_or_docs, manipulate, check_keys, continue_on_error, **kwargs)\u001b[0m\n\u001b[1;32m   3180\u001b[0m             \u001b[0mwrite_concern\u001b[0m \u001b[0;34m=\u001b[0m \u001b[0mWriteConcern\u001b[0m\u001b[0;34m(\u001b[0m\u001b[0;34m**\u001b[0m\u001b[0mkwargs\u001b[0m\u001b[0;34m)\u001b[0m\u001b[0;34m\u001b[0m\u001b[0;34m\u001b[0m\u001b[0m\n\u001b[1;32m   3181\u001b[0m         return self._insert(doc_or_docs, not continue_on_error,\n\u001b[0;32m-> 3182\u001b[0;31m                             check_keys, manipulate, write_concern)\n\u001b[0m\u001b[1;32m   3183\u001b[0m \u001b[0;34m\u001b[0m\u001b[0m\n\u001b[1;32m   3184\u001b[0m     def update(self, spec, document, upsert=False, manipulate=False,\n",
      "\u001b[0;32m~/opt/anaconda3/lib/python3.7/site-packages/pymongo/collection.py\u001b[0m in \u001b[0;36m_insert\u001b[0;34m(self, docs, ordered, check_keys, manipulate, write_concern, op_id, bypass_doc_val, session)\u001b[0m\n\u001b[1;32m    610\u001b[0m             return self._insert_one(\n\u001b[1;32m    611\u001b[0m                 \u001b[0mdocs\u001b[0m\u001b[0;34m,\u001b[0m \u001b[0mordered\u001b[0m\u001b[0;34m,\u001b[0m \u001b[0mcheck_keys\u001b[0m\u001b[0;34m,\u001b[0m \u001b[0mmanipulate\u001b[0m\u001b[0;34m,\u001b[0m \u001b[0mwrite_concern\u001b[0m\u001b[0;34m,\u001b[0m \u001b[0mop_id\u001b[0m\u001b[0;34m,\u001b[0m\u001b[0;34m\u001b[0m\u001b[0;34m\u001b[0m\u001b[0m\n\u001b[0;32m--> 612\u001b[0;31m                 bypass_doc_val, session)\n\u001b[0m\u001b[1;32m    613\u001b[0m \u001b[0;34m\u001b[0m\u001b[0m\n\u001b[1;32m    614\u001b[0m         \u001b[0mids\u001b[0m \u001b[0;34m=\u001b[0m \u001b[0;34m[\u001b[0m\u001b[0;34m]\u001b[0m\u001b[0;34m\u001b[0m\u001b[0;34m\u001b[0m\u001b[0m\n",
      "\u001b[0;32m~/opt/anaconda3/lib/python3.7/site-packages/pymongo/collection.py\u001b[0m in \u001b[0;36m_insert_one\u001b[0;34m(self, doc, ordered, check_keys, manipulate, write_concern, op_id, bypass_doc_val, session)\u001b[0m\n\u001b[1;32m    598\u001b[0m \u001b[0;34m\u001b[0m\u001b[0m\n\u001b[1;32m    599\u001b[0m         self.__database.client._retryable_write(\n\u001b[0;32m--> 600\u001b[0;31m             acknowledged, _insert_command, session)\n\u001b[0m\u001b[1;32m    601\u001b[0m \u001b[0;34m\u001b[0m\u001b[0m\n\u001b[1;32m    602\u001b[0m         \u001b[0;32mif\u001b[0m \u001b[0;32mnot\u001b[0m \u001b[0misinstance\u001b[0m\u001b[0;34m(\u001b[0m\u001b[0mdoc\u001b[0m\u001b[0;34m,\u001b[0m \u001b[0mRawBSONDocument\u001b[0m\u001b[0;34m)\u001b[0m\u001b[0;34m:\u001b[0m\u001b[0;34m\u001b[0m\u001b[0;34m\u001b[0m\u001b[0m\n",
      "\u001b[0;32m~/opt/anaconda3/lib/python3.7/site-packages/pymongo/mongo_client.py\u001b[0m in \u001b[0;36m_retryable_write\u001b[0;34m(self, retryable, func, session)\u001b[0m\n\u001b[1;32m   1488\u001b[0m     \u001b[0;32mdef\u001b[0m \u001b[0m_retryable_write\u001b[0m\u001b[0;34m(\u001b[0m\u001b[0mself\u001b[0m\u001b[0;34m,\u001b[0m \u001b[0mretryable\u001b[0m\u001b[0;34m,\u001b[0m \u001b[0mfunc\u001b[0m\u001b[0;34m,\u001b[0m \u001b[0msession\u001b[0m\u001b[0;34m)\u001b[0m\u001b[0;34m:\u001b[0m\u001b[0;34m\u001b[0m\u001b[0;34m\u001b[0m\u001b[0m\n\u001b[1;32m   1489\u001b[0m         \u001b[0;34m\"\"\"Internal retryable write helper.\"\"\"\u001b[0m\u001b[0;34m\u001b[0m\u001b[0;34m\u001b[0m\u001b[0m\n\u001b[0;32m-> 1490\u001b[0;31m         \u001b[0;32mwith\u001b[0m \u001b[0mself\u001b[0m\u001b[0;34m.\u001b[0m\u001b[0m_tmp_session\u001b[0m\u001b[0;34m(\u001b[0m\u001b[0msession\u001b[0m\u001b[0;34m)\u001b[0m \u001b[0;32mas\u001b[0m \u001b[0ms\u001b[0m\u001b[0;34m:\u001b[0m\u001b[0;34m\u001b[0m\u001b[0;34m\u001b[0m\u001b[0m\n\u001b[0m\u001b[1;32m   1491\u001b[0m             \u001b[0;32mreturn\u001b[0m \u001b[0mself\u001b[0m\u001b[0;34m.\u001b[0m\u001b[0m_retry_with_session\u001b[0m\u001b[0;34m(\u001b[0m\u001b[0mretryable\u001b[0m\u001b[0;34m,\u001b[0m \u001b[0mfunc\u001b[0m\u001b[0;34m,\u001b[0m \u001b[0ms\u001b[0m\u001b[0;34m,\u001b[0m \u001b[0;32mNone\u001b[0m\u001b[0;34m)\u001b[0m\u001b[0;34m\u001b[0m\u001b[0;34m\u001b[0m\u001b[0m\n\u001b[1;32m   1492\u001b[0m \u001b[0;34m\u001b[0m\u001b[0m\n",
      "\u001b[0;32m~/opt/anaconda3/lib/python3.7/contextlib.py\u001b[0m in \u001b[0;36m__enter__\u001b[0;34m(self)\u001b[0m\n\u001b[1;32m    110\u001b[0m         \u001b[0;32mdel\u001b[0m \u001b[0mself\u001b[0m\u001b[0;34m.\u001b[0m\u001b[0margs\u001b[0m\u001b[0;34m,\u001b[0m \u001b[0mself\u001b[0m\u001b[0;34m.\u001b[0m\u001b[0mkwds\u001b[0m\u001b[0;34m,\u001b[0m \u001b[0mself\u001b[0m\u001b[0;34m.\u001b[0m\u001b[0mfunc\u001b[0m\u001b[0;34m\u001b[0m\u001b[0;34m\u001b[0m\u001b[0m\n\u001b[1;32m    111\u001b[0m         \u001b[0;32mtry\u001b[0m\u001b[0;34m:\u001b[0m\u001b[0;34m\u001b[0m\u001b[0;34m\u001b[0m\u001b[0m\n\u001b[0;32m--> 112\u001b[0;31m             \u001b[0;32mreturn\u001b[0m \u001b[0mnext\u001b[0m\u001b[0;34m(\u001b[0m\u001b[0mself\u001b[0m\u001b[0;34m.\u001b[0m\u001b[0mgen\u001b[0m\u001b[0;34m)\u001b[0m\u001b[0;34m\u001b[0m\u001b[0;34m\u001b[0m\u001b[0m\n\u001b[0m\u001b[1;32m    113\u001b[0m         \u001b[0;32mexcept\u001b[0m \u001b[0mStopIteration\u001b[0m\u001b[0;34m:\u001b[0m\u001b[0;34m\u001b[0m\u001b[0;34m\u001b[0m\u001b[0m\n\u001b[1;32m    114\u001b[0m             \u001b[0;32mraise\u001b[0m \u001b[0mRuntimeError\u001b[0m\u001b[0;34m(\u001b[0m\u001b[0;34m\"generator didn't yield\"\u001b[0m\u001b[0;34m)\u001b[0m \u001b[0;32mfrom\u001b[0m \u001b[0;32mNone\u001b[0m\u001b[0;34m\u001b[0m\u001b[0;34m\u001b[0m\u001b[0m\n",
      "\u001b[0;32m~/opt/anaconda3/lib/python3.7/site-packages/pymongo/mongo_client.py\u001b[0m in \u001b[0;36m_tmp_session\u001b[0;34m(self, session, close)\u001b[0m\n\u001b[1;32m   1821\u001b[0m             \u001b[0;32mreturn\u001b[0m\u001b[0;34m\u001b[0m\u001b[0;34m\u001b[0m\u001b[0m\n\u001b[1;32m   1822\u001b[0m \u001b[0;34m\u001b[0m\u001b[0m\n\u001b[0;32m-> 1823\u001b[0;31m         \u001b[0ms\u001b[0m \u001b[0;34m=\u001b[0m \u001b[0mself\u001b[0m\u001b[0;34m.\u001b[0m\u001b[0m_ensure_session\u001b[0m\u001b[0;34m(\u001b[0m\u001b[0msession\u001b[0m\u001b[0;34m)\u001b[0m\u001b[0;34m\u001b[0m\u001b[0;34m\u001b[0m\u001b[0m\n\u001b[0m\u001b[1;32m   1824\u001b[0m         \u001b[0;32mif\u001b[0m \u001b[0ms\u001b[0m \u001b[0;32mand\u001b[0m \u001b[0mclose\u001b[0m\u001b[0;34m:\u001b[0m\u001b[0;34m\u001b[0m\u001b[0;34m\u001b[0m\u001b[0m\n\u001b[1;32m   1825\u001b[0m             \u001b[0;32mwith\u001b[0m \u001b[0ms\u001b[0m\u001b[0;34m:\u001b[0m\u001b[0;34m\u001b[0m\u001b[0;34m\u001b[0m\u001b[0m\n",
      "\u001b[0;32m~/opt/anaconda3/lib/python3.7/site-packages/pymongo/mongo_client.py\u001b[0m in \u001b[0;36m_ensure_session\u001b[0;34m(self, session)\u001b[0m\n\u001b[1;32m   1808\u001b[0m             \u001b[0;31m# Don't make implicit sessions causally consistent. Applications\u001b[0m\u001b[0;34m\u001b[0m\u001b[0;34m\u001b[0m\u001b[0;34m\u001b[0m\u001b[0m\n\u001b[1;32m   1809\u001b[0m             \u001b[0;31m# should always opt-in.\u001b[0m\u001b[0;34m\u001b[0m\u001b[0;34m\u001b[0m\u001b[0;34m\u001b[0m\u001b[0m\n\u001b[0;32m-> 1810\u001b[0;31m             \u001b[0;32mreturn\u001b[0m \u001b[0mself\u001b[0m\u001b[0;34m.\u001b[0m\u001b[0m__start_session\u001b[0m\u001b[0;34m(\u001b[0m\u001b[0;32mTrue\u001b[0m\u001b[0;34m,\u001b[0m \u001b[0mcausal_consistency\u001b[0m\u001b[0;34m=\u001b[0m\u001b[0;32mFalse\u001b[0m\u001b[0;34m)\u001b[0m\u001b[0;34m\u001b[0m\u001b[0;34m\u001b[0m\u001b[0m\n\u001b[0m\u001b[1;32m   1811\u001b[0m         \u001b[0;32mexcept\u001b[0m \u001b[0;34m(\u001b[0m\u001b[0mConfigurationError\u001b[0m\u001b[0;34m,\u001b[0m \u001b[0mInvalidOperation\u001b[0m\u001b[0;34m)\u001b[0m\u001b[0;34m:\u001b[0m\u001b[0;34m\u001b[0m\u001b[0;34m\u001b[0m\u001b[0m\n\u001b[1;32m   1812\u001b[0m             \u001b[0;31m# Sessions not supported, or multiple users authenticated.\u001b[0m\u001b[0;34m\u001b[0m\u001b[0;34m\u001b[0m\u001b[0;34m\u001b[0m\u001b[0m\n",
      "\u001b[0;32m~/opt/anaconda3/lib/python3.7/site-packages/pymongo/mongo_client.py\u001b[0m in \u001b[0;36m__start_session\u001b[0;34m(self, implicit, **kwargs)\u001b[0m\n\u001b[1;32m   1761\u001b[0m \u001b[0;34m\u001b[0m\u001b[0m\n\u001b[1;32m   1762\u001b[0m         \u001b[0;31m# Raises ConfigurationError if sessions are not supported.\u001b[0m\u001b[0;34m\u001b[0m\u001b[0;34m\u001b[0m\u001b[0;34m\u001b[0m\u001b[0m\n\u001b[0;32m-> 1763\u001b[0;31m         \u001b[0mserver_session\u001b[0m \u001b[0;34m=\u001b[0m \u001b[0mself\u001b[0m\u001b[0;34m.\u001b[0m\u001b[0m_get_server_session\u001b[0m\u001b[0;34m(\u001b[0m\u001b[0;34m)\u001b[0m\u001b[0;34m\u001b[0m\u001b[0;34m\u001b[0m\u001b[0m\n\u001b[0m\u001b[1;32m   1764\u001b[0m         \u001b[0mopts\u001b[0m \u001b[0;34m=\u001b[0m \u001b[0mclient_session\u001b[0m\u001b[0;34m.\u001b[0m\u001b[0mSessionOptions\u001b[0m\u001b[0;34m(\u001b[0m\u001b[0;34m**\u001b[0m\u001b[0mkwargs\u001b[0m\u001b[0;34m)\u001b[0m\u001b[0;34m\u001b[0m\u001b[0;34m\u001b[0m\u001b[0m\n\u001b[1;32m   1765\u001b[0m         return client_session.ClientSession(\n",
      "\u001b[0;32m~/opt/anaconda3/lib/python3.7/site-packages/pymongo/mongo_client.py\u001b[0m in \u001b[0;36m_get_server_session\u001b[0;34m(self)\u001b[0m\n\u001b[1;32m   1794\u001b[0m     \u001b[0;32mdef\u001b[0m \u001b[0m_get_server_session\u001b[0m\u001b[0;34m(\u001b[0m\u001b[0mself\u001b[0m\u001b[0;34m)\u001b[0m\u001b[0;34m:\u001b[0m\u001b[0;34m\u001b[0m\u001b[0;34m\u001b[0m\u001b[0m\n\u001b[1;32m   1795\u001b[0m         \u001b[0;34m\"\"\"Internal: start or resume a _ServerSession.\"\"\"\u001b[0m\u001b[0;34m\u001b[0m\u001b[0;34m\u001b[0m\u001b[0m\n\u001b[0;32m-> 1796\u001b[0;31m         \u001b[0;32mreturn\u001b[0m \u001b[0mself\u001b[0m\u001b[0;34m.\u001b[0m\u001b[0m_topology\u001b[0m\u001b[0;34m.\u001b[0m\u001b[0mget_server_session\u001b[0m\u001b[0;34m(\u001b[0m\u001b[0;34m)\u001b[0m\u001b[0;34m\u001b[0m\u001b[0;34m\u001b[0m\u001b[0m\n\u001b[0m\u001b[1;32m   1797\u001b[0m \u001b[0;34m\u001b[0m\u001b[0m\n\u001b[1;32m   1798\u001b[0m     \u001b[0;32mdef\u001b[0m \u001b[0m_return_server_session\u001b[0m\u001b[0;34m(\u001b[0m\u001b[0mself\u001b[0m\u001b[0;34m,\u001b[0m \u001b[0mserver_session\u001b[0m\u001b[0;34m,\u001b[0m \u001b[0mlock\u001b[0m\u001b[0;34m)\u001b[0m\u001b[0;34m:\u001b[0m\u001b[0;34m\u001b[0m\u001b[0;34m\u001b[0m\u001b[0m\n",
      "\u001b[0;32m~/opt/anaconda3/lib/python3.7/site-packages/pymongo/topology.py\u001b[0m in \u001b[0;36mget_server_session\u001b[0;34m(self)\u001b[0m\n\u001b[1;32m    483\u001b[0m                             \u001b[0many_server_selector\u001b[0m\u001b[0;34m,\u001b[0m\u001b[0;34m\u001b[0m\u001b[0;34m\u001b[0m\u001b[0m\n\u001b[1;32m    484\u001b[0m                             \u001b[0mself\u001b[0m\u001b[0;34m.\u001b[0m\u001b[0m_settings\u001b[0m\u001b[0;34m.\u001b[0m\u001b[0mserver_selection_timeout\u001b[0m\u001b[0;34m,\u001b[0m\u001b[0;34m\u001b[0m\u001b[0;34m\u001b[0m\u001b[0m\n\u001b[0;32m--> 485\u001b[0;31m                             None)\n\u001b[0m\u001b[1;32m    486\u001b[0m                 \u001b[0;32melif\u001b[0m \u001b[0;32mnot\u001b[0m \u001b[0mself\u001b[0m\u001b[0;34m.\u001b[0m\u001b[0m_description\u001b[0m\u001b[0;34m.\u001b[0m\u001b[0mreadable_servers\u001b[0m\u001b[0;34m:\u001b[0m\u001b[0;34m\u001b[0m\u001b[0;34m\u001b[0m\u001b[0m\n\u001b[1;32m    487\u001b[0m                     self._select_servers_loop(\n",
      "\u001b[0;32m~/opt/anaconda3/lib/python3.7/site-packages/pymongo/topology.py\u001b[0m in \u001b[0;36m_select_servers_loop\u001b[0;34m(self, selector, timeout, address)\u001b[0m\n\u001b[1;32m    207\u001b[0m             \u001b[0;32mif\u001b[0m \u001b[0mtimeout\u001b[0m \u001b[0;34m==\u001b[0m \u001b[0;36m0\u001b[0m \u001b[0;32mor\u001b[0m \u001b[0mnow\u001b[0m \u001b[0;34m>\u001b[0m \u001b[0mend_time\u001b[0m\u001b[0;34m:\u001b[0m\u001b[0;34m\u001b[0m\u001b[0;34m\u001b[0m\u001b[0m\n\u001b[1;32m    208\u001b[0m                 raise ServerSelectionTimeoutError(\n\u001b[0;32m--> 209\u001b[0;31m                     self._error_message(selector))\n\u001b[0m\u001b[1;32m    210\u001b[0m \u001b[0;34m\u001b[0m\u001b[0m\n\u001b[1;32m    211\u001b[0m             \u001b[0mself\u001b[0m\u001b[0;34m.\u001b[0m\u001b[0m_ensure_opened\u001b[0m\u001b[0;34m(\u001b[0m\u001b[0;34m)\u001b[0m\u001b[0;34m\u001b[0m\u001b[0;34m\u001b[0m\u001b[0m\n",
      "\u001b[0;31mServerSelectionTimeoutError\u001b[0m: 13.125.153.195:27017: timed out"
     ]
    }
   ],
   "source": [
    "data = {\"title\":\"신발\"}\n",
    "collection.insert(data)"
   ]
  },
  {
   "cell_type": "markdown",
   "metadata": {},
   "source": [
    "##### Mongodb 모듈 파일 생성"
   ]
  },
  {
   "cell_type": "code",
   "execution_count": null,
   "metadata": {},
   "outputs": [],
   "source": [
    "%%writefile playnomore/playnomore/mongodb.py\n",
    "import pymongo\n",
    "\n",
    "client = pymongo.MongoClient('mongodb://13.125.153.195:27017/')\n",
    "db = client.playnomore\n",
    "collection = db.shoes"
   ]
  },
  {
   "cell_type": "code",
   "execution_count": null,
   "metadata": {},
   "outputs": [],
   "source": [
    "%%writefile playnomore/playnomore/pipelines.py\n",
    "from .mongodb import collection\n",
    "\n",
    "class PlaynomorePipeline(object):\n",
    "    \n",
    "    def process_item(self, item, spider):\n",
    "        \n",
    "        data = { \"title\": item[\"title\"], \n",
    "                 \"price\": item[\"price\"],\n",
    "                 \"img\": item[\"img\"], \n",
    "                 \"link\": item[\"link\"],\n",
    "               }\n",
    "        \n",
    "        collection.insert(data)\n",
    "        \n",
    "        return item"
   ]
  },
  {
   "cell_type": "code",
   "execution_count": null,
   "metadata": {},
   "outputs": [],
   "source": [
    "!echo \"ITEM_PIPELINES = {\"  >> playnomore/playnomore/settings.py"
   ]
  },
  {
   "cell_type": "code",
   "execution_count": null,
   "metadata": {},
   "outputs": [],
   "source": [
    "!echo \"   'playnomore.pipelines.PlaynomorePipeline': 300,\" >> playnomore/playnomore/settings.py"
   ]
  },
  {
   "cell_type": "code",
   "execution_count": 41,
   "metadata": {},
   "outputs": [],
   "source": [
    "!echo \"}\" >> playnomore/playnomore/settings.py"
   ]
  },
  {
   "cell_type": "code",
   "execution_count": 42,
   "metadata": {},
   "outputs": [
    {
     "name": "stdout",
     "output_type": "stream",
     "text": [
      "}\r\n",
      "   'playnomore.pipelines.PlaynomorePipeline': 300,\r\n",
      "ITEM_PIPELINES = {\r\n",
      "   'playnomore.pipelines.PlaynomorePipeline': 300,\r\n",
      "}\r\n"
     ]
    }
   ],
   "source": [
    "!tail -n 5 playnomore/playnomore/settings.py"
   ]
  },
  {
   "cell_type": "code",
   "execution_count": null,
   "metadata": {},
   "outputs": [],
   "source": [
    "!cat run.sh"
   ]
  },
  {
   "cell_type": "code",
   "execution_count": null,
   "metadata": {},
   "outputs": [],
   "source": [
    "!./run.sh"
   ]
  },
  {
   "cell_type": "code",
   "execution_count": null,
   "metadata": {},
   "outputs": [],
   "source": []
  },
  {
   "cell_type": "code",
   "execution_count": null,
   "metadata": {},
   "outputs": [],
   "source": []
  },
  {
   "cell_type": "code",
   "execution_count": null,
   "metadata": {},
   "outputs": [],
   "source": []
  },
  {
   "cell_type": "code",
   "execution_count": null,
   "metadata": {},
   "outputs": [],
   "source": []
  },
  {
   "cell_type": "code",
   "execution_count": null,
   "metadata": {},
   "outputs": [],
   "source": []
  },
  {
   "cell_type": "code",
   "execution_count": null,
   "metadata": {},
   "outputs": [],
   "source": []
  },
  {
   "cell_type": "code",
   "execution_count": null,
   "metadata": {},
   "outputs": [],
   "source": []
  }
 ],
 "metadata": {
  "kernelspec": {
   "display_name": "Python 3",
   "language": "python",
   "name": "python3"
  },
  "language_info": {
   "codemirror_mode": {
    "name": "ipython",
    "version": 3
   },
   "file_extension": ".py",
   "mimetype": "text/x-python",
   "name": "python",
   "nbconvert_exporter": "python",
   "pygments_lexer": "ipython3",
   "version": "3.7.6"
  }
 },
 "nbformat": 4,
 "nbformat_minor": 2
}
