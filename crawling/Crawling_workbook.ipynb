{
 "cells": [
  {
   "cell_type": "code",
   "execution_count": 87,
   "metadata": {},
   "outputs": [],
   "source": [
    "import matplotlib.pylab as plt"
   ]
  },
  {
   "cell_type": "markdown",
   "metadata": {},
   "source": [
    "#웹크롤링\n",
    "-크롤링 절차\n",
    "    -1 웹서비스 확인 : URL\n",
    "    -2 URL>request, resoponse : json(str)\n",
    "    -3 .json(str)> dict(parsing) : DataFrame\n",
    "-naver stock data\n",
    "    코스피 코스닥 로그인 "
   ]
  },
  {
   "cell_type": "code",
   "execution_count": 55,
   "metadata": {},
   "outputs": [],
   "source": [
    "import requests#"
   ]
  },
  {
   "cell_type": "markdown",
   "metadata": {},
   "source": [
    "request header 에 있는 user-agent를 서버가 확인함 fake 유저를 넣어줘야함 "
   ]
  },
  {
   "cell_type": "code",
   "execution_count": 95,
   "metadata": {},
   "outputs": [
    {
     "data": {
      "text/plain": [
       "'https://m.stock.naver.com/api/json/sise/dailySiseIndexListJson.nhn?code=KOSPI&pageSize=20&page=1'"
      ]
     },
     "execution_count": 95,
     "metadata": {},
     "output_type": "execute_result"
    }
   ],
   "source": [
    "# 1. URL\n",
    "code, page_size, page = \"KOSPI\", 20, 1\n",
    "url = \"https://m.stock.naver.com/api/json/sise/dailySiseIndexListJson.nhn?\\\n",
    "code={}&pageSize={}&page={}\".format(code, page_size, page)\n",
    "url"
   ]
  },
  {
   "cell_type": "code",
   "execution_count": 96,
   "metadata": {},
   "outputs": [
    {
     "data": {
      "text/plain": [
       "<Response [200]>"
      ]
     },
     "execution_count": 96,
     "metadata": {},
     "output_type": "execute_result"
    }
   ],
   "source": [
    "# 2. URL > req, rep : JSON(str)\n",
    "response = requests.get(url)\n",
    "response"
   ]
  },
  {
   "cell_type": "code",
   "execution_count": 97,
   "metadata": {},
   "outputs": [
    {
     "data": {
      "text/html": [
       "<div>\n",
       "<style scoped>\n",
       "    .dataframe tbody tr th:only-of-type {\n",
       "        vertical-align: middle;\n",
       "    }\n",
       "\n",
       "    .dataframe tbody tr th {\n",
       "        vertical-align: top;\n",
       "    }\n",
       "\n",
       "    .dataframe thead th {\n",
       "        text-align: right;\n",
       "    }\n",
       "</style>\n",
       "<table border=\"1\" class=\"dataframe\">\n",
       "  <thead>\n",
       "    <tr style=\"text-align: right;\">\n",
       "      <th></th>\n",
       "      <th>cd</th>\n",
       "      <th>dt</th>\n",
       "      <th>ncv</th>\n",
       "      <th>cv</th>\n",
       "      <th>cr</th>\n",
       "      <th>ov</th>\n",
       "      <th>hv</th>\n",
       "      <th>lv</th>\n",
       "    </tr>\n",
       "  </thead>\n",
       "  <tbody>\n",
       "    <tr>\n",
       "      <th>18</th>\n",
       "      <td>KOSPI</td>\n",
       "      <td>20200602</td>\n",
       "      <td>2087.19</td>\n",
       "      <td>22.11</td>\n",
       "      <td>1.07</td>\n",
       "      <td>2061.45</td>\n",
       "      <td>2089.43</td>\n",
       "      <td>2059.14</td>\n",
       "    </tr>\n",
       "    <tr>\n",
       "      <th>19</th>\n",
       "      <td>KOSPI</td>\n",
       "      <td>20200601</td>\n",
       "      <td>2065.08</td>\n",
       "      <td>35.48</td>\n",
       "      <td>1.75</td>\n",
       "      <td>2037.04</td>\n",
       "      <td>2065.38</td>\n",
       "      <td>2035.63</td>\n",
       "    </tr>\n",
       "  </tbody>\n",
       "</table>\n",
       "</div>"
      ],
      "text/plain": [
       "       cd        dt      ncv     cv    cr       ov       hv       lv\n",
       "18  KOSPI  20200602  2087.19  22.11  1.07  2061.45  2089.43  2059.14\n",
       "19  KOSPI  20200601  2065.08  35.48  1.75  2037.04  2065.38  2035.63"
      ]
     },
     "execution_count": 97,
     "metadata": {},
     "output_type": "execute_result"
    }
   ],
   "source": [
    "# 3. JSON(str) > dict(parsing) : DF\n",
    "datas = response.json()[\"result\"][\"siseList\"]\n",
    "kospi_df = pd.DataFrame(datas)\n",
    "kospi_df.tail(2)"
   ]
  },
  {
   "cell_type": "code",
   "execution_count": 98,
   "metadata": {},
   "outputs": [],
   "source": [
    "# function\n",
    "\n",
    "def get_stock_data(code=\"KOSPI\", page_size=20, page=1):\n",
    "    url = \"https://m.stock.naver.com/api/json/sise/dailySiseIndexListJson.nhn?code={}&pageSize={}&page={}\".format(code, page_size, page)\n",
    "    response = requests.get(url)\n",
    "    return pd.DataFrame(response.json()[\"result\"][\"siseList\"]) \n",
    "\n",
    "\n"
   ]
  },
  {
   "cell_type": "code",
   "execution_count": 99,
   "metadata": {},
   "outputs": [],
   "source": [
    "kospi_df = get_stock_data(page_size=100)\n",
    "kosdaq_df = get_stock_data(\"KOSDAQ\", 100)"
   ]
  },
  {
   "cell_type": "code",
   "execution_count": 100,
   "metadata": {},
   "outputs": [
    {
     "data": {
      "text/html": [
       "<div>\n",
       "<style scoped>\n",
       "    .dataframe tbody tr th:only-of-type {\n",
       "        vertical-align: middle;\n",
       "    }\n",
       "\n",
       "    .dataframe tbody tr th {\n",
       "        vertical-align: top;\n",
       "    }\n",
       "\n",
       "    .dataframe thead th {\n",
       "        text-align: right;\n",
       "    }\n",
       "</style>\n",
       "<table border=\"1\" class=\"dataframe\">\n",
       "  <thead>\n",
       "    <tr style=\"text-align: right;\">\n",
       "      <th></th>\n",
       "      <th>dt</th>\n",
       "      <th>nv</th>\n",
       "      <th>cv</th>\n",
       "      <th>cr</th>\n",
       "      <th>cbv</th>\n",
       "      <th>csv</th>\n",
       "      <th>sv</th>\n",
       "      <th>rv</th>\n",
       "    </tr>\n",
       "  </thead>\n",
       "  <tbody>\n",
       "    <tr>\n",
       "      <th>98</th>\n",
       "      <td>20200205</td>\n",
       "      <td>1184.5</td>\n",
       "      <td>-4.0</td>\n",
       "      <td>-0.34</td>\n",
       "      <td>1205.22</td>\n",
       "      <td>1163.78</td>\n",
       "      <td>1196.1</td>\n",
       "      <td>1172.9</td>\n",
       "    </tr>\n",
       "    <tr>\n",
       "      <th>99</th>\n",
       "      <td>20200204</td>\n",
       "      <td>1188.5</td>\n",
       "      <td>-5.5</td>\n",
       "      <td>-0.46</td>\n",
       "      <td>1209.29</td>\n",
       "      <td>1167.71</td>\n",
       "      <td>1200.1</td>\n",
       "      <td>1176.9</td>\n",
       "    </tr>\n",
       "  </tbody>\n",
       "</table>\n",
       "</div>"
      ],
      "text/plain": [
       "          dt      nv   cv    cr      cbv      csv      sv      rv\n",
       "98  20200205  1184.5 -4.0 -0.34  1205.22  1163.78  1196.1  1172.9\n",
       "99  20200204  1188.5 -5.5 -0.46  1209.29  1167.71  1200.1  1176.9"
      ]
     },
     "execution_count": 100,
     "metadata": {},
     "output_type": "execute_result"
    }
   ],
   "source": [
    "# 1. URL\n",
    "code, page_size, page = \"FX_USDKRW\", 100, 1\n",
    "url = \"https://m.stock.naver.com/api/json/marketindex/marketIndexDay.nhn?\\\n",
    "marketIndexCd={}&pageSize={}&page={}\".format(code, page_size, page)\n",
    "\n",
    "# 2. req, rep, header 설정(cookie) : JSON\n",
    "headers = {\"cookie\": \"NNB=R27GAM3VUSIV4; NRTK=ag#all_gr#1_ma#-2_si#0_en#0_sp#0; MM_NEW=1; NFS=2; NID_AUT=E3RB13WPONA9X6Qq/IBZSKWuqNzfyVIuN4Cu1fTj37/NOnImuTAOKZuNWIzt2chB; NID_JKL=YE+tmQlvmG+Ccj5gYv6w1RLPKWhdvA89tsRPPj3gpXI=; ASID=01e8229c000001720147ab610000006c; nid_tct=ArfgbAp0q2yzDY81; page_uid=UYeAzdp0Jy0ssji8tA4sssssskC-338971; nx_ssl=2; NID_SES=AAABiy1EXfuAamL8fd/ZCwHdF9SQXyMmgAHvsLW7ZPUeNHH58ag305UgztmCCpM+3JczgY0A4cIezqnEDmVBbr2sSlN8MmwsV0A/8L9TnTfzwghhBoHdg/lK+ILpqfREnmZfpWeH9Yez1Igy9g6sPuGCAaQXh5xegZUE/1GhCr1iltluykeKWPKk+Wu9FjB4dvNObj9rFku0VyGQSwR0LLRE1oGp78u0R6VIVcCv4MoTBonGq1F++0aH01vZKLDDIDBpE6xs7Y0p5RfF3BfnNqyiZ2qvS7ddj638+9lCdjBvtcmXKoP2xDf/yocWu59eJrwOzeEpl+n/K5ifjm/e12piJDpJupd+gzMX7q82zhL4u81A1So77Hz3ogS0y+ahSpOtYhXDQtumRBpzNO1NjWTUtcrxEeCgpvJ581zT2Dc3qUQ61jak4BX9Tc7LhxkiRZa3b/9XSBAQthao2mTIoqp1JIm3EWlZxv3u1LB9aarbNxxvIdMkxhgwAxL7BUwlz2WIbQl0GOzV/f0Ul4VRxgbIp6c=; JSESSIONID=192A222A7019DD6E56F9E1FE1D038515; BMR=; XSRF-TOKEN=02d7d8bc-b1a0-44ed-93ec-71f4b2857bee\" }\n",
    "response = requests.get(url, headers=headers)\n",
    "response\n",
    "\n",
    "# 3. JSON > DF\n",
    "datas = response.json()[\"result\"][\"marketIndexDay\"]\n",
    "usd_df = pd.DataFrame(datas)\n",
    "usd_df.tail(2)"
   ]
  },
  {
   "cell_type": "code",
   "execution_count": 101,
   "metadata": {},
   "outputs": [],
   "source": [
    "from sklearn import preprocessing"
   ]
  },
  {
   "cell_type": "code",
   "execution_count": 102,
   "metadata": {},
   "outputs": [
    {
     "data": {
      "image/png": "[encoded data removed]",
      "text/plain": [
       "<Figure size 1440x360 with 1 Axes>"
      ]
     },
     "metadata": {
      "needs_background": "light"
     },
     "output_type": "display_data"
    }
   ],
   "source": [
    "plt.figure(figsize=(20, 5))\n",
    "\n",
    "data1 = preprocessing.minmax_scale(kospi_df[\"ncv\"][::-1])\n",
    "data2 = preprocessing.minmax_scale(kosdaq_df[\"ncv\"][::-1])\n",
    "data3 = preprocessing.minmax_scale(usd_df[\"nv\"][::-1])\n",
    "\n",
    "plt.plot(kospi_df[\"dt\"][::-1], data1, \"r*:\", label=\"kospi\")\n",
    "plt.plot(kosdaq_df[\"dt\"][::-1], data2, \"b^--\", label=\"kosdaq\")\n",
    "plt.plot(usd_df[\"dt\"][::-1], data3, \"go-\", label=\"usd\")\n",
    "\n",
    "step = len(kospi_df) // 10\n",
    "plt.xticks(kospi_df[::step][\"dt\"][::-1])\n",
    "\n",
    "plt.show()"
   ]
  },
  {
   "cell_type": "code",
   "execution_count": null,
   "metadata": {},
   "outputs": [],
   "source": []
  },
  {
   "cell_type": "code",
   "execution_count": 103,
   "metadata": {},
   "outputs": [
    {
     "data": {
      "text/plain": [
       "(0.7419305162969759, 0.5633053032181276)"
      ]
     },
     "execution_count": 103,
     "metadata": {},
     "output_type": "execute_result"
    }
   ],
   "source": [
    "np.corrcoef(data1, data2)[0, 1] ** 2, np.corrcoef(data1, data3)[0, 1] ** 2 #제곱하면 r 스퀘어 값"
   ]
  },
  {
   "cell_type": "markdown",
   "metadata": {},
   "source": [
    "    CSS Selector"
   ]
  },
  {
   "cell_type": "markdown",
   "metadata": {},
   "source": [
    "###웹 크롤링 :html\n",
    "1. 웹서비스 분석 :URL\n",
    "2. URL>Request, Response : JSON(str)\n",
    "3. HTML(str) > bs_obj(parsing) > bs_obj - css selector : DF\n",
    "-BeautifulSoup : css selector 사용"
   ]
  },
  {
   "cell_type": "code",
   "execution_count": 108,
   "metadata": {},
   "outputs": [],
   "source": [
    "keyword= \"삼성전자\"\n",
    "url=\"https://search.naver.com/search.naver?sm=top_hty&fbm=1&ie=utf8&query={}\".format(keyword)\n"
   ]
  },
  {
   "cell_type": "code",
   "execution_count": 109,
   "metadata": {},
   "outputs": [],
   "source": [
    "response = requests.get(url)\n"
   ]
  },
  {
   "cell_type": "code",
   "execution_count": 110,
   "metadata": {},
   "outputs": [],
   "source": [
    "#pasrsing\n",
    "from bs4 import BeautifulSoup as bs\n",
    "dom = bs(response.content, \"html.parser\")\n"
   ]
  },
  {
   "cell_type": "code",
   "execution_count": 115,
   "metadata": {},
   "outputs": [
    {
     "data": {
      "text/plain": [
       "<li> <a data-area=\"*q\" data-idx=\"1\" href=\"?where=nexearch&amp;query=%EC%82%BC%EC%84%B1%EC%A0%84%EC%9E%90%EC%9A%B0&amp;ie=utf8&amp;sm=tab_she&amp;qdt=0\">삼성전자우</a> </li>"
      ]
     },
     "execution_count": 115,
     "metadata": {},
     "output_type": "execute_result"
    }
   ],
   "source": [
    "#css selector\n",
    "element=dom.select(\"._related_keyword_ul > li\")\n",
    "element[0]"
   ]
  },
  {
   "cell_type": "code",
   "execution_count": 117,
   "metadata": {},
   "outputs": [
    {
     "data": {
      "text/plain": [
       "'삼성전자우'"
      ]
     },
     "execution_count": 117,
     "metadata": {},
     "output_type": "execute_result"
    }
   ],
   "source": [
    "element[0].text.strip()"
   ]
  },
  {
   "cell_type": "code",
   "execution_count": 120,
   "metadata": {},
   "outputs": [
    {
     "data": {
      "text/html": [
       "<div>\n",
       "<style scoped>\n",
       "    .dataframe tbody tr th:only-of-type {\n",
       "        vertical-align: middle;\n",
       "    }\n",
       "\n",
       "    .dataframe tbody tr th {\n",
       "        vertical-align: top;\n",
       "    }\n",
       "\n",
       "    .dataframe thead th {\n",
       "        text-align: right;\n",
       "    }\n",
       "</style>\n",
       "<table border=\"1\" class=\"dataframe\">\n",
       "  <thead>\n",
       "    <tr style=\"text-align: right;\">\n",
       "      <th></th>\n",
       "      <th>keyword</th>\n",
       "    </tr>\n",
       "  </thead>\n",
       "  <tbody>\n",
       "    <tr>\n",
       "      <th>0</th>\n",
       "      <td>삼성전자우</td>\n",
       "    </tr>\n",
       "    <tr>\n",
       "      <th>1</th>\n",
       "      <td>카카오</td>\n",
       "    </tr>\n",
       "    <tr>\n",
       "      <th>2</th>\n",
       "      <td>삼성</td>\n",
       "    </tr>\n",
       "    <tr>\n",
       "      <th>3</th>\n",
       "      <td>네이버</td>\n",
       "    </tr>\n",
       "    <tr>\n",
       "      <th>4</th>\n",
       "      <td>삼성중공업우</td>\n",
       "    </tr>\n",
       "    <tr>\n",
       "      <th>5</th>\n",
       "      <td>셀트리온</td>\n",
       "    </tr>\n",
       "    <tr>\n",
       "      <th>6</th>\n",
       "      <td>sk하이닉스</td>\n",
       "    </tr>\n",
       "    <tr>\n",
       "      <th>7</th>\n",
       "      <td>코스피</td>\n",
       "    </tr>\n",
       "    <tr>\n",
       "      <th>8</th>\n",
       "      <td>삼성전자서비스센터</td>\n",
       "    </tr>\n",
       "    <tr>\n",
       "      <th>9</th>\n",
       "      <td>삼성sdi</td>\n",
       "    </tr>\n",
       "  </tbody>\n",
       "</table>\n",
       "</div>"
      ],
      "text/plain": [
       "     keyword\n",
       "0      삼성전자우\n",
       "1        카카오\n",
       "2         삼성\n",
       "3        네이버\n",
       "4     삼성중공업우\n",
       "5       셀트리온\n",
       "6     sk하이닉스\n",
       "7        코스피\n",
       "8  삼성전자서비스센터\n",
       "9      삼성sdi"
      ]
     },
     "execution_count": 120,
     "metadata": {},
     "output_type": "execute_result"
    }
   ],
   "source": [
    "keyword = [element.text.strip() for element in element]\n",
    "df= pd.DataFrame({\"keyword\":keyword})\n",
    "df"
   ]
  },
  {
   "cell_type": "code",
   "execution_count": 121,
   "metadata": {},
   "outputs": [
    {
     "name": "stdout",
     "output_type": "stream",
     "text": [
      "Collecting scrapy\n",
      "  Downloading Scrapy-2.2.0-py2.py3-none-any.whl (241 kB)\n",
      "\u001b[K     |████████████████████████████████| 241 kB 246 kB/s eta 0:00:01\n",
      "\u001b[?25hCollecting zope.interface>=4.1.3\n",
      "  Downloading zope.interface-5.1.0-cp37-cp37m-macosx_10_9_x86_64.whl (192 kB)\n",
      "\u001b[K     |████████████████████████████████| 192 kB 74 kB/s eta 0:00:01\n",
      "\u001b[?25hCollecting Twisted>=17.9.0\n",
      "  Downloading Twisted-20.3.0-cp37-cp37m-macosx_10_6_intel.whl (3.1 MB)\n",
      "\u001b[K     |████████████████████████████████| 3.1 MB 36 kB/s eta 0:00:015\n",
      "\u001b[?25hCollecting itemadapter>=0.1.0\n",
      "  Downloading itemadapter-0.1.0-py3-none-any.whl (7.0 kB)\n",
      "Requirement already satisfied: pyOpenSSL>=16.2.0 in /Users/yeonghwanchoi/opt/anaconda3/lib/python3.7/site-packages (from scrapy) (19.1.0)\n",
      "Collecting cssselect>=0.9.1\n",
      "  Downloading cssselect-1.1.0-py2.py3-none-any.whl (16 kB)\n",
      "Requirement already satisfied: cryptography>=2.0 in /Users/yeonghwanchoi/opt/anaconda3/lib/python3.7/site-packages (from scrapy) (2.8)\n",
      "Collecting parsel>=1.5.0\n",
      "  Downloading parsel-1.6.0-py2.py3-none-any.whl (13 kB)\n",
      "Collecting queuelib>=1.4.2\n",
      "  Downloading queuelib-1.5.0-py2.py3-none-any.whl (13 kB)\n",
      "Collecting service-identity>=16.0.0\n",
      "  Downloading service_identity-18.1.0-py2.py3-none-any.whl (11 kB)\n",
      "Collecting w3lib>=1.17.0\n",
      "  Downloading w3lib-1.22.0-py2.py3-none-any.whl (20 kB)\n",
      "Collecting PyDispatcher>=2.0.5\n",
      "  Downloading PyDispatcher-2.0.5.tar.gz (34 kB)\n",
      "Requirement already satisfied: lxml>=3.5.0 in /Users/yeonghwanchoi/opt/anaconda3/lib/python3.7/site-packages (from scrapy) (4.5.0)\n",
      "Collecting protego>=0.1.15\n",
      "  Downloading Protego-0.1.16.tar.gz (3.2 MB)\n",
      "\u001b[K     |████████████████████████████████| 3.2 MB 54 kB/s eta 0:00:012\n",
      "\u001b[?25hRequirement already satisfied: setuptools in /Users/yeonghwanchoi/opt/anaconda3/lib/python3.7/site-packages (from zope.interface>=4.1.3->scrapy) (46.0.0.post20200309)\n",
      "Requirement already satisfied: attrs>=19.2.0 in /Users/yeonghwanchoi/opt/anaconda3/lib/python3.7/site-packages (from Twisted>=17.9.0->scrapy) (19.3.0)\n",
      "Collecting Automat>=0.3.0\n",
      "  Downloading Automat-20.2.0-py2.py3-none-any.whl (31 kB)\n",
      "Collecting constantly>=15.1\n",
      "  Downloading constantly-15.1.0-py2.py3-none-any.whl (7.9 kB)\n",
      "Collecting PyHamcrest!=1.10.0,>=1.9.0\n",
      "  Downloading PyHamcrest-2.0.2-py3-none-any.whl (52 kB)\n",
      "\u001b[K     |████████████████████████████████| 52 kB 274 kB/s eta 0:00:01\n",
      "\u001b[?25hCollecting incremental>=16.10.1\n",
      "  Downloading incremental-17.5.0-py2.py3-none-any.whl (16 kB)\n",
      "Collecting hyperlink>=17.1.1\n",
      "  Downloading hyperlink-19.0.0-py2.py3-none-any.whl (38 kB)\n",
      "Requirement already satisfied: six>=1.5.2 in /Users/yeonghwanchoi/opt/anaconda3/lib/python3.7/site-packages (from pyOpenSSL>=16.2.0->scrapy) (1.14.0)\n",
      "Requirement already satisfied: cffi!=1.11.3,>=1.8 in /Users/yeonghwanchoi/opt/anaconda3/lib/python3.7/site-packages (from cryptography>=2.0->scrapy) (1.14.0)\n",
      "Collecting pyasn1\n",
      "  Downloading pyasn1-0.4.8-py2.py3-none-any.whl (77 kB)\n",
      "\u001b[K     |████████████████████████████████| 77 kB 158 kB/s eta 0:00:01\n",
      "\u001b[?25hCollecting pyasn1-modules\n",
      "  Downloading pyasn1_modules-0.2.8-py2.py3-none-any.whl (155 kB)\n",
      "\u001b[K     |████████████████████████████████| 155 kB 60 kB/s eta 0:00:01\n",
      "\u001b[?25hRequirement already satisfied: idna>=2.5 in /Users/yeonghwanchoi/opt/anaconda3/lib/python3.7/site-packages (from hyperlink>=17.1.1->Twisted>=17.9.0->scrapy) (2.8)\n",
      "Requirement already satisfied: pycparser in /Users/yeonghwanchoi/opt/anaconda3/lib/python3.7/site-packages (from cffi!=1.11.3,>=1.8->cryptography>=2.0->scrapy) (2.19)\n",
      "Building wheels for collected packages: PyDispatcher, protego\n",
      "  Building wheel for PyDispatcher (setup.py) ... \u001b[?25ldone\n",
      "\u001b[?25h  Created wheel for PyDispatcher: filename=PyDispatcher-2.0.5-py3-none-any.whl size=11515 sha256=0547fd30dee4ee40ec4a36e89805ee7713a7563f3b942247b484195a53217aea\n",
      "  Stored in directory: /Users/yeonghwanchoi/Library/Caches/pip/wheels/dc/d0/bf/0cc715c01fce0bace63b46283acf5cc630d5e5dbb4602c54e5\n",
      "  Building wheel for protego (setup.py) ... \u001b[?25ldone\n",
      "\u001b[?25h  Created wheel for protego: filename=Protego-0.1.16-py3-none-any.whl size=7765 sha256=ca6c3393686ed10ef14feb8be9ad6e0580d8093e61db74cbd7c247de9f9bfcaa\n",
      "  Stored in directory: /Users/yeonghwanchoi/Library/Caches/pip/wheels/ca/44/01/3592ccfbcfaee4ab297c4097e6e9dbe1c7697e3531a39877ab\n",
      "Successfully built PyDispatcher protego\n",
      "Installing collected packages: zope.interface, Automat, constantly, PyHamcrest, incremental, hyperlink, Twisted, itemadapter, cssselect, w3lib, parsel, queuelib, pyasn1, pyasn1-modules, service-identity, PyDispatcher, protego, scrapy\n",
      "Successfully installed Automat-20.2.0 PyDispatcher-2.0.5 PyHamcrest-2.0.2 Twisted-20.3.0 constantly-15.1.0 cssselect-1.1.0 hyperlink-19.0.0 incremental-17.5.0 itemadapter-0.1.0 parsel-1.6.0 protego-0.1.16 pyasn1-0.4.8 pyasn1-modules-0.2.8 queuelib-1.5.0 scrapy-2.2.0 service-identity-18.1.0 w3lib-1.22.0 zope.interface-5.1.0\n"
     ]
    }
   ],
   "source": [
    "# xpath\n",
    "!pip install scrapy"
   ]
  },
  {
   "cell_type": "code",
   "execution_count": 123,
   "metadata": {},
   "outputs": [],
   "source": [
    "import scrapy\n",
    "from scrapy.http import TextResponse"
   ]
  },
  {
   "cell_type": "code",
   "execution_count": 124,
   "metadata": {},
   "outputs": [],
   "source": [
    "#url\n",
    "keyword= \"삼성전자\"\n",
    "url=\"https://search.naver.com/search.naver?sm=top_hty&fbm=1&ie=utf8&query={}\".format(keyword)"
   ]
  },
  {
   "cell_type": "code",
   "execution_count": 125,
   "metadata": {},
   "outputs": [],
   "source": [
    "#req, rep\n",
    "response = requests.get(url)"
   ]
  },
  {
   "cell_type": "code",
   "execution_count": 126,
   "metadata": {},
   "outputs": [],
   "source": [
    "#rep -> TextResponse obj-> xpath 사용 : DF"
   ]
  },
  {
   "cell_type": "markdown",
   "metadata": {},
   "source": [
    "####xpath 문법\n",
    "- '//*[@id=\"nx_related_keywords\"]/dl/dd[1]/ul/li[1]'\n",
    "- '//' :가장 상위 엘리먼트\n",
    "- '*': 모든 하위 엘리먼트에서 찾음\n",
    "- '//*[@id=\"nx_related_keywords\"]/dl/dd[1]/ul/li[1]': 속성값의 키 : id, 벨류 : '@id=\"nx_related_keywords\"'를 선택\n",
    "- '/': 한단계 하위 엘리먼트에서 찾음\n",
    "- '[]'\n",
    "    - 속성값으로 엘리먼트 찾기 \n",
    "    - 숫자가 오면 몇 번째 엘리먼트를 의미\n",
    "모든 li를 찾는 다면 뒤에 index 를 지워 주면 다 찾음 '//*[@id=\"nx_related_keywords\"]/dl/dd[1]/ul/li'"
   ]
  },
  {
   "cell_type": "code",
   "execution_count": 142,
   "metadata": {},
   "outputs": [],
   "source": [
    "tr_obj = TextResponse(response.url, body=response.text, encoding='utf-8')"
   ]
  },
  {
   "cell_type": "code",
   "execution_count": 143,
   "metadata": {},
   "outputs": [],
   "source": [
    "selector = '//*[@id=\"nx_related_keywords\"]/dl/dd[1]/ul/li[1]'\n",
    "# datas = tr_obj.xpath(selector)"
   ]
  },
  {
   "cell_type": "code",
   "execution_count": 144,
   "metadata": {},
   "outputs": [],
   "source": [
    "# datas[0]"
   ]
  },
  {
   "cell_type": "code",
   "execution_count": 145,
   "metadata": {},
   "outputs": [],
   "source": [
    "# datas.xpath('a/text()').extract()"
   ]
  },
  {
   "cell_type": "code",
   "execution_count": 148,
   "metadata": {},
   "outputs": [
    {
     "data": {
      "text/plain": [
       "['삼성전자우',\n",
       " '카카오',\n",
       " '삼성',\n",
       " '네이버',\n",
       " '삼성중공업우',\n",
       " '셀트리온',\n",
       " 'sk하이닉스',\n",
       " '코스피',\n",
       " '삼성전자서비스센터',\n",
       " '삼성sdi']"
      ]
     },
     "execution_count": 148,
     "metadata": {},
     "output_type": "execute_result"
    }
   ],
   "source": [
    "selector = '//*[@id=\"nx_related_keywords\"]/dl/dd[1]/ul/li/a/text()'\n",
    "datas = tr_obj.xpath(selector).extract()\n",
    "datas"
   ]
  },
  {
   "cell_type": "code",
   "execution_count": null,
   "metadata": {},
   "outputs": [],
   "source": []
  },
  {
   "cell_type": "markdown",
   "metadata": {},
   "source": [
    "일반적인 크롤링방법으로는 막힘. fake_useragent 사용.  \n",
    "- 패키지 설치 : `pip install fake-useragent`"
   ]
  },
  {
   "cell_type": "code",
   "execution_count": null,
   "metadata": {},
   "outputs": [],
   "source": []
  },
  {
   "cell_type": "code",
   "execution_count": null,
   "metadata": {},
   "outputs": [],
   "source": []
  },
  {
   "cell_type": "code",
   "execution_count": null,
   "metadata": {},
   "outputs": [],
   "source": []
  },
  {
   "cell_type": "code",
   "execution_count": null,
   "metadata": {},
   "outputs": [],
   "source": []
  },
  {
   "cell_type": "code",
   "execution_count": null,
   "metadata": {},
   "outputs": [],
   "source": []
  },
  {
   "cell_type": "code",
   "execution_count": 105,
   "metadata": {},
   "outputs": [
    {
     "ename": "ModuleNotFoundError",
     "evalue": "No module named 'fake_useragent'",
     "output_type": "error",
     "traceback": [
      "\u001b[0;31m---------------------------------------------------------------------------\u001b[0m",
      "\u001b[0;31mModuleNotFoundError\u001b[0m                       Traceback (most recent call last)",
      "\u001b[0;32m<ipython-input-105-365704222457>\u001b[0m in \u001b[0;36m<module>\u001b[0;34m\u001b[0m\n\u001b[0;32m----> 1\u001b[0;31m \u001b[0;32mfrom\u001b[0m \u001b[0mfake_useragent\u001b[0m \u001b[0;32mimport\u001b[0m \u001b[0mUserAgent\u001b[0m\u001b[0;34m\u001b[0m\u001b[0;34m\u001b[0m\u001b[0m\n\u001b[0m",
      "\u001b[0;31mModuleNotFoundError\u001b[0m: No module named 'fake_useragent'"
     ]
    }
   ],
   "source": [
    "from fake_useragent import UserAgent"
   ]
  },
  {
   "cell_type": "code",
   "execution_count": null,
   "metadata": {},
   "outputs": [],
   "source": [
    "headers = {\n",
    "    'user-agent': UserAgent().chrome,\n",
    "    'referer': 'https://new.land.naver.com/complexes?ms=37.637433,126.832359,15&a=APT:ABYG:JGC&e=RETAIL'\n",
    "} # 개발자 도구에서 header 정보에서 확인 가능\n",
    "\n",
    "response = requests.get(url, headers = headers) \n",
    "response"
   ]
  },
  {
   "cell_type": "code",
   "execution_count": null,
   "metadata": {},
   "outputs": [],
   "source": [
    "response.text #JSON 타입 테이블로 크롤링됨."
   ]
  },
  {
   "cell_type": "code",
   "execution_count": null,
   "metadata": {},
   "outputs": [],
   "source": [
    "data = response.json()"
   ]
  },
  {
   "cell_type": "code",
   "execution_count": null,
   "metadata": {},
   "outputs": [],
   "source": [
    "result_df = pd.DataFrame(data) # Pandas로 데이터프레임화\n",
    "result_df.tail()\n",
    "# result_df.to_csv('real_estate.csv') # CSV 파일로 저장"
   ]
  },
  {
   "cell_type": "code",
   "execution_count": null,
   "metadata": {},
   "outputs": [],
   "source": []
  }
 ],
 "metadata": {
  "kernelspec": {
   "display_name": "Python 3",
   "language": "python",
   "name": "python3"
  },
  "language_info": {
   "codemirror_mode": {
    "name": "ipython",
    "version": 3
   },
   "file_extension": ".py",
   "mimetype": "text/x-python",
   "name": "python",
   "nbconvert_exporter": "python",
   "pygments_lexer": "ipython3",
   "version": "3.7.6"
  }
 },
 "nbformat": 4,
 "nbformat_minor": 2
}
