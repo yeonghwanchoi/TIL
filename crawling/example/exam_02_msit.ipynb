{
 "cells": [
  {
   "cell_type": "markdown",
   "metadata": {},
   "source": [
    "#### msit : 과학기술 정보통신부\n",
    "- https://msit.go.kr\n",
    "- 보도자료를 크롤링\n",
    "- json으로 데이터 수집\n",
    "- json 데이터 안에 html 코드가 들어있습니다."
   ]
  },
  {
   "cell_type": "code",
   "execution_count": 1,
   "metadata": {},
   "outputs": [],
   "source": [
    "import requests\n",
    "import pandas as pd\n",
    "from bs4 import BeautifulSoup"
   ]
  },
  {
   "cell_type": "code",
   "execution_count": 2,
   "metadata": {},
   "outputs": [],
   "source": [
    "page = 1\n",
    "url = \"https://www.msit.go.kr/dynamic/article/mssw311?\\\n",
    "&sort=operday=desc&below=false&pageout=true&aradon.result.format=json\\\n",
    "&aradon.page.pageNo={}&aradon.page.listNum=10&aradon.page.screenCount=5\\\n",
    "&aradon.referrer.href=https://msit.go.kr/web/msipContents/contents.do?mId=NzI=\"\\\n",
    ".format(page)"
   ]
  },
  {
   "cell_type": "code",
   "execution_count": 3,
   "metadata": {},
   "outputs": [
    {
     "data": {
      "text/plain": [
       "<Response [200]>"
      ]
     },
     "execution_count": 3,
     "metadata": {},
     "output_type": "execute_result"
    }
   ],
   "source": [
    "response = requests.get(url)\n",
    "response"
   ]
  },
  {
   "cell_type": "code",
   "execution_count": 4,
   "metadata": {},
   "outputs": [
    {
     "data": {
      "text/html": [
       "<div>\n",
       "<style scoped>\n",
       "    .dataframe tbody tr th:only-of-type {\n",
       "        vertical-align: middle;\n",
       "    }\n",
       "\n",
       "    .dataframe tbody tr th {\n",
       "        vertical-align: top;\n",
       "    }\n",
       "\n",
       "    .dataframe thead th {\n",
       "        text-align: right;\n",
       "    }\n",
       "</style>\n",
       "<table border=\"1\" class=\"dataframe\">\n",
       "  <thead>\n",
       "    <tr style=\"text-align: right;\">\n",
       "      <th></th>\n",
       "      <th>action</th>\n",
       "      <th>admin_p</th>\n",
       "      <th>artid</th>\n",
       "      <th>artsubject</th>\n",
       "      <th>artcont</th>\n",
       "    </tr>\n",
       "  </thead>\n",
       "  <tbody>\n",
       "    <tr>\n",
       "      <th>8</th>\n",
       "      <td>INS</td>\n",
       "      <td>지역과학기술진흥과</td>\n",
       "      <td>2937334</td>\n",
       "      <td>2020년도 하반기 강소특구 지정을 위한 지역 최종(안) 발표</td>\n",
       "      <td>&lt;p&gt;&amp;nbsp;&lt;/p&gt;\\r\\n&lt;p align=\"center\" style=\"marg...</td>\n",
       "    </tr>\n",
       "    <tr>\n",
       "      <th>9</th>\n",
       "      <td>INS</td>\n",
       "      <td>과학기술문화과</td>\n",
       "      <td>2937333</td>\n",
       "      <td>대중과 과학을 이어줄 과학문화 전문인력 양성 프로그램 운영</td>\n",
       "      <td>&lt;p&gt;&amp;nbsp;&lt;/p&gt;\\r\\n&lt;p align=\"center\" style=\"marg...</td>\n",
       "    </tr>\n",
       "  </tbody>\n",
       "</table>\n",
       "</div>"
      ],
      "text/plain": [
       "  action    admin_p    artid                          artsubject  \\\n",
       "8    INS  지역과학기술진흥과  2937334  2020년도 하반기 강소특구 지정을 위한 지역 최종(안) 발표   \n",
       "9    INS    과학기술문화과  2937333    대중과 과학을 이어줄 과학문화 전문인력 양성 프로그램 운영   \n",
       "\n",
       "                                             artcont  \n",
       "8  <p>&nbsp;</p>\\r\\n<p align=\"center\" style=\"marg...  \n",
       "9  <p>&nbsp;</p>\\r\\n<p align=\"center\" style=\"marg...  "
      ]
     },
     "execution_count": 4,
     "metadata": {},
     "output_type": "execute_result"
    }
   ],
   "source": [
    "datas = response.json()[\"result\"][\"nodes\"]\n",
    "columns = [\"action\", \"admin_p\", \"artid\", \"artsubject\", \"artcont\"]\n",
    "msit_df = pd.DataFrame(datas)[columns]\n",
    "msit_df.tail(2)"
   ]
  },
  {
   "cell_type": "code",
   "execution_count": 5,
   "metadata": {},
   "outputs": [
    {
     "data": {
      "text/plain": [
       "'<p>&nbsp;</p>\\r\\n<p align=\"center\" style=\"margin: 0px 0px 10px; text-align: center; line-height: 150%;\"><b><span style=\"line-height: 150%; font-size: 14pt;\">한-독일, 과학</span></b><b><span style=\"line-height: 150%; font-family: MS Gothic; font-size: 14pt;\">‧</span></b><b><span style=\"line-height: 150%; font-size: 14pt;\">산업기술 협력 기지개를 펴다</span></b></p>\\r\\n<p align=\"center\" style=\"margin: 0px 0px 10px; text-align: center; line-height: 150%;\"><span style=\"line-height: 150%; font-size: 11pt;\">&nbsp;</span></p>\\r\\n<p align=\"center\" style=\"margin: 0px 0px 10px; text-align: center; line-height: 150%;\"><span style=\"line-height: 150%; font-size: 11pt;\">- </span><span style=\"line-height: 150%; font-size: 11pt;\">제6차 한-독 과학산업기술공동위 개최 (6.23, 화상) -</span></p>\\r\\n<p align=\"center\" style=\"margin: 0px 0px 10px; text-align: center; line-height: 150%;\"><span style=\"line-height: 150%; font-size: 11pt;\">- NST</span><span style=\"line-height: 150%; font-family: MS Gothic; font-size: 11pt;\">‧</span><span style=\"line-height: 150%; font-size: 11pt;\">율리히연구소 업무협약, 막스플랑크 연수프로그램 확대 등 -</span></p>\\r\\n<p style=\"margin: 0px 0px 10px; line-height: 150%;\"><span style=\"line-height: 150%; font-size: 11pt;\">&nbsp;</span></p>\\r\\n<p style=\"margin: 0px 0px 10px; line-height: 150%;\"><span style=\"line-height: 150%; font-size: 11pt;\">□ 과학기술정보통신부(장관 최기영, 이하\\r\\n&lsquo;과기정통부&rsquo;)와 산업통상자원부(장관 성윤모, 이하 &lsquo;산업부&rsquo;)는 독일 연방교육연구부와 공동으로 <b>6월 23일 제6차 한-독 과학산업기술공동위원회를\\r\\n화상으로 개최</b>하였다고 밝혔다.</span></p>\\r\\n<p style=\"margin: 0px 0px 10px; line-height: 150%;\"><span style=\"line-height: 150%; font-size: 11pt;\">&nbsp;</span></p>\\r\\n<p style=\"margin: 0px 0px 10px; line-height: 150%;\"><span style=\"line-height: 150%; font-size: 11pt;\">ㅇ 본 공동위는 1986년 체결된 한-독\\r\\n과기협력협정에 따라 <b>양국의 과학산업기술 정책 교류, 공동연구 협력, 연구기관 간 협력을 촉진</b>하기 위하여 2007년부터 운영중이다.</span></p>\\r\\n<p style=\"margin: 0px 0px 10px; line-height: 150%;\"><span style=\"line-height: 150%; font-size: 11pt;\">&nbsp;</span></p>\\r\\n<p style=\"margin: 0px 0px 10px; line-height: 150%;\"><span style=\"line-height: 150%; font-size: 11pt;\">ㅇ 이번 공동위는 한국 측에서는 과기정통부 정희권 국제협력관이, 독일\\r\\n측에서는 연방교육연구부 수산네 부르거(Susanne Burger) 국제협력국장이 수석대표로 회의를 주재하였다.</span></p>\\r\\n<p style=\"margin: 0px 0px 10px; line-height: 150%;\"><span style=\"line-height: 150%; font-size: 11pt;\">&nbsp;</span></p>\\r\\n<p style=\"margin: 0px 0px 10px; line-height: 150%;\"><span style=\"line-height: 150%; font-size: 11pt;\">□ 한-독 과학산업기술공동위(이하\\r\\n&lsquo;공동위&rsquo;)는 2015년\\r\\n독일에서 5차 회의가 개최된 이후 5년 만에 다시 열린 공동위로서, <b>코로나19로 인해 인적 교류에 어려움을 겪는 상황</b>에서도<b>비대면 회의를 통해 양자 간 과학</b></span><b><span style=\"line-height: 150%; font-family: MS Gothic; font-size: 11pt;\">‧</span></b><b><span style=\"line-height: 150%; font-size: 11pt;\">산업기술 협력 활동을 재개하는데 의미</span></b><span style=\"line-height: 150%; font-size: 11pt;\">가 있다.</span></p>\\r\\n<p style=\"margin: 0px 0px 10px; line-height: 150%;\"><span style=\"line-height: 150%; font-size: 11pt;\">□ 이번 공동위에서는 양측의 연구개발 정책과 과학기술 중점사항에 대한 정보를 공유하고, 그간 진행되었던 협력 사업들의 평가, 신규 협력 활동을 제안하는\\r\\n자리를 가졌다.</span></p>\\r\\n<p style=\"margin: 0px 0px 10px; line-height: 150%;\"><span style=\"line-height: 150%; font-size: 11pt;\">&nbsp;</span></p>\\r\\n<p style=\"margin: 0px 0px 10px; line-height: 150%;\"><span style=\"line-height: 150%; font-size: 11pt;\">ㅇ 독일 연방교육연구부와 과기정통부, 산업부는 한-독 양국의 산업체, 주요 연구소 및 대학간 실용화 중심 기술협력을\\r\\n위해 기존<b> &lsquo;2+2형 공동연구 프로그램&rsquo;의 규모를 증액</b>(과제당 15만유로/연&rarr;20만유로/연)하고, <b>에너지 전환과 경량소재 분야에서 협력</b>하기로 합의하였다.</span></p>\\r\\n<p style=\"margin: 0px 0px 10px; line-height: 150%;\"><span style=\"line-height: 150%; font-size: 11pt;\">&nbsp;</span></p>\\r\\n<p style=\"margin: 0px 0px 10px; line-height: 150%;\"><span style=\"line-height: 150%; font-size: 11pt;\">ㅇ 또한, 독일 연방교육연구부는 한국과의 협력 유망분야로서 수소</span><span style=\"line-height: 150%; font-family: MS Gothic; font-size: 11pt;\">‧</span><span style=\"line-height: 150%; font-size: 11pt;\">에너지, 인공지능, 이동통신, 퇴행성\\r\\n질환 등 다양한 분야를 제안하였으며, 과기정통부는 <b>한-독\\r\\n과학기술협력 단계별 이행안(로드맵)을 수립</b>하여 해당\\r\\n분야를 포함한<b> 실질 협력이 이어지도록 지원</b>할 계획이다.</span></p>\\r\\n<p style=\"margin: 0px 0px 10px; line-height: 150%;\"><span style=\"line-height: 150%; font-size: 11pt;\">&nbsp;</span></p>\\r\\n<p style=\"margin: 0px 0px 10px; line-height: 150%;\"><span style=\"line-height: 150%; font-size: 11pt;\">ㅇ 주요 연구기관 별로 신규 협력에 대한 논의도 이어졌다. </span></p>\\r\\n<p style=\"margin: 0px 0px 10px; line-height: 150%;\"><span style=\"line-height: 150%; font-size: 11pt;\">&nbsp;</span></p>\\r\\n<p style=\"margin: 0px 0px 10px; line-height: 150%;\"><span style=\"line-height: 150%; font-size: 11pt;\">- </span><span style=\"line-height: 150%; font-size: 11pt;\">독일 측에서는 응용기술 분야 강점을 가진 프라운호퍼 연구협회와 거대연구 분야 강점을 가진 헬름홀츠 연구협회, 독일 연구재단과 독일 한림원(Leopoldina)에서 기존 협력\\r\\n사례와 신규 협력에 대한 계획을 발표하였다. </span></p>\\r\\n<p style=\"margin: 0px 0px 10px; line-height: 150%;\"><span style=\"line-height: 150%; font-size: 11pt;\">&nbsp;</span></p>\\r\\n<p style=\"margin: 0px 0px 10px; line-height: 150%;\"><span style=\"line-height: 150%; font-size: 11pt;\">- </span><span style=\"line-height: 150%; font-size: 11pt;\">특히, <b>노벨상 사관학교라 불리는 막스플랑크 연구소를 활용</b>하여 <b>기초과학 분야\\r\\n대학 학부생의 연구 연수(인턴십) 프로그램을 확대</b>하는데\\r\\n양국 정부가 긍정적으로 논의하였으며,</span></p>\\r\\n<p style=\"margin: 0px 0px 10px; line-height: 150%;\"><span style=\"line-height: 150%; font-size: 11pt;\">&nbsp;</span></p>\\r\\n<p style=\"margin: 0px 0px 10px; line-height: 150%;\"><span style=\"line-height: 150%; font-size: 11pt;\">- </span><span style=\"line-height: 150%; font-size: 11pt;\">한국의 <b>국가과학기술연구회는</b> 독일의 헬름홀츠 연구협회 소속 <b>율리히 연구소와의 양해각서(MoU)\\r\\n체결에 합의</b>하고, 앞으로 연구자 교류와 공동연구 추진 등 협력활동을 추진하기로 했다.</span></p>\\r\\n<p style=\"margin: 0px 0px 10px; line-height: 150%;\"><span style=\"line-height: 150%; font-size: 11pt;\">&nbsp;</span></p>\\r\\n<p style=\"margin: 0px 0px 10px; line-height: 150%;\"><span style=\"line-height: 150%; font-size: 11pt;\">- </span><span style=\"line-height: 150%; font-size: 11pt;\">아울러, 한국에너지기술평가원은 <b>에너지전환을 촉진</b>할 수 있는 재생에너지, 수소, 에너지효율 등 차세대 기술개발 및 상용화를 위해 <b>공동연구\\r\\n프로그램 신설을 통한 기술협력을 제안</b>하였다.</span></p>\\r\\n<p style=\"margin: 0px 0px 10px; line-height: 150%;\"><span style=\"line-height: 150%; font-size: 11pt;\">&nbsp;</span></p>\\r\\n<p style=\"margin: 0px 0px 10px; line-height: 150%;\"><span style=\"line-height: 150%; font-size: 11pt;\">□ 과기정통부 정희권 국제협력관은 &ldquo;이번 공동위를 통해 <b>독일과\\r\\n과학산업기술 협력을 위한 정부 간 논의의 장</b>이 다시 열렸다.&rdquo;며, </span></p>\\r\\n<p style=\"margin: 0px 0px 10px; line-height: 150%;\"><span style=\"line-height: 150%; font-size: 11pt;\">&nbsp;</span></p>\\r\\n<p style=\"margin: 0px 0px 10px; line-height: 150%;\"><span style=\"line-height: 150%; font-size: 11pt;\">ㅇ &ldquo;대학과 기업, 연구기관의\\r\\n협력이 활발한 독일과의 협력을 통해 <b>산</b></span><b><span style=\"line-height: 150%; font-family: MS Gothic; font-size: 11pt;\">‧</span></b><b><span style=\"line-height: 150%; font-size: 11pt;\">학</span></b><b><span style=\"line-height: 150%; font-family: MS Gothic; font-size: 11pt;\">‧</span></b><b><span style=\"line-height: 150%; font-size: 11pt;\">연의 혁신역량을\\r\\n강화하고, 미래 혁신 인재양성 등 지원의 노력</span></b><span style=\"line-height: 150%; font-size: 11pt;\">을 아끼지 않겠다.&rdquo;고 밝혔다.</span></p>\\r\\n<p style=\"margin: 0px 0px 10px; line-height: 150%;\"><span style=\"line-height: 150%; font-size: 11pt;\">&nbsp;</span></p>\\r\\n<p style=\"margin: 0px 0px 10px; line-height: 150%;\"><span style=\"line-height: 150%; font-size: 11pt;\">&nbsp;</span></p>'"
      ]
     },
     "execution_count": 5,
     "metadata": {},
     "output_type": "execute_result"
    }
   ],
   "source": [
    "msit_df[\"artcont\"][0]"
   ]
  },
  {
   "cell_type": "code",
   "execution_count": 6,
   "metadata": {},
   "outputs": [],
   "source": [
    "def html_to_text(html):\n",
    "    remove_words = [\"\\n\", \"\\xa0\", \"□\", \"\\r\"]\n",
    "    content = BeautifulSoup(html, \"html.parser\").text\n",
    "    for remove_word in remove_words:\n",
    "        content = content.replace(remove_word, \"\")\n",
    "    return content"
   ]
  },
  {
   "cell_type": "code",
   "execution_count": 7,
   "metadata": {},
   "outputs": [
    {
     "data": {
      "text/plain": [
       "'2019년도 정부R&D 예산총 20조 6,254억원 집행- 연구자 주도 기초연구사업 집행액 전년대비 19.6% 증가 - 과학기술정보통신부(장관 최기영, 이하‘과기정통부’)는 6월2'"
      ]
     },
     "execution_count": 7,
     "metadata": {},
     "output_type": "execute_result"
    }
   ],
   "source": [
    "content = html_to_text(msit_df[\"artcont\"][1])\n",
    "content[:100]"
   ]
  },
  {
   "cell_type": "code",
   "execution_count": 8,
   "metadata": {},
   "outputs": [
    {
     "data": {
      "text/html": [
       "<div>\n",
       "<style scoped>\n",
       "    .dataframe tbody tr th:only-of-type {\n",
       "        vertical-align: middle;\n",
       "    }\n",
       "\n",
       "    .dataframe tbody tr th {\n",
       "        vertical-align: top;\n",
       "    }\n",
       "\n",
       "    .dataframe thead th {\n",
       "        text-align: right;\n",
       "    }\n",
       "</style>\n",
       "<table border=\"1\" class=\"dataframe\">\n",
       "  <thead>\n",
       "    <tr style=\"text-align: right;\">\n",
       "      <th></th>\n",
       "      <th>action</th>\n",
       "      <th>admin_p</th>\n",
       "      <th>artid</th>\n",
       "      <th>artsubject</th>\n",
       "      <th>artcont</th>\n",
       "    </tr>\n",
       "  </thead>\n",
       "  <tbody>\n",
       "    <tr>\n",
       "      <th>8</th>\n",
       "      <td>INS</td>\n",
       "      <td>지역과학기술진흥과</td>\n",
       "      <td>2937334</td>\n",
       "      <td>2020년도 하반기 강소특구 지정을 위한 지역 최종(안) 발표</td>\n",
       "      <td>2020년도 하반기 강소특구 지정을 위한 지역 최종(안) 발표 2020년 하반기 강...</td>\n",
       "    </tr>\n",
       "    <tr>\n",
       "      <th>9</th>\n",
       "      <td>INS</td>\n",
       "      <td>과학기술문화과</td>\n",
       "      <td>2937333</td>\n",
       "      <td>대중과 과학을 이어줄 과학문화 전문인력 양성 프로그램 운영</td>\n",
       "      <td>대중 과학 소통의 다양성과 전문성을 키운다과학문화 산업을 이끌어 갈 원석을 찾습니다...</td>\n",
       "    </tr>\n",
       "  </tbody>\n",
       "</table>\n",
       "</div>"
      ],
      "text/plain": [
       "  action    admin_p    artid                          artsubject  \\\n",
       "8    INS  지역과학기술진흥과  2937334  2020년도 하반기 강소특구 지정을 위한 지역 최종(안) 발표   \n",
       "9    INS    과학기술문화과  2937333    대중과 과학을 이어줄 과학문화 전문인력 양성 프로그램 운영   \n",
       "\n",
       "                                             artcont  \n",
       "8  2020년도 하반기 강소특구 지정을 위한 지역 최종(안) 발표 2020년 하반기 강...  \n",
       "9  대중 과학 소통의 다양성과 전문성을 키운다과학문화 산업을 이끌어 갈 원석을 찾습니다...  "
      ]
     },
     "execution_count": 8,
     "metadata": {},
     "output_type": "execute_result"
    }
   ],
   "source": [
    "msit_df[\"artcont\"] = msit_df[\"artcont\"].apply(html_to_text)\n",
    "msit_df.tail(2)"
   ]
  },
  {
   "cell_type": "code",
   "execution_count": null,
   "metadata": {},
   "outputs": [],
   "source": []
  },
  {
   "cell_type": "code",
   "execution_count": null,
   "metadata": {},
   "outputs": [],
   "source": []
  },
  {
   "cell_type": "code",
   "execution_count": null,
   "metadata": {},
   "outputs": [],
   "source": []
  }
 ],
 "metadata": {
  "kernelspec": {
   "display_name": "Python 3",
   "language": "python",
   "name": "python3"
  },
  "language_info": {
   "codemirror_mode": {
    "name": "ipython",
    "version": 3
   },
   "file_extension": ".py",
   "mimetype": "text/x-python",
   "name": "python",
   "nbconvert_exporter": "python",
   "pygments_lexer": "ipython3",
   "version": "3.7.6"
  }
 },
 "nbformat": 4,
 "nbformat_minor": 2
}
