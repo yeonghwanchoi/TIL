{
 "cells": [
  {
   "cell_type": "markdown",
   "metadata": {},
   "source": [
    "### Gmarket 베스트 상품 200개 크롤링\n",
    "- 상품명, 원가, 판매가\n",
    "- 썸네일 이미지"
   ]
  },
  {
   "cell_type": "code",
   "execution_count": 1,
   "metadata": {},
   "outputs": [],
   "source": [
    "import requests\n",
    "from bs4 import BeautifulSoup"
   ]
  },
  {
   "cell_type": "code",
   "execution_count": 3,
   "metadata": {},
   "outputs": [],
   "source": [
    "response = requests.get(\"http://corners.gmarket.co.kr/Bestsellers\")\n",
    "dom = BeautifulSoup(response.content, \"html.parser\")"
   ]
  },
  {
   "cell_type": "code",
   "execution_count": 4,
   "metadata": {},
   "outputs": [
    {
     "data": {
      "text/plain": [
       "200"
      ]
     },
     "execution_count": 4,
     "metadata": {},
     "output_type": "execute_result"
    }
   ],
   "source": [
    "selector = \"#gBestWrap > div > div:nth-child(6) > div:nth-child(3) > ul > li\"\n",
    "elements = dom.select(selector)\n",
    "len(elements)"
   ]
  },
  {
   "cell_type": "code",
   "execution_count": 6,
   "metadata": {},
   "outputs": [],
   "source": [
    "# 코드, 제목, 링크, 원가, 판매가, 할인율"
   ]
  },
  {
   "cell_type": "code",
   "execution_count": 8,
   "metadata": {},
   "outputs": [
    {
     "data": {
      "text/plain": [
       "('645747315', '백설 찹쌀 호떡믹스 6개 골라담기+누르개증정')"
      ]
     },
     "execution_count": 8,
     "metadata": {},
     "output_type": "execute_result"
    }
   ],
   "source": [
    "elements[0].get(\"id\"), elements[0].select_one(\".itemname\").text"
   ]
  },
  {
   "cell_type": "code",
   "execution_count": 11,
   "metadata": {},
   "outputs": [
    {
     "data": {
      "text/plain": [
       "'10,900원'"
      ]
     },
     "execution_count": 11,
     "metadata": {},
     "output_type": "execute_result"
    }
   ],
   "source": [
    "elements[0].select_one(\".s-price\").text.strip().split(\"\\n\")[0]"
   ]
  },
  {
   "cell_type": "code",
   "execution_count": 14,
   "metadata": {},
   "outputs": [
    {
     "data": {
      "text/plain": [
       "<li class=\"first\" id=\"658210474\">\n",
       "<p class=\"no81\" id=\"no81\">81</p>\n",
       "<div class=\"thumb\">\n",
       "<a href=\"http://item.gmarket.co.kr/Item?goodscode=658210474\" onclick=\"pdsClickLog('200000680', 'Item', {'ASN': 81, 'goodsCode': '658210474'});\"><img alt=\"더루비-겨울신상/원피스/맨투맨/롱티셔츠/아동복\" class=\"lazy\" data-original=\"http://gdimg.gmarket.co.kr/658210474/still/300\" height=\"210\" src=\"http://image.gmarket.co.kr/challenge/neo_image/no_image.gif\" width=\"210\"/></a>\n",
       "</div>\n",
       "<!--div class=\"goods-view\">\n",
       "\t\t\t\t\t\t\t\t\t<a href=\"http://minishop.gmarket.co.kr/theruby1\"><span class=\"view\">판매자 다른상품 보기</span>더루비(TheRuby)</a>\n",
       "\t\t\t\t\t\t\t\t</div-->\n",
       "<a class=\"itemname\" href=\"http://item.gmarket.co.kr/Item?goodscode=658210474\" onclick=\"pdsClickLog('200000680', 'Item', {'ASN': 81, 'goodsCode': '658210474'});\">더루비-겨울신상/원피스/맨투맨/롱티셔츠/아동복</a>\n",
       "<div class=\"item_price\">\n",
       "<div class=\"o-price\"><span><span>22,800원</span></span></div>\n",
       "<div class=\"s-price\">\n",
       "<strong><span><span>18,800원</span></span></strong>\n",
       "<span><span class=\"sale\"></span><em>17%</em></span>\n",
       "</div>\n",
       "<div class=\"icon\">\n",
       "<img alt=\"무료배송\" src=\"http://pics.gmkt.kr/pc/ko/corner/gbest/ic_freeshipping.gif\"/>\n",
       "</div>\n",
       "</div>\n",
       "</li>"
      ]
     },
     "execution_count": 14,
     "metadata": {},
     "output_type": "execute_result"
    }
   ],
   "source": [
    "elements[80]"
   ]
  },
  {
   "cell_type": "code",
   "execution_count": 12,
   "metadata": {},
   "outputs": [
    {
     "data": {
      "text/html": [
       "<div>\n",
       "<style scoped>\n",
       "    .dataframe tbody tr th:only-of-type {\n",
       "        vertical-align: middle;\n",
       "    }\n",
       "\n",
       "    .dataframe tbody tr th {\n",
       "        vertical-align: top;\n",
       "    }\n",
       "\n",
       "    .dataframe thead th {\n",
       "        text-align: right;\n",
       "    }\n",
       "</style>\n",
       "<table border=\"1\" class=\"dataframe\">\n",
       "  <thead>\n",
       "    <tr style=\"text-align: right;\">\n",
       "      <th></th>\n",
       "      <th>code</th>\n",
       "      <th>price</th>\n",
       "      <th>title</th>\n",
       "    </tr>\n",
       "  </thead>\n",
       "  <tbody>\n",
       "    <tr>\n",
       "      <th>198</th>\n",
       "      <td>1687782101</td>\n",
       "      <td>81,900원</td>\n",
       "      <td>[지벤]ZB-171S/지벤/6인치안전화/방수내피/다이얼/230~300</td>\n",
       "    </tr>\n",
       "    <tr>\n",
       "      <th>199</th>\n",
       "      <td>156577461</td>\n",
       "      <td>7,900원</td>\n",
       "      <td>BYC/제임스딘外 남녀 내복/내의 기모 발열 남자 여자</td>\n",
       "    </tr>\n",
       "  </tbody>\n",
       "</table>\n",
       "</div>"
      ],
      "text/plain": [
       "           code    price                                   title\n",
       "198  1687782101  81,900원  [지벤]ZB-171S/지벤/6인치안전화/방수내피/다이얼/230~300\n",
       "199   156577461   7,900원          BYC/제임스딘外 남녀 내복/내의 기모 발열 남자 여자"
      ]
     },
     "execution_count": 12,
     "metadata": {},
     "output_type": "execute_result"
    }
   ],
   "source": [
    "datas = [] \n",
    "for element in elements:\n",
    "    datas.append({\n",
    "        \"code\": element.get(\"id\"),\n",
    "        \"title\": element.select_one(\".itemname\").text,\n",
    "        \"price\": element.select_one(\".s-price\").text.strip().split(\"\\n\")[0],\n",
    "    })\n",
    "items_df = pd.DataFrame(datas)\n",
    "items_df.tail(2)"
   ]
  },
  {
   "cell_type": "markdown",
   "metadata": {},
   "source": [
    "#### 이미지 다운받기"
   ]
  },
  {
   "cell_type": "code",
   "execution_count": 16,
   "metadata": {},
   "outputs": [
    {
     "data": {
      "text/html": [
       "<div>\n",
       "<style scoped>\n",
       "    .dataframe tbody tr th:only-of-type {\n",
       "        vertical-align: middle;\n",
       "    }\n",
       "\n",
       "    .dataframe tbody tr th {\n",
       "        vertical-align: top;\n",
       "    }\n",
       "\n",
       "    .dataframe thead th {\n",
       "        text-align: right;\n",
       "    }\n",
       "</style>\n",
       "<table border=\"1\" class=\"dataframe\">\n",
       "  <thead>\n",
       "    <tr style=\"text-align: right;\">\n",
       "      <th></th>\n",
       "      <th>code</th>\n",
       "      <th>price</th>\n",
       "      <th>title</th>\n",
       "    </tr>\n",
       "  </thead>\n",
       "  <tbody>\n",
       "    <tr>\n",
       "      <th>0</th>\n",
       "      <td>645747315</td>\n",
       "      <td>10,900원</td>\n",
       "      <td>백설 찹쌀 호떡믹스 6개 골라담기+누르개증정</td>\n",
       "    </tr>\n",
       "    <tr>\n",
       "      <th>1</th>\n",
       "      <td>1548749955</td>\n",
       "      <td>6,900원</td>\n",
       "      <td>[키친아트]후라이팬 궁중팬 전사이즈 균일가</td>\n",
       "    </tr>\n",
       "    <tr>\n",
       "      <th>2</th>\n",
       "      <td>1469768688</td>\n",
       "      <td>9,900원</td>\n",
       "      <td>이경희 돼지국밥 600gx4팩 8인분 /11월 한정 특가</td>\n",
       "    </tr>\n",
       "    <tr>\n",
       "      <th>3</th>\n",
       "      <td>780027295</td>\n",
       "      <td>12,900원</td>\n",
       "      <td>쏭스타일 신상특가.롱티.루즈핏.기본티</td>\n",
       "    </tr>\n",
       "    <tr>\n",
       "      <th>4</th>\n",
       "      <td>1125855363</td>\n",
       "      <td>12,900원</td>\n",
       "      <td>[브라운물티슈]브라운 아기물티슈 오리지널 플러스 80매 캡 10팩</td>\n",
       "    </tr>\n",
       "  </tbody>\n",
       "</table>\n",
       "</div>"
      ],
      "text/plain": [
       "         code    price                                 title\n",
       "0   645747315  10,900원              백설 찹쌀 호떡믹스 6개 골라담기+누르개증정\n",
       "1  1548749955   6,900원               [키친아트]후라이팬 궁중팬 전사이즈 균일가\n",
       "2  1469768688   9,900원       이경희 돼지국밥 600gx4팩 8인분 /11월 한정 특가\n",
       "3   780027295  12,900원                  쏭스타일 신상특가.롱티.루즈핏.기본티\n",
       "4  1125855363  12,900원  [브라운물티슈]브라운 아기물티슈 오리지널 플러스 80매 캡 10팩"
      ]
     },
     "execution_count": 16,
     "metadata": {},
     "output_type": "execute_result"
    }
   ],
   "source": [
    "items_df.head()"
   ]
  },
  {
   "cell_type": "code",
   "execution_count": 19,
   "metadata": {},
   "outputs": [],
   "source": [
    "!mkdir datas"
   ]
  },
  {
   "cell_type": "code",
   "execution_count": 21,
   "metadata": {},
   "outputs": [],
   "source": [
    "def download(title, link):\n",
    "    \n",
    "    response = requests.get(link, stream=True)\n",
    "    path = \"datas/{}\".format(title)\n",
    "    \n",
    "    with open(path, \"wb\") as f:\n",
    "        for chunk in response.iter_content(chunk_size=1024):\n",
    "            if chunk:\n",
    "                f.write(chunk)"
   ]
  },
  {
   "cell_type": "code",
   "execution_count": 23,
   "metadata": {
    "collapsed": true
   },
   "outputs": [
    {
     "name": "stdout",
     "output_type": "stream",
     "text": [
      "백설 찹쌀 호떡믹스 6개 골라담기+누르개증정.png http://gdimg.gmarket.co.kr/645747315/still/300\n",
      "[키친아트]후라이팬 궁중팬 전사이즈 균일가.png http://gdimg.gmarket.co.kr/1548749955/still/300\n",
      "이경희 돼지국밥 600gx4팩 8인분 11월 한정 특가.png http://gdimg.gmarket.co.kr/1469768688/still/300\n",
      "쏭스타일 신상특가.롱티.루즈핏.기본티.png http://gdimg.gmarket.co.kr/780027295/still/300\n",
      "[브라운물티슈]브라운 아기물티슈 오리지널 플러스 80매 캡 10팩.png http://gdimg.gmarket.co.kr/1125855363/still/300\n",
      "[GFresh]청정해역 통영산 활가리비 2KG  1일 1000개 한정특가.png http://gdimg.gmarket.co.kr/433472486/still/300\n",
      "겨울신상 59009900원 원피스블라우스자켓티셔츠.png http://gdimg.gmarket.co.kr/669317096/still/300\n",
      "유니크한 신상티셔츠 모음 박스티레깅스무지티.png http://gdimg.gmarket.co.kr/738123731/still/300\n",
      "[코카콜라]코카콜라 190mlx30캔.png http://gdimg.gmarket.co.kr/1507538029/still/300\n",
      "밤볼라 FW신상 균일9900 부츠블로퍼힐.png http://gdimg.gmarket.co.kr/863780860/still/300\n",
      "에이블린 기모후드맨투맨롱원피스티셔츠롱스커트.png http://gdimg.gmarket.co.kr/1615409666/still/300\n",
      "[ahc]AHC 베스트 아이템 6900원 균일가.png http://gdimg.gmarket.co.kr/1699425175/still/300\n",
      "[동원에프앤비]동원 정식혜 238ml x 24캔  식혜캔.png http://gdimg.gmarket.co.kr/1337812102/still/300\n",
      "1+1 2장 1장당4750원 특가 보들보들수면바지.png http://gdimg.gmarket.co.kr/1693528093/still/300\n",
      "[에쓰오일](S-OIL) 모바일주유권 5만원 실시간발송 주유상품권.png http://gdimg.gmarket.co.kr/1574893346/still/300\n",
      "GP한일 워셔블 전기요 전기장판매트온열매트캠핑.png http://gdimg.gmarket.co.kr/128679065/still/300\n",
      "[라벨영]쇼킹 구리구리크림  2+1 Event발냄새+신발냄새 제거.png http://gdimg.gmarket.co.kr/1515912342/still/300\n",
      "[하림]하림 칼집낸 요리 비엔나 1kg+1kg +후랑크 80g.png http://gdimg.gmarket.co.kr/1568268456/still/300\n",
      "[칠성사이다]칠성사이다 190mlx30캔 (2박스 이상 주문시 박스포장).png http://gdimg.gmarket.co.kr/1506938840/still/300\n",
      "가을신상 남녀 인싸양말 중목롱장목발목골지무지.png http://gdimg.gmarket.co.kr/1561051668/still/300\n",
      "[현대]오늘 천연펄프100% 각티슈 180매 12개 박스포장.png http://gdimg.gmarket.co.kr/1470853134/still/300\n",
      "기모 맨투맨 티셔츠 오버핏 남자여자 단체티 빅사이즈.png http://gdimg.gmarket.co.kr/856191474/still/300\n",
      "로드블링 가을겨울 신상롱원피스기모맨투맨아우터.png http://gdimg.gmarket.co.kr/932044429/still/300\n",
      "[브라운물티슈]신생아 아기물티슈 프리미엄 72매 캡형 10+10팩 베스트.png http://gdimg.gmarket.co.kr/981416656/still/300\n",
      "겨울 주니어의류 기모팬츠 초등바지맨투맨방한내의.png http://gdimg.gmarket.co.kr/336394693/still/300\n",
      "[미스타셰프]미스타셰프 육개장 600g 4팩국즉석국즉석식품행사.png http://gdimg.gmarket.co.kr/1273323539/still/300\n",
      "[보뚜]석류즙 100 석류과즙100% 실속형 100포 1박스.png http://gdimg.gmarket.co.kr/1518171142/still/300\n",
      "오미자 양념 돼지불고기 1kg 총3kg2개구매냉면2인분증.png http://gdimg.gmarket.co.kr/1601415831/still/300\n",
      "겨울신상 한파특가~머플러목도리스카프 사은품증정.png http://gdimg.gmarket.co.kr/1688201811/still/300\n",
      "야무진고무장갑김장세차주방장갑 스트라이프 1+1.png http://gdimg.gmarket.co.kr/1652443844/still/300\n",
      "트레이닝바지 극세사 융털 수면바지 밍크 홈웨어.png http://gdimg.gmarket.co.kr/1686097835/still/300\n",
      "업계를 리드하는 기업 3SK택배박스.png http://gdimg.gmarket.co.kr/161267854/still/300\n",
      "사랑스런 울아이를 위한 독블리패드400매 1779d.png http://gdimg.gmarket.co.kr/1524647198/still/300\n",
      "[토니모리]중복쿠폰~ 토니모리 11월 빅세일  전품목~70% 외 1+1.png http://gdimg.gmarket.co.kr/705589608/still/300\n",
      "[박스포유]100%직접생산 박스포유 택배박스.png http://gdimg.gmarket.co.kr/153279336/still/300\n",
      "[소문난삼부자김]소문난삼부자 오부자 도시락김5g 72봉본사직송  실속.png http://gdimg.gmarket.co.kr/1579120887/still/300\n",
      "제주깨비농원 고당도 황금향 4.5kg.png http://gdimg.gmarket.co.kr/1700634710/still/300\n",
      "[올바르게]올청 변기세정제 변기클리너 45g x 40개 변기청소.png http://gdimg.gmarket.co.kr/1672950285/still/300\n",
      "[하림]하림 냉장 닭볶음탕용 600g 2봉  닭갈비 찜닭.png http://gdimg.gmarket.co.kr/1520805340/still/300\n",
      "최상급 통통생굴 1Kg  단 하루 1000개 한정 무배특가.png http://gdimg.gmarket.co.kr/196170364/still/300\n",
      "[베이비베이비]베이비베이비 아기물티슈 트윙클120매 20팩 캡형.png http://gdimg.gmarket.co.kr/1501667618/still/300\n",
      "루알라키즈 겨울신상본딩데님남아여아청바지.png http://gdimg.gmarket.co.kr/866300733/still/300\n",
      "[에스플러스]19 FW 구스다운 패딩점퍼 캐시브러쉬 코트 4종택1 TG9W0-MIH050.png http://gdimg.gmarket.co.kr/1698842398/still/300\n",
      "[맥심]모카골드 커피믹스 160T+160T +키티버니포니 무릎담요.png http://gdimg.gmarket.co.kr/1103681365/still/300\n",
      "[지오다노]지오다노 푸파경량패딩플리스맨투맨 外 겨울세일.png http://gdimg.gmarket.co.kr/1147877152/still/300\n",
      "시크루즈기모원피스티셔츠니트빅사이즈.png http://gdimg.gmarket.co.kr/1430266775/still/300\n",
      "베르나차 텀블러 1+1 4종 보온병보온물병스텐물병.png http://gdimg.gmarket.co.kr/1164083584/still/300\n",
      "더다다 겨울신상 빅사이즈 롱티셔츠셔츠원피스.png http://gdimg.gmarket.co.kr/627247117/still/300\n",
      "크링클컷 감자튀김 1kg + 스트레이트컷 1kg.png http://gdimg.gmarket.co.kr/1684034212/still/300\n",
      "[하림]하림 굿초이스 치킨너겟 1kg 2봉 +핫도그 90g.png http://gdimg.gmarket.co.kr/1512103222/still/300\n",
      "[에쓰오일](S-OIL) 모바일주유권 3만원 실시간발송 주유상품권.png http://gdimg.gmarket.co.kr/1574856283/still/300\n",
      "로벤탈키친아트 후라이팬 1+1+1 균일가.png http://gdimg.gmarket.co.kr/1199872616/still/300\n",
      "아보크  홈쇼핑 패딩슈즈(성인아동) 외 11종.png http://gdimg.gmarket.co.kr/866728402/still/300\n",
      "(15%추가할인) 하루 1분 두뇌 게임시리즈 2권 세트 선택 - 두뇌추리심리숫자그림게임 감성영어 외.png http://gdimg.gmarket.co.kr/1469579784/still/300\n",
      "라이프모어 여성 반바지레깅스外티셔츠 헬스 운동복.png http://gdimg.gmarket.co.kr/1121652480/still/300\n",
      "올리(Ollie) 여성 겨울 털 부츠 패딩 방한화 모음.png http://gdimg.gmarket.co.kr/867694342/still/300\n",
      "남성용 후드 니트 가디건 슬림핏 4색상.png http://gdimg.gmarket.co.kr/1695142509/still/300\n",
      "윤남텍 간편세척 초음파 다목적 가습기YN-101G마켓.png http://gdimg.gmarket.co.kr/178721817/still/300\n",
      "요즘에  기모청바지슬랙스빅사이즈10%추가할인.png http://gdimg.gmarket.co.kr/189842449/still/300\n",
      "글램공감노와이어 속옷세트A~D컵브라팬티세트.png http://gdimg.gmarket.co.kr/247211634/still/300\n",
      "빵빵 친구들+칙칙폭폭 꿈의 기차 전4권(친구가 샘내는책 시리즈).png http://gdimg.gmarket.co.kr/1700772885/still/300\n",
      "[일동후디스]하이키드 밀크 600g.png http://gdimg.gmarket.co.kr/1217922915/still/300\n",
      "[뱅뱅]패딩1만구스2만플리스 9천원대 최대86%+무배.png http://gdimg.gmarket.co.kr/1605898410/still/300\n",
      "NnF 벨벳 기모 트레이닝 3종.png http://gdimg.gmarket.co.kr/1685454240/still/300\n",
      "[프로월드컵]겨울필수 티셔츠 플리스자켓 경량패딩 여성 목폴라.png http://gdimg.gmarket.co.kr/1496874108/still/300\n",
      "[스위스밀리터리]아동주니어 패딩 후리스 기모 바지 팬츠 상하복 의류.png http://gdimg.gmarket.co.kr/1688877284/still/300\n",
      "[아침농산]국산 농부의아침 백미10kg 2019년산 햅쌀.png http://gdimg.gmarket.co.kr/484828506/still/300\n",
      "[HP]HP A4 복사용지(A4용지) 80g 2500매 2BOX더블에이.png http://gdimg.gmarket.co.kr/782096663/still/300\n",
      "아트조이 DIY 고급 명화그리기 키트 + 특별 사은품.png http://gdimg.gmarket.co.kr/629102692/still/300\n",
      "김장 절임배추 20kg  전남 해남 해수 절임배추.png http://gdimg.gmarket.co.kr/1506268053/still/300\n",
      "[HP]HP A4 복사용지(A4용지) 75g 2500매 2BOX더블에이.png http://gdimg.gmarket.co.kr/230690388/still/300\n",
      "HAPPYDAY 핫팩 군용60매포켓100매파스형90매.png http://gdimg.gmarket.co.kr/414344802/still/300\n",
      "아디다스 외 스포츠의류팬츠운동화잡화 모음.png http://gdimg.gmarket.co.kr/1393321384/still/300\n",
      "[에버라스트]역대급85%기모트레이닝복세트후드맨투맨+20%쿠폰.png http://gdimg.gmarket.co.kr/671471434/still/300\n",
      "[에이지투웨니스]에이지투웨니스 에센스커버팩트 올뉴시즌3 XF LX XP .png http://gdimg.gmarket.co.kr/276995152/still/300\n",
      "[도리도리]도리도리 아기물티슈 100매캡 10팩+10팩 특가.png http://gdimg.gmarket.co.kr/1189236639/still/300\n",
      "[홈스타]홈스타 착붙는락스 500ml 4개.png http://gdimg.gmarket.co.kr/1679180629/still/300\n",
      "수라간 쌀 20kg당일도정 2019년산 햅쌀갓수확 출시.png http://gdimg.gmarket.co.kr/1505174222/still/300\n",
      "[브라운물티슈]브라운 아기물티슈 오리지널 플러스 80매 캡 10+10팩.png http://gdimg.gmarket.co.kr/1512349188/still/300\n",
      "[화이트]입는오버나이트 대형 8매X2팩생리대 증정.png http://gdimg.gmarket.co.kr/1655701272/still/300\n",
      "더루비-겨울신상원피스맨투맨롱티셔츠아동복.png http://gdimg.gmarket.co.kr/658210474/still/300\n",
      "[다온샵]리얼할인 기모일자청바지 빅사이즈스키니슬랙스밴딩.png http://gdimg.gmarket.co.kr/373058782/still/300\n",
      "[맥심]맥심 화이트 골드 커피믹스 320T +키티버니 담요증정.png http://gdimg.gmarket.co.kr/1101174029/still/300\n",
      "NEW땡큐 화장지 (30롤 x 2팩)  3겹 두루마리 휴지.png http://gdimg.gmarket.co.kr/1321028651/still/300\n",
      "쁘띠뮤 겨울 기모상하복원피스레깅스점퍼 50종.png http://gdimg.gmarket.co.kr/946176130/still/300\n",
      "C 닌텐도 포켓몬스터 소드 한글판.png http://gdimg.gmarket.co.kr/1680276350/still/300\n",
      "2019 고래사 프리미엄 어묵세트.png http://gdimg.gmarket.co.kr/1633534044/still/300\n",
      "[이디야커피](스마일클럽) 1만원권.png http://gdimg.gmarket.co.kr/1677292017/still/300\n",
      "[맘스네이처]100% 대나무 캐릭터 아기타올  아기목욕타올.png http://gdimg.gmarket.co.kr/581521278/still/300\n",
      "[3M]3M슈퍼그립 10켤레  3M장갑 코팅 반코팅 면 목장갑 +.png http://gdimg.gmarket.co.kr/577775568/still/300\n",
      "퍼스트클로 기모레깅스1+1빅사이즈롱치마팬츠4XL.png http://gdimg.gmarket.co.kr/974668803/still/300\n",
      "[맥심]화이트골드 커피믹스 160T+160T 커피 +무릎담요.png http://gdimg.gmarket.co.kr/1103688403/still/300\n",
      "[퍼실]퍼실 프로페셔널 대용량 액체세탁세제9L 드럼일반겸용.png http://gdimg.gmarket.co.kr/1155478028/still/300\n",
      "겨울신발방한화운동화트레킹화 모두 9900원 균일가.png http://gdimg.gmarket.co.kr/1677128844/still/300\n",
      "프롬산타 남자여자 도톰한 겨울양말 니트 발목 덧신.png http://gdimg.gmarket.co.kr/1107162855/still/300\n",
      "베베앙 아기물티슈  시그니처 대용량 100매 캡형 10팩.png http://gdimg.gmarket.co.kr/1604479096/still/300\n",
      "[백산수]백산수 2L 12병  생수전문배송.png http://gdimg.gmarket.co.kr/1652912932/still/300\n",
      "19년도 햅쌀 농부의미소 20KG쌀포  지마켓.png http://gdimg.gmarket.co.kr/1487846528/still/300\n",
      "[핫앤핫]프리미엄 핫앤핫 핫팩 美FDA등록 군용 보온대붙이는.png http://gdimg.gmarket.co.kr/318156411/still/300\n",
      "[미스타셰프]미스타셰프 버섯뚝배기불고기 4팩간편식행사.png http://gdimg.gmarket.co.kr/1553361567/still/300\n",
      "김하진가마솥꼬리수육탕800g 11팩.png http://gdimg.gmarket.co.kr/1538152734/still/300\n",
      "라탄패턴 물빠짐 수저통 1+1 외 주방용품 50종+사은품.png http://gdimg.gmarket.co.kr/1690804908/still/300\n",
      "특가 전라도 황토 절임배추 20kg 산지직송.png http://gdimg.gmarket.co.kr/867549529/still/300\n",
      "[크록스]크록스로 겨울나기 up to 56% 특별할인 (G191114).png http://gdimg.gmarket.co.kr/753773769/still/300\n",
      "[테크]테크 베이킹구연산 액체세제 일반 리필  1.8L 4개.png http://gdimg.gmarket.co.kr/1626701413/still/300\n"
     ]
    },
    {
     "name": "stdout",
     "output_type": "stream",
     "text": [
      "[아디다스][대구백화점 I관] [아디다스]레깅스 4종택1(DN8406 CW5076 DU2040 DU0007).png http://gdimg.gmarket.co.kr/1685529772/still/300\n",
      "우리 아이 첫 호기심 사전궁금하면 열어 봐+우리 몸이 궁금하면 열어 봐 전2권.png http://gdimg.gmarket.co.kr/1702970867/still/300\n",
      "[참도깨비]어묵장인 박경도의 어묵탕 X5봉소스포함한끼어묵탕.png http://gdimg.gmarket.co.kr/1528487951/still/300\n",
      "[벨리에르]푹신한 극세사 토퍼 (퀸).png http://gdimg.gmarket.co.kr/1142846528/still/300\n",
      "이니스프리 마스크 5+5  아이브로우 선크림 1+1.png http://gdimg.gmarket.co.kr/1636980511/still/300\n",
      "HACCP 인증 친정엄마의 마음 친정 포기김치  10kg.png http://gdimg.gmarket.co.kr/1692158607/still/300\n",
      "[피스넷]USB 충전식 손난로 피스넷 페블 휴대용 핫팩 블랙 1+1.png http://gdimg.gmarket.co.kr/1134977814/still/300\n",
      "[테이트][모다아울렛][테이트] FW 코트자켓外 46종 특가 .png http://gdimg.gmarket.co.kr/1602387273/still/300\n",
      "[시크릿데이]시크릿데이 생리대 중 대형 오버나이트 팬티라이너.png http://gdimg.gmarket.co.kr/291472256/still/300\n",
      "[센트룸]빠른직구 2개 센트룸 실버 275 외 우먼 맨 멀티비타민.png http://gdimg.gmarket.co.kr/1416481053/still/300\n",
      "국산 가을 유아.아동.주니어 내의내복실내복잠옷.png http://gdimg.gmarket.co.kr/127255824/still/300\n",
      "미나롱패딩 NEW 훼르자 헤비롱패딩 패딩조끼 후리스.png http://gdimg.gmarket.co.kr/1148453609/still/300\n",
      "판매1위 군용핫팩 마이핫보온대 50매 손일병핫팩.png http://gdimg.gmarket.co.kr/640112169/still/300\n",
      "(파격특가) 볼레로 BOLERO 천연소가죽 기모 여성 캐주얼부츠.png http://gdimg.gmarket.co.kr/1703169494/still/300\n",
      "[잘풀리는집]순수PURE 천연펄프 25m30롤 x3팩휴지화장지.png http://gdimg.gmarket.co.kr/1140075741/still/300\n",
      "핑크시슬리 BEST 아우터트레이닝코디SET원피스 외.png http://gdimg.gmarket.co.kr/539788560/still/300\n",
      "시스터 기모신상 빅사이즈55~88원피스롱티팬츠세트.png http://gdimg.gmarket.co.kr/1487774180/still/300\n",
      "[탑텐키즈](신세계마산점)MKZ4UI3902-MGP모달코튼온에어세트.png http://gdimg.gmarket.co.kr/1672419811/still/300\n",
      "특가 보드게임 174종 할리갈리루미큐브 무료배송.png http://gdimg.gmarket.co.kr/892384061/still/300\n",
      "[라벨영]쇼킹 립수면팩 1+1 입술각질+주름+굴곡이 앵두입술로.png http://gdimg.gmarket.co.kr/1515930333/still/300\n",
      "황금미가 20kg 19년산 햅쌀 (당일도정).png http://gdimg.gmarket.co.kr/858294811/still/300\n",
      "[맥심]맥심 모카골드  커피믹스 420T(210T+210T)  무료배송.png http://gdimg.gmarket.co.kr/816892885/still/300\n",
      "[CGV](CGV) 영화관람권 1매예매권영화티켓전일 사용가능.png http://gdimg.gmarket.co.kr/417507852/still/300\n",
      "[맥심]맥심 화이트골드 160T+160T 총320T커피믹스.png http://gdimg.gmarket.co.kr/966567303/still/300\n",
      "[릴리유]릴리유 퓨어핑크 아기물티슈 캡 72매 20팩.png http://gdimg.gmarket.co.kr/1693439805/still/300\n",
      "[GFresh]통통 다듬피홍합 5KG  따끈따끈 홍합탕용 500개 한정.png http://gdimg.gmarket.co.kr/1315998316/still/300\n",
      "기모 야무진 고무장갑김장세차주방장갑 기모 1+1.png http://gdimg.gmarket.co.kr/1681703722/still/300\n",
      "[Aura]아우라 섬유유연제 윌유메리미 5.5L.png http://gdimg.gmarket.co.kr/1526680274/still/300\n",
      "[비비고]비비고 볶음밥 4개 골라담기깍두기볶음밥.png http://gdimg.gmarket.co.kr/1466611796/still/300\n",
      "무형광천연펄프 종이컵2000개 6.5온스 꿀꺽꿀꺽컵.png http://gdimg.gmarket.co.kr/1460730897/still/300\n",
      "[갤럭시]핸드폰케이스 S10플러스 5G 노트10 노트9 노트8 S9 S8.png http://gdimg.gmarket.co.kr/1675104974/still/300\n",
      "통영 베네치아수산 통영 생굴 2kg 횟감용 당일조업.png http://gdimg.gmarket.co.kr/1509542704/still/300\n",
      "[마녀공장]스킨케어 특가전 비피다 80ml 대용량 한정판 출시.png http://gdimg.gmarket.co.kr/1571468785/still/300\n",
      "[네파]네파 넥워머 네이비 기모 방한용품 목도리 폴라.png http://gdimg.gmarket.co.kr/1133516363/still/300\n",
      "신상품 런칭기념 미엘물티슈 클래식 100매 캡형 20팩.png http://gdimg.gmarket.co.kr/1464502915/still/300\n",
      "(살림출판사)모 웰렘스 비둘기 시리즈 전6권+내 토끼 시리즈 전2권+공룡 세마리구성선택구매.png http://gdimg.gmarket.co.kr/1702969880/still/300\n",
      "[맥심]맥심 모카골드 커피믹스 320T +키티버니포니 담요증정.png http://gdimg.gmarket.co.kr/1101169778/still/300\n",
      "가정식 생포기김치10Kg 총각HACCP.png http://gdimg.gmarket.co.kr/173366583/still/300\n",
      "[예작][예작셔츠] 남성 일반핏 와이셔츠 16종 택1.png http://gdimg.gmarket.co.kr/1658971116/still/300\n",
      "[웨스팅하우스]웨스팅하우스 5.3리터 에어프라이어 튀김기 WHF053.png http://gdimg.gmarket.co.kr/1515774554/still/300\n",
      "[쏘피]한결 생리대 중형 16Px4팩.png http://gdimg.gmarket.co.kr/1524231563/still/300\n",
      "(테마별-꿈담인물책) 꿈을 담은 인물 그림책.png http://gdimg.gmarket.co.kr/1642095996/still/300\n",
      "스위트바니 겨울신상5900원~롱원피스티후드맨투맨.png http://gdimg.gmarket.co.kr/215673140/still/300\n",
      "[다이소]공식판매처택배박스봉투로고인쇄당일발송소량.png http://gdimg.gmarket.co.kr/526694228/still/300\n",
      "밍구 남아아동복기모아동세트바지상하복키즈의류.png http://gdimg.gmarket.co.kr/397074290/still/300\n",
      "[제이준]베스트 버라이어티팩 20매 外 +할인+쿠폰+증정.png http://gdimg.gmarket.co.kr/1373852914/still/300\n",
      "[빠른배송]맥심모카골드화이트골드 320T 선택1.png http://gdimg.gmarket.co.kr/1230207294/still/300\n",
      "[젤리스푼]아동복아동의류상하복원피스아동경량패딩레깅스.png http://gdimg.gmarket.co.kr/495818668/still/300\n",
      "[제주삼다수](행사) 제주삼다수 2L 12병(10+2)  생수전문배송.png http://gdimg.gmarket.co.kr/1699409706/still/300\n",
      "심리스팬티 5~10개 세트 심리스브라 무봉제 노라인.png http://gdimg.gmarket.co.kr/1574183462/still/300\n",
      "국내생산 종이컵 2000개 1Box특별기획상품.png http://gdimg.gmarket.co.kr/724874221/still/300\n",
      "[가나양말]남자 여자 발목 덧신 페이크삭스 뮬 블로퍼 샌들 양말.png http://gdimg.gmarket.co.kr/1462990483/still/300\n",
      "(1+1) 고밀도 극세사담요 밍크담요 무릎담요 캠핑담요.png http://gdimg.gmarket.co.kr/215422749/still/300\n",
      "달리샵 FW신상 원피스니트맨투맨자켓.png http://gdimg.gmarket.co.kr/201653087/still/300\n",
      "[트라이엄프](현대백화점)트라이엄프(TWB0473)  취향저격∼자연스럽게 모아주는 데일리 브라팬티7종택1.png http://gdimg.gmarket.co.kr/1696418150/still/300\n",
      "G etv 당일바리 반건오징어 10마리(2set구매시+초장340g증정).png http://gdimg.gmarket.co.kr/1686313844/still/300\n",
      "[투썸플레이스](투썸플레이스) 스트로베리 초콜릿 생크림.png http://gdimg.gmarket.co.kr/1575418926/still/300\n",
      "[스마트에코]스마트에코 물티슈 비바체 100매 20팩 리필형.png http://gdimg.gmarket.co.kr/1124651069/still/300\n",
      "[일월]초절전형 THE 70W 프리미엄 전기매트 싱글 170X70CM.png http://gdimg.gmarket.co.kr/1484575494/still/300\n",
      "[밀크]밀크 A4 복사용지 A4용지 복사지 75g 4000매(2박스).png http://gdimg.gmarket.co.kr/1461229245/still/300\n",
      "ALLMOM 브릿지 플라스틱 5단서랍장 사은품 증정이벤트.png http://gdimg.gmarket.co.kr/1509920451/still/300\n",
      "(추가할인)Disney Fun To Read K단계 세트 + Nursery   Playtime Rhymes 1 (B+CD).png http://gdimg.gmarket.co.kr/896197261/still/300\n",
      "NNF 남성 이지 알파카 니트점퍼.png http://gdimg.gmarket.co.kr/1703381311/still/300\n",
      "[락앤락]별자리 텀블러 400ml+선물가방 보냉병 보온병 물병.png http://gdimg.gmarket.co.kr/654342879/still/300\n",
      "메이시스 겨울니트 가디건코트기모티.png http://gdimg.gmarket.co.kr/1688200696/still/300\n",
      "[BYC]내의내복남자남성여자여성기모겨울발열.png http://gdimg.gmarket.co.kr/166590237/still/300\n",
      "[앤디애플]아동복티셔츠레깅스기모바지패딩경량코트내의.png http://gdimg.gmarket.co.kr/301110076/still/300\n",
      "[오르시떼][오르시떼] 아동잠옷 4종 택 1(갤러리아).png http://gdimg.gmarket.co.kr/1701522827/still/300\n",
      "KC인증 남성팬티 빅밴드 모달드로즈5장세트남성속옷.png http://gdimg.gmarket.co.kr/1692828334/still/300\n",
      "겨울기모 초딩팬츠 트레이닝티셔츠맨투맨집업.png http://gdimg.gmarket.co.kr/336405733/still/300\n",
      "[JCstyle]여성 티셔츠1+1수면바지빅사이즈롱티.png http://gdimg.gmarket.co.kr/867985738/still/300\n",
      "음료 모음전 사이다 콜라 커피 캔음료 팩음료 음료수.png http://gdimg.gmarket.co.kr/210840135/still/300\n",
      "(추가할인)Disney Fun To Read 1~3단계 세트 + 사은품.png http://gdimg.gmarket.co.kr/1484674773/still/300\n",
      "국민간식 맵닭 닭껍질튀김 500g+500g+500g.png http://gdimg.gmarket.co.kr/1689750249/still/300\n",
      "아이러브베베물티슈핑크100매캡형X20팩.png http://gdimg.gmarket.co.kr/1124083462/still/300\n",
      "[로지텍]로지텍코리아 G102 Prodigy 블랙 2년보증 정품.png http://gdimg.gmarket.co.kr/1693629033/still/300\n",
      "힐슈빌 신상 부츠 털부츠 털단화 패딩부츠 방한화신발.png http://gdimg.gmarket.co.kr/320522723/still/300\n",
      "[휠라]휠라 x 르까프 FW 트레이닝복 티셔츠자켓팬츠 특가.png http://gdimg.gmarket.co.kr/1299511904/still/300\n",
      "[컬리수]겨울 상하의 외 50종 기간한정 특가.png http://gdimg.gmarket.co.kr/1693651605/still/300\n",
      "행복미 20kg 쌀 19년산 (당일도정 박스포장).png http://gdimg.gmarket.co.kr/344820833/still/300\n",
      "[GFresh]섬들의 고향 신안  2019년 햇 새우1kg(35미~45미).png http://gdimg.gmarket.co.kr/707310424/still/300\n",
      "삼성 A4 복사용지 A4용지 복사지 75g 4000매.png http://gdimg.gmarket.co.kr/1532903952/still/300\n",
      "19년도 햅쌀 영양쌀 20kg.png http://gdimg.gmarket.co.kr/1680376048/still/300\n",
      "[구글플레이](카드가능) 기프트코드 5만원  구글 기프트카드.png http://gdimg.gmarket.co.kr/1655242060/still/300\n",
      "괴산절임배추20kg직접생산한 최상급 배추천일염.png http://gdimg.gmarket.co.kr/731813643/still/300\n",
      "[대웅모닝컴]전기히터전기난로 대웅 사방팔방 오방향난로(고급형).png http://gdimg.gmarket.co.kr/1516708797/still/300\n",
      "[오랄비]오랄비 잇몸케어 고탄력 초미세모 그린티 칫솔 12입 +.png http://gdimg.gmarket.co.kr/1646039377/still/300\n",
      "[예작]예작 신상품 긴팔와이셔츠 45종 택1 YJ9FBS105WH 외44종(갤러리아).png http://gdimg.gmarket.co.kr/1657135134/still/300\n",
      "[베베쿡]처음 먹는 배도라지 2BOX(40팩).png http://gdimg.gmarket.co.kr/1221574399/still/300\n",
      "[레이지카키]레이지카키 매직 기모 팬츠 4종.png http://gdimg.gmarket.co.kr/1701494613/still/300\n",
      "홍천약도라지청 100g   9병.png http://gdimg.gmarket.co.kr/1694675533/still/300\n",
      "[델라텍스](현대Hmall)[1114일 라텍스 방석 증정]1+1행사 천연라텍스 힐링베개_오가닉면 겉커버포함.png http://gdimg.gmarket.co.kr/1689459549/still/300\n",
      "NNF 여성 이지 알파카 니트점퍼.png http://gdimg.gmarket.co.kr/1703381284/still/300\n",
      "[지벤]ZB-171S지벤6인치안전화방수내피다이얼230~300.png http://gdimg.gmarket.co.kr/1687782101/still/300\n",
      "BYC제임스딘外 남녀 내복내의 기모 발열 남자 여자.png http://gdimg.gmarket.co.kr/156577461/still/300\n"
     ]
    }
   ],
   "source": [
    "for idx, row in items_df.iterrows():\n",
    "    link = \"http://gdimg.gmarket.co.kr/{}/still/300\".format(row[\"code\"])\n",
    "    title = row[\"title\"] + \".png\"\n",
    "    title = title.replace(\"/\", \"\")\n",
    "    print(title, link)\n",
    "    download(title, link)"
   ]
  },
  {
   "cell_type": "code",
   "execution_count": 25,
   "metadata": {},
   "outputs": [
    {
     "data": {
      "text/plain": [
       "200"
      ]
     },
     "execution_count": 25,
     "metadata": {},
     "output_type": "execute_result"
    }
   ],
   "source": [
    "imgs = !ls datas\n",
    "len(imgs)"
   ]
  },
  {
   "cell_type": "code",
   "execution_count": null,
   "metadata": {},
   "outputs": [],
   "source": []
  },
  {
   "cell_type": "code",
   "execution_count": null,
   "metadata": {},
   "outputs": [],
   "source": []
  },
  {
   "cell_type": "code",
   "execution_count": null,
   "metadata": {},
   "outputs": [],
   "source": []
  },
  {
   "cell_type": "code",
   "execution_count": null,
   "metadata": {},
   "outputs": [],
   "source": []
  },
  {
   "cell_type": "code",
   "execution_count": null,
   "metadata": {},
   "outputs": [],
   "source": []
  },
  {
   "cell_type": "code",
   "execution_count": null,
   "metadata": {},
   "outputs": [],
   "source": []
  },
  {
   "cell_type": "code",
   "execution_count": null,
   "metadata": {},
   "outputs": [],
   "source": []
  }
 ],
 "metadata": {
  "kernelspec": {
   "display_name": "Python 3",
   "language": "python",
   "name": "python3"
  },
  "language_info": {
   "codemirror_mode": {
    "name": "ipython",
    "version": 3
   },
   "file_extension": ".py",
   "mimetype": "text/x-python",
   "name": "python",
   "nbconvert_exporter": "python",
   "pygments_lexer": "ipython3",
   "version": "3.7.3"
  }
 },
 "nbformat": 4,
 "nbformat_minor": 2
}
