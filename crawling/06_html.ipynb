{
 "cells": [
  {
   "cell_type": "code",
   "execution_count": null,
   "metadata": {},
   "outputs": [],
   "source": [
    "크롤링\n",
    "브라우저 -------- 서버\n",
    "브라우저에서 서버의 어플리케이션으로 요청 request이고 url사용\n",
    "get방식으로 요청 서버에서 resoponse 이고 json형태의 문자열로 응답\n",
    "그후 딕셔너리 타입으로 변환해 사용\n",
    "\n",
    "이번엔 post 방법으로 html 형태로 resoponse를 해줌\n",
    "html bs오브젝트에 있는 함수로 html형태에서 원하는 \n",
    "문자열을 가져오는 함수가 있음 select 함수\n",
    "방법으로 css select가 필요\n",
    "\n",
    "3번째 방법으로 셀레니움\n",
    "\n",
    "page 크롤링 절차\n",
    "1웹서비스 분석 url을 얻어내는법\n",
    "2요청 응답 - 파이선 코드\n",
    "3받아온 것을 파싱 - 데이터 프레임화\n",
    "\n",
    "페이지 특징\n",
    "동적 페이지\n",
    "url 변하지 않지만 화면이 바뀌는 경우\n",
    "\n",
    "정적페이지\n",
    "페이지마다 url이 바뀌는 경우 \n",
    "\n",
    "url로 요청을 하면 html형태로 불러오고 추가적인 데이터를 요청하면 \n",
    "거기서 json 형태의 문자열 데이터로 서버에서 응답을 함\n",
    "\n",
    "url이 바뀌면 계속 html 형태로 계속 보내줌 그래서 bs오브젝트에 있는 \n",
    "함수로 html형태에서 원하는 문자열을 가져오는 함수를 사용해야함"
   ]
  },
  {
   "cell_type": "markdown",
   "metadata": {},
   "source": [
    "### 1. HTML\n",
    "- Hyper Text Markup Language의 약자\n",
    "- 웹 문서를 작성하는 마크업 언어\n",
    "- 웹페이지를 구성하는 언어\n",
    "    - HTML : 화면의 레이아웃이나 텍스트\n",
    "    - CSS : 화면의 색상 크기 등의 스타일 (css-selector)\n",
    "    - Javascript : 화면의 클릭, 드래그 등등의 이벤트"
   ]
  },
  {
   "cell_type": "code",
   "execution_count": null,
   "metadata": {},
   "outputs": [],
   "source": []
  },
  {
   "cell_type": "markdown",
   "metadata": {},
   "source": [
    "#### 1-1 HTML의 구성요소\n",
    "- Document\n",
    "    - 페이지 전체\n",
    "- Element\n",
    "    - 계층적 구조로 이루어져 있으며 모여서 Document를 이룸\n",
    "    - 시작 태그와 끝 태그로 구성\n",
    "- Tag\n",
    "    - 시작 태그와 끝 태그로 엘리먼트를 구성\n",
    "    - 시작 태그에는 여러가지 속성값들이 들어 있습니다.\n",
    "    - 태그와 태그 사이에는 문자열 데이터를 가질수 있습니다.\n",
    "    - 태그의 이름에 따라서 태그의 목적이 달라집니다.\n",
    "- Attribute\n",
    "    - 시작 태그 안에 포함되는 속성값\n",
    "    - id, class : 엘리먼트를 선택하기 위한 목적으로 만들어진 속성값\n",
    "    - 기타 등등"
   ]
  },
  {
   "cell_type": "code",
   "execution_count": 6,
   "metadata": {
    "scrolled": false
   },
   "outputs": [
    {
     "data": {
      "text/html": [
       "<div class=\"wrapper\">\n",
       "    <button id=\"btn-1\" class=\"bt no1\" type=\"button\" >HTML 1</button>\n",
       "    <button id=\"btn-2\" class=\"bt no2\" type=\"button\" style=\"color:red;\">HTML 2</button>\n",
       "</div>\n"
      ],
      "text/plain": [
       "<IPython.core.display.HTML object>"
      ]
     },
     "metadata": {},
     "output_type": "display_data"
    }
   ],
   "source": [
    "%%html\n",
    "<div class=\"wrapper\">\n",
    "    <button id=\"btn-1\" class=\"bt no1\" type=\"button\" >HTML 1</button>\n",
    "    <button id=\"btn-2\" class=\"bt no2\" type=\"button\" style=\"color:red;\">HTML 2</button>\n",
    "</div>"
   ]
  },
  {
   "cell_type": "markdown",
   "metadata": {},
   "source": [
    "#### 1-2 속성값\n",
    "- id\n",
    "    - 웹페이지에서 유일한 값\n",
    "- class\n",
    "    - 웹 페이지 내에서 여러가지의 값 사용이 가능\n",
    "    - 하나의 엘리먼트에 여러가지 값 사용이 가능"
   ]
  },
  {
   "cell_type": "markdown",
   "metadata": {},
   "source": [
    "#### 1-3 태그의 종류"
   ]
  },
  {
   "cell_type": "markdown",
   "metadata": {},
   "source": [
    "Head : 제목을 나타낼때 사용"
   ]
  },
  {
   "cell_type": "code",
   "execution_count": 7,
   "metadata": {},
   "outputs": [
    {
     "data": {
      "text/html": [
       "<h1>Python</h1>\n",
       "<h6>HTML</h6>\n"
      ],
      "text/plain": [
       "<IPython.core.display.HTML object>"
      ]
     },
     "metadata": {},
     "output_type": "display_data"
    }
   ],
   "source": [
    "%%html\n",
    "<h1>Python</h1>\n",
    "<h6>HTML</h6>"
   ]
  },
  {
   "cell_type": "markdown",
   "metadata": {},
   "source": [
    "p : 한줄의 문자열을 출력하기 위한 태그"
   ]
  },
  {
   "cell_type": "code",
   "execution_count": 8,
   "metadata": {},
   "outputs": [
    {
     "data": {
      "text/html": [
       "<p>파이썬의 재미있습니다.</p>\n",
       "<p>내일은 휴강입니다.</p>\n"
      ],
      "text/plain": [
       "<IPython.core.display.HTML object>"
      ]
     },
     "metadata": {},
     "output_type": "display_data"
    }
   ],
   "source": [
    "%%html\n",
    "<p>파이썬의 재미있습니다.</p>\n",
    "<p>내일은 휴강입니다.</p>"
   ]
  },
  {
   "cell_type": "markdown",
   "metadata": {},
   "source": [
    "span : 한블럭의 문자열을 출력"
   ]
  },
  {
   "cell_type": "code",
   "execution_count": 9,
   "metadata": {},
   "outputs": [
    {
     "data": {
      "text/html": [
       "<span>파이썬의 재미있습니다.</span>\n",
       "<span>내일은 휴강입니다.</span>\n"
      ],
      "text/plain": [
       "<IPython.core.display.HTML object>"
      ]
     },
     "metadata": {},
     "output_type": "display_data"
    }
   ],
   "source": [
    "%%html\n",
    "<span>파이썬의 재미있습니다.</span>\n",
    "<span>내일은 휴강입니다.</span>"
   ]
  },
  {
   "cell_type": "markdown",
   "metadata": {},
   "source": [
    "div : 레이아웃을 나타내는 태그, 가장 많이 사용"
   ]
  },
  {
   "cell_type": "code",
   "execution_count": 10,
   "metadata": {},
   "outputs": [
    {
     "data": {
      "text/html": [
       "<div>\n",
       "    <p>html 1</p>\n",
       "    <p>html 2</p>\n",
       "</div>\n",
       "<div>\n",
       "    <p>html 3</p>\n",
       "</div>\n"
      ],
      "text/plain": [
       "<IPython.core.display.HTML object>"
      ]
     },
     "metadata": {},
     "output_type": "display_data"
    }
   ],
   "source": [
    "%%html\n",
    "<div>\n",
    "    <p>html 1</p>\n",
    "    <p>html 2</p>\n",
    "</div>\n",
    "<div>\n",
    "    <p>html 3</p>\n",
    "</div>"
   ]
  },
  {
   "cell_type": "markdown",
   "metadata": {},
   "source": [
    "table : 로우와 컬럼이 있는 테이블 모양을 나타낼때 사용되는 태그"
   ]
  },
  {
   "cell_type": "code",
   "execution_count": 11,
   "metadata": {},
   "outputs": [
    {
     "data": {
      "text/html": [
       "<table>\n",
       "    <caption>테이블 제목</caption>\n",
       "    <thead>\n",
       "        <tr>\n",
       "            <th>코드</th>\n",
       "            <th>회사명</th>\n",
       "        </tr>\n",
       "    </thead>\n",
       "    <tbody>\n",
       "        <tr>\n",
       "            <td>0001</td>\n",
       "            <td>삼성전자</td>\n",
       "        </tr>\n",
       "        <tr>\n",
       "            <td>0002</td>\n",
       "            <td>SK하이닉스</td>\n",
       "        </tr>\n",
       "    </tbody>\n",
       "</table>\n"
      ],
      "text/plain": [
       "<IPython.core.display.HTML object>"
      ]
     },
     "metadata": {},
     "output_type": "display_data"
    }
   ],
   "source": [
    "%%html\n",
    "<table>\n",
    "    <caption>테이블 제목</caption>\n",
    "    <thead>\n",
    "        <tr>\n",
    "            <th>코드</th>\n",
    "            <th>회사명</th>\n",
    "        </tr>\n",
    "    </thead>\n",
    "    <tbody>\n",
    "        <tr>\n",
    "            <td>0001</td>\n",
    "            <td>삼성전자</td>\n",
    "        </tr>\n",
    "        <tr>\n",
    "            <td>0002</td>\n",
    "            <td>SK하이닉스</td>\n",
    "        </tr>\n",
    "    </tbody>\n",
    "</table>"
   ]
  },
  {
   "cell_type": "markdown",
   "metadata": {},
   "source": [
    "ul, li : 리스트를 나타내는 태그"
   ]
  },
  {
   "cell_type": "code",
   "execution_count": 14,
   "metadata": {},
   "outputs": [
    {
     "data": {
      "text/html": [
       "<ul>\n",
       "    <li>data 1</li>\n",
       "    <li>data 2</li>\n",
       "    <li>data 3</li>\n",
       "</ul>\n"
      ],
      "text/plain": [
       "<IPython.core.display.HTML object>"
      ]
     },
     "metadata": {},
     "output_type": "display_data"
    }
   ],
   "source": [
    "%%html\n",
    "<ul>\n",
    "    <li>data 1</li>\n",
    "    <li>data 2</li>\n",
    "    <li>data 3</li>\n",
    "</ul>"
   ]
  },
  {
   "cell_type": "markdown",
   "metadata": {},
   "source": [
    "a\n",
    "- 링크를 출력하는 태그\n",
    "- href 속성값에 이동할 URL 데이터를 넣습니다."
   ]
  },
  {
   "cell_type": "code",
   "execution_count": 15,
   "metadata": {},
   "outputs": [
    {
     "data": {
      "text/html": [
       "<a href=\"http://fastcampus.co.kr\" target=\"_blank\">FastCampus!</a>\n"
      ],
      "text/plain": [
       "<IPython.core.display.HTML object>"
      ]
     },
     "metadata": {},
     "output_type": "display_data"
    }
   ],
   "source": [
    "%%html\n",
    "<a href=\"http://fastcampus.co.kr\" target=\"_blank\">FastCampus!</a>"
   ]
  },
  {
   "cell_type": "code",
   "execution_count": 25,
   "metadata": {},
   "outputs": [
    {
     "data": {
      "text/html": [
       "<img style=\"width:200px;\" src=\"https://cdn.www.fastcampus.co.kr/wp-content/uploads/2017/11/fastcampus_logo_positive-1.png\">\n"
      ],
      "text/plain": [
       "<IPython.core.display.HTML object>"
      ]
     },
     "metadata": {},
     "output_type": "display_data"
    }
   ],
   "source": [
    "%%html\n",
    "<img style=\"width:200px;\" src=\"https://cdn.www.fastcampus.co.kr/wp-content/uploads/2017/11/fastcampus_logo_positive-1.png\">"
   ]
  },
  {
   "cell_type": "markdown",
   "metadata": {},
   "source": [
    "iframe : 외부 URL 링크의 페이지를 보여주기 위한 태그"
   ]
  },
  {
   "cell_type": "code",
   "execution_count": 1,
   "metadata": {},
   "outputs": [
    {
     "data": {
      "text/html": [
       "<iframe src=\"https://fastcampus.co.kr/\" width=\"100%\" height=\"400px;\"></iframe>\n"
      ],
      "text/plain": [
       "<IPython.core.display.HTML object>"
      ]
     },
     "metadata": {},
     "output_type": "display_data"
    }
   ],
   "source": [
    "%%html\n",
    "<iframe src=\"https://fastcampus.co.kr/\" width=\"100%\" height=\"400px;\"></iframe>"
   ]
  },
  {
   "cell_type": "markdown",
   "metadata": {},
   "source": [
    "input\n",
    "- text\n",
    "- password\n",
    "- radio\n",
    "- checkbox"
   ]
  },
  {
   "cell_type": "code",
   "execution_count": 28,
   "metadata": {},
   "outputs": [
    {
     "data": {
      "text/html": [
       "<input type=\"text\"></input>\n",
       "<input type=\"password\" placeholder=\"비밀번호\"></input>\n",
       "<input type=\"radio\" name=\"data\">radio 1</input>\n",
       "<input type=\"radio\" name=\"data\">radio 2</input>\n",
       "<input type=\"checkbox\">checkbox 1</input>\n"
      ],
      "text/plain": [
       "<IPython.core.display.HTML object>"
      ]
     },
     "metadata": {},
     "output_type": "display_data"
    }
   ],
   "source": [
    "%%html\n",
    "<input type=\"text\"></input>\n",
    "<input type=\"password\" placeholder=\"비밀번호\"></input>\n",
    "<input type=\"radio\" name=\"data\">radio 1</input>\n",
    "<input type=\"radio\" name=\"data\">radio 2</input>\n",
    "<input type=\"checkbox\">checkbox 1</input>"
   ]
  },
  {
   "cell_type": "markdown",
   "metadata": {},
   "source": [
    "select, option\n",
    "- 옵션을 선택할수 있는 드랍다운 형태의 태그"
   ]
  },
  {
   "cell_type": "code",
   "execution_count": 29,
   "metadata": {},
   "outputs": [
    {
     "data": {
      "text/html": [
       "<select>\n",
       "    <option>data 1</option>\n",
       "    <option>data 2</option>\n",
       "</select>\n"
      ],
      "text/plain": [
       "<IPython.core.display.HTML object>"
      ]
     },
     "metadata": {},
     "output_type": "display_data"
    }
   ],
   "source": [
    "%%html\n",
    "<select>\n",
    "    <option>data 1</option>\n",
    "    <option>data 2</option>\n",
    "</select>"
   ]
  }
 ],
 "metadata": {
  "kernelspec": {
   "display_name": "Python 3",
   "language": "python",
   "name": "python3"
  },
  "language_info": {
   "codemirror_mode": {
    "name": "ipython",
    "version": 3
   },
   "file_extension": ".py",
   "mimetype": "text/x-python",
   "name": "python",
   "nbconvert_exporter": "python",
   "pygments_lexer": "ipython3",
   "version": "3.7.6"
  }
 },
 "nbformat": 4,
 "nbformat_minor": 2
}
