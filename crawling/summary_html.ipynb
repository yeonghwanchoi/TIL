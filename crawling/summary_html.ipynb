{
 "cells": [
  {
   "cell_type": "markdown",
   "metadata": {},
   "source": [
    "### 1. HTML\n",
    "- 웹 문서를 작성하는 언어\n",
    "- Document\n",
    "    - HTML 코드를 구성하고 있는 모든 문자열 코드\n",
    "- Element\n",
    "    - Document를 구성하고 있는 단위\n",
    "    - 시작 Tag와 끝 Tag로 구성되어 있습니다.\n",
    "- Tag\n",
    "    - Element를 구성하는 단위\n",
    "    - Tag의 종류에 따라서 웹 서비스에서 사용되는 기능이 달라집니다.\n",
    "    - 시작 Tag에 속성값을 설정할수 있습니다.\n",
    "    - div, ul li, a, p, span, img, table\n",
    "- Attribute\n",
    "    - 시작태그에 태그의 속성을 설정하는 값\n",
    "    - id, class, 기타\n",
    "        - id : 웹페이지 내에서 유일한 값\n",
    "        - class : 페이지 내에서 같은 값 사용이 가능, 엘리먼트 내에서도 여러개 설정"
   ]
  },
  {
   "cell_type": "markdown",
   "metadata": {},
   "source": [
    "### 2. CSS Selector\n",
    "- HTML의 Element를 선택하기 위한 방법\n",
    "- Element를 선택하는 방법\n",
    "    - Tag : div\n",
    "    - id : #wrap\n",
    "    - class : .wrap\n",
    "    - attr : `[data=\"python\"]`\n",
    "- 혼합해서 사용 가능\n",
    "    - `div.wrap[data=\"python\"]`\n",
    "- not, nth-child\n",
    "    - .wrap:not(.python)\n",
    "    - #data > .wrap:nth-child(3)\n",
    "- 계층적구조로 선택\n",
    "    - #wrap > .txt : 바로 한단계 하위 엘리먼트에서 검색\n",
    "    - #wrap .txt : 모든 하위 엘리먼트에서 검색"
   ]
  }
 ],
 "metadata": {
  "kernelspec": {
   "display_name": "Python 3",
   "language": "python",
   "name": "python3"
  },
  "language_info": {
   "codemirror_mode": {
    "name": "ipython",
    "version": 3
   },
   "file_extension": ".py",
   "mimetype": "text/x-python",
   "name": "python",
   "nbconvert_exporter": "python",
   "pygments_lexer": "ipython3",
   "version": "3.7.3"
  }
 },
 "nbformat": 4,
 "nbformat_minor": 2
}
