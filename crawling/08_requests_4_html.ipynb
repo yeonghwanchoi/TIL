{
 "cells": [
  {
   "cell_type": "markdown",
   "metadata": {},
   "source": [
    "### HTML 데이터 파싱을 이용한 크롤링\n",
    "- 네이버 실시간 검색어 순위 \n",
    "    - HTML 포멧의 문자열을 가져오는 URL 찾음\n",
    "    - 요청 -> 응답(HTML 포멧(str)의 데이터를 저장)\n",
    "    - 데이터 파싱\n",
    "        - bs4 패키지의 BeautifulSoup 클래스를 이용해서 dom 객체를 생성\n",
    "        - dom 객체에서 우리가 원하는 데이터를 css-selector를 이용해서 수집\n",
    "        - 데이터 프레임으로 만들기"
   ]
  },
  {
   "cell_type": "code",
   "execution_count": 1,
   "metadata": {},
   "outputs": [],
   "source": [
    "import requests\n",
    "from bs4 import BeautifulSoup"
   ]
  },
  {
   "cell_type": "code",
   "execution_count": 6,
   "metadata": {},
   "outputs": [
    {
     "data": {
      "text/plain": [
       "<Response [200]>"
      ]
     },
     "execution_count": 6,
     "metadata": {},
     "output_type": "execute_result"
    }
   ],
   "source": [
    "# 1. requests 이용하여 HTML 코드 문자열 데이터 가져오기\n",
    "response = requests.get(\"https://www.naver.com/\")\n",
    "response"
   ]
  },
  {
   "cell_type": "code",
   "execution_count": 8,
   "metadata": {},
   "outputs": [],
   "source": [
    "# 2. BeautifulSoup을 이용하여 css selector를 사용할수 있는 객체로 파싱\n",
    "dom = BeautifulSoup(response.content, \"html.parser\")"
   ]
  },
  {
   "cell_type": "code",
   "execution_count": 13,
   "metadata": {},
   "outputs": [
    {
     "data": {
      "text/plain": [
       "20"
      ]
     },
     "execution_count": 13,
     "metadata": {},
     "output_type": "execute_result"
    }
   ],
   "source": [
    "# 3. css selector를 이용하여 원하는 데이터 수집\n",
    "# select : 여러개의 엘리먼트 객체들을 리스트로 가져옴\n",
    "# select_one : 하나의 엘리먼트 객체를 가져옴\n",
    "elements = dom.select(\".ah_roll_area > .ah_l > .ah_item\")\n",
    "len(elements)"
   ]
  },
  {
   "cell_type": "code",
   "execution_count": 16,
   "metadata": {},
   "outputs": [
    {
     "data": {
      "text/plain": [
       "(bs4.element.Tag, <li class=\"ah_item\">\n",
       " <a class=\"ah_a\" data-clk=\"lve.keyword\" href=\"#\">\n",
       " <span class=\"ah_r\">1</span>\n",
       " <span class=\"ah_k\">스텝업 입시부적</span>\n",
       " </a>\n",
       " </li>)"
      ]
     },
     "execution_count": 16,
     "metadata": {},
     "output_type": "execute_result"
    }
   ],
   "source": [
    "type(elements[0]), elements[0]"
   ]
  },
  {
   "cell_type": "code",
   "execution_count": 18,
   "metadata": {},
   "outputs": [
    {
     "data": {
      "text/plain": [
       "'스텝업 입시부적'"
      ]
     },
     "execution_count": 18,
     "metadata": {},
     "output_type": "execute_result"
    }
   ],
   "source": [
    "elements[0].select_one(\".ah_k\").text"
   ]
  },
  {
   "cell_type": "code",
   "execution_count": 19,
   "metadata": {},
   "outputs": [],
   "source": [
    "# 4. 수집한 데이터를 데이터 프레임으로 만들기"
   ]
  },
  {
   "cell_type": "code",
   "execution_count": 21,
   "metadata": {},
   "outputs": [
    {
     "data": {
      "text/html": [
       "<div>\n",
       "<style scoped>\n",
       "    .dataframe tbody tr th:only-of-type {\n",
       "        vertical-align: middle;\n",
       "    }\n",
       "\n",
       "    .dataframe tbody tr th {\n",
       "        vertical-align: top;\n",
       "    }\n",
       "\n",
       "    .dataframe thead th {\n",
       "        text-align: right;\n",
       "    }\n",
       "</style>\n",
       "<table border=\"1\" class=\"dataframe\">\n",
       "  <thead>\n",
       "    <tr style=\"text-align: right;\">\n",
       "      <th></th>\n",
       "      <th>keyword</th>\n",
       "      <th>rank</th>\n",
       "    </tr>\n",
       "  </thead>\n",
       "  <tbody>\n",
       "    <tr>\n",
       "      <th>17</th>\n",
       "      <td>김경수</td>\n",
       "      <td>18</td>\n",
       "    </tr>\n",
       "    <tr>\n",
       "      <th>18</th>\n",
       "      <td>수능 국어</td>\n",
       "      <td>19</td>\n",
       "    </tr>\n",
       "    <tr>\n",
       "      <th>19</th>\n",
       "      <td>목요일프렌즈타임</td>\n",
       "      <td>20</td>\n",
       "    </tr>\n",
       "  </tbody>\n",
       "</table>\n",
       "</div>"
      ],
      "text/plain": [
       "     keyword rank\n",
       "17       김경수   18\n",
       "18     수능 국어   19\n",
       "19  목요일프렌즈타임   20"
      ]
     },
     "execution_count": 21,
     "metadata": {},
     "output_type": "execute_result"
    }
   ],
   "source": [
    "datas = []\n",
    "\n",
    "for element in elements:\n",
    "    datas.append({\n",
    "        \"rank\": element.select_one(\".ah_r\").text,\n",
    "        \"keyword\": element.select_one(\".ah_k\").text,\n",
    "    })\n",
    "    \n",
    "naver_keywords = pd.DataFrame(datas)\n",
    "naver_keywords.tail(3)"
   ]
  },
  {
   "cell_type": "code",
   "execution_count": 22,
   "metadata": {},
   "outputs": [],
   "source": [
    "def naver_keywords():\n",
    "    \n",
    "    response = requests.get(\"https://www.naver.com/\")\n",
    "    dom = BeautifulSoup(response.content, \"html.parser\")\n",
    "    elements = dom.select(\".ah_roll_area > .ah_l > .ah_item\")\n",
    "    \n",
    "    datas = []\n",
    "    for element in elements:\n",
    "        datas.append({\n",
    "            \"rank\": element.select_one(\".ah_r\").text,\n",
    "            \"keyword\": element.select_one(\".ah_k\").text,\n",
    "        })\n",
    "    \n",
    "    return pd.DataFrame(datas)"
   ]
  },
  {
   "cell_type": "markdown",
   "metadata": {},
   "source": [
    "#### Quiz\n",
    "- 다음 실시간 검색어 순위 데이터 수집\n",
    "- https://daum.net\n",
    "- 네이버 실시간 검색어와 다음 실시간 검색어 중복 키워드 출력"
   ]
  },
  {
   "cell_type": "code",
   "execution_count": 28,
   "metadata": {},
   "outputs": [
    {
     "data": {
      "text/plain": [
       "<Response [200]>"
      ]
     },
     "execution_count": 28,
     "metadata": {},
     "output_type": "execute_result"
    }
   ],
   "source": [
    "response = requests.get(\"https://daum.net\")\n",
    "response"
   ]
  },
  {
   "cell_type": "code",
   "execution_count": 30,
   "metadata": {},
   "outputs": [],
   "source": [
    "dom = BeautifulSoup(response.content, \"html.parser\")"
   ]
  },
  {
   "cell_type": "code",
   "execution_count": 33,
   "metadata": {},
   "outputs": [
    {
     "data": {
      "text/plain": [
       "10"
      ]
     },
     "execution_count": 33,
     "metadata": {},
     "output_type": "execute_result"
    }
   ],
   "source": [
    "elements = dom.select(\".realtime_part > .list_hotissue.issue_row > li\")\n",
    "len(elements)"
   ]
  },
  {
   "cell_type": "code",
   "execution_count": 35,
   "metadata": {},
   "outputs": [
    {
     "name": "stdout",
     "output_type": "stream",
     "text": [
      "1위 수능 시간표\n"
     ]
    }
   ],
   "source": [
    "rank = elements[0].select_one(\".ir_wa\").text\n",
    "keyword = elements[0].select_one(\".link_issue\").text\n",
    "print(rank, keyword)"
   ]
  },
  {
   "cell_type": "code",
   "execution_count": 36,
   "metadata": {},
   "outputs": [
    {
     "data": {
      "text/html": [
       "<div>\n",
       "<style scoped>\n",
       "    .dataframe tbody tr th:only-of-type {\n",
       "        vertical-align: middle;\n",
       "    }\n",
       "\n",
       "    .dataframe tbody tr th {\n",
       "        vertical-align: top;\n",
       "    }\n",
       "\n",
       "    .dataframe thead th {\n",
       "        text-align: right;\n",
       "    }\n",
       "</style>\n",
       "<table border=\"1\" class=\"dataframe\">\n",
       "  <thead>\n",
       "    <tr style=\"text-align: right;\">\n",
       "      <th></th>\n",
       "      <th>keyword</th>\n",
       "      <th>rank</th>\n",
       "    </tr>\n",
       "  </thead>\n",
       "  <tbody>\n",
       "    <tr>\n",
       "      <th>8</th>\n",
       "      <td>수능 수학</td>\n",
       "      <td>9위</td>\n",
       "    </tr>\n",
       "    <tr>\n",
       "      <th>9</th>\n",
       "      <td>수능 국어</td>\n",
       "      <td>10위</td>\n",
       "    </tr>\n",
       "  </tbody>\n",
       "</table>\n",
       "</div>"
      ],
      "text/plain": [
       "  keyword rank\n",
       "8   수능 수학   9위\n",
       "9   수능 국어  10위"
      ]
     },
     "execution_count": 36,
     "metadata": {},
     "output_type": "execute_result"
    }
   ],
   "source": [
    "datas = []\n",
    "\n",
    "for element in elements:\n",
    "    datas.append({\n",
    "        \"rank\": element.select_one(\".ir_wa\").text,\n",
    "        \"keyword\": element.select_one(\".link_issue\").text,\n",
    "    })\n",
    "    \n",
    "daum_keywords = pd.DataFrame(datas)\n",
    "daum_keywords.tail(2)"
   ]
  },
  {
   "cell_type": "code",
   "execution_count": 38,
   "metadata": {},
   "outputs": [],
   "source": [
    "naver_df = naver_keywords()\n",
    "daum_df = pd.DataFrame(datas)"
   ]
  },
  {
   "cell_type": "code",
   "execution_count": 42,
   "metadata": {},
   "outputs": [
    {
     "data": {
      "text/plain": [
       "{'구본영', '김경수', '수능 국어', '수능 수학', '수능 시간표', '수능 영어', '유리 오빠', '이문정'}"
      ]
     },
     "execution_count": 42,
     "metadata": {},
     "output_type": "execute_result"
    }
   ],
   "source": [
    "set(naver_df[\"keyword\"]) & set(daum_df[\"keyword\"])"
   ]
  }
 ],
 "metadata": {
  "kernelspec": {
   "display_name": "Python 3",
   "language": "python",
   "name": "python3"
  },
  "language_info": {
   "codemirror_mode": {
    "name": "ipython",
    "version": 3
   },
   "file_extension": ".py",
   "mimetype": "text/x-python",
   "name": "python",
   "nbconvert_exporter": "python",
   "pygments_lexer": "ipython3",
   "version": "3.7.6"
  }
 },
 "nbformat": 4,
 "nbformat_minor": 2
}
