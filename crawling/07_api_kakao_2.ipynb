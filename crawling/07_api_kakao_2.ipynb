{
 "cells": [
  {
   "cell_type": "markdown",
   "metadata": {},
   "source": [
    "#### 카카오톡 메시지 전송\n",
    "- 사용자 인증이 필요한 API\n",
    "- 어플리케이션에 정보 등록\n",
    "    - 사이트 도메인 추가 : 플랫폼 > Web 플랫폼 등록\n",
    "    - 카카오 로그인 활성화\n",
    "    - 정보제공 동의 항목 설정\n",
    "        - 프로필 정보(닉네임/프로필 사진) : 필수동의\n",
    "        - 카카오톡 메시지 전송 : 선택동의"
   ]
  },
  {
   "cell_type": "code",
   "execution_count": 10,
   "metadata": {},
   "outputs": [],
   "source": [
    "app_key = \"321e98fab4a77d51c6d28c7e669af30c\"\n",
    "redirect_uri = \"https://fastcampus.co.kr/oauth\""
   ]
  },
  {
   "cell_type": "code",
   "execution_count": 11,
   "metadata": {},
   "outputs": [
    {
     "name": "stdout",
     "output_type": "stream",
     "text": [
      "https://kauth.kakao.com/oauth/authorize?client_id=321e98fab4a77d51c6d28c7e669af30c&redirect_uri=https://fastcampus.co.kr/oauth&response_type=code\n"
     ]
    }
   ],
   "source": [
    "url = \"https://kauth.kakao.com/oauth/authorize?\\\n",
    "client_id={}&redirect_uri={}&response_type=code\".format(app_key, redirect_uri)\n",
    "print(url)"
   ]
  },
  {
   "cell_type": "code",
   "execution_count": 12,
   "metadata": {},
   "outputs": [],
   "source": [
    "auth_code = \"bfNBLaoaPbi9UYBMV3MH8NZAiBJYwAPpvt9uZwzRhhzjW9MbbmuC1HcYldPbJtbqUQIP1Qo9cuoAAAFy8EVLNQ\"\n"
   ]
  },
  {
   "cell_type": "code",
   "execution_count": 13,
   "metadata": {},
   "outputs": [],
   "source": [
    "# access token 받기\n",
    "url = \"https://kauth.kakao.com/oauth/token\""
   ]
  },
  {
   "cell_type": "code",
   "execution_count": 14,
   "metadata": {},
   "outputs": [
    {
     "data": {
      "text/plain": [
       "{'grant_type': 'authorization_code',\n",
       " 'client_id': '321e98fab4a77d51c6d28c7e669af30c',\n",
       " 'redirect_uri': 'https://fastcampus.co.kr/oauth',\n",
       " 'code': 'bfNBLaoaPbi9UYBMV3MH8NZAiBJYwAPpvt9uZwzRhhzjW9MbbmuC1HcYldPbJtbqUQIP1Qo9cuoAAAFy8EVLNQ'}"
      ]
     },
     "execution_count": 14,
     "metadata": {},
     "output_type": "execute_result"
    }
   ],
   "source": [
    "params = {\n",
    "    \"grant_type\": \"authorization_code\",\n",
    "    \"client_id\": app_key,\n",
    "    \"redirect_uri\": redirect_uri,\n",
    "    \"code\": auth_code,\n",
    "}\n",
    "\n",
    "params"
   ]
  },
  {
   "cell_type": "code",
   "execution_count": 15,
   "metadata": {},
   "outputs": [
    {
     "data": {
      "text/plain": [
       "<Response [200]>"
      ]
     },
     "execution_count": 15,
     "metadata": {},
     "output_type": "execute_result"
    }
   ],
   "source": [
    "response = requests.post(url, params)\n",
    "response"
   ]
  },
  {
   "cell_type": "code",
   "execution_count": 17,
   "metadata": {},
   "outputs": [
    {
     "data": {
      "text/plain": [
       "{'access_token': '86nSZBv1DivH-UFPlOQKyGNeHqVMcFsrB7O5_gopcBMAAAFy8EiYHQ',\n",
       " 'token_type': 'bearer',\n",
       " 'refresh_token': 'BVUAn_AJ1kig4HLU9kY9stEWNaWmtq1QQMpDyAopcBMAAAFy8EiYHA',\n",
       " 'expires_in': 21599,\n",
       " 'scope': 'talk_message profile',\n",
       " 'refresh_token_expires_in': 5183999}"
      ]
     },
     "execution_count": 17,
     "metadata": {},
     "output_type": "execute_result"
    }
   ],
   "source": [
    "user_datas = response.json()\n",
    "user_datas"
   ]
  },
  {
   "cell_type": "code",
   "execution_count": 20,
   "metadata": {},
   "outputs": [],
   "source": [
    "# 1. 프로필 데이터 가져오기 : 문서 > 메시지 > REST API > 프로필 받기"
   ]
  },
  {
   "cell_type": "code",
   "execution_count": 21,
   "metadata": {},
   "outputs": [
    {
     "data": {
      "text/plain": [
       "'86nSZBv1DivH-UFPlOQKyGNeHqVMcFsrB7O5_gopcBMAAAFy8EiYHQ'"
      ]
     },
     "execution_count": 21,
     "metadata": {},
     "output_type": "execute_result"
    }
   ],
   "source": [
    "user_datas[\"access_token\"]"
   ]
  },
  {
   "cell_type": "code",
   "execution_count": 22,
   "metadata": {},
   "outputs": [],
   "source": [
    "url = \"https://kapi.kakao.com/v1/api/talk/profile\"\n",
    "headers = {\"Authorization\": \"Bearer {}\".format(user_datas[\"access_token\"])}"
   ]
  },
  {
   "cell_type": "code",
   "execution_count": 23,
   "metadata": {},
   "outputs": [
    {
     "data": {
      "text/plain": [
       "<Response [200]>"
      ]
     },
     "execution_count": 23,
     "metadata": {},
     "output_type": "execute_result"
    }
   ],
   "source": [
    "response = requests.get(url, headers=headers)\n",
    "response"
   ]
  },
  {
   "cell_type": "code",
   "execution_count": 24,
   "metadata": {},
   "outputs": [
    {
     "data": {
      "text/plain": [
       "'{\"nickName\":\"두진\",\"profileImageURL\":\"http://th-p.talk.kakao.co.kr/th/talkp/wknA5WokJj/Asxwxi6WCsymJV6ikhXY50/0m4vla_640x640_s.jpg\",\"thumbnailURL\":\"http://th-p.talk.kakao.co.kr/th/talkp/wknA5WokJj/Asxwxi6WCsymJV6ikhXY50/0m4vla_110x110_c.jpg\",\"countryISO\":\"KR\"}'"
      ]
     },
     "execution_count": 24,
     "metadata": {},
     "output_type": "execute_result"
    }
   ],
   "source": [
    "response.text"
   ]
  },
  {
   "cell_type": "code",
   "execution_count": 25,
   "metadata": {},
   "outputs": [
    {
     "data": {
      "text/html": [
       "<img src=\"http://th-p.talk.kakao.co.kr/th/talkp/wknA5WokJj/Asxwxi6WCsymJV6ikhXY50/0m4vla_110x110_c.jpg\">\n"
      ],
      "text/plain": [
       "<IPython.core.display.HTML object>"
      ]
     },
     "metadata": {},
     "output_type": "display_data"
    }
   ],
   "source": [
    "%%html\n",
    "<img src=\"http://th-p.talk.kakao.co.kr/th/talkp/wknA5WokJj/Asxwxi6WCsymJV6ikhXY50/0m4vla_110x110_c.jpg\">"
   ]
  },
  {
   "cell_type": "code",
   "execution_count": 19,
   "metadata": {},
   "outputs": [],
   "source": [
    "# 2. 카카오톡 메시지 전송"
   ]
  },
  {
   "cell_type": "code",
   "execution_count": null,
   "metadata": {},
   "outputs": [],
   "source": []
  },
  {
   "cell_type": "code",
   "execution_count": null,
   "metadata": {},
   "outputs": [],
   "source": []
  },
  {
   "cell_type": "code",
   "execution_count": null,
   "metadata": {},
   "outputs": [],
   "source": []
  },
  {
   "cell_type": "code",
   "execution_count": null,
   "metadata": {},
   "outputs": [],
   "source": []
  },
  {
   "cell_type": "code",
   "execution_count": null,
   "metadata": {},
   "outputs": [],
   "source": []
  },
  {
   "cell_type": "code",
   "execution_count": null,
   "metadata": {},
   "outputs": [],
   "source": []
  },
  {
   "cell_type": "code",
   "execution_count": null,
   "metadata": {},
   "outputs": [],
   "source": []
  }
 ],
 "metadata": {
  "kernelspec": {
   "display_name": "Python 3",
   "language": "python",
   "name": "python3"
  },
  "language_info": {
   "codemirror_mode": {
    "name": "ipython",
    "version": 3
   },
   "file_extension": ".py",
   "mimetype": "text/x-python",
   "name": "python",
   "nbconvert_exporter": "python",
   "pygments_lexer": "ipython3",
   "version": "3.7.6"
  }
 },
 "nbformat": 4,
 "nbformat_minor": 4
}
