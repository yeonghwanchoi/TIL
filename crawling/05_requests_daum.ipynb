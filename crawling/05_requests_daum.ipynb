{
 "cells": [
  {
   "cell_type": "markdown",
   "metadata": {},
   "source": [
    "### Daum에서 환율 정보 크롤링\n",
    "- https://finance.daum.net/exchanges\n",
    "- fake_useragent\n",
    "    - pip install fake_useragent"
   ]
  },
  {
   "cell_type": "code",
   "execution_count": 3,
   "metadata": {},
   "outputs": [],
   "source": [
    "from fake_useragent import UserAgent"
   ]
  },
  {
   "cell_type": "code",
   "execution_count": 25,
   "metadata": {},
   "outputs": [
    {
     "data": {
      "text/plain": [
       "'Mozilla/5.0 (Windows NT 10.0; Win64; x64) AppleWebKit/537.36 (KHTML, like Gecko) Chrome/70.0.3538.77 Safari/537.36'"
      ]
     },
     "execution_count": 25,
     "metadata": {},
     "output_type": "execute_result"
    }
   ],
   "source": [
    "UserAgent().chrome"
   ]
  },
  {
   "cell_type": "code",
   "execution_count": 27,
   "metadata": {},
   "outputs": [
    {
     "data": {
      "text/plain": [
       "<Response [200]>"
      ]
     },
     "execution_count": 27,
     "metadata": {},
     "output_type": "execute_result"
    }
   ],
   "source": [
    "url = \"https://finance.daum.net/api/exchanges/summaries\"\n",
    "headers = {\n",
    "    \"user-agent\": UserAgent().chrome,\n",
    "    \"referer\": \"https://finance.daum.net/exchanges\",\n",
    "}\n",
    "response = requests.get(url, headers=headers)\n",
    "response"
   ]
  },
  {
   "cell_type": "code",
   "execution_count": 30,
   "metadata": {},
   "outputs": [
    {
     "data": {
      "text/html": [
       "<div>\n",
       "<style scoped>\n",
       "    .dataframe tbody tr th:only-of-type {\n",
       "        vertical-align: middle;\n",
       "    }\n",
       "\n",
       "    .dataframe tbody tr th {\n",
       "        vertical-align: top;\n",
       "    }\n",
       "\n",
       "    .dataframe thead th {\n",
       "        text-align: right;\n",
       "    }\n",
       "</style>\n",
       "<table border=\"1\" class=\"dataframe\">\n",
       "  <thead>\n",
       "    <tr style=\"text-align: right;\">\n",
       "      <th></th>\n",
       "      <th>basePrice</th>\n",
       "      <th>cashBuyingPrice</th>\n",
       "      <th>cashSellingPrice</th>\n",
       "      <th>change</th>\n",
       "      <th>changePrice</th>\n",
       "      <th>changeRate</th>\n",
       "      <th>chartImageUrl</th>\n",
       "      <th>country</th>\n",
       "      <th>currencyCode</th>\n",
       "      <th>currencyName</th>\n",
       "      <th>...</th>\n",
       "      <th>exchangeCommission</th>\n",
       "      <th>fcSellingPrice</th>\n",
       "      <th>name</th>\n",
       "      <th>recurrenceCount</th>\n",
       "      <th>region</th>\n",
       "      <th>symbolCode</th>\n",
       "      <th>tcBuyingPrice</th>\n",
       "      <th>ttBuyingPrice</th>\n",
       "      <th>ttSellingPrice</th>\n",
       "      <th>usDollarRate</th>\n",
       "    </tr>\n",
       "  </thead>\n",
       "  <tbody>\n",
       "    <tr>\n",
       "      <th>0</th>\n",
       "      <td>1156.5</td>\n",
       "      <td>1176.73</td>\n",
       "      <td>1136.27</td>\n",
       "      <td>RISE</td>\n",
       "      <td>0.50</td>\n",
       "      <td>0.000433</td>\n",
       "      <td>{'day': 'https://t1.daumcdn.net/finance/chart/...</td>\n",
       "      <td>미국</td>\n",
       "      <td>USD</td>\n",
       "      <td>달러</td>\n",
       "      <td>...</td>\n",
       "      <td>3.608</td>\n",
       "      <td>1144.05</td>\n",
       "      <td>미국 (KRW/USD)</td>\n",
       "      <td>374</td>\n",
       "      <td>{'korName': '아메리카', 'engName': 'America'}</td>\n",
       "      <td>FRX.KRWUSD</td>\n",
       "      <td>1170.37</td>\n",
       "      <td>1145.20</td>\n",
       "      <td>1167.80</td>\n",
       "      <td>1.0000</td>\n",
       "    </tr>\n",
       "    <tr>\n",
       "      <th>1</th>\n",
       "      <td>1058.1</td>\n",
       "      <td>1076.61</td>\n",
       "      <td>1039.59</td>\n",
       "      <td>FALL</td>\n",
       "      <td>1.43</td>\n",
       "      <td>0.001350</td>\n",
       "      <td>{'day': 'https://t1.daumcdn.net/finance/chart/...</td>\n",
       "      <td>일본</td>\n",
       "      <td>JPY</td>\n",
       "      <td>엔</td>\n",
       "      <td>...</td>\n",
       "      <td>1.877</td>\n",
       "      <td>1047.25</td>\n",
       "      <td>일본 (KRW/JPY100)</td>\n",
       "      <td>374</td>\n",
       "      <td>{'korName': '아시아', 'engName': 'Asia'}</td>\n",
       "      <td>FRX.KRWJPY</td>\n",
       "      <td>1068.68</td>\n",
       "      <td>1047.74</td>\n",
       "      <td>1068.46</td>\n",
       "      <td>0.9149</td>\n",
       "    </tr>\n",
       "  </tbody>\n",
       "</table>\n",
       "<p>2 rows × 22 columns</p>\n",
       "</div>"
      ],
      "text/plain": [
       "   basePrice  cashBuyingPrice  cashSellingPrice change  changePrice  \\\n",
       "0     1156.5          1176.73           1136.27   RISE         0.50   \n",
       "1     1058.1          1076.61           1039.59   FALL         1.43   \n",
       "\n",
       "   changeRate                                      chartImageUrl country  \\\n",
       "0    0.000433  {'day': 'https://t1.daumcdn.net/finance/chart/...      미국   \n",
       "1    0.001350  {'day': 'https://t1.daumcdn.net/finance/chart/...      일본   \n",
       "\n",
       "  currencyCode currencyName  ...  exchangeCommission fcSellingPrice  \\\n",
       "0          USD           달러  ...               3.608        1144.05   \n",
       "1          JPY            엔  ...               1.877        1047.25   \n",
       "\n",
       "              name  recurrenceCount  \\\n",
       "0     미국 (KRW/USD)              374   \n",
       "1  일본 (KRW/JPY100)              374   \n",
       "\n",
       "                                      region  symbolCode tcBuyingPrice  \\\n",
       "0  {'korName': '아메리카', 'engName': 'America'}  FRX.KRWUSD       1170.37   \n",
       "1      {'korName': '아시아', 'engName': 'Asia'}  FRX.KRWJPY       1068.68   \n",
       "\n",
       "  ttBuyingPrice  ttSellingPrice  usDollarRate  \n",
       "0       1145.20         1167.80        1.0000  \n",
       "1       1047.74         1068.46        0.9149  \n",
       "\n",
       "[2 rows x 22 columns]"
      ]
     },
     "execution_count": 30,
     "metadata": {},
     "output_type": "execute_result"
    }
   ],
   "source": [
    "data = response.json()[\"data\"]\n",
    "result_df = pd.DataFrame(data)\n",
    "result_df.head(2)"
   ]
  },
  {
   "cell_type": "code",
   "execution_count": null,
   "metadata": {},
   "outputs": [],
   "source": []
  },
  {
   "cell_type": "code",
   "execution_count": null,
   "metadata": {},
   "outputs": [],
   "source": []
  },
  {
   "cell_type": "code",
   "execution_count": null,
   "metadata": {},
   "outputs": [],
   "source": []
  },
  {
   "cell_type": "code",
   "execution_count": null,
   "metadata": {},
   "outputs": [],
   "source": []
  },
  {
   "cell_type": "code",
   "execution_count": null,
   "metadata": {},
   "outputs": [],
   "source": []
  }
 ],
 "metadata": {
  "kernelspec": {
   "display_name": "Python 3",
   "language": "python",
   "name": "python3"
  },
  "language_info": {
   "codemirror_mode": {
    "name": "ipython",
    "version": 3
   },
   "file_extension": ".py",
   "mimetype": "text/x-python",
   "name": "python",
   "nbconvert_exporter": "python",
   "pygments_lexer": "ipython3",
   "version": "3.7.6"
  }
 },
 "nbformat": 4,
 "nbformat_minor": 2
}
