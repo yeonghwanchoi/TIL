{
 "cells": [
  {
   "cell_type": "markdown",
   "metadata": {},
   "source": [
    "### Gmarket 베스트 상품 200개 크롤링\n",
    "- 상품명, 원가, 판매가\n",
    "- 썸네일 이미지"
   ]
  },
  {
   "cell_type": "code",
   "execution_count": 4,
   "metadata": {},
   "outputs": [],
   "source": [
    "import requests\n",
    "from bs4 import BeautifulSoup as bs"
   ]
  },
  {
   "cell_type": "code",
   "execution_count": 16,
   "metadata": {},
   "outputs": [],
   "source": [
    "response = requests.get(\"http://corners.gmarket.co.kr/Bestsellers\")\n",
    "dom = bs(response.content, \"html.parser\")\n"
   ]
  },
  {
   "cell_type": "code",
   "execution_count": 46,
   "metadata": {},
   "outputs": [],
   "source": [
    "selector = \"#gBestWrap > .gbest-top > div:nth-of-type(3) > div:nth-of-type(2) > ul > li\"\n"
   ]
  },
  {
   "cell_type": "code",
   "execution_count": 47,
   "metadata": {},
   "outputs": [],
   "source": [
    "element=dom.select(selector)"
   ]
  },
  {
   "cell_type": "code",
   "execution_count": 48,
   "metadata": {},
   "outputs": [
    {
     "data": {
      "text/plain": [
       "200"
      ]
     },
     "execution_count": 48,
     "metadata": {},
     "output_type": "execute_result"
    }
   ],
   "source": [
    "len(element)"
   ]
  },
  {
   "cell_type": "code",
   "execution_count": 60,
   "metadata": {},
   "outputs": [
    {
     "data": {
      "text/plain": [
       "<li class=\"first\">\n",
       "<p class=\"no1\" id=\"no1\">1</p>\n",
       "<div class=\"thumb\">\n",
       "<a href=\"http://item.gmarket.co.kr/Item?goodscode=1825822470&amp;ver=637286970892535269\" onclick=\"pdsClickLog('200000680', 'Item', {'ASN': 1, 'goodsCode': '1825822470'});\"><img alt=\"[다샵]국산 일회용 마스크 화이트 50매\" class=\"lazy\" data-original=\"http://gdimg.gmarket.co.kr/1825822470/still/300\" height=\"210\" src=\"http://image.gmarket.co.kr/challenge/neo_image/no_image.gif\" width=\"210\"/></a>\n",
       "</div>\n",
       "<!--div class=\"goods-view\">\n",
       "\t\t\t\t\t\t\t\t\t<a href=\"http://minishop.gmarket.co.kr/sinsu66317\"><span class=\"view\">판매자 다른상품 보기</span>다샵몰</a>\n",
       "\t\t\t\t\t\t\t\t</div-->\n",
       "<a class=\"itemname\" href=\"http://item.gmarket.co.kr/Item?goodscode=1825822470&amp;ver=637286970892535269\" onclick=\"pdsClickLog('200000680', 'Item', {'ASN': 1, 'goodsCode': '1825822470'});\">[다샵]국산 일회용 마스크 화이트 50매</a>\n",
       "<div class=\"item_price\">\n",
       "<div class=\"o-price\"><span><span>33,900원</span></span></div>\n",
       "<div class=\"s-price\">\n",
       "<strong><span><span>26,900원</span></span></strong>\n",
       "<span><span class=\"sale\"></span><em>20%</em></span>\n",
       "</div>\n",
       "<div class=\"icon\">\n",
       "<img alt=\"무료배송\" src=\"http://pics.gmkt.kr/pc/ko/corner/gbest/ic_freeshipping.gif\"/>\n",
       "</div>\n",
       "</div>\n",
       "</li>"
      ]
     },
     "execution_count": 60,
     "metadata": {},
     "output_type": "execute_result"
    }
   ],
   "source": [
    "element[0]\n"
   ]
  },
  {
   "cell_type": "code",
   "execution_count": 4,
   "metadata": {},
   "outputs": [
    {
     "data": {
      "text/plain": [
       "200"
      ]
     },
     "execution_count": 4,
     "metadata": {},
     "output_type": "execute_result"
    }
   ],
   "source": [
    "# # 기존 강의와 다른 부분: nth-child 대신에 nth-of-type을 사용하고, 경로를 하나씩 추가해가면서 데이터 확인\n",
    "# selector = \"#gBestWrap > .gbest-top > div:nth-of-type(3) > div:nth-of-type(2) > ul > li\"\n",
    "# elements = dom.select(selector)\n",
    "# len(elements)"
   ]
  },
  {
   "cell_type": "code",
   "execution_count": 6,
   "metadata": {},
   "outputs": [],
   "source": [
    "# 코드, 제목, 링크, 원가, 판매가, 할인율"
   ]
  },
  {
   "cell_type": "code",
   "execution_count": 66,
   "metadata": {},
   "outputs": [
    {
     "data": {
      "text/plain": [
       "(None, '[다샵]국산 일회용 마스크 화이트 50매')"
      ]
     },
     "execution_count": 66,
     "metadata": {},
     "output_type": "execute_result"
    }
   ],
   "source": [
    "element[0].select_one(\"onclick\"), element[0].select_one(\".itemname\").text,"
   ]
  },
  {
   "cell_type": "code",
   "execution_count": 8,
   "metadata": {},
   "outputs": [
    {
     "data": {
      "text/plain": [
       "\"pdsClickLog('200000680', 'Item', {'ASN': 1, 'goodsCode': '818391700'});\""
      ]
     },
     "execution_count": 8,
     "metadata": {},
     "output_type": "execute_result"
    }
   ],
   "source": [
    "elements[0].find_all('a')[0].get('onclick')"
   ]
  },
  {
   "cell_type": "code",
   "execution_count": 9,
   "metadata": {},
   "outputs": [
    {
     "data": {
      "text/plain": [
       "'818391700'"
      ]
     },
     "execution_count": 9,
     "metadata": {},
     "output_type": "execute_result"
    }
   ],
   "source": [
    "import re\n",
    "item_str = elements[0].select_one(\".itemname\").get(\"onclick\")\n",
    "re.findall('[0-9]{9}', item_str)[1] # 숫자만 추출하고, 2번째 숫자를 출력"
   ]
  },
  {
   "cell_type": "code",
   "execution_count": 10,
   "metadata": {},
   "outputs": [
    {
     "data": {
      "text/plain": [
       "'26,000원'"
      ]
     },
     "execution_count": 10,
     "metadata": {},
     "output_type": "execute_result"
    }
   ],
   "source": [
    "# 원가\n",
    "elements[0].select_one(\".o-price\").text.strip().split(\"\\n\")[0]"
   ]
  },
  {
   "cell_type": "code",
   "execution_count": 11,
   "metadata": {},
   "outputs": [
    {
     "data": {
      "text/plain": [
       "'7,900원'"
      ]
     },
     "execution_count": 11,
     "metadata": {},
     "output_type": "execute_result"
    }
   ],
   "source": [
    "# 판매가\n",
    "elements[0].select_one(\".s-price\").text.strip().split(\"\\n\")[0]"
   ]
  },
  {
   "cell_type": "code",
   "execution_count": 12,
   "metadata": {},
   "outputs": [
    {
     "data": {
      "text/plain": [
       "'http://item.gmarket.co.kr/Item?goodscode=818391700&ver=637286157669843087'"
      ]
     },
     "execution_count": 12,
     "metadata": {},
     "output_type": "execute_result"
    }
   ],
   "source": [
    "# 링크\n",
    "elements[0].select_one(\".itemname\").get('href')"
   ]
  },
  {
   "cell_type": "code",
   "execution_count": 13,
   "metadata": {},
   "outputs": [
    {
     "data": {
      "text/plain": [
       "'69%'"
      ]
     },
     "execution_count": 13,
     "metadata": {},
     "output_type": "execute_result"
    }
   ],
   "source": [
    "# 할인율\n",
    "elements[0].select_one(\".s-price\").text.strip().split(\"\\n\")[1]"
   ]
  },
  {
   "cell_type": "code",
   "execution_count": 14,
   "metadata": {},
   "outputs": [
    {
     "data": {
      "text/plain": [
       "<li class=\"first\">\n",
       "<p class=\"no81\" id=\"no81\">81</p>\n",
       "<div class=\"thumb\">\n",
       "<a href=\"http://item.gmarket.co.kr/Item?goodscode=890742319&amp;ver=637286157669843087\" onclick=\"pdsClickLog('200000680', 'Item', {'ASN': 81, 'goodsCode': '890742319'});\"><img alt=\"[함소아]프로폴리스 50ml x2통\" class=\"lazy\" data-original=\"http://gdimg.gmarket.co.kr/890742319/still/300\" height=\"210\" src=\"http://image.gmarket.co.kr/challenge/neo_image/no_image.gif\" width=\"210\"/></a>\n",
       "</div>\n",
       "<!--div class=\"goods-view\">\n",
       "\t\t\t\t\t\t\t\t\t<a href=\"http://minishop.gmarket.co.kr/hamsoa\"><span class=\"view\">판매자 다른상품 보기</span>함소아공식몰</a>\n",
       "\t\t\t\t\t\t\t\t</div-->\n",
       "<a class=\"itemname\" href=\"http://item.gmarket.co.kr/Item?goodscode=890742319&amp;ver=637286157669843087\" onclick=\"pdsClickLog('200000680', 'Item', {'ASN': 81, 'goodsCode': '890742319'});\">[함소아]프로폴리스 50ml x2통</a>\n",
       "<div class=\"item_price\">\n",
       "<div class=\"o-price\"><span><span>15,800원</span></span></div>\n",
       "<div class=\"s-price\">\n",
       "<strong><span><span>15,650원</span></span></strong>\n",
       "</div>\n",
       "<div class=\"icon\">\n",
       "<img alt=\"무료배송\" src=\"http://pics.gmkt.kr/pc/ko/corner/gbest/ic_freeshipping.gif\"/>\n",
       "</div>\n",
       "</div>\n",
       "</li>"
      ]
     },
     "execution_count": 14,
     "metadata": {},
     "output_type": "execute_result"
    }
   ],
   "source": [
    "elements[80]"
   ]
  },
  {
   "cell_type": "markdown",
   "metadata": {},
   "source": [
    "#### 반복문을 실행하고 데이터프레임 만들기"
   ]
  },
  {
   "cell_type": "code",
   "execution_count": 15,
   "metadata": {},
   "outputs": [
    {
     "data": {
      "text/html": [
       "<div>\n",
       "<style scoped>\n",
       "    .dataframe tbody tr th:only-of-type {\n",
       "        vertical-align: middle;\n",
       "    }\n",
       "\n",
       "    .dataframe tbody tr th {\n",
       "        vertical-align: top;\n",
       "    }\n",
       "\n",
       "    .dataframe thead th {\n",
       "        text-align: right;\n",
       "    }\n",
       "</style>\n",
       "<table border=\"1\" class=\"dataframe\">\n",
       "  <thead>\n",
       "    <tr style=\"text-align: right;\">\n",
       "      <th></th>\n",
       "      <th>code</th>\n",
       "      <th>title</th>\n",
       "      <th>item_url</th>\n",
       "      <th>original_price</th>\n",
       "      <th>sales_price</th>\n",
       "      <th>off</th>\n",
       "    </tr>\n",
       "  </thead>\n",
       "  <tbody>\n",
       "    <tr>\n",
       "      <th>195</th>\n",
       "      <td>168099727</td>\n",
       "      <td>[버블윅]그린뚜러펑 배수구세정제/펑크린/싱크대/변기 2Lx6개</td>\n",
       "      <td>http://item.gmarket.co.kr/Item?goodscode=16809...</td>\n",
       "      <td>25,000원</td>\n",
       "      <td>8,900원</td>\n",
       "      <td>64%</td>\n",
       "    </tr>\n",
       "    <tr>\n",
       "      <th>196</th>\n",
       "      <td>112418530</td>\n",
       "      <td>[힐링팩토리]캐나다직수입 오메가3 1303mg+비타민D 1000IU 6개월분</td>\n",
       "      <td>http://item.gmarket.co.kr/Item?goodscode=11241...</td>\n",
       "      <td>39,600원</td>\n",
       "      <td>17,800원</td>\n",
       "      <td>55%</td>\n",
       "    </tr>\n",
       "    <tr>\n",
       "      <th>197</th>\n",
       "      <td>180353835</td>\n",
       "      <td>[살림백서]살림백서 제습제 520ml 24개입 옷장 습기제거제</td>\n",
       "      <td>http://item.gmarket.co.kr/Item?goodscode=18035...</td>\n",
       "      <td>48,000원</td>\n",
       "      <td>15,900원</td>\n",
       "      <td>66%</td>\n",
       "    </tr>\n",
       "    <tr>\n",
       "      <th>198</th>\n",
       "      <td>180741088</td>\n",
       "      <td>[에버라스트]에버라스트 엘리 여성가방 4종</td>\n",
       "      <td>http://item.gmarket.co.kr/Item?goodscode=18074...</td>\n",
       "      <td>59,000원</td>\n",
       "      <td>53,870원</td>\n",
       "      <td>8%</td>\n",
       "    </tr>\n",
       "    <tr>\n",
       "      <th>199</th>\n",
       "      <td>146719814</td>\n",
       "      <td>[GFresh]통통 햇오징어 1KG 7-9미 / 동해 자연산 생물 햇오징어</td>\n",
       "      <td>http://item.gmarket.co.kr/Item?goodscode=14671...</td>\n",
       "      <td>37,350원</td>\n",
       "      <td>24,900원</td>\n",
       "      <td>33%</td>\n",
       "    </tr>\n",
       "  </tbody>\n",
       "</table>\n",
       "</div>"
      ],
      "text/plain": [
       "          code                                       title  \\\n",
       "195  168099727          [버블윅]그린뚜러펑 배수구세정제/펑크린/싱크대/변기 2Lx6개   \n",
       "196  112418530  [힐링팩토리]캐나다직수입 오메가3 1303mg+비타민D 1000IU 6개월분   \n",
       "197  180353835          [살림백서]살림백서 제습제 520ml 24개입 옷장 습기제거제   \n",
       "198  180741088                     [에버라스트]에버라스트 엘리 여성가방 4종   \n",
       "199  146719814   [GFresh]통통 햇오징어 1KG 7-9미 / 동해 자연산 생물 햇오징어   \n",
       "\n",
       "                                              item_url original_price  \\\n",
       "195  http://item.gmarket.co.kr/Item?goodscode=16809...        25,000원   \n",
       "196  http://item.gmarket.co.kr/Item?goodscode=11241...        39,600원   \n",
       "197  http://item.gmarket.co.kr/Item?goodscode=18035...        48,000원   \n",
       "198  http://item.gmarket.co.kr/Item?goodscode=18074...        59,000원   \n",
       "199  http://item.gmarket.co.kr/Item?goodscode=14671...        37,350원   \n",
       "\n",
       "    sales_price  off  \n",
       "195      8,900원  64%  \n",
       "196     17,800원  55%  \n",
       "197     15,900원  66%  \n",
       "198     53,870원   8%  \n",
       "199     24,900원  33%  "
      ]
     },
     "execution_count": 15,
     "metadata": {},
     "output_type": "execute_result"
    }
   ],
   "source": [
    "datas = [] \n",
    "for element in elements:\n",
    "    # 각 element의 ID를 정규표현식을 이용하여 추출\n",
    "    item_str = element.select_one(\".itemname\").get(\"onclick\")\n",
    "    idx = re.findall('[0-9]{9}', item_str)[1]\n",
    "    \n",
    "    # 할인을 하지 않고 원가와 판매가가 동일한 경우에는, 할인율 데이터를 추출할 수가 없어 IndexError가 발생. 이를 방지하기 위함.\n",
    "    try:\n",
    "        dc_rate = element.select_one(\".s-price\").text.strip().split(\"\\n\")[1]\n",
    "    except IndexError:\n",
    "        dc_rate = \"\" # 할인율 데이터가 없어서 추출할 수 없는 경우는 공란으로 두기\n",
    "        \n",
    "    datas.append({\n",
    "        \"code\": idx,\n",
    "        \"title\": element.select_one(\".itemname\").text,\n",
    "        \"item_url\": element.select_one(\".itemname\").get('href'),\n",
    "        \"original_price\": element.select_one(\".o-price\").text.strip().split(\"\\n\")[0],\n",
    "        \"sales_price\": element.select_one(\".s-price\").text.strip().split(\"\\n\")[0],\n",
    "        \"off\": dc_rate\n",
    "        })\n",
    "     \n",
    "items_df = pd.DataFrame(datas)\n",
    "items_df.tail()"
   ]
  },
  {
   "cell_type": "markdown",
   "metadata": {},
   "source": [
    "#### 이미지 다운받기"
   ]
  },
  {
   "cell_type": "code",
   "execution_count": 16,
   "metadata": {},
   "outputs": [
    {
     "data": {
      "text/html": [
       "<div>\n",
       "<style scoped>\n",
       "    .dataframe tbody tr th:only-of-type {\n",
       "        vertical-align: middle;\n",
       "    }\n",
       "\n",
       "    .dataframe tbody tr th {\n",
       "        vertical-align: top;\n",
       "    }\n",
       "\n",
       "    .dataframe thead th {\n",
       "        text-align: right;\n",
       "    }\n",
       "</style>\n",
       "<table border=\"1\" class=\"dataframe\">\n",
       "  <thead>\n",
       "    <tr style=\"text-align: right;\">\n",
       "      <th></th>\n",
       "      <th>code</th>\n",
       "      <th>title</th>\n",
       "      <th>item_url</th>\n",
       "      <th>original_price</th>\n",
       "      <th>sales_price</th>\n",
       "      <th>off</th>\n",
       "    </tr>\n",
       "  </thead>\n",
       "  <tbody>\n",
       "    <tr>\n",
       "      <th>0</th>\n",
       "      <td>818391700</td>\n",
       "      <td>[라벨영]빵꾸솝 쿨버전 비누 1+1/모공축소+블랙헤드+피지제거</td>\n",
       "      <td>http://item.gmarket.co.kr/Item?goodscode=81839...</td>\n",
       "      <td>26,000원</td>\n",
       "      <td>7,900원</td>\n",
       "      <td>69%</td>\n",
       "    </tr>\n",
       "    <tr>\n",
       "      <th>1</th>\n",
       "      <td>182092682</td>\n",
       "      <td>국내 인증 일회용마스크 50매 화이트 멜트블로운 필터</td>\n",
       "      <td>http://item.gmarket.co.kr/Item?goodscode=18209...</td>\n",
       "      <td>10,900원</td>\n",
       "      <td>9,900원</td>\n",
       "      <td>9%</td>\n",
       "    </tr>\n",
       "    <tr>\n",
       "      <th>2</th>\n",
       "      <td>172166424</td>\n",
       "      <td>[바라던]부드러운 구이용 부채살 200g 6팩 /미국산(증정행사)</td>\n",
       "      <td>http://item.gmarket.co.kr/Item?goodscode=17216...</td>\n",
       "      <td>29,850원</td>\n",
       "      <td>19,900원</td>\n",
       "      <td>33%</td>\n",
       "    </tr>\n",
       "    <tr>\n",
       "      <th>3</th>\n",
       "      <td>776361426</td>\n",
       "      <td>본사공식 풀무원 샘물 생수 2Lx12 무료배송</td>\n",
       "      <td>http://item.gmarket.co.kr/Item?goodscode=77636...</td>\n",
       "      <td>11,500원</td>\n",
       "      <td>6,900원</td>\n",
       "      <td>40%</td>\n",
       "    </tr>\n",
       "    <tr>\n",
       "      <th>4</th>\n",
       "      <td>132694865</td>\n",
       "      <td>피핀 여름신상/1+1/티셔츠/원피스/팬츠/세트/빅사이즈</td>\n",
       "      <td>http://item.gmarket.co.kr/Item?goodscode=13269...</td>\n",
       "      <td>49,600원</td>\n",
       "      <td>14,900원</td>\n",
       "      <td>69%</td>\n",
       "    </tr>\n",
       "  </tbody>\n",
       "</table>\n",
       "</div>"
      ],
      "text/plain": [
       "        code                                 title  \\\n",
       "0  818391700    [라벨영]빵꾸솝 쿨버전 비누 1+1/모공축소+블랙헤드+피지제거   \n",
       "1  182092682         국내 인증 일회용마스크 50매 화이트 멜트블로운 필터   \n",
       "2  172166424  [바라던]부드러운 구이용 부채살 200g 6팩 /미국산(증정행사)   \n",
       "3  776361426             본사공식 풀무원 샘물 생수 2Lx12 무료배송   \n",
       "4  132694865        피핀 여름신상/1+1/티셔츠/원피스/팬츠/세트/빅사이즈   \n",
       "\n",
       "                                            item_url original_price  \\\n",
       "0  http://item.gmarket.co.kr/Item?goodscode=81839...        26,000원   \n",
       "1  http://item.gmarket.co.kr/Item?goodscode=18209...        10,900원   \n",
       "2  http://item.gmarket.co.kr/Item?goodscode=17216...        29,850원   \n",
       "3  http://item.gmarket.co.kr/Item?goodscode=77636...        11,500원   \n",
       "4  http://item.gmarket.co.kr/Item?goodscode=13269...        49,600원   \n",
       "\n",
       "  sales_price  off  \n",
       "0      7,900원  69%  \n",
       "1      9,900원   9%  \n",
       "2     19,900원  33%  \n",
       "3      6,900원  40%  \n",
       "4     14,900원  69%  "
      ]
     },
     "execution_count": 16,
     "metadata": {},
     "output_type": "execute_result"
    }
   ],
   "source": [
    "items_df.head()"
   ]
  },
  {
   "cell_type": "code",
   "execution_count": 17,
   "metadata": {},
   "outputs": [],
   "source": [
    "!mkdir datas"
   ]
  },
  {
   "cell_type": "code",
   "execution_count": 18,
   "metadata": {},
   "outputs": [],
   "source": [
    "def download(title, link):\n",
    "    \n",
    "    response = requests.get(link, stream=True)\n",
    "    path = \"datas/{}\".format(title)\n",
    "    \n",
    "    with open(path, \"wb\") as f:\n",
    "        for chunk in response.iter_content(chunk_size=1024):\n",
    "            if chunk:\n",
    "                f.write(chunk)"
   ]
  },
  {
   "cell_type": "code",
   "execution_count": 19,
   "metadata": {},
   "outputs": [
    {
     "name": "stdout",
     "output_type": "stream",
     "text": [
      "[라벨영]빵꾸솝 쿨버전 비누 1+1모공축소+블랙헤드+피지제거.png http://gdimg.gmarket.co.kr/818391700/still/300\n",
      "국내 인증 일회용마스크 50매 화이트 멜트블로운 필터.png http://gdimg.gmarket.co.kr/182092682/still/300\n",
      "[바라던]부드러운 구이용 부채살 200g 6팩 미국산(증정행사).png http://gdimg.gmarket.co.kr/172166424/still/300\n",
      "본사공식 풀무원 샘물 생수 2Lx12 무료배송.png http://gdimg.gmarket.co.kr/776361426/still/300\n",
      "피핀 여름신상1+1티셔츠원피스팬츠세트빅사이즈.png http://gdimg.gmarket.co.kr/132694865/still/300\n",
      "성주 꿀 참외 10kg (랜덤실속형) 못난이.png http://gdimg.gmarket.co.kr/160744579/still/300\n",
      "[올바르게]올청 변기세정제 변기클리너 45g 60개입 크리너 청소.png http://gdimg.gmarket.co.kr/168463013/still/300\n",
      "국산 630g 르미에 라지자캔들 아로마향초 캔들워머.png http://gdimg.gmarket.co.kr/160578470/still/300\n",
      "[피에르다르장]피에르다르장 프랑스 만능 천연 국민세제 주방클리너.png http://gdimg.gmarket.co.kr/152377399/still/300\n",
      "트레이닝 블라우스 빅사이즈 원피스 티셔츠 세트 특가.png http://gdimg.gmarket.co.kr/163207994/still/300\n",
      "과일선물세트 감귤 제주 하우스귤 쥬스용대과9kg대용량.png http://gdimg.gmarket.co.kr/162311549/still/300\n",
      "플랜비 전상품 균일가 투피스원피스.png http://gdimg.gmarket.co.kr/178557657/still/300\n",
      "칸타타 아이스커피 230mlx20팩.png http://gdimg.gmarket.co.kr/809778358/still/300\n",
      "[대웅모닝컴]대웅 3D 입체회전 리모컨 스탠드 써큘레이터 선풍기.png http://gdimg.gmarket.co.kr/182995210/still/300\n",
      "블랑슈 프리미엄 누보 아기물티슈 캡형 70매x10팩.png http://gdimg.gmarket.co.kr/181996223/still/300\n",
      "단비샵 봄신상 원피스블라우스반바지.png http://gdimg.gmarket.co.kr/177543153/still/300\n",
      "[다향오리]녹차먹인 다향오리 훈제슬라이스 200g x10팩.png http://gdimg.gmarket.co.kr/168419841/still/300\n",
      "[서울우유]서울우유 1000ml X 10팩멸균우유흰우유.png http://gdimg.gmarket.co.kr/150948575/still/300\n",
      "[카레여왕]카레여왕분말 108g x 8개 + 직화짜장분말80gx1개 증정.png http://gdimg.gmarket.co.kr/150055755/still/300\n",
      "잇몸 저자극 부드러운 초미세모 만모칫솔 흰+검 총10P.png http://gdimg.gmarket.co.kr/177962701/still/300\n",
      "[프로월드컵]3중필터일회용마스크100매입 대형 소형 멜트블로운.png http://gdimg.gmarket.co.kr/177810306/still/300\n",
      "[GFresh]초당옥수수 전남 보성 달콤한옥수수 10개 (16cm이상).png http://gdimg.gmarket.co.kr/142568315/still/300\n",
      "요즘에10%+하루특가세일여름청바지린넨반바지3XL.png http://gdimg.gmarket.co.kr/189842449/still/300\n",
      "[박스포유]100%직접생산 박스포유 택배박스.png http://gdimg.gmarket.co.kr/153279336/still/300\n",
      "[산과들에]하루 한줌 견과 원데이오리지널100낱봉.png http://gdimg.gmarket.co.kr/465207841/still/300\n",
      "[베비언스]핑크퐁 모기기피제 모기야오지마150ml(6개월~성인) 2개.png http://gdimg.gmarket.co.kr/182173485/still/300\n",
      "[유한양행]해피홈 세이프365 핸드워시 핑크포레 350ml용기x3+증정.png http://gdimg.gmarket.co.kr/182590289/still/300\n",
      "[계림북스]계림북스 그림으로 보는 역사 시리즈 세트 선택구매한국사세계사삼국사기그리스로마신화삼국지인물.png http://gdimg.gmarket.co.kr/182970176/still/300\n",
      "[소문난삼부자김]소문난오부자 재래도시락김5g 72봉 6월생산본사직송.png http://gdimg.gmarket.co.kr/157912088/still/300\n",
      "그리니 프리미엄 아기물티슈 블루 100매 X 20팩 캡형.png http://gdimg.gmarket.co.kr/166803915/still/300\n",
      "NEW땡큐 화장지 (30롤 x 2팩)  3겹 두루마리 휴지.png http://gdimg.gmarket.co.kr/132102865/still/300\n",
      "시크폭스 여름신상티셔츠팬츠빅사이즈.png http://gdimg.gmarket.co.kr/760672691/still/300\n",
      "[연세우유]연세 뼈를생각한 고칼슘두유검은콩호두아몬드72팩.png http://gdimg.gmarket.co.kr/182927668/still/300\n",
      "수퍼락스2L x 6개 살균 소독 청소.png http://gdimg.gmarket.co.kr/543168161/still/300\n",
      "[카레여왕]카레여왕분말 108g x 6개 골라담기.png http://gdimg.gmarket.co.kr/179310752/still/300\n",
      "[네파키즈]20SS 홑겹 바람막이 쿠보 윈드 자켓 (KGD0613).png http://gdimg.gmarket.co.kr/175748448/still/300\n",
      "젤리캣 버니L(3종택1)애착인형토끼인형.png http://gdimg.gmarket.co.kr/181050716/still/300\n",
      "비니수 기획특가 봄신상모음전.png http://gdimg.gmarket.co.kr/167060930/still/300\n",
      "[올리비에스클로젯]지금 딱 좋은 썸머 필수 티셔츠블라우스원피스외.png http://gdimg.gmarket.co.kr/174625340/still/300\n",
      "도형학습지 플라토 단계별 세트 선택구매 (전4권).png http://gdimg.gmarket.co.kr/866302436/still/300\n",
      "[쉬즈홈]폭신한 자카드 발매트 1+1현관매트욕실매트.png http://gdimg.gmarket.co.kr/657493319/still/300\n",
      "업계를 리드하는 기업 3SK택배박스.png http://gdimg.gmarket.co.kr/161267854/still/300\n",
      "[에뛰드하우스]인기상품 1+1 찬스 및 최대 50% 할인전.png http://gdimg.gmarket.co.kr/961506205/still/300\n",
      "비룡소 난 책읽기가 좋아 베스트 (전13권).png http://gdimg.gmarket.co.kr/183026595/still/300\n",
      "[매니몰]반팔티티셔츠남자여자 캠핑 S~4XL.png http://gdimg.gmarket.co.kr/670624522/still/300\n",
      "[맥널티]입소문난 인스턴트 병커피 50gx3병 골라담기.png http://gdimg.gmarket.co.kr/961568530/still/300\n",
      "국산 일회용 마스크 50매 3중 멜트블로운필터.png http://gdimg.gmarket.co.kr/182546325/still/300\n",
      "[롯데제과]퀘이커 마시는오트밀 오트그레인 20개입 1박스.png http://gdimg.gmarket.co.kr/172165280/still/300\n",
      "더다다 여름신상 빅사이즈 롱티셔츠셔츠원피스.png http://gdimg.gmarket.co.kr/627247117/still/300\n",
      "[테이트]여름까지 쭉~TATE  베스트.png http://gdimg.gmarket.co.kr/176158221/still/300\n",
      "[동원참치]동원 마일드참치 150g x 10캔 참치캔.png http://gdimg.gmarket.co.kr/150267002/still/300\n",
      "[나무야나무야]나무야 도톰한 3겹데코 30m 30롤 3팩화장지휴지.png http://gdimg.gmarket.co.kr/147920906/still/300\n",
      "[베이비베이비]베이비베이비 아기물티슈 트윙클120매 20팩 캡형.png http://gdimg.gmarket.co.kr/150166761/still/300\n",
      "[러브쿡]스텐 국수냄비 18cm (깊은형) 파스타냄비 육수냄비.png http://gdimg.gmarket.co.kr/182831282/still/300\n",
      "[리챔]동원 리챔 (햄통조림) 200g x 12캔+ 사은품 증정.png http://gdimg.gmarket.co.kr/868900949/still/300\n",
      "[오뚜기밥]맛있는 오뚜기밥 210g x 24개입(1박스).png http://gdimg.gmarket.co.kr/989165626/still/300\n",
      "[캘빈클라인키즈]캘빈클라인 키즈 남아용 언더웨어 드로즈 6종세트 XL.png http://gdimg.gmarket.co.kr/183244071/still/300\n",
      "[맥심]맥심 화이트 골드 커피믹스 320T +시티컵블렌더 증정.png http://gdimg.gmarket.co.kr/110117402/still/300\n",
      "트레이닝바지 쿨팬츠 냉감티 등산바지 쿨론티 작업복.png http://gdimg.gmarket.co.kr/789109445/still/300\n",
      "[크리넥스]유한킴벌리칼로리라이트 키친타월50매X4롤+2롤X2팩.png http://gdimg.gmarket.co.kr/176981184/still/300\n",
      "[풀무원]사계절 아삭 포기김치 10kg.png http://gdimg.gmarket.co.kr/182016394/still/300\n",
      "나시 속바지 속치마 파자마 전상품 국내생산.png http://gdimg.gmarket.co.kr/128540002/still/300\n",
      "프리미엄 우삼겹(3초구이 샤브) 300g+300g+300g.png http://gdimg.gmarket.co.kr/157357102/still/300\n",
      "[갤럭시]3in1 동시 멀티 충전케이블 5핀8핀C타입 1+1 2개.png http://gdimg.gmarket.co.kr/167298431/still/300\n",
      "공식수입사 존바바토스 4종 단하루 초특가+사은품증정.png http://gdimg.gmarket.co.kr/147814669/still/300\n",
      "[현대농산]경기미 10kg 쌀10kg쌀10키로찰진 밥맛.png http://gdimg.gmarket.co.kr/167553582/still/300\n",
      "[캘빈클라인키즈]캘빈클라인 키즈 남아용 언더웨어 드로즈 6종세트 L.png http://gdimg.gmarket.co.kr/183244048/still/300\n",
      "[다샵]국산 일회용 마스크 화이트 50매.png http://gdimg.gmarket.co.kr/182582247/still/300\n",
      "프라이데이 빅세일 5900~ 빅사이즈롱티박스티루즈.png http://gdimg.gmarket.co.kr/130923337/still/300\n",
      "[핏플랍]여성 아이쿠션플리플랍 (FFSO0E401).png http://gdimg.gmarket.co.kr/181116426/still/300\n",
      "[블랙야크]한겨울 남녀공용 벤치다운 2종 L브라키2-BN히트벤치_BON.png http://gdimg.gmarket.co.kr/182765657/still/300\n",
      "[까르페디엠]스마트 자동장우산(예쁜 무지 여성 학생 튼튼한 패션).png http://gdimg.gmarket.co.kr/160184565/still/300\n",
      "봉지롤5팩(2set) 색상랜덤 총10팩 300장 대용량.png http://gdimg.gmarket.co.kr/168769643/still/300\n",
      "[더블에이]더블에이 A4 복사용지(A4용지) 80g 5000매 2BOX.png http://gdimg.gmarket.co.kr/983182527/still/300\n",
      "[파격구성] 왕교자3봉 + 매운교자3봉+새우2봉+김치2봉.png http://gdimg.gmarket.co.kr/148307784/still/300\n",
      "[롯데제과]신 퀘이커 마시는 오트밀 낱봉 20봉.png http://gdimg.gmarket.co.kr/178521495/still/300\n",
      "[맥심]맥심 모카골드 커피믹스 400T +아이스 콜드컵 증정.png http://gdimg.gmarket.co.kr/110118228/still/300\n",
      "[종근당]락토핏 생유산균 골드 50포 6개 +골드30포 사은품.png http://gdimg.gmarket.co.kr/157736443/still/300\n",
      "[HP]HP A4 복사용지(A4용지) 80g 2500매 2BOX더블에이.png http://gdimg.gmarket.co.kr/782096663/still/300\n",
      "[앳홈][앳홈]노터치크리너청소밀대1+1세트.png http://gdimg.gmarket.co.kr/172816947/still/300\n",
      "[함소아]프로폴리스 50ml x2통.png http://gdimg.gmarket.co.kr/890742319/still/300\n",
      "(etv)목우촌 무항생제 훈제오리 200gX10팩 (총 2kg).png http://gdimg.gmarket.co.kr/168705777/still/300\n",
      "[머스트비]역시즌 득템  코트 패딩점퍼 5900원~.png http://gdimg.gmarket.co.kr/129665633/still/300\n",
      "[리리코스마린에너지]딥 클렌징 폼 150ml x 2.png http://gdimg.gmarket.co.kr/173438568/still/300\n",
      "국산 반팔민소매7부내의실내복유아아동잠옷.png http://gdimg.gmarket.co.kr/128274128/still/300\n",
      "[풀무원]얇은피교자만두 2종 4봉(매콤해물2봉+고기2봉) +(증정).png http://gdimg.gmarket.co.kr/182981248/still/300\n",
      "[위드미]어썸블랙 코팩블랙헤드제거피지제거 1+1 30g(+행사).png http://gdimg.gmarket.co.kr/111682542/still/300\n",
      "[휠라키즈][휠라키즈] 핸들잇 레인 플렉스 부츠 6종택1.png http://gdimg.gmarket.co.kr/181262481/still/300\n",
      "탐스백 여름신상 숄더백미니백라탄백여성가방.png http://gdimg.gmarket.co.kr/181548233/still/300\n",
      "[아워홈]비엔나소시지 1kg+1kg.png http://gdimg.gmarket.co.kr/155552812/still/300\n",
      "스콜라스틱 사랑해 사랑해 책선물 영어 원서 7권 낱권(선택구매).png http://gdimg.gmarket.co.kr/183059577/still/300\n",
      "[라벨영]호랑이 비누 1+1 여.드름+흉터+좁쌀 제거병풀추출물.png http://gdimg.gmarket.co.kr/769284968/still/300\n",
      "한국정품 QCY T2S 블루투스 5.0 무선 충전 이어폰.png http://gdimg.gmarket.co.kr/160761625/still/300\n",
      "[맥심]모카골드 커피믹스 160T+160T.png http://gdimg.gmarket.co.kr/110368136/still/300\n",
      "[버블윅]대용량 핸드워시 레몬 4L 손세정제 거품형리필 물비누.png http://gdimg.gmarket.co.kr/177159084/still/300\n",
      "[리코셀]1일1팩 네이처 촉촉 순한 마스크팩 23ml 총 100장.png http://gdimg.gmarket.co.kr/848957621/still/300\n",
      "봉지롤5팩(3set) 색상랜덤 총15팩 450장 대용량.png http://gdimg.gmarket.co.kr/168772534/still/300\n",
      "[동원에프앤비]동원 샘물 2L x9병 x3팩 (총27병) 생수음료수.png http://gdimg.gmarket.co.kr/150536419/still/300\n",
      "쏭스타일 신상추가 롱티박스티루즈핏 특가찬스~.png http://gdimg.gmarket.co.kr/750072105/still/300\n",
      "인디안外 여름 시즌오프 베스트 아이템 최대할인.png http://gdimg.gmarket.co.kr/163220273/still/300\n",
      "[동원참치]라이트스탠다드 85g9+고추 85g3+참치콘 85g3 1박스.png http://gdimg.gmarket.co.kr/181089722/still/300\n",
      "[스팸]스팸 클래식 200g 10개.png http://gdimg.gmarket.co.kr/155223480/still/300\n",
      "국내생산 MB필터 일회용마스크 50매 덴탈 마스크.png http://gdimg.gmarket.co.kr/174138267/still/300\n",
      "[마몽드]레드세럼 한정판 OiOi 콜라보 선착순 증정_공식몰.png http://gdimg.gmarket.co.kr/177831334/still/300\n",
      "가정식 생포기김치10Kg 총각HACCP.png http://gdimg.gmarket.co.kr/173366583/still/300\n",
      "[홈스타]홈스타 뿌리는 곰팡이싹 750ml 4개 + 펑펑 1L.png http://gdimg.gmarket.co.kr/165346992/still/300\n",
      "[마몽드]레드에너지 리커버리 세럼 50ml 스페셜 세트 공식몰.png http://gdimg.gmarket.co.kr/179481613/still/300\n",
      "[제주삼다수]제주삼다수 2L 12병생수전문배송.png http://gdimg.gmarket.co.kr/168603530/still/300\n",
      "[트렉스타][트렉스타] 고어텍스 트레킹화 서라운드105.png http://gdimg.gmarket.co.kr/182287761/still/300\n",
      "(빠른직구)샤오미 미지아 8H 쿨매트1.2m2.0m.png http://gdimg.gmarket.co.kr/159939695/still/300\n",
      "[바라던]고급 소고기 살치살 초이스등급 200g 3팩 (증정행사).png http://gdimg.gmarket.co.kr/162795310/still/300\n",
      "[카누]미니 120T~150T스프링커피믹스카누라떼아이스.png http://gdimg.gmarket.co.kr/636718363/still/300\n",
      "[락앤락]락앤락 물병 보틀 텀블러 균일가 몽땅 창고 대개방.png http://gdimg.gmarket.co.kr/178753621/still/300\n",
      "[지오다노]지오다노 여름신상대전 PK반팔반바지쿨맥스 外.png http://gdimg.gmarket.co.kr/118127537/still/300\n",
      "[잘풀리는집]순수PURE 천연펄프 25m30롤 x3팩휴지화장지.png http://gdimg.gmarket.co.kr/114007574/still/300\n",
      "[아침농산]국산 농부의아침 쌀10kg  백미 2019년산 햅쌀.png http://gdimg.gmarket.co.kr/484828506/still/300\n",
      "[네스카페]수프리모 오리지널 300T+ USB선풍기 증정.png http://gdimg.gmarket.co.kr/167669726/still/300\n",
      "[밀크]밀크 A4용지 80g 2박스(4000매) A4 복사용지 복사지.png http://gdimg.gmarket.co.kr/131725821/still/300\n",
      "[더블에이]더블에이 A4 복사용지  80g 4000매 2BOXA4용지.png http://gdimg.gmarket.co.kr/772056310/still/300\n",
      "[아디다스][1+1] 아디다스 20SS 신상 반팔티셔츠 택2 (S~XXL  8종 택2)_그래픽 반팔티 II ADITSG2 커뮤니티 반팔티 II ADICSTS04 한정수량특가.png http://gdimg.gmarket.co.kr/182525443/still/300\n",
      "[유한양행]해피홈 파워매트 훈증기+리필 90매 +60매 추가증정.png http://gdimg.gmarket.co.kr/128296911/still/300\n",
      "정식품 심천수 샘물 2LX24팩 신제품 생수 행사.png http://gdimg.gmarket.co.kr/178360418/still/300\n",
      "[로티캠프]접이식 캠핑 에코 암체어 의자 1+1 낚시 야외 용품.png http://gdimg.gmarket.co.kr/146296433/still/300\n",
      "황금미가 쌀 20kg 19년산 (당일도정).png http://gdimg.gmarket.co.kr/858294811/still/300\n",
      "스타스텝 단독특가 빅사이즈원피스티셔츠세트.png http://gdimg.gmarket.co.kr/172213507/still/300\n",
      "[백산수]백산수 2L 12병생수전문배송.png http://gdimg.gmarket.co.kr/175777447/still/300\n",
      "리얼코코 여름신상원피스블라우스자켓.png http://gdimg.gmarket.co.kr/183220576/still/300\n",
      "[브리타]막스트라 플러스 필터 3개월분 +1개월분 (총 4개월분).png http://gdimg.gmarket.co.kr/164746844/still/300\n",
      "[맥심]화이트골드 320T +시티컵블렌더세트 증정.png http://gdimg.gmarket.co.kr/114591890/still/300\n",
      "[리챔]마일드 참치 200g 5캔+리챔 오리지널 200g 5캔.png http://gdimg.gmarket.co.kr/158169359/still/300\n",
      "CJ제일제당 둥근 햇반 210g x 24개.png http://gdimg.gmarket.co.kr/761914450/still/300\n",
      "라이프케어 저분자 피쉬콜라겐C 90포 유산균비타민C.png http://gdimg.gmarket.co.kr/172555277/still/300\n",
      "알라딘매직행거30개 고리회전 논슬립옷걸이 옷장 수납.png http://gdimg.gmarket.co.kr/233505948/still/300\n",
      "브라썸브라팬티세트 ABCD컵왕뽕빅사이즈여성속옷.png http://gdimg.gmarket.co.kr/960753074/still/300\n",
      "[맥심](행사상품)N 동서식품_맥심모카골드믹스_230T 2760G .png http://gdimg.gmarket.co.kr/127399919/still/300\n",
      "백종원이 추천하는 집밥 메뉴 52 54 55 56 선택구매.png http://gdimg.gmarket.co.kr/182516348/still/300\n",
      "[노바리빙]노바리빙 다용도 3단 문걸이 수납 선반.png http://gdimg.gmarket.co.kr/994719182/still/300\n",
      "[피죤]피죤 섬유유연제 3100ml 6개골라담기.png http://gdimg.gmarket.co.kr/172852998/still/300\n",
      "[다우니]고농축 다우니 엑스퍼트 실내건조1L 6개.png http://gdimg.gmarket.co.kr/157806114/still/300\n",
      "[햇반]CJ 햇반 210g 36개 (1박스).png http://gdimg.gmarket.co.kr/165127391/still/300\n",
      "[맥심]맥심 모카골드 커피믹스 320T : 커피는 맥심 ~.png http://gdimg.gmarket.co.kr/110116977/still/300\n",
      "[HP]HP A4 복사용지(A4용지) 75g 2500매 2BOX더블에이.png http://gdimg.gmarket.co.kr/230690388/still/300\n",
      "(쿠폰할인-특가) 여원미디어 탄탄 곰돌아 안녕 총31종 세트 : 탄탄테마동화 세계창작동화.png http://gdimg.gmarket.co.kr/159882080/still/300\n",
      "유귀열의 The 귀한 능이 누룽지삼계탕 1.2kg 9팩.png http://gdimg.gmarket.co.kr/178801404/still/300\n",
      "[켈로그]첵스초코 3종(쿠키앤크림+스노우+마시멜로).png http://gdimg.gmarket.co.kr/182265689/still/300\n",
      "[파스퇴르]파스퇴르 뉴칼슘두유 190mL 16팩 X3 (48팩).png http://gdimg.gmarket.co.kr/163475709/still/300\n",
      "[클리오](10%중복쿠폰)클리오페리페라 外 6월 클클세일.png http://gdimg.gmarket.co.kr/822286652/still/300\n",
      "데일리 3중구조 일회용 페이스 마스크 100장 세트(대형화이트50매x2).png http://gdimg.gmarket.co.kr/183065884/still/300\n",
      "[가나양말]남자 여자 발목 양말 덧신 페이크삭스 뮬 블로퍼 양말.png http://gdimg.gmarket.co.kr/146299048/still/300\n",
      "[우포스]우포스 발편한 기능성 힐링 슬리퍼 조리.png http://gdimg.gmarket.co.kr/823022587/still/300\n",
      "명가미곡 신동진쌀 쌀10kg 2019년백미10Kg당일도정.png http://gdimg.gmarket.co.kr/162341305/still/300\n",
      "[테팔](7만원 세일)테팔 솔리드 블랙 프라이팬 5종 세트.png http://gdimg.gmarket.co.kr/173962793/still/300\n",
      "[다샵]국내인증 일회용마스크(50매)멜트브로운3중덴탈마스크.png http://gdimg.gmarket.co.kr/176915739/still/300\n",
      "풍기인견 파격세일 엄마옷로즈맘 50대중년여성의류.png http://gdimg.gmarket.co.kr/776582823/still/300\n",
      "[GNM자연의품격]프리바이오틱스 FOS 유산균 3박스 (총 90포).png http://gdimg.gmarket.co.kr/159308964/still/300\n",
      "[팜파스]무형광 미쁘 핸드타올  2겹5000매 페이퍼타올 핸드타월.png http://gdimg.gmarket.co.kr/901925478/still/300\n",
      "[에프킬라]에프킬라 에어로졸 맥스 바퀴살충제 500ml 3개.png http://gdimg.gmarket.co.kr/167839709/still/300\n",
      "덴탈마스크(50매) PreSafe(의약외품)or여름용 마스크.png http://gdimg.gmarket.co.kr/182694915/still/300\n",
      "[카누]카누 미니 마일드  다크로스트 120TX2개: 다크 총240T.png http://gdimg.gmarket.co.kr/447292392/still/300\n",
      "내츄럴하모니 MB필터 데일리마스크 50매 100% 국내생산.png http://gdimg.gmarket.co.kr/182856534/still/300\n",
      "[롯데칠성]미린다 파인애플 355ml 12캔+오렌지 355ml 12캔.png http://gdimg.gmarket.co.kr/176093087/still/300\n",
      "[보솜이]라이트핏 썸머 밴드팬티 기저귀 3팩.png http://gdimg.gmarket.co.kr/180775306/still/300\n",
      "[페이퍼플레인키즈]아동장화 유아장화 아동 레인부츠 샌들 아동화 슈즈.png http://gdimg.gmarket.co.kr/377653766/still/300\n",
      "[올리비아로렌]여름 인기 아이템 티셔츠블라우스 외 + 최대22%쿠폰.png http://gdimg.gmarket.co.kr/165577476/still/300\n",
      "[테슬라]데일리 샌들 스포츠샌들 남성샌들 여성샌들 아웃도어.png http://gdimg.gmarket.co.kr/693762561/still/300\n",
      "국내생산 종이컵 2000개 1Box특별기획상품.png http://gdimg.gmarket.co.kr/724874221/still/300\n",
      "[두보레]두보레 에센스비누 장미 4입 x 4개 (16입).png http://gdimg.gmarket.co.kr/181535373/still/300\n",
      "[모나리자]모나리자 미용티슈 180매 3입 4개 총12개 각티슈.png http://gdimg.gmarket.co.kr/174666344/still/300\n",
      "[종근당]락토핏 생유산균 골드 50포 3개.png http://gdimg.gmarket.co.kr/157751097/still/300\n",
      "강블리라이프 블링 휴 30M 3겹 30롤 X 2팩화장지휴지.png http://gdimg.gmarket.co.kr/158365846/still/300\n",
      "[카누]카누 미니 마일드 (3+1) 120T : 기획제품 행사 ~.png http://gdimg.gmarket.co.kr/149688092/still/300\n",
      "[브라운]브라운 비접촉식 체온계 BNT100 무료배송재고보유.png http://gdimg.gmarket.co.kr/180675095/still/300\n",
      "[밀크]밀크 A4용지 80g 2박스(5000매) A4 복사용지 복사지.png http://gdimg.gmarket.co.kr/291042812/still/300\n",
      "[굽네몰](행사) 굽네 닭가슴살소세지 실속10팩구성 골라담기.png http://gdimg.gmarket.co.kr/169512804/still/300\n",
      "[TS]대한민국 대표 탈모샴푸 올뉴플러스 티에스[샴푸구성].png http://gdimg.gmarket.co.kr/154139006/still/300\n",
      "소금염지 간편조리용 쪽갈비 500g3팩2set구매소등심증.png http://gdimg.gmarket.co.kr/182847525/still/300\n",
      "(빠른직구)샤오미 미지아 8H 쿨매트1.8mX2.0m.png http://gdimg.gmarket.co.kr/159940478/still/300\n",
      "[베어파우][베어파우] 리프(Leaf) 메쉬 슬립온.png http://gdimg.gmarket.co.kr/179821673/still/300\n",
      "[베베앙]베베앙 아기물티슈  시그니처 대용량 100매 캡형 10팩.png http://gdimg.gmarket.co.kr/160447909/still/300\n",
      "[베비언스]베비언스 킨더밀쉬 1단계 200ml 24입.png http://gdimg.gmarket.co.kr/151244840/still/300\n",
      "2020 여름신상 (키펀트) 아동 남아 여아샌들구두.png http://gdimg.gmarket.co.kr/142642637/still/300\n",
      "[스파클]스파클생수 2L 30병.png http://gdimg.gmarket.co.kr/151063758/still/300\n",
      "[바라던]6 7 8번 꽃갈비 부위를 사용한 LA갈비 1kg(증정행사).png http://gdimg.gmarket.co.kr/171932208/still/300\n",
      "(CJ공식샵)고메 바삭튀겨낸 꼬마돈카츠 450gx6개.png http://gdimg.gmarket.co.kr/421330026/still/300\n",
      "[행텐]행텐주니어 여름단독가격인하 티셔츠팬츠 외 특가.png http://gdimg.gmarket.co.kr/180654435/still/300\n",
      "[미쟝센]NEW 헬로크림헬로버블 염색약 런칭 모음전.png http://gdimg.gmarket.co.kr/699501445/still/300\n",
      "여름5부 반팔티 티셔츠 오버핏 박스티 남자남성 여성.png http://gdimg.gmarket.co.kr/805485741/still/300\n",
      "[브라운]브라운 체온계  IRT 6520 귀체온계무료배송재고보유.png http://gdimg.gmarket.co.kr/176719145/still/300\n",
      "[머렐][머렐] 키즈 구스 라쿤 롱벤치다운 5219KD415.png http://gdimg.gmarket.co.kr/181577999/still/300\n",
      "[구글플레이](카드가능) 기프트코드 10만원  구글 기프트카드.png http://gdimg.gmarket.co.kr/165524237/still/300\n",
      "[에그머니](카드가능)(에그머니) 온라인 게임상품권 5만원.png http://gdimg.gmarket.co.kr/179156562/still/300\n",
      "[맥심]모카골드 400T커피믹스 캐시백아이스 콜드컵 증정.png http://gdimg.gmarket.co.kr/114203112/still/300\n",
      "[크록스][크록스]2020 크록 밴드바야 밴드 성인용 12종 (11016205089).png http://gdimg.gmarket.co.kr/169958245/still/300\n",
      "[산과들에]하루 한줌 견과 원데이프리미엄100낱봉.png http://gdimg.gmarket.co.kr/157780026/still/300\n",
      "[윈드피아]가정용 업소용 캠핑용 해충퇴치기 모기퇴치기 WM-500 2.png http://gdimg.gmarket.co.kr/143723665/still/300\n",
      "[버블윅]그린뚜러펑 배수구세정제펑크린싱크대변기 2Lx6개.png http://gdimg.gmarket.co.kr/168099727/still/300\n",
      "[힐링팩토리]캐나다직수입 오메가3 1303mg+비타민D 1000IU 6개월분.png http://gdimg.gmarket.co.kr/112418530/still/300\n",
      "[살림백서]살림백서 제습제 520ml 24개입 옷장 습기제거제.png http://gdimg.gmarket.co.kr/180353835/still/300\n",
      "[에버라스트]에버라스트 엘리 여성가방 4종.png http://gdimg.gmarket.co.kr/180741088/still/300\n",
      "[GFresh]통통 햇오징어 1KG 7-9미  동해 자연산 생물 햇오징어.png http://gdimg.gmarket.co.kr/146719814/still/300\n"
     ]
    }
   ],
   "source": [
    "for idx, row in items_df.iterrows():\n",
    "    link = \"http://gdimg.gmarket.co.kr/{}/still/300\".format(row[\"code\"])\n",
    "    title = row[\"title\"] + \".png\"\n",
    "    title = title.replace(\"/\", \"\")\n",
    "    print(title, link)\n",
    "    download(title, link)"
   ]
  },
  {
   "cell_type": "code",
   "execution_count": 20,
   "metadata": {},
   "outputs": [
    {
     "data": {
      "text/plain": [
       "200"
      ]
     },
     "execution_count": 20,
     "metadata": {},
     "output_type": "execute_result"
    }
   ],
   "source": [
    "imgs = !ls datas\n",
    "len(imgs)"
   ]
  }
 ],
 "metadata": {
  "kernelspec": {
   "display_name": "Python 3",
   "language": "python",
   "name": "python3"
  },
  "language_info": {
   "codemirror_mode": {
    "name": "ipython",
    "version": 3
   },
   "file_extension": ".py",
   "mimetype": "text/x-python",
   "name": "python",
   "nbconvert_exporter": "python",
   "pygments_lexer": "ipython3",
   "version": "3.7.6"
  }
 },
 "nbformat": 4,
 "nbformat_minor": 4
}
