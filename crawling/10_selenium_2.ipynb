{
 "cells": [
  {
   "cell_type": "markdown",
   "metadata": {},
   "source": [
    "#### 네이버 기사 제목 데이터 크롤링\n",
    "- selenium 을 이용한 텍스트 데이터 수집\n",
    "- thread 를 사용한 데이터 수집"
   ]
  },
  {
   "cell_type": "code",
   "execution_count": 1,
   "metadata": {},
   "outputs": [],
   "source": [
    "from selenium import webdriver"
   ]
  },
  {
   "cell_type": "code",
   "execution_count": 2,
   "metadata": {},
   "outputs": [],
   "source": [
    "page = 2\n",
    "url = \"https://news.naver.com/main/main.nhn?\\\n",
    "mode=LSD&mid=shm&sid1=105#&date=%2000:00:00&page={}\".format(page)"
   ]
  },
  {
   "cell_type": "code",
   "execution_count": 3,
   "metadata": {},
   "outputs": [],
   "source": [
    "driver = webdriver.Chrome()\n",
    "driver.get(url)"
   ]
  },
  {
   "cell_type": "code",
   "execution_count": 4,
   "metadata": {},
   "outputs": [
    {
     "data": {
      "text/plain": [
       "20"
      ]
     },
     "execution_count": 4,
     "metadata": {},
     "output_type": "execute_result"
    }
   ],
   "source": [
    "articles = driver.find_elements_by_css_selector(\"#section_body li\")\n",
    "len(articles)"
   ]
  },
  {
   "cell_type": "code",
   "execution_count": 5,
   "metadata": {},
   "outputs": [
    {
     "data": {
      "text/plain": [
       "\"판은 한국이 깔았는데…'중국 놀이터' 된 지스타 2019 [노정동의 3분IT]\""
      ]
     },
     "execution_count": 5,
     "metadata": {},
     "output_type": "execute_result"
    }
   ],
   "source": [
    "articles[0].find_element_by_css_selector(\"dt:not(.photo) > a\").text"
   ]
  },
  {
   "cell_type": "code",
   "execution_count": 6,
   "metadata": {},
   "outputs": [],
   "source": [
    "article_list = []\n",
    "\n",
    "for article in articles:\n",
    "    title = article.find_element_by_css_selector(\"dt:not(.photo) > a\").text\n",
    "    article_list.append(title)"
   ]
  },
  {
   "cell_type": "code",
   "execution_count": 8,
   "metadata": {},
   "outputs": [],
   "source": [
    "driver.quit()"
   ]
  },
  {
   "cell_type": "code",
   "execution_count": 9,
   "metadata": {},
   "outputs": [],
   "source": [
    "# 함수로 만들기\n",
    "article_list = []\n",
    "\n",
    "def get_articles(page):\n",
    "    driver = webdriver.Chrome()\n",
    "    url = \"https://news.naver.com/main/main.nhn?\\\n",
    "mode=LSD&mid=shm&sid1=105#&date=%2000:00:00&page={}\".format(page)\n",
    "    driver.get(url)\n",
    "    articles = driver.find_elements_by_css_selector(\"#section_body li\")\n",
    "    for article in articles:\n",
    "        title = article.find_element_by_css_selector(\"dt:not(.photo) > a\").text\n",
    "        article_list.append(title)\n",
    "    print(\"crawling : {}\".format(page))\n",
    "    driver.quit()"
   ]
  },
  {
   "cell_type": "code",
   "execution_count": 10,
   "metadata": {},
   "outputs": [
    {
     "name": "stdout",
     "output_type": "stream",
     "text": [
      "crawling : 1\n",
      "crawling : 2\n",
      "crawling : 3\n",
      "crawling : 4\n",
      "CPU times: user 134 ms, sys: 38.1 ms, total: 172 ms\n",
      "Wall time: 14.2 s\n"
     ]
    }
   ],
   "source": [
    "%%time\n",
    "for page in range(1, 5):\n",
    "    get_articles(page)"
   ]
  },
  {
   "cell_type": "code",
   "execution_count": 12,
   "metadata": {},
   "outputs": [
    {
     "data": {
      "text/plain": [
       "[\"5년 뒤 9兆 시장…'게임체인저' 주목받는 클라우드게임\", '\"소규모 지진 때 지열발전 멈췄다면…포항지진 확률 1%에 불과했을 것\"']"
      ]
     },
     "execution_count": 12,
     "metadata": {},
     "output_type": "execute_result"
    }
   ],
   "source": [
    "article_list[:2]"
   ]
  },
  {
   "cell_type": "markdown",
   "metadata": {},
   "source": [
    "#### thread 사용"
   ]
  },
  {
   "cell_type": "code",
   "execution_count": 14,
   "metadata": {},
   "outputs": [],
   "source": [
    "import threading"
   ]
  },
  {
   "cell_type": "code",
   "execution_count": 15,
   "metadata": {},
   "outputs": [],
   "source": [
    "article_list = []\n",
    "\n",
    "for page in range(1, 5):\n",
    "    th = threading.Thread(target=get_articles, args=(page,))\n",
    "    th.start()"
   ]
  },
  {
   "cell_type": "code",
   "execution_count": 16,
   "metadata": {},
   "outputs": [
    {
     "name": "stdout",
     "output_type": "stream",
     "text": [
      "1 2 3 4 5 6 7 crawling : 2\n",
      "8 crawling : 1\n",
      "crawling : 3\n",
      "crawling : 4\n",
      "9 "
     ]
    }
   ],
   "source": [
    "import time\n",
    "sec = 0\n",
    "while len(article_list) < 80:\n",
    "    time.sleep(1)\n",
    "    sec += 1\n",
    "    print(sec, end=\" \")"
   ]
  }
 ],
 "metadata": {
  "kernelspec": {
   "display_name": "Python 3",
   "language": "python",
   "name": "python3"
  },
  "language_info": {
   "codemirror_mode": {
    "name": "ipython",
    "version": 3
   },
   "file_extension": ".py",
   "mimetype": "text/x-python",
   "name": "python",
   "nbconvert_exporter": "python",
   "pygments_lexer": "ipython3",
   "version": "3.7.6"
  }
 },
 "nbformat": 4,
 "nbformat_minor": 2
}
