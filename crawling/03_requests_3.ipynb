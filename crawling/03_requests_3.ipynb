{
 "cells": [
  {
   "cell_type": "markdown",
   "metadata": {},
   "source": [
    "### 직방\n",
    "- 동이름을 입력하면 아파트 매물을 데이터 프레임으로 만들기\n",
    "- robots.txt"
   ]
  },
  {
   "cell_type": "markdown",
   "metadata": {},
   "source": [
    "#### 1. 웹서비스 분석 : URL 찾기, 크롤링 전략 세우기\n",
    "\n",
    "- 동이름 입력 -> lat, lng\n",
    "- lat, lng -> geohash : geohash 패키지 설치\n",
    "- geohash -> item ids\n",
    "- item ids -> item datas(데이터 프레임)"
   ]
  },
  {
   "cell_type": "code",
   "execution_count": 29,
   "metadata": {},
   "outputs": [
    {
     "data": {
      "text/plain": [
       "(37.541725158691406, 127.04335021972656)"
      ]
     },
     "execution_count": 29,
     "metadata": {},
     "output_type": "execute_result"
    }
   ],
   "source": [
    "# 동이름 -> 위도 경도\n",
    "addr = \"성수동\"\n",
    "url = \"https://apis.zigbang.com/search?q={}\".format(addr)\n",
    "response = requests.get(url)\n",
    "data = response.json()[\"items\"][0]\n",
    "lat, lng = data[\"lat\"], data[\"lng\"]\n",
    "lat, lng"
   ]
  },
  {
   "cell_type": "code",
   "execution_count": 30,
   "metadata": {},
   "outputs": [],
   "source": [
    "# 위도, 경도 -> geohash\n",
    "# pip install geohash2"
   ]
  },
  {
   "cell_type": "code",
   "execution_count": 31,
   "metadata": {},
   "outputs": [],
   "source": [
    "import geohash2"
   ]
  },
  {
   "cell_type": "code",
   "execution_count": 32,
   "metadata": {},
   "outputs": [
    {
     "data": {
      "text/plain": [
       "(37.541725158691406, 127.04335021972656, 'wydmd')"
      ]
     },
     "execution_count": 32,
     "metadata": {},
     "output_type": "execute_result"
    }
   ],
   "source": [
    "# precision : 작을수록 큰범위, 클수록 작은 범위\n",
    "geohash = geohash2.encode(lat, lng, precision=5)\n",
    "lat, lng, geohash"
   ]
  },
  {
   "cell_type": "code",
   "execution_count": 35,
   "metadata": {},
   "outputs": [
    {
     "data": {
      "text/plain": [
       "(2345, [17788871, 17813458, 17962259])"
      ]
     },
     "execution_count": 35,
     "metadata": {},
     "output_type": "execute_result"
    }
   ],
   "source": [
    "# geohash -> ids\n",
    "url = \"https://apis.zigbang.com/property/apartments/items?\\\n",
    "domain=zigbang&geohash={}\\\n",
    "&q=type=sales%7Cprice=0~-1%7CfloorArea=0~-1\".format(geohash)\n",
    "response = requests.get(url)\n",
    "datas = response.json()[\"items\"]\n",
    "ids = [data[\"itemId\"] for data in datas]\n",
    "len(ids), ids[:3]"
   ]
  },
  {
   "cell_type": "code",
   "execution_count": 50,
   "metadata": {},
   "outputs": [],
   "source": [
    "# ids -> items\n",
    "ids_str = str(ids[:200]).replace(\" \", \"\")\n",
    "url = \"https://apis.zigbang.com/property/apartments/items?\\\n",
    "vritemIds={ids}&itemIds={ids}&citemIds={ids}\".format(ids=ids_str)\n",
    "response = requests.get(url)\n",
    "datas = response.json()[\"items\"]"
   ]
  },
  {
   "cell_type": "code",
   "execution_count": 51,
   "metadata": {},
   "outputs": [],
   "source": [
    "item_df = pd.DataFrame(datas)"
   ]
  },
  {
   "cell_type": "code",
   "execution_count": 52,
   "metadata": {},
   "outputs": [
    {
     "data": {
      "text/plain": [
       "39"
      ]
     },
     "execution_count": 52,
     "metadata": {},
     "output_type": "execute_result"
    }
   ],
   "source": [
    "len(item_df.columns)"
   ]
  },
  {
   "cell_type": "code",
   "execution_count": 53,
   "metadata": {},
   "outputs": [],
   "source": [
    "# panda option 설정\n",
    "pd.options.display.max_columns = len(item_df.columns)"
   ]
  },
  {
   "cell_type": "code",
   "execution_count": 54,
   "metadata": {},
   "outputs": [],
   "source": [
    "columns = [ \"itemId\", \"buildingFloor\", \"groupedItemFloor\", \"grossArea\", \"lat\", \"lng\", \"sales\", \"itemTitle\" ]\n",
    "item_df = item_df[columns]"
   ]
  },
  {
   "cell_type": "code",
   "execution_count": 55,
   "metadata": {},
   "outputs": [],
   "source": [
    "item_df[\"m2\"] = item_df[\"grossArea\"].apply(lambda data: data[\"m2\"])\n",
    "item_df[\"p\"] = item_df[\"grossArea\"].apply(lambda data: data[\"p\"])\n",
    "item_df.drop(columns=[\"grossArea\"], inplace=True)"
   ]
  },
  {
   "cell_type": "code",
   "execution_count": 56,
   "metadata": {},
   "outputs": [
    {
     "data": {
      "text/html": [
       "<div>\n",
       "<style scoped>\n",
       "    .dataframe tbody tr th:only-of-type {\n",
       "        vertical-align: middle;\n",
       "    }\n",
       "\n",
       "    .dataframe tbody tr th {\n",
       "        vertical-align: top;\n",
       "    }\n",
       "\n",
       "    .dataframe thead th {\n",
       "        text-align: right;\n",
       "    }\n",
       "</style>\n",
       "<table border=\"1\" class=\"dataframe\">\n",
       "  <thead>\n",
       "    <tr style=\"text-align: right;\">\n",
       "      <th></th>\n",
       "      <th>itemId</th>\n",
       "      <th>buildingFloor</th>\n",
       "      <th>groupedItemFloor</th>\n",
       "      <th>lat</th>\n",
       "      <th>lng</th>\n",
       "      <th>sales</th>\n",
       "      <th>itemTitle</th>\n",
       "      <th>m2</th>\n",
       "      <th>p</th>\n",
       "    </tr>\n",
       "  </thead>\n",
       "  <tbody>\n",
       "    <tr>\n",
       "      <th>199</th>\n",
       "      <td>17331412</td>\n",
       "      <td>15</td>\n",
       "      <td>저층</td>\n",
       "      <td>37.557901</td>\n",
       "      <td>127.027117</td>\n",
       "      <td>87000</td>\n",
       "      <td>작은방확장, 올수리, 중문설치, 깨끗한집</td>\n",
       "      <td>104</td>\n",
       "      <td>31</td>\n",
       "    </tr>\n",
       "  </tbody>\n",
       "</table>\n",
       "</div>"
      ],
      "text/plain": [
       "       itemId buildingFloor groupedItemFloor        lat         lng  sales  \\\n",
       "199  17331412            15               저층  37.557901  127.027117  87000   \n",
       "\n",
       "                  itemTitle   m2   p  \n",
       "199  작은방확장, 올수리, 중문설치, 깨끗한집  104  31  "
      ]
     },
     "execution_count": 56,
     "metadata": {},
     "output_type": "execute_result"
    }
   ],
   "source": [
    "item_df.tail(1)"
   ]
  },
  {
   "cell_type": "markdown",
   "metadata": {},
   "source": [
    "#### 함수로 만들기\n",
    "- 동이름 -> 아파트 매물 데이터 프레임"
   ]
  },
  {
   "cell_type": "code",
   "execution_count": 61,
   "metadata": {},
   "outputs": [],
   "source": [
    "def crawling_apt(addr):\n",
    "    # 동이름 -> 위도,경도\n",
    "    url = \"https://apis.zigbang.com/search?q={}\".format(addr)\n",
    "    response = requests.get(url)\n",
    "    data = response.json()[\"items\"][0]\n",
    "    lat, lng = data[\"lat\"], data[\"lng\"]\n",
    "    \n",
    "    # 위도,경도 -> geohash\n",
    "    geohash = geohash2.encode(lat, lng, precision=5)\n",
    "    \n",
    "    # geohash -> ids\n",
    "    url = \"https://apis.zigbang.com/property/apartments/items?\\\n",
    "domain=zigbang&geohash={}\\\n",
    "&q=type=sales%7Cprice=0~-1%7CfloorArea=0~-1\".format(geohash)\n",
    "    response = requests.get(url)\n",
    "    datas = response.json()[\"items\"]\n",
    "    ids = [data[\"itemId\"] for data in datas]\n",
    "    \n",
    "    # ids -> items : 200개씩\n",
    "    dfs = [] \n",
    "    for idx in range(0, len(ids), 200):\n",
    "        start, end = idx, idx + 200\n",
    "        ids_str = str(ids[start:end]).replace(\" \", \"\")\n",
    "        url = \"https://apis.zigbang.com/property/apartments/items?\\\n",
    "        vritemIds={ids}&itemIds={ids}&citemIds={ids}\".format(ids=ids_str)\n",
    "        response = requests.get(url)\n",
    "        datas = response.json()[\"items\"]\n",
    "        item_df = pd.DataFrame(datas)\n",
    "        columns = [ \"itemId\", \"buildingFloor\", \"groupedItemFloor\", \"grossArea\", \"lat\", \"lng\", \"sales\", \"itemTitle\" ]\n",
    "        item_df = item_df[columns]\n",
    "        item_df[\"m2\"] = item_df[\"grossArea\"].apply(lambda data: data[\"m2\"])\n",
    "        item_df[\"p\"] = item_df[\"grossArea\"].apply(lambda data: data[\"p\"])\n",
    "        item_df.drop(columns=[\"grossArea\"], inplace=True)\n",
    "        dfs.append(item_df)\n",
    "    result_df = pd.concat(dfs)\n",
    "    result_df.reset_index(drop=True, inplace=True)\n",
    "    return result_df"
   ]
  },
  {
   "cell_type": "code",
   "execution_count": 62,
   "metadata": {},
   "outputs": [
    {
     "data": {
      "text/html": [
       "<div>\n",
       "<style scoped>\n",
       "    .dataframe tbody tr th:only-of-type {\n",
       "        vertical-align: middle;\n",
       "    }\n",
       "\n",
       "    .dataframe tbody tr th {\n",
       "        vertical-align: top;\n",
       "    }\n",
       "\n",
       "    .dataframe thead th {\n",
       "        text-align: right;\n",
       "    }\n",
       "</style>\n",
       "<table border=\"1\" class=\"dataframe\">\n",
       "  <thead>\n",
       "    <tr style=\"text-align: right;\">\n",
       "      <th></th>\n",
       "      <th>itemId</th>\n",
       "      <th>buildingFloor</th>\n",
       "      <th>groupedItemFloor</th>\n",
       "      <th>lat</th>\n",
       "      <th>lng</th>\n",
       "      <th>sales</th>\n",
       "      <th>itemTitle</th>\n",
       "      <th>m2</th>\n",
       "      <th>p</th>\n",
       "    </tr>\n",
       "  </thead>\n",
       "  <tbody>\n",
       "    <tr>\n",
       "      <th>2343</th>\n",
       "      <td>18414690</td>\n",
       "      <td>21</td>\n",
       "      <td>중층</td>\n",
       "      <td>37.568878</td>\n",
       "      <td>127.031898</td>\n",
       "      <td>85000</td>\n",
       "      <td>집상태 깨끗한 물건</td>\n",
       "      <td>107</td>\n",
       "      <td>32</td>\n",
       "    </tr>\n",
       "    <tr>\n",
       "      <th>2344</th>\n",
       "      <td>18408870</td>\n",
       "      <td>25</td>\n",
       "      <td>중층</td>\n",
       "      <td>37.570465</td>\n",
       "      <td>127.024673</td>\n",
       "      <td>118000</td>\n",
       "      <td>시세보다 저렴한 가격으로 투자하기 좋아요 현재 전세거주중</td>\n",
       "      <td>107</td>\n",
       "      <td>32</td>\n",
       "    </tr>\n",
       "  </tbody>\n",
       "</table>\n",
       "</div>"
      ],
      "text/plain": [
       "        itemId buildingFloor groupedItemFloor        lat         lng   sales  \\\n",
       "2343  18414690            21               중층  37.568878  127.031898   85000   \n",
       "2344  18408870            25               중층  37.570465  127.024673  118000   \n",
       "\n",
       "                            itemTitle   m2   p  \n",
       "2343                       집상태 깨끗한 물건  107  32  \n",
       "2344  시세보다 저렴한 가격으로 투자하기 좋아요 현재 전세거주중  107  32  "
      ]
     },
     "execution_count": 62,
     "metadata": {},
     "output_type": "execute_result"
    }
   ],
   "source": [
    "result = crawling_apt(\"성수동\")\n",
    "result.tail(2)"
   ]
  },
  {
   "cell_type": "code",
   "execution_count": null,
   "metadata": {},
   "outputs": [],
   "source": []
  },
  {
   "cell_type": "code",
   "execution_count": null,
   "metadata": {},
   "outputs": [],
   "source": []
  },
  {
   "cell_type": "code",
   "execution_count": null,
   "metadata": {},
   "outputs": [],
   "source": []
  },
  {
   "cell_type": "code",
   "execution_count": null,
   "metadata": {},
   "outputs": [],
   "source": []
  },
  {
   "cell_type": "code",
   "execution_count": null,
   "metadata": {},
   "outputs": [],
   "source": []
  }
 ],
 "metadata": {
  "kernelspec": {
   "display_name": "Python 3",
   "language": "python",
   "name": "python3"
  },
  "language_info": {
   "codemirror_mode": {
    "name": "ipython",
    "version": 3
   },
   "file_extension": ".py",
   "mimetype": "text/x-python",
   "name": "python",
   "nbconvert_exporter": "python",
   "pygments_lexer": "ipython3",
   "version": "3.7.3"
  }
 },
 "nbformat": 4,
 "nbformat_minor": 2
}
