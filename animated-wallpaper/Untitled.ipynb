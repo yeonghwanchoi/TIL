{
 "cells": [
  {
   "cell_type": "code",
   "execution_count": 7,
   "metadata": {},
   "outputs": [],
   "source": [
    "import sys\n",
    "from PyQt5 import QtCore, QtWidgets\n",
    "# from PyQt5.QtGui import QMoive\n",
    "from PyQt5 import QtCore, QtGui, QtWidgets"
   ]
  },
  {
   "cell_type": "code",
   "execution_count": null,
   "metadata": {},
   "outputs": [],
   "source": [
    "class Sticker(QtWidgets.QmainWindow):\n",
    "    def __init__(self, img_path, xy, size=1.0, on_top=False):\n",
    "        super(Stricker, self).__init__()\n",
    "        \n",
    "        self.img_path= img_path\n",
    "        self.xy = xy\n",
    "        self.from_xy= xy\n",
    "        self.to_xy = xy\n",
    "        self.speed = 60\n",
    "        self.direction=[0,0]\n",
    "        self.size=size\n",
    "        self.on_top = on_top\n",
    "        self.localPos = None\n",
    "        \n",
    "        self.setupUi()\n",
    "        self.show()\n",
    "    \n",
    "    \n",
    "    def walk(self,from_xy, to_xy, speed=60):\n",
    "        self.from_xy=from_xy\n",
    "        self.to_xy= to_xy\n",
    "        self.speed = speed\n",
    "        "
   ]
  },
  {
   "cell_type": "code",
   "execution_count": null,
   "metadata": {},
   "outputs": [],
   "source": []
  }
 ],
 "metadata": {
  "kernelspec": {
   "display_name": "Python 3",
   "language": "python",
   "name": "python3"
  },
  "language_info": {
   "codemirror_mode": {
    "name": "ipython",
    "version": 3
   },
   "file_extension": ".py",
   "mimetype": "text/x-python",
   "name": "python",
   "nbconvert_exporter": "python",
   "pygments_lexer": "ipython3",
   "version": "3.8.5"
  },
  "toc": {
   "base_numbering": 1,
   "nav_menu": {},
   "number_sections": true,
   "sideBar": true,
   "skip_h1_title": false,
   "title_cell": "Table of Contents",
   "title_sidebar": "Contents",
   "toc_cell": false,
   "toc_position": {},
   "toc_section_display": true,
   "toc_window_display": false
  },
  "varInspector": {
   "cols": {
    "lenName": 16,
    "lenType": 16,
    "lenVar": 40
   },
   "kernels_config": {
    "python": {
     "delete_cmd_postfix": "",
     "delete_cmd_prefix": "del ",
     "library": "var_list.py",
     "varRefreshCmd": "print(var_dic_list())"
    },
    "r": {
     "delete_cmd_postfix": ") ",
     "delete_cmd_prefix": "rm(",
     "library": "var_list.r",
     "varRefreshCmd": "cat(var_dic_list()) "
    }
   },
   "types_to_exclude": [
    "module",
    "function",
    "builtin_function_or_method",
    "instance",
    "_Feature"
   ],
   "window_display": false
  }
 },
 "nbformat": 4,
 "nbformat_minor": 4
}
